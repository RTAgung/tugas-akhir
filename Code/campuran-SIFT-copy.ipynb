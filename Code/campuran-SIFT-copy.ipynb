{
 "cells": [
  {
   "cell_type": "markdown",
   "id": "a4f194f9",
   "metadata": {
    "id": "a4f194f9"
   },
   "source": [
    "# Import Library"
   ]
  },
  {
   "cell_type": "code",
   "execution_count": 57,
   "id": "87c0a897",
   "metadata": {
    "executionInfo": {
     "elapsed": 2215,
     "status": "ok",
     "timestamp": 1648212064557,
     "user": {
      "displayName": "Rama Tri Agung",
      "photoUrl": "https://lh3.googleusercontent.com/a-/AOh14GhO5MpcihqCafTv8Tf9MUwRyHV6tO2uPdiXma2V=s64",
      "userId": "07374601175312417068"
     },
     "user_tz": -420
    },
    "id": "87c0a897"
   },
   "outputs": [],
   "source": [
    "# load data\n",
    "import os\n",
    "\n",
    "# computing\n",
    "import numpy as np\n",
    "import pandas as pd\n",
    "\n",
    "# visualization\n",
    "import matplotlib.pyplot as plt\n",
    "import seaborn as sns\n",
    "\n",
    "# feature extraction\n",
    "import cv2\n",
    "from scipy.spatial.distance import cdist\n",
    "from sklearn.cluster import KMeans\n",
    "\n",
    "# modelling\n",
    "from sklearn.preprocessing import MinMaxScaler\n",
    "from sklearn.model_selection import train_test_split\n",
    "from sklearn.svm import SVC\n",
    "from sklearn.model_selection import GridSearchCV\n",
    "\n",
    "# evalutaion\n",
    "from sklearn.metrics import classification_report, confusion_matrix, accuracy_score\n",
    "\n",
    "# load/save model\n",
    "import pickle"
   ]
  },
  {
   "cell_type": "markdown",
   "id": "3d041a7a",
   "metadata": {},
   "source": [
    "### Define common pickle method"
   ]
  },
  {
   "cell_type": "code",
   "execution_count": 58,
   "id": "72edab2e",
   "metadata": {},
   "outputs": [],
   "source": [
    "def load_file_pickle(filename):\n",
    "    file_pickle = pickle.load(open(filename, 'rb'))\n",
    "    return file_pickle\n",
    "\n",
    "def save_file_pickle(data, filename):\n",
    "    pickle.dump(data, open(filename, 'wb'))"
   ]
  },
  {
   "cell_type": "markdown",
   "id": "c18569d6",
   "metadata": {},
   "source": [
    "#### Constant variable"
   ]
  },
  {
   "cell_type": "code",
   "execution_count": 59,
   "id": "13afcbc7",
   "metadata": {},
   "outputs": [],
   "source": [
    "BOW_FILE_PICKLE = \"bow_dictionary.pkl\"\n",
    "SCALER_WS_FILE_PICKLE = \"scaler_with_sift.pkl\"\n",
    "SCALER_WOS_FILE_PICKLE = \"scaler_without_sift.pkl\"\n",
    "SVM_WS_FILE_PICKLE = \"svm_with_sift_model.pkl\"\n",
    "SVM_WOS_FILE_PICKLE = \"svm_without_sift_model.pkl\""
   ]
  },
  {
   "cell_type": "markdown",
   "id": "597f2f85",
   "metadata": {
    "id": "597f2f85"
   },
   "source": [
    "# Load Data\n",
    "\n",
    "- input: -\n",
    "- output: `raw_X, raw_y`"
   ]
  },
  {
   "cell_type": "code",
   "execution_count": 60,
   "id": "c3306d58",
   "metadata": {
    "executionInfo": {
     "elapsed": 5,
     "status": "ok",
     "timestamp": 1648212064558,
     "user": {
      "displayName": "Rama Tri Agung",
      "photoUrl": "https://lh3.googleusercontent.com/a-/AOh14GhO5MpcihqCafTv8Tf9MUwRyHV6tO2uPdiXma2V=s64",
      "userId": "07374601175312417068"
     },
     "user_tz": -420
    },
    "id": "c3306d58"
   },
   "outputs": [],
   "source": [
    "# ukurang gambar 224x224\n",
    "def import_image(file) :\n",
    "    image = cv2.imread(file)\n",
    "    image = cv2.cvtColor(image, cv2.COLOR_BGR2RGB)\n",
    "    return image\n",
    "\n",
    "def label_image(character, length) :\n",
    "    array = np.full(length, character)\n",
    "    return array\n",
    "\n",
    "def import_data(character, path) :\n",
    "    file_path = os.listdir(path)\n",
    "    images = np.array([import_image(path + '/' + file) for file in file_path])\n",
    "    label = label_image(character, len(file_path))\n",
    "    \n",
    "    return images, label"
   ]
  },
  {
   "cell_type": "code",
   "execution_count": 61,
   "id": "f0f02ffc",
   "metadata": {
    "colab": {
     "base_uri": "https://localhost:8080/"
    },
    "executionInfo": {
     "elapsed": 2631,
     "status": "ok",
     "timestamp": 1648212067185,
     "user": {
      "displayName": "Rama Tri Agung",
      "photoUrl": "https://lh3.googleusercontent.com/a-/AOh14GhO5MpcihqCafTv8Tf9MUwRyHV6tO2uPdiXma2V=s64",
      "userId": "07374601175312417068"
     },
     "user_tz": -420
    },
    "id": "f0f02ffc",
    "outputId": "d80e2c33-9158-4418-ac4d-28d95e7910ed",
    "scrolled": false
   },
   "outputs": [
    {
     "name": "stdout",
     "output_type": "stream",
     "text": [
      "Size of ba : 21\n",
      "Size of ca : 21\n",
      "Size of da : 21\n",
      "Size of dha : 21\n",
      "Size of ga : 21\n",
      "Size of ha : 21\n",
      "Size of ja : 21\n",
      "Size of ka : 21\n",
      "Size of la : 21\n",
      "Size of ma : 21\n",
      "Size of na : 21\n",
      "Size of nga : 21\n",
      "Size of nya : 21\n",
      "Size of pa : 21\n",
      "Size of ra : 21\n",
      "Size of sa : 21\n",
      "Size of ta : 21\n",
      "Size of tha : 21\n",
      "Size of wa : 21\n",
      "Size of ya : 21\n"
     ]
    }
   ],
   "source": [
    "hanacaraka = ('ba','ca','da','dha','ga','ha','ja','ka','la','ma','na','nga','nya','pa','ra','sa','ta','tha','wa','ya')\n",
    "\n",
    "raw_X = np.empty((0, 224, 224, 3), np.uint8)\n",
    "raw_y = np.empty((0))\n",
    "\n",
    "folder_path = \"../Dataset/phiard_selected/\" # for local used\n",
    "# folder_path = \"drive/MyDrive/Skripsi/Repos/Dataset/phiard_selected/\" # for drive used\n",
    "\n",
    "for character in hanacaraka:\n",
    "    dataset_path = folder_path + character\n",
    "\n",
    "    temp_X, temp_y = import_data(character, dataset_path)\n",
    "\n",
    "    print(\"Size of\", character, \":\", temp_X.shape[0])\n",
    "    \n",
    "    raw_X = np.append(raw_X, temp_X, axis=0)\n",
    "    raw_y = np.append(raw_y, temp_y, axis=0)\n"
   ]
  },
  {
   "cell_type": "code",
   "execution_count": 62,
   "id": "915ea983",
   "metadata": {
    "colab": {
     "base_uri": "https://localhost:8080/"
    },
    "executionInfo": {
     "elapsed": 8,
     "status": "ok",
     "timestamp": 1648212067186,
     "user": {
      "displayName": "Rama Tri Agung",
      "photoUrl": "https://lh3.googleusercontent.com/a-/AOh14GhO5MpcihqCafTv8Tf9MUwRyHV6tO2uPdiXma2V=s64",
      "userId": "07374601175312417068"
     },
     "user_tz": -420
    },
    "id": "915ea983",
    "outputId": "29a4aaba-face-4ba4-cd94-db52c3237c5c"
   },
   "outputs": [
    {
     "name": "stdout",
     "output_type": "stream",
     "text": [
      "Number of data: 420\n",
      "Image dimension: (224, 224, 3)\n"
     ]
    }
   ],
   "source": [
    "# Ukuran keseluruhan data\n",
    "print(\"Number of data:\", raw_X.shape[0])\n",
    "print(\"Image dimension:\", raw_X[0].shape)"
   ]
  },
  {
   "cell_type": "markdown",
   "id": "3eac7c8e",
   "metadata": {},
   "source": [
    "### Visualize Raw Data"
   ]
  },
  {
   "cell_type": "code",
   "execution_count": 63,
   "id": "27770ec6",
   "metadata": {},
   "outputs": [
    {
     "data": {
      "image/png": "[encoded data removed]",
      "text/plain": [
       "<Figure size 1152x288 with 8 Axes>"
      ]
     },
     "metadata": {
      "needs_background": "light"
     },
     "output_type": "display_data"
    }
   ],
   "source": [
    "np.random.seed(42)\n",
    "\n",
    "fig = plt.figure(figsize=(16, 4))\n",
    "columns = 8\n",
    "rows = 1\n",
    "for i in range(1, columns*rows + 1):\n",
    "    img = np.array(raw_X[np.random.randint(0, raw_X.shape[0]), :])\n",
    "    fig.add_subplot(rows, columns, i)\n",
    "    plt.imshow(img)\n",
    "    plt.axis('off')\n",
    "\n",
    "plt.show()"
   ]
  },
  {
   "cell_type": "code",
   "execution_count": 64,
   "id": "3113d3d6",
   "metadata": {},
   "outputs": [
    {
     "data": {
      "image/png": "[encoded data removed]",
      "text/plain": [
       "<Figure size 720x864 with 20 Axes>"
      ]
     },
     "metadata": {
      "needs_background": "light"
     },
     "output_type": "display_data"
    }
   ],
   "source": [
    "fig = plt.figure(figsize=(10, 12))\n",
    "columns = 4\n",
    "rows = 5\n",
    "for i in range(1, columns*rows + 1):\n",
    "    img = np.array(raw_X[i*20, :])\n",
    "    fig.add_subplot(rows, columns, i)\n",
    "    plt.imshow(img)\n",
    "    plt.axis('off')\n",
    "\n",
    "plt.show()"
   ]
  },
  {
   "cell_type": "markdown",
   "id": "8c0989ea",
   "metadata": {
    "id": "8c0989ea"
   },
   "source": [
    "# Augmantation & Preparation Data\n",
    "\n",
    "- input: `raw_X, raw_y`\n",
    "- output: `X, y`"
   ]
  },
  {
   "cell_type": "markdown",
   "id": "715480f5",
   "metadata": {},
   "source": [
    "List Augmented :\n",
    "1. Rotate 30 CCW\n",
    "2. Rotate 15 CCW + Zoom out\n",
    "3. Rotate 15 CW + Zoom out\n",
    "4. Rotate 30 CW\n",
    "5. Shear Left\n",
    "6. Shear Right\n",
    "7. Normal\n",
    "\n",
    "List Preprocessing :\n",
    "1. Resizing (192x192)\n",
    "2. Grayscaling\n",
    "3. Equalization"
   ]
  },
  {
   "cell_type": "markdown",
   "id": "a31b2f1b",
   "metadata": {},
   "source": [
    "### Augmented Method"
   ]
  },
  {
   "cell_type": "code",
   "execution_count": 65,
   "id": "953a1516",
   "metadata": {
    "executionInfo": {
     "elapsed": 394,
     "status": "ok",
     "timestamp": 1648212070221,
     "user": {
      "displayName": "Rama Tri Agung",
      "photoUrl": "https://lh3.googleusercontent.com/a-/AOh14GhO5MpcihqCafTv8Tf9MUwRyHV6tO2uPdiXma2V=s64",
      "userId": "07374601175312417068"
     },
     "user_tz": -420
    },
    "id": "953a1516"
   },
   "outputs": [],
   "source": [
    "# Augmented Method\n",
    "def rotate(img, degree):\n",
    "    (h, w) = img.shape[:2]\n",
    "    (cX, cY) = (w // 2, h // 2)\n",
    "    M = cv2.getRotationMatrix2D((cX, cY), degree, 1.0)\n",
    "    img_rotated = cv2.warpAffine(img, M, (w, h))\n",
    "    return img_rotated\n",
    "\n",
    "def zoom_out(img, zoom_scale):\n",
    "    img_zoom = np.zeros((img.shape[0], img.shape[1]), dtype=np.uint8)\n",
    "\n",
    "    h, w = img.shape[0]/zoom_scale, img.shape[1]/zoom_scale\n",
    "    h, w = int(h), int(w)\n",
    "    x, y = (img.shape[0]-w)//2, (img.shape[1]-h)//2\n",
    "    img_resize = cv2.resize(img, (h, w), interpolation = cv2.INTER_AREA)\n",
    "\n",
    "    img_zoom[x:w+x, y:h+y] = img_resize\n",
    "    return img_zoom\n",
    "\n",
    "def shear(img, x, y):\n",
    "    rows, cols = img.shape\n",
    "    M = np.float32([[1, x, 0],\n",
    "                    [y, 1, 0]])\n",
    "    sheared_img = cv2.warpAffine(img, M, (cols, rows))\n",
    "    return sheared_img"
   ]
  },
  {
   "cell_type": "markdown",
   "id": "fc7d84ad",
   "metadata": {},
   "source": [
    "### Image Preprocessing Method"
   ]
  },
  {
   "cell_type": "code",
   "execution_count": 66,
   "id": "bcecb3ab",
   "metadata": {},
   "outputs": [],
   "source": [
    "# Preprocessing Image\n",
    "def equalizing(img):\n",
    "    if (img.ndim == 3):\n",
    "        b, g, r = cv2.split(img)\n",
    "        red = cv2.equalizeHist(r)\n",
    "        green = cv2.equalizeHist(g)\n",
    "        blue = cv2.equalizeHist(b)\n",
    "        img = cv2.merge((blue, green, red))\n",
    "    else:\n",
    "        img = cv2.equalizeHist(img)\n",
    "    return img\n",
    "\n",
    "def grayscaling(image):\n",
    "    image = cv2.cvtColor(image, cv2.COLOR_RGB2GRAY)\n",
    "    return image\n",
    "\n",
    "def resizing(image, size):\n",
    "    image = cv2.resize(image, (size, size), interpolation = cv2.INTER_AREA)\n",
    "    return image"
   ]
  },
  {
   "cell_type": "code",
   "execution_count": 69,
   "id": "8b065983",
   "metadata": {
    "executionInfo": {
     "elapsed": 305,
     "status": "ok",
     "timestamp": 1648212071397,
     "user": {
      "displayName": "Rama Tri Agung",
      "photoUrl": "https://lh3.googleusercontent.com/a-/AOh14GhO5MpcihqCafTv8Tf9MUwRyHV6tO2uPdiXma2V=s64",
      "userId": "07374601175312417068"
     },
     "user_tz": -420
    },
    "id": "8b065983"
   },
   "outputs": [],
   "source": [
    "# Generate augmentation and preprocessing data\n",
    "size = 192\n",
    "def dataset_aug_generator_prep(ori_img, size):\n",
    "    ori_img = cv2.bitwise_not(ori_img)\n",
    "    ori_img = resizing(ori_img, size)\n",
    "    ori_img = grayscaling(ori_img)\n",
    "    \n",
    "    ori_img = zoom_out(ori_img, 1.15)\n",
    "    img_r_30_ccw = rotate(ori_img, 30)\n",
    "    img_r_30_cw = rotate(ori_img, -30)\n",
    "    img_r_15_ccw_z = rotate(zoom_out(ori_img, 1.3), 15)\n",
    "    img_r_15_cw_z = rotate(zoom_out(ori_img, 1.3), -15)\n",
    "    img_s_left = shear(ori_img, -0.15, -0.15)\n",
    "    img_s_right = shear(ori_img, 0.15, 0.15)\n",
    "    \n",
    "    result_aug = [ori_img, img_r_30_ccw, img_r_30_cw, img_r_15_ccw_z, img_r_15_cw_z, img_s_left, img_s_right]\n",
    "    for idx, item_img in enumerate(result_aug):\n",
    "        result_aug[idx] = cv2.bitwise_not(result_aug[idx])\n",
    "        # result_aug[idx] = equalizing(result_aug[idx])\n",
    "    return result_aug"
   ]
  },
  {
   "cell_type": "markdown",
   "id": "c28d56e5",
   "metadata": {},
   "source": [
    "#### test result image after generate augmentation and preprocessing"
   ]
  },
  {
   "cell_type": "code",
   "execution_count": 70,
   "id": "e77aab5c",
   "metadata": {
    "colab": {
     "base_uri": "https://localhost:8080/",
     "height": 140
    },
    "executionInfo": {
     "elapsed": 1370,
     "status": "ok",
     "timestamp": 1648212073146,
     "user": {
      "displayName": "Rama Tri Agung",
      "photoUrl": "https://lh3.googleusercontent.com/a-/AOh14GhO5MpcihqCafTv8Tf9MUwRyHV6tO2uPdiXma2V=s64",
      "userId": "07374601175312417068"
     },
     "user_tz": -420
    },
    "id": "e77aab5c",
    "outputId": "8f770d91-cf13-4abe-84d2-6f13b2515805"
   },
   "outputs": [
    {
     "data": {
      "image/png": "[encoded data removed]",
      "text/plain": [
       "<Figure size 1152x288 with 7 Axes>"
      ]
     },
     "metadata": {
      "needs_background": "light"
     },
     "output_type": "display_data"
    }
   ],
   "source": [
    "test_img_aug = dataset_aug_generator_prep(raw_X[0], size)\n",
    "\n",
    "fig = plt.figure(figsize=(16, 4))\n",
    "columns = 7\n",
    "rows = 1\n",
    "for i in range(1, columns*rows + 1):\n",
    "    img = test_img_aug[i-1]\n",
    "    fig.add_subplot(rows, columns, i)\n",
    "    plt.imshow(img, cmap='gray', vmin=0, vmax=255)\n",
    "    plt.axis('off')\n",
    "\n",
    "plt.show()"
   ]
  },
  {
   "cell_type": "markdown",
   "id": "64037862",
   "metadata": {},
   "source": [
    "## Generate Aug & Prep Image on All Raw Data"
   ]
  },
  {
   "cell_type": "code",
   "execution_count": 71,
   "id": "9727ec73",
   "metadata": {
    "executionInfo": {
     "elapsed": 25680,
     "status": "ok",
     "timestamp": 1648212099185,
     "user": {
      "displayName": "Rama Tri Agung",
      "photoUrl": "https://lh3.googleusercontent.com/a-/AOh14GhO5MpcihqCafTv8Tf9MUwRyHV6tO2uPdiXma2V=s64",
      "userId": "07374601175312417068"
     },
     "user_tz": -420
    },
    "id": "a988042b"
   },
   "outputs": [],
   "source": [
    "X = np.empty((0, size, size), np.uint8)\n",
    "y = np.empty((0))\n",
    "\n",
    "for idx, img in enumerate(raw_X):\n",
    "    img_aug = dataset_aug_generator_prep(img, size)\n",
    "    \n",
    "    for item_img in img_aug:\n",
    "        X = np.append(X, [item_img], axis=0)\n",
    "        y = np.append(y, [raw_y[idx]], axis=0)"
   ]
  },
  {
   "cell_type": "code",
   "execution_count": 72,
   "id": "dcb66785",
   "metadata": {
    "colab": {
     "base_uri": "https://localhost:8080/"
    },
    "executionInfo": {
     "elapsed": 7,
     "status": "ok",
     "timestamp": 1648212099186,
     "user": {
      "displayName": "Rama Tri Agung",
      "photoUrl": "https://lh3.googleusercontent.com/a-/AOh14GhO5MpcihqCafTv8Tf9MUwRyHV6tO2uPdiXma2V=s64",
      "userId": "07374601175312417068"
     },
     "user_tz": -420
    },
    "id": "dcb66785",
    "outputId": "cfa37274-95a8-4910-cd37-c86f5729ad31"
   },
   "outputs": [
    {
     "name": "stdout",
     "output_type": "stream",
     "text": [
      "Result X data dimension: (2940, 192, 192)\n",
      "Result y data dimension: (2940,)\n"
     ]
    }
   ],
   "source": [
    "print(\"Result X data dimension:\", X.shape)\n",
    "print(\"Result y data dimension:\", y.shape)"
   ]
  },
  {
   "cell_type": "markdown",
   "id": "be0b8d89",
   "metadata": {},
   "source": [
    "### Visualize Result Data"
   ]
  },
  {
   "cell_type": "code",
   "execution_count": 73,
   "id": "dad58e22",
   "metadata": {
    "colab": {
     "base_uri": "https://localhost:8080/",
     "height": 244
    },
    "executionInfo": {
     "elapsed": 974,
     "status": "ok",
     "timestamp": 1648212100155,
     "user": {
      "displayName": "Rama Tri Agung",
      "photoUrl": "https://lh3.googleusercontent.com/a-/AOh14GhO5MpcihqCafTv8Tf9MUwRyHV6tO2uPdiXma2V=s64",
      "userId": "07374601175312417068"
     },
     "user_tz": -420
    },
    "id": "dad58e22",
    "outputId": "f1c45b6a-2a6e-4021-84be-7e734c564a4a"
   },
   "outputs": [
    {
     "data": {
      "image/png": "[encoded data removed]",
      "text/plain": [
       "<Figure size 1152x288 with 8 Axes>"
      ]
     },
     "metadata": {
      "needs_background": "light"
     },
     "output_type": "display_data"
    }
   ],
   "source": [
    "np.random.seed(42)\n",
    "\n",
    "fig = plt.figure(figsize=(16, 4))\n",
    "columns = 8\n",
    "rows = 1\n",
    "for i in range(1, columns*rows + 1):\n",
    "    img = np.array(X[np.random.randint(0, X.shape[0]), :])\n",
    "    fig.add_subplot(rows, columns, i)\n",
    "    plt.imshow(img, cmap='gray', vmin=0, vmax=255)\n",
    "    plt.axis('off')\n",
    "\n",
    "plt.show()"
   ]
  },
  {
   "cell_type": "markdown",
   "id": "3f7f207b",
   "metadata": {
    "id": "3f7f207b"
   },
   "source": [
    "# Feature Extraction\n",
    "\n",
    "- input: `X`\n",
    "- output: `X_feature`"
   ]
  },
  {
   "cell_type": "markdown",
   "id": "6e1cb034",
   "metadata": {
    "id": "6e1cb034"
   },
   "source": [
    "### Extract SIFT Descriptors "
   ]
  },
  {
   "cell_type": "code",
   "execution_count": 74,
   "id": "29ceac16",
   "metadata": {
    "executionInfo": {
     "elapsed": 498,
     "status": "ok",
     "timestamp": 1648212100644,
     "user": {
      "displayName": "Rama Tri Agung",
      "photoUrl": "https://lh3.googleusercontent.com/a-/AOh14GhO5MpcihqCafTv8Tf9MUwRyHV6tO2uPdiXma2V=s64",
      "userId": "07374601175312417068"
     },
     "user_tz": -420
    },
    "id": "29ceac16"
   },
   "outputs": [],
   "source": [
    "def extract_sift_features(list_image):\n",
    "    image_descriptors = []\n",
    "    sift = cv2.SIFT_create()\n",
    "    for image in list_image:\n",
    "        _, descriptor = sift.detectAndCompute(image, None)\n",
    "        image_descriptors.append(descriptor)\n",
    "\n",
    "    return image_descriptors\n",
    "\n",
    "def combine_all_descriptors(image_descriptors):\n",
    "    all_descriptors = []\n",
    "    for descriptor in image_descriptors:\n",
    "        if descriptor is not None:\n",
    "            for des in descriptor:\n",
    "                all_descriptors.append(des)\n",
    "    \n",
    "    return np.array(all_descriptors)"
   ]
  },
  {
   "cell_type": "code",
   "execution_count": 75,
   "id": "d50539d0",
   "metadata": {
    "executionInfo": {
     "elapsed": 20918,
     "status": "ok",
     "timestamp": 1648212121560,
     "user": {
      "displayName": "Rama Tri Agung",
      "photoUrl": "https://lh3.googleusercontent.com/a-/AOh14GhO5MpcihqCafTv8Tf9MUwRyHV6tO2uPdiXma2V=s64",
      "userId": "07374601175312417068"
     },
     "user_tz": -420
    },
    "id": "d50539d0"
   },
   "outputs": [],
   "source": [
    "image_descriptors = extract_sift_features(X)"
   ]
  },
  {
   "cell_type": "code",
   "execution_count": 76,
   "id": "53a20fc4",
   "metadata": {
    "colab": {
     "base_uri": "https://localhost:8080/"
    },
    "executionInfo": {
     "elapsed": 14,
     "status": "ok",
     "timestamp": 1648212121561,
     "user": {
      "displayName": "Rama Tri Agung",
      "photoUrl": "https://lh3.googleusercontent.com/a-/AOh14GhO5MpcihqCafTv8Tf9MUwRyHV6tO2uPdiXma2V=s64",
      "userId": "07374601175312417068"
     },
     "user_tz": -420
    },
    "id": "53a20fc4",
    "outputId": "62cb7002-248b-4204-c394-0fd05ab5e590",
    "scrolled": true
   },
   "outputs": [
    {
     "name": "stdout",
     "output_type": "stream",
     "text": [
      "Number of keypoint descriptor: (170510, 128)\n"
     ]
    }
   ],
   "source": [
    "all_descriptors = combine_all_descriptors(image_descriptors)\n",
    "print(\"Number of keypoint descriptor:\", all_descriptors.shape)"
   ]
  },
  {
   "cell_type": "markdown",
   "id": "4b9c46d6",
   "metadata": {
    "id": "4b9c46d6"
   },
   "source": [
    "### Create BOW of Descriptor Using Cluster"
   ]
  },
  {
   "cell_type": "code",
   "execution_count": 88,
   "id": "86c97bff",
   "metadata": {
    "executionInfo": {
     "elapsed": 10,
     "status": "ok",
     "timestamp": 1648212121561,
     "user": {
      "displayName": "Rama Tri Agung",
      "photoUrl": "https://lh3.googleusercontent.com/a-/AOh14GhO5MpcihqCafTv8Tf9MUwRyHV6tO2uPdiXma2V=s64",
      "userId": "07374601175312417068"
     },
     "user_tz": -420
    },
    "id": "86c97bff"
   },
   "outputs": [],
   "source": [
    "def kmeans_bow(all_descriptors, num_cluster):\n",
    "    # if not os.path.isfile(BOW_FILE_PICKLE):\n",
    "    kmeans = KMeans(n_clusters = num_cluster, verbose=1, random_state=42)\n",
    "    kmeans.fit(all_descriptors)\n",
    "\n",
    "    bow_dict = kmeans.cluster_centers_\n",
    "            \n",
    "    save_file_pickle(bow_dict, BOW_FILE_PICKLE)\n",
    "    # else:\n",
    "        # bow_dict = load_file_pickle(BOW_FILE_PICKLE)\n",
    "\n",
    "    return bow_dict"
   ]
  },
  {
   "cell_type": "code",
   "execution_count": 89,
   "id": "92cd2d55",
   "metadata": {
    "colab": {
     "base_uri": "https://localhost:8080/"
    },
    "executionInfo": {
     "elapsed": 1100418,
     "status": "ok",
     "timestamp": 1648213221969,
     "user": {
      "displayName": "Rama Tri Agung",
      "photoUrl": "https://lh3.googleusercontent.com/a-/AOh14GhO5MpcihqCafTv8Tf9MUwRyHV6tO2uPdiXma2V=s64",
      "userId": "07374601175312417068"
     },
     "user_tz": -420
    },
    "id": "92cd2d55",
    "outputId": "75c6186c-1558-4e16-e9ad-0672767c0f4b",
    "scrolled": true
   },
   "outputs": [
    {
     "name": "stdout",
     "output_type": "stream",
     "text": [
      "Initialization complete\n",
      "Iteration 0, inertia 2014017792.0\n",
      "Iteration 1, inertia 1530915200.0\n",
      "Iteration 2, inertia 1492689152.0\n",
      "Iteration 3, inertia 1477070336.0\n",
      "Iteration 4, inertia 1468127360.0\n",
      "Iteration 5, inertia 1462915072.0\n",
      "Iteration 6, inertia 1459487488.0\n",
      "Iteration 7, inertia 1456867712.0\n",
      "Iteration 8, inertia 1454687104.0\n",
      "Iteration 9, inertia 1452916608.0\n",
      "Iteration 10, inertia 1451437824.0\n",
      "Iteration 11, inertia 1449965824.0\n",
      "Iteration 12, inertia 1448750080.0\n",
      "Iteration 13, inertia 1447511936.0\n",
      "Iteration 14, inertia 1446293120.0\n",
      "Iteration 15, inertia 1444825984.0\n",
      "Iteration 16, inertia 1443446016.0\n",
      "Iteration 17, inertia 1442418176.0\n",
      "Iteration 18, inertia 1441513728.0\n",
      "Iteration 19, inertia 1440811904.0\n",
      "Iteration 20, inertia 1440276096.0\n",
      "Iteration 21, inertia 1439861248.0\n",
      "Iteration 22, inertia 1439565568.0\n",
      "Iteration 23, inertia 1439338112.0\n",
      "Iteration 24, inertia 1439151104.0\n",
      "Iteration 25, inertia 1438991488.0\n",
      "Iteration 26, inertia 1438830720.0\n",
      "Iteration 27, inertia 1438599936.0\n",
      "Iteration 28, inertia 1438382464.0\n",
      "Iteration 29, inertia 1438245504.0\n",
      "Iteration 30, inertia 1438127488.0\n",
      "Iteration 31, inertia 1438000000.0\n",
      "Iteration 32, inertia 1437893888.0\n",
      "Iteration 33, inertia 1437793792.0\n",
      "Iteration 34, inertia 1437688704.0\n",
      "Iteration 35, inertia 1437567360.0\n",
      "Iteration 36, inertia 1437434496.0\n",
      "Iteration 37, inertia 1437321344.0\n",
      "Iteration 38, inertia 1437218816.0\n",
      "Iteration 39, inertia 1437107712.0\n",
      "Iteration 40, inertia 1437008512.0\n",
      "Iteration 41, inertia 1436923136.0\n",
      "Iteration 42, inertia 1436842368.0\n",
      "Iteration 43, inertia 1436754560.0\n",
      "Iteration 44, inertia 1436662528.0\n",
      "Iteration 45, inertia 1436577152.0\n",
      "Iteration 46, inertia 1436514048.0\n",
      "Iteration 47, inertia 1436460416.0\n",
      "Iteration 48, inertia 1436413952.0\n",
      "Iteration 49, inertia 1436373760.0\n",
      "Iteration 50, inertia 1436331008.0\n",
      "Iteration 51, inertia 1436299008.0\n",
      "Iteration 52, inertia 1436267008.0\n",
      "Iteration 53, inertia 1436233472.0\n",
      "Iteration 54, inertia 1436212736.0\n",
      "Iteration 55, inertia 1436193280.0\n",
      "Iteration 56, inertia 1436178944.0\n",
      "Iteration 57, inertia 1436165248.0\n",
      "Iteration 58, inertia 1436149504.0\n",
      "Iteration 59, inertia 1436134016.0\n",
      "Iteration 60, inertia 1436118016.0\n",
      "Iteration 61, inertia 1436106368.0\n",
      "Iteration 62, inertia 1436096256.0\n",
      "Iteration 63, inertia 1436083712.0\n",
      "Iteration 64, inertia 1436073216.0\n",
      "Iteration 65, inertia 1436064640.0\n",
      "Iteration 66, inertia 1436052480.0\n",
      "Iteration 67, inertia 1436041984.0\n",
      "Iteration 68, inertia 1436028544.0\n",
      "Iteration 69, inertia 1436018816.0\n",
      "Iteration 70, inertia 1436007296.0\n",
      "Iteration 71, inertia 1435998976.0\n",
      "Iteration 72, inertia 1435990272.0\n",
      "Iteration 73, inertia 1435977984.0\n",
      "Iteration 74, inertia 1435955840.0\n",
      "Iteration 75, inertia 1435941248.0\n",
      "Iteration 76, inertia 1435928576.0\n",
      "Iteration 77, inertia 1435920000.0\n",
      "Iteration 78, inertia 1435910912.0\n",
      "Iteration 79, inertia 1435904000.0\n",
      "Iteration 80, inertia 1435899008.0\n",
      "Iteration 81, inertia 1435896192.0\n",
      "Iteration 82, inertia 1435892608.0\n",
      "Iteration 83, inertia 1435888768.0\n",
      "Iteration 84, inertia 1435885184.0\n",
      "Iteration 85, inertia 1435879168.0\n",
      "Iteration 86, inertia 1435872512.0\n",
      "Iteration 87, inertia 1435865344.0\n",
      "Iteration 88, inertia 1435860096.0\n",
      "Iteration 89, inertia 1435855360.0\n",
      "Iteration 90, inertia 1435852288.0\n",
      "Iteration 91, inertia 1435847680.0\n",
      "Iteration 92, inertia 1435845120.0\n",
      "Iteration 93, inertia 1435841792.0\n",
      "Iteration 94, inertia 1435838720.0\n",
      "Iteration 95, inertia 1435836288.0\n",
      "Iteration 96, inertia 1435834624.0\n",
      "Iteration 97, inertia 1435832960.0\n",
      "Iteration 98, inertia 1435832192.0\n",
      "Iteration 99, inertia 1435830912.0\n",
      "Iteration 100, inertia 1435829376.0\n",
      "Iteration 101, inertia 1435828480.0\n",
      "Iteration 102, inertia 1435827456.0\n",
      "Iteration 103, inertia 1435827328.0\n",
      "Iteration 104, inertia 1435826304.0\n",
      "Iteration 105, inertia 1435825920.0\n",
      "Iteration 106, inertia 1435825664.0\n",
      "Iteration 107, inertia 1435823616.0\n",
      "Iteration 108, inertia 1435824384.0\n",
      "Iteration 109, inertia 1435823360.0\n",
      "Iteration 110, inertia 1435823104.0\n",
      "Iteration 111, inertia 1435822848.0\n",
      "Iteration 112, inertia 1435822720.0\n",
      "Iteration 113, inertia 1435821696.0\n",
      "Iteration 114, inertia 1435820928.0\n",
      "Iteration 115, inertia 1435820672.0\n",
      "Iteration 116, inertia 1435819776.0\n",
      "Iteration 117, inertia 1435819648.0\n",
      "Iteration 118, inertia 1435819136.0\n",
      "Iteration 119, inertia 1435818624.0\n",
      "Iteration 120, inertia 1435817216.0\n",
      "Iteration 121, inertia 1435817600.0\n",
      "Converged at iteration 121: center shift 0.07066096365451813 within tolerance 0.08671693115234376.\n",
      "Initialization complete\n",
      "Iteration 0, inertia 1992984832.0\n",
      "Iteration 1, inertia 1519497472.0\n",
      "Iteration 2, inertia 1486524544.0\n",
      "Iteration 3, inertia 1472733824.0\n",
      "Iteration 4, inertia 1464954880.0\n",
      "Iteration 5, inertia 1459627520.0\n",
      "Iteration 6, inertia 1455621888.0\n",
      "Iteration 7, inertia 1452678272.0\n",
      "Iteration 8, inertia 1450395648.0\n",
      "Iteration 9, inertia 1448568192.0\n",
      "Iteration 10, inertia 1447070336.0\n",
      "Iteration 11, inertia 1445765376.0\n",
      "Iteration 12, inertia 1444769664.0\n",
      "Iteration 13, inertia 1444056960.0\n",
      "Iteration 14, inertia 1443540736.0\n",
      "Iteration 15, inertia 1443074176.0\n",
      "Iteration 16, inertia 1442634112.0\n",
      "Iteration 17, inertia 1442244992.0\n",
      "Iteration 18, inertia 1441863040.0\n",
      "Iteration 19, inertia 1441490048.0\n",
      "Iteration 20, inertia 1441144576.0\n",
      "Iteration 21, inertia 1440779776.0\n",
      "Iteration 22, inertia 1440474368.0\n",
      "Iteration 23, inertia 1440266752.0\n",
      "Iteration 24, inertia 1440075648.0\n",
      "Iteration 25, inertia 1439882752.0\n",
      "Iteration 26, inertia 1439741184.0\n",
      "Iteration 27, inertia 1439622400.0\n",
      "Iteration 28, inertia 1439513216.0\n",
      "Iteration 29, inertia 1439401344.0\n",
      "Iteration 30, inertia 1439295360.0\n",
      "Iteration 31, inertia 1439223808.0\n",
      "Iteration 32, inertia 1439154688.0\n",
      "Iteration 33, inertia 1439068544.0\n",
      "Iteration 34, inertia 1438969728.0\n",
      "Iteration 35, inertia 1438880256.0\n",
      "Iteration 36, inertia 1438799616.0\n",
      "Iteration 37, inertia 1438727168.0\n",
      "Iteration 38, inertia 1438650880.0\n",
      "Iteration 39, inertia 1438567936.0\n",
      "Iteration 40, inertia 1438514176.0\n",
      "Iteration 41, inertia 1438484224.0\n",
      "Iteration 42, inertia 1438458368.0\n",
      "Iteration 43, inertia 1438440576.0\n",
      "Iteration 44, inertia 1438425344.0\n",
      "Iteration 45, inertia 1438412544.0\n",
      "Iteration 46, inertia 1438401664.0\n",
      "Iteration 47, inertia 1438391680.0\n",
      "Iteration 48, inertia 1438379904.0\n",
      "Iteration 49, inertia 1438370816.0\n",
      "Iteration 50, inertia 1438364928.0\n",
      "Iteration 51, inertia 1438360576.0\n",
      "Iteration 52, inertia 1438356224.0\n",
      "Iteration 53, inertia 1438352128.0\n",
      "Iteration 54, inertia 1438348544.0\n",
      "Iteration 55, inertia 1438344832.0\n",
      "Iteration 56, inertia 1438340736.0\n",
      "Iteration 57, inertia 1438336512.0\n",
      "Iteration 58, inertia 1438333056.0\n",
      "Iteration 59, inertia 1438330368.0\n",
      "Iteration 60, inertia 1438328192.0\n",
      "Iteration 61, inertia 1438327680.0\n",
      "Iteration 62, inertia 1438326272.0\n",
      "Iteration 63, inertia 1438324352.0\n",
      "Iteration 64, inertia 1438322432.0\n",
      "Iteration 65, inertia 1438321152.0\n",
      "Iteration 66, inertia 1438319104.0\n",
      "Iteration 67, inertia 1438316800.0\n",
      "Iteration 68, inertia 1438314624.0\n",
      "Iteration 69, inertia 1438311808.0\n",
      "Iteration 70, inertia 1438310016.0\n",
      "Iteration 71, inertia 1438306944.0\n",
      "Iteration 72, inertia 1438304000.0\n",
      "Iteration 73, inertia 1438301312.0\n",
      "Iteration 74, inertia 1438299264.0\n",
      "Iteration 75, inertia 1438294656.0\n",
      "Iteration 76, inertia 1438290944.0\n",
      "Iteration 77, inertia 1438287744.0\n",
      "Iteration 78, inertia 1438284544.0\n",
      "Iteration 79, inertia 1438281728.0\n",
      "Iteration 80, inertia 1438279552.0\n",
      "Iteration 81, inertia 1438276352.0\n",
      "Iteration 82, inertia 1438273024.0\n",
      "Iteration 83, inertia 1438270080.0\n",
      "Iteration 84, inertia 1438268928.0\n",
      "Iteration 85, inertia 1438267008.0\n",
      "Iteration 86, inertia 1438264448.0\n",
      "Iteration 87, inertia 1438262784.0\n",
      "Iteration 88, inertia 1438259456.0\n",
      "Iteration 89, inertia 1438257792.0\n",
      "Iteration 90, inertia 1438258688.0\n",
      "Iteration 91, inertia 1438257280.0\n",
      "Iteration 92, inertia 1438256128.0\n",
      "Iteration 93, inertia 1438254976.0\n",
      "Iteration 94, inertia 1438253952.0\n",
      "Iteration 95, inertia 1438253056.0\n",
      "Iteration 96, inertia 1438252288.0\n",
      "Iteration 97, inertia 1438252160.0\n",
      "Iteration 98, inertia 1438252416.0\n",
      "Iteration 99, inertia 1438251392.0\n",
      "Iteration 100, inertia 1438250880.0\n",
      "Iteration 101, inertia 1438250752.0\n",
      "Iteration 102, inertia 1438249344.0\n",
      "Iteration 103, inertia 1438248960.0\n",
      "Iteration 104, inertia 1438248576.0\n",
      "Iteration 105, inertia 1438247808.0\n",
      "Iteration 106, inertia 1438247424.0\n",
      "Iteration 107, inertia 1438246912.0\n",
      "Iteration 108, inertia 1438246528.0\n",
      "Iteration 109, inertia 1438245760.0\n",
      "Converged at iteration 109: center shift 0.07680398225784302 within tolerance 0.08671693115234376.\n",
      "Initialization complete\n",
      "Iteration 0, inertia 2008378112.0\n",
      "Iteration 1, inertia 1522036480.0\n",
      "Iteration 2, inertia 1485508480.0\n",
      "Iteration 3, inertia 1471417344.0\n",
      "Iteration 4, inertia 1463139712.0\n",
      "Iteration 5, inertia 1457616000.0\n",
      "Iteration 6, inertia 1453803648.0\n",
      "Iteration 7, inertia 1450886656.0\n",
      "Iteration 8, inertia 1448281344.0\n",
      "Iteration 9, inertia 1446129664.0\n",
      "Iteration 10, inertia 1444332544.0\n",
      "Iteration 11, inertia 1442979968.0\n",
      "Iteration 12, inertia 1441751424.0\n",
      "Iteration 13, inertia 1440545280.0\n",
      "Iteration 14, inertia 1439607168.0\n",
      "Iteration 15, inertia 1438683776.0\n",
      "Iteration 16, inertia 1438037888.0\n",
      "Iteration 17, inertia 1437601280.0\n",
      "Iteration 18, inertia 1437248512.0\n",
      "Iteration 19, inertia 1436912384.0\n",
      "Iteration 20, inertia 1436641024.0\n",
      "Iteration 21, inertia 1436420736.0\n",
      "Iteration 22, inertia 1436250112.0\n",
      "Iteration 23, inertia 1436106624.0\n",
      "Iteration 24, inertia 1435964544.0\n",
      "Iteration 25, inertia 1435848448.0\n",
      "Iteration 26, inertia 1435741184.0\n",
      "Iteration 27, inertia 1435632512.0\n",
      "Iteration 28, inertia 1435537408.0\n",
      "Iteration 29, inertia 1435455744.0\n",
      "Iteration 30, inertia 1435374464.0\n",
      "Iteration 31, inertia 1435292160.0\n",
      "Iteration 32, inertia 1435220608.0\n",
      "Iteration 33, inertia 1435134592.0\n",
      "Iteration 34, inertia 1435078784.0\n",
      "Iteration 35, inertia 1435042944.0\n",
      "Iteration 36, inertia 1435019392.0\n",
      "Iteration 37, inertia 1435002240.0\n",
      "Iteration 38, inertia 1434988672.0\n",
      "Iteration 39, inertia 1434963968.0\n",
      "Iteration 40, inertia 1434941824.0\n",
      "Iteration 41, inertia 1434931072.0\n",
      "Iteration 42, inertia 1434921728.0\n",
      "Iteration 43, inertia 1434913920.0\n",
      "Iteration 44, inertia 1434906496.0\n",
      "Iteration 45, inertia 1434898560.0\n",
      "Iteration 46, inertia 1434888448.0\n",
      "Iteration 47, inertia 1434880384.0\n",
      "Iteration 48, inertia 1434872960.0\n",
      "Iteration 49, inertia 1434865152.0\n",
      "Iteration 50, inertia 1434857600.0\n",
      "Iteration 51, inertia 1434850944.0\n",
      "Iteration 52, inertia 1434844032.0\n",
      "Iteration 53, inertia 1434837632.0\n",
      "Iteration 54, inertia 1434830592.0\n",
      "Iteration 55, inertia 1434823168.0\n",
      "Iteration 56, inertia 1434817792.0\n",
      "Iteration 57, inertia 1434811136.0\n",
      "Iteration 58, inertia 1434803328.0\n",
      "Iteration 59, inertia 1434793344.0\n",
      "Iteration 60, inertia 1434780800.0\n",
      "Iteration 61, inertia 1434771328.0\n",
      "Iteration 62, inertia 1434761984.0\n",
      "Iteration 63, inertia 1434752000.0\n",
      "Iteration 64, inertia 1434741248.0\n",
      "Iteration 65, inertia 1434731520.0\n",
      "Iteration 66, inertia 1434722560.0\n",
      "Iteration 67, inertia 1434713984.0\n",
      "Iteration 68, inertia 1434705280.0\n",
      "Iteration 69, inertia 1434699776.0\n",
      "Iteration 70, inertia 1434693120.0\n",
      "Iteration 71, inertia 1434686208.0\n",
      "Iteration 72, inertia 1434681344.0\n",
      "Iteration 73, inertia 1434675968.0\n",
      "Iteration 74, inertia 1434667136.0\n",
      "Iteration 75, inertia 1434657664.0\n",
      "Iteration 76, inertia 1434646912.0\n",
      "Iteration 77, inertia 1434640768.0\n",
      "Iteration 78, inertia 1434635136.0\n",
      "Iteration 79, inertia 1434631936.0\n",
      "Iteration 80, inertia 1434630400.0\n",
      "Iteration 81, inertia 1434624640.0\n",
      "Iteration 82, inertia 1434620928.0\n",
      "Iteration 83, inertia 1434615424.0\n",
      "Iteration 84, inertia 1434609664.0\n",
      "Iteration 85, inertia 1434603008.0\n",
      "Iteration 86, inertia 1434598656.0\n",
      "Iteration 87, inertia 1434595712.0\n",
      "Iteration 88, inertia 1434594816.0\n",
      "Iteration 89, inertia 1434593536.0\n",
      "Iteration 90, inertia 1434592512.0\n",
      "Iteration 91, inertia 1434590848.0\n",
      "Iteration 92, inertia 1434588544.0\n",
      "Iteration 93, inertia 1434586496.0\n",
      "Iteration 94, inertia 1434582912.0\n",
      "Iteration 95, inertia 1434577664.0\n",
      "Iteration 96, inertia 1434570880.0\n",
      "Iteration 97, inertia 1434566016.0\n",
      "Iteration 98, inertia 1434561152.0\n",
      "Iteration 99, inertia 1434555904.0\n",
      "Iteration 100, inertia 1434552320.0\n",
      "Iteration 101, inertia 1434550528.0\n",
      "Iteration 102, inertia 1434549888.0\n",
      "Iteration 103, inertia 1434549504.0\n",
      "Iteration 104, inertia 1434548864.0\n",
      "Iteration 105, inertia 1434547584.0\n",
      "Iteration 106, inertia 1434547200.0\n",
      "Iteration 107, inertia 1434547328.0\n",
      "Iteration 108, inertia 1434546688.0\n",
      "Iteration 109, inertia 1434545920.0\n",
      "Iteration 110, inertia 1434545792.0\n",
      "Iteration 111, inertia 1434545408.0\n",
      "Iteration 112, inertia 1434545280.0\n",
      "Iteration 113, inertia 1434545408.0\n",
      "Converged at iteration 113: center shift 0.08150395005941391 within tolerance 0.08671693115234376.\n",
      "Initialization complete\n",
      "Iteration 0, inertia 2008617472.0\n",
      "Iteration 1, inertia 1524210944.0\n",
      "Iteration 2, inertia 1487641600.0\n",
      "Iteration 3, inertia 1472829312.0\n",
      "Iteration 4, inertia 1464792576.0\n",
      "Iteration 5, inertia 1459759488.0\n",
      "Iteration 6, inertia 1456046720.0\n",
      "Iteration 7, inertia 1453123712.0\n",
      "Iteration 8, inertia 1450861312.0\n",
      "Iteration 9, inertia 1448980480.0\n",
      "Iteration 10, inertia 1447469440.0\n",
      "Iteration 11, inertia 1446230656.0\n",
      "Iteration 12, inertia 1445233152.0\n",
      "Iteration 13, inertia 1444399744.0\n",
      "Iteration 14, inertia 1443702656.0\n",
      "Iteration 15, inertia 1443098624.0\n",
      "Iteration 16, inertia 1442480896.0\n",
      "Iteration 17, inertia 1441971456.0\n",
      "Iteration 18, inertia 1441517568.0\n",
      "Iteration 19, inertia 1441145088.0\n",
      "Iteration 20, inertia 1440796416.0\n",
      "Iteration 21, inertia 1440485504.0\n",
      "Iteration 22, inertia 1440223616.0\n",
      "Iteration 23, inertia 1439983360.0\n",
      "Iteration 24, inertia 1439764992.0\n",
      "Iteration 25, inertia 1439595136.0\n",
      "Iteration 26, inertia 1439413248.0\n",
      "Iteration 27, inertia 1439236992.0\n",
      "Iteration 28, inertia 1439054848.0\n",
      "Iteration 29, inertia 1438891648.0\n",
      "Iteration 30, inertia 1438756736.0\n",
      "Iteration 31, inertia 1438647808.0\n",
      "Iteration 32, inertia 1438554240.0\n",
      "Iteration 33, inertia 1438478720.0\n",
      "Iteration 34, inertia 1438423296.0\n",
      "Iteration 35, inertia 1438366336.0\n",
      "Iteration 36, inertia 1438306688.0\n",
      "Iteration 37, inertia 1438241920.0\n",
      "Iteration 38, inertia 1438190336.0\n",
      "Iteration 39, inertia 1438138496.0\n",
      "Iteration 40, inertia 1438081664.0\n",
      "Iteration 41, inertia 1438037888.0\n",
      "Iteration 42, inertia 1437993472.0\n",
      "Iteration 43, inertia 1437944704.0\n",
      "Iteration 44, inertia 1437893376.0\n",
      "Iteration 45, inertia 1437846272.0\n",
      "Iteration 46, inertia 1437793280.0\n",
      "Iteration 47, inertia 1437744256.0\n",
      "Iteration 48, inertia 1437707648.0\n",
      "Iteration 49, inertia 1437673600.0\n",
      "Iteration 50, inertia 1437645056.0\n",
      "Iteration 51, inertia 1437622400.0\n",
      "Iteration 52, inertia 1437602688.0\n",
      "Iteration 53, inertia 1437585792.0\n",
      "Iteration 54, inertia 1437565056.0\n",
      "Iteration 55, inertia 1437550464.0\n",
      "Iteration 56, inertia 1437531008.0\n",
      "Iteration 57, inertia 1437512064.0\n",
      "Iteration 58, inertia 1437495936.0\n",
      "Iteration 59, inertia 1437480192.0\n",
      "Iteration 60, inertia 1437467648.0\n",
      "Iteration 61, inertia 1437456384.0\n",
      "Iteration 62, inertia 1437443200.0\n",
      "Iteration 63, inertia 1437427840.0\n",
      "Iteration 64, inertia 1437415040.0\n",
      "Iteration 65, inertia 1437403008.0\n",
      "Iteration 66, inertia 1437395456.0\n",
      "Iteration 67, inertia 1437388800.0\n",
      "Iteration 68, inertia 1437385216.0\n",
      "Iteration 69, inertia 1437382144.0\n",
      "Iteration 70, inertia 1437378432.0\n",
      "Iteration 71, inertia 1437373312.0\n",
      "Iteration 72, inertia 1437370112.0\n",
      "Iteration 73, inertia 1437368448.0\n",
      "Iteration 74, inertia 1437364992.0\n",
      "Iteration 75, inertia 1437361664.0\n",
      "Iteration 76, inertia 1437357824.0\n",
      "Iteration 77, inertia 1437353728.0\n",
      "Iteration 78, inertia 1437349888.0\n",
      "Iteration 79, inertia 1437344768.0\n",
      "Iteration 80, inertia 1437339392.0\n",
      "Iteration 81, inertia 1437334784.0\n",
      "Iteration 82, inertia 1437330304.0\n",
      "Iteration 83, inertia 1437323264.0\n",
      "Iteration 84, inertia 1437319040.0\n",
      "Iteration 85, inertia 1437315456.0\n",
      "Iteration 86, inertia 1437309568.0\n",
      "Iteration 87, inertia 1437303296.0\n",
      "Iteration 88, inertia 1437298560.0\n",
      "Iteration 89, inertia 1437294208.0\n",
      "Iteration 90, inertia 1437289728.0\n",
      "Iteration 91, inertia 1437285248.0\n",
      "Iteration 92, inertia 1437281408.0\n",
      "Iteration 93, inertia 1437273344.0\n",
      "Iteration 94, inertia 1437265536.0\n",
      "Iteration 95, inertia 1437258496.0\n",
      "Iteration 96, inertia 1437251968.0\n",
      "Iteration 97, inertia 1437244416.0\n",
      "Iteration 98, inertia 1437234816.0\n",
      "Iteration 99, inertia 1437227136.0\n",
      "Iteration 100, inertia 1437219200.0\n",
      "Iteration 101, inertia 1437210752.0\n",
      "Iteration 102, inertia 1437203072.0\n",
      "Iteration 103, inertia 1437194496.0\n",
      "Iteration 104, inertia 1437185024.0\n",
      "Iteration 105, inertia 1437177216.0\n",
      "Iteration 106, inertia 1437166208.0\n",
      "Iteration 107, inertia 1437158272.0\n",
      "Iteration 108, inertia 1437153152.0\n",
      "Iteration 109, inertia 1437148288.0\n",
      "Iteration 110, inertia 1437143808.0\n",
      "Iteration 111, inertia 1437138048.0\n",
      "Iteration 112, inertia 1437130624.0\n",
      "Iteration 113, inertia 1437123072.0\n",
      "Iteration 114, inertia 1437117056.0\n",
      "Iteration 115, inertia 1437110272.0\n",
      "Iteration 116, inertia 1437104640.0\n",
      "Iteration 117, inertia 1437097984.0\n",
      "Iteration 118, inertia 1437091968.0\n",
      "Iteration 119, inertia 1437084544.0\n",
      "Iteration 120, inertia 1437078272.0\n",
      "Iteration 121, inertia 1437070336.0\n",
      "Iteration 122, inertia 1437062528.0\n",
      "Iteration 123, inertia 1437055360.0\n",
      "Iteration 124, inertia 1437049088.0\n",
      "Iteration 125, inertia 1437043200.0\n",
      "Iteration 126, inertia 1437038336.0\n",
      "Iteration 127, inertia 1437033856.0\n",
      "Iteration 128, inertia 1437031168.0\n",
      "Iteration 129, inertia 1437027584.0\n",
      "Iteration 130, inertia 1437025152.0\n",
      "Iteration 131, inertia 1437022208.0\n",
      "Iteration 132, inertia 1437019648.0\n",
      "Iteration 133, inertia 1437018880.0\n",
      "Iteration 134, inertia 1437017984.0\n",
      "Iteration 135, inertia 1437016064.0\n",
      "Iteration 136, inertia 1437014528.0\n",
      "Iteration 137, inertia 1437013376.0\n",
      "Iteration 138, inertia 1437012736.0\n",
      "Iteration 139, inertia 1437011968.0\n",
      "Iteration 140, inertia 1437010560.0\n",
      "Iteration 141, inertia 1437010816.0\n",
      "Iteration 142, inertia 1437010432.0\n",
      "Iteration 143, inertia 1437009664.0\n",
      "Iteration 144, inertia 1437009408.0\n",
      "Iteration 145, inertia 1437008640.0\n",
      "Iteration 146, inertia 1437007872.0\n",
      "Iteration 147, inertia 1437007744.0\n",
      "Iteration 148, inertia 1437007104.0\n",
      "Iteration 149, inertia 1437006848.0\n",
      "Iteration 150, inertia 1437006592.0\n",
      "Iteration 151, inertia 1437006080.0\n",
      "Iteration 152, inertia 1437005824.0\n",
      "Iteration 153, inertia 1437005824.0\n",
      "Iteration 154, inertia 1437004800.0\n",
      "Iteration 155, inertia 1437003520.0\n",
      "Iteration 156, inertia 1437003264.0\n",
      "Iteration 157, inertia 1437002496.0\n",
      "Iteration 158, inertia 1437002880.0\n",
      "Converged at iteration 158: center shift 0.032703809440135956 within tolerance 0.08671693115234376.\n",
      "Initialization complete\n",
      "Iteration 0, inertia 1999871104.0\n",
      "Iteration 1, inertia 1525708800.0\n",
      "Iteration 2, inertia 1490315520.0\n",
      "Iteration 3, inertia 1475569024.0\n",
      "Iteration 4, inertia 1467386752.0\n",
      "Iteration 5, inertia 1462040192.0\n",
      "Iteration 6, inertia 1458625792.0\n",
      "Iteration 7, inertia 1456146176.0\n",
      "Iteration 8, inertia 1454196992.0\n",
      "Iteration 9, inertia 1452554496.0\n",
      "Iteration 10, inertia 1451166464.0\n",
      "Iteration 11, inertia 1450007040.0\n",
      "Iteration 12, inertia 1448989312.0\n",
      "Iteration 13, inertia 1448060544.0\n",
      "Iteration 14, inertia 1447207680.0\n",
      "Iteration 15, inertia 1446498560.0\n",
      "Iteration 16, inertia 1445911808.0\n",
      "Iteration 17, inertia 1445380736.0\n",
      "Iteration 18, inertia 1444955648.0\n",
      "Iteration 19, inertia 1444658816.0\n",
      "Iteration 20, inertia 1444400640.0\n",
      "Iteration 21, inertia 1444132736.0\n",
      "Iteration 22, inertia 1443853056.0\n",
      "Iteration 23, inertia 1443559424.0\n",
      "Iteration 24, inertia 1443249920.0\n",
      "Iteration 25, inertia 1443023488.0\n",
      "Iteration 26, inertia 1442854784.0\n",
      "Iteration 27, inertia 1442679680.0\n",
      "Iteration 28, inertia 1442447744.0\n",
      "Iteration 29, inertia 1442297600.0\n",
      "Iteration 30, inertia 1442167296.0\n",
      "Iteration 31, inertia 1442059008.0\n",
      "Iteration 32, inertia 1441939712.0\n",
      "Iteration 33, inertia 1441814272.0\n",
      "Iteration 34, inertia 1441715200.0\n",
      "Iteration 35, inertia 1441631232.0\n",
      "Iteration 36, inertia 1441558912.0\n",
      "Iteration 37, inertia 1441485184.0\n",
      "Iteration 38, inertia 1441399296.0\n",
      "Iteration 39, inertia 1441296896.0\n",
      "Iteration 40, inertia 1441204992.0\n",
      "Iteration 41, inertia 1441115648.0\n",
      "Iteration 42, inertia 1441044480.0\n",
      "Iteration 43, inertia 1440968960.0\n",
      "Iteration 44, inertia 1440884608.0\n",
      "Iteration 45, inertia 1440810496.0\n",
      "Iteration 46, inertia 1440740096.0\n",
      "Iteration 47, inertia 1440673152.0\n",
      "Iteration 48, inertia 1440621696.0\n",
      "Iteration 49, inertia 1440566784.0\n",
      "Iteration 50, inertia 1440512384.0\n",
      "Iteration 51, inertia 1440443776.0\n",
      "Iteration 52, inertia 1440365568.0\n",
      "Iteration 53, inertia 1440305536.0\n",
      "Iteration 54, inertia 1440252288.0\n",
      "Iteration 55, inertia 1440218368.0\n",
      "Iteration 56, inertia 1440188672.0\n",
      "Iteration 57, inertia 1440160000.0\n",
      "Iteration 58, inertia 1440135424.0\n",
      "Iteration 59, inertia 1440108672.0\n",
      "Iteration 60, inertia 1440080896.0\n",
      "Iteration 61, inertia 1440061440.0\n",
      "Iteration 62, inertia 1440047744.0\n",
      "Iteration 63, inertia 1440034304.0\n",
      "Iteration 64, inertia 1440019200.0\n",
      "Iteration 65, inertia 1440000768.0\n",
      "Iteration 66, inertia 1439982336.0\n",
      "Iteration 67, inertia 1439965312.0\n",
      "Iteration 68, inertia 1439949184.0\n",
      "Iteration 69, inertia 1439937280.0\n",
      "Iteration 70, inertia 1439931520.0\n",
      "Iteration 71, inertia 1439924480.0\n",
      "Iteration 72, inertia 1439916672.0\n",
      "Iteration 73, inertia 1439910144.0\n",
      "Iteration 74, inertia 1439901696.0\n",
      "Iteration 75, inertia 1439894400.0\n",
      "Iteration 76, inertia 1439889152.0\n",
      "Iteration 77, inertia 1439884416.0\n",
      "Iteration 78, inertia 1439880960.0\n",
      "Iteration 79, inertia 1439876992.0\n",
      "Iteration 80, inertia 1439873664.0\n",
      "Iteration 81, inertia 1439871488.0\n",
      "Iteration 82, inertia 1439869696.0\n",
      "Iteration 83, inertia 1439868672.0\n",
      "Iteration 84, inertia 1439866368.0\n",
      "Iteration 85, inertia 1439864448.0\n",
      "Iteration 86, inertia 1439861760.0\n",
      "Iteration 87, inertia 1439860992.0\n",
      "Iteration 88, inertia 1439858816.0\n",
      "Iteration 89, inertia 1439856256.0\n",
      "Iteration 90, inertia 1439853056.0\n",
      "Iteration 91, inertia 1439851392.0\n",
      "Iteration 92, inertia 1439850496.0\n",
      "Iteration 93, inertia 1439848448.0\n",
      "Iteration 94, inertia 1439847680.0\n",
      "Iteration 95, inertia 1439846272.0\n",
      "Iteration 96, inertia 1439844352.0\n",
      "Iteration 97, inertia 1439842304.0\n",
      "Iteration 98, inertia 1439840640.0\n",
      "Iteration 99, inertia 1439837952.0\n",
      "Iteration 100, inertia 1439835520.0\n",
      "Iteration 101, inertia 1439832064.0\n",
      "Iteration 102, inertia 1439828352.0\n",
      "Iteration 103, inertia 1439824640.0\n",
      "Iteration 104, inertia 1439820672.0\n",
      "Iteration 105, inertia 1439815808.0\n",
      "Iteration 106, inertia 1439812480.0\n",
      "Iteration 107, inertia 1439809280.0\n",
      "Iteration 108, inertia 1439805184.0\n",
      "Iteration 109, inertia 1439801728.0\n",
      "Iteration 110, inertia 1439799168.0\n",
      "Iteration 111, inertia 1439796224.0\n",
      "Iteration 112, inertia 1439791744.0\n",
      "Iteration 113, inertia 1439788160.0\n",
      "Iteration 114, inertia 1439784960.0\n",
      "Iteration 115, inertia 1439782144.0\n",
      "Iteration 116, inertia 1439778816.0\n",
      "Iteration 117, inertia 1439775232.0\n",
      "Iteration 118, inertia 1439772416.0\n",
      "Iteration 119, inertia 1439769216.0\n",
      "Iteration 120, inertia 1439766528.0\n",
      "Iteration 121, inertia 1439763968.0\n",
      "Iteration 122, inertia 1439762560.0\n",
      "Iteration 123, inertia 1439759744.0\n",
      "Iteration 124, inertia 1439757568.0\n",
      "Iteration 125, inertia 1439755392.0\n",
      "Iteration 126, inertia 1439753344.0\n",
      "Iteration 127, inertia 1439751168.0\n",
      "Iteration 128, inertia 1439748480.0\n",
      "Iteration 129, inertia 1439747072.0\n",
      "Iteration 130, inertia 1439745920.0\n",
      "Iteration 131, inertia 1439743488.0\n",
      "Iteration 132, inertia 1439740416.0\n",
      "Iteration 133, inertia 1439737216.0\n",
      "Iteration 134, inertia 1439734528.0\n",
      "Iteration 135, inertia 1439731328.0\n",
      "Iteration 136, inertia 1439729024.0\n",
      "Iteration 137, inertia 1439726464.0\n",
      "Iteration 138, inertia 1439724288.0\n",
      "Iteration 139, inertia 1439721984.0\n",
      "Iteration 140, inertia 1439719808.0\n",
      "Iteration 141, inertia 1439715968.0\n",
      "Iteration 142, inertia 1439713408.0\n",
      "Iteration 143, inertia 1439709696.0\n",
      "Iteration 144, inertia 1439707776.0\n",
      "Iteration 145, inertia 1439705856.0\n",
      "Iteration 146, inertia 1439703808.0\n",
      "Iteration 147, inertia 1439701760.0\n",
      "Iteration 148, inertia 1439702016.0\n",
      "Iteration 149, inertia 1439699712.0\n",
      "Iteration 150, inertia 1439698816.0\n",
      "Iteration 151, inertia 1439697152.0\n",
      "Iteration 152, inertia 1439695744.0\n",
      "Iteration 153, inertia 1439694720.0\n",
      "Iteration 154, inertia 1439693824.0\n",
      "Iteration 155, inertia 1439693056.0\n",
      "Iteration 156, inertia 1439693184.0\n",
      "Iteration 157, inertia 1439692800.0\n",
      "Iteration 158, inertia 1439692800.0\n",
      "Iteration 159, inertia 1439691904.0\n",
      "Iteration 160, inertia 1439691520.0\n",
      "Iteration 161, inertia 1439691392.0\n",
      "Iteration 162, inertia 1439690112.0\n",
      "Iteration 163, inertia 1439688960.0\n",
      "Iteration 164, inertia 1439687808.0\n",
      "Iteration 165, inertia 1439686528.0\n",
      "Iteration 166, inertia 1439685504.0\n",
      "Iteration 167, inertia 1439685120.0\n",
      "Iteration 168, inertia 1439684736.0\n",
      "Iteration 169, inertia 1439682944.0\n",
      "Iteration 170, inertia 1439681024.0\n",
      "Iteration 171, inertia 1439679488.0\n",
      "Iteration 172, inertia 1439678848.0\n",
      "Iteration 173, inertia 1439678080.0\n",
      "Iteration 174, inertia 1439676672.0\n",
      "Iteration 175, inertia 1439676032.0\n",
      "Iteration 176, inertia 1439674752.0\n",
      "Iteration 177, inertia 1439673728.0\n",
      "Iteration 178, inertia 1439673216.0\n",
      "Iteration 179, inertia 1439672064.0\n",
      "Iteration 180, inertia 1439670656.0\n",
      "Iteration 181, inertia 1439669632.0\n",
      "Iteration 182, inertia 1439668480.0\n",
      "Iteration 183, inertia 1439668992.0\n",
      "Iteration 184, inertia 1439668096.0\n",
      "Iteration 185, inertia 1439667328.0\n",
      "Converged at iteration 185: center shift 0.08480710536241531 within tolerance 0.08671693115234376.\n",
      "Initialization complete\n",
      "Iteration 0, inertia 2009691520.0\n",
      "Iteration 1, inertia 1531162112.0\n",
      "Iteration 2, inertia 1495869696.0\n",
      "Iteration 3, inertia 1480406400.0\n",
      "Iteration 4, inertia 1470955392.0\n",
      "Iteration 5, inertia 1464021504.0\n",
      "Iteration 6, inertia 1459368832.0\n",
      "Iteration 7, inertia 1455714432.0\n",
      "Iteration 8, inertia 1453103488.0\n",
      "Iteration 9, inertia 1451157504.0\n",
      "Iteration 10, inertia 1449449856.0\n",
      "Iteration 11, inertia 1448014720.0\n",
      "Iteration 12, inertia 1446828288.0\n",
      "Iteration 13, inertia 1445827456.0\n",
      "Iteration 14, inertia 1445038720.0\n",
      "Iteration 15, inertia 1444383872.0\n",
      "Iteration 16, inertia 1443826176.0\n",
      "Iteration 17, inertia 1443284736.0\n",
      "Iteration 18, inertia 1442755584.0\n",
      "Iteration 19, inertia 1442350848.0\n",
      "Iteration 20, inertia 1442028416.0\n",
      "Iteration 21, inertia 1441778816.0\n",
      "Iteration 22, inertia 1441536512.0\n",
      "Iteration 23, inertia 1441336832.0\n",
      "Iteration 24, inertia 1441147904.0\n",
      "Iteration 25, inertia 1440936960.0\n",
      "Iteration 26, inertia 1440717824.0\n",
      "Iteration 27, inertia 1440496384.0\n",
      "Iteration 28, inertia 1440298624.0\n",
      "Iteration 29, inertia 1440093696.0\n",
      "Iteration 30, inertia 1439939072.0\n",
      "Iteration 31, inertia 1439805440.0\n",
      "Iteration 32, inertia 1439641856.0\n",
      "Iteration 33, inertia 1439488768.0\n",
      "Iteration 34, inertia 1439356160.0\n",
      "Iteration 35, inertia 1439252992.0\n",
      "Iteration 36, inertia 1439150080.0\n",
      "Iteration 37, inertia 1439048320.0\n",
      "Iteration 38, inertia 1438942208.0\n",
      "Iteration 39, inertia 1438768768.0\n",
      "Iteration 40, inertia 1438599808.0\n",
      "Iteration 41, inertia 1438488576.0\n",
      "Iteration 42, inertia 1438395136.0\n",
      "Iteration 43, inertia 1438324992.0\n",
      "Iteration 44, inertia 1438268544.0\n",
      "Iteration 45, inertia 1438226944.0\n",
      "Iteration 46, inertia 1438185472.0\n",
      "Iteration 47, inertia 1438148352.0\n",
      "Iteration 48, inertia 1438105600.0\n",
      "Iteration 49, inertia 1438071936.0\n",
      "Iteration 50, inertia 1438044160.0\n",
      "Iteration 51, inertia 1438022656.0\n",
      "Iteration 52, inertia 1438001152.0\n",
      "Iteration 53, inertia 1437987712.0\n",
      "Iteration 54, inertia 1437974272.0\n",
      "Iteration 55, inertia 1437955328.0\n",
      "Iteration 56, inertia 1437936000.0\n",
      "Iteration 57, inertia 1437917184.0\n",
      "Iteration 58, inertia 1437897472.0\n",
      "Iteration 59, inertia 1437880192.0\n",
      "Iteration 60, inertia 1437862656.0\n",
      "Iteration 61, inertia 1437842304.0\n",
      "Iteration 62, inertia 1437812480.0\n",
      "Iteration 63, inertia 1437795200.0\n",
      "Iteration 64, inertia 1437781120.0\n",
      "Iteration 65, inertia 1437769600.0\n",
      "Iteration 66, inertia 1437757696.0\n",
      "Iteration 67, inertia 1437748736.0\n",
      "Iteration 68, inertia 1437742720.0\n",
      "Iteration 69, inertia 1437734784.0\n",
      "Iteration 70, inertia 1437728128.0\n",
      "Iteration 71, inertia 1437722240.0\n",
      "Iteration 72, inertia 1437714944.0\n",
      "Iteration 73, inertia 1437708032.0\n",
      "Iteration 74, inertia 1437700352.0\n",
      "Iteration 75, inertia 1437695616.0\n",
      "Iteration 76, inertia 1437689600.0\n",
      "Iteration 77, inertia 1437684480.0\n",
      "Iteration 78, inertia 1437676288.0\n",
      "Iteration 79, inertia 1437667072.0\n",
      "Iteration 80, inertia 1437661440.0\n",
      "Iteration 81, inertia 1437655040.0\n",
      "Iteration 82, inertia 1437647232.0\n",
      "Iteration 83, inertia 1437640832.0\n",
      "Iteration 84, inertia 1437638144.0\n",
      "Iteration 85, inertia 1437634816.0\n",
      "Iteration 86, inertia 1437633280.0\n",
      "Iteration 87, inertia 1437631872.0\n",
      "Iteration 88, inertia 1437630976.0\n",
      "Iteration 89, inertia 1437629184.0\n",
      "Iteration 90, inertia 1437628928.0\n",
      "Iteration 91, inertia 1437627776.0\n",
      "Iteration 92, inertia 1437627776.0\n",
      "Converged at iteration 92: center shift 0.08571632951498032 within tolerance 0.08671693115234376.\n",
      "Initialization complete\n",
      "Iteration 0, inertia 1994575232.0\n",
      "Iteration 1, inertia 1520960640.0\n",
      "Iteration 2, inertia 1486561280.0\n",
      "Iteration 3, inertia 1471867648.0\n",
      "Iteration 4, inertia 1463611392.0\n",
      "Iteration 5, inertia 1457812096.0\n",
      "Iteration 6, inertia 1453895680.0\n",
      "Iteration 7, inertia 1450650752.0\n",
      "Iteration 8, inertia 1448110720.0\n",
      "Iteration 9, inertia 1446128768.0\n",
      "Iteration 10, inertia 1444538496.0\n",
      "Iteration 11, inertia 1443225600.0\n",
      "Iteration 12, inertia 1441995136.0\n",
      "Iteration 13, inertia 1440764032.0\n",
      "Iteration 14, inertia 1439890048.0\n",
      "Iteration 15, inertia 1439104640.0\n",
      "Iteration 16, inertia 1438546560.0\n",
      "Iteration 17, inertia 1438037376.0\n",
      "Iteration 18, inertia 1437546752.0\n",
      "Iteration 19, inertia 1437167872.0\n",
      "Iteration 20, inertia 1436862592.0\n",
      "Iteration 21, inertia 1436607616.0\n",
      "Iteration 22, inertia 1436350208.0\n",
      "Iteration 23, inertia 1436146304.0\n",
      "Iteration 24, inertia 1435978752.0\n",
      "Iteration 25, inertia 1435805056.0\n",
      "Iteration 26, inertia 1435646080.0\n",
      "Iteration 27, inertia 1435528448.0\n",
      "Iteration 28, inertia 1435419648.0\n",
      "Iteration 29, inertia 1435320960.0\n",
      "Iteration 30, inertia 1435223040.0\n",
      "Iteration 31, inertia 1435132544.0\n",
      "Iteration 32, inertia 1435051648.0\n",
      "Iteration 33, inertia 1434958720.0\n",
      "Iteration 34, inertia 1434876672.0\n",
      "Iteration 35, inertia 1434798848.0\n",
      "Iteration 36, inertia 1434749568.0\n",
      "Iteration 37, inertia 1434705920.0\n",
      "Iteration 38, inertia 1434665984.0\n",
      "Iteration 39, inertia 1434625792.0\n",
      "Iteration 40, inertia 1434573952.0\n",
      "Iteration 41, inertia 1434528256.0\n",
      "Iteration 42, inertia 1434496512.0\n",
      "Iteration 43, inertia 1434475136.0\n",
      "Iteration 44, inertia 1434456960.0\n",
      "Iteration 45, inertia 1434437888.0\n",
      "Iteration 46, inertia 1434422528.0\n",
      "Iteration 47, inertia 1434409600.0\n",
      "Iteration 48, inertia 1434397696.0\n",
      "Iteration 49, inertia 1434386816.0\n",
      "Iteration 50, inertia 1434369664.0\n",
      "Iteration 51, inertia 1434352128.0\n",
      "Iteration 52, inertia 1434338816.0\n",
      "Iteration 53, inertia 1434321536.0\n",
      "Iteration 54, inertia 1434306176.0\n",
      "Iteration 55, inertia 1434291712.0\n",
      "Iteration 56, inertia 1434284288.0\n",
      "Iteration 57, inertia 1434276736.0\n",
      "Iteration 58, inertia 1434270720.0\n",
      "Iteration 59, inertia 1434264960.0\n",
      "Iteration 60, inertia 1434260480.0\n",
      "Iteration 61, inertia 1434254976.0\n",
      "Iteration 62, inertia 1434249984.0\n",
      "Iteration 63, inertia 1434244352.0\n",
      "Iteration 64, inertia 1434238720.0\n",
      "Iteration 65, inertia 1434234624.0\n",
      "Iteration 66, inertia 1434227712.0\n",
      "Iteration 67, inertia 1434219136.0\n",
      "Iteration 68, inertia 1434211712.0\n",
      "Iteration 69, inertia 1434203648.0\n",
      "Iteration 70, inertia 1434196864.0\n",
      "Iteration 71, inertia 1434190592.0\n",
      "Iteration 72, inertia 1434187008.0\n",
      "Iteration 73, inertia 1434181888.0\n",
      "Iteration 74, inertia 1434177024.0\n",
      "Iteration 75, inertia 1434173056.0\n",
      "Iteration 76, inertia 1434169728.0\n",
      "Iteration 77, inertia 1434165504.0\n",
      "Iteration 78, inertia 1434161152.0\n",
      "Iteration 79, inertia 1434157440.0\n",
      "Iteration 80, inertia 1434152832.0\n",
      "Iteration 81, inertia 1434146048.0\n",
      "Iteration 82, inertia 1434139136.0\n",
      "Iteration 83, inertia 1434132864.0\n",
      "Iteration 84, inertia 1434126592.0\n",
      "Iteration 85, inertia 1434120448.0\n",
      "Iteration 86, inertia 1434113280.0\n",
      "Iteration 87, inertia 1434106496.0\n",
      "Iteration 88, inertia 1434099712.0\n",
      "Iteration 89, inertia 1434092928.0\n",
      "Iteration 90, inertia 1434086912.0\n",
      "Iteration 91, inertia 1434082176.0\n",
      "Iteration 92, inertia 1434078592.0\n",
      "Iteration 93, inertia 1434076928.0\n",
      "Iteration 94, inertia 1434075264.0\n",
      "Iteration 95, inertia 1434073600.0\n",
      "Iteration 96, inertia 1434071296.0\n",
      "Iteration 97, inertia 1434070656.0\n",
      "Iteration 98, inertia 1434070144.0\n",
      "Iteration 99, inertia 1434069888.0\n",
      "Iteration 100, inertia 1434068992.0\n",
      "Iteration 101, inertia 1434068224.0\n",
      "Converged at iteration 101: center shift 0.08515328168869019 within tolerance 0.08671693115234376.\n",
      "Initialization complete\n",
      "Iteration 0, inertia 2008279296.0\n",
      "Iteration 1, inertia 1527862528.0\n",
      "Iteration 2, inertia 1491666560.0\n",
      "Iteration 3, inertia 1476338304.0\n",
      "Iteration 4, inertia 1466934016.0\n",
      "Iteration 5, inertia 1460521088.0\n",
      "Iteration 6, inertia 1456151040.0\n",
      "Iteration 7, inertia 1452788352.0\n",
      "Iteration 8, inertia 1450139904.0\n",
      "Iteration 9, inertia 1448165632.0\n",
      "Iteration 10, inertia 1446623744.0\n",
      "Iteration 11, inertia 1445415168.0\n",
      "Iteration 12, inertia 1444380800.0\n",
      "Iteration 13, inertia 1443346944.0\n",
      "Iteration 14, inertia 1442376064.0\n",
      "Iteration 15, inertia 1441708672.0\n",
      "Iteration 16, inertia 1441188352.0\n",
      "Iteration 17, inertia 1440774272.0\n",
      "Iteration 18, inertia 1440412544.0\n",
      "Iteration 19, inertia 1440032256.0\n",
      "Iteration 20, inertia 1439740288.0\n",
      "Iteration 21, inertia 1439501184.0\n",
      "Iteration 22, inertia 1439218688.0\n",
      "Iteration 23, inertia 1438929920.0\n",
      "Iteration 24, inertia 1438627712.0\n",
      "Iteration 25, inertia 1438388096.0\n",
      "Iteration 26, inertia 1438207872.0\n",
      "Iteration 27, inertia 1438067072.0\n",
      "Iteration 28, inertia 1437947776.0\n",
      "Iteration 29, inertia 1437864960.0\n",
      "Iteration 30, inertia 1437765504.0\n",
      "Iteration 31, inertia 1437658880.0\n",
      "Iteration 32, inertia 1437566976.0\n",
      "Iteration 33, inertia 1437452672.0\n",
      "Iteration 34, inertia 1437391616.0\n",
      "Iteration 35, inertia 1437346048.0\n",
      "Iteration 36, inertia 1437303680.0\n",
      "Iteration 37, inertia 1437268352.0\n",
      "Iteration 38, inertia 1437241472.0\n",
      "Iteration 39, inertia 1437220352.0\n",
      "Iteration 40, inertia 1437201408.0\n",
      "Iteration 41, inertia 1437175552.0\n",
      "Iteration 42, inertia 1437149056.0\n",
      "Iteration 43, inertia 1437121280.0\n",
      "Iteration 44, inertia 1437095808.0\n",
      "Iteration 45, inertia 1437063424.0\n",
      "Iteration 46, inertia 1437021440.0\n",
      "Iteration 47, inertia 1436979840.0\n",
      "Iteration 48, inertia 1436956288.0\n",
      "Iteration 49, inertia 1436932608.0\n",
      "Iteration 50, inertia 1436913920.0\n",
      "Iteration 51, inertia 1436897920.0\n",
      "Iteration 52, inertia 1436885120.0\n",
      "Iteration 53, inertia 1436868352.0\n",
      "Iteration 54, inertia 1436860544.0\n",
      "Iteration 55, inertia 1436852992.0\n",
      "Iteration 56, inertia 1436848384.0\n",
      "Iteration 57, inertia 1436844416.0\n",
      "Iteration 58, inertia 1436840064.0\n",
      "Iteration 59, inertia 1436836608.0\n",
      "Iteration 60, inertia 1436834304.0\n",
      "Iteration 61, inertia 1436831488.0\n",
      "Iteration 62, inertia 1436830976.0\n",
      "Iteration 63, inertia 1436829184.0\n",
      "Iteration 64, inertia 1436828672.0\n",
      "Iteration 65, inertia 1436827904.0\n",
      "Iteration 66, inertia 1436827648.0\n",
      "Iteration 67, inertia 1436827008.0\n",
      "Iteration 68, inertia 1436825344.0\n",
      "Iteration 69, inertia 1436825472.0\n",
      "Iteration 70, inertia 1436823424.0\n",
      "Iteration 71, inertia 1436821760.0\n",
      "Iteration 72, inertia 1436820352.0\n",
      "Iteration 73, inertia 1436819968.0\n",
      "Iteration 74, inertia 1436818560.0\n",
      "Iteration 75, inertia 1436817152.0\n",
      "Iteration 76, inertia 1436816768.0\n",
      "Iteration 77, inertia 1436816000.0\n",
      "Iteration 78, inertia 1436814976.0\n",
      "Iteration 79, inertia 1436813696.0\n",
      "Iteration 80, inertia 1436812800.0\n",
      "Iteration 81, inertia 1436812416.0\n",
      "Iteration 82, inertia 1436811648.0\n",
      "Iteration 83, inertia 1436810880.0\n",
      "Iteration 84, inertia 1436810240.0\n",
      "Iteration 85, inertia 1436809984.0\n",
      "Iteration 86, inertia 1436809728.0\n",
      "Converged at iteration 86: center shift 0.005775551777333021 within tolerance 0.08671693115234376.\n",
      "Initialization complete\n",
      "Iteration 0, inertia 1994950272.0\n",
      "Iteration 1, inertia 1525749888.0\n",
      "Iteration 2, inertia 1490744064.0\n",
      "Iteration 3, inertia 1475231232.0\n",
      "Iteration 4, inertia 1465570176.0\n",
      "Iteration 5, inertia 1459314432.0\n",
      "Iteration 6, inertia 1455024128.0\n",
      "Iteration 7, inertia 1451794560.0\n",
      "Iteration 8, inertia 1449278208.0\n",
      "Iteration 9, inertia 1447158528.0\n",
      "Iteration 10, inertia 1445495680.0\n",
      "Iteration 11, inertia 1444207104.0\n",
      "Iteration 12, inertia 1443260928.0\n",
      "Iteration 13, inertia 1442520960.0\n",
      "Iteration 14, inertia 1441899904.0\n",
      "Iteration 15, inertia 1441340800.0\n",
      "Iteration 16, inertia 1440768896.0\n",
      "Iteration 17, inertia 1440298880.0\n",
      "Iteration 18, inertia 1439797248.0\n",
      "Iteration 19, inertia 1439401728.0\n",
      "Iteration 20, inertia 1438951552.0\n",
      "Iteration 21, inertia 1438618112.0\n",
      "Iteration 22, inertia 1438390912.0\n",
      "Iteration 23, inertia 1438209024.0\n",
      "Iteration 24, inertia 1438064896.0\n",
      "Iteration 25, inertia 1437917568.0\n",
      "Iteration 26, inertia 1437776640.0\n",
      "Iteration 27, inertia 1437661184.0\n",
      "Iteration 28, inertia 1437569024.0\n",
      "Iteration 29, inertia 1437474816.0\n",
      "Iteration 30, inertia 1437395456.0\n",
      "Iteration 31, inertia 1437322368.0\n",
      "Iteration 32, inertia 1437247232.0\n",
      "Iteration 33, inertia 1437180160.0\n",
      "Iteration 34, inertia 1437123712.0\n",
      "Iteration 35, inertia 1437073152.0\n",
      "Iteration 36, inertia 1437030784.0\n",
      "Iteration 37, inertia 1436987520.0\n",
      "Iteration 38, inertia 1436939008.0\n",
      "Iteration 39, inertia 1436898944.0\n",
      "Iteration 40, inertia 1436856832.0\n",
      "Iteration 41, inertia 1436822528.0\n",
      "Iteration 42, inertia 1436781952.0\n",
      "Iteration 43, inertia 1436751360.0\n",
      "Iteration 44, inertia 1436725888.0\n",
      "Iteration 45, inertia 1436699904.0\n",
      "Iteration 46, inertia 1436675072.0\n",
      "Iteration 47, inertia 1436649984.0\n",
      "Iteration 48, inertia 1436628992.0\n",
      "Iteration 49, inertia 1436607616.0\n",
      "Iteration 50, inertia 1436574336.0\n",
      "Iteration 51, inertia 1436542080.0\n",
      "Iteration 52, inertia 1436508672.0\n",
      "Iteration 53, inertia 1436477952.0\n",
      "Iteration 54, inertia 1436440320.0\n",
      "Iteration 55, inertia 1436407808.0\n",
      "Iteration 56, inertia 1436369664.0\n",
      "Iteration 57, inertia 1436335488.0\n",
      "Iteration 58, inertia 1436306688.0\n",
      "Iteration 59, inertia 1436275968.0\n",
      "Iteration 60, inertia 1436253440.0\n",
      "Iteration 61, inertia 1436238848.0\n",
      "Iteration 62, inertia 1436225024.0\n",
      "Iteration 63, inertia 1436214016.0\n",
      "Iteration 64, inertia 1436203008.0\n",
      "Iteration 65, inertia 1436193792.0\n",
      "Iteration 66, inertia 1436187264.0\n",
      "Iteration 67, inertia 1436183296.0\n",
      "Iteration 68, inertia 1436179968.0\n",
      "Iteration 69, inertia 1436175616.0\n",
      "Iteration 70, inertia 1436172288.0\n",
      "Iteration 71, inertia 1436168064.0\n",
      "Iteration 72, inertia 1436165504.0\n",
      "Iteration 73, inertia 1436156416.0\n",
      "Iteration 74, inertia 1436146304.0\n",
      "Iteration 75, inertia 1436141952.0\n",
      "Iteration 76, inertia 1436139392.0\n",
      "Iteration 77, inertia 1436137088.0\n",
      "Iteration 78, inertia 1436134016.0\n",
      "Iteration 79, inertia 1436132352.0\n",
      "Iteration 80, inertia 1436129792.0\n",
      "Iteration 81, inertia 1436126592.0\n",
      "Iteration 82, inertia 1436123264.0\n",
      "Iteration 83, inertia 1436120448.0\n",
      "Iteration 84, inertia 1436116736.0\n",
      "Iteration 85, inertia 1436112896.0\n",
      "Iteration 86, inertia 1436110208.0\n",
      "Iteration 87, inertia 1436107008.0\n",
      "Iteration 88, inertia 1436104576.0\n",
      "Iteration 89, inertia 1436101504.0\n",
      "Iteration 90, inertia 1436096384.0\n",
      "Iteration 91, inertia 1436089728.0\n",
      "Iteration 92, inertia 1436085760.0\n",
      "Iteration 93, inertia 1436083456.0\n",
      "Iteration 94, inertia 1436082304.0\n",
      "Iteration 95, inertia 1436080256.0\n",
      "Iteration 96, inertia 1436079744.0\n",
      "Iteration 97, inertia 1436078592.0\n",
      "Iteration 98, inertia 1436076160.0\n",
      "Iteration 99, inertia 1436073216.0\n",
      "Iteration 100, inertia 1436069376.0\n",
      "Iteration 101, inertia 1436064640.0\n",
      "Iteration 102, inertia 1436060288.0\n",
      "Iteration 103, inertia 1436057344.0\n",
      "Iteration 104, inertia 1436056832.0\n",
      "Iteration 105, inertia 1436056064.0\n",
      "Converged at iteration 105: center shift 0.0677209347486496 within tolerance 0.08671693115234376.\n",
      "Initialization complete\n",
      "Iteration 0, inertia 1995870720.0\n",
      "Iteration 1, inertia 1524648704.0\n",
      "Iteration 2, inertia 1489495424.0\n",
      "Iteration 3, inertia 1474693376.0\n",
      "Iteration 4, inertia 1465621888.0\n",
      "Iteration 5, inertia 1458954752.0\n",
      "Iteration 6, inertia 1454071680.0\n",
      "Iteration 7, inertia 1450412928.0\n",
      "Iteration 8, inertia 1447818112.0\n",
      "Iteration 9, inertia 1445942528.0\n",
      "Iteration 10, inertia 1444619904.0\n",
      "Iteration 11, inertia 1443599232.0\n",
      "Iteration 12, inertia 1442667904.0\n",
      "Iteration 13, inertia 1441843072.0\n",
      "Iteration 14, inertia 1441246976.0\n",
      "Iteration 15, inertia 1440780544.0\n",
      "Iteration 16, inertia 1440383104.0\n",
      "Iteration 17, inertia 1440030976.0\n",
      "Iteration 18, inertia 1439672832.0\n",
      "Iteration 19, inertia 1439311232.0\n",
      "Iteration 20, inertia 1439027456.0\n",
      "Iteration 21, inertia 1438763008.0\n",
      "Iteration 22, inertia 1438517760.0\n",
      "Iteration 23, inertia 1438316160.0\n",
      "Iteration 24, inertia 1438159744.0\n",
      "Iteration 25, inertia 1438002816.0\n",
      "Iteration 26, inertia 1437836544.0\n",
      "Iteration 27, inertia 1437699968.0\n",
      "Iteration 28, inertia 1437608960.0\n",
      "Iteration 29, inertia 1437531520.0\n",
      "Iteration 30, inertia 1437443712.0\n",
      "Iteration 31, inertia 1437350144.0\n",
      "Iteration 32, inertia 1437279488.0\n",
      "Iteration 33, inertia 1437231488.0\n",
      "Iteration 34, inertia 1437188992.0\n",
      "Iteration 35, inertia 1437151360.0\n",
      "Iteration 36, inertia 1437121408.0\n",
      "Iteration 37, inertia 1437084800.0\n",
      "Iteration 38, inertia 1437046400.0\n",
      "Iteration 39, inertia 1437003392.0\n",
      "Iteration 40, inertia 1436966016.0\n",
      "Iteration 41, inertia 1436924928.0\n",
      "Iteration 42, inertia 1436895232.0\n",
      "Iteration 43, inertia 1436870400.0\n",
      "Iteration 44, inertia 1436850560.0\n",
      "Iteration 45, inertia 1436833024.0\n",
      "Iteration 46, inertia 1436817152.0\n",
      "Iteration 47, inertia 1436796288.0\n",
      "Iteration 48, inertia 1436769920.0\n",
      "Iteration 49, inertia 1436741504.0\n",
      "Iteration 50, inertia 1436719744.0\n",
      "Iteration 51, inertia 1436700672.0\n",
      "Iteration 52, inertia 1436683008.0\n",
      "Iteration 53, inertia 1436664320.0\n",
      "Iteration 54, inertia 1436650752.0\n",
      "Iteration 55, inertia 1436639360.0\n",
      "Iteration 56, inertia 1436628608.0\n",
      "Iteration 57, inertia 1436616704.0\n",
      "Iteration 58, inertia 1436605696.0\n",
      "Iteration 59, inertia 1436598400.0\n",
      "Iteration 60, inertia 1436591744.0\n",
      "Iteration 61, inertia 1436586112.0\n",
      "Iteration 62, inertia 1436579840.0\n",
      "Iteration 63, inertia 1436571520.0\n",
      "Iteration 64, inertia 1436561408.0\n",
      "Iteration 65, inertia 1436551296.0\n",
      "Iteration 66, inertia 1436538496.0\n",
      "Iteration 67, inertia 1436520320.0\n",
      "Iteration 68, inertia 1436501888.0\n",
      "Iteration 69, inertia 1436481920.0\n",
      "Iteration 70, inertia 1436467072.0\n",
      "Iteration 71, inertia 1436454656.0\n",
      "Iteration 72, inertia 1436439680.0\n",
      "Iteration 73, inertia 1436427136.0\n",
      "Iteration 74, inertia 1436417280.0\n",
      "Iteration 75, inertia 1436404992.0\n",
      "Iteration 76, inertia 1436393472.0\n",
      "Iteration 77, inertia 1436381952.0\n",
      "Iteration 78, inertia 1436371840.0\n",
      "Iteration 79, inertia 1436360448.0\n",
      "Iteration 80, inertia 1436351872.0\n",
      "Iteration 81, inertia 1436344832.0\n",
      "Iteration 82, inertia 1436338816.0\n",
      "Iteration 83, inertia 1436333568.0\n",
      "Iteration 84, inertia 1436327424.0\n",
      "Iteration 85, inertia 1436323072.0\n",
      "Iteration 86, inertia 1436319104.0\n",
      "Iteration 87, inertia 1436315904.0\n",
      "Iteration 88, inertia 1436313984.0\n",
      "Iteration 89, inertia 1436311296.0\n",
      "Iteration 90, inertia 1436308224.0\n",
      "Iteration 91, inertia 1436306944.0\n",
      "Iteration 92, inertia 1436303744.0\n",
      "Iteration 93, inertia 1436302464.0\n",
      "Iteration 94, inertia 1436301952.0\n",
      "Iteration 95, inertia 1436300672.0\n",
      "Iteration 96, inertia 1436298752.0\n",
      "Iteration 97, inertia 1436297472.0\n",
      "Iteration 98, inertia 1436296448.0\n",
      "Iteration 99, inertia 1436294912.0\n",
      "Iteration 100, inertia 1436294656.0\n",
      "Iteration 101, inertia 1436293504.0\n",
      "Iteration 102, inertia 1436292608.0\n",
      "Iteration 103, inertia 1436292608.0\n",
      "Iteration 104, inertia 1436291712.0\n",
      "Iteration 105, inertia 1436291456.0\n",
      "Iteration 106, inertia 1436290176.0\n",
      "Iteration 107, inertia 1436289024.0\n",
      "Iteration 108, inertia 1436288384.0\n",
      "Iteration 109, inertia 1436286848.0\n",
      "Iteration 110, inertia 1436286208.0\n",
      "Iteration 111, inertia 1436285568.0\n",
      "Iteration 112, inertia 1436283904.0\n",
      "Iteration 113, inertia 1436282752.0\n",
      "Iteration 114, inertia 1436283008.0\n",
      "Iteration 115, inertia 1436282496.0\n",
      "Iteration 116, inertia 1436280960.0\n",
      "Iteration 117, inertia 1436279808.0\n",
      "Iteration 118, inertia 1436278528.0\n",
      "Iteration 119, inertia 1436277120.0\n",
      "Iteration 120, inertia 1436275200.0\n",
      "Iteration 121, inertia 1436274560.0\n",
      "Iteration 122, inertia 1436272896.0\n",
      "Iteration 123, inertia 1436272512.0\n",
      "Iteration 124, inertia 1436270720.0\n",
      "Iteration 125, inertia 1436268672.0\n",
      "Iteration 126, inertia 1436267776.0\n",
      "Iteration 127, inertia 1436265472.0\n",
      "Iteration 128, inertia 1436262784.0\n",
      "Iteration 129, inertia 1436259456.0\n",
      "Iteration 130, inertia 1436257152.0\n",
      "Iteration 131, inertia 1436254208.0\n",
      "Iteration 132, inertia 1436249856.0\n",
      "Iteration 133, inertia 1436247296.0\n",
      "Iteration 134, inertia 1436245120.0\n",
      "Iteration 135, inertia 1436241792.0\n",
      "Iteration 136, inertia 1436239744.0\n",
      "Iteration 137, inertia 1436237824.0\n",
      "Iteration 138, inertia 1436235136.0\n",
      "Iteration 139, inertia 1436231936.0\n",
      "Iteration 140, inertia 1436229120.0\n",
      "Iteration 141, inertia 1436225792.0\n",
      "Iteration 142, inertia 1436224256.0\n",
      "Iteration 143, inertia 1436220160.0\n",
      "Iteration 144, inertia 1436218880.0\n",
      "Iteration 145, inertia 1436217856.0\n",
      "Iteration 146, inertia 1436217856.0\n",
      "Iteration 147, inertia 1436215680.0\n",
      "Iteration 148, inertia 1436214016.0\n",
      "Iteration 149, inertia 1436212224.0\n",
      "Iteration 150, inertia 1436211072.0\n",
      "Iteration 151, inertia 1436208768.0\n",
      "Iteration 152, inertia 1436206592.0\n",
      "Iteration 153, inertia 1436202880.0\n",
      "Iteration 154, inertia 1436200704.0\n",
      "Iteration 155, inertia 1436198528.0\n",
      "Iteration 156, inertia 1436196224.0\n",
      "Iteration 157, inertia 1436194048.0\n",
      "Iteration 158, inertia 1436192000.0\n",
      "Iteration 159, inertia 1436190336.0\n",
      "Iteration 160, inertia 1436188544.0\n",
      "Iteration 161, inertia 1436186624.0\n",
      "Iteration 162, inertia 1436186112.0\n",
      "Iteration 163, inertia 1436185088.0\n",
      "Iteration 164, inertia 1436183296.0\n",
      "Iteration 165, inertia 1436182016.0\n",
      "Iteration 166, inertia 1436180224.0\n",
      "Iteration 167, inertia 1436178304.0\n",
      "Iteration 168, inertia 1436176128.0\n",
      "Iteration 169, inertia 1436174208.0\n",
      "Iteration 170, inertia 1436171904.0\n",
      "Iteration 171, inertia 1436171904.0\n",
      "Iteration 172, inertia 1436171264.0\n",
      "Iteration 173, inertia 1436169600.0\n",
      "Iteration 174, inertia 1436168320.0\n",
      "Iteration 175, inertia 1436166400.0\n",
      "Iteration 176, inertia 1436163840.0\n",
      "Iteration 177, inertia 1436161024.0\n",
      "Iteration 178, inertia 1436159360.0\n",
      "Iteration 179, inertia 1436156672.0\n",
      "Iteration 180, inertia 1436153728.0\n",
      "Iteration 181, inertia 1436152576.0\n",
      "Iteration 182, inertia 1436151168.0\n",
      "Iteration 183, inertia 1436148864.0\n",
      "Iteration 184, inertia 1436147584.0\n",
      "Iteration 185, inertia 1436146304.0\n",
      "Iteration 186, inertia 1436145024.0\n",
      "Iteration 187, inertia 1436143616.0\n",
      "Iteration 188, inertia 1436142208.0\n",
      "Iteration 189, inertia 1436140800.0\n",
      "Iteration 190, inertia 1436139392.0\n",
      "Iteration 191, inertia 1436137984.0\n",
      "Iteration 192, inertia 1436137856.0\n",
      "Iteration 193, inertia 1436137088.0\n",
      "Iteration 194, inertia 1436136960.0\n",
      "Iteration 195, inertia 1436136832.0\n",
      "Iteration 196, inertia 1436136320.0\n",
      "Iteration 197, inertia 1436135424.0\n",
      "Iteration 198, inertia 1436134912.0\n",
      "Converged at iteration 198: center shift 0.06367089599370956 within tolerance 0.08671693115234376.\n"
     ]
    }
   ],
   "source": [
    "num_cluster = 750\n",
    "bow = kmeans_bow(all_descriptors, num_cluster)"
   ]
  },
  {
   "cell_type": "markdown",
   "id": "ee67ecc6",
   "metadata": {
    "id": "ee67ecc6"
   },
   "source": [
    "### Create Features From BOW"
   ]
  },
  {
   "cell_type": "code",
   "execution_count": 90,
   "id": "712e35c5",
   "metadata": {
    "executionInfo": {
     "elapsed": 11,
     "status": "ok",
     "timestamp": 1648213221969,
     "user": {
      "displayName": "Rama Tri Agung",
      "photoUrl": "https://lh3.googleusercontent.com/a-/AOh14GhO5MpcihqCafTv8Tf9MUwRyHV6tO2uPdiXma2V=s64",
      "userId": "07374601175312417068"
     },
     "user_tz": -420
    },
    "id": "712e35c5"
   },
   "outputs": [],
   "source": [
    "def create_feature_bow(image_descriptors, bow, num_cluster):\n",
    "    X_features = []\n",
    "\n",
    "    for i in range(len(image_descriptors)):\n",
    "        features = np.array([0] * num_cluster, dtype=float)\n",
    "\n",
    "        if image_descriptors[i] is not None:\n",
    "            distance = cdist(image_descriptors[i], bow)\n",
    "            argmin = np.argmin(distance, axis = 1)\n",
    "\n",
    "            for j in argmin:\n",
    "                features[j] += 1.0\n",
    "        X_features.append(features)\n",
    "\n",
    "    return np.array(X_features)"
   ]
  },
  {
   "cell_type": "code",
   "execution_count": 91,
   "id": "f0aecc4b",
   "metadata": {
    "colab": {
     "base_uri": "https://localhost:8080/",
     "height": 207
    },
    "executionInfo": {
     "elapsed": 545,
     "status": "error",
     "timestamp": 1648222301412,
     "user": {
      "displayName": "Rama Tri Agung",
      "photoUrl": "https://lh3.googleusercontent.com/a-/AOh14GhO5MpcihqCafTv8Tf9MUwRyHV6tO2uPdiXma2V=s64",
      "userId": "07374601175312417068"
     },
     "user_tz": -420
    },
    "id": "f0aecc4b",
    "outputId": "53813cfb-2ae4-4c56-e177-e4adaf78f722",
    "scrolled": true
   },
   "outputs": [
    {
     "name": "stdout",
     "output_type": "stream",
     "text": [
      "Feature X data dimension: (2940, 750)\n"
     ]
    }
   ],
   "source": [
    "X_feature = create_feature_bow(image_descriptors, bow, num_cluster)\n",
    "\n",
    "print(\"Feature X data dimension:\", X_feature.shape)"
   ]
  },
  {
   "cell_type": "markdown",
   "id": "57285a41",
   "metadata": {
    "id": "57285a41"
   },
   "source": [
    "# Classification With SIFT\n",
    "\n",
    "- input: `X_feature, y`\n",
    "- output: -"
   ]
  },
  {
   "cell_type": "code",
   "execution_count": 92,
   "id": "d405ef19",
   "metadata": {
    "executionInfo": {
     "elapsed": 26,
     "status": "ok",
     "timestamp": 1648213228936,
     "user": {
      "displayName": "Rama Tri Agung",
      "photoUrl": "https://lh3.googleusercontent.com/a-/AOh14GhO5MpcihqCafTv8Tf9MUwRyHV6tO2uPdiXma2V=s64",
      "userId": "07374601175312417068"
     },
     "user_tz": -420
    },
    "id": "d405ef19"
   },
   "outputs": [],
   "source": [
    "# normalization\n",
    "scaler = MinMaxScaler().fit(X_feature)\n",
    "X_scale = scaler.transform(X_feature)"
   ]
  },
  {
   "cell_type": "markdown",
   "id": "e4cfaa86",
   "metadata": {},
   "source": [
    "#### Save scaler"
   ]
  },
  {
   "cell_type": "code",
   "execution_count": 93,
   "id": "132fcf02",
   "metadata": {},
   "outputs": [],
   "source": [
    "# Just save normalization function for future used\n",
    "save_file_pickle(scaler, SCALER_WS_FILE_PICKLE)"
   ]
  },
  {
   "cell_type": "code",
   "execution_count": 94,
   "id": "d113c312",
   "metadata": {
    "colab": {
     "base_uri": "https://localhost:8080/"
    },
    "executionInfo": {
     "elapsed": 24,
     "status": "ok",
     "timestamp": 1648213228936,
     "user": {
      "displayName": "Rama Tri Agung",
      "photoUrl": "https://lh3.googleusercontent.com/a-/AOh14GhO5MpcihqCafTv8Tf9MUwRyHV6tO2uPdiXma2V=s64",
      "userId": "07374601175312417068"
     },
     "user_tz": -420
    },
    "id": "d113c312",
    "outputId": "22f4c248-9765-449e-807b-76f917198dfb"
   },
   "outputs": [
    {
     "name": "stdout",
     "output_type": "stream",
     "text": [
      "Size of training: 2499\n",
      "Size of testing: 441\n"
     ]
    }
   ],
   "source": [
    "# splitting data\n",
    "X_train, X_test, y_train, y_test = train_test_split(X_scale, y, test_size=0.15, random_state=42)\n",
    "\n",
    "print(\"Size of training:\", X_train.shape[0])\n",
    "print(\"Size of testing:\", X_test.shape[0])"
   ]
  },
  {
   "cell_type": "markdown",
   "id": "58716071",
   "metadata": {
    "id": "58716071"
   },
   "source": [
    "### SVM\n",
    "\n",
    "Using GridSearchCV for tuning parameter, with scenario:\n",
    "- 'C': \\[ 1, 3, 6, 10, 15 \\]\n",
    "- 'gamma': \\[ 'scale', 0.001, 0.0015, 0.0025, 0.003 \\]\n",
    "    - 'scale' = 1 / nfeatures * x.var()"
   ]
  },
  {
   "cell_type": "markdown",
   "id": "d619d7b2",
   "metadata": {},
   "source": [
    "#### Load model"
   ]
  },
  {
   "cell_type": "code",
   "execution_count": 95,
   "id": "e4a3995a",
   "metadata": {},
   "outputs": [],
   "source": [
    "# Just load model without re-training if you want\n",
    "svm_ws = load_file_pickle(SVM_WS_FILE_PICKLE)"
   ]
  },
  {
   "cell_type": "code",
   "execution_count": 96,
   "id": "44f0b59e",
   "metadata": {},
   "outputs": [
    {
     "name": "stdout",
     "output_type": "stream",
     "text": [
      "0.11291\n",
      "0.00226\n",
      "[0.10839, 0.11065, 0.11291, 0.11517, 0.11743]\n"
     ]
    }
   ],
   "source": [
    "# create parameter tuning\n",
    "_var = X_train.var()\n",
    "_scale = round(1 / (num_cluster * X_train.var()), 5)\n",
    "_dist = round(_scale * 2 / 100, 5)\n",
    "_scale_1 = round(_scale - (2 * _dist), 5)\n",
    "_scale_2 = round(_scale - _dist, 5)\n",
    "_scale_3 = round(_scale + _dist, 5)\n",
    "_scale_4 = round(_scale + (2 * _dist), 5)\n",
    "\n",
    "_gamma = [_scale_1, _scale_2, _scale, _scale_3, _scale_4]\n",
    "_c = [1, 3, 6, 10, 15]\n",
    "\n",
    "print(_scale)\n",
    "print(_dist)\n",
    "print(_gamma)"
   ]
  },
  {
   "cell_type": "code",
   "execution_count": 97,
   "id": "ba7680fc",
   "metadata": {
    "executionInfo": {
     "elapsed": 5,
     "status": "ok",
     "timestamp": 1648213230257,
     "user": {
      "displayName": "Rama Tri Agung",
      "photoUrl": "https://lh3.googleusercontent.com/a-/AOh14GhO5MpcihqCafTv8Tf9MUwRyHV6tO2uPdiXma2V=s64",
      "userId": "07374601175312417068"
     },
     "user_tz": -420
    },
    "id": "ba7680fc"
   },
   "outputs": [],
   "source": [
    "svm_ws_params = {\n",
    "    'C': _c,\n",
    "    'gamma': _gamma\n",
    "}\n",
    "svm_ws = GridSearchCV(estimator=SVC(kernel='rbf', probability=True), param_grid=svm_ws_params, cv=5, verbose=3)"
   ]
  },
  {
   "cell_type": "code",
   "execution_count": 98,
   "id": "c80d381c",
   "metadata": {
    "colab": {
     "base_uri": "https://localhost:8080/"
    },
    "executionInfo": {
     "elapsed": 239531,
     "status": "ok",
     "timestamp": 1648213469785,
     "user": {
      "displayName": "Rama Tri Agung",
      "photoUrl": "https://lh3.googleusercontent.com/a-/AOh14GhO5MpcihqCafTv8Tf9MUwRyHV6tO2uPdiXma2V=s64",
      "userId": "07374601175312417068"
     },
     "user_tz": -420
    },
    "id": "c80d381c",
    "outputId": "2e18e718-49c6-420f-c71d-d24d55e0c11e",
    "scrolled": true
   },
   "outputs": [
    {
     "name": "stdout",
     "output_type": "stream",
     "text": [
      "Fitting 5 folds for each of 25 candidates, totalling 125 fits\n",
      "[CV 1/5] END ................C=1, gamma=0.10839;, score=0.904 total time=   7.4s\n",
      "[CV 2/5] END ................C=1, gamma=0.10839;, score=0.912 total time=   7.5s\n",
      "[CV 3/5] END ................C=1, gamma=0.10839;, score=0.912 total time=   7.6s\n",
      "[CV 4/5] END ................C=1, gamma=0.10839;, score=0.904 total time=   7.5s\n",
      "[CV 5/5] END ................C=1, gamma=0.10839;, score=0.914 total time=   7.4s\n",
      "[CV 1/5] END ................C=1, gamma=0.11065;, score=0.902 total time=   7.2s\n",
      "[CV 2/5] END ................C=1, gamma=0.11065;, score=0.912 total time=   7.7s\n",
      "[CV 3/5] END ................C=1, gamma=0.11065;, score=0.914 total time=   7.8s\n",
      "[CV 4/5] END ................C=1, gamma=0.11065;, score=0.902 total time=   7.9s\n",
      "[CV 5/5] END ................C=1, gamma=0.11065;, score=0.914 total time=   7.5s\n",
      "[CV 1/5] END ................C=1, gamma=0.11291;, score=0.900 total time=   7.7s\n",
      "[CV 2/5] END ................C=1, gamma=0.11291;, score=0.912 total time=   7.5s\n",
      "[CV 3/5] END ................C=1, gamma=0.11291;, score=0.914 total time=   7.7s\n",
      "[CV 4/5] END ................C=1, gamma=0.11291;, score=0.902 total time=   7.4s\n",
      "[CV 5/5] END ................C=1, gamma=0.11291;, score=0.914 total time=   7.3s\n",
      "[CV 1/5] END ................C=1, gamma=0.11517;, score=0.900 total time=   7.4s\n",
      "[CV 2/5] END ................C=1, gamma=0.11517;, score=0.912 total time=   7.4s\n",
      "[CV 3/5] END ................C=1, gamma=0.11517;, score=0.914 total time=   7.4s\n",
      "[CV 4/5] END ................C=1, gamma=0.11517;, score=0.900 total time=   7.5s\n",
      "[CV 5/5] END ................C=1, gamma=0.11517;, score=0.916 total time=   7.7s\n",
      "[CV 1/5] END ................C=1, gamma=0.11743;, score=0.898 total time=   7.6s\n",
      "[CV 2/5] END ................C=1, gamma=0.11743;, score=0.912 total time=   7.6s\n",
      "[CV 3/5] END ................C=1, gamma=0.11743;, score=0.914 total time=   7.6s\n",
      "[CV 4/5] END ................C=1, gamma=0.11743;, score=0.900 total time=   7.7s\n",
      "[CV 5/5] END ................C=1, gamma=0.11743;, score=0.916 total time=   7.3s\n",
      "[CV 1/5] END ................C=3, gamma=0.10839;, score=0.906 total time=   7.5s\n",
      "[CV 2/5] END ................C=3, gamma=0.10839;, score=0.916 total time=   7.3s\n",
      "[CV 3/5] END ................C=3, gamma=0.10839;, score=0.928 total time=   7.3s\n",
      "[CV 4/5] END ................C=3, gamma=0.10839;, score=0.916 total time=   7.2s\n",
      "[CV 5/5] END ................C=3, gamma=0.10839;, score=0.922 total time=   7.2s\n",
      "[CV 1/5] END ................C=3, gamma=0.11065;, score=0.902 total time=   7.3s\n",
      "[CV 2/5] END ................C=3, gamma=0.11065;, score=0.916 total time=   7.2s\n",
      "[CV 3/5] END ................C=3, gamma=0.11065;, score=0.928 total time=   7.3s\n",
      "[CV 4/5] END ................C=3, gamma=0.11065;, score=0.916 total time=   7.2s\n",
      "[CV 5/5] END ................C=3, gamma=0.11065;, score=0.922 total time=   7.6s\n",
      "[CV 1/5] END ................C=3, gamma=0.11291;, score=0.904 total time=   7.6s\n",
      "[CV 2/5] END ................C=3, gamma=0.11291;, score=0.916 total time=   8.3s\n",
      "[CV 3/5] END ................C=3, gamma=0.11291;, score=0.928 total time=   8.4s\n",
      "[CV 4/5] END ................C=3, gamma=0.11291;, score=0.916 total time=   8.1s\n",
      "[CV 5/5] END ................C=3, gamma=0.11291;, score=0.922 total time=   7.8s\n",
      "[CV 1/5] END ................C=3, gamma=0.11517;, score=0.904 total time=   7.7s\n",
      "[CV 2/5] END ................C=3, gamma=0.11517;, score=0.920 total time=   7.6s\n",
      "[CV 3/5] END ................C=3, gamma=0.11517;, score=0.928 total time=   7.6s\n",
      "[CV 4/5] END ................C=3, gamma=0.11517;, score=0.916 total time=   8.1s\n",
      "[CV 5/5] END ................C=3, gamma=0.11517;, score=0.922 total time=   8.0s\n",
      "[CV 1/5] END ................C=3, gamma=0.11743;, score=0.900 total time=   7.6s\n",
      "[CV 2/5] END ................C=3, gamma=0.11743;, score=0.920 total time=   8.0s\n",
      "[CV 3/5] END ................C=3, gamma=0.11743;, score=0.928 total time=   7.8s\n",
      "[CV 4/5] END ................C=3, gamma=0.11743;, score=0.914 total time=   7.8s\n",
      "[CV 5/5] END ................C=3, gamma=0.11743;, score=0.922 total time=   8.0s\n",
      "[CV 1/5] END ................C=6, gamma=0.10839;, score=0.906 total time=   7.7s\n",
      "[CV 2/5] END ................C=6, gamma=0.10839;, score=0.920 total time=   7.8s\n",
      "[CV 3/5] END ................C=6, gamma=0.10839;, score=0.926 total time=   7.7s\n",
      "[CV 4/5] END ................C=6, gamma=0.10839;, score=0.922 total time=   7.4s\n",
      "[CV 5/5] END ................C=6, gamma=0.10839;, score=0.924 total time=   7.6s\n",
      "[CV 1/5] END ................C=6, gamma=0.11065;, score=0.902 total time=   7.4s\n",
      "[CV 2/5] END ................C=6, gamma=0.11065;, score=0.920 total time=   7.6s\n",
      "[CV 3/5] END ................C=6, gamma=0.11065;, score=0.926 total time=   7.8s\n",
      "[CV 4/5] END ................C=6, gamma=0.11065;, score=0.922 total time=   7.7s\n",
      "[CV 5/5] END ................C=6, gamma=0.11065;, score=0.924 total time=   7.6s\n",
      "[CV 1/5] END ................C=6, gamma=0.11291;, score=0.902 total time=   7.4s\n",
      "[CV 2/5] END ................C=6, gamma=0.11291;, score=0.920 total time=   7.3s\n",
      "[CV 3/5] END ................C=6, gamma=0.11291;, score=0.926 total time=   7.4s\n",
      "[CV 4/5] END ................C=6, gamma=0.11291;, score=0.920 total time=   7.4s\n",
      "[CV 5/5] END ................C=6, gamma=0.11291;, score=0.924 total time=   7.3s\n",
      "[CV 1/5] END ................C=6, gamma=0.11517;, score=0.902 total time=   7.4s\n",
      "[CV 2/5] END ................C=6, gamma=0.11517;, score=0.920 total time=   7.3s\n",
      "[CV 3/5] END ................C=6, gamma=0.11517;, score=0.926 total time=   7.4s\n",
      "[CV 4/5] END ................C=6, gamma=0.11517;, score=0.920 total time=   7.6s\n",
      "[CV 5/5] END ................C=6, gamma=0.11517;, score=0.924 total time=   8.5s\n",
      "[CV 1/5] END ................C=6, gamma=0.11743;, score=0.898 total time=   7.8s\n",
      "[CV 2/5] END ................C=6, gamma=0.11743;, score=0.922 total time=   7.8s\n",
      "[CV 3/5] END ................C=6, gamma=0.11743;, score=0.926 total time=   7.7s\n",
      "[CV 4/5] END ................C=6, gamma=0.11743;, score=0.918 total time=   7.8s\n",
      "[CV 5/5] END ................C=6, gamma=0.11743;, score=0.924 total time=   7.7s\n",
      "[CV 1/5] END ...............C=10, gamma=0.10839;, score=0.906 total time=   7.6s\n",
      "[CV 2/5] END ...............C=10, gamma=0.10839;, score=0.922 total time=   7.5s\n",
      "[CV 3/5] END ...............C=10, gamma=0.10839;, score=0.926 total time=   8.0s\n",
      "[CV 4/5] END ...............C=10, gamma=0.10839;, score=0.922 total time=   9.3s\n",
      "[CV 5/5] END ...............C=10, gamma=0.10839;, score=0.926 total time=   8.2s\n",
      "[CV 1/5] END ...............C=10, gamma=0.11065;, score=0.902 total time=   7.4s\n",
      "[CV 2/5] END ...............C=10, gamma=0.11065;, score=0.922 total time=   7.5s\n",
      "[CV 3/5] END ...............C=10, gamma=0.11065;, score=0.926 total time=   7.7s\n",
      "[CV 4/5] END ...............C=10, gamma=0.11065;, score=0.922 total time=   7.4s\n",
      "[CV 5/5] END ...............C=10, gamma=0.11065;, score=0.926 total time=   7.7s\n",
      "[CV 1/5] END ...............C=10, gamma=0.11291;, score=0.902 total time=   7.7s\n",
      "[CV 2/5] END ...............C=10, gamma=0.11291;, score=0.922 total time=   7.9s\n",
      "[CV 3/5] END ...............C=10, gamma=0.11291;, score=0.926 total time=   7.9s\n",
      "[CV 4/5] END ...............C=10, gamma=0.11291;, score=0.920 total time=   8.7s\n",
      "[CV 5/5] END ...............C=10, gamma=0.11291;, score=0.926 total time=   8.1s\n",
      "[CV 1/5] END ...............C=10, gamma=0.11517;, score=0.902 total time=   7.4s\n",
      "[CV 2/5] END ...............C=10, gamma=0.11517;, score=0.922 total time=   7.5s\n",
      "[CV 3/5] END ...............C=10, gamma=0.11517;, score=0.926 total time=   7.5s\n",
      "[CV 4/5] END ...............C=10, gamma=0.11517;, score=0.920 total time=   7.5s\n",
      "[CV 5/5] END ...............C=10, gamma=0.11517;, score=0.926 total time=   7.5s\n",
      "[CV 1/5] END ...............C=10, gamma=0.11743;, score=0.898 total time=   7.4s\n",
      "[CV 2/5] END ...............C=10, gamma=0.11743;, score=0.924 total time=   7.5s\n",
      "[CV 3/5] END ...............C=10, gamma=0.11743;, score=0.926 total time=   7.5s\n",
      "[CV 4/5] END ...............C=10, gamma=0.11743;, score=0.918 total time=   7.5s\n",
      "[CV 5/5] END ...............C=10, gamma=0.11743;, score=0.926 total time=   7.6s\n",
      "[CV 1/5] END ...............C=15, gamma=0.10839;, score=0.906 total time=   7.4s\n",
      "[CV 2/5] END ...............C=15, gamma=0.10839;, score=0.922 total time=   7.5s\n",
      "[CV 3/5] END ...............C=15, gamma=0.10839;, score=0.926 total time=   7.4s\n",
      "[CV 4/5] END ...............C=15, gamma=0.10839;, score=0.922 total time=   7.4s\n",
      "[CV 5/5] END ...............C=15, gamma=0.10839;, score=0.926 total time=   7.4s\n",
      "[CV 1/5] END ...............C=15, gamma=0.11065;, score=0.902 total time=   7.5s\n",
      "[CV 2/5] END ...............C=15, gamma=0.11065;, score=0.922 total time=   7.8s\n",
      "[CV 3/5] END ...............C=15, gamma=0.11065;, score=0.926 total time=   7.7s\n",
      "[CV 4/5] END ...............C=15, gamma=0.11065;, score=0.922 total time=   7.9s\n",
      "[CV 5/5] END ...............C=15, gamma=0.11065;, score=0.926 total time=   7.6s\n",
      "[CV 1/5] END ...............C=15, gamma=0.11291;, score=0.902 total time=   7.6s\n",
      "[CV 2/5] END ...............C=15, gamma=0.11291;, score=0.922 total time=   7.4s\n",
      "[CV 3/5] END ...............C=15, gamma=0.11291;, score=0.926 total time=   7.6s\n",
      "[CV 4/5] END ...............C=15, gamma=0.11291;, score=0.920 total time=   7.5s\n",
      "[CV 5/5] END ...............C=15, gamma=0.11291;, score=0.926 total time=   7.5s\n",
      "[CV 1/5] END ...............C=15, gamma=0.11517;, score=0.902 total time=   7.5s\n",
      "[CV 2/5] END ...............C=15, gamma=0.11517;, score=0.922 total time=   7.5s\n",
      "[CV 3/5] END ...............C=15, gamma=0.11517;, score=0.926 total time=   7.5s\n",
      "[CV 4/5] END ...............C=15, gamma=0.11517;, score=0.920 total time=   7.5s\n",
      "[CV 5/5] END ...............C=15, gamma=0.11517;, score=0.926 total time=   7.6s\n",
      "[CV 1/5] END ...............C=15, gamma=0.11743;, score=0.898 total time=   7.5s\n",
      "[CV 2/5] END ...............C=15, gamma=0.11743;, score=0.924 total time=   7.5s\n",
      "[CV 3/5] END ...............C=15, gamma=0.11743;, score=0.926 total time=   7.6s\n",
      "[CV 4/5] END ...............C=15, gamma=0.11743;, score=0.918 total time=   7.5s\n",
      "[CV 5/5] END ...............C=15, gamma=0.11743;, score=0.926 total time=   7.5s\n"
     ]
    },
    {
     "data": {
      "text/plain": [
       "GridSearchCV(cv=5, estimator=SVC(probability=True),\n",
       "             param_grid={'C': [1, 3, 6, 10, 15],\n",
       "                         'gamma': [0.10839, 0.11065, 0.11291, 0.11517,\n",
       "                                   0.11743]},\n",
       "             verbose=3)"
      ]
     },
     "execution_count": 98,
     "metadata": {},
     "output_type": "execute_result"
    }
   ],
   "source": [
    "svm_ws.fit(X_train, y_train)"
   ]
  },
  {
   "cell_type": "code",
   "execution_count": 99,
   "id": "lyalc_iR_e0d",
   "metadata": {
    "colab": {
     "base_uri": "https://localhost:8080/"
    },
    "executionInfo": {
     "elapsed": 25,
     "status": "ok",
     "timestamp": 1648213469785,
     "user": {
      "displayName": "Rama Tri Agung",
      "photoUrl": "https://lh3.googleusercontent.com/a-/AOh14GhO5MpcihqCafTv8Tf9MUwRyHV6tO2uPdiXma2V=s64",
      "userId": "07374601175312417068"
     },
     "user_tz": -420
    },
    "id": "lyalc_iR_e0d",
    "outputId": "7e18bc20-fb83-4c15-b27e-5b47236af547"
   },
   "outputs": [
    {
     "name": "stdout",
     "output_type": "stream",
     "text": [
      "Best Model: SVC(C=10, gamma=0.10839, probability=True)\n",
      "Best CV Score: 0.9203703406813627\n"
     ]
    }
   ],
   "source": [
    "print(\"Best Model:\", svm_ws.best_estimator_)\n",
    "print(\"Best CV Score:\", svm_ws.best_score_)"
   ]
  },
  {
   "cell_type": "markdown",
   "id": "8d31dd96",
   "metadata": {},
   "source": [
    "#### All result score CV from tuning parameter SVM"
   ]
  },
  {
   "cell_type": "code",
   "execution_count": 100,
   "id": "77F7WcPS_hod",
   "metadata": {
    "colab": {
     "base_uri": "https://localhost:8080/",
     "height": 865
    },
    "executionInfo": {
     "elapsed": 24,
     "status": "ok",
     "timestamp": 1648213469786,
     "user": {
      "displayName": "Rama Tri Agung",
      "photoUrl": "https://lh3.googleusercontent.com/a-/AOh14GhO5MpcihqCafTv8Tf9MUwRyHV6tO2uPdiXma2V=s64",
      "userId": "07374601175312417068"
     },
     "user_tz": -420
    },
    "id": "77F7WcPS_hod",
    "outputId": "fdd8f0d5-8cf5-45cd-97a1-eb17096d36bf"
   },
   "outputs": [
    {
     "data": {
      "text/html": [
       "<div>\n",
       "<style scoped>\n",
       "    .dataframe tbody tr th:only-of-type {\n",
       "        vertical-align: middle;\n",
       "    }\n",
       "\n",
       "    .dataframe tbody tr th {\n",
       "        vertical-align: top;\n",
       "    }\n",
       "\n",
       "    .dataframe thead th {\n",
       "        text-align: right;\n",
       "    }\n",
       "</style>\n",
       "<table border=\"1\" class=\"dataframe\">\n",
       "  <thead>\n",
       "    <tr style=\"text-align: right;\">\n",
       "      <th></th>\n",
       "      <th>params</th>\n",
       "      <th>rank_test_score</th>\n",
       "      <th>mean_test_score</th>\n",
       "      <th>std_test_score</th>\n",
       "    </tr>\n",
       "    <tr>\n",
       "      <th>kernel</th>\n",
       "      <th></th>\n",
       "      <th></th>\n",
       "      <th></th>\n",
       "      <th></th>\n",
       "    </tr>\n",
       "  </thead>\n",
       "  <tbody>\n",
       "    <tr>\n",
       "      <th>15_0.10839</th>\n",
       "      <td>{'C': 15, 'gamma': 0.10839}</td>\n",
       "      <td>1</td>\n",
       "      <td>0.920370</td>\n",
       "      <td>0.007397</td>\n",
       "    </tr>\n",
       "    <tr>\n",
       "      <th>10_0.10839</th>\n",
       "      <td>{'C': 10, 'gamma': 0.10839}</td>\n",
       "      <td>1</td>\n",
       "      <td>0.920370</td>\n",
       "      <td>0.007397</td>\n",
       "    </tr>\n",
       "    <tr>\n",
       "      <th>15_0.11065</th>\n",
       "      <td>{'C': 15, 'gamma': 0.11065}</td>\n",
       "      <td>3</td>\n",
       "      <td>0.919570</td>\n",
       "      <td>0.008959</td>\n",
       "    </tr>\n",
       "    <tr>\n",
       "      <th>10_0.11065</th>\n",
       "      <td>{'C': 10, 'gamma': 0.11065}</td>\n",
       "      <td>3</td>\n",
       "      <td>0.919570</td>\n",
       "      <td>0.008959</td>\n",
       "    </tr>\n",
       "    <tr>\n",
       "      <th>6_0.10839</th>\n",
       "      <td>{'C': 6, 'gamma': 0.10839}</td>\n",
       "      <td>5</td>\n",
       "      <td>0.919570</td>\n",
       "      <td>0.007069</td>\n",
       "    </tr>\n",
       "    <tr>\n",
       "      <th>15_0.11291</th>\n",
       "      <td>{'C': 15, 'gamma': 0.11291}</td>\n",
       "      <td>6</td>\n",
       "      <td>0.919170</td>\n",
       "      <td>0.008886</td>\n",
       "    </tr>\n",
       "    <tr>\n",
       "      <th>10_0.11517</th>\n",
       "      <td>{'C': 10, 'gamma': 0.11517}</td>\n",
       "      <td>6</td>\n",
       "      <td>0.919170</td>\n",
       "      <td>0.008886</td>\n",
       "    </tr>\n",
       "    <tr>\n",
       "      <th>10_0.11291</th>\n",
       "      <td>{'C': 10, 'gamma': 0.11291}</td>\n",
       "      <td>6</td>\n",
       "      <td>0.919170</td>\n",
       "      <td>0.008886</td>\n",
       "    </tr>\n",
       "    <tr>\n",
       "      <th>15_0.11517</th>\n",
       "      <td>{'C': 15, 'gamma': 0.11517}</td>\n",
       "      <td>6</td>\n",
       "      <td>0.919170</td>\n",
       "      <td>0.008886</td>\n",
       "    </tr>\n",
       "    <tr>\n",
       "      <th>6_0.11065</th>\n",
       "      <td>{'C': 6, 'gamma': 0.11065}</td>\n",
       "      <td>10</td>\n",
       "      <td>0.918770</td>\n",
       "      <td>0.008617</td>\n",
       "    </tr>\n",
       "    <tr>\n",
       "      <th>15_0.11743</th>\n",
       "      <td>{'C': 15, 'gamma': 0.11743}</td>\n",
       "      <td>11</td>\n",
       "      <td>0.918370</td>\n",
       "      <td>0.010592</td>\n",
       "    </tr>\n",
       "    <tr>\n",
       "      <th>10_0.11743</th>\n",
       "      <td>{'C': 10, 'gamma': 0.11743}</td>\n",
       "      <td>11</td>\n",
       "      <td>0.918370</td>\n",
       "      <td>0.010592</td>\n",
       "    </tr>\n",
       "    <tr>\n",
       "      <th>6_0.11517</th>\n",
       "      <td>{'C': 6, 'gamma': 0.11517}</td>\n",
       "      <td>13</td>\n",
       "      <td>0.918370</td>\n",
       "      <td>0.008503</td>\n",
       "    </tr>\n",
       "    <tr>\n",
       "      <th>6_0.11291</th>\n",
       "      <td>{'C': 6, 'gamma': 0.11291}</td>\n",
       "      <td>13</td>\n",
       "      <td>0.918370</td>\n",
       "      <td>0.008503</td>\n",
       "    </tr>\n",
       "    <tr>\n",
       "      <th>3_0.11517</th>\n",
       "      <td>{'C': 3, 'gamma': 0.11517}</td>\n",
       "      <td>15</td>\n",
       "      <td>0.917969</td>\n",
       "      <td>0.007985</td>\n",
       "    </tr>\n",
       "    <tr>\n",
       "      <th>6_0.11743</th>\n",
       "      <td>{'C': 6, 'gamma': 0.11743}</td>\n",
       "      <td>16</td>\n",
       "      <td>0.917570</td>\n",
       "      <td>0.010132</td>\n",
       "    </tr>\n",
       "    <tr>\n",
       "      <th>3_0.10839</th>\n",
       "      <td>{'C': 3, 'gamma': 0.10839}</td>\n",
       "      <td>17</td>\n",
       "      <td>0.917569</td>\n",
       "      <td>0.007292</td>\n",
       "    </tr>\n",
       "    <tr>\n",
       "      <th>3_0.11291</th>\n",
       "      <td>{'C': 3, 'gamma': 0.11291}</td>\n",
       "      <td>18</td>\n",
       "      <td>0.917169</td>\n",
       "      <td>0.007941</td>\n",
       "    </tr>\n",
       "    <tr>\n",
       "      <th>3_0.11743</th>\n",
       "      <td>{'C': 3, 'gamma': 0.11743}</td>\n",
       "      <td>19</td>\n",
       "      <td>0.916769</td>\n",
       "      <td>0.009499</td>\n",
       "    </tr>\n",
       "    <tr>\n",
       "      <th>3_0.11065</th>\n",
       "      <td>{'C': 3, 'gamma': 0.11065}</td>\n",
       "      <td>20</td>\n",
       "      <td>0.916769</td>\n",
       "      <td>0.008616</td>\n",
       "    </tr>\n",
       "    <tr>\n",
       "      <th>1_0.10839</th>\n",
       "      <td>{'C': 1, 'gamma': 0.10839}</td>\n",
       "      <td>21</td>\n",
       "      <td>0.909166</td>\n",
       "      <td>0.004270</td>\n",
       "    </tr>\n",
       "    <tr>\n",
       "      <th>1_0.11065</th>\n",
       "      <td>{'C': 1, 'gamma': 0.11065}</td>\n",
       "      <td>22</td>\n",
       "      <td>0.908766</td>\n",
       "      <td>0.005568</td>\n",
       "    </tr>\n",
       "    <tr>\n",
       "      <th>1_0.11517</th>\n",
       "      <td>{'C': 1, 'gamma': 0.11517}</td>\n",
       "      <td>23</td>\n",
       "      <td>0.908366</td>\n",
       "      <td>0.006938</td>\n",
       "    </tr>\n",
       "    <tr>\n",
       "      <th>1_0.11291</th>\n",
       "      <td>{'C': 1, 'gamma': 0.11291}</td>\n",
       "      <td>24</td>\n",
       "      <td>0.908366</td>\n",
       "      <td>0.006088</td>\n",
       "    </tr>\n",
       "    <tr>\n",
       "      <th>1_0.11743</th>\n",
       "      <td>{'C': 1, 'gamma': 0.11743}</td>\n",
       "      <td>25</td>\n",
       "      <td>0.907966</td>\n",
       "      <td>0.007448</td>\n",
       "    </tr>\n",
       "  </tbody>\n",
       "</table>\n",
       "</div>"
      ],
      "text/plain": [
       "                                 params  rank_test_score  mean_test_score  \\\n",
       "kernel                                                                      \n",
       "15_0.10839  {'C': 15, 'gamma': 0.10839}                1         0.920370   \n",
       "10_0.10839  {'C': 10, 'gamma': 0.10839}                1         0.920370   \n",
       "15_0.11065  {'C': 15, 'gamma': 0.11065}                3         0.919570   \n",
       "10_0.11065  {'C': 10, 'gamma': 0.11065}                3         0.919570   \n",
       "6_0.10839    {'C': 6, 'gamma': 0.10839}                5         0.919570   \n",
       "15_0.11291  {'C': 15, 'gamma': 0.11291}                6         0.919170   \n",
       "10_0.11517  {'C': 10, 'gamma': 0.11517}                6         0.919170   \n",
       "10_0.11291  {'C': 10, 'gamma': 0.11291}                6         0.919170   \n",
       "15_0.11517  {'C': 15, 'gamma': 0.11517}                6         0.919170   \n",
       "6_0.11065    {'C': 6, 'gamma': 0.11065}               10         0.918770   \n",
       "15_0.11743  {'C': 15, 'gamma': 0.11743}               11         0.918370   \n",
       "10_0.11743  {'C': 10, 'gamma': 0.11743}               11         0.918370   \n",
       "6_0.11517    {'C': 6, 'gamma': 0.11517}               13         0.918370   \n",
       "6_0.11291    {'C': 6, 'gamma': 0.11291}               13         0.918370   \n",
       "3_0.11517    {'C': 3, 'gamma': 0.11517}               15         0.917969   \n",
       "6_0.11743    {'C': 6, 'gamma': 0.11743}               16         0.917570   \n",
       "3_0.10839    {'C': 3, 'gamma': 0.10839}               17         0.917569   \n",
       "3_0.11291    {'C': 3, 'gamma': 0.11291}               18         0.917169   \n",
       "3_0.11743    {'C': 3, 'gamma': 0.11743}               19         0.916769   \n",
       "3_0.11065    {'C': 3, 'gamma': 0.11065}               20         0.916769   \n",
       "1_0.10839    {'C': 1, 'gamma': 0.10839}               21         0.909166   \n",
       "1_0.11065    {'C': 1, 'gamma': 0.11065}               22         0.908766   \n",
       "1_0.11517    {'C': 1, 'gamma': 0.11517}               23         0.908366   \n",
       "1_0.11291    {'C': 1, 'gamma': 0.11291}               24         0.908366   \n",
       "1_0.11743    {'C': 1, 'gamma': 0.11743}               25         0.907966   \n",
       "\n",
       "            std_test_score  \n",
       "kernel                      \n",
       "15_0.10839        0.007397  \n",
       "10_0.10839        0.007397  \n",
       "15_0.11065        0.008959  \n",
       "10_0.11065        0.008959  \n",
       "6_0.10839         0.007069  \n",
       "15_0.11291        0.008886  \n",
       "10_0.11517        0.008886  \n",
       "10_0.11291        0.008886  \n",
       "15_0.11517        0.008886  \n",
       "6_0.11065         0.008617  \n",
       "15_0.11743        0.010592  \n",
       "10_0.11743        0.010592  \n",
       "6_0.11517         0.008503  \n",
       "6_0.11291         0.008503  \n",
       "3_0.11517         0.007985  \n",
       "6_0.11743         0.010132  \n",
       "3_0.10839         0.007292  \n",
       "3_0.11291         0.007941  \n",
       "3_0.11743         0.009499  \n",
       "3_0.11065         0.008616  \n",
       "1_0.10839         0.004270  \n",
       "1_0.11065         0.005568  \n",
       "1_0.11517         0.006938  \n",
       "1_0.11291         0.006088  \n",
       "1_0.11743         0.007448  "
      ]
     },
     "execution_count": 100,
     "metadata": {},
     "output_type": "execute_result"
    }
   ],
   "source": [
    "cv_results_df = pd.DataFrame(svm_ws.cv_results_)\n",
    "cv_results_df = cv_results_df.sort_values(by=['rank_test_score'])\n",
    "cv_results_df = (\n",
    "    cv_results_df\n",
    "    .set_index(cv_results_df[\"params\"].apply(\n",
    "        lambda x: \"_\".join(str(val) for val in x.values()))\n",
    "    )\n",
    "    .rename_axis('kernel')\n",
    ")\n",
    "cv_results_df[\n",
    "    ['params', 'rank_test_score', 'mean_test_score', 'std_test_score']\n",
    "]"
   ]
  },
  {
   "cell_type": "markdown",
   "id": "637d2a06",
   "metadata": {},
   "source": [
    "#### Save model"
   ]
  },
  {
   "cell_type": "code",
   "execution_count": 101,
   "id": "79cedb44",
   "metadata": {},
   "outputs": [],
   "source": [
    "# Just save model for future used\n",
    "save_file_pickle(svm_ws, SVM_WS_FILE_PICKLE)"
   ]
  },
  {
   "cell_type": "markdown",
   "id": "a2904916",
   "metadata": {},
   "source": [
    "### Predict Data Testing\n",
    "\n",
    "Using SVC(C=3, gamma=0.0009)"
   ]
  },
  {
   "cell_type": "code",
   "execution_count": 102,
   "id": "rrF-6ztW_kSb",
   "metadata": {
    "executionInfo": {
     "elapsed": 16,
     "status": "ok",
     "timestamp": 1648213469786,
     "user": {
      "displayName": "Rama Tri Agung",
      "photoUrl": "https://lh3.googleusercontent.com/a-/AOh14GhO5MpcihqCafTv8Tf9MUwRyHV6tO2uPdiXma2V=s64",
      "userId": "07374601175312417068"
     },
     "user_tz": -420
    },
    "id": "rrF-6ztW_kSb"
   },
   "outputs": [],
   "source": [
    "y_pred = svm_ws.predict(X_test)"
   ]
  },
  {
   "cell_type": "code",
   "execution_count": 103,
   "id": "9f2b0992",
   "metadata": {},
   "outputs": [
    {
     "data": {
      "text/plain": [
       "array([[0.01194167, 0.05934038, 0.09336542, 0.01208993, 0.0019252 ,\n",
       "        0.01497194, 0.00735121, 0.01648902, 0.01312859, 0.00724837,\n",
       "        0.06574965, 0.00700472, 0.00823156, 0.00157585, 0.00068539,\n",
       "        0.61724921, 0.01358345, 0.01530997, 0.00209238, 0.03066611]])"
      ]
     },
     "execution_count": 103,
     "metadata": {},
     "output_type": "execute_result"
    }
   ],
   "source": [
    "test = svm_ws.predict_proba(np.reshape(X_test[0], (1, -1)))\n",
    "test"
   ]
  },
  {
   "cell_type": "code",
   "execution_count": 104,
   "id": "cc2a8394",
   "metadata": {},
   "outputs": [
    {
     "data": {
      "text/plain": [
       "'sa'"
      ]
     },
     "execution_count": 104,
     "metadata": {},
     "output_type": "execute_result"
    }
   ],
   "source": [
    "test_label = hanacaraka[test.argmax()]\n",
    "test_label\n"
   ]
  },
  {
   "cell_type": "code",
   "execution_count": 105,
   "id": "9ec69e17",
   "metadata": {},
   "outputs": [
    {
     "data": {
      "text/plain": [
       "61.72"
      ]
     },
     "execution_count": 105,
     "metadata": {},
     "output_type": "execute_result"
    }
   ],
   "source": [
    "test_acc = round(test.max() * 100, 2)\n",
    "test_acc"
   ]
  },
  {
   "attachments": {},
   "cell_type": "markdown",
   "id": "3912f115",
   "metadata": {},
   "source": [
    "test 2"
   ]
  },
  {
   "cell_type": "code",
   "execution_count": null,
   "id": "be86e99c",
   "metadata": {},
   "outputs": [],
   "source": []
  },
  {
   "cell_type": "markdown",
   "id": "1f0f9b3d",
   "metadata": {},
   "source": [
    "#### Heatmap result predict"
   ]
  },
  {
   "cell_type": "code",
   "execution_count": 106,
   "id": "41a647f0",
   "metadata": {},
   "outputs": [
    {
     "data": {
      "image/png": "[encoded data removed]",
      "text/plain": [
       "<Figure size 1224x792 with 1 Axes>"
      ]
     },
     "metadata": {
      "needs_background": "light"
     },
     "output_type": "display_data"
    }
   ],
   "source": [
    "conf_ws = pd.DataFrame(confusion_matrix(y_test, y_pred), columns=hanacaraka, index=hanacaraka)\n",
    "\n",
    "plt.figure(figsize=(17,11))\n",
    "\n",
    "res = sns.heatmap(conf_ws, annot=True, fmt=\"g\", cmap=\"Blues\", cbar=False)\n",
    "res.set_yticklabels(res.get_ymajorticklabels(), fontsize = 14)\n",
    "res.set_xticklabels(res.get_xmajorticklabels(), fontsize = 14)\n",
    "\n",
    "plt.xlabel(\"Predicted\")\n",
    "plt.ylabel(\"Actual\")\n",
    "plt.title(\"Confusion Matrix Plot\")\n",
    "plt.show()"
   ]
  },
  {
   "cell_type": "code",
   "execution_count": 107,
   "id": "6622e3e2",
   "metadata": {
    "colab": {
     "base_uri": "https://localhost:8080/"
    },
    "executionInfo": {
     "elapsed": 16,
     "status": "ok",
     "timestamp": 1648213469787,
     "user": {
      "displayName": "Rama Tri Agung",
      "photoUrl": "https://lh3.googleusercontent.com/a-/AOh14GhO5MpcihqCafTv8Tf9MUwRyHV6tO2uPdiXma2V=s64",
      "userId": "07374601175312417068"
     },
     "user_tz": -420
    },
    "id": "6622e3e2",
    "outputId": "22122fe7-ac04-470f-9faa-f3839d1d29ac",
    "scrolled": false
   },
   "outputs": [
    {
     "name": "stdout",
     "output_type": "stream",
     "text": [
      "Classification report result:\n",
      "              precision    recall  f1-score   support\n",
      "\n",
      "          ba       0.95      1.00      0.98        21\n",
      "          ca       1.00      0.88      0.94        26\n",
      "          da       0.96      0.96      0.96        23\n",
      "         dha       1.00      0.93      0.96        28\n",
      "          ga       1.00      0.95      0.97        20\n",
      "          ha       0.75      0.79      0.77        19\n",
      "          ja       0.93      1.00      0.96        13\n",
      "          ka       0.97      1.00      0.98        28\n",
      "          la       0.91      0.84      0.87        25\n",
      "          ma       1.00      1.00      1.00        22\n",
      "          na       0.95      0.95      0.95        20\n",
      "         nga       1.00      1.00      1.00        21\n",
      "         nya       1.00      0.95      0.98        21\n",
      "          pa       0.72      1.00      0.84        18\n",
      "          ra       0.96      1.00      0.98        24\n",
      "          sa       0.93      1.00      0.96        25\n",
      "          ta       1.00      0.92      0.96        25\n",
      "         tha       1.00      1.00      1.00        22\n",
      "          wa       0.94      0.81      0.87        21\n",
      "          ya       0.89      0.89      0.89        19\n",
      "\n",
      "    accuracy                           0.94       441\n",
      "   macro avg       0.94      0.94      0.94       441\n",
      "weighted avg       0.95      0.94      0.94       441\n",
      "\n"
     ]
    }
   ],
   "source": [
    "class_rep_ws = classification_report(y_test, y_pred)\n",
    "\n",
    "print(\"Classification report result:\")\n",
    "print(class_rep_ws)"
   ]
  },
  {
   "cell_type": "markdown",
   "id": "de4810dd",
   "metadata": {},
   "source": [
    "### Result Accuracy Score for SVM with SIFT"
   ]
  },
  {
   "cell_type": "code",
   "execution_count": 108,
   "id": "fb12b508",
   "metadata": {},
   "outputs": [
    {
     "name": "stdout",
     "output_type": "stream",
     "text": [
      "Accuracy score: 0.9433106575963719\n"
     ]
    }
   ],
   "source": [
    "acc_ws = accuracy_score(y_test, y_pred)\n",
    "print(\"Accuracy score:\", acc_ws)"
   ]
  },
  {
   "cell_type": "markdown",
   "id": "c3e86b5b",
   "metadata": {},
   "source": [
    "# Note for Result SIFT With SVM"
   ]
  },
  {
   "cell_type": "markdown",
   "id": "6NbhunaQV9pq",
   "metadata": {
    "id": "6NbhunaQV9pq"
   },
   "source": [
    "### Testing Scenario\n",
    "- Img = \\[ 64, 96, 128, 164, 192, 224 \\]\n",
    "  - Img prep = Greyscale, Equalization\n",
    "- K = \\[ 1000, 700, 500, 350, 240, 180 \\]\n",
    "- C = \\[ 1, 3, 6, 10, 15\\]\n",
    "- G = \\[ 'auto', 0.001, 0.0015, 0.0025, 0.003 \\]"
   ]
  },
  {
   "cell_type": "markdown",
   "id": "6f652705",
   "metadata": {
    "id": "6f652705"
   },
   "source": [
    "### Result:\n",
    "- Img = (25,25), K = 180, SVM = 0.61\n",
    "- Img = (28,28), K = 140, SVM = 0.59\n",
    "- Img = (32,32), K = 140, SVM = 0.69\n",
    "- Img = (64,64), K = 180, SVM = 0.89\n",
    "- Img = (64,64), K = 240, SVM = .89:.90\n",
    "- Img = (96,96), K = 240, SVM = .89:.89\n",
    "- Img = (128,128), K = 140, SVM = .87:.89\n",
    "- Img = (128,128), K = 180, SVM = .88:.93\n",
    "- Img = (128,128), K = 240, SVM = .90:.95\n",
    "- Img = (128,128), K = 350, SVM = .91:.94\n",
    "- Img = (128,128), K = 500, SVM = .92:.95\n",
    "- Img = (128,128), K = 700, SVM = .92:.94\n",
    "- Img = (128,128), K = 1000, SVM = .92:.94\n",
    "- Img = (164,164), K = 240, SVM = .90:.91\n",
    "- Img = (192,192), K = 240, SVM = .90:.92\n",
    "- Img = (224,224), K = 240, SVM = .88:.90\n",
    "\n",
    "\n",
    "======================================\n",
    "\n",
    "- Img = (128,128), K = 60, KNN = 0.69, SVM = 0.82\n",
    "- Img = (128,128), K = 80, KNN = 0.71, SVM = 0.88\n",
    "- Img = (128,128), K = 100, KNN = 0.76, SVM = 0.90\n",
    "- Img = (128,128), K = 120, KNN = 0.74, SVM = 0.91\n",
    "- Img = (128,128), K = 140, KNN = 0.78, SVM = 0.92\n",
    "- Img = (128,128), K = 160, KNN = 0.76, SVM = 0.93\n",
    "- Img = (128,128), K = 180, KNN = 0.75, SVM = 0.92\n",
    "- Img = (128,128), K = 200, KNN = 0.75, SVM = 0.94 (G,T) / 0.92 (G,E) / 0.86 (G,E,T) / 0.86 (G,T,E)\n",
    "- Img = (128,128), K = 240, KNN = 0.76, SVM = 0.96 (G,T) / 0.90:0.94 (G,E)\n",
    "- Img = (128,128), K = 350, KNN = 0.75, SVM = 0.94\n",
    "- Img = (128,128), K = 500, KNN = 0.76, SVM = 0.97\n",
    "- Img = (128,128), K = 700, KNN = 0.71, SVM = 0.95\n",
    "- Img = (128,128), K = 1000, KNN = 0.63, SVM = 0.95\n"
   ]
  },
  {
   "cell_type": "markdown",
   "id": "FEwl7fHNW0i7",
   "metadata": {
    "id": "FEwl7fHNW0i7"
   },
   "source": [
    "### Conclusion\n",
    "- Best image : 128x128\n",
    "  1. 128: .90:.94\n",
    "  2. 192: .90:.92\n",
    "  3. 164: .90:.91\n",
    "  4. 64: .89:.90\n",
    "  5. 96: .89:.89\n",
    "  6. 224: .88:.90\n",
    "- Best K val : 500 \n",
    "  1. 500 : .92:.95\n",
    "  2. 240 : .90:.95\n",
    "  3. 700 : .92:.94\n",
    "  4. 1000 : .92:.94\n",
    "  5. 350 : .91:.94\n",
    "  6. 180 : .88:.93\n",
    "- Best C val : 6\n",
    "- Best G val : 0.0015"
   ]
  },
  {
   "cell_type": "markdown",
   "id": "bee227a3",
   "metadata": {
    "id": "bee227a3"
   },
   "source": [
    "# Classification Without SIFT\n",
    "\n",
    "- input: `X, y`\n",
    "- output: -"
   ]
  },
  {
   "cell_type": "markdown",
   "id": "863fce53",
   "metadata": {
    "id": "863fce53"
   },
   "source": [
    "### Image Preprocessing\n",
    "\n",
    "Data should be resized for lower time consumtion training"
   ]
  },
  {
   "cell_type": "code",
   "execution_count": 43,
   "id": "568216c7",
   "metadata": {
    "id": "568216c7"
   },
   "outputs": [],
   "source": [
    "# new_X = X\n",
    "new_X = []\n",
    "\n",
    "for i in range(X.shape[0]) :\n",
    "    new_X.append(equalizing(resizing(X[i], 32)))\n",
    "    \n",
    "new_X = np.array(new_X, dtype=np.uint8)"
   ]
  },
  {
   "cell_type": "markdown",
   "id": "5424a478",
   "metadata": {},
   "source": [
    "### Visualize Result Data"
   ]
  },
  {
   "cell_type": "code",
   "execution_count": 44,
   "id": "63c06f01",
   "metadata": {
    "colab": {
     "base_uri": "https://localhost:8080/",
     "height": 244
    },
    "executionInfo": {
     "elapsed": 974,
     "status": "ok",
     "timestamp": 1648212100155,
     "user": {
      "displayName": "Rama Tri Agung",
      "photoUrl": "https://lh3.googleusercontent.com/a-/AOh14GhO5MpcihqCafTv8Tf9MUwRyHV6tO2uPdiXma2V=s64",
      "userId": "07374601175312417068"
     },
     "user_tz": -420
    },
    "id": "dad58e22",
    "outputId": "f1c45b6a-2a6e-4021-84be-7e734c564a4a"
   },
   "outputs": [
    {
     "data": {
      "image/png": "[encoded data removed]",
      "text/plain": [
       "<Figure size 1152x288 with 8 Axes>"
      ]
     },
     "metadata": {
      "needs_background": "light"
     },
     "output_type": "display_data"
    }
   ],
   "source": [
    "np.random.seed(42)\n",
    "\n",
    "fig = plt.figure(figsize=(16, 4))\n",
    "columns = 8\n",
    "rows = 1\n",
    "for i in range(1, columns*rows + 1):\n",
    "    img = np.array(new_X[np.random.randint(0, new_X.shape[0]), :])\n",
    "    fig.add_subplot(rows, columns, i)\n",
    "    plt.imshow(img, cmap='gray', vmin=0, vmax=255)\n",
    "    plt.axis('off')\n",
    "\n",
    "plt.show()"
   ]
  },
  {
   "cell_type": "markdown",
   "id": "1bb93b08",
   "metadata": {
    "id": "1bb93b08"
   },
   "source": [
    "### Preprocessing"
   ]
  },
  {
   "cell_type": "code",
   "execution_count": 45,
   "id": "90fd017d",
   "metadata": {
    "id": "90fd017d",
    "outputId": "7a63dc19-560c-46b9-c893-6072ff52b961"
   },
   "outputs": [
    {
     "name": "stdout",
     "output_type": "stream",
     "text": [
      "Feature X data dimension: (2940, 1024)\n"
     ]
    }
   ],
   "source": [
    "# reshape data\n",
    "X_feature = np.reshape(new_X, (new_X.shape[0], new_X[0].shape[0]*new_X[0].shape[1]))\n",
    "print(\"Feature X data dimension:\", X_feature.shape)"
   ]
  },
  {
   "cell_type": "code",
   "execution_count": 46,
   "id": "e04ace7a",
   "metadata": {
    "id": "e04ace7a",
    "outputId": "fc2ea163-802d-48b7-a13a-34543f0a25f1"
   },
   "outputs": [],
   "source": [
    "# normalization\n",
    "scaler = MinMaxScaler().fit(X_feature)\n",
    "X_scale = scaler.transform(X_feature)"
   ]
  },
  {
   "cell_type": "markdown",
   "id": "7c56371a",
   "metadata": {},
   "source": [
    "#### Save scaler"
   ]
  },
  {
   "cell_type": "code",
   "execution_count": 47,
   "id": "1ce08895",
   "metadata": {},
   "outputs": [],
   "source": [
    "# Just save normalization function for future used\n",
    "save_file_pickle(scaler, SCALER_WOS_FILE_PICKLE)"
   ]
  },
  {
   "cell_type": "code",
   "execution_count": 48,
   "id": "d696176a",
   "metadata": {
    "id": "d696176a"
   },
   "outputs": [
    {
     "name": "stdout",
     "output_type": "stream",
     "text": [
      "Size of training: 2499\n",
      "Size of testing: 441\n"
     ]
    }
   ],
   "source": [
    "# splitting data\n",
    "X_train, X_test, y_train, y_test = train_test_split(X_scale, y, test_size=0.15, random_state=42)\n",
    "\n",
    "print(\"Size of training:\", X_train.shape[0])\n",
    "print(\"Size of testing:\", X_test.shape[0])"
   ]
  },
  {
   "cell_type": "markdown",
   "id": "fe36a378",
   "metadata": {
    "id": "fe36a378"
   },
   "source": [
    "### SVM\n",
    "\n",
    "Using GridSearchCV for tuning parameter, with scenario:\n",
    "- 'C': \\[ 1, 3, 6, 10, 15 \\]\n",
    "- 'gamma': \\[ 'scale', 0.0008, 0.001, 0.0015, 0.0018 \\]\n",
    "    - 'scale' = 1 / nfeatures * x.var()"
   ]
  },
  {
   "cell_type": "markdown",
   "id": "d03908ae",
   "metadata": {},
   "source": [
    "#### Load model"
   ]
  },
  {
   "cell_type": "code",
   "execution_count": 49,
   "id": "8bee594f",
   "metadata": {},
   "outputs": [],
   "source": [
    "# Just load model without re-training if you want\n",
    "svm_wos = load_file_pickle(SVM_WOS_FILE_PICKLE)"
   ]
  },
  {
   "cell_type": "code",
   "execution_count": 50,
   "id": "e0b43a54",
   "metadata": {},
   "outputs": [
    {
     "name": "stdout",
     "output_type": "stream",
     "text": [
      "0.02359\n",
      "0.00047\n",
      "[0.02265, 0.02312, 0.02359, 0.02406, 0.02453]\n"
     ]
    }
   ],
   "source": [
    "# create parameter tuning\n",
    "_var = X_train.var()\n",
    "_scale = round(1 / (1024 * X_train.var()), 5)\n",
    "_dist = round(_scale * 2 / 100, 5)\n",
    "_scale_1 = round(_scale - (2 * _dist), 5)\n",
    "_scale_2 = round(_scale - _dist, 5)\n",
    "_scale_3 = round(_scale + _dist, 5)\n",
    "_scale_4 = round(_scale + (2 * _dist), 5)\n",
    "\n",
    "_gamma = [_scale_1, _scale_2, _scale, _scale_3, _scale_4]\n",
    "_c = [1, 3, 6, 10, 15]\n",
    "\n",
    "print(_scale)\n",
    "print(_dist)\n",
    "print(_gamma)"
   ]
  },
  {
   "cell_type": "code",
   "execution_count": 51,
   "id": "698b084d",
   "metadata": {
    "id": "698b084d"
   },
   "outputs": [],
   "source": [
    "svm_wos_params = {\n",
    "    'C': [1, 3, 6, 10, 15],\n",
    "    'gamma': _gamma,\n",
    "}\n",
    "svm_wos = GridSearchCV(estimator=SVC(kernel='rbf', probability=True), param_grid=svm_wos_params, cv=5, verbose=3)"
   ]
  },
  {
   "cell_type": "code",
   "execution_count": 52,
   "id": "729b9961",
   "metadata": {
    "id": "729b9961",
    "scrolled": true
   },
   "outputs": [
    {
     "name": "stdout",
     "output_type": "stream",
     "text": [
      "Fitting 5 folds for each of 25 candidates, totalling 125 fits\n",
      "[CV 1/5] END ................C=1, gamma=0.02265;, score=0.444 total time=  12.0s\n",
      "[CV 2/5] END ................C=1, gamma=0.02265;, score=0.456 total time=  12.4s\n",
      "[CV 3/5] END ................C=1, gamma=0.02265;, score=0.428 total time=  11.4s\n",
      "[CV 4/5] END ................C=1, gamma=0.02265;, score=0.448 total time=  13.2s\n",
      "[CV 5/5] END ................C=1, gamma=0.02265;, score=0.453 total time=  11.7s\n",
      "[CV 1/5] END ................C=1, gamma=0.02312;, score=0.446 total time=  13.0s\n",
      "[CV 2/5] END ................C=1, gamma=0.02312;, score=0.460 total time=  12.1s\n",
      "[CV 3/5] END ................C=1, gamma=0.02312;, score=0.430 total time=  12.5s\n",
      "[CV 4/5] END ................C=1, gamma=0.02312;, score=0.448 total time=  14.3s\n",
      "[CV 5/5] END ................C=1, gamma=0.02312;, score=0.455 total time=  14.2s\n",
      "[CV 1/5] END ................C=1, gamma=0.02359;, score=0.448 total time=  11.8s\n",
      "[CV 2/5] END ................C=1, gamma=0.02359;, score=0.456 total time=  12.0s\n",
      "[CV 3/5] END ................C=1, gamma=0.02359;, score=0.434 total time=  11.5s\n",
      "[CV 4/5] END ................C=1, gamma=0.02359;, score=0.446 total time=  11.5s\n",
      "[CV 5/5] END ................C=1, gamma=0.02359;, score=0.453 total time=  11.7s\n",
      "[CV 1/5] END ................C=1, gamma=0.02406;, score=0.448 total time=  11.9s\n",
      "[CV 2/5] END ................C=1, gamma=0.02406;, score=0.456 total time=  11.7s\n",
      "[CV 3/5] END ................C=1, gamma=0.02406;, score=0.436 total time=  11.7s\n",
      "[CV 4/5] END ................C=1, gamma=0.02406;, score=0.448 total time=  11.6s\n",
      "[CV 5/5] END ................C=1, gamma=0.02406;, score=0.451 total time=  12.0s\n",
      "[CV 1/5] END ................C=1, gamma=0.02453;, score=0.450 total time=  13.4s\n",
      "[CV 2/5] END ................C=1, gamma=0.02453;, score=0.460 total time=  14.8s\n",
      "[CV 3/5] END ................C=1, gamma=0.02453;, score=0.442 total time=  13.5s\n",
      "[CV 4/5] END ................C=1, gamma=0.02453;, score=0.446 total time=  15.8s\n",
      "[CV 5/5] END ................C=1, gamma=0.02453;, score=0.451 total time=  19.4s\n",
      "[CV 1/5] END ................C=3, gamma=0.02265;, score=0.528 total time=  20.4s\n",
      "[CV 2/5] END ................C=3, gamma=0.02265;, score=0.510 total time=  17.9s\n",
      "[CV 3/5] END ................C=3, gamma=0.02265;, score=0.494 total time=  19.5s\n",
      "[CV 4/5] END ................C=3, gamma=0.02265;, score=0.508 total time=  21.5s\n",
      "[CV 5/5] END ................C=3, gamma=0.02265;, score=0.517 total time=  20.5s\n",
      "[CV 1/5] END ................C=3, gamma=0.02312;, score=0.528 total time=  20.9s\n",
      "[CV 2/5] END ................C=3, gamma=0.02312;, score=0.512 total time=  21.5s\n",
      "[CV 3/5] END ................C=3, gamma=0.02312;, score=0.494 total time=  21.4s\n",
      "[CV 4/5] END ................C=3, gamma=0.02312;, score=0.508 total time=  19.7s\n",
      "[CV 5/5] END ................C=3, gamma=0.02312;, score=0.517 total time=  23.6s\n",
      "[CV 1/5] END ................C=3, gamma=0.02359;, score=0.524 total time=  21.8s\n",
      "[CV 2/5] END ................C=3, gamma=0.02359;, score=0.508 total time=  21.7s\n",
      "[CV 3/5] END ................C=3, gamma=0.02359;, score=0.492 total time=  20.3s\n",
      "[CV 4/5] END ................C=3, gamma=0.02359;, score=0.510 total time=  19.4s\n",
      "[CV 5/5] END ................C=3, gamma=0.02359;, score=0.517 total time=  23.3s\n",
      "[CV 1/5] END ................C=3, gamma=0.02406;, score=0.522 total time=  22.7s\n",
      "[CV 2/5] END ................C=3, gamma=0.02406;, score=0.502 total time=  21.7s\n",
      "[CV 3/5] END ................C=3, gamma=0.02406;, score=0.496 total time=  21.5s\n",
      "[CV 4/5] END ................C=3, gamma=0.02406;, score=0.512 total time=  24.3s\n",
      "[CV 5/5] END ................C=3, gamma=0.02406;, score=0.521 total time=  22.9s\n",
      "[CV 1/5] END ................C=3, gamma=0.02453;, score=0.522 total time=  20.9s\n",
      "[CV 2/5] END ................C=3, gamma=0.02453;, score=0.502 total time=  23.6s\n",
      "[CV 3/5] END ................C=3, gamma=0.02453;, score=0.494 total time=  20.8s\n",
      "[CV 4/5] END ................C=3, gamma=0.02453;, score=0.510 total time=  18.7s\n",
      "[CV 5/5] END ................C=3, gamma=0.02453;, score=0.517 total time=  13.6s\n",
      "[CV 1/5] END ................C=6, gamma=0.02265;, score=0.526 total time=  14.9s\n",
      "[CV 2/5] END ................C=6, gamma=0.02265;, score=0.498 total time=  15.7s\n",
      "[CV 3/5] END ................C=6, gamma=0.02265;, score=0.492 total time=  15.0s\n",
      "[CV 4/5] END ................C=6, gamma=0.02265;, score=0.512 total time=  13.9s\n",
      "[CV 5/5] END ................C=6, gamma=0.02265;, score=0.519 total time=  13.5s\n",
      "[CV 1/5] END ................C=6, gamma=0.02312;, score=0.524 total time=  17.7s\n",
      "[CV 2/5] END ................C=6, gamma=0.02312;, score=0.498 total time=  15.5s\n",
      "[CV 3/5] END ................C=6, gamma=0.02312;, score=0.490 total time=  15.7s\n",
      "[CV 4/5] END ................C=6, gamma=0.02312;, score=0.518 total time=  17.2s\n",
      "[CV 5/5] END ................C=6, gamma=0.02312;, score=0.517 total time=  19.6s\n",
      "[CV 1/5] END ................C=6, gamma=0.02359;, score=0.524 total time=  20.0s\n",
      "[CV 2/5] END ................C=6, gamma=0.02359;, score=0.492 total time=  20.3s\n",
      "[CV 3/5] END ................C=6, gamma=0.02359;, score=0.490 total time=  21.1s\n",
      "[CV 4/5] END ................C=6, gamma=0.02359;, score=0.514 total time=  19.5s\n",
      "[CV 5/5] END ................C=6, gamma=0.02359;, score=0.515 total time=  21.1s\n",
      "[CV 1/5] END ................C=6, gamma=0.02406;, score=0.524 total time=  20.7s\n",
      "[CV 2/5] END ................C=6, gamma=0.02406;, score=0.494 total time=  22.1s\n",
      "[CV 3/5] END ................C=6, gamma=0.02406;, score=0.486 total time=  22.3s\n",
      "[CV 4/5] END ................C=6, gamma=0.02406;, score=0.516 total time=  20.1s\n",
      "[CV 5/5] END ................C=6, gamma=0.02406;, score=0.517 total time=  21.5s\n",
      "[CV 1/5] END ................C=6, gamma=0.02453;, score=0.526 total time=  22.4s\n",
      "[CV 2/5] END ................C=6, gamma=0.02453;, score=0.496 total time=  20.8s\n",
      "[CV 3/5] END ................C=6, gamma=0.02453;, score=0.486 total time=  22.1s\n",
      "[CV 4/5] END ................C=6, gamma=0.02453;, score=0.516 total time=  22.1s\n",
      "[CV 5/5] END ................C=6, gamma=0.02453;, score=0.511 total time=  20.1s\n",
      "[CV 1/5] END ...............C=10, gamma=0.02265;, score=0.528 total time=  20.8s\n",
      "[CV 2/5] END ...............C=10, gamma=0.02265;, score=0.500 total time=  23.4s\n",
      "[CV 3/5] END ...............C=10, gamma=0.02265;, score=0.490 total time=  22.5s\n",
      "[CV 4/5] END ...............C=10, gamma=0.02265;, score=0.510 total time=  20.4s\n",
      "[CV 5/5] END ...............C=10, gamma=0.02265;, score=0.519 total time=  19.8s\n",
      "[CV 1/5] END ...............C=10, gamma=0.02312;, score=0.524 total time=  20.4s\n",
      "[CV 2/5] END ...............C=10, gamma=0.02312;, score=0.496 total time=  24.1s\n",
      "[CV 3/5] END ...............C=10, gamma=0.02312;, score=0.492 total time=  23.0s\n",
      "[CV 4/5] END ...............C=10, gamma=0.02312;, score=0.516 total time=  21.7s\n",
      "[CV 5/5] END ...............C=10, gamma=0.02312;, score=0.517 total time=  20.8s\n",
      "[CV 1/5] END ...............C=10, gamma=0.02359;, score=0.524 total time=  21.7s\n",
      "[CV 2/5] END ...............C=10, gamma=0.02359;, score=0.494 total time=  23.5s\n",
      "[CV 3/5] END ...............C=10, gamma=0.02359;, score=0.492 total time=  20.5s\n",
      "[CV 4/5] END ...............C=10, gamma=0.02359;, score=0.512 total time=  20.5s\n",
      "[CV 5/5] END ...............C=10, gamma=0.02359;, score=0.515 total time=  21.2s\n",
      "[CV 1/5] END ...............C=10, gamma=0.02406;, score=0.524 total time=  21.4s\n",
      "[CV 2/5] END ...............C=10, gamma=0.02406;, score=0.496 total time=  19.6s\n",
      "[CV 3/5] END ...............C=10, gamma=0.02406;, score=0.488 total time=  15.3s\n",
      "[CV 4/5] END ...............C=10, gamma=0.02406;, score=0.514 total time=  13.7s\n",
      "[CV 5/5] END ...............C=10, gamma=0.02406;, score=0.515 total time=  13.9s\n",
      "[CV 1/5] END ...............C=10, gamma=0.02453;, score=0.526 total time=  13.2s\n",
      "[CV 2/5] END ...............C=10, gamma=0.02453;, score=0.496 total time=  13.7s\n",
      "[CV 3/5] END ...............C=10, gamma=0.02453;, score=0.486 total time=  18.8s\n",
      "[CV 4/5] END ...............C=10, gamma=0.02453;, score=0.514 total time=  17.4s\n",
      "[CV 5/5] END ...............C=10, gamma=0.02453;, score=0.511 total time=  16.8s\n",
      "[CV 1/5] END ...............C=15, gamma=0.02265;, score=0.528 total time=  15.8s\n",
      "[CV 2/5] END ...............C=15, gamma=0.02265;, score=0.500 total time=  16.5s\n",
      "[CV 3/5] END ...............C=15, gamma=0.02265;, score=0.490 total time=  17.8s\n",
      "[CV 4/5] END ...............C=15, gamma=0.02265;, score=0.510 total time=  18.3s\n",
      "[CV 5/5] END ...............C=15, gamma=0.02265;, score=0.519 total time=  18.8s\n",
      "[CV 1/5] END ...............C=15, gamma=0.02312;, score=0.524 total time=  17.7s\n",
      "[CV 2/5] END ...............C=15, gamma=0.02312;, score=0.496 total time=  16.4s\n",
      "[CV 3/5] END ...............C=15, gamma=0.02312;, score=0.492 total time=  17.8s\n",
      "[CV 4/5] END ...............C=15, gamma=0.02312;, score=0.516 total time=  18.3s\n",
      "[CV 5/5] END ...............C=15, gamma=0.02312;, score=0.517 total time=  15.8s\n",
      "[CV 1/5] END ...............C=15, gamma=0.02359;, score=0.524 total time=  16.0s\n",
      "[CV 2/5] END ...............C=15, gamma=0.02359;, score=0.494 total time=  15.8s\n",
      "[CV 3/5] END ...............C=15, gamma=0.02359;, score=0.492 total time=  15.9s\n",
      "[CV 4/5] END ...............C=15, gamma=0.02359;, score=0.512 total time=  16.8s\n",
      "[CV 5/5] END ...............C=15, gamma=0.02359;, score=0.515 total time=  17.6s\n",
      "[CV 1/5] END ...............C=15, gamma=0.02406;, score=0.524 total time=  16.6s\n",
      "[CV 2/5] END ...............C=15, gamma=0.02406;, score=0.496 total time=  15.8s\n",
      "[CV 3/5] END ...............C=15, gamma=0.02406;, score=0.488 total time=  16.5s\n",
      "[CV 4/5] END ...............C=15, gamma=0.02406;, score=0.514 total time=  16.2s\n",
      "[CV 5/5] END ...............C=15, gamma=0.02406;, score=0.515 total time=  16.3s\n",
      "[CV 1/5] END ...............C=15, gamma=0.02453;, score=0.526 total time=  17.6s\n",
      "[CV 2/5] END ...............C=15, gamma=0.02453;, score=0.496 total time=  16.6s\n",
      "[CV 3/5] END ...............C=15, gamma=0.02453;, score=0.486 total time=  18.6s\n",
      "[CV 4/5] END ...............C=15, gamma=0.02453;, score=0.514 total time=  18.6s\n",
      "[CV 5/5] END ...............C=15, gamma=0.02453;, score=0.511 total time=  17.8s\n"
     ]
    },
    {
     "data": {
      "text/plain": [
       "GridSearchCV(cv=5, estimator=SVC(probability=True),\n",
       "             param_grid={'C': [1, 3, 6, 10, 15],\n",
       "                         'gamma': [0.02265, 0.02312, 0.02359, 0.02406,\n",
       "                                   0.02453]},\n",
       "             verbose=3)"
      ]
     },
     "execution_count": 52,
     "metadata": {},
     "output_type": "execute_result"
    }
   ],
   "source": [
    "svm_wos.fit(X_train, y_train)"
   ]
  },
  {
   "cell_type": "code",
   "execution_count": 53,
   "id": "79542ab9",
   "metadata": {
    "id": "79542ab9"
   },
   "outputs": [
    {
     "name": "stdout",
     "output_type": "stream",
     "text": [
      "Best Model: SVC(C=3, gamma=0.02312, probability=True)\n",
      "Best CV Score: 0.5118068136272544\n"
     ]
    }
   ],
   "source": [
    "print(\"Best Model:\", svm_wos.best_estimator_)\n",
    "print(\"Best CV Score:\", svm_wos.best_score_)"
   ]
  },
  {
   "cell_type": "markdown",
   "id": "87c05632",
   "metadata": {},
   "source": [
    "#### All result score CV from tuning parameter SVM"
   ]
  },
  {
   "cell_type": "code",
   "execution_count": 54,
   "id": "8395f188",
   "metadata": {
    "id": "8395f188",
    "scrolled": true
   },
   "outputs": [
    {
     "data": {
      "text/html": [
       "<div>\n",
       "<style scoped>\n",
       "    .dataframe tbody tr th:only-of-type {\n",
       "        vertical-align: middle;\n",
       "    }\n",
       "\n",
       "    .dataframe tbody tr th {\n",
       "        vertical-align: top;\n",
       "    }\n",
       "\n",
       "    .dataframe thead th {\n",
       "        text-align: right;\n",
       "    }\n",
       "</style>\n",
       "<table border=\"1\" class=\"dataframe\">\n",
       "  <thead>\n",
       "    <tr style=\"text-align: right;\">\n",
       "      <th></th>\n",
       "      <th>params</th>\n",
       "      <th>rank_test_score</th>\n",
       "      <th>mean_test_score</th>\n",
       "      <th>std_test_score</th>\n",
       "    </tr>\n",
       "    <tr>\n",
       "      <th>kernel</th>\n",
       "      <th></th>\n",
       "      <th></th>\n",
       "      <th></th>\n",
       "      <th></th>\n",
       "    </tr>\n",
       "  </thead>\n",
       "  <tbody>\n",
       "    <tr>\n",
       "      <th>3_0.02312</th>\n",
       "      <td>{'C': 3, 'gamma': 0.02312}</td>\n",
       "      <td>1</td>\n",
       "      <td>0.511807</td>\n",
       "      <td>0.011146</td>\n",
       "    </tr>\n",
       "    <tr>\n",
       "      <th>3_0.02265</th>\n",
       "      <td>{'C': 3, 'gamma': 0.02265}</td>\n",
       "      <td>2</td>\n",
       "      <td>0.511407</td>\n",
       "      <td>0.011168</td>\n",
       "    </tr>\n",
       "    <tr>\n",
       "      <th>3_0.02406</th>\n",
       "      <td>{'C': 3, 'gamma': 0.02406}</td>\n",
       "      <td>3</td>\n",
       "      <td>0.510608</td>\n",
       "      <td>0.010277</td>\n",
       "    </tr>\n",
       "    <tr>\n",
       "      <th>3_0.02359</th>\n",
       "      <td>{'C': 3, 'gamma': 0.02359}</td>\n",
       "      <td>4</td>\n",
       "      <td>0.510207</td>\n",
       "      <td>0.010708</td>\n",
       "    </tr>\n",
       "    <tr>\n",
       "      <th>15_0.02265</th>\n",
       "      <td>{'C': 15, 'gamma': 0.02265}</td>\n",
       "      <td>5</td>\n",
       "      <td>0.509408</td>\n",
       "      <td>0.013446</td>\n",
       "    </tr>\n",
       "    <tr>\n",
       "      <th>10_0.02265</th>\n",
       "      <td>{'C': 10, 'gamma': 0.02265}</td>\n",
       "      <td>5</td>\n",
       "      <td>0.509408</td>\n",
       "      <td>0.013446</td>\n",
       "    </tr>\n",
       "    <tr>\n",
       "      <th>6_0.02265</th>\n",
       "      <td>{'C': 6, 'gamma': 0.02265}</td>\n",
       "      <td>5</td>\n",
       "      <td>0.509408</td>\n",
       "      <td>0.012712</td>\n",
       "    </tr>\n",
       "    <tr>\n",
       "      <th>6_0.02312</th>\n",
       "      <td>{'C': 6, 'gamma': 0.02312}</td>\n",
       "      <td>8</td>\n",
       "      <td>0.509407</td>\n",
       "      <td>0.013052</td>\n",
       "    </tr>\n",
       "    <tr>\n",
       "      <th>3_0.02453</th>\n",
       "      <td>{'C': 3, 'gamma': 0.02453}</td>\n",
       "      <td>9</td>\n",
       "      <td>0.509007</td>\n",
       "      <td>0.010085</td>\n",
       "    </tr>\n",
       "    <tr>\n",
       "      <th>10_0.02312</th>\n",
       "      <td>{'C': 10, 'gamma': 0.02312}</td>\n",
       "      <td>9</td>\n",
       "      <td>0.509007</td>\n",
       "      <td>0.012622</td>\n",
       "    </tr>\n",
       "    <tr>\n",
       "      <th>15_0.02312</th>\n",
       "      <td>{'C': 15, 'gamma': 0.02312}</td>\n",
       "      <td>9</td>\n",
       "      <td>0.509007</td>\n",
       "      <td>0.012622</td>\n",
       "    </tr>\n",
       "    <tr>\n",
       "      <th>6_0.02406</th>\n",
       "      <td>{'C': 6, 'gamma': 0.02406}</td>\n",
       "      <td>12</td>\n",
       "      <td>0.507407</td>\n",
       "      <td>0.014696</td>\n",
       "    </tr>\n",
       "    <tr>\n",
       "      <th>10_0.02406</th>\n",
       "      <td>{'C': 10, 'gamma': 0.02406}</td>\n",
       "      <td>13</td>\n",
       "      <td>0.507406</td>\n",
       "      <td>0.013294</td>\n",
       "    </tr>\n",
       "    <tr>\n",
       "      <th>10_0.02359</th>\n",
       "      <td>{'C': 10, 'gamma': 0.02359}</td>\n",
       "      <td>13</td>\n",
       "      <td>0.507406</td>\n",
       "      <td>0.012423</td>\n",
       "    </tr>\n",
       "    <tr>\n",
       "      <th>15_0.02359</th>\n",
       "      <td>{'C': 15, 'gamma': 0.02359}</td>\n",
       "      <td>13</td>\n",
       "      <td>0.507406</td>\n",
       "      <td>0.012423</td>\n",
       "    </tr>\n",
       "    <tr>\n",
       "      <th>15_0.02406</th>\n",
       "      <td>{'C': 15, 'gamma': 0.02406}</td>\n",
       "      <td>13</td>\n",
       "      <td>0.507406</td>\n",
       "      <td>0.013294</td>\n",
       "    </tr>\n",
       "    <tr>\n",
       "      <th>6_0.02359</th>\n",
       "      <td>{'C': 6, 'gamma': 0.02359}</td>\n",
       "      <td>17</td>\n",
       "      <td>0.507006</td>\n",
       "      <td>0.013539</td>\n",
       "    </tr>\n",
       "    <tr>\n",
       "      <th>6_0.02453</th>\n",
       "      <td>{'C': 6, 'gamma': 0.02453}</td>\n",
       "      <td>18</td>\n",
       "      <td>0.507004</td>\n",
       "      <td>0.014284</td>\n",
       "    </tr>\n",
       "    <tr>\n",
       "      <th>10_0.02453</th>\n",
       "      <td>{'C': 10, 'gamma': 0.02453}</td>\n",
       "      <td>19</td>\n",
       "      <td>0.506604</td>\n",
       "      <td>0.014053</td>\n",
       "    </tr>\n",
       "    <tr>\n",
       "      <th>15_0.02453</th>\n",
       "      <td>{'C': 15, 'gamma': 0.02453}</td>\n",
       "      <td>19</td>\n",
       "      <td>0.506604</td>\n",
       "      <td>0.014053</td>\n",
       "    </tr>\n",
       "    <tr>\n",
       "      <th>1_0.02453</th>\n",
       "      <td>{'C': 1, 'gamma': 0.02453}</td>\n",
       "      <td>21</td>\n",
       "      <td>0.449780</td>\n",
       "      <td>0.006010</td>\n",
       "    </tr>\n",
       "    <tr>\n",
       "      <th>1_0.02312</th>\n",
       "      <td>{'C': 1, 'gamma': 0.02312}</td>\n",
       "      <td>22</td>\n",
       "      <td>0.447782</td>\n",
       "      <td>0.010193</td>\n",
       "    </tr>\n",
       "    <tr>\n",
       "      <th>1_0.02406</th>\n",
       "      <td>{'C': 1, 'gamma': 0.02406}</td>\n",
       "      <td>23</td>\n",
       "      <td>0.447780</td>\n",
       "      <td>0.006575</td>\n",
       "    </tr>\n",
       "    <tr>\n",
       "      <th>1_0.02359</th>\n",
       "      <td>{'C': 1, 'gamma': 0.02359}</td>\n",
       "      <td>24</td>\n",
       "      <td>0.447381</td>\n",
       "      <td>0.007565</td>\n",
       "    </tr>\n",
       "    <tr>\n",
       "      <th>1_0.02265</th>\n",
       "      <td>{'C': 1, 'gamma': 0.02265}</td>\n",
       "      <td>25</td>\n",
       "      <td>0.445781</td>\n",
       "      <td>0.009792</td>\n",
       "    </tr>\n",
       "  </tbody>\n",
       "</table>\n",
       "</div>"
      ],
      "text/plain": [
       "                                 params  rank_test_score  mean_test_score  \\\n",
       "kernel                                                                      \n",
       "3_0.02312    {'C': 3, 'gamma': 0.02312}                1         0.511807   \n",
       "3_0.02265    {'C': 3, 'gamma': 0.02265}                2         0.511407   \n",
       "3_0.02406    {'C': 3, 'gamma': 0.02406}                3         0.510608   \n",
       "3_0.02359    {'C': 3, 'gamma': 0.02359}                4         0.510207   \n",
       "15_0.02265  {'C': 15, 'gamma': 0.02265}                5         0.509408   \n",
       "10_0.02265  {'C': 10, 'gamma': 0.02265}                5         0.509408   \n",
       "6_0.02265    {'C': 6, 'gamma': 0.02265}                5         0.509408   \n",
       "6_0.02312    {'C': 6, 'gamma': 0.02312}                8         0.509407   \n",
       "3_0.02453    {'C': 3, 'gamma': 0.02453}                9         0.509007   \n",
       "10_0.02312  {'C': 10, 'gamma': 0.02312}                9         0.509007   \n",
       "15_0.02312  {'C': 15, 'gamma': 0.02312}                9         0.509007   \n",
       "6_0.02406    {'C': 6, 'gamma': 0.02406}               12         0.507407   \n",
       "10_0.02406  {'C': 10, 'gamma': 0.02406}               13         0.507406   \n",
       "10_0.02359  {'C': 10, 'gamma': 0.02359}               13         0.507406   \n",
       "15_0.02359  {'C': 15, 'gamma': 0.02359}               13         0.507406   \n",
       "15_0.02406  {'C': 15, 'gamma': 0.02406}               13         0.507406   \n",
       "6_0.02359    {'C': 6, 'gamma': 0.02359}               17         0.507006   \n",
       "6_0.02453    {'C': 6, 'gamma': 0.02453}               18         0.507004   \n",
       "10_0.02453  {'C': 10, 'gamma': 0.02453}               19         0.506604   \n",
       "15_0.02453  {'C': 15, 'gamma': 0.02453}               19         0.506604   \n",
       "1_0.02453    {'C': 1, 'gamma': 0.02453}               21         0.449780   \n",
       "1_0.02312    {'C': 1, 'gamma': 0.02312}               22         0.447782   \n",
       "1_0.02406    {'C': 1, 'gamma': 0.02406}               23         0.447780   \n",
       "1_0.02359    {'C': 1, 'gamma': 0.02359}               24         0.447381   \n",
       "1_0.02265    {'C': 1, 'gamma': 0.02265}               25         0.445781   \n",
       "\n",
       "            std_test_score  \n",
       "kernel                      \n",
       "3_0.02312         0.011146  \n",
       "3_0.02265         0.011168  \n",
       "3_0.02406         0.010277  \n",
       "3_0.02359         0.010708  \n",
       "15_0.02265        0.013446  \n",
       "10_0.02265        0.013446  \n",
       "6_0.02265         0.012712  \n",
       "6_0.02312         0.013052  \n",
       "3_0.02453         0.010085  \n",
       "10_0.02312        0.012622  \n",
       "15_0.02312        0.012622  \n",
       "6_0.02406         0.014696  \n",
       "10_0.02406        0.013294  \n",
       "10_0.02359        0.012423  \n",
       "15_0.02359        0.012423  \n",
       "15_0.02406        0.013294  \n",
       "6_0.02359         0.013539  \n",
       "6_0.02453         0.014284  \n",
       "10_0.02453        0.014053  \n",
       "15_0.02453        0.014053  \n",
       "1_0.02453         0.006010  \n",
       "1_0.02312         0.010193  \n",
       "1_0.02406         0.006575  \n",
       "1_0.02359         0.007565  \n",
       "1_0.02265         0.009792  "
      ]
     },
     "execution_count": 54,
     "metadata": {},
     "output_type": "execute_result"
    }
   ],
   "source": [
    "cv_results_df = pd.DataFrame(svm_wos.cv_results_)\n",
    "cv_results_df = cv_results_df.sort_values(by=['rank_test_score'])\n",
    "cv_results_df = (\n",
    "    cv_results_df\n",
    "    .set_index(cv_results_df[\"params\"].apply(\n",
    "        lambda x: \"_\".join(str(val) for val in x.values()))\n",
    "    )\n",
    "    .rename_axis('kernel')\n",
    ")\n",
    "cv_results_df[\n",
    "    ['params', 'rank_test_score', 'mean_test_score', 'std_test_score']\n",
    "]"
   ]
  },
  {
   "cell_type": "markdown",
   "id": "4b85824c",
   "metadata": {},
   "source": [
    "#### Save model"
   ]
  },
  {
   "cell_type": "code",
   "execution_count": 55,
   "id": "d6ceb411",
   "metadata": {},
   "outputs": [],
   "source": [
    "# Just save model for future used\n",
    "save_file_pickle(svm_wos, SVM_WOS_FILE_PICKLE)"
   ]
  },
  {
   "cell_type": "markdown",
   "id": "355a06c4",
   "metadata": {},
   "source": [
    "### Predict Data Testing\n",
    "\n",
    "Using SVC(C=10, gamma=0.0015)"
   ]
  },
  {
   "cell_type": "code",
   "execution_count": 56,
   "id": "036f5044",
   "metadata": {
    "id": "036f5044"
   },
   "outputs": [],
   "source": [
    "y_pred = svm_wos.predict(X_test)"
   ]
  },
  {
   "cell_type": "code",
   "execution_count": 57,
   "id": "054cc98c",
   "metadata": {},
   "outputs": [
    {
     "data": {
      "text/plain": [
       "array([[0.03178712, 0.24242271, 0.02646864, 0.30551946, 0.0008932 ,\n",
       "        0.00683675, 0.00753379, 0.00324017, 0.00762022, 0.00623546,\n",
       "        0.00316281, 0.03569908, 0.00588309, 0.02015753, 0.00067511,\n",
       "        0.04414954, 0.01196238, 0.14282186, 0.09368172, 0.00324936]])"
      ]
     },
     "execution_count": 57,
     "metadata": {},
     "output_type": "execute_result"
    }
   ],
   "source": [
    "test = svm_wos.predict_proba(np.reshape(X_test[0], (1, -1)))\n",
    "test"
   ]
  },
  {
   "cell_type": "markdown",
   "id": "850bd0cd",
   "metadata": {},
   "source": [
    "#### Heatmap result predict"
   ]
  },
  {
   "cell_type": "code",
   "execution_count": 58,
   "id": "7a993651",
   "metadata": {},
   "outputs": [
    {
     "data": {
      "image/png": "[encoded data removed]",
      "text/plain": [
       "<Figure size 1224x792 with 1 Axes>"
      ]
     },
     "metadata": {
      "needs_background": "light"
     },
     "output_type": "display_data"
    }
   ],
   "source": [
    "conf_wos = pd.DataFrame(confusion_matrix(y_test, y_pred), columns=hanacaraka, index=hanacaraka)\n",
    "\n",
    "plt.figure(figsize=(17,11))\n",
    "\n",
    "res = sns.heatmap(conf_wos, annot=True, fmt=\"g\", cmap=\"Blues\", cbar=False)\n",
    "res.set_yticklabels(res.get_ymajorticklabels(), fontsize = 14)\n",
    "res.set_xticklabels(res.get_xmajorticklabels(), fontsize = 14)\n",
    "\n",
    "plt.xlabel(\"Predicted\")\n",
    "plt.ylabel(\"Actual\")\n",
    "plt.title(\"Confusion Matrix Plot\")\n",
    "plt.show()"
   ]
  },
  {
   "cell_type": "code",
   "execution_count": 59,
   "id": "56899d27",
   "metadata": {
    "id": "56899d27",
    "outputId": "6e192d60-aea8-41d1-f2fb-0d3f7724b060"
   },
   "outputs": [
    {
     "name": "stdout",
     "output_type": "stream",
     "text": [
      "Classification report result:\n",
      "              precision    recall  f1-score   support\n",
      "\n",
      "          ba       0.54      0.67      0.60        21\n",
      "          ca       0.42      0.54      0.47        26\n",
      "          da       0.44      0.48      0.46        23\n",
      "         dha       0.67      0.50      0.57        28\n",
      "          ga       0.62      0.75      0.68        20\n",
      "          ha       0.44      0.63      0.52        19\n",
      "          ja       0.41      0.54      0.47        13\n",
      "          ka       0.58      0.50      0.54        28\n",
      "          la       0.38      0.32      0.35        25\n",
      "          ma       0.61      0.64      0.62        22\n",
      "          na       0.35      0.40      0.37        20\n",
      "         nga       0.63      0.81      0.71        21\n",
      "         nya       0.78      0.86      0.82        21\n",
      "          pa       0.32      0.39      0.35        18\n",
      "          ra       0.90      0.75      0.82        24\n",
      "          sa       0.75      0.36      0.49        25\n",
      "          ta       0.50      0.36      0.42        25\n",
      "         tha       0.61      0.64      0.62        22\n",
      "          wa       0.38      0.29      0.32        21\n",
      "          ya       0.75      0.63      0.69        19\n",
      "\n",
      "    accuracy                           0.55       441\n",
      "   macro avg       0.55      0.55      0.54       441\n",
      "weighted avg       0.56      0.55      0.54       441\n",
      "\n"
     ]
    }
   ],
   "source": [
    "class_rep_wos = classification_report(y_test, y_pred)\n",
    "\n",
    "print(\"Classification report result:\")\n",
    "print(class_rep_wos)"
   ]
  },
  {
   "cell_type": "markdown",
   "id": "73fb7524",
   "metadata": {},
   "source": [
    "### Result Accuracy Score for SVM without SIFT"
   ]
  },
  {
   "cell_type": "code",
   "execution_count": 60,
   "id": "468eb23b",
   "metadata": {},
   "outputs": [
    {
     "name": "stdout",
     "output_type": "stream",
     "text": [
      "Accuracy score: 0.546485260770975\n"
     ]
    }
   ],
   "source": [
    "acc_wos = accuracy_score(y_test, y_pred)\n",
    "print(\"Accuracy score:\", acc_wos)"
   ]
  },
  {
   "cell_type": "markdown",
   "id": "bb8002b5",
   "metadata": {},
   "source": [
    "# Note for Result SVM Without WIFT"
   ]
  },
  {
   "cell_type": "markdown",
   "id": "e4cdaef0",
   "metadata": {
    "id": "e4cdaef0"
   },
   "source": [
    "### Result:\n",
    "\n",
    "- Img = (25,25), SVM = 0.57\n",
    "- Img = (28,28), SVM = 0.51\n",
    "- Img = (32,32), SVM = 0.54\n",
    "- Img = (64,64), SVM = 0.45"
   ]
  },
  {
   "cell_type": "markdown",
   "id": "d7a81950",
   "metadata": {
    "id": "fb4ee024"
   },
   "source": [
    "# SVM With SIFT vs SVM Without SIFT Comparison"
   ]
  },
  {
   "cell_type": "code",
   "execution_count": 182,
   "id": "679ade71",
   "metadata": {},
   "outputs": [
    {
     "data": {
      "text/html": [
       "<div>\n",
       "<style scoped>\n",
       "    .dataframe tbody tr th:only-of-type {\n",
       "        vertical-align: middle;\n",
       "    }\n",
       "\n",
       "    .dataframe tbody tr th {\n",
       "        vertical-align: top;\n",
       "    }\n",
       "\n",
       "    .dataframe thead th {\n",
       "        text-align: right;\n",
       "    }\n",
       "</style>\n",
       "<table border=\"1\" class=\"dataframe\">\n",
       "  <thead>\n",
       "    <tr style=\"text-align: right;\">\n",
       "      <th></th>\n",
       "      <th>Model_SVM</th>\n",
       "      <th>Accuracy</th>\n",
       "    </tr>\n",
       "  </thead>\n",
       "  <tbody>\n",
       "    <tr>\n",
       "      <th>0</th>\n",
       "      <td>Without SIFT</td>\n",
       "      <td>0.546485</td>\n",
       "    </tr>\n",
       "    <tr>\n",
       "      <th>1</th>\n",
       "      <td>With SIFT</td>\n",
       "      <td>0.947846</td>\n",
       "    </tr>\n",
       "  </tbody>\n",
       "</table>\n",
       "</div>"
      ],
      "text/plain": [
       "      Model_SVM  Accuracy\n",
       "0  Without SIFT  0.546485\n",
       "1     With SIFT  0.947846"
      ]
     },
     "execution_count": 182,
     "metadata": {},
     "output_type": "execute_result"
    }
   ],
   "source": [
    "compare_df = pd.DataFrame({\"Model_SVM\": [\"Without SIFT\", \"With SIFT\"],\n",
    "                          \"Accuracy\": [acc_wos, acc_ws]})\n",
    "\n",
    "compare_df"
   ]
  },
  {
   "cell_type": "code",
   "execution_count": 183,
   "id": "eb357b2f",
   "metadata": {},
   "outputs": [
    {
     "data": {
      "image/png": "[encoded data removed]",
      "text/plain": [
       "<Figure size 432x360 with 1 Axes>"
      ]
     },
     "metadata": {
      "needs_background": "light"
     },
     "output_type": "display_data"
    }
   ],
   "source": [
    "fig, ax = plt.subplots(figsize=(6, 5))\n",
    "\n",
    "sns.barplot(x = 'Model_SVM',\n",
    "            y = 'Accuracy',\n",
    "            data = compare_df,\n",
    "            ax=ax,\n",
    "            color='yellow')\n",
    "\n",
    "ax.bar_label(ax.containers[-1], fmt='acc:\\n%.2f', label_type='center')\n",
    "ax.set(ylabel='Accuracy', xlabel='Model SVM', title=\"Comparation Accuracy SVM With SIFT vs Without SIFT\")\n",
    "\n",
    "plt.show()"
   ]
  },
  {
   "cell_type": "markdown",
   "id": "0a46bb40",
   "metadata": {},
   "source": [
    "# Predict From Input File"
   ]
  },
  {
   "cell_type": "code",
   "execution_count": null,
   "id": "eeb0d616",
   "metadata": {},
   "outputs": [
    {
     "data": {
      "application/vnd.jupyter.widget-view+json": {
       "model_id": "cbefa2a79210464e83ffac97f6c310e3",
       "version_major": 2,
       "version_minor": 0
      },
      "text/plain": [
       "Button(description='File select', style=ButtonStyle())"
      ]
     },
     "metadata": {},
     "output_type": "display_data"
    }
   ],
   "source": [
    "from ipywidgets import Button\n",
    "from tkinter import Tk, filedialog\n",
    "from IPython.display import clear_output, display\n",
    "\n",
    "# Load file ==================================================================================\n",
    "def import_image(file) :\n",
    "    image = cv2.imread(file)\n",
    "    image = cv2.bitwise_not(image)\n",
    "    return image\n",
    "# ============================================================================================\n",
    "# Preprocessing Image ========================================================================\n",
    "def equalizing(img):\n",
    "    img = cv2.equalizeHist(img)\n",
    "    return img\n",
    "\n",
    "def grayscaling(image):\n",
    "    image = cv2.cvtColor(image, cv2.COLOR_RGB2GRAY)\n",
    "    return image\n",
    "\n",
    "def resizing(image, size):\n",
    "    image = cv2.resize(image, (size, size), interpolation = cv2.INTER_AREA)\n",
    "    return image\n",
    "\n",
    "def prep_image(image):\n",
    "    img = resizing(image, 128)\n",
    "    img = grayscaling(img)\n",
    "    img = equalizing(img)\n",
    "    return img\n",
    "# ============================================================================================\n",
    "# Feature Extraction =========================================================================\n",
    "def extract_sift_descriptor(image):\n",
    "    sift = cv2.SIFT_create()\n",
    "    _, descriptor = sift.detectAndCompute(image, None)\n",
    "    return descriptor\n",
    "\n",
    "def create_feature_bow(image_descriptor, bow, num_cluster):\n",
    "    features = np.array([0] * num_cluster, dtype=float)\n",
    "\n",
    "    if image_descriptor is not None:\n",
    "        distance = cdist(image_descriptor, bow)\n",
    "        argmin = np.argmin(distance, axis = 1)\n",
    "        \n",
    "        for j in argmin:\n",
    "            features[j] += 1.0\n",
    "\n",
    "    return np.array(features)\n",
    "\n",
    "def extract_feature(image):\n",
    "    img_descriptor = extract_sift_descriptor(image)\n",
    "    \n",
    "    num_cluster = 500\n",
    "    bow = load_file_pickle(BOW_FILE_PICKLE)\n",
    "    \n",
    "    img_feature = create_feature_bow(img_descriptor, bow, num_cluster)\n",
    "    return img_feature\n",
    "# ============================================================================================\n",
    "# Prediction Process =========================================================================\n",
    "def predict_image(feature):\n",
    "    scaler = load_file_pickle(SCALER_WS_FILE_PICKLE)\n",
    "    feature_scale = scaler.transform([feature])\n",
    "    \n",
    "    svm_model = load_file_pickle(SVM_WS_FILE_PICKLE)\n",
    "    result_predict = svm_model.predict(feature_scale)\n",
    "    return result_predict\n",
    "# ============================================================================================\n",
    "# Open widget laod file ======================================================================\n",
    "def select_files(b):\n",
    "    clear_output()\n",
    "    root = Tk()\n",
    "    root.withdraw() \n",
    "    root.call('wm', 'attributes', '.', '-topmost', True)\n",
    "    \n",
    "    b.files = filedialog.askopenfilename(multiple=True) \n",
    "    print(b.files[0])\n",
    "    processing_files(b.files[0])\n",
    "# ============================================================================================\n",
    "# Open widget laod file ======================================================================\n",
    "def processing_files(file):\n",
    "    img = import_image(file)\n",
    "    plt.imshow(img, cmap='gray', vmin=0, vmax=255)\n",
    "    img = prep_image(img)\n",
    "    \n",
    "    img_feature = extract_feature(img)\n",
    "    result_predict = predict_image(img_feature)\n",
    "    print(\"Result Class Prediction :\", result_predict)\n",
    "# ============================================================================================\n",
    "\n",
    "fileselect = Button(description=\"File select\")\n",
    "fileselect.on_click(select_files)\n",
    "\n",
    "display(fileselect)"
   ]
  },
  {
   "cell_type": "markdown",
   "id": "58895100",
   "metadata": {},
   "source": [
    "# Test"
   ]
  },
  {
   "cell_type": "markdown",
   "id": "89abe1df",
   "metadata": {},
   "source": [
    "# Load Data"
   ]
  },
  {
   "cell_type": "code",
   "execution_count": 50,
   "id": "16678c67",
   "metadata": {},
   "outputs": [],
   "source": [
    "# ukurang gambar 224x224\n",
    "def import_image(file) :\n",
    "    image = cv2.imread(file)\n",
    "    # image = cv2.bitwise_not(image)\n",
    "    return image\n",
    "\n",
    "def import_data(path) :\n",
    "    file_path = os.listdir(path)\n",
    "    images = np.array([import_image(path + '/' + file) for file in file_path])\n",
    "    \n",
    "    return images"
   ]
  },
  {
   "cell_type": "code",
   "execution_count": 24,
   "id": "8af65bd9",
   "metadata": {},
   "outputs": [
    {
     "ename": "FileExistsError",
     "evalue": "[WinError 183] Cannot create a file when that file already exists: '../Dataset/coloring_test/color/ba'",
     "output_type": "error",
     "traceback": [
      "\u001b[1;31m---------------------------------------------------------------------------\u001b[0m",
      "\u001b[1;31mFileExistsError\u001b[0m                           Traceback (most recent call last)",
      "\u001b[1;32m~\\AppData\\Local\\Temp/ipykernel_10460/2405091681.py\u001b[0m in \u001b[0;36m<module>\u001b[1;34m\u001b[0m\n\u001b[0;32m      3\u001b[0m \u001b[1;33m\u001b[0m\u001b[0m\n\u001b[0;32m      4\u001b[0m \u001b[1;32mfor\u001b[0m \u001b[0mchar\u001b[0m \u001b[1;32min\u001b[0m \u001b[0mhanacaraka\u001b[0m\u001b[1;33m:\u001b[0m\u001b[1;33m\u001b[0m\u001b[1;33m\u001b[0m\u001b[0m\n\u001b[1;32m----> 5\u001b[1;33m     \u001b[0mos\u001b[0m\u001b[1;33m.\u001b[0m\u001b[0mmkdir\u001b[0m\u001b[1;33m(\u001b[0m\u001b[0mos\u001b[0m\u001b[1;33m.\u001b[0m\u001b[0mpath\u001b[0m\u001b[1;33m.\u001b[0m\u001b[0mjoin\u001b[0m\u001b[1;33m(\u001b[0m\u001b[0mfolder_path\u001b[0m\u001b[1;33m,\u001b[0m \u001b[0mchar\u001b[0m\u001b[1;33m)\u001b[0m\u001b[1;33m)\u001b[0m\u001b[1;33m\u001b[0m\u001b[1;33m\u001b[0m\u001b[0m\n\u001b[0m",
      "\u001b[1;31mFileExistsError\u001b[0m: [WinError 183] Cannot create a file when that file already exists: '../Dataset/coloring_test/color/ba'"
     ]
    }
   ],
   "source": [
    "hanacaraka = ('ba','ca','da','dha','ga','ha','ja','ka','la','ma','na','nga','nya','pa','ra','sa','ta','tha','wa','ya')\n",
    "folder_path = \"../Dataset/coloring_test/color/\"\n",
    "\n",
    "for char in hanacaraka:\n",
    "    os.mkdir(os.path.join(folder_path, char))"
   ]
  },
  {
   "cell_type": "code",
   "execution_count": 51,
   "id": "d01aa667",
   "metadata": {},
   "outputs": [
    {
     "data": {
      "text/plain": [
       "array(['ba', 'ca', 'da', 'dha', 'ga', 'ha', 'ja', 'ka', 'la', 'ma', 'na',\n",
       "       'nga', 'nya', 'pa', 'ra', 'sa', 'ta', 'tha', 'wa', 'ya'],\n",
       "      dtype='<U32')"
      ]
     },
     "execution_count": 51,
     "metadata": {},
     "output_type": "execute_result"
    }
   ],
   "source": [
    "hanacaraka = ('ba','ca','da','dha','ga','ha','ja','ka','la','ma','na','nga','nya','pa','ra','sa','ta','tha','wa','ya')\n",
    "\n",
    "raw_X = np.empty((0, 224, 224, 3), np.uint8)\n",
    "raw_y = np.empty((0))\n",
    "\n",
    "folder_path = \"../Dataset/augmented_test_src/#plan_2\" # for local used\n",
    "# folder_path = \"drive/MyDrive/Skripsi/Repos/Dataset/augmented_test/\" # for drive used\n",
    "\n",
    "temp_X = import_data(folder_path)\n",
    "temp_y = list(hanacaraka)\n",
    "\n",
    "raw_X = np.append(raw_X, temp_X, axis=0)\n",
    "raw_y = np.append(raw_y, temp_y, axis=0)\n",
    "\n",
    "raw_y"
   ]
  },
  {
   "cell_type": "code",
   "execution_count": 52,
   "id": "9516f53e",
   "metadata": {},
   "outputs": [
    {
     "name": "stdout",
     "output_type": "stream",
     "text": [
      "Number of data: 20\n",
      "Image dimension: (224, 224, 3)\n"
     ]
    }
   ],
   "source": [
    "# Ukuran keseluruhan data\n",
    "print(\"Number of data:\", raw_X.shape[0])\n",
    "print(\"Image dimension:\", raw_X[0].shape)"
   ]
  },
  {
   "cell_type": "code",
   "execution_count": 53,
   "id": "8284b47c",
   "metadata": {},
   "outputs": [],
   "source": [
    "def zoom_out(img, zoom_scale):\n",
    "    img_zoom = np.full((img.shape[0], img.shape[1]), 255, dtype=np.uint8)\n",
    "\n",
    "    h, w = img.shape[0]/zoom_scale, img.shape[1]/zoom_scale\n",
    "    h, w = int(h), int(w)\n",
    "    x, y = (img.shape[0]-w)//2, (img.shape[1]-h)//2\n",
    "    img_resize = cv2.resize(img, (h, w), interpolation = cv2.INTER_AREA)\n",
    "\n",
    "    img_zoom[x:w+x, y:h+y] = img_resize\n",
    "    return img_zoom"
   ]
  },
  {
   "cell_type": "code",
   "execution_count": 54,
   "id": "7305a862",
   "metadata": {},
   "outputs": [],
   "source": [
    "size = 192\n",
    "def anu(ori_img, size):\n",
    "    ori_img = resizing(ori_img, size)\n",
    "    ori_img = grayscaling(ori_img)\n",
    "    \n",
    "    ori_img = zoom_out(ori_img, 1.15)\n",
    "    \n",
    "    result_aug = [ori_img]\n",
    "    # for idx, item_img in enumerate(result_aug):\n",
    "    #     result_aug[idx] = equalizing(result_aug[idx])\n",
    "    return result_aug"
   ]
  },
  {
   "cell_type": "code",
   "execution_count": 55,
   "id": "199aaf65",
   "metadata": {},
   "outputs": [
    {
     "name": "stdout",
     "output_type": "stream",
     "text": [
      "Result X data dimension: (20, 192, 192)\n",
      "Result y data dimension: (20,)\n"
     ]
    }
   ],
   "source": [
    "X = np.empty((0, size, size), np.uint8)\n",
    "y = np.empty((0))\n",
    "\n",
    "for idx, img in enumerate(raw_X):\n",
    "    img_aug = anu(img, size)\n",
    "    \n",
    "    for item_img in img_aug:\n",
    "        X = np.append(X, [item_img], axis=0)\n",
    "        y = np.append(y, [raw_y[idx]], axis=0)\n",
    "print(\"Result X data dimension:\", X.shape)\n",
    "print(\"Result y data dimension:\", y.shape)"
   ]
  },
  {
   "cell_type": "code",
   "execution_count": 56,
   "id": "fc8d7c90",
   "metadata": {},
   "outputs": [],
   "source": [
    "hanacaraka = ('ba','ca','da','dha','ga','ha','ja','ka','la','ma','na','nga','nya','pa','ra','sa','ta','tha','wa','ya')\n",
    "folder_path = \"../Dataset/coloring_test/ori/\"\n",
    "\n",
    "for i in range(len(y)):\n",
    "    save_file = os.path.join(folder_path, \"{}.png\".format(y[i]))\n",
    "\n",
    "    cv2.imwrite(save_file, X[i])"
   ]
  },
  {
   "cell_type": "markdown",
   "id": "d2c8f676",
   "metadata": {},
   "source": [
    "# Visualize Raw Data"
   ]
  },
  {
   "cell_type": "code",
   "execution_count": 257,
   "id": "e1dfff2d",
   "metadata": {},
   "outputs": [
    {
     "data": {
      "image/png": "[encoded data removed]",
      "text/plain": [
       "<Figure size 1152x288 with 8 Axes>"
      ]
     },
     "metadata": {
      "needs_background": "light"
     },
     "output_type": "display_data"
    }
   ],
   "source": [
    "np.random.seed(42)\n",
    "\n",
    "fig = plt.figure(figsize=(16, 4))\n",
    "columns = 8\n",
    "rows = 1\n",
    "for i in range(1, columns*rows + 1):\n",
    "    img = np.array(raw_X[np.random.randint(0, raw_X.shape[0]), :])\n",
    "    fig.add_subplot(rows, columns, i)\n",
    "    plt.imshow(img)\n",
    "    plt.axis('off')\n",
    "\n",
    "plt.show()"
   ]
  },
  {
   "cell_type": "markdown",
   "id": "52943b52",
   "metadata": {},
   "source": [
    "# Augmented Method"
   ]
  },
  {
   "cell_type": "code",
   "execution_count": 16,
   "id": "847d0175",
   "metadata": {},
   "outputs": [],
   "source": [
    "# Augmented Method\n",
    "def rotate(img, degree):\n",
    "    (h, w) = img.shape[:2]\n",
    "    (cX, cY) = (w // 2, h // 2)\n",
    "    M = cv2.getRotationMatrix2D((cX, cY), degree, 1.0)\n",
    "    img_rotated = cv2.warpAffine(img, M, (w, h))\n",
    "    return img_rotated\n",
    "\n",
    "def zoom_out(img, zoom_scale):\n",
    "    img_zoom = np.zeros((img.shape[0], img.shape[1]), dtype=np.uint8)\n",
    "\n",
    "    h, w = img.shape[0]/zoom_scale, img.shape[1]/zoom_scale\n",
    "    h, w = int(h), int(w)\n",
    "    x, y = (img.shape[0]-w)//2, (img.shape[1]-h)//2\n",
    "    img_resize = cv2.resize(img, (h, w), interpolation = cv2.INTER_AREA)\n",
    "\n",
    "    img_zoom[x:w+x, y:h+y] = img_resize\n",
    "    return img_zoom\n",
    "\n",
    "def shear(img, x, y):\n",
    "    rows, cols = img.shape\n",
    "    M = np.float32([[1, x, 0],\n",
    "                    [y, 1, 0]])\n",
    "    sheared_img = cv2.warpAffine(img, M, (cols, rows))\n",
    "    return sheared_img\n",
    "\n",
    "def distortion(img, vertical = True, dist_scale = 1):\n",
    "    img_dist = np.zeros((img.shape[0], img.shape[1]), dtype=np.uint8)\n",
    "    h, w = img.shape\n",
    "\n",
    "    if vertical == 1:\n",
    "        h = int(img.shape[0]/dist_scale)\n",
    "    elif vertical == 0:\n",
    "        w = int(img.shape[1]/dist_scale)\n",
    "    \n",
    "    x, y = (img.shape[0]-w)//2, (img.shape[1]-h)//2\n",
    "    img_resize = cv2.resize(img, (h, w), interpolation = cv2.INTER_AREA)\n",
    "\n",
    "    img_dist[x:w+x, y:h+y] = img_resize\n",
    "    return img_dist"
   ]
  },
  {
   "cell_type": "markdown",
   "id": "d0ecdb85",
   "metadata": {},
   "source": [
    "# Image Preprocessing Method"
   ]
  },
  {
   "cell_type": "code",
   "execution_count": 17,
   "id": "724986c1",
   "metadata": {},
   "outputs": [],
   "source": [
    "# Preprocessing Image\n",
    "def equalizing(img):\n",
    "    if (img.ndim == 3):\n",
    "        b, g, r = cv2.split(img)\n",
    "        red = cv2.equalizeHist(r)\n",
    "        green = cv2.equalizeHist(g)\n",
    "        blue = cv2.equalizeHist(b)\n",
    "        img = cv2.merge((blue, green, red))\n",
    "    else:\n",
    "        img = cv2.equalizeHist(img)\n",
    "    return img\n",
    "\n",
    "def grayscaling(image):\n",
    "    image = cv2.cvtColor(image, cv2.COLOR_RGB2GRAY)\n",
    "    return image\n",
    "\n",
    "def resizing(image, size):\n",
    "    image = cv2.resize(image, (size, size), interpolation = cv2.INTER_AREA)\n",
    "    return image"
   ]
  },
  {
   "cell_type": "markdown",
   "id": "97f02495",
   "metadata": {},
   "source": [
    "# Generate augmentation and preprocessing data"
   ]
  },
  {
   "cell_type": "code",
   "execution_count": 260,
   "id": "533f906f",
   "metadata": {},
   "outputs": [],
   "source": [
    "size = 192\n",
    "def dataset_aug_generator_prep(ori_img, size):\n",
    "    ori_img = resizing(ori_img, size)\n",
    "    ori_img = grayscaling(ori_img)\n",
    "    \n",
    "    ori_img = zoom_out(ori_img, 1.15)\n",
    "    img_z = zoom_out(ori_img, 1.6)\n",
    "    img_r_90_cw = rotate(ori_img, -90)\n",
    "    img_r_90_ccw = rotate(ori_img, 90)\n",
    "    img_r_45_cw_z = rotate(zoom_out(ori_img, 1.3), -45)\n",
    "    img_r_45_ccw_z = rotate(zoom_out(ori_img, 1.3), 45)\n",
    "    img_s_top_right = shear(ori_img, -0.18, -0.18)\n",
    "    img_s_bot_left = shear(ori_img, 0.18, 0.18)\n",
    "    img_d_v = distortion(ori_img, True, 1.5)\n",
    "    img_d_h = distortion(ori_img, False, 1.5)\n",
    "    \n",
    "    result_aug = [ori_img, img_z, img_r_90_cw, img_r_90_ccw, img_r_45_cw_z, img_r_45_ccw_z, img_s_top_right, img_s_bot_left, img_d_v, img_d_h]\n",
    "    for idx, item_img in enumerate(result_aug):\n",
    "        result_aug[idx] = equalizing(result_aug[idx])\n",
    "    return result_aug"
   ]
  },
  {
   "cell_type": "markdown",
   "id": "2bd39b48",
   "metadata": {},
   "source": [
    "# test result image after generate augmentation and preprocessing"
   ]
  },
  {
   "cell_type": "code",
   "execution_count": 261,
   "id": "0c46fd89",
   "metadata": {},
   "outputs": [
    {
     "data": {
      "image/png": "[encoded data removed]",
      "text/plain": [
       "<Figure size 1440x576 with 10 Axes>"
      ]
     },
     "metadata": {
      "needs_background": "light"
     },
     "output_type": "display_data"
    }
   ],
   "source": [
    "test_img_aug = dataset_aug_generator_prep(raw_X[0], size)\n",
    "\n",
    "fig = plt.figure(figsize=(20, 8))\n",
    "columns = 5\n",
    "rows = 2\n",
    "for i in range(1, columns*rows + 1):\n",
    "    img = test_img_aug[i-1]\n",
    "    fig.add_subplot(rows, columns, i)\n",
    "    plt.imshow(img, cmap='gray', vmin=0, vmax=255)\n",
    "    plt.axis('off')\n",
    "\n",
    "plt.show()"
   ]
  },
  {
   "cell_type": "markdown",
   "id": "66b97d90",
   "metadata": {},
   "source": [
    "#  Generate Aug & Prep Image on All Raw Data"
   ]
  },
  {
   "cell_type": "code",
   "execution_count": 262,
   "id": "6903cbde",
   "metadata": {},
   "outputs": [
    {
     "name": "stdout",
     "output_type": "stream",
     "text": [
      "Result X data dimension: (200, 192, 192)\n",
      "Result y data dimension: (200,)\n"
     ]
    }
   ],
   "source": [
    "X = np.empty((0, size, size), np.uint8)\n",
    "y = np.empty((0))\n",
    "\n",
    "for idx, img in enumerate(raw_X):\n",
    "    img_aug = dataset_aug_generator_prep(img, size)\n",
    "    \n",
    "    for item_img in img_aug:\n",
    "        X = np.append(X, [item_img], axis=0)\n",
    "        y = np.append(y, [raw_y[idx]], axis=0)\n",
    "print(\"Result X data dimension:\", X.shape)\n",
    "print(\"Result y data dimension:\", y.shape)"
   ]
  },
  {
   "cell_type": "markdown",
   "id": "fda6657b",
   "metadata": {},
   "source": [
    "# Visualize Result Data"
   ]
  },
  {
   "cell_type": "code",
   "execution_count": 263,
   "id": "b22e307a",
   "metadata": {},
   "outputs": [
    {
     "data": {
      "image/png": "[encoded data removed]",
      "text/plain": [
       "<Figure size 1152x288 with 8 Axes>"
      ]
     },
     "metadata": {
      "needs_background": "light"
     },
     "output_type": "display_data"
    }
   ],
   "source": [
    "np.random.seed(42)\n",
    "\n",
    "fig = plt.figure(figsize=(16, 4))\n",
    "columns = 8\n",
    "rows = 1\n",
    "for i in range(1, columns*rows + 1):\n",
    "    img = np.array(X[np.random.randint(0, X.shape[0]), :])\n",
    "    fig.add_subplot(rows, columns, i)\n",
    "    plt.imshow(img, cmap='gray', vmin=0, vmax=255)\n",
    "    plt.axis('off')\n",
    "\n",
    "plt.show()"
   ]
  },
  {
   "cell_type": "markdown",
   "id": "e2f486d6",
   "metadata": {},
   "source": [
    "# Save New Data"
   ]
  },
  {
   "cell_type": "code",
   "execution_count": 264,
   "id": "3067277e",
   "metadata": {},
   "outputs": [],
   "source": [
    "hanacaraka = ('ba','ca','da','dha','ga','ha','ja','ka','la','ma','na','nga','nya','pa','ra','sa','ta','tha','wa','ya')\n",
    "folder_path = \"../Dataset/augmented_test/\"\n",
    "\n",
    "for i in range(len(y)):\n",
    "    save_path = os.path.join(folder_path, y[i])\n",
    "    save_file = os.path.join(save_path, \"{}_{}.png\".format(y[i], i))\n",
    "\n",
    "    cv2.imwrite(save_file, X[i])"
   ]
  },
  {
   "cell_type": "markdown",
   "id": "7ea97407",
   "metadata": {},
   "source": [
    "# Predict SVM"
   ]
  },
  {
   "cell_type": "code",
   "execution_count": 265,
   "id": "0920a512",
   "metadata": {},
   "outputs": [],
   "source": [
    "# ukurang gambar 224x224\n",
    "def import_image(file) :\n",
    "    image = cv2.imread(file)\n",
    "    image = cv2.cvtColor(image, cv2.COLOR_BGR2GRAY)\n",
    "    return image\n",
    "\n",
    "def label_image(character, length) :\n",
    "    array = np.full(length, character)\n",
    "    return array\n",
    "\n",
    "def import_data(character, path) :\n",
    "    file_path = os.listdir(path)\n",
    "    images = np.array([import_image(path + '/' + file) for file in file_path])\n",
    "    label = label_image(character, len(file_path))\n",
    "    \n",
    "    return images, label"
   ]
  },
  {
   "cell_type": "code",
   "execution_count": 266,
   "id": "da78e6d8",
   "metadata": {},
   "outputs": [
    {
     "name": "stdout",
     "output_type": "stream",
     "text": [
      "Size of ba : 10\n",
      "Size of ca : 10\n",
      "Size of da : 10\n",
      "Size of dha : 10\n",
      "Size of ga : 10\n",
      "Size of ha : 10\n",
      "Size of ja : 10\n",
      "Size of ka : 10\n",
      "Size of la : 10\n",
      "Size of ma : 10\n",
      "Size of na : 10\n",
      "Size of nga : 10\n",
      "Size of nya : 10\n",
      "Size of pa : 10\n",
      "Size of ra : 10\n",
      "Size of sa : 10\n",
      "Size of ta : 10\n",
      "Size of tha : 10\n",
      "Size of wa : 10\n",
      "Size of ya : 10\n"
     ]
    }
   ],
   "source": [
    "hanacaraka = ('ba','ca','da','dha','ga','ha','ja','ka','la','ma','na','nga','nya','pa','ra','sa','ta','tha','wa','ya')\n",
    "\n",
    "data_X = np.empty((0, 192, 192), np.uint8)\n",
    "data_y = np.empty((0))\n",
    "\n",
    "folder_path = \"../Dataset/augmented_test/\" # for local used\n",
    "# folder_path = \"drive/MyDrive/Skripsi/Repos/Dataset/augmented_test/\" # for drive used\n",
    "\n",
    "for character in hanacaraka:\n",
    "    dataset_path = folder_path + character\n",
    "\n",
    "    temp_X, temp_y = import_data(character, dataset_path)\n",
    "\n",
    "    print(\"Size of\", character, \":\", temp_X.shape[0])\n",
    "    \n",
    "    data_X = np.append(data_X, temp_X, axis=0)\n",
    "    data_y = np.append(data_y, temp_y, axis=0)\n",
    "\n"
   ]
  },
  {
   "cell_type": "code",
   "execution_count": 267,
   "id": "eff9bce3",
   "metadata": {},
   "outputs": [
    {
     "data": {
      "image/png": "[encoded data removed]",
      "text/plain": [
       "<Figure size 1152x288 with 8 Axes>"
      ]
     },
     "metadata": {
      "needs_background": "light"
     },
     "output_type": "display_data"
    }
   ],
   "source": [
    "np.random.seed(42)\n",
    "\n",
    "fig = plt.figure(figsize=(16, 4))\n",
    "columns = 8\n",
    "rows = 1\n",
    "for i in range(1, columns*rows + 1):\n",
    "    img = np.array(data_X[np.random.randint(0, data_X.shape[0]), :])\n",
    "    fig.add_subplot(rows, columns, i)\n",
    "    plt.imshow(img, cmap='gray')\n",
    "    plt.axis('off')\n",
    "\n",
    "plt.show()"
   ]
  },
  {
   "cell_type": "code",
   "execution_count": 268,
   "id": "517d9b23",
   "metadata": {},
   "outputs": [
    {
     "data": {
      "text/plain": [
       "(200, 192, 192)"
      ]
     },
     "execution_count": 268,
     "metadata": {},
     "output_type": "execute_result"
    }
   ],
   "source": [
    "data_X.shape"
   ]
  },
  {
   "cell_type": "markdown",
   "id": "e39e8148",
   "metadata": {},
   "source": [
    "# Extract Feature"
   ]
  },
  {
   "cell_type": "code",
   "execution_count": 269,
   "id": "79a2c3c3",
   "metadata": {},
   "outputs": [],
   "source": [
    "def extract_sift_features(list_image):\n",
    "    image_descriptors = []\n",
    "    sift = cv2.SIFT_create()\n",
    "    for image in list_image:\n",
    "        _, descriptor = sift.detectAndCompute(image, None)\n",
    "        image_descriptors.append(descriptor)\n",
    "\n",
    "    return image_descriptors\n",
    "\n",
    "def create_feature_bow(image_descriptors, bow, num_cluster):\n",
    "    X_features = []\n",
    "\n",
    "    for i in range(len(image_descriptors)):\n",
    "        features = np.array([0] * num_cluster, dtype=float)\n",
    "\n",
    "        if image_descriptors[i] is not None:\n",
    "            distance = cdist(image_descriptors[i], bow)\n",
    "            argmin = np.argmin(distance, axis = 1)\n",
    "\n",
    "            for j in argmin:\n",
    "                features[j] += 1.0\n",
    "        X_features.append(features)\n",
    "\n",
    "    return np.array(X_features)\n"
   ]
  },
  {
   "cell_type": "code",
   "execution_count": 270,
   "id": "ef7d30ae",
   "metadata": {},
   "outputs": [],
   "source": [
    "image_descriptors = extract_sift_features(data_X)\n",
    "num_cluster = 750\n",
    "bow = load_file_pickle(BOW_FILE_PICKLE)\n",
    "X_feature = create_feature_bow(image_descriptors, bow, num_cluster)"
   ]
  },
  {
   "cell_type": "markdown",
   "id": "18d7a70d",
   "metadata": {},
   "source": [
    "# Predict"
   ]
  },
  {
   "cell_type": "code",
   "execution_count": 271,
   "id": "e03257a7",
   "metadata": {},
   "outputs": [],
   "source": [
    "scaler = load_file_pickle(SCALER_WS_FILE_PICKLE)\n",
    "X_scale = scaler.transform(X_feature)\n",
    "\n",
    "svm_model = load_file_pickle(SVM_WS_FILE_PICKLE)\n",
    "y_pred = svm_model.predict(X_scale)"
   ]
  },
  {
   "cell_type": "code",
   "execution_count": 272,
   "id": "939a5f50",
   "metadata": {},
   "outputs": [
    {
     "data": {
      "image/png": "[encoded data removed]",
      "text/plain": [
       "<Figure size 1224x792 with 1 Axes>"
      ]
     },
     "metadata": {
      "needs_background": "light"
     },
     "output_type": "display_data"
    }
   ],
   "source": [
    "conf_ws = pd.DataFrame(confusion_matrix(data_y, y_pred), columns=hanacaraka, index=hanacaraka)\n",
    "\n",
    "plt.figure(figsize=(17,11))\n",
    "\n",
    "res = sns.heatmap(conf_ws, annot=True, fmt=\"g\", cmap=\"Blues\", cbar=False)\n",
    "res.set_yticklabels(res.get_ymajorticklabels(), fontsize = 14)\n",
    "res.set_xticklabels(res.get_xmajorticklabels(), fontsize = 14)\n",
    "\n",
    "plt.xlabel(\"Predicted\")\n",
    "plt.ylabel(\"Actual\")\n",
    "plt.title(\"Confusion Matrix Plot\")\n",
    "plt.show()"
   ]
  },
  {
   "cell_type": "code",
   "execution_count": 273,
   "id": "ff1accb6",
   "metadata": {},
   "outputs": [
    {
     "name": "stdout",
     "output_type": "stream",
     "text": [
      "Classification report result:\n",
      "              precision    recall  f1-score   support\n",
      "\n",
      "          ba       0.90      0.90      0.90        10\n",
      "          ca       1.00      0.90      0.95        10\n",
      "          da       0.91      1.00      0.95        10\n",
      "         dha       0.90      0.90      0.90        10\n",
      "          ga       0.91      1.00      0.95        10\n",
      "          ha       0.75      0.90      0.82        10\n",
      "          ja       1.00      0.90      0.95        10\n",
      "          ka       1.00      1.00      1.00        10\n",
      "          la       0.88      0.70      0.78        10\n",
      "          ma       0.91      1.00      0.95        10\n",
      "          na       1.00      0.90      0.95        10\n",
      "         nga       1.00      1.00      1.00        10\n",
      "         nya       0.90      0.90      0.90        10\n",
      "          pa       0.90      0.90      0.90        10\n",
      "          ra       1.00      1.00      1.00        10\n",
      "          sa       0.91      1.00      0.95        10\n",
      "          ta       1.00      1.00      1.00        10\n",
      "         tha       1.00      1.00      1.00        10\n",
      "          wa       0.90      0.90      0.90        10\n",
      "          ya       1.00      0.90      0.95        10\n",
      "\n",
      "    accuracy                           0.94       200\n",
      "   macro avg       0.94      0.93      0.93       200\n",
      "weighted avg       0.94      0.94      0.93       200\n",
      "\n"
     ]
    }
   ],
   "source": [
    "class_rep_ws = classification_report(data_y, y_pred)\n",
    "\n",
    "print(\"Classification report result:\")\n",
    "print(class_rep_ws)"
   ]
  },
  {
   "cell_type": "code",
   "execution_count": 274,
   "id": "2b56dbb0",
   "metadata": {},
   "outputs": [
    {
     "name": "stdout",
     "output_type": "stream",
     "text": [
      "Accuracy score: 0.935\n"
     ]
    }
   ],
   "source": [
    "### Result Accuracy Score for SVM with SIFT\n",
    "acc_ws = accuracy_score(data_y, y_pred)\n",
    "print(\"Accuracy score:\", acc_ws)"
   ]
  },
  {
   "cell_type": "markdown",
   "id": "ad5e8e55",
   "metadata": {},
   "source": [
    "# Result"
   ]
  },
  {
   "cell_type": "code",
   "execution_count": 275,
   "id": "8a2781b5",
   "metadata": {},
   "outputs": [
    {
     "data": {
      "text/plain": [
       "[array(['ba', 'ba', 'ba', 'ba', 'ba', 'ba', 'ba', 'ba', 'ba', 'ha'],\n",
       "       dtype='<U32'),\n",
       " array(['ca', 'ca', 'ca', 'ca', 'ca', 'ca', 'ca', 'ca', 'ca', 'sa'],\n",
       "       dtype='<U32'),\n",
       " array(['da', 'da', 'da', 'da', 'da', 'da', 'da', 'da', 'da', 'da'],\n",
       "       dtype='<U32'),\n",
       " array(['dha', 'dha', 'dha', 'dha', 'dha', 'dha', 'dha', 'dha', 'dha',\n",
       "        'ma'], dtype='<U32'),\n",
       " array(['ga', 'ga', 'ga', 'ga', 'ga', 'ga', 'ga', 'ga', 'ga', 'ga'],\n",
       "       dtype='<U32'),\n",
       " array(['ha', 'ha', 'ha', 'ha', 'ha', 'ha', 'ha', 'la', 'ha', 'ha'],\n",
       "       dtype='<U32'),\n",
       " array(['ja', 'ja', 'ja', 'ja', 'ja', 'ja', 'pa', 'ja', 'ja', 'ja'],\n",
       "       dtype='<U32'),\n",
       " array(['ka', 'ka', 'ka', 'ka', 'ka', 'ka', 'ka', 'ka', 'ka', 'ka'],\n",
       "       dtype='<U32'),\n",
       " array(['la', 'la', 'la', 'la', 'la', 'la', 'ha', 'la', 'ga', 'ha'],\n",
       "       dtype='<U32'),\n",
       " array(['ma', 'ma', 'ma', 'ma', 'ma', 'ma', 'ma', 'ma', 'ma', 'ma'],\n",
       "       dtype='<U32'),\n",
       " array(['na', 'na', 'na', 'na', 'na', 'na', 'na', 'na', 'da', 'na'],\n",
       "       dtype='<U32'),\n",
       " array(['nga', 'nga', 'nga', 'nga', 'nga', 'nga', 'nga', 'nga', 'nga',\n",
       "        'nga'], dtype='<U32'),\n",
       " array(['nya', 'nya', 'nya', 'nya', 'nya', 'nya', 'nya', 'nya', 'ba',\n",
       "        'nya'], dtype='<U32'),\n",
       " array(['pa', 'pa', 'pa', 'pa', 'pa', 'pa', 'pa', 'pa', 'pa', 'wa'],\n",
       "       dtype='<U32'),\n",
       " array(['ra', 'ra', 'ra', 'ra', 'ra', 'ra', 'ra', 'ra', 'ra', 'ra'],\n",
       "       dtype='<U32'),\n",
       " array(['sa', 'sa', 'sa', 'sa', 'sa', 'sa', 'sa', 'sa', 'sa', 'sa'],\n",
       "       dtype='<U32'),\n",
       " array(['ta', 'ta', 'ta', 'ta', 'ta', 'ta', 'ta', 'ta', 'ta', 'ta'],\n",
       "       dtype='<U32'),\n",
       " array(['tha', 'tha', 'tha', 'tha', 'tha', 'tha', 'tha', 'tha', 'tha',\n",
       "        'tha'], dtype='<U32'),\n",
       " array(['wa', 'wa', 'wa', 'wa', 'wa', 'wa', 'dha', 'wa', 'wa', 'wa'],\n",
       "       dtype='<U32'),\n",
       " array(['ya', 'ya', 'ya', 'ya', 'ya', 'ya', 'ya', 'ya', 'ya', 'nya'],\n",
       "       dtype='<U32')]"
      ]
     },
     "execution_count": 275,
     "metadata": {},
     "output_type": "execute_result"
    }
   ],
   "source": [
    "arr_pred = []\n",
    "for i in range(len(hanacaraka)):\n",
    "    arr = 10*i\n",
    "    arr_pred.append(y_pred[arr:arr+10])\n",
    "\n",
    "arr_pred"
   ]
  },
  {
   "cell_type": "code",
   "execution_count": 276,
   "id": "54748b74",
   "metadata": {},
   "outputs": [
    {
     "data": {
      "text/html": [
       "<div>\n",
       "<style scoped>\n",
       "    .dataframe tbody tr th:only-of-type {\n",
       "        vertical-align: middle;\n",
       "    }\n",
       "\n",
       "    .dataframe tbody tr th {\n",
       "        vertical-align: top;\n",
       "    }\n",
       "\n",
       "    .dataframe thead th {\n",
       "        text-align: right;\n",
       "    }\n",
       "</style>\n",
       "<table border=\"1\" class=\"dataframe\">\n",
       "  <thead>\n",
       "    <tr style=\"text-align: right;\">\n",
       "      <th></th>\n",
       "      <th>normal</th>\n",
       "      <th>zoom</th>\n",
       "      <th>rotate_90_cw</th>\n",
       "      <th>rotate_90_ccw</th>\n",
       "      <th>rotate_45_cw_zoom</th>\n",
       "      <th>rotate_45_ccw_zoom</th>\n",
       "      <th>shear_top_left</th>\n",
       "      <th>shear_bot_right</th>\n",
       "      <th>dist_horizontal</th>\n",
       "      <th>dist_vertical</th>\n",
       "    </tr>\n",
       "  </thead>\n",
       "  <tbody>\n",
       "    <tr>\n",
       "      <th>ba</th>\n",
       "      <td>ba</td>\n",
       "      <td>ba</td>\n",
       "      <td>ba</td>\n",
       "      <td>ba</td>\n",
       "      <td>ba</td>\n",
       "      <td>ba</td>\n",
       "      <td>ba</td>\n",
       "      <td>ba</td>\n",
       "      <td>ba</td>\n",
       "      <td>ha</td>\n",
       "    </tr>\n",
       "    <tr>\n",
       "      <th>ca</th>\n",
       "      <td>ca</td>\n",
       "      <td>ca</td>\n",
       "      <td>ca</td>\n",
       "      <td>ca</td>\n",
       "      <td>ca</td>\n",
       "      <td>ca</td>\n",
       "      <td>ca</td>\n",
       "      <td>ca</td>\n",
       "      <td>ca</td>\n",
       "      <td>sa</td>\n",
       "    </tr>\n",
       "    <tr>\n",
       "      <th>da</th>\n",
       "      <td>da</td>\n",
       "      <td>da</td>\n",
       "      <td>da</td>\n",
       "      <td>da</td>\n",
       "      <td>da</td>\n",
       "      <td>da</td>\n",
       "      <td>da</td>\n",
       "      <td>da</td>\n",
       "      <td>da</td>\n",
       "      <td>da</td>\n",
       "    </tr>\n",
       "    <tr>\n",
       "      <th>dha</th>\n",
       "      <td>dha</td>\n",
       "      <td>dha</td>\n",
       "      <td>dha</td>\n",
       "      <td>dha</td>\n",
       "      <td>dha</td>\n",
       "      <td>dha</td>\n",
       "      <td>dha</td>\n",
       "      <td>dha</td>\n",
       "      <td>dha</td>\n",
       "      <td>ma</td>\n",
       "    </tr>\n",
       "    <tr>\n",
       "      <th>ga</th>\n",
       "      <td>ga</td>\n",
       "      <td>ga</td>\n",
       "      <td>ga</td>\n",
       "      <td>ga</td>\n",
       "      <td>ga</td>\n",
       "      <td>ga</td>\n",
       "      <td>ga</td>\n",
       "      <td>ga</td>\n",
       "      <td>ga</td>\n",
       "      <td>ga</td>\n",
       "    </tr>\n",
       "    <tr>\n",
       "      <th>ha</th>\n",
       "      <td>ha</td>\n",
       "      <td>ha</td>\n",
       "      <td>ha</td>\n",
       "      <td>ha</td>\n",
       "      <td>ha</td>\n",
       "      <td>ha</td>\n",
       "      <td>ha</td>\n",
       "      <td>la</td>\n",
       "      <td>ha</td>\n",
       "      <td>ha</td>\n",
       "    </tr>\n",
       "    <tr>\n",
       "      <th>ja</th>\n",
       "      <td>ja</td>\n",
       "      <td>ja</td>\n",
       "      <td>ja</td>\n",
       "      <td>ja</td>\n",
       "      <td>ja</td>\n",
       "      <td>ja</td>\n",
       "      <td>pa</td>\n",
       "      <td>ja</td>\n",
       "      <td>ja</td>\n",
       "      <td>ja</td>\n",
       "    </tr>\n",
       "    <tr>\n",
       "      <th>ka</th>\n",
       "      <td>ka</td>\n",
       "      <td>ka</td>\n",
       "      <td>ka</td>\n",
       "      <td>ka</td>\n",
       "      <td>ka</td>\n",
       "      <td>ka</td>\n",
       "      <td>ka</td>\n",
       "      <td>ka</td>\n",
       "      <td>ka</td>\n",
       "      <td>ka</td>\n",
       "    </tr>\n",
       "    <tr>\n",
       "      <th>la</th>\n",
       "      <td>la</td>\n",
       "      <td>la</td>\n",
       "      <td>la</td>\n",
       "      <td>la</td>\n",
       "      <td>la</td>\n",
       "      <td>la</td>\n",
       "      <td>ha</td>\n",
       "      <td>la</td>\n",
       "      <td>ga</td>\n",
       "      <td>ha</td>\n",
       "    </tr>\n",
       "    <tr>\n",
       "      <th>ma</th>\n",
       "      <td>ma</td>\n",
       "      <td>ma</td>\n",
       "      <td>ma</td>\n",
       "      <td>ma</td>\n",
       "      <td>ma</td>\n",
       "      <td>ma</td>\n",
       "      <td>ma</td>\n",
       "      <td>ma</td>\n",
       "      <td>ma</td>\n",
       "      <td>ma</td>\n",
       "    </tr>\n",
       "    <tr>\n",
       "      <th>na</th>\n",
       "      <td>na</td>\n",
       "      <td>na</td>\n",
       "      <td>na</td>\n",
       "      <td>na</td>\n",
       "      <td>na</td>\n",
       "      <td>na</td>\n",
       "      <td>na</td>\n",
       "      <td>na</td>\n",
       "      <td>da</td>\n",
       "      <td>na</td>\n",
       "    </tr>\n",
       "    <tr>\n",
       "      <th>nga</th>\n",
       "      <td>nga</td>\n",
       "      <td>nga</td>\n",
       "      <td>nga</td>\n",
       "      <td>nga</td>\n",
       "      <td>nga</td>\n",
       "      <td>nga</td>\n",
       "      <td>nga</td>\n",
       "      <td>nga</td>\n",
       "      <td>nga</td>\n",
       "      <td>nga</td>\n",
       "    </tr>\n",
       "    <tr>\n",
       "      <th>nya</th>\n",
       "      <td>nya</td>\n",
       "      <td>nya</td>\n",
       "      <td>nya</td>\n",
       "      <td>nya</td>\n",
       "      <td>nya</td>\n",
       "      <td>nya</td>\n",
       "      <td>nya</td>\n",
       "      <td>nya</td>\n",
       "      <td>ba</td>\n",
       "      <td>nya</td>\n",
       "    </tr>\n",
       "    <tr>\n",
       "      <th>pa</th>\n",
       "      <td>pa</td>\n",
       "      <td>pa</td>\n",
       "      <td>pa</td>\n",
       "      <td>pa</td>\n",
       "      <td>pa</td>\n",
       "      <td>pa</td>\n",
       "      <td>pa</td>\n",
       "      <td>pa</td>\n",
       "      <td>pa</td>\n",
       "      <td>wa</td>\n",
       "    </tr>\n",
       "    <tr>\n",
       "      <th>ra</th>\n",
       "      <td>ra</td>\n",
       "      <td>ra</td>\n",
       "      <td>ra</td>\n",
       "      <td>ra</td>\n",
       "      <td>ra</td>\n",
       "      <td>ra</td>\n",
       "      <td>ra</td>\n",
       "      <td>ra</td>\n",
       "      <td>ra</td>\n",
       "      <td>ra</td>\n",
       "    </tr>\n",
       "    <tr>\n",
       "      <th>sa</th>\n",
       "      <td>sa</td>\n",
       "      <td>sa</td>\n",
       "      <td>sa</td>\n",
       "      <td>sa</td>\n",
       "      <td>sa</td>\n",
       "      <td>sa</td>\n",
       "      <td>sa</td>\n",
       "      <td>sa</td>\n",
       "      <td>sa</td>\n",
       "      <td>sa</td>\n",
       "    </tr>\n",
       "    <tr>\n",
       "      <th>ta</th>\n",
       "      <td>ta</td>\n",
       "      <td>ta</td>\n",
       "      <td>ta</td>\n",
       "      <td>ta</td>\n",
       "      <td>ta</td>\n",
       "      <td>ta</td>\n",
       "      <td>ta</td>\n",
       "      <td>ta</td>\n",
       "      <td>ta</td>\n",
       "      <td>ta</td>\n",
       "    </tr>\n",
       "    <tr>\n",
       "      <th>tha</th>\n",
       "      <td>tha</td>\n",
       "      <td>tha</td>\n",
       "      <td>tha</td>\n",
       "      <td>tha</td>\n",
       "      <td>tha</td>\n",
       "      <td>tha</td>\n",
       "      <td>tha</td>\n",
       "      <td>tha</td>\n",
       "      <td>tha</td>\n",
       "      <td>tha</td>\n",
       "    </tr>\n",
       "    <tr>\n",
       "      <th>wa</th>\n",
       "      <td>wa</td>\n",
       "      <td>wa</td>\n",
       "      <td>wa</td>\n",
       "      <td>wa</td>\n",
       "      <td>wa</td>\n",
       "      <td>wa</td>\n",
       "      <td>dha</td>\n",
       "      <td>wa</td>\n",
       "      <td>wa</td>\n",
       "      <td>wa</td>\n",
       "    </tr>\n",
       "    <tr>\n",
       "      <th>ya</th>\n",
       "      <td>ya</td>\n",
       "      <td>ya</td>\n",
       "      <td>ya</td>\n",
       "      <td>ya</td>\n",
       "      <td>ya</td>\n",
       "      <td>ya</td>\n",
       "      <td>ya</td>\n",
       "      <td>ya</td>\n",
       "      <td>ya</td>\n",
       "      <td>nya</td>\n",
       "    </tr>\n",
       "  </tbody>\n",
       "</table>\n",
       "</div>"
      ],
      "text/plain": [
       "    normal zoom rotate_90_cw rotate_90_ccw rotate_45_cw_zoom  \\\n",
       "ba      ba   ba           ba            ba                ba   \n",
       "ca      ca   ca           ca            ca                ca   \n",
       "da      da   da           da            da                da   \n",
       "dha    dha  dha          dha           dha               dha   \n",
       "ga      ga   ga           ga            ga                ga   \n",
       "ha      ha   ha           ha            ha                ha   \n",
       "ja      ja   ja           ja            ja                ja   \n",
       "ka      ka   ka           ka            ka                ka   \n",
       "la      la   la           la            la                la   \n",
       "ma      ma   ma           ma            ma                ma   \n",
       "na      na   na           na            na                na   \n",
       "nga    nga  nga          nga           nga               nga   \n",
       "nya    nya  nya          nya           nya               nya   \n",
       "pa      pa   pa           pa            pa                pa   \n",
       "ra      ra   ra           ra            ra                ra   \n",
       "sa      sa   sa           sa            sa                sa   \n",
       "ta      ta   ta           ta            ta                ta   \n",
       "tha    tha  tha          tha           tha               tha   \n",
       "wa      wa   wa           wa            wa                wa   \n",
       "ya      ya   ya           ya            ya                ya   \n",
       "\n",
       "    rotate_45_ccw_zoom shear_top_left shear_bot_right dist_horizontal  \\\n",
       "ba                  ba             ba              ba              ba   \n",
       "ca                  ca             ca              ca              ca   \n",
       "da                  da             da              da              da   \n",
       "dha                dha            dha             dha             dha   \n",
       "ga                  ga             ga              ga              ga   \n",
       "ha                  ha             ha              la              ha   \n",
       "ja                  ja             pa              ja              ja   \n",
       "ka                  ka             ka              ka              ka   \n",
       "la                  la             ha              la              ga   \n",
       "ma                  ma             ma              ma              ma   \n",
       "na                  na             na              na              da   \n",
       "nga                nga            nga             nga             nga   \n",
       "nya                nya            nya             nya              ba   \n",
       "pa                  pa             pa              pa              pa   \n",
       "ra                  ra             ra              ra              ra   \n",
       "sa                  sa             sa              sa              sa   \n",
       "ta                  ta             ta              ta              ta   \n",
       "tha                tha            tha             tha             tha   \n",
       "wa                  wa            dha              wa              wa   \n",
       "ya                  ya             ya              ya              ya   \n",
       "\n",
       "    dist_vertical  \n",
       "ba             ha  \n",
       "ca             sa  \n",
       "da             da  \n",
       "dha            ma  \n",
       "ga             ga  \n",
       "ha             ha  \n",
       "ja             ja  \n",
       "ka             ka  \n",
       "la             ha  \n",
       "ma             ma  \n",
       "na             na  \n",
       "nga           nga  \n",
       "nya           nya  \n",
       "pa             wa  \n",
       "ra             ra  \n",
       "sa             sa  \n",
       "ta             ta  \n",
       "tha           tha  \n",
       "wa             wa  \n",
       "ya            nya  "
      ]
     },
     "execution_count": 276,
     "metadata": {},
     "output_type": "execute_result"
    }
   ],
   "source": [
    "columns = [\"normal\", \"zoom\", \"rotate_90_cw\", \"rotate_90_ccw\", \"rotate_45_cw_zoom\", \"rotate_45_ccw_zoom\", \"shear_top_left\", \"shear_bot_right\", \"dist_horizontal\", \"dist_vertical\"]\n",
    "df_pred = pd.DataFrame(arr_pred, columns=columns, index=hanacaraka)\n",
    "df_pred"
   ]
  }
 ],
 "metadata": {
  "colab": {
   "collapsed_sections": [
    "863fce53",
    "fe36a378",
    "e4cdaef0"
   ],
   "name": "campuran-SIFT.ipynb",
   "provenance": []
  },
  "interpreter": {
   "hash": "f926a665ec17605cd740381014cbbfd1a55a559b2003ed53df37a047c2ed5e7a"
  },
  "kernelspec": {
   "display_name": "Python 3.7.11 ('skripsi')",
   "language": "python",
   "name": "python3"
  },
  "language_info": {
   "codemirror_mode": {
    "name": "ipython",
    "version": 3
   },
   "file_extension": ".py",
   "mimetype": "text/x-python",
   "name": "python",
   "nbconvert_exporter": "python",
   "pygments_lexer": "ipython3",
   "version": "3.7.11 (default, Jul 27 2021, 09:42:29) [MSC v.1916 64 bit (AMD64)]"
  }
 },
 "nbformat": 4,
 "nbformat_minor": 5
}
