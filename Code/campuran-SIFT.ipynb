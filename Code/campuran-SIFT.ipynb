{
 "cells": [
  {
   "cell_type": "markdown",
   "id": "a4f194f9",
   "metadata": {
    "id": "a4f194f9"
   },
   "source": [
    "# Import Library"
   ]
  },
  {
   "cell_type": "code",
   "execution_count": 1,
   "id": "87c0a897",
   "metadata": {
    "executionInfo": {
     "elapsed": 2215,
     "status": "ok",
     "timestamp": 1648212064557,
     "user": {
      "displayName": "Rama Tri Agung",
      "photoUrl": "https://lh3.googleusercontent.com/a-/AOh14GhO5MpcihqCafTv8Tf9MUwRyHV6tO2uPdiXma2V=s64",
      "userId": "07374601175312417068"
     },
     "user_tz": -420
    },
    "id": "87c0a897"
   },
   "outputs": [],
   "source": [
    "# load data\n",
    "import os\n",
    "\n",
    "# computing\n",
    "import numpy as np\n",
    "import pandas as pd\n",
    "\n",
    "# visualization\n",
    "import matplotlib.pyplot as plt\n",
    "import seaborn as sns\n",
    "\n",
    "# feature extraction\n",
    "import cv2\n",
    "from scipy.spatial.distance import cdist\n",
    "from sklearn.cluster import KMeans\n",
    "\n",
    "# modelling\n",
    "from sklearn.preprocessing import StandardScaler\n",
    "from sklearn.model_selection import train_test_split\n",
    "from sklearn.svm import SVC\n",
    "from sklearn.model_selection import GridSearchCV\n",
    "\n",
    "# evalutaion\n",
    "from sklearn.metrics import classification_report, confusion_matrix, accuracy_score\n",
    "\n",
    "# load/save model\n",
    "import pickle"
   ]
  },
  {
   "cell_type": "markdown",
   "id": "3d041a7a",
   "metadata": {},
   "source": [
    "### Define common pickle method"
   ]
  },
  {
   "cell_type": "code",
   "execution_count": 2,
   "id": "72edab2e",
   "metadata": {},
   "outputs": [],
   "source": [
    "def load_file_pickle(filename):\n",
    "    file_pickle = pickle.load(open(filename, 'rb'))\n",
    "    return file_pickle\n",
    "\n",
    "def save_file_pickle(data, filename):\n",
    "    pickle.dump(data, open(filename, 'wb'))"
   ]
  },
  {
   "cell_type": "markdown",
   "id": "c18569d6",
   "metadata": {},
   "source": [
    "#### Constant variable"
   ]
  },
  {
   "cell_type": "code",
   "execution_count": 3,
   "id": "13afcbc7",
   "metadata": {},
   "outputs": [],
   "source": [
    "BOW_FILE_PICKLE = \"bow_dictionary.pkl\"\n",
    "SCALER_WS_FILE_PICKLE = \"scaler_with_sift.pkl\"\n",
    "SCALER_WOS_FILE_PICKLE = \"scaler_without_sift.pkl\"\n",
    "SVM_WS_FILE_PICKLE = \"svm_with_sift_model.pkl\"\n",
    "SVM_WOS_FILE_PICKLE = \"svm_without_sift_model.pkl\""
   ]
  },
  {
   "cell_type": "markdown",
   "id": "597f2f85",
   "metadata": {
    "id": "597f2f85"
   },
   "source": [
    "# Load Data\n",
    "\n",
    "- input: -\n",
    "- output: `raw_X, raw_y`"
   ]
  },
  {
   "cell_type": "code",
   "execution_count": 4,
   "id": "c3306d58",
   "metadata": {
    "executionInfo": {
     "elapsed": 5,
     "status": "ok",
     "timestamp": 1648212064558,
     "user": {
      "displayName": "Rama Tri Agung",
      "photoUrl": "https://lh3.googleusercontent.com/a-/AOh14GhO5MpcihqCafTv8Tf9MUwRyHV6tO2uPdiXma2V=s64",
      "userId": "07374601175312417068"
     },
     "user_tz": -420
    },
    "id": "c3306d58"
   },
   "outputs": [],
   "source": [
    "# ukurang gambar 224x224\n",
    "def import_image(file) :\n",
    "    image = cv2.imread(file)\n",
    "    image = cv2.bitwise_not(image)\n",
    "    return image\n",
    "\n",
    "def label_image(character, length) :\n",
    "    array = np.full(length, character)\n",
    "    return array\n",
    "\n",
    "def import_data(character, path) :\n",
    "    file_path = os.listdir(path)\n",
    "    images = np.array([import_image(path + '/' + file) for file in file_path])\n",
    "    label = label_image(character, len(file_path))\n",
    "    \n",
    "    return images, label"
   ]
  },
  {
   "cell_type": "code",
   "execution_count": 5,
   "id": "f0f02ffc",
   "metadata": {
    "colab": {
     "base_uri": "https://localhost:8080/"
    },
    "executionInfo": {
     "elapsed": 2631,
     "status": "ok",
     "timestamp": 1648212067185,
     "user": {
      "displayName": "Rama Tri Agung",
      "photoUrl": "https://lh3.googleusercontent.com/a-/AOh14GhO5MpcihqCafTv8Tf9MUwRyHV6tO2uPdiXma2V=s64",
      "userId": "07374601175312417068"
     },
     "user_tz": -420
    },
    "id": "f0f02ffc",
    "outputId": "d80e2c33-9158-4418-ac4d-28d95e7910ed",
    "scrolled": false
   },
   "outputs": [
    {
     "name": "stdout",
     "output_type": "stream",
     "text": [
      "Size of ba : 21\n",
      "Size of ca : 21\n",
      "Size of da : 21\n",
      "Size of dha : 21\n",
      "Size of ga : 21\n",
      "Size of ha : 21\n",
      "Size of ja : 21\n",
      "Size of ka : 21\n",
      "Size of la : 21\n",
      "Size of ma : 21\n",
      "Size of na : 21\n",
      "Size of nga : 21\n",
      "Size of nya : 21\n",
      "Size of pa : 21\n",
      "Size of ra : 21\n",
      "Size of sa : 21\n",
      "Size of ta : 21\n",
      "Size of tha : 21\n",
      "Size of wa : 21\n",
      "Size of ya : 21\n"
     ]
    }
   ],
   "source": [
    "hanacaraka = ('ba','ca','da','dha','ga','ha','ja','ka','la','ma','na','nga','nya','pa','ra','sa','ta','tha','wa','ya')\n",
    "\n",
    "raw_X = np.empty((0, 224, 224, 3), np.uint8)\n",
    "raw_y = np.empty((0))\n",
    "\n",
    "folder_path = \"../Dataset/campuran/\" # for local used\n",
    "# folder_path = \"drive/MyDrive/Skripsi/Repos/Dataset/campuran/\" # for drive used\n",
    "\n",
    "for character in hanacaraka:\n",
    "    dataset_path = folder_path + character\n",
    "\n",
    "    temp_X, temp_y = import_data(character, dataset_path)\n",
    "\n",
    "    print(\"Size of\", character, \":\", temp_X.shape[0])\n",
    "    \n",
    "    raw_X = np.append(raw_X, temp_X, axis=0)\n",
    "    raw_y = np.append(raw_y, temp_y, axis=0)\n"
   ]
  },
  {
   "cell_type": "code",
   "execution_count": 6,
   "id": "915ea983",
   "metadata": {
    "colab": {
     "base_uri": "https://localhost:8080/"
    },
    "executionInfo": {
     "elapsed": 8,
     "status": "ok",
     "timestamp": 1648212067186,
     "user": {
      "displayName": "Rama Tri Agung",
      "photoUrl": "https://lh3.googleusercontent.com/a-/AOh14GhO5MpcihqCafTv8Tf9MUwRyHV6tO2uPdiXma2V=s64",
      "userId": "07374601175312417068"
     },
     "user_tz": -420
    },
    "id": "915ea983",
    "outputId": "29a4aaba-face-4ba4-cd94-db52c3237c5c"
   },
   "outputs": [
    {
     "name": "stdout",
     "output_type": "stream",
     "text": [
      "Number of data: 420\n",
      "Image dimension: (224, 224, 3)\n"
     ]
    }
   ],
   "source": [
    "# Ukuran keseluruhan data\n",
    "print(\"Number of data:\", raw_X.shape[0])\n",
    "print(\"Image dimension:\", raw_X[0].shape)"
   ]
  },
  {
   "cell_type": "markdown",
   "id": "3eac7c8e",
   "metadata": {},
   "source": [
    "### Visualize Raw Data"
   ]
  },
  {
   "cell_type": "code",
   "execution_count": 7,
   "id": "27770ec6",
   "metadata": {},
   "outputs": [
    {
     "data": {
      "image/png": "[encoded data removed]",
      "text/plain": [
       "<Figure size 1152x288 with 8 Axes>"
      ]
     },
     "metadata": {
      "needs_background": "light"
     },
     "output_type": "display_data"
    }
   ],
   "source": [
    "np.random.seed(42)\n",
    "\n",
    "fig = plt.figure(figsize=(16, 4))\n",
    "columns = 8\n",
    "rows = 1\n",
    "for i in range(1, columns*rows + 1):\n",
    "    img = np.array(raw_X[np.random.randint(0, raw_X.shape[0]), :])\n",
    "    fig.add_subplot(rows, columns, i)\n",
    "    plt.imshow(img)\n",
    "    plt.axis('off')\n",
    "\n",
    "plt.show()"
   ]
  },
  {
   "cell_type": "markdown",
   "id": "8c0989ea",
   "metadata": {
    "id": "8c0989ea"
   },
   "source": [
    "# Augmantation & Preparation Data\n",
    "\n",
    "- input: `raw_X, raw_y`\n",
    "- output: `X, y`"
   ]
  },
  {
   "cell_type": "markdown",
   "id": "715480f5",
   "metadata": {},
   "source": [
    "List Augmented :\n",
    "1. Rotate 30 CCW\n",
    "2. Rotate 15 CCW + Zoom out\n",
    "3. Rotate 15 CW + Zoom out\n",
    "4. Rotate 30 CW\n",
    "5. Shear Left\n",
    "6. Shear Right\n",
    "7. Normal\n",
    "\n",
    "List Preprocessing :\n",
    "1. Resizing (128x128)\n",
    "2. Grayscaling\n",
    "3. Equalization"
   ]
  },
  {
   "cell_type": "markdown",
   "id": "a31b2f1b",
   "metadata": {},
   "source": [
    "### Augmented Method"
   ]
  },
  {
   "cell_type": "code",
   "execution_count": 8,
   "id": "953a1516",
   "metadata": {
    "executionInfo": {
     "elapsed": 394,
     "status": "ok",
     "timestamp": 1648212070221,
     "user": {
      "displayName": "Rama Tri Agung",
      "photoUrl": "https://lh3.googleusercontent.com/a-/AOh14GhO5MpcihqCafTv8Tf9MUwRyHV6tO2uPdiXma2V=s64",
      "userId": "07374601175312417068"
     },
     "user_tz": -420
    },
    "id": "953a1516"
   },
   "outputs": [],
   "source": [
    "# Augmented Method\n",
    "def rotate(img, degree):\n",
    "    (h, w) = img.shape[:2]\n",
    "    (cX, cY) = (w // 2, h // 2)\n",
    "    M = cv2.getRotationMatrix2D((cX, cY), degree, 1.0)\n",
    "    img_rotated = cv2.warpAffine(img, M, (w, h))\n",
    "    return img_rotated\n",
    "\n",
    "def zoom_out(img, zoom_scale):\n",
    "    img_zoom = np.zeros((img.shape[0], img.shape[1]), dtype=np.uint8)\n",
    "\n",
    "    h, w = img.shape[0]/zoom_scale, img.shape[1]/zoom_scale\n",
    "    h, w = int(h), int(w)\n",
    "    x, y = (img.shape[0]-w)//2, (img.shape[1]-h)//2\n",
    "    img_resize = cv2.resize(img, (h, w), interpolation = cv2.INTER_AREA)\n",
    "\n",
    "    img_zoom[x:w+x, y:h+y] = img_resize\n",
    "    return img_zoom\n",
    "\n",
    "def shear(img, x, y):\n",
    "    rows, cols = img.shape\n",
    "    M = np.float32([[1, x, 0],\n",
    "                    [y, 1, 0]])\n",
    "    sheared_img = cv2.warpAffine(img, M, (cols, rows))\n",
    "    return sheared_img"
   ]
  },
  {
   "cell_type": "markdown",
   "id": "fc7d84ad",
   "metadata": {},
   "source": [
    "### Image Preprocessing Method"
   ]
  },
  {
   "cell_type": "code",
   "execution_count": 9,
   "id": "bcecb3ab",
   "metadata": {},
   "outputs": [],
   "source": [
    "# Preprocessing Image\n",
    "def equalizing(img):\n",
    "    if (img.ndim == 3):\n",
    "        b, g, r = cv2.split(img)\n",
    "        red = cv2.equalizeHist(r)\n",
    "        green = cv2.equalizeHist(g)\n",
    "        blue = cv2.equalizeHist(b)\n",
    "        img = cv2.merge((blue, green, red))\n",
    "    else:\n",
    "        img = cv2.equalizeHist(img)\n",
    "    return img\n",
    "\n",
    "def grayscaling(image):\n",
    "    image = cv2.cvtColor(image, cv2.COLOR_RGB2GRAY)\n",
    "    return image\n",
    "\n",
    "def resizing(image, size):\n",
    "    image = cv2.resize(image, (size, size), interpolation = cv2.INTER_AREA)\n",
    "    return image"
   ]
  },
  {
   "cell_type": "code",
   "execution_count": 244,
   "id": "8b065983",
   "metadata": {
    "executionInfo": {
     "elapsed": 305,
     "status": "ok",
     "timestamp": 1648212071397,
     "user": {
      "displayName": "Rama Tri Agung",
      "photoUrl": "https://lh3.googleusercontent.com/a-/AOh14GhO5MpcihqCafTv8Tf9MUwRyHV6tO2uPdiXma2V=s64",
      "userId": "07374601175312417068"
     },
     "user_tz": -420
    },
    "id": "8b065983"
   },
   "outputs": [],
   "source": [
    "# Generate augmentation and preprocessing data\n",
    "size = 192\n",
    "def dataset_aug_generator_prep(ori_img, size):\n",
    "    ori_img = resizing(ori_img, size)\n",
    "    ori_img = grayscaling(ori_img)\n",
    "    \n",
    "    ori_img = zoom_out(ori_img, 1.15)\n",
    "    img_r_30_ccw = rotate(ori_img, 30)\n",
    "    img_r_30_cw = rotate(ori_img, -30)\n",
    "    img_r_15_ccw_z = rotate(zoom_out(ori_img, 1.3), 15)\n",
    "    img_r_15_cw_z = rotate(zoom_out(ori_img, 1.3), -15)\n",
    "    img_s_left = shear(ori_img, -0.15, -0.15)\n",
    "    img_s_right = shear(ori_img, 0.15, 0.15)\n",
    "    \n",
    "    result_aug = [ori_img, img_r_30_ccw, img_r_30_cw, img_r_15_ccw_z, img_r_15_cw_z, img_s_left, img_s_right]\n",
    "    for idx, item_img in enumerate(result_aug):\n",
    "        result_aug[idx] = equalizing(result_aug[idx])\n",
    "    return result_aug"
   ]
  },
  {
   "cell_type": "markdown",
   "id": "c28d56e5",
   "metadata": {},
   "source": [
    "#### test result image after generate augmentation and preprocessing"
   ]
  },
  {
   "cell_type": "code",
   "execution_count": 245,
   "id": "e77aab5c",
   "metadata": {
    "colab": {
     "base_uri": "https://localhost:8080/",
     "height": 140
    },
    "executionInfo": {
     "elapsed": 1370,
     "status": "ok",
     "timestamp": 1648212073146,
     "user": {
      "displayName": "Rama Tri Agung",
      "photoUrl": "https://lh3.googleusercontent.com/a-/AOh14GhO5MpcihqCafTv8Tf9MUwRyHV6tO2uPdiXma2V=s64",
      "userId": "07374601175312417068"
     },
     "user_tz": -420
    },
    "id": "e77aab5c",
    "outputId": "8f770d91-cf13-4abe-84d2-6f13b2515805"
   },
   "outputs": [
    {
     "data": {
      "image/png": "[encoded data removed]",
      "text/plain": [
       "<Figure size 1152x288 with 7 Axes>"
      ]
     },
     "metadata": {
      "needs_background": "light"
     },
     "output_type": "display_data"
    }
   ],
   "source": [
    "test_img_aug = dataset_aug_generator_prep(raw_X[0], size)\n",
    "\n",
    "fig = plt.figure(figsize=(16, 4))\n",
    "columns = 7\n",
    "rows = 1\n",
    "for i in range(1, columns*rows + 1):\n",
    "    img = test_img_aug[i-1]\n",
    "    fig.add_subplot(rows, columns, i)\n",
    "    plt.imshow(img, cmap='gray', vmin=0, vmax=255)\n",
    "    plt.axis('off')\n",
    "\n",
    "plt.show()"
   ]
  },
  {
   "cell_type": "markdown",
   "id": "64037862",
   "metadata": {},
   "source": [
    "## Generate Aug & Prep Image on All Raw Data"
   ]
  },
  {
   "cell_type": "code",
   "execution_count": 246,
   "id": "9727ec73",
   "metadata": {
    "executionInfo": {
     "elapsed": 25680,
     "status": "ok",
     "timestamp": 1648212099185,
     "user": {
      "displayName": "Rama Tri Agung",
      "photoUrl": "https://lh3.googleusercontent.com/a-/AOh14GhO5MpcihqCafTv8Tf9MUwRyHV6tO2uPdiXma2V=s64",
      "userId": "07374601175312417068"
     },
     "user_tz": -420
    },
    "id": "a988042b"
   },
   "outputs": [],
   "source": [
    "X = np.empty((0, size, size), np.uint8)\n",
    "y = np.empty((0))\n",
    "\n",
    "for idx, img in enumerate(raw_X):\n",
    "    img_aug = dataset_aug_generator_prep(img, size)\n",
    "    \n",
    "    for item_img in img_aug:\n",
    "        X = np.append(X, [item_img], axis=0)\n",
    "        y = np.append(y, [raw_y[idx]], axis=0)"
   ]
  },
  {
   "cell_type": "code",
   "execution_count": 247,
   "id": "dcb66785",
   "metadata": {
    "colab": {
     "base_uri": "https://localhost:8080/"
    },
    "executionInfo": {
     "elapsed": 7,
     "status": "ok",
     "timestamp": 1648212099186,
     "user": {
      "displayName": "Rama Tri Agung",
      "photoUrl": "https://lh3.googleusercontent.com/a-/AOh14GhO5MpcihqCafTv8Tf9MUwRyHV6tO2uPdiXma2V=s64",
      "userId": "07374601175312417068"
     },
     "user_tz": -420
    },
    "id": "dcb66785",
    "outputId": "cfa37274-95a8-4910-cd37-c86f5729ad31"
   },
   "outputs": [
    {
     "name": "stdout",
     "output_type": "stream",
     "text": [
      "Result X data dimension: (2940, 192, 192)\n",
      "Result y data dimension: (2940,)\n"
     ]
    }
   ],
   "source": [
    "print(\"Result X data dimension:\", X.shape)\n",
    "print(\"Result y data dimension:\", y.shape)"
   ]
  },
  {
   "cell_type": "markdown",
   "id": "be0b8d89",
   "metadata": {},
   "source": [
    "### Visualize Result Data"
   ]
  },
  {
   "cell_type": "code",
   "execution_count": 248,
   "id": "dad58e22",
   "metadata": {
    "colab": {
     "base_uri": "https://localhost:8080/",
     "height": 244
    },
    "executionInfo": {
     "elapsed": 974,
     "status": "ok",
     "timestamp": 1648212100155,
     "user": {
      "displayName": "Rama Tri Agung",
      "photoUrl": "https://lh3.googleusercontent.com/a-/AOh14GhO5MpcihqCafTv8Tf9MUwRyHV6tO2uPdiXma2V=s64",
      "userId": "07374601175312417068"
     },
     "user_tz": -420
    },
    "id": "dad58e22",
    "outputId": "f1c45b6a-2a6e-4021-84be-7e734c564a4a"
   },
   "outputs": [
    {
     "data": {
      "image/png": "[encoded data removed]",
      "text/plain": [
       "<Figure size 1152x288 with 8 Axes>"
      ]
     },
     "metadata": {
      "needs_background": "light"
     },
     "output_type": "display_data"
    }
   ],
   "source": [
    "np.random.seed(42)\n",
    "\n",
    "fig = plt.figure(figsize=(16, 4))\n",
    "columns = 8\n",
    "rows = 1\n",
    "for i in range(1, columns*rows + 1):\n",
    "    img = np.array(X[np.random.randint(0, X.shape[0]), :])\n",
    "    fig.add_subplot(rows, columns, i)\n",
    "    plt.imshow(img, cmap='gray', vmin=0, vmax=255)\n",
    "    plt.axis('off')\n",
    "\n",
    "plt.show()"
   ]
  },
  {
   "cell_type": "markdown",
   "id": "3f7f207b",
   "metadata": {
    "id": "3f7f207b"
   },
   "source": [
    "# Feature Extraction\n",
    "\n",
    "- input: `X`\n",
    "- output: `X_feature`"
   ]
  },
  {
   "cell_type": "markdown",
   "id": "6e1cb034",
   "metadata": {
    "id": "6e1cb034"
   },
   "source": [
    "### Extract SIFT Descriptors "
   ]
  },
  {
   "cell_type": "code",
   "execution_count": 249,
   "id": "29ceac16",
   "metadata": {
    "executionInfo": {
     "elapsed": 498,
     "status": "ok",
     "timestamp": 1648212100644,
     "user": {
      "displayName": "Rama Tri Agung",
      "photoUrl": "https://lh3.googleusercontent.com/a-/AOh14GhO5MpcihqCafTv8Tf9MUwRyHV6tO2uPdiXma2V=s64",
      "userId": "07374601175312417068"
     },
     "user_tz": -420
    },
    "id": "29ceac16"
   },
   "outputs": [],
   "source": [
    "def extract_sift_features(list_image):\n",
    "\n",
    "    image_descriptors = []\n",
    "    sift = cv2.SIFT_create()\n",
    "    for image in list_image:\n",
    "        _, descriptor = sift.detectAndCompute(image, None)\n",
    "        image_descriptors.append(descriptor)\n",
    "\n",
    "    return image_descriptors\n",
    "\n",
    "def split_all_descriptors(image_descriptors):\n",
    "    all_descriptors = []\n",
    "    for descriptor in image_descriptors:\n",
    "        if descriptor is not None:\n",
    "            for des in descriptor:\n",
    "                all_descriptors.append(des)\n",
    "    \n",
    "    return np.array(all_descriptors)"
   ]
  },
  {
   "cell_type": "code",
   "execution_count": 250,
   "id": "d50539d0",
   "metadata": {
    "executionInfo": {
     "elapsed": 20918,
     "status": "ok",
     "timestamp": 1648212121560,
     "user": {
      "displayName": "Rama Tri Agung",
      "photoUrl": "https://lh3.googleusercontent.com/a-/AOh14GhO5MpcihqCafTv8Tf9MUwRyHV6tO2uPdiXma2V=s64",
      "userId": "07374601175312417068"
     },
     "user_tz": -420
    },
    "id": "d50539d0"
   },
   "outputs": [],
   "source": [
    "image_descriptors = extract_sift_features(X)"
   ]
  },
  {
   "cell_type": "code",
   "execution_count": 251,
   "id": "53a20fc4",
   "metadata": {
    "colab": {
     "base_uri": "https://localhost:8080/"
    },
    "executionInfo": {
     "elapsed": 14,
     "status": "ok",
     "timestamp": 1648212121561,
     "user": {
      "displayName": "Rama Tri Agung",
      "photoUrl": "https://lh3.googleusercontent.com/a-/AOh14GhO5MpcihqCafTv8Tf9MUwRyHV6tO2uPdiXma2V=s64",
      "userId": "07374601175312417068"
     },
     "user_tz": -420
    },
    "id": "53a20fc4",
    "outputId": "62cb7002-248b-4204-c394-0fd05ab5e590",
    "scrolled": true
   },
   "outputs": [
    {
     "name": "stdout",
     "output_type": "stream",
     "text": [
      "Number of keypoint descriptor: (193416, 128)\n"
     ]
    }
   ],
   "source": [
    "all_descriptors = split_all_descriptors(image_descriptors)\n",
    "print(\"Number of keypoint descriptor:\", all_descriptors.shape)"
   ]
  },
  {
   "cell_type": "markdown",
   "id": "4b9c46d6",
   "metadata": {
    "id": "4b9c46d6"
   },
   "source": [
    "### Create BOW of Descriptor Using Cluster"
   ]
  },
  {
   "cell_type": "code",
   "execution_count": 252,
   "id": "86c97bff",
   "metadata": {
    "executionInfo": {
     "elapsed": 10,
     "status": "ok",
     "timestamp": 1648212121561,
     "user": {
      "displayName": "Rama Tri Agung",
      "photoUrl": "https://lh3.googleusercontent.com/a-/AOh14GhO5MpcihqCafTv8Tf9MUwRyHV6tO2uPdiXma2V=s64",
      "userId": "07374601175312417068"
     },
     "user_tz": -420
    },
    "id": "86c97bff"
   },
   "outputs": [],
   "source": [
    "def kmeans_bow(all_descriptors, num_cluster):\n",
    "    # if not os.path.isfile(BOW_FILE_PICKLE):\n",
    "    kmeans = KMeans(n_clusters = num_cluster, verbose=1)\n",
    "    kmeans.fit(all_descriptors)\n",
    "\n",
    "    bow_dict = kmeans.cluster_centers_\n",
    "    \n",
    "    save_file_pickle(bow_dict, BOW_FILE_PICKLE)\n",
    "    # else:\n",
    "    #     bow_dict = load_file_pickle(BOW_FILE_PICKLE)\n",
    "\n",
    "    return bow_dict"
   ]
  },
  {
   "cell_type": "code",
   "execution_count": 253,
   "id": "92cd2d55",
   "metadata": {
    "colab": {
     "base_uri": "https://localhost:8080/"
    },
    "executionInfo": {
     "elapsed": 1100418,
     "status": "ok",
     "timestamp": 1648213221969,
     "user": {
      "displayName": "Rama Tri Agung",
      "photoUrl": "https://lh3.googleusercontent.com/a-/AOh14GhO5MpcihqCafTv8Tf9MUwRyHV6tO2uPdiXma2V=s64",
      "userId": "07374601175312417068"
     },
     "user_tz": -420
    },
    "id": "92cd2d55",
    "outputId": "75c6186c-1558-4e16-e9ad-0672767c0f4b",
    "scrolled": true
   },
   "outputs": [
    {
     "name": "stdout",
     "output_type": "stream",
     "text": [
      "Initialization complete\n",
      "Iteration 0, inertia 2613602816.0\n",
      "Iteration 1, inertia 1985647872.0\n",
      "Iteration 2, inertia 1938412288.0\n",
      "Iteration 3, inertia 1918920832.0\n",
      "Iteration 4, inertia 1907804672.0\n",
      "Iteration 5, inertia 1900316672.0\n",
      "Iteration 6, inertia 1895145984.0\n",
      "Iteration 7, inertia 1890739584.0\n",
      "Iteration 8, inertia 1887285376.0\n",
      "Iteration 9, inertia 1884617600.0\n",
      "Iteration 10, inertia 1882483840.0\n",
      "Iteration 11, inertia 1880780416.0\n",
      "Iteration 12, inertia 1879440640.0\n",
      "Iteration 13, inertia 1878231936.0\n",
      "Iteration 14, inertia 1877255296.0\n",
      "Iteration 15, inertia 1876358912.0\n",
      "Iteration 16, inertia 1875459072.0\n",
      "Iteration 17, inertia 1874683008.0\n",
      "Iteration 18, inertia 1874050176.0\n",
      "Iteration 19, inertia 1873612032.0\n",
      "Iteration 20, inertia 1873237504.0\n",
      "Iteration 21, inertia 1872864000.0\n",
      "Iteration 22, inertia 1872537216.0\n",
      "Iteration 23, inertia 1872244736.0\n",
      "Iteration 24, inertia 1871996672.0\n",
      "Iteration 25, inertia 1871827584.0\n",
      "Iteration 26, inertia 1871704832.0\n",
      "Iteration 27, inertia 1871595776.0\n",
      "Iteration 28, inertia 1871447808.0\n",
      "Iteration 29, inertia 1871282560.0\n",
      "Iteration 30, inertia 1871120256.0\n",
      "Iteration 31, inertia 1870992640.0\n",
      "Iteration 32, inertia 1870850048.0\n",
      "Iteration 33, inertia 1870676992.0\n",
      "Iteration 34, inertia 1870544512.0\n",
      "Iteration 35, inertia 1870446208.0\n",
      "Iteration 36, inertia 1870304896.0\n",
      "Iteration 37, inertia 1870143360.0\n",
      "Iteration 38, inertia 1870013824.0\n",
      "Iteration 39, inertia 1869817728.0\n",
      "Iteration 40, inertia 1869701120.0\n",
      "Iteration 41, inertia 1869623936.0\n",
      "Iteration 42, inertia 1869578496.0\n",
      "Iteration 43, inertia 1869545216.0\n",
      "Iteration 44, inertia 1869508480.0\n",
      "Iteration 45, inertia 1869460992.0\n",
      "Iteration 46, inertia 1869430912.0\n",
      "Iteration 47, inertia 1869409920.0\n",
      "Iteration 48, inertia 1869390848.0\n",
      "Iteration 49, inertia 1869363840.0\n",
      "Iteration 50, inertia 1869342336.0\n",
      "Iteration 51, inertia 1869326208.0\n",
      "Iteration 52, inertia 1869314432.0\n",
      "Iteration 53, inertia 1869303040.0\n",
      "Iteration 54, inertia 1869293184.0\n",
      "Iteration 55, inertia 1869281024.0\n",
      "Iteration 56, inertia 1869271552.0\n",
      "Iteration 57, inertia 1869261696.0\n",
      "Iteration 58, inertia 1869253504.0\n",
      "Iteration 59, inertia 1869245312.0\n",
      "Iteration 60, inertia 1869236352.0\n",
      "Iteration 61, inertia 1869228928.0\n",
      "Iteration 62, inertia 1869222400.0\n",
      "Iteration 63, inertia 1869218304.0\n",
      "Iteration 64, inertia 1869213568.0\n",
      "Iteration 65, inertia 1869208576.0\n",
      "Iteration 66, inertia 1869206400.0\n",
      "Iteration 67, inertia 1869201792.0\n",
      "Iteration 68, inertia 1869197952.0\n",
      "Iteration 69, inertia 1869192448.0\n",
      "Iteration 70, inertia 1869185152.0\n",
      "Iteration 71, inertia 1869179520.0\n",
      "Iteration 72, inertia 1869174400.0\n",
      "Iteration 73, inertia 1869167104.0\n",
      "Iteration 74, inertia 1869161600.0\n",
      "Iteration 75, inertia 1869156096.0\n",
      "Iteration 76, inertia 1869152512.0\n",
      "Iteration 77, inertia 1869148928.0\n",
      "Iteration 78, inertia 1869143040.0\n",
      "Iteration 79, inertia 1869137792.0\n",
      "Iteration 80, inertia 1869131392.0\n",
      "Iteration 81, inertia 1869122816.0\n",
      "Iteration 82, inertia 1869117440.0\n",
      "Iteration 83, inertia 1869111680.0\n",
      "Iteration 84, inertia 1869109248.0\n",
      "Iteration 85, inertia 1869106432.0\n",
      "Iteration 86, inertia 1869102848.0\n",
      "Iteration 87, inertia 1869099136.0\n",
      "Iteration 88, inertia 1869094656.0\n",
      "Iteration 89, inertia 1869092224.0\n",
      "Iteration 90, inertia 1869089664.0\n",
      "Iteration 91, inertia 1869084928.0\n",
      "Iteration 92, inertia 1869081344.0\n",
      "Iteration 93, inertia 1869074816.0\n",
      "Iteration 94, inertia 1869062144.0\n",
      "Iteration 95, inertia 1869038720.0\n",
      "Iteration 96, inertia 1869020928.0\n",
      "Iteration 97, inertia 1869010048.0\n",
      "Iteration 98, inertia 1869001472.0\n",
      "Iteration 99, inertia 1868993280.0\n",
      "Iteration 100, inertia 1868988672.0\n",
      "Iteration 101, inertia 1868985344.0\n",
      "Iteration 102, inertia 1868982656.0\n",
      "Iteration 103, inertia 1868981376.0\n",
      "Iteration 104, inertia 1868978176.0\n",
      "Iteration 105, inertia 1868975104.0\n",
      "Iteration 106, inertia 1868971392.0\n",
      "Iteration 107, inertia 1868968704.0\n",
      "Iteration 108, inertia 1868964480.0\n",
      "Iteration 109, inertia 1868961280.0\n",
      "Iteration 110, inertia 1868959488.0\n",
      "Iteration 111, inertia 1868957824.0\n",
      "Iteration 112, inertia 1868956928.0\n",
      "Iteration 113, inertia 1868954112.0\n",
      "Iteration 114, inertia 1868954368.0\n",
      "Iteration 115, inertia 1868953728.0\n",
      "Iteration 116, inertia 1868953216.0\n",
      "Iteration 117, inertia 1868952448.0\n",
      "Iteration 118, inertia 1868951552.0\n",
      "Iteration 119, inertia 1868951552.0\n",
      "Converged at iteration 119: center shift 0.04469078779220581 within tolerance 0.08778471679687501.\n",
      "Initialization complete\n",
      "Iteration 0, inertia 2622427136.0\n",
      "Iteration 1, inertia 1993854848.0\n",
      "Iteration 2, inertia 1946494080.0\n",
      "Iteration 3, inertia 1927273856.0\n",
      "Iteration 4, inertia 1915455616.0\n",
      "Iteration 5, inertia 1907258112.0\n",
      "Iteration 6, inertia 1901293184.0\n",
      "Iteration 7, inertia 1896435456.0\n",
      "Iteration 8, inertia 1892547840.0\n",
      "Iteration 9, inertia 1889672576.0\n",
      "Iteration 10, inertia 1887448320.0\n",
      "Iteration 11, inertia 1885593216.0\n",
      "Iteration 12, inertia 1884070912.0\n",
      "Iteration 13, inertia 1882670464.0\n",
      "Iteration 14, inertia 1881488384.0\n",
      "Iteration 15, inertia 1880599424.0\n",
      "Iteration 16, inertia 1879873792.0\n",
      "Iteration 17, inertia 1879315840.0\n",
      "Iteration 18, inertia 1878759296.0\n",
      "Iteration 19, inertia 1878315264.0\n",
      "Iteration 20, inertia 1877958784.0\n",
      "Iteration 21, inertia 1877676160.0\n",
      "Iteration 22, inertia 1877480960.0\n",
      "Iteration 23, inertia 1877302784.0\n",
      "Iteration 24, inertia 1877136640.0\n",
      "Iteration 25, inertia 1876994304.0\n",
      "Iteration 26, inertia 1876834176.0\n",
      "Iteration 27, inertia 1876690432.0\n",
      "Iteration 28, inertia 1876541824.0\n",
      "Iteration 29, inertia 1876359936.0\n",
      "Iteration 30, inertia 1876203776.0\n",
      "Iteration 31, inertia 1876095488.0\n",
      "Iteration 32, inertia 1876008320.0\n",
      "Iteration 33, inertia 1875937024.0\n",
      "Iteration 34, inertia 1875872384.0\n",
      "Iteration 35, inertia 1875803520.0\n",
      "Iteration 36, inertia 1875739392.0\n",
      "Iteration 37, inertia 1875676672.0\n",
      "Iteration 38, inertia 1875624320.0\n",
      "Iteration 39, inertia 1875574144.0\n",
      "Iteration 40, inertia 1875515776.0\n",
      "Iteration 41, inertia 1875454976.0\n",
      "Iteration 42, inertia 1875384320.0\n",
      "Iteration 43, inertia 1875315072.0\n",
      "Iteration 44, inertia 1875249792.0\n",
      "Iteration 45, inertia 1875181056.0\n",
      "Iteration 46, inertia 1875126272.0\n",
      "Iteration 47, inertia 1875081088.0\n",
      "Iteration 48, inertia 1875037696.0\n",
      "Iteration 49, inertia 1874999808.0\n",
      "Iteration 50, inertia 1874962944.0\n",
      "Iteration 51, inertia 1874927616.0\n",
      "Iteration 52, inertia 1874889344.0\n",
      "Iteration 53, inertia 1874854656.0\n",
      "Iteration 54, inertia 1874822784.0\n",
      "Iteration 55, inertia 1874794368.0\n",
      "Iteration 56, inertia 1874770944.0\n",
      "Iteration 57, inertia 1874748032.0\n",
      "Iteration 58, inertia 1874727936.0\n",
      "Iteration 59, inertia 1874714368.0\n",
      "Iteration 60, inertia 1874702592.0\n",
      "Iteration 61, inertia 1874692096.0\n",
      "Iteration 62, inertia 1874674560.0\n",
      "Iteration 63, inertia 1874635648.0\n",
      "Iteration 64, inertia 1874528512.0\n",
      "Iteration 65, inertia 1874329088.0\n",
      "Iteration 66, inertia 1874132096.0\n",
      "Iteration 67, inertia 1874009856.0\n",
      "Iteration 68, inertia 1873961088.0\n",
      "Iteration 69, inertia 1873939840.0\n",
      "Iteration 70, inertia 1873927296.0\n",
      "Iteration 71, inertia 1873919232.0\n",
      "Iteration 72, inertia 1873912704.0\n",
      "Iteration 73, inertia 1873904128.0\n",
      "Iteration 74, inertia 1873896832.0\n",
      "Iteration 75, inertia 1873889024.0\n",
      "Iteration 76, inertia 1873881472.0\n",
      "Iteration 77, inertia 1873875072.0\n",
      "Iteration 78, inertia 1873869568.0\n",
      "Iteration 79, inertia 1873865344.0\n",
      "Iteration 80, inertia 1873861504.0\n",
      "Iteration 81, inertia 1873856512.0\n",
      "Iteration 82, inertia 1873852928.0\n",
      "Iteration 83, inertia 1873848320.0\n",
      "Iteration 84, inertia 1873845120.0\n",
      "Iteration 85, inertia 1873839872.0\n",
      "Iteration 86, inertia 1873836672.0\n",
      "Iteration 87, inertia 1873832576.0\n",
      "Iteration 88, inertia 1873829248.0\n",
      "Iteration 89, inertia 1873827712.0\n",
      "Iteration 90, inertia 1873825792.0\n",
      "Iteration 91, inertia 1873823616.0\n",
      "Iteration 92, inertia 1873823104.0\n",
      "Iteration 93, inertia 1873820800.0\n",
      "Iteration 94, inertia 1873818880.0\n",
      "Iteration 95, inertia 1873817088.0\n",
      "Iteration 96, inertia 1873817344.0\n",
      "Iteration 97, inertia 1873816448.0\n",
      "Iteration 98, inertia 1873815680.0\n",
      "Iteration 99, inertia 1873814656.0\n",
      "Iteration 100, inertia 1873814272.0\n",
      "Iteration 101, inertia 1873813888.0\n",
      "Iteration 102, inertia 1873814016.0\n",
      "Iteration 103, inertia 1873813760.0\n",
      "Iteration 104, inertia 1873813888.0\n",
      "Iteration 105, inertia 1873812608.0\n",
      "Iteration 106, inertia 1873812992.0\n",
      "Iteration 107, inertia 1873811968.0\n",
      "Iteration 108, inertia 1873811072.0\n",
      "Iteration 109, inertia 1873811200.0\n",
      "Iteration 110, inertia 1873811200.0\n",
      "Iteration 111, inertia 1873810816.0\n",
      "Converged at iteration 111: center shift 0.08606937527656555 within tolerance 0.08778471679687501.\n",
      "Initialization complete\n",
      "Iteration 0, inertia 2605301504.0\n",
      "Iteration 1, inertia 1986524416.0\n",
      "Iteration 2, inertia 1940057856.0\n",
      "Iteration 3, inertia 1921252736.0\n",
      "Iteration 4, inertia 1910486400.0\n",
      "Iteration 5, inertia 1903020672.0\n",
      "Iteration 6, inertia 1897728000.0\n",
      "Iteration 7, inertia 1893716480.0\n",
      "Iteration 8, inertia 1890750080.0\n",
      "Iteration 9, inertia 1888374272.0\n",
      "Iteration 10, inertia 1886484736.0\n",
      "Iteration 11, inertia 1884934400.0\n",
      "Iteration 12, inertia 1883560320.0\n",
      "Iteration 13, inertia 1882408320.0\n",
      "Iteration 14, inertia 1881350656.0\n",
      "Iteration 15, inertia 1880429440.0\n",
      "Iteration 16, inertia 1879638400.0\n",
      "Iteration 17, inertia 1878971392.0\n",
      "Iteration 18, inertia 1878322048.0\n",
      "Iteration 19, inertia 1877765376.0\n",
      "Iteration 20, inertia 1877294592.0\n",
      "Iteration 21, inertia 1876926592.0\n",
      "Iteration 22, inertia 1876576000.0\n",
      "Iteration 23, inertia 1876274560.0\n",
      "Iteration 24, inertia 1875988480.0\n",
      "Iteration 25, inertia 1875699072.0\n",
      "Iteration 26, inertia 1875448320.0\n",
      "Iteration 27, inertia 1875222784.0\n",
      "Iteration 28, inertia 1874984832.0\n",
      "Iteration 29, inertia 1874760960.0\n",
      "Iteration 30, inertia 1874520960.0\n",
      "Iteration 31, inertia 1874297600.0\n",
      "Iteration 32, inertia 1874098816.0\n",
      "Iteration 33, inertia 1873899264.0\n",
      "Iteration 34, inertia 1873694208.0\n",
      "Iteration 35, inertia 1873515904.0\n",
      "Iteration 36, inertia 1873376768.0\n",
      "Iteration 37, inertia 1873261056.0\n",
      "Iteration 38, inertia 1873171968.0\n",
      "Iteration 39, inertia 1873092608.0\n",
      "Iteration 40, inertia 1873003776.0\n",
      "Iteration 41, inertia 1872940032.0\n",
      "Iteration 42, inertia 1872882688.0\n",
      "Iteration 43, inertia 1872816384.0\n",
      "Iteration 44, inertia 1872760704.0\n",
      "Iteration 45, inertia 1872721024.0\n",
      "Iteration 46, inertia 1872685824.0\n",
      "Iteration 47, inertia 1872658816.0\n",
      "Iteration 48, inertia 1872629632.0\n",
      "Iteration 49, inertia 1872595456.0\n",
      "Iteration 50, inertia 1872548736.0\n",
      "Iteration 51, inertia 1872485504.0\n",
      "Iteration 52, inertia 1872416000.0\n",
      "Iteration 53, inertia 1872352896.0\n",
      "Iteration 54, inertia 1872290688.0\n",
      "Iteration 55, inertia 1872247424.0\n",
      "Iteration 56, inertia 1872212864.0\n",
      "Iteration 57, inertia 1872180992.0\n",
      "Iteration 58, inertia 1872152448.0\n",
      "Iteration 59, inertia 1872122880.0\n",
      "Iteration 60, inertia 1872095872.0\n",
      "Iteration 61, inertia 1872073600.0\n",
      "Iteration 62, inertia 1872046848.0\n",
      "Iteration 63, inertia 1872022528.0\n",
      "Iteration 64, inertia 1872007168.0\n",
      "Iteration 65, inertia 1871989632.0\n",
      "Iteration 66, inertia 1871975168.0\n",
      "Iteration 67, inertia 1871960320.0\n",
      "Iteration 68, inertia 1871947264.0\n",
      "Iteration 69, inertia 1871930880.0\n",
      "Iteration 70, inertia 1871914880.0\n",
      "Iteration 71, inertia 1871900928.0\n",
      "Iteration 72, inertia 1871890688.0\n",
      "Iteration 73, inertia 1871884160.0\n",
      "Iteration 74, inertia 1871877504.0\n",
      "Iteration 75, inertia 1871872896.0\n",
      "Iteration 76, inertia 1871868672.0\n",
      "Iteration 77, inertia 1871863296.0\n",
      "Iteration 78, inertia 1871857408.0\n",
      "Iteration 79, inertia 1871851520.0\n",
      "Iteration 80, inertia 1871846784.0\n",
      "Iteration 81, inertia 1871844224.0\n",
      "Iteration 82, inertia 1871840640.0\n",
      "Iteration 83, inertia 1871837440.0\n",
      "Iteration 84, inertia 1871835392.0\n",
      "Iteration 85, inertia 1871832320.0\n",
      "Iteration 86, inertia 1871830400.0\n",
      "Iteration 87, inertia 1871829120.0\n",
      "Iteration 88, inertia 1871827584.0\n",
      "Iteration 89, inertia 1871826176.0\n",
      "Iteration 90, inertia 1871824384.0\n",
      "Iteration 91, inertia 1871822976.0\n",
      "Iteration 92, inertia 1871821696.0\n",
      "Iteration 93, inertia 1871821312.0\n",
      "Iteration 94, inertia 1871820288.0\n",
      "Iteration 95, inertia 1871820288.0\n",
      "Iteration 96, inertia 1871817984.0\n",
      "Iteration 97, inertia 1871817344.0\n",
      "Iteration 98, inertia 1871815168.0\n",
      "Iteration 99, inertia 1871814144.0\n",
      "Iteration 100, inertia 1871812608.0\n",
      "Iteration 101, inertia 1871810816.0\n",
      "Iteration 102, inertia 1871809920.0\n",
      "Iteration 103, inertia 1871810304.0\n",
      "Iteration 104, inertia 1871808896.0\n",
      "Iteration 105, inertia 1871808000.0\n",
      "Iteration 106, inertia 1871807872.0\n",
      "Iteration 107, inertia 1871806976.0\n",
      "Iteration 108, inertia 1871805824.0\n",
      "Iteration 109, inertia 1871805440.0\n",
      "Iteration 110, inertia 1871805568.0\n",
      "Iteration 111, inertia 1871806208.0\n",
      "Iteration 112, inertia 1871804672.0\n",
      "Iteration 113, inertia 1871803776.0\n",
      "Iteration 114, inertia 1871803392.0\n",
      "Iteration 115, inertia 1871802880.0\n",
      "Iteration 116, inertia 1871802752.0\n",
      "Iteration 117, inertia 1871802496.0\n",
      "Converged at iteration 117: center shift 0.06240006908774376 within tolerance 0.08778471679687501.\n",
      "Initialization complete\n",
      "Iteration 0, inertia 2603039232.0\n",
      "Iteration 1, inertia 1989126016.0\n",
      "Iteration 2, inertia 1942928640.0\n",
      "Iteration 3, inertia 1923730944.0\n",
      "Iteration 4, inertia 1912566272.0\n",
      "Iteration 5, inertia 1904651392.0\n",
      "Iteration 6, inertia 1898758656.0\n",
      "Iteration 7, inertia 1893663104.0\n",
      "Iteration 8, inertia 1889940864.0\n",
      "Iteration 9, inertia 1887345152.0\n",
      "Iteration 10, inertia 1885242880.0\n",
      "Iteration 11, inertia 1883284736.0\n",
      "Iteration 12, inertia 1881782784.0\n",
      "Iteration 13, inertia 1880301696.0\n",
      "Iteration 14, inertia 1878920704.0\n",
      "Iteration 15, inertia 1877585664.0\n",
      "Iteration 16, inertia 1876383872.0\n",
      "Iteration 17, inertia 1875521024.0\n",
      "Iteration 18, inertia 1874850560.0\n",
      "Iteration 19, inertia 1874259456.0\n",
      "Iteration 20, inertia 1873760640.0\n",
      "Iteration 21, inertia 1873427584.0\n",
      "Iteration 22, inertia 1873187072.0\n",
      "Iteration 23, inertia 1872971264.0\n",
      "Iteration 24, inertia 1872705408.0\n",
      "Iteration 25, inertia 1872484224.0\n",
      "Iteration 26, inertia 1872294656.0\n",
      "Iteration 27, inertia 1872093696.0\n",
      "Iteration 28, inertia 1871899008.0\n",
      "Iteration 29, inertia 1871692032.0\n",
      "Iteration 30, inertia 1871486464.0\n",
      "Iteration 31, inertia 1871335680.0\n",
      "Iteration 32, inertia 1871243008.0\n",
      "Iteration 33, inertia 1871166976.0\n",
      "Iteration 34, inertia 1871096320.0\n",
      "Iteration 35, inertia 1871025536.0\n",
      "Iteration 36, inertia 1870956288.0\n",
      "Iteration 37, inertia 1870885120.0\n",
      "Iteration 38, inertia 1870818944.0\n",
      "Iteration 39, inertia 1870755328.0\n",
      "Iteration 40, inertia 1870693376.0\n",
      "Iteration 41, inertia 1870633856.0\n",
      "Iteration 42, inertia 1870582400.0\n",
      "Iteration 43, inertia 1870535296.0\n",
      "Iteration 44, inertia 1870490624.0\n",
      "Iteration 45, inertia 1870454784.0\n",
      "Iteration 46, inertia 1870426368.0\n",
      "Iteration 47, inertia 1870406272.0\n",
      "Iteration 48, inertia 1870386688.0\n",
      "Iteration 49, inertia 1870369792.0\n",
      "Iteration 50, inertia 1870359680.0\n",
      "Iteration 51, inertia 1870347776.0\n",
      "Iteration 52, inertia 1870340864.0\n",
      "Iteration 53, inertia 1870334080.0\n",
      "Iteration 54, inertia 1870328320.0\n",
      "Iteration 55, inertia 1870322176.0\n",
      "Iteration 56, inertia 1870317056.0\n",
      "Iteration 57, inertia 1870312192.0\n",
      "Iteration 58, inertia 1870309888.0\n",
      "Iteration 59, inertia 1870305280.0\n",
      "Iteration 60, inertia 1870301440.0\n",
      "Iteration 61, inertia 1870297984.0\n",
      "Iteration 62, inertia 1870295168.0\n",
      "Iteration 63, inertia 1870289664.0\n",
      "Iteration 64, inertia 1870287104.0\n",
      "Iteration 65, inertia 1870284160.0\n",
      "Iteration 66, inertia 1870281728.0\n",
      "Iteration 67, inertia 1870278912.0\n",
      "Iteration 68, inertia 1870276864.0\n",
      "Iteration 69, inertia 1870275200.0\n",
      "Iteration 70, inertia 1870273280.0\n",
      "Iteration 71, inertia 1870271360.0\n",
      "Iteration 72, inertia 1870269952.0\n",
      "Iteration 73, inertia 1870269440.0\n",
      "Iteration 74, inertia 1870267008.0\n",
      "Iteration 75, inertia 1870265344.0\n",
      "Iteration 76, inertia 1870264320.0\n",
      "Iteration 77, inertia 1870262656.0\n",
      "Iteration 78, inertia 1870261248.0\n",
      "Iteration 79, inertia 1870260992.0\n",
      "Iteration 80, inertia 1870260480.0\n",
      "Iteration 81, inertia 1870259840.0\n",
      "Iteration 82, inertia 1870259200.0\n",
      "Iteration 83, inertia 1870257792.0\n",
      "Iteration 84, inertia 1870256384.0\n",
      "Iteration 85, inertia 1870256128.0\n",
      "Iteration 86, inertia 1870255360.0\n",
      "Iteration 87, inertia 1870255104.0\n",
      "Iteration 88, inertia 1870253568.0\n",
      "Iteration 89, inertia 1870253824.0\n",
      "Iteration 90, inertia 1870252160.0\n",
      "Iteration 91, inertia 1870251008.0\n",
      "Iteration 92, inertia 1870247936.0\n",
      "Iteration 93, inertia 1870243072.0\n",
      "Iteration 94, inertia 1870238080.0\n",
      "Iteration 95, inertia 1870235136.0\n",
      "Iteration 96, inertia 1870234112.0\n",
      "Iteration 97, inertia 1870233344.0\n",
      "Iteration 98, inertia 1870231808.0\n",
      "Iteration 99, inertia 1870231424.0\n",
      "Iteration 100, inertia 1870230016.0\n",
      "Iteration 101, inertia 1870230016.0\n",
      "Iteration 102, inertia 1870229760.0\n",
      "Iteration 103, inertia 1870228224.0\n",
      "Iteration 104, inertia 1870227840.0\n",
      "Converged at iteration 104: center shift 0.08119373768568039 within tolerance 0.08778471679687501.\n",
      "Initialization complete\n",
      "Iteration 0, inertia 2608293376.0\n",
      "Iteration 1, inertia 1987948160.0\n",
      "Iteration 2, inertia 1942239104.0\n",
      "Iteration 3, inertia 1922970368.0\n",
      "Iteration 4, inertia 1911536640.0\n",
      "Iteration 5, inertia 1903824896.0\n",
      "Iteration 6, inertia 1898296576.0\n",
      "Iteration 7, inertia 1894093568.0\n",
      "Iteration 8, inertia 1891098240.0\n",
      "Iteration 9, inertia 1888742272.0\n",
      "Iteration 10, inertia 1886625536.0\n",
      "Iteration 11, inertia 1884918144.0\n",
      "Iteration 12, inertia 1883512192.0\n",
      "Iteration 13, inertia 1882301952.0\n",
      "Iteration 14, inertia 1881211008.0\n",
      "Iteration 15, inertia 1880121600.0\n",
      "Iteration 16, inertia 1879163008.0\n",
      "Iteration 17, inertia 1878478336.0\n",
      "Iteration 18, inertia 1877860480.0\n",
      "Iteration 19, inertia 1877312896.0\n",
      "Iteration 20, inertia 1876750720.0\n",
      "Iteration 21, inertia 1876294912.0\n",
      "Iteration 22, inertia 1875853056.0\n",
      "Iteration 23, inertia 1875414912.0\n",
      "Iteration 24, inertia 1874951680.0\n",
      "Iteration 25, inertia 1874582912.0\n",
      "Iteration 26, inertia 1874312192.0\n",
      "Iteration 27, inertia 1874132224.0\n",
      "Iteration 28, inertia 1873920256.0\n",
      "Iteration 29, inertia 1873771520.0\n",
      "Iteration 30, inertia 1873643648.0\n",
      "Iteration 31, inertia 1873518592.0\n",
      "Iteration 32, inertia 1873406080.0\n",
      "Iteration 33, inertia 1873305984.0\n",
      "Iteration 34, inertia 1873214592.0\n",
      "Iteration 35, inertia 1873116416.0\n",
      "Iteration 36, inertia 1872993920.0\n",
      "Iteration 37, inertia 1872896512.0\n",
      "Iteration 38, inertia 1872810624.0\n",
      "Iteration 39, inertia 1872741120.0\n",
      "Iteration 40, inertia 1872675584.0\n",
      "Iteration 41, inertia 1872615680.0\n",
      "Iteration 42, inertia 1872561408.0\n",
      "Iteration 43, inertia 1872506752.0\n",
      "Iteration 44, inertia 1872455552.0\n",
      "Iteration 45, inertia 1872408704.0\n",
      "Iteration 46, inertia 1872361344.0\n",
      "Iteration 47, inertia 1872323712.0\n",
      "Iteration 48, inertia 1872296960.0\n",
      "Iteration 49, inertia 1872265856.0\n",
      "Iteration 50, inertia 1872224512.0\n",
      "Iteration 51, inertia 1872176256.0\n",
      "Iteration 52, inertia 1872137472.0\n",
      "Iteration 53, inertia 1872106752.0\n",
      "Iteration 54, inertia 1872085376.0\n",
      "Iteration 55, inertia 1872069504.0\n",
      "Iteration 56, inertia 1872058752.0\n",
      "Iteration 57, inertia 1872043648.0\n",
      "Iteration 58, inertia 1872032256.0\n",
      "Iteration 59, inertia 1872017920.0\n",
      "Iteration 60, inertia 1872006400.0\n",
      "Iteration 61, inertia 1871997696.0\n",
      "Iteration 62, inertia 1871987072.0\n",
      "Iteration 63, inertia 1871979648.0\n",
      "Iteration 64, inertia 1871971072.0\n",
      "Iteration 65, inertia 1871966720.0\n",
      "Iteration 66, inertia 1871960576.0\n",
      "Iteration 67, inertia 1871954688.0\n",
      "Iteration 68, inertia 1871947008.0\n",
      "Iteration 69, inertia 1871939712.0\n",
      "Iteration 70, inertia 1871932160.0\n",
      "Iteration 71, inertia 1871923072.0\n",
      "Iteration 72, inertia 1871917184.0\n",
      "Iteration 73, inertia 1871912064.0\n",
      "Iteration 74, inertia 1871907840.0\n",
      "Iteration 75, inertia 1871903872.0\n",
      "Iteration 76, inertia 1871902080.0\n",
      "Iteration 77, inertia 1871899776.0\n",
      "Iteration 78, inertia 1871898112.0\n",
      "Iteration 79, inertia 1871897728.0\n",
      "Iteration 80, inertia 1871896064.0\n",
      "Iteration 81, inertia 1871894656.0\n",
      "Iteration 82, inertia 1871892992.0\n",
      "Iteration 83, inertia 1871891200.0\n",
      "Iteration 84, inertia 1871888256.0\n",
      "Iteration 85, inertia 1871884544.0\n",
      "Iteration 86, inertia 1871882624.0\n",
      "Iteration 87, inertia 1871879680.0\n",
      "Iteration 88, inertia 1871876736.0\n",
      "Iteration 89, inertia 1871876352.0\n",
      "Iteration 90, inertia 1871875840.0\n",
      "Iteration 91, inertia 1871874944.0\n",
      "Iteration 92, inertia 1871874688.0\n",
      "Iteration 93, inertia 1871873408.0\n",
      "Iteration 94, inertia 1871873152.0\n",
      "Iteration 95, inertia 1871872256.0\n",
      "Iteration 96, inertia 1871871744.0\n",
      "Iteration 97, inertia 1871869952.0\n",
      "Iteration 98, inertia 1871869440.0\n",
      "Iteration 99, inertia 1871868800.0\n",
      "Iteration 100, inertia 1871867648.0\n",
      "Iteration 101, inertia 1871866368.0\n",
      "Iteration 102, inertia 1871864576.0\n",
      "Iteration 103, inertia 1871861376.0\n",
      "Iteration 104, inertia 1871858944.0\n",
      "Iteration 105, inertia 1871856256.0\n",
      "Iteration 106, inertia 1871854592.0\n",
      "Iteration 107, inertia 1871852544.0\n",
      "Iteration 108, inertia 1871850240.0\n",
      "Iteration 109, inertia 1871847808.0\n",
      "Iteration 110, inertia 1871845760.0\n",
      "Iteration 111, inertia 1871845248.0\n",
      "Iteration 112, inertia 1871843584.0\n",
      "Iteration 113, inertia 1871841536.0\n",
      "Iteration 114, inertia 1871839232.0\n",
      "Iteration 115, inertia 1871837824.0\n",
      "Iteration 116, inertia 1871837440.0\n",
      "Iteration 117, inertia 1871837056.0\n",
      "Iteration 118, inertia 1871836416.0\n",
      "Iteration 119, inertia 1871835904.0\n",
      "Iteration 120, inertia 1871834880.0\n",
      "Iteration 121, inertia 1871833984.0\n",
      "Iteration 122, inertia 1871832576.0\n",
      "Iteration 123, inertia 1871833216.0\n",
      "Iteration 124, inertia 1871831808.0\n",
      "Iteration 125, inertia 1871832448.0\n",
      "Converged at iteration 125: center shift 0.06068355590105057 within tolerance 0.08778471679687501.\n",
      "Initialization complete\n",
      "Iteration 0, inertia 2625010432.0\n",
      "Iteration 1, inertia 1991050752.0\n",
      "Iteration 2, inertia 1945180672.0\n",
      "Iteration 3, inertia 1924878336.0\n",
      "Iteration 4, inertia 1913013248.0\n",
      "Iteration 5, inertia 1905143168.0\n",
      "Iteration 6, inertia 1899861504.0\n",
      "Iteration 7, inertia 1895667200.0\n",
      "Iteration 8, inertia 1892526848.0\n",
      "Iteration 9, inertia 1889799552.0\n",
      "Iteration 10, inertia 1887561728.0\n",
      "Iteration 11, inertia 1885724672.0\n",
      "Iteration 12, inertia 1884125312.0\n",
      "Iteration 13, inertia 1882686080.0\n",
      "Iteration 14, inertia 1881510016.0\n",
      "Iteration 15, inertia 1880498176.0\n",
      "Iteration 16, inertia 1879537152.0\n",
      "Iteration 17, inertia 1878720512.0\n",
      "Iteration 18, inertia 1878137472.0\n",
      "Iteration 19, inertia 1877684352.0\n",
      "Iteration 20, inertia 1877229056.0\n",
      "Iteration 21, inertia 1876778752.0\n",
      "Iteration 22, inertia 1876381184.0\n",
      "Iteration 23, inertia 1875997696.0\n",
      "Iteration 24, inertia 1875610880.0\n",
      "Iteration 25, inertia 1875280256.0\n",
      "Iteration 26, inertia 1875022080.0\n",
      "Iteration 27, inertia 1874848000.0\n",
      "Iteration 28, inertia 1874697472.0\n",
      "Iteration 29, inertia 1874517376.0\n",
      "Iteration 30, inertia 1874383104.0\n",
      "Iteration 31, inertia 1874276736.0\n",
      "Iteration 32, inertia 1874193792.0\n",
      "Iteration 33, inertia 1874124032.0\n",
      "Iteration 34, inertia 1874061696.0\n",
      "Iteration 35, inertia 1874011648.0\n",
      "Iteration 36, inertia 1873963776.0\n",
      "Iteration 37, inertia 1873924352.0\n",
      "Iteration 38, inertia 1873882368.0\n",
      "Iteration 39, inertia 1873847296.0\n",
      "Iteration 40, inertia 1873800192.0\n",
      "Iteration 41, inertia 1873738368.0\n",
      "Iteration 42, inertia 1873696384.0\n",
      "Iteration 43, inertia 1873635968.0\n",
      "Iteration 44, inertia 1873579776.0\n",
      "Iteration 45, inertia 1873525376.0\n",
      "Iteration 46, inertia 1873469696.0\n",
      "Iteration 47, inertia 1873393920.0\n",
      "Iteration 48, inertia 1873325952.0\n",
      "Iteration 49, inertia 1873264640.0\n",
      "Iteration 50, inertia 1873210112.0\n",
      "Iteration 51, inertia 1873151616.0\n",
      "Iteration 52, inertia 1873094912.0\n",
      "Iteration 53, inertia 1873032704.0\n",
      "Iteration 54, inertia 1872960000.0\n",
      "Iteration 55, inertia 1872910976.0\n",
      "Iteration 56, inertia 1872882560.0\n",
      "Iteration 57, inertia 1872861696.0\n",
      "Iteration 58, inertia 1872839936.0\n",
      "Iteration 59, inertia 1872820992.0\n",
      "Iteration 60, inertia 1872803968.0\n",
      "Iteration 61, inertia 1872789760.0\n",
      "Iteration 62, inertia 1872781184.0\n",
      "Iteration 63, inertia 1872770432.0\n",
      "Iteration 64, inertia 1872757760.0\n",
      "Iteration 65, inertia 1872747136.0\n",
      "Iteration 66, inertia 1872736512.0\n",
      "Iteration 67, inertia 1872728704.0\n",
      "Iteration 68, inertia 1872722816.0\n",
      "Iteration 69, inertia 1872714496.0\n",
      "Iteration 70, inertia 1872705792.0\n",
      "Iteration 71, inertia 1872697728.0\n",
      "Iteration 72, inertia 1872686464.0\n",
      "Iteration 73, inertia 1872678400.0\n",
      "Iteration 74, inertia 1872672128.0\n",
      "Iteration 75, inertia 1872667008.0\n",
      "Iteration 76, inertia 1872662400.0\n",
      "Iteration 77, inertia 1872659584.0\n",
      "Iteration 78, inertia 1872652800.0\n",
      "Iteration 79, inertia 1872648064.0\n",
      "Iteration 80, inertia 1872642816.0\n",
      "Iteration 81, inertia 1872636672.0\n",
      "Iteration 82, inertia 1872627968.0\n",
      "Iteration 83, inertia 1872620800.0\n",
      "Iteration 84, inertia 1872613888.0\n",
      "Iteration 85, inertia 1872607488.0\n",
      "Iteration 86, inertia 1872598144.0\n",
      "Iteration 87, inertia 1872591232.0\n",
      "Iteration 88, inertia 1872584960.0\n",
      "Iteration 89, inertia 1872580608.0\n",
      "Iteration 90, inertia 1872575744.0\n",
      "Iteration 91, inertia 1872569856.0\n",
      "Iteration 92, inertia 1872566528.0\n",
      "Iteration 93, inertia 1872562176.0\n",
      "Iteration 94, inertia 1872561024.0\n",
      "Iteration 95, inertia 1872560640.0\n",
      "Iteration 96, inertia 1872557824.0\n",
      "Iteration 97, inertia 1872556416.0\n",
      "Iteration 98, inertia 1872556160.0\n",
      "Iteration 99, inertia 1872555776.0\n",
      "Iteration 100, inertia 1872555904.0\n",
      "Iteration 101, inertia 1872554752.0\n",
      "Iteration 102, inertia 1872553856.0\n",
      "Iteration 103, inertia 1872550784.0\n",
      "Iteration 104, inertia 1872547840.0\n",
      "Iteration 105, inertia 1872545280.0\n",
      "Iteration 106, inertia 1872543104.0\n",
      "Iteration 107, inertia 1872542464.0\n",
      "Iteration 108, inertia 1872541952.0\n",
      "Iteration 109, inertia 1872540928.0\n",
      "Iteration 110, inertia 1872540928.0\n",
      "Iteration 111, inertia 1872540672.0\n",
      "Iteration 112, inertia 1872540544.0\n",
      "Iteration 113, inertia 1872541056.0\n",
      "Iteration 114, inertia 1872540672.0\n",
      "Iteration 115, inertia 1872540160.0\n",
      "Iteration 116, inertia 1872539648.0\n",
      "Iteration 117, inertia 1872537728.0\n",
      "Iteration 118, inertia 1872535168.0\n",
      "Iteration 119, inertia 1872534912.0\n",
      "Iteration 120, inertia 1872533760.0\n",
      "Iteration 121, inertia 1872533888.0\n",
      "Iteration 122, inertia 1872532864.0\n",
      "Iteration 123, inertia 1872531584.0\n",
      "Iteration 124, inertia 1872531584.0\n",
      "Iteration 125, inertia 1872531840.0\n",
      "Iteration 126, inertia 1872530688.0\n",
      "Iteration 127, inertia 1872530688.0\n",
      "Converged at iteration 127: center shift 0.08548194169998169 within tolerance 0.08778471679687501.\n",
      "Initialization complete\n",
      "Iteration 0, inertia 2615446528.0\n",
      "Iteration 1, inertia 1988617856.0\n",
      "Iteration 2, inertia 1941137664.0\n",
      "Iteration 3, inertia 1922623616.0\n",
      "Iteration 4, inertia 1911606528.0\n",
      "Iteration 5, inertia 1904213120.0\n",
      "Iteration 6, inertia 1898702976.0\n",
      "Iteration 7, inertia 1894187904.0\n",
      "Iteration 8, inertia 1890586368.0\n",
      "Iteration 9, inertia 1887758208.0\n",
      "Iteration 10, inertia 1885638400.0\n",
      "Iteration 11, inertia 1883714432.0\n",
      "Iteration 12, inertia 1881838464.0\n",
      "Iteration 13, inertia 1880188928.0\n",
      "Iteration 14, inertia 1878698112.0\n",
      "Iteration 15, inertia 1877536256.0\n",
      "Iteration 16, inertia 1876654208.0\n",
      "Iteration 17, inertia 1875926144.0\n",
      "Iteration 18, inertia 1875331584.0\n",
      "Iteration 19, inertia 1874837632.0\n",
      "Iteration 20, inertia 1874366720.0\n",
      "Iteration 21, inertia 1873979904.0\n",
      "Iteration 22, inertia 1873632000.0\n",
      "Iteration 23, inertia 1873335808.0\n",
      "Iteration 24, inertia 1873023360.0\n",
      "Iteration 25, inertia 1872772992.0\n",
      "Iteration 26, inertia 1872575872.0\n",
      "Iteration 27, inertia 1872401664.0\n",
      "Iteration 28, inertia 1872228352.0\n",
      "Iteration 29, inertia 1871968384.0\n",
      "Iteration 30, inertia 1871697152.0\n",
      "Iteration 31, inertia 1871504128.0\n",
      "Iteration 32, inertia 1871326976.0\n",
      "Iteration 33, inertia 1871182080.0\n",
      "Iteration 34, inertia 1871056256.0\n",
      "Iteration 35, inertia 1870963072.0\n",
      "Iteration 36, inertia 1870875904.0\n",
      "Iteration 37, inertia 1870792320.0\n",
      "Iteration 38, inertia 1870720896.0\n",
      "Iteration 39, inertia 1870653440.0\n",
      "Iteration 40, inertia 1870593536.0\n",
      "Iteration 41, inertia 1870556928.0\n",
      "Iteration 42, inertia 1870514304.0\n",
      "Iteration 43, inertia 1870461056.0\n",
      "Iteration 44, inertia 1870386560.0\n",
      "Iteration 45, inertia 1870315008.0\n",
      "Iteration 46, inertia 1870275328.0\n",
      "Iteration 47, inertia 1870250752.0\n",
      "Iteration 48, inertia 1870222592.0\n",
      "Iteration 49, inertia 1870190336.0\n",
      "Iteration 50, inertia 1870160640.0\n",
      "Iteration 51, inertia 1870143488.0\n",
      "Iteration 52, inertia 1870122240.0\n",
      "Iteration 53, inertia 1870105856.0\n",
      "Iteration 54, inertia 1870092288.0\n",
      "Iteration 55, inertia 1870074880.0\n",
      "Iteration 56, inertia 1870055040.0\n",
      "Iteration 57, inertia 1870034816.0\n",
      "Iteration 58, inertia 1870018304.0\n",
      "Iteration 59, inertia 1869997568.0\n",
      "Iteration 60, inertia 1869971840.0\n",
      "Iteration 61, inertia 1869947904.0\n",
      "Iteration 62, inertia 1869924096.0\n",
      "Iteration 63, inertia 1869897472.0\n",
      "Iteration 64, inertia 1869864448.0\n",
      "Iteration 65, inertia 1869848576.0\n",
      "Iteration 66, inertia 1869839744.0\n",
      "Iteration 67, inertia 1869831808.0\n",
      "Iteration 68, inertia 1869821952.0\n",
      "Iteration 69, inertia 1869808768.0\n",
      "Iteration 70, inertia 1869795968.0\n",
      "Iteration 71, inertia 1869788800.0\n",
      "Iteration 72, inertia 1869779968.0\n",
      "Iteration 73, inertia 1869774336.0\n",
      "Iteration 74, inertia 1869768448.0\n",
      "Iteration 75, inertia 1869764608.0\n",
      "Iteration 76, inertia 1869761536.0\n",
      "Iteration 77, inertia 1869757568.0\n",
      "Iteration 78, inertia 1869754496.0\n",
      "Iteration 79, inertia 1869748992.0\n",
      "Iteration 80, inertia 1869743360.0\n",
      "Iteration 81, inertia 1869737600.0\n",
      "Iteration 82, inertia 1869733376.0\n",
      "Iteration 83, inertia 1869729792.0\n",
      "Iteration 84, inertia 1869725696.0\n",
      "Iteration 85, inertia 1869722624.0\n",
      "Iteration 86, inertia 1869718400.0\n",
      "Iteration 87, inertia 1869716224.0\n",
      "Iteration 88, inertia 1869714560.0\n",
      "Iteration 89, inertia 1869711488.0\n",
      "Iteration 90, inertia 1869710592.0\n",
      "Iteration 91, inertia 1869708160.0\n",
      "Iteration 92, inertia 1869707136.0\n",
      "Iteration 93, inertia 1869706240.0\n",
      "Iteration 94, inertia 1869705728.0\n",
      "Iteration 95, inertia 1869704704.0\n",
      "Iteration 96, inertia 1869703168.0\n",
      "Iteration 97, inertia 1869702144.0\n",
      "Iteration 98, inertia 1869702528.0\n",
      "Iteration 99, inertia 1869702656.0\n",
      "Iteration 100, inertia 1869701760.0\n",
      "Iteration 101, inertia 1869701376.0\n",
      "Iteration 102, inertia 1869701120.0\n",
      "Converged at iteration 102: center shift 0.06527607887983322 within tolerance 0.08778471679687501.\n",
      "Initialization complete\n",
      "Iteration 0, inertia 2602005504.0\n",
      "Iteration 1, inertia 1980968064.0\n",
      "Iteration 2, inertia 1935229184.0\n",
      "Iteration 3, inertia 1916083456.0\n",
      "Iteration 4, inertia 1905267200.0\n",
      "Iteration 5, inertia 1898572544.0\n",
      "Iteration 6, inertia 1894125312.0\n",
      "Iteration 7, inertia 1890572160.0\n",
      "Iteration 8, inertia 1887608832.0\n",
      "Iteration 9, inertia 1885111808.0\n",
      "Iteration 10, inertia 1883175296.0\n",
      "Iteration 11, inertia 1881605888.0\n",
      "Iteration 12, inertia 1880434176.0\n",
      "Iteration 13, inertia 1879561216.0\n",
      "Iteration 14, inertia 1878796288.0\n",
      "Iteration 15, inertia 1878158976.0\n",
      "Iteration 16, inertia 1877638784.0\n",
      "Iteration 17, inertia 1877217280.0\n",
      "Iteration 18, inertia 1876828672.0\n",
      "Iteration 19, inertia 1876454272.0\n",
      "Iteration 20, inertia 1876169728.0\n",
      "Iteration 21, inertia 1875935744.0\n",
      "Iteration 22, inertia 1875711744.0\n",
      "Iteration 23, inertia 1875487360.0\n",
      "Iteration 24, inertia 1875267584.0\n",
      "Iteration 25, inertia 1875090048.0\n",
      "Iteration 26, inertia 1874897024.0\n",
      "Iteration 27, inertia 1874726912.0\n",
      "Iteration 28, inertia 1874562432.0\n",
      "Iteration 29, inertia 1874395648.0\n",
      "Iteration 30, inertia 1874260224.0\n",
      "Iteration 31, inertia 1874129536.0\n",
      "Iteration 32, inertia 1874000512.0\n",
      "Iteration 33, inertia 1873868288.0\n",
      "Iteration 34, inertia 1873731840.0\n",
      "Iteration 35, inertia 1873581056.0\n",
      "Iteration 36, inertia 1873438080.0\n",
      "Iteration 37, inertia 1873285632.0\n",
      "Iteration 38, inertia 1873139200.0\n",
      "Iteration 39, inertia 1873012096.0\n",
      "Iteration 40, inertia 1872889472.0\n",
      "Iteration 41, inertia 1872785024.0\n",
      "Iteration 42, inertia 1872700544.0\n",
      "Iteration 43, inertia 1872648832.0\n",
      "Iteration 44, inertia 1872604544.0\n",
      "Iteration 45, inertia 1872560256.0\n",
      "Iteration 46, inertia 1872512000.0\n",
      "Iteration 47, inertia 1872459904.0\n",
      "Iteration 48, inertia 1872416896.0\n",
      "Iteration 49, inertia 1872378368.0\n",
      "Iteration 50, inertia 1872346368.0\n",
      "Iteration 51, inertia 1872314112.0\n",
      "Iteration 52, inertia 1872274688.0\n",
      "Iteration 53, inertia 1872233088.0\n",
      "Iteration 54, inertia 1872185216.0\n",
      "Iteration 55, inertia 1872143488.0\n",
      "Iteration 56, inertia 1872105216.0\n",
      "Iteration 57, inertia 1872068224.0\n",
      "Iteration 58, inertia 1872030720.0\n",
      "Iteration 59, inertia 1871989504.0\n",
      "Iteration 60, inertia 1871939840.0\n",
      "Iteration 61, inertia 1871883136.0\n",
      "Iteration 62, inertia 1871843712.0\n",
      "Iteration 63, inertia 1871799680.0\n",
      "Iteration 64, inertia 1871752320.0\n",
      "Iteration 65, inertia 1871713280.0\n",
      "Iteration 66, inertia 1871667456.0\n",
      "Iteration 67, inertia 1871638912.0\n",
      "Iteration 68, inertia 1871613312.0\n",
      "Iteration 69, inertia 1871586688.0\n",
      "Iteration 70, inertia 1871565056.0\n",
      "Iteration 71, inertia 1871550080.0\n",
      "Iteration 72, inertia 1871539072.0\n",
      "Iteration 73, inertia 1871522048.0\n",
      "Iteration 74, inertia 1871502848.0\n",
      "Iteration 75, inertia 1871479040.0\n",
      "Iteration 76, inertia 1871464448.0\n",
      "Iteration 77, inertia 1871449216.0\n",
      "Iteration 78, inertia 1871440512.0\n",
      "Iteration 79, inertia 1871427072.0\n",
      "Iteration 80, inertia 1871415552.0\n",
      "Iteration 81, inertia 1871398912.0\n",
      "Iteration 82, inertia 1871384320.0\n",
      "Iteration 83, inertia 1871363200.0\n",
      "Iteration 84, inertia 1871343360.0\n",
      "Iteration 85, inertia 1871332352.0\n",
      "Iteration 86, inertia 1871313792.0\n",
      "Iteration 87, inertia 1871294720.0\n",
      "Iteration 88, inertia 1871271296.0\n",
      "Iteration 89, inertia 1871243776.0\n",
      "Iteration 90, inertia 1871196544.0\n",
      "Iteration 91, inertia 1871161856.0\n",
      "Iteration 92, inertia 1871135232.0\n",
      "Iteration 93, inertia 1871123456.0\n",
      "Iteration 94, inertia 1871115008.0\n",
      "Iteration 95, inertia 1871108736.0\n",
      "Iteration 96, inertia 1871100416.0\n",
      "Iteration 97, inertia 1871086464.0\n",
      "Iteration 98, inertia 1871075840.0\n",
      "Iteration 99, inertia 1871067008.0\n",
      "Iteration 100, inertia 1871057024.0\n",
      "Iteration 101, inertia 1871046528.0\n",
      "Iteration 102, inertia 1871039616.0\n",
      "Iteration 103, inertia 1871033728.0\n",
      "Iteration 104, inertia 1871026432.0\n",
      "Iteration 105, inertia 1871019392.0\n",
      "Iteration 106, inertia 1871014656.0\n",
      "Iteration 107, inertia 1871007744.0\n",
      "Iteration 108, inertia 1871001984.0\n",
      "Iteration 109, inertia 1870998528.0\n",
      "Iteration 110, inertia 1870994176.0\n",
      "Iteration 111, inertia 1870989184.0\n",
      "Iteration 112, inertia 1870985216.0\n",
      "Iteration 113, inertia 1870980736.0\n",
      "Iteration 114, inertia 1870975232.0\n",
      "Iteration 115, inertia 1870970240.0\n",
      "Iteration 116, inertia 1870965120.0\n",
      "Iteration 117, inertia 1870959872.0\n",
      "Iteration 118, inertia 1870956416.0\n",
      "Iteration 119, inertia 1870952320.0\n",
      "Iteration 120, inertia 1870949120.0\n",
      "Iteration 121, inertia 1870946560.0\n",
      "Iteration 122, inertia 1870945152.0\n",
      "Iteration 123, inertia 1870945152.0\n",
      "Iteration 124, inertia 1870945024.0\n",
      "Iteration 125, inertia 1870944640.0\n",
      "Iteration 126, inertia 1870944128.0\n",
      "Iteration 127, inertia 1870943872.0\n",
      "Iteration 128, inertia 1870943360.0\n",
      "Iteration 129, inertia 1870943104.0\n",
      "Iteration 130, inertia 1870942464.0\n",
      "Iteration 131, inertia 1870941824.0\n",
      "Iteration 132, inertia 1870941184.0\n",
      "Iteration 133, inertia 1870939904.0\n",
      "Iteration 134, inertia 1870939776.0\n",
      "Iteration 135, inertia 1870939776.0\n",
      "Converged at iteration 135: center shift 0.07539540529251099 within tolerance 0.08778471679687501.\n",
      "Initialization complete\n",
      "Iteration 0, inertia 2622363136.0\n",
      "Iteration 1, inertia 1990666112.0\n",
      "Iteration 2, inertia 1942195584.0\n",
      "Iteration 3, inertia 1921014656.0\n",
      "Iteration 4, inertia 1909589504.0\n",
      "Iteration 5, inertia 1902284928.0\n",
      "Iteration 6, inertia 1896632064.0\n",
      "Iteration 7, inertia 1892357888.0\n",
      "Iteration 8, inertia 1889502464.0\n",
      "Iteration 9, inertia 1887256064.0\n",
      "Iteration 10, inertia 1885357312.0\n",
      "Iteration 11, inertia 1883726208.0\n",
      "Iteration 12, inertia 1882380544.0\n",
      "Iteration 13, inertia 1881141248.0\n",
      "Iteration 14, inertia 1880010240.0\n",
      "Iteration 15, inertia 1878873600.0\n",
      "Iteration 16, inertia 1877698560.0\n",
      "Iteration 17, inertia 1876643712.0\n",
      "Iteration 18, inertia 1875872768.0\n",
      "Iteration 19, inertia 1875276800.0\n",
      "Iteration 20, inertia 1874790144.0\n",
      "Iteration 21, inertia 1874407296.0\n",
      "Iteration 22, inertia 1874028544.0\n",
      "Iteration 23, inertia 1873694592.0\n",
      "Iteration 24, inertia 1873411456.0\n",
      "Iteration 25, inertia 1873164800.0\n",
      "Iteration 26, inertia 1872966784.0\n",
      "Iteration 27, inertia 1872800256.0\n",
      "Iteration 28, inertia 1872635008.0\n",
      "Iteration 29, inertia 1872470272.0\n",
      "Iteration 30, inertia 1872336640.0\n",
      "Iteration 31, inertia 1872212352.0\n",
      "Iteration 32, inertia 1872094080.0\n",
      "Iteration 33, inertia 1871985536.0\n",
      "Iteration 34, inertia 1871884288.0\n",
      "Iteration 35, inertia 1871763968.0\n",
      "Iteration 36, inertia 1871632384.0\n",
      "Iteration 37, inertia 1871507456.0\n",
      "Iteration 38, inertia 1871376000.0\n",
      "Iteration 39, inertia 1871225728.0\n",
      "Iteration 40, inertia 1871102208.0\n",
      "Iteration 41, inertia 1870996096.0\n",
      "Iteration 42, inertia 1870908160.0\n",
      "Iteration 43, inertia 1870846464.0\n",
      "Iteration 44, inertia 1870772352.0\n",
      "Iteration 45, inertia 1870719104.0\n",
      "Iteration 46, inertia 1870682624.0\n",
      "Iteration 47, inertia 1870646016.0\n",
      "Iteration 48, inertia 1870609792.0\n",
      "Iteration 49, inertia 1870556544.0\n",
      "Iteration 50, inertia 1870490368.0\n",
      "Iteration 51, inertia 1870394240.0\n",
      "Iteration 52, inertia 1870293504.0\n",
      "Iteration 53, inertia 1870161024.0\n",
      "Iteration 54, inertia 1870033536.0\n",
      "Iteration 55, inertia 1869868160.0\n",
      "Iteration 56, inertia 1869638400.0\n",
      "Iteration 57, inertia 1869508992.0\n",
      "Iteration 58, inertia 1869436032.0\n",
      "Iteration 59, inertia 1869362944.0\n",
      "Iteration 60, inertia 1869297152.0\n",
      "Iteration 61, inertia 1869256320.0\n",
      "Iteration 62, inertia 1869214464.0\n",
      "Iteration 63, inertia 1869138816.0\n",
      "Iteration 64, inertia 1869054080.0\n",
      "Iteration 65, inertia 1868985472.0\n",
      "Iteration 66, inertia 1868931712.0\n",
      "Iteration 67, inertia 1868892288.0\n",
      "Iteration 68, inertia 1868851200.0\n",
      "Iteration 69, inertia 1868821888.0\n",
      "Iteration 70, inertia 1868785792.0\n",
      "Iteration 71, inertia 1868753280.0\n",
      "Iteration 72, inertia 1868723456.0\n",
      "Iteration 73, inertia 1868688640.0\n",
      "Iteration 74, inertia 1868638720.0\n",
      "Iteration 75, inertia 1868575488.0\n",
      "Iteration 76, inertia 1868528128.0\n",
      "Iteration 77, inertia 1868486400.0\n",
      "Iteration 78, inertia 1868459520.0\n",
      "Iteration 79, inertia 1868438016.0\n",
      "Iteration 80, inertia 1868414720.0\n",
      "Iteration 81, inertia 1868398976.0\n",
      "Iteration 82, inertia 1868373632.0\n",
      "Iteration 83, inertia 1868349824.0\n",
      "Iteration 84, inertia 1868326528.0\n",
      "Iteration 85, inertia 1868293632.0\n",
      "Iteration 86, inertia 1868255616.0\n",
      "Iteration 87, inertia 1868217344.0\n",
      "Iteration 88, inertia 1868185856.0\n",
      "Iteration 89, inertia 1868137856.0\n",
      "Iteration 90, inertia 1868099968.0\n",
      "Iteration 91, inertia 1868080384.0\n",
      "Iteration 92, inertia 1868066432.0\n",
      "Iteration 93, inertia 1868051072.0\n",
      "Iteration 94, inertia 1868037888.0\n",
      "Iteration 95, inertia 1868023296.0\n",
      "Iteration 96, inertia 1868008192.0\n",
      "Iteration 97, inertia 1867995776.0\n",
      "Iteration 98, inertia 1867990656.0\n",
      "Iteration 99, inertia 1867985280.0\n",
      "Iteration 100, inertia 1867982080.0\n",
      "Iteration 101, inertia 1867977856.0\n",
      "Iteration 102, inertia 1867973376.0\n",
      "Iteration 103, inertia 1867971200.0\n",
      "Iteration 104, inertia 1867968896.0\n",
      "Iteration 105, inertia 1867965568.0\n",
      "Iteration 106, inertia 1867961856.0\n",
      "Iteration 107, inertia 1867959808.0\n",
      "Iteration 108, inertia 1867956736.0\n",
      "Iteration 109, inertia 1867954432.0\n",
      "Iteration 110, inertia 1867952896.0\n",
      "Iteration 111, inertia 1867951872.0\n",
      "Iteration 112, inertia 1867948416.0\n",
      "Iteration 113, inertia 1867948288.0\n",
      "Iteration 114, inertia 1867946368.0\n",
      "Iteration 115, inertia 1867945088.0\n",
      "Iteration 116, inertia 1867945344.0\n",
      "Iteration 117, inertia 1867943680.0\n",
      "Iteration 118, inertia 1867941120.0\n",
      "Iteration 119, inertia 1867940352.0\n",
      "Iteration 120, inertia 1867939200.0\n",
      "Iteration 121, inertia 1867937664.0\n",
      "Iteration 122, inertia 1867937792.0\n",
      "Iteration 123, inertia 1867937792.0\n",
      "Iteration 124, inertia 1867936000.0\n",
      "Iteration 125, inertia 1867936000.0\n",
      "Iteration 126, inertia 1867935744.0\n",
      "Converged at iteration 126: center shift 0.08683967590332031 within tolerance 0.08778471679687501.\n",
      "Initialization complete\n",
      "Iteration 0, inertia 2607253504.0\n",
      "Iteration 1, inertia 1985853824.0\n",
      "Iteration 2, inertia 1937399808.0\n",
      "Iteration 3, inertia 1917111168.0\n",
      "Iteration 4, inertia 1905339648.0\n",
      "Iteration 5, inertia 1897726976.0\n",
      "Iteration 6, inertia 1892304384.0\n",
      "Iteration 7, inertia 1888577024.0\n",
      "Iteration 8, inertia 1885946880.0\n",
      "Iteration 9, inertia 1883974272.0\n",
      "Iteration 10, inertia 1882256640.0\n",
      "Iteration 11, inertia 1880970240.0\n",
      "Iteration 12, inertia 1879696896.0\n",
      "Iteration 13, inertia 1878558592.0\n",
      "Iteration 14, inertia 1877645952.0\n",
      "Iteration 15, inertia 1876826112.0\n",
      "Iteration 16, inertia 1876071808.0\n",
      "Iteration 17, inertia 1875281664.0\n",
      "Iteration 18, inertia 1874570624.0\n",
      "Iteration 19, inertia 1873951104.0\n",
      "Iteration 20, inertia 1873363584.0\n",
      "Iteration 21, inertia 1872852992.0\n",
      "Iteration 22, inertia 1872291712.0\n",
      "Iteration 23, inertia 1871592960.0\n",
      "Iteration 24, inertia 1870916992.0\n",
      "Iteration 25, inertia 1870471424.0\n",
      "Iteration 26, inertia 1869998464.0\n",
      "Iteration 27, inertia 1869593984.0\n",
      "Iteration 28, inertia 1869251456.0\n",
      "Iteration 29, inertia 1869000704.0\n",
      "Iteration 30, inertia 1868732416.0\n",
      "Iteration 31, inertia 1868472320.0\n",
      "Iteration 32, inertia 1868231552.0\n",
      "Iteration 33, inertia 1868043136.0\n",
      "Iteration 34, inertia 1867883136.0\n",
      "Iteration 35, inertia 1867712384.0\n",
      "Iteration 36, inertia 1867546624.0\n",
      "Iteration 37, inertia 1867434752.0\n",
      "Iteration 38, inertia 1867357056.0\n",
      "Iteration 39, inertia 1867291136.0\n",
      "Iteration 40, inertia 1867243776.0\n",
      "Iteration 41, inertia 1867203712.0\n",
      "Iteration 42, inertia 1867166080.0\n",
      "Iteration 43, inertia 1867133568.0\n",
      "Iteration 44, inertia 1867105280.0\n",
      "Iteration 45, inertia 1867078528.0\n",
      "Iteration 46, inertia 1867056128.0\n",
      "Iteration 47, inertia 1867030528.0\n",
      "Iteration 48, inertia 1867009152.0\n",
      "Iteration 49, inertia 1866986496.0\n",
      "Iteration 50, inertia 1866965376.0\n",
      "Iteration 51, inertia 1866940544.0\n",
      "Iteration 52, inertia 1866916352.0\n",
      "Iteration 53, inertia 1866887296.0\n",
      "Iteration 54, inertia 1866852608.0\n",
      "Iteration 55, inertia 1866815872.0\n",
      "Iteration 56, inertia 1866782848.0\n",
      "Iteration 57, inertia 1866756736.0\n",
      "Iteration 58, inertia 1866734080.0\n",
      "Iteration 59, inertia 1866717824.0\n",
      "Iteration 60, inertia 1866708096.0\n",
      "Iteration 61, inertia 1866696960.0\n",
      "Iteration 62, inertia 1866688640.0\n",
      "Iteration 63, inertia 1866680960.0\n",
      "Iteration 64, inertia 1866672896.0\n",
      "Iteration 65, inertia 1866667648.0\n",
      "Iteration 66, inertia 1866661888.0\n",
      "Iteration 67, inertia 1866656128.0\n",
      "Iteration 68, inertia 1866650240.0\n",
      "Iteration 69, inertia 1866643968.0\n",
      "Iteration 70, inertia 1866638848.0\n",
      "Iteration 71, inertia 1866634240.0\n",
      "Iteration 72, inertia 1866626944.0\n",
      "Iteration 73, inertia 1866620160.0\n",
      "Iteration 74, inertia 1866614144.0\n",
      "Iteration 75, inertia 1866608256.0\n",
      "Iteration 76, inertia 1866599808.0\n",
      "Iteration 77, inertia 1866592256.0\n",
      "Iteration 78, inertia 1866584576.0\n",
      "Iteration 79, inertia 1866579456.0\n",
      "Iteration 80, inertia 1866569856.0\n",
      "Iteration 81, inertia 1866562304.0\n",
      "Iteration 82, inertia 1866553984.0\n",
      "Iteration 83, inertia 1866547968.0\n",
      "Iteration 84, inertia 1866540800.0\n",
      "Iteration 85, inertia 1866534144.0\n",
      "Iteration 86, inertia 1866528384.0\n",
      "Iteration 87, inertia 1866521088.0\n",
      "Iteration 88, inertia 1866516992.0\n",
      "Iteration 89, inertia 1866511872.0\n",
      "Iteration 90, inertia 1866508288.0\n",
      "Iteration 91, inertia 1866504320.0\n",
      "Iteration 92, inertia 1866500352.0\n",
      "Iteration 93, inertia 1866496000.0\n",
      "Iteration 94, inertia 1866493184.0\n",
      "Iteration 95, inertia 1866489856.0\n",
      "Iteration 96, inertia 1866488320.0\n",
      "Iteration 97, inertia 1866486656.0\n",
      "Iteration 98, inertia 1866484608.0\n",
      "Iteration 99, inertia 1866482944.0\n",
      "Iteration 100, inertia 1866481280.0\n",
      "Iteration 101, inertia 1866478976.0\n",
      "Iteration 102, inertia 1866477952.0\n",
      "Iteration 103, inertia 1866477696.0\n",
      "Iteration 104, inertia 1866476672.0\n",
      "Iteration 105, inertia 1866474112.0\n",
      "Iteration 106, inertia 1866472832.0\n",
      "Iteration 107, inertia 1866472832.0\n",
      "Iteration 108, inertia 1866472704.0\n",
      "Iteration 109, inertia 1866470784.0\n",
      "Iteration 110, inertia 1866470400.0\n",
      "Iteration 111, inertia 1866469760.0\n",
      "Iteration 112, inertia 1866468608.0\n",
      "Iteration 113, inertia 1866467584.0\n",
      "Iteration 114, inertia 1866467200.0\n",
      "Iteration 115, inertia 1866465536.0\n",
      "Iteration 116, inertia 1866464128.0\n",
      "Iteration 117, inertia 1866461184.0\n",
      "Iteration 118, inertia 1866459392.0\n",
      "Iteration 119, inertia 1866456064.0\n",
      "Iteration 120, inertia 1866453504.0\n",
      "Iteration 121, inertia 1866451072.0\n",
      "Iteration 122, inertia 1866448768.0\n",
      "Iteration 123, inertia 1866444928.0\n",
      "Iteration 124, inertia 1866441088.0\n",
      "Iteration 125, inertia 1866438016.0\n",
      "Iteration 126, inertia 1866436096.0\n",
      "Iteration 127, inertia 1866433664.0\n",
      "Iteration 128, inertia 1866429440.0\n",
      "Iteration 129, inertia 1866427136.0\n",
      "Iteration 130, inertia 1866424192.0\n",
      "Iteration 131, inertia 1866421504.0\n",
      "Iteration 132, inertia 1866419968.0\n",
      "Iteration 133, inertia 1866419072.0\n",
      "Iteration 134, inertia 1866415744.0\n",
      "Iteration 135, inertia 1866415104.0\n",
      "Iteration 136, inertia 1866412032.0\n",
      "Iteration 137, inertia 1866408704.0\n",
      "Iteration 138, inertia 1866408192.0\n",
      "Iteration 139, inertia 1866405504.0\n",
      "Iteration 140, inertia 1866403968.0\n",
      "Iteration 141, inertia 1866400768.0\n",
      "Iteration 142, inertia 1866397696.0\n",
      "Iteration 143, inertia 1866394496.0\n",
      "Iteration 144, inertia 1866390144.0\n",
      "Iteration 145, inertia 1866384256.0\n",
      "Iteration 146, inertia 1866377088.0\n",
      "Iteration 147, inertia 1866369152.0\n",
      "Iteration 148, inertia 1866362624.0\n",
      "Iteration 149, inertia 1866358400.0\n",
      "Iteration 150, inertia 1866355712.0\n",
      "Iteration 151, inertia 1866352640.0\n",
      "Iteration 152, inertia 1866350464.0\n",
      "Iteration 153, inertia 1866347136.0\n",
      "Iteration 154, inertia 1866345088.0\n",
      "Iteration 155, inertia 1866343040.0\n",
      "Iteration 156, inertia 1866340608.0\n",
      "Iteration 157, inertia 1866338688.0\n",
      "Iteration 158, inertia 1866337152.0\n",
      "Iteration 159, inertia 1866335360.0\n",
      "Iteration 160, inertia 1866333952.0\n",
      "Iteration 161, inertia 1866333312.0\n",
      "Iteration 162, inertia 1866332160.0\n",
      "Iteration 163, inertia 1866330752.0\n",
      "Iteration 164, inertia 1866330624.0\n",
      "Iteration 165, inertia 1866329344.0\n",
      "Iteration 166, inertia 1866328832.0\n",
      "Iteration 167, inertia 1866328320.0\n",
      "Iteration 168, inertia 1866327936.0\n",
      "Iteration 169, inertia 1866327936.0\n",
      "Iteration 170, inertia 1866327296.0\n",
      "Iteration 171, inertia 1866326912.0\n",
      "Iteration 172, inertia 1866327808.0\n",
      "Iteration 173, inertia 1866327552.0\n",
      "Iteration 174, inertia 1866326528.0\n",
      "Iteration 175, inertia 1866325632.0\n",
      "Iteration 176, inertia 1866325376.0\n",
      "Iteration 177, inertia 1866325120.0\n",
      "Iteration 178, inertia 1866324608.0\n",
      "Iteration 179, inertia 1866323840.0\n",
      "Iteration 180, inertia 1866323200.0\n",
      "Iteration 181, inertia 1866322944.0\n",
      "Iteration 182, inertia 1866321664.0\n",
      "Iteration 183, inertia 1866321152.0\n",
      "Iteration 184, inertia 1866320896.0\n",
      "Iteration 185, inertia 1866319360.0\n",
      "Iteration 186, inertia 1866320000.0\n",
      "Iteration 187, inertia 1866319872.0\n",
      "Iteration 188, inertia 1866318976.0\n",
      "Iteration 189, inertia 1866318976.0\n",
      "Iteration 190, inertia 1866319232.0\n",
      "Iteration 191, inertia 1866318592.0\n",
      "Iteration 192, inertia 1866318080.0\n",
      "Iteration 193, inertia 1866317568.0\n",
      "Iteration 194, inertia 1866317184.0\n",
      "Converged at iteration 194: center shift 0.07047075033187866 within tolerance 0.08778471679687501.\n"
     ]
    }
   ],
   "source": [
    "num_cluster = 750\n",
    "bow = kmeans_bow(all_descriptors, num_cluster)"
   ]
  },
  {
   "cell_type": "markdown",
   "id": "ee67ecc6",
   "metadata": {
    "id": "ee67ecc6"
   },
   "source": [
    "### Create Features From BOW"
   ]
  },
  {
   "cell_type": "code",
   "execution_count": 254,
   "id": "712e35c5",
   "metadata": {
    "executionInfo": {
     "elapsed": 11,
     "status": "ok",
     "timestamp": 1648213221969,
     "user": {
      "displayName": "Rama Tri Agung",
      "photoUrl": "https://lh3.googleusercontent.com/a-/AOh14GhO5MpcihqCafTv8Tf9MUwRyHV6tO2uPdiXma2V=s64",
      "userId": "07374601175312417068"
     },
     "user_tz": -420
    },
    "id": "712e35c5"
   },
   "outputs": [],
   "source": [
    "def create_feature_bow(image_descriptors, bow, num_cluster):\n",
    "    X_features = []\n",
    "\n",
    "    for i in range(len(image_descriptors)):\n",
    "        features = np.array([0] * num_cluster, dtype=float)\n",
    "\n",
    "        if image_descriptors[i] is not None:\n",
    "            distance = cdist(image_descriptors[i], bow)\n",
    "            argmin = np.argmin(distance, axis = 1)\n",
    "\n",
    "            for j in argmin:\n",
    "                features[j] += 1.0\n",
    "        X_features.append(features)\n",
    "\n",
    "    return np.array(X_features)"
   ]
  },
  {
   "cell_type": "code",
   "execution_count": 255,
   "id": "f0aecc4b",
   "metadata": {
    "colab": {
     "base_uri": "https://localhost:8080/",
     "height": 207
    },
    "executionInfo": {
     "elapsed": 545,
     "status": "error",
     "timestamp": 1648222301412,
     "user": {
      "displayName": "Rama Tri Agung",
      "photoUrl": "https://lh3.googleusercontent.com/a-/AOh14GhO5MpcihqCafTv8Tf9MUwRyHV6tO2uPdiXma2V=s64",
      "userId": "07374601175312417068"
     },
     "user_tz": -420
    },
    "id": "f0aecc4b",
    "outputId": "53813cfb-2ae4-4c56-e177-e4adaf78f722",
    "scrolled": true
   },
   "outputs": [
    {
     "name": "stdout",
     "output_type": "stream",
     "text": [
      "Feature X data dimension: (2940, 750)\n"
     ]
    }
   ],
   "source": [
    "X_feature = create_feature_bow(image_descriptors, bow, num_cluster)\n",
    "\n",
    "print(\"Feature X data dimension:\", X_feature.shape)"
   ]
  },
  {
   "cell_type": "markdown",
   "id": "57285a41",
   "metadata": {
    "id": "57285a41"
   },
   "source": [
    "# Classification With SIFT\n",
    "\n",
    "- input: `X_feature, y`\n",
    "- output: -"
   ]
  },
  {
   "cell_type": "code",
   "execution_count": 256,
   "id": "d405ef19",
   "metadata": {
    "executionInfo": {
     "elapsed": 26,
     "status": "ok",
     "timestamp": 1648213228936,
     "user": {
      "displayName": "Rama Tri Agung",
      "photoUrl": "https://lh3.googleusercontent.com/a-/AOh14GhO5MpcihqCafTv8Tf9MUwRyHV6tO2uPdiXma2V=s64",
      "userId": "07374601175312417068"
     },
     "user_tz": -420
    },
    "id": "d405ef19"
   },
   "outputs": [],
   "source": [
    "# normalization\n",
    "scaler = StandardScaler().fit(X_feature)\n",
    "X_scale = scaler.transform(X_feature)"
   ]
  },
  {
   "cell_type": "markdown",
   "id": "e4cfaa86",
   "metadata": {},
   "source": [
    "#### Save scaler"
   ]
  },
  {
   "cell_type": "code",
   "execution_count": 257,
   "id": "132fcf02",
   "metadata": {},
   "outputs": [],
   "source": [
    "# Just save normalization function for future used\n",
    "save_file_pickle(scaler, SCALER_WS_FILE_PICKLE)"
   ]
  },
  {
   "cell_type": "code",
   "execution_count": 258,
   "id": "d113c312",
   "metadata": {
    "colab": {
     "base_uri": "https://localhost:8080/"
    },
    "executionInfo": {
     "elapsed": 24,
     "status": "ok",
     "timestamp": 1648213228936,
     "user": {
      "displayName": "Rama Tri Agung",
      "photoUrl": "https://lh3.googleusercontent.com/a-/AOh14GhO5MpcihqCafTv8Tf9MUwRyHV6tO2uPdiXma2V=s64",
      "userId": "07374601175312417068"
     },
     "user_tz": -420
    },
    "id": "d113c312",
    "outputId": "22f4c248-9765-449e-807b-76f917198dfb"
   },
   "outputs": [
    {
     "name": "stdout",
     "output_type": "stream",
     "text": [
      "Size of training: 2499\n",
      "Size of testing: 441\n"
     ]
    }
   ],
   "source": [
    "# splitting data\n",
    "X_train, X_test, y_train, y_test = train_test_split(X_scale, y, test_size=0.15, random_state=42)\n",
    "\n",
    "print(\"Size of training:\", X_train.shape[0])\n",
    "print(\"Size of testing:\", X_test.shape[0])"
   ]
  },
  {
   "cell_type": "markdown",
   "id": "58716071",
   "metadata": {
    "id": "58716071"
   },
   "source": [
    "### SVM\n",
    "\n",
    "Using GridSearchCV for tuning parameter, with scenario:\n",
    "- 'C': \\[ 1, 3, 6, 10, 15 \\]\n",
    "- 'gamma': \\[ 'auto', 0.001, 0.0015, 0.0025, 0.003 \\]\n",
    "    - 'auto' = 1 / nfeatures"
   ]
  },
  {
   "cell_type": "markdown",
   "id": "d619d7b2",
   "metadata": {},
   "source": [
    "#### Load model"
   ]
  },
  {
   "cell_type": "code",
   "execution_count": 259,
   "id": "e4a3995a",
   "metadata": {},
   "outputs": [],
   "source": [
    "# Just load model without re-training if you want\n",
    "svm_ws = load_file_pickle(SVM_WS_FILE_PICKLE)"
   ]
  },
  {
   "cell_type": "code",
   "execution_count": 260,
   "id": "ba7680fc",
   "metadata": {
    "executionInfo": {
     "elapsed": 5,
     "status": "ok",
     "timestamp": 1648213230257,
     "user": {
      "displayName": "Rama Tri Agung",
      "photoUrl": "https://lh3.googleusercontent.com/a-/AOh14GhO5MpcihqCafTv8Tf9MUwRyHV6tO2uPdiXma2V=s64",
      "userId": "07374601175312417068"
     },
     "user_tz": -420
    },
    "id": "ba7680fc"
   },
   "outputs": [],
   "source": [
    "svm_ws_params = {\n",
    "    'C': [1, 3, 6, 10, 15],\n",
    "    'gamma': ['auto', 0.00090, 0.00095, 0.0018, 0.0023]\n",
    "}\n",
    "svm_ws = GridSearchCV(estimator=SVC(kernel='rbf', probability=True), param_grid=svm_ws_params, cv=5, verbose=3)"
   ]
  },
  {
   "cell_type": "code",
   "execution_count": 261,
   "id": "c80d381c",
   "metadata": {
    "colab": {
     "base_uri": "https://localhost:8080/"
    },
    "executionInfo": {
     "elapsed": 239531,
     "status": "ok",
     "timestamp": 1648213469785,
     "user": {
      "displayName": "Rama Tri Agung",
      "photoUrl": "https://lh3.googleusercontent.com/a-/AOh14GhO5MpcihqCafTv8Tf9MUwRyHV6tO2uPdiXma2V=s64",
      "userId": "07374601175312417068"
     },
     "user_tz": -420
    },
    "id": "c80d381c",
    "outputId": "2e18e718-49c6-420f-c71d-d24d55e0c11e",
    "scrolled": true
   },
   "outputs": [
    {
     "name": "stdout",
     "output_type": "stream",
     "text": [
      "Fitting 5 folds for each of 25 candidates, totalling 125 fits\n",
      "[CV 1/5] END ...................C=1, gamma=auto;, score=0.918 total time=   8.6s\n",
      "[CV 2/5] END ...................C=1, gamma=auto;, score=0.890 total time=   8.7s\n",
      "[CV 3/5] END ...................C=1, gamma=auto;, score=0.902 total time=   8.9s\n",
      "[CV 4/5] END ...................C=1, gamma=auto;, score=0.888 total time=   9.0s\n",
      "[CV 5/5] END ...................C=1, gamma=auto;, score=0.914 total time=   8.3s\n",
      "[CV 1/5] END .................C=1, gamma=0.0009;, score=0.910 total time=   7.9s\n",
      "[CV 2/5] END .................C=1, gamma=0.0009;, score=0.900 total time=   8.1s\n",
      "[CV 3/5] END .................C=1, gamma=0.0009;, score=0.920 total time=   8.1s\n",
      "[CV 4/5] END .................C=1, gamma=0.0009;, score=0.878 total time=   7.8s\n",
      "[CV 5/5] END .................C=1, gamma=0.0009;, score=0.924 total time=   8.0s\n",
      "[CV 1/5] END ................C=1, gamma=0.00095;, score=0.910 total time=   7.8s\n",
      "[CV 2/5] END ................C=1, gamma=0.00095;, score=0.900 total time=   7.8s\n",
      "[CV 3/5] END ................C=1, gamma=0.00095;, score=0.918 total time=   7.8s\n",
      "[CV 4/5] END ................C=1, gamma=0.00095;, score=0.884 total time=   8.1s\n",
      "[CV 5/5] END ................C=1, gamma=0.00095;, score=0.924 total time=   8.0s\n",
      "[CV 1/5] END .................C=1, gamma=0.0018;, score=0.886 total time=   8.7s\n",
      "[CV 2/5] END .................C=1, gamma=0.0018;, score=0.878 total time=   8.8s\n",
      "[CV 3/5] END .................C=1, gamma=0.0018;, score=0.898 total time=   8.7s\n",
      "[CV 4/5] END .................C=1, gamma=0.0018;, score=0.884 total time=   9.1s\n",
      "[CV 5/5] END .................C=1, gamma=0.0018;, score=0.906 total time=   9.1s\n",
      "[CV 1/5] END .................C=1, gamma=0.0023;, score=0.856 total time=   9.5s\n",
      "[CV 2/5] END .................C=1, gamma=0.0023;, score=0.844 total time=   9.3s\n",
      "[CV 3/5] END .................C=1, gamma=0.0023;, score=0.868 total time=  10.0s\n",
      "[CV 4/5] END .................C=1, gamma=0.0023;, score=0.858 total time=   9.2s\n",
      "[CV 5/5] END .................C=1, gamma=0.0023;, score=0.876 total time=   8.9s\n",
      "[CV 1/5] END ...................C=3, gamma=auto;, score=0.924 total time=   8.2s\n",
      "[CV 2/5] END ...................C=3, gamma=auto;, score=0.912 total time=   8.4s\n",
      "[CV 3/5] END ...................C=3, gamma=auto;, score=0.912 total time=   8.6s\n",
      "[CV 4/5] END ...................C=3, gamma=auto;, score=0.904 total time=   8.6s\n",
      "[CV 5/5] END ...................C=3, gamma=auto;, score=0.928 total time=   8.7s\n",
      "[CV 1/5] END .................C=3, gamma=0.0009;, score=0.926 total time=   8.2s\n",
      "[CV 2/5] END .................C=3, gamma=0.0009;, score=0.916 total time=   8.6s\n",
      "[CV 3/5] END .................C=3, gamma=0.0009;, score=0.930 total time=   8.4s\n",
      "[CV 4/5] END .................C=3, gamma=0.0009;, score=0.916 total time=   7.9s\n",
      "[CV 5/5] END .................C=3, gamma=0.0009;, score=0.930 total time=   7.7s\n",
      "[CV 1/5] END ................C=3, gamma=0.00095;, score=0.926 total time=   7.9s\n",
      "[CV 2/5] END ................C=3, gamma=0.00095;, score=0.914 total time=   8.1s\n",
      "[CV 3/5] END ................C=3, gamma=0.00095;, score=0.928 total time=   8.1s\n",
      "[CV 4/5] END ................C=3, gamma=0.00095;, score=0.914 total time=   8.0s\n",
      "[CV 5/5] END ................C=3, gamma=0.00095;, score=0.932 total time=   8.6s\n",
      "[CV 1/5] END .................C=3, gamma=0.0018;, score=0.900 total time=   9.1s\n",
      "[CV 2/5] END .................C=3, gamma=0.0018;, score=0.886 total time=   8.9s\n",
      "[CV 3/5] END .................C=3, gamma=0.0018;, score=0.904 total time=   8.4s\n",
      "[CV 4/5] END .................C=3, gamma=0.0018;, score=0.894 total time=   8.3s\n",
      "[CV 5/5] END .................C=3, gamma=0.0018;, score=0.918 total time=   8.3s\n",
      "[CV 1/5] END .................C=3, gamma=0.0023;, score=0.868 total time=   8.5s\n",
      "[CV 2/5] END .................C=3, gamma=0.0023;, score=0.862 total time=   8.6s\n",
      "[CV 3/5] END .................C=3, gamma=0.0023;, score=0.880 total time=   8.4s\n",
      "[CV 4/5] END .................C=3, gamma=0.0023;, score=0.866 total time=   8.6s\n",
      "[CV 5/5] END .................C=3, gamma=0.0023;, score=0.894 total time=   9.1s\n",
      "[CV 1/5] END ...................C=6, gamma=auto;, score=0.922 total time=   8.8s\n",
      "[CV 2/5] END ...................C=6, gamma=auto;, score=0.908 total time=   8.7s\n",
      "[CV 3/5] END ...................C=6, gamma=auto;, score=0.910 total time=   8.9s\n",
      "[CV 4/5] END ...................C=6, gamma=auto;, score=0.906 total time=   8.5s\n",
      "[CV 5/5] END ...................C=6, gamma=auto;, score=0.928 total time=   8.8s\n",
      "[CV 1/5] END .................C=6, gamma=0.0009;, score=0.922 total time=   8.4s\n",
      "[CV 2/5] END .................C=6, gamma=0.0009;, score=0.914 total time=   8.3s\n",
      "[CV 3/5] END .................C=6, gamma=0.0009;, score=0.932 total time=   8.2s\n",
      "[CV 4/5] END .................C=6, gamma=0.0009;, score=0.906 total time=   8.6s\n",
      "[CV 5/5] END .................C=6, gamma=0.0009;, score=0.934 total time=   8.4s\n",
      "[CV 1/5] END ................C=6, gamma=0.00095;, score=0.922 total time=   8.6s\n",
      "[CV 2/5] END ................C=6, gamma=0.00095;, score=0.914 total time=   8.2s\n",
      "[CV 3/5] END ................C=6, gamma=0.00095;, score=0.930 total time=   8.2s\n",
      "[CV 4/5] END ................C=6, gamma=0.00095;, score=0.906 total time=   8.4s\n",
      "[CV 5/5] END ................C=6, gamma=0.00095;, score=0.934 total time=   7.9s\n",
      "[CV 1/5] END .................C=6, gamma=0.0018;, score=0.898 total time=   8.8s\n",
      "[CV 2/5] END .................C=6, gamma=0.0018;, score=0.882 total time=   8.4s\n",
      "[CV 3/5] END .................C=6, gamma=0.0018;, score=0.904 total time=   8.5s\n",
      "[CV 4/5] END .................C=6, gamma=0.0018;, score=0.894 total time=   9.3s\n",
      "[CV 5/5] END .................C=6, gamma=0.0018;, score=0.922 total time=   9.3s\n",
      "[CV 1/5] END .................C=6, gamma=0.0023;, score=0.868 total time=   9.2s\n",
      "[CV 2/5] END .................C=6, gamma=0.0023;, score=0.860 total time=   9.0s\n",
      "[CV 3/5] END .................C=6, gamma=0.0023;, score=0.880 total time=   9.2s\n",
      "[CV 4/5] END .................C=6, gamma=0.0023;, score=0.866 total time=   9.3s\n",
      "[CV 5/5] END .................C=6, gamma=0.0023;, score=0.894 total time=   9.2s\n",
      "[CV 1/5] END ..................C=10, gamma=auto;, score=0.920 total time=   8.5s\n",
      "[CV 2/5] END ..................C=10, gamma=auto;, score=0.906 total time=   8.9s\n",
      "[CV 3/5] END ..................C=10, gamma=auto;, score=0.910 total time=   8.3s\n",
      "[CV 4/5] END ..................C=10, gamma=auto;, score=0.908 total time=   8.0s\n",
      "[CV 5/5] END ..................C=10, gamma=auto;, score=0.928 total time=   8.2s\n",
      "[CV 1/5] END ................C=10, gamma=0.0009;, score=0.918 total time=   8.1s\n",
      "[CV 2/5] END ................C=10, gamma=0.0009;, score=0.910 total time=   8.0s\n",
      "[CV 3/5] END ................C=10, gamma=0.0009;, score=0.932 total time=   8.3s\n",
      "[CV 4/5] END ................C=10, gamma=0.0009;, score=0.910 total time=   8.2s\n",
      "[CV 5/5] END ................C=10, gamma=0.0009;, score=0.932 total time=   8.2s\n",
      "[CV 1/5] END ...............C=10, gamma=0.00095;, score=0.918 total time=   7.9s\n",
      "[CV 2/5] END ...............C=10, gamma=0.00095;, score=0.912 total time=   8.0s\n",
      "[CV 3/5] END ...............C=10, gamma=0.00095;, score=0.930 total time=   7.9s\n",
      "[CV 4/5] END ...............C=10, gamma=0.00095;, score=0.910 total time=   7.9s\n",
      "[CV 5/5] END ...............C=10, gamma=0.00095;, score=0.932 total time=   8.5s\n",
      "[CV 1/5] END ................C=10, gamma=0.0018;, score=0.898 total time=   9.0s\n",
      "[CV 2/5] END ................C=10, gamma=0.0018;, score=0.882 total time=   8.7s\n",
      "[CV 3/5] END ................C=10, gamma=0.0018;, score=0.904 total time=   8.6s\n",
      "[CV 4/5] END ................C=10, gamma=0.0018;, score=0.894 total time=   8.4s\n",
      "[CV 5/5] END ................C=10, gamma=0.0018;, score=0.922 total time=   8.5s\n",
      "[CV 1/5] END ................C=10, gamma=0.0023;, score=0.868 total time=   8.8s\n",
      "[CV 2/5] END ................C=10, gamma=0.0023;, score=0.860 total time=   8.6s\n",
      "[CV 3/5] END ................C=10, gamma=0.0023;, score=0.880 total time=   8.8s\n",
      "[CV 4/5] END ................C=10, gamma=0.0023;, score=0.866 total time=   8.7s\n",
      "[CV 5/5] END ................C=10, gamma=0.0023;, score=0.894 total time=   8.6s\n",
      "[CV 1/5] END ..................C=15, gamma=auto;, score=0.920 total time=   8.3s\n",
      "[CV 2/5] END ..................C=15, gamma=auto;, score=0.906 total time=   8.1s\n",
      "[CV 3/5] END ..................C=15, gamma=auto;, score=0.910 total time=   8.2s\n",
      "[CV 4/5] END ..................C=15, gamma=auto;, score=0.908 total time=   8.1s\n",
      "[CV 5/5] END ..................C=15, gamma=auto;, score=0.928 total time=   8.3s\n",
      "[CV 1/5] END ................C=15, gamma=0.0009;, score=0.918 total time=   7.8s\n",
      "[CV 2/5] END ................C=15, gamma=0.0009;, score=0.910 total time=   8.2s\n",
      "[CV 3/5] END ................C=15, gamma=0.0009;, score=0.932 total time=   8.1s\n",
      "[CV 4/5] END ................C=15, gamma=0.0009;, score=0.910 total time=   8.2s\n",
      "[CV 5/5] END ................C=15, gamma=0.0009;, score=0.930 total time=   7.9s\n",
      "[CV 1/5] END ...............C=15, gamma=0.00095;, score=0.918 total time=   8.1s\n",
      "[CV 2/5] END ...............C=15, gamma=0.00095;, score=0.912 total time=   8.3s\n",
      "[CV 3/5] END ...............C=15, gamma=0.00095;, score=0.930 total time=   8.8s\n",
      "[CV 4/5] END ...............C=15, gamma=0.00095;, score=0.910 total time=   8.3s\n",
      "[CV 5/5] END ...............C=15, gamma=0.00095;, score=0.930 total time=   7.8s\n",
      "[CV 1/5] END ................C=15, gamma=0.0018;, score=0.898 total time=   8.3s\n",
      "[CV 2/5] END ................C=15, gamma=0.0018;, score=0.882 total time=   8.6s\n",
      "[CV 3/5] END ................C=15, gamma=0.0018;, score=0.904 total time=   8.7s\n",
      "[CV 4/5] END ................C=15, gamma=0.0018;, score=0.894 total time=   8.7s\n",
      "[CV 5/5] END ................C=15, gamma=0.0018;, score=0.922 total time=   8.8s\n",
      "[CV 1/5] END ................C=15, gamma=0.0023;, score=0.868 total time=   9.7s\n",
      "[CV 2/5] END ................C=15, gamma=0.0023;, score=0.860 total time=   9.4s\n",
      "[CV 3/5] END ................C=15, gamma=0.0023;, score=0.880 total time=   9.1s\n",
      "[CV 4/5] END ................C=15, gamma=0.0023;, score=0.866 total time=   9.1s\n",
      "[CV 5/5] END ................C=15, gamma=0.0023;, score=0.894 total time=   9.1s\n"
     ]
    },
    {
     "data": {
      "text/plain": [
       "GridSearchCV(cv=5, estimator=SVC(probability=True),\n",
       "             param_grid={'C': [1, 3, 6, 10, 15],\n",
       "                         'gamma': ['auto', 0.0009, 0.00095, 0.0018, 0.0023]},\n",
       "             verbose=3)"
      ]
     },
     "execution_count": 261,
     "metadata": {},
     "output_type": "execute_result"
    }
   ],
   "source": [
    "svm_ws.fit(X_train, y_train)"
   ]
  },
  {
   "cell_type": "code",
   "execution_count": 262,
   "id": "lyalc_iR_e0d",
   "metadata": {
    "colab": {
     "base_uri": "https://localhost:8080/"
    },
    "executionInfo": {
     "elapsed": 25,
     "status": "ok",
     "timestamp": 1648213469785,
     "user": {
      "displayName": "Rama Tri Agung",
      "photoUrl": "https://lh3.googleusercontent.com/a-/AOh14GhO5MpcihqCafTv8Tf9MUwRyHV6tO2uPdiXma2V=s64",
      "userId": "07374601175312417068"
     },
     "user_tz": -420
    },
    "id": "lyalc_iR_e0d",
    "outputId": "7e18bc20-fb83-4c15-b27e-5b47236af547"
   },
   "outputs": [
    {
     "name": "stdout",
     "output_type": "stream",
     "text": [
      "Best Model: SVC(C=3, gamma=0.0009, probability=True)\n",
      "Best CV Score: 0.9235719438877755\n"
     ]
    }
   ],
   "source": [
    "print(\"Best Model:\", svm_ws.best_estimator_)\n",
    "print(\"Best CV Score:\", svm_ws.best_score_)"
   ]
  },
  {
   "cell_type": "markdown",
   "id": "8d31dd96",
   "metadata": {},
   "source": [
    "#### All result score CV from tuning parameter SVM"
   ]
  },
  {
   "cell_type": "code",
   "execution_count": 263,
   "id": "77F7WcPS_hod",
   "metadata": {
    "colab": {
     "base_uri": "https://localhost:8080/",
     "height": 865
    },
    "executionInfo": {
     "elapsed": 24,
     "status": "ok",
     "timestamp": 1648213469786,
     "user": {
      "displayName": "Rama Tri Agung",
      "photoUrl": "https://lh3.googleusercontent.com/a-/AOh14GhO5MpcihqCafTv8Tf9MUwRyHV6tO2uPdiXma2V=s64",
      "userId": "07374601175312417068"
     },
     "user_tz": -420
    },
    "id": "77F7WcPS_hod",
    "outputId": "fdd8f0d5-8cf5-45cd-97a1-eb17096d36bf"
   },
   "outputs": [
    {
     "data": {
      "text/html": [
       "<div>\n",
       "<style scoped>\n",
       "    .dataframe tbody tr th:only-of-type {\n",
       "        vertical-align: middle;\n",
       "    }\n",
       "\n",
       "    .dataframe tbody tr th {\n",
       "        vertical-align: top;\n",
       "    }\n",
       "\n",
       "    .dataframe thead th {\n",
       "        text-align: right;\n",
       "    }\n",
       "</style>\n",
       "<table border=\"1\" class=\"dataframe\">\n",
       "  <thead>\n",
       "    <tr style=\"text-align: right;\">\n",
       "      <th></th>\n",
       "      <th>params</th>\n",
       "      <th>rank_test_score</th>\n",
       "      <th>mean_test_score</th>\n",
       "      <th>std_test_score</th>\n",
       "    </tr>\n",
       "    <tr>\n",
       "      <th>kernel</th>\n",
       "      <th></th>\n",
       "      <th></th>\n",
       "      <th></th>\n",
       "      <th></th>\n",
       "    </tr>\n",
       "  </thead>\n",
       "  <tbody>\n",
       "    <tr>\n",
       "      <th>3_0.0009</th>\n",
       "      <td>{'C': 3, 'gamma': 0.0009}</td>\n",
       "      <td>1</td>\n",
       "      <td>0.923572</td>\n",
       "      <td>0.006347</td>\n",
       "    </tr>\n",
       "    <tr>\n",
       "      <th>3_0.00095</th>\n",
       "      <td>{'C': 3, 'gamma': 0.00095}</td>\n",
       "      <td>2</td>\n",
       "      <td>0.922773</td>\n",
       "      <td>0.007407</td>\n",
       "    </tr>\n",
       "    <tr>\n",
       "      <th>6_0.0009</th>\n",
       "      <td>{'C': 6, 'gamma': 0.0009}</td>\n",
       "      <td>3</td>\n",
       "      <td>0.921574</td>\n",
       "      <td>0.010582</td>\n",
       "    </tr>\n",
       "    <tr>\n",
       "      <th>6_0.00095</th>\n",
       "      <td>{'C': 6, 'gamma': 0.00095}</td>\n",
       "      <td>4</td>\n",
       "      <td>0.921174</td>\n",
       "      <td>0.010212</td>\n",
       "    </tr>\n",
       "    <tr>\n",
       "      <th>10_0.00095</th>\n",
       "      <td>{'C': 10, 'gamma': 0.00095}</td>\n",
       "      <td>5</td>\n",
       "      <td>0.920373</td>\n",
       "      <td>0.009034</td>\n",
       "    </tr>\n",
       "    <tr>\n",
       "      <th>10_0.0009</th>\n",
       "      <td>{'C': 10, 'gamma': 0.0009}</td>\n",
       "      <td>5</td>\n",
       "      <td>0.920373</td>\n",
       "      <td>0.009880</td>\n",
       "    </tr>\n",
       "    <tr>\n",
       "      <th>15_0.00095</th>\n",
       "      <td>{'C': 15, 'gamma': 0.00095}</td>\n",
       "      <td>7</td>\n",
       "      <td>0.919972</td>\n",
       "      <td>0.008546</td>\n",
       "    </tr>\n",
       "    <tr>\n",
       "      <th>15_0.0009</th>\n",
       "      <td>{'C': 15, 'gamma': 0.0009}</td>\n",
       "      <td>7</td>\n",
       "      <td>0.919972</td>\n",
       "      <td>0.009436</td>\n",
       "    </tr>\n",
       "    <tr>\n",
       "      <th>3_auto</th>\n",
       "      <td>{'C': 3, 'gamma': 'auto'}</td>\n",
       "      <td>9</td>\n",
       "      <td>0.915971</td>\n",
       "      <td>0.008724</td>\n",
       "    </tr>\n",
       "    <tr>\n",
       "      <th>6_auto</th>\n",
       "      <td>{'C': 6, 'gamma': 'auto'}</td>\n",
       "      <td>10</td>\n",
       "      <td>0.914771</td>\n",
       "      <td>0.008591</td>\n",
       "    </tr>\n",
       "    <tr>\n",
       "      <th>15_auto</th>\n",
       "      <td>{'C': 15, 'gamma': 'auto'}</td>\n",
       "      <td>11</td>\n",
       "      <td>0.914371</td>\n",
       "      <td>0.008286</td>\n",
       "    </tr>\n",
       "    <tr>\n",
       "      <th>10_auto</th>\n",
       "      <td>{'C': 10, 'gamma': 'auto'}</td>\n",
       "      <td>11</td>\n",
       "      <td>0.914371</td>\n",
       "      <td>0.008286</td>\n",
       "    </tr>\n",
       "    <tr>\n",
       "      <th>1_0.00095</th>\n",
       "      <td>{'C': 1, 'gamma': 0.00095}</td>\n",
       "      <td>13</td>\n",
       "      <td>0.907170</td>\n",
       "      <td>0.014083</td>\n",
       "    </tr>\n",
       "    <tr>\n",
       "      <th>1_0.0009</th>\n",
       "      <td>{'C': 1, 'gamma': 0.0009}</td>\n",
       "      <td>14</td>\n",
       "      <td>0.906370</td>\n",
       "      <td>0.016431</td>\n",
       "    </tr>\n",
       "    <tr>\n",
       "      <th>1_auto</th>\n",
       "      <td>{'C': 1, 'gamma': 'auto'}</td>\n",
       "      <td>15</td>\n",
       "      <td>0.902366</td>\n",
       "      <td>0.012126</td>\n",
       "    </tr>\n",
       "    <tr>\n",
       "      <th>3_0.0018</th>\n",
       "      <td>{'C': 3, 'gamma': 0.0018}</td>\n",
       "      <td>16</td>\n",
       "      <td>0.900367</td>\n",
       "      <td>0.010634</td>\n",
       "    </tr>\n",
       "    <tr>\n",
       "      <th>6_0.0018</th>\n",
       "      <td>{'C': 6, 'gamma': 0.0018}</td>\n",
       "      <td>17</td>\n",
       "      <td>0.899969</td>\n",
       "      <td>0.013093</td>\n",
       "    </tr>\n",
       "    <tr>\n",
       "      <th>15_0.0018</th>\n",
       "      <td>{'C': 15, 'gamma': 0.0018}</td>\n",
       "      <td>17</td>\n",
       "      <td>0.899969</td>\n",
       "      <td>0.013093</td>\n",
       "    </tr>\n",
       "    <tr>\n",
       "      <th>10_0.0018</th>\n",
       "      <td>{'C': 10, 'gamma': 0.0018}</td>\n",
       "      <td>17</td>\n",
       "      <td>0.899969</td>\n",
       "      <td>0.013093</td>\n",
       "    </tr>\n",
       "    <tr>\n",
       "      <th>1_0.0018</th>\n",
       "      <td>{'C': 1, 'gamma': 0.0018}</td>\n",
       "      <td>20</td>\n",
       "      <td>0.890362</td>\n",
       "      <td>0.010093</td>\n",
       "    </tr>\n",
       "    <tr>\n",
       "      <th>3_0.0023</th>\n",
       "      <td>{'C': 3, 'gamma': 0.0023}</td>\n",
       "      <td>21</td>\n",
       "      <td>0.873958</td>\n",
       "      <td>0.011589</td>\n",
       "    </tr>\n",
       "    <tr>\n",
       "      <th>10_0.0023</th>\n",
       "      <td>{'C': 10, 'gamma': 0.0023}</td>\n",
       "      <td>22</td>\n",
       "      <td>0.873558</td>\n",
       "      <td>0.012021</td>\n",
       "    </tr>\n",
       "    <tr>\n",
       "      <th>6_0.0023</th>\n",
       "      <td>{'C': 6, 'gamma': 0.0023}</td>\n",
       "      <td>22</td>\n",
       "      <td>0.873558</td>\n",
       "      <td>0.012021</td>\n",
       "    </tr>\n",
       "    <tr>\n",
       "      <th>15_0.0023</th>\n",
       "      <td>{'C': 15, 'gamma': 0.0023}</td>\n",
       "      <td>22</td>\n",
       "      <td>0.873558</td>\n",
       "      <td>0.012021</td>\n",
       "    </tr>\n",
       "    <tr>\n",
       "      <th>1_0.0023</th>\n",
       "      <td>{'C': 1, 'gamma': 0.0023}</td>\n",
       "      <td>25</td>\n",
       "      <td>0.860350</td>\n",
       "      <td>0.010840</td>\n",
       "    </tr>\n",
       "  </tbody>\n",
       "</table>\n",
       "</div>"
      ],
      "text/plain": [
       "                                 params  rank_test_score  mean_test_score  \\\n",
       "kernel                                                                      \n",
       "3_0.0009      {'C': 3, 'gamma': 0.0009}                1         0.923572   \n",
       "3_0.00095    {'C': 3, 'gamma': 0.00095}                2         0.922773   \n",
       "6_0.0009      {'C': 6, 'gamma': 0.0009}                3         0.921574   \n",
       "6_0.00095    {'C': 6, 'gamma': 0.00095}                4         0.921174   \n",
       "10_0.00095  {'C': 10, 'gamma': 0.00095}                5         0.920373   \n",
       "10_0.0009    {'C': 10, 'gamma': 0.0009}                5         0.920373   \n",
       "15_0.00095  {'C': 15, 'gamma': 0.00095}                7         0.919972   \n",
       "15_0.0009    {'C': 15, 'gamma': 0.0009}                7         0.919972   \n",
       "3_auto        {'C': 3, 'gamma': 'auto'}                9         0.915971   \n",
       "6_auto        {'C': 6, 'gamma': 'auto'}               10         0.914771   \n",
       "15_auto      {'C': 15, 'gamma': 'auto'}               11         0.914371   \n",
       "10_auto      {'C': 10, 'gamma': 'auto'}               11         0.914371   \n",
       "1_0.00095    {'C': 1, 'gamma': 0.00095}               13         0.907170   \n",
       "1_0.0009      {'C': 1, 'gamma': 0.0009}               14         0.906370   \n",
       "1_auto        {'C': 1, 'gamma': 'auto'}               15         0.902366   \n",
       "3_0.0018      {'C': 3, 'gamma': 0.0018}               16         0.900367   \n",
       "6_0.0018      {'C': 6, 'gamma': 0.0018}               17         0.899969   \n",
       "15_0.0018    {'C': 15, 'gamma': 0.0018}               17         0.899969   \n",
       "10_0.0018    {'C': 10, 'gamma': 0.0018}               17         0.899969   \n",
       "1_0.0018      {'C': 1, 'gamma': 0.0018}               20         0.890362   \n",
       "3_0.0023      {'C': 3, 'gamma': 0.0023}               21         0.873958   \n",
       "10_0.0023    {'C': 10, 'gamma': 0.0023}               22         0.873558   \n",
       "6_0.0023      {'C': 6, 'gamma': 0.0023}               22         0.873558   \n",
       "15_0.0023    {'C': 15, 'gamma': 0.0023}               22         0.873558   \n",
       "1_0.0023      {'C': 1, 'gamma': 0.0023}               25         0.860350   \n",
       "\n",
       "            std_test_score  \n",
       "kernel                      \n",
       "3_0.0009          0.006347  \n",
       "3_0.00095         0.007407  \n",
       "6_0.0009          0.010582  \n",
       "6_0.00095         0.010212  \n",
       "10_0.00095        0.009034  \n",
       "10_0.0009         0.009880  \n",
       "15_0.00095        0.008546  \n",
       "15_0.0009         0.009436  \n",
       "3_auto            0.008724  \n",
       "6_auto            0.008591  \n",
       "15_auto           0.008286  \n",
       "10_auto           0.008286  \n",
       "1_0.00095         0.014083  \n",
       "1_0.0009          0.016431  \n",
       "1_auto            0.012126  \n",
       "3_0.0018          0.010634  \n",
       "6_0.0018          0.013093  \n",
       "15_0.0018         0.013093  \n",
       "10_0.0018         0.013093  \n",
       "1_0.0018          0.010093  \n",
       "3_0.0023          0.011589  \n",
       "10_0.0023         0.012021  \n",
       "6_0.0023          0.012021  \n",
       "15_0.0023         0.012021  \n",
       "1_0.0023          0.010840  "
      ]
     },
     "execution_count": 263,
     "metadata": {},
     "output_type": "execute_result"
    }
   ],
   "source": [
    "cv_results_df = pd.DataFrame(svm_ws.cv_results_)\n",
    "cv_results_df = cv_results_df.sort_values(by=['rank_test_score'])\n",
    "cv_results_df = (\n",
    "    cv_results_df\n",
    "    .set_index(cv_results_df[\"params\"].apply(\n",
    "        lambda x: \"_\".join(str(val) for val in x.values()))\n",
    "    )\n",
    "    .rename_axis('kernel')\n",
    ")\n",
    "cv_results_df[\n",
    "    ['params', 'rank_test_score', 'mean_test_score', 'std_test_score']\n",
    "]"
   ]
  },
  {
   "cell_type": "markdown",
   "id": "637d2a06",
   "metadata": {},
   "source": [
    "#### Save model"
   ]
  },
  {
   "cell_type": "code",
   "execution_count": 264,
   "id": "79cedb44",
   "metadata": {},
   "outputs": [],
   "source": [
    "# Just save model for future used\n",
    "save_file_pickle(svm_ws, SVM_WS_FILE_PICKLE)"
   ]
  },
  {
   "cell_type": "markdown",
   "id": "a2904916",
   "metadata": {},
   "source": [
    "### Predict Data Testing\n",
    "\n",
    "Using SVC(C=6, gamma=0.0015)"
   ]
  },
  {
   "cell_type": "code",
   "execution_count": 265,
   "id": "rrF-6ztW_kSb",
   "metadata": {
    "executionInfo": {
     "elapsed": 16,
     "status": "ok",
     "timestamp": 1648213469786,
     "user": {
      "displayName": "Rama Tri Agung",
      "photoUrl": "https://lh3.googleusercontent.com/a-/AOh14GhO5MpcihqCafTv8Tf9MUwRyHV6tO2uPdiXma2V=s64",
      "userId": "07374601175312417068"
     },
     "user_tz": -420
    },
    "id": "rrF-6ztW_kSb"
   },
   "outputs": [],
   "source": [
    "y_pred = svm_ws.predict(X_test)"
   ]
  },
  {
   "cell_type": "code",
   "execution_count": 266,
   "id": "9f2b0992",
   "metadata": {},
   "outputs": [
    {
     "data": {
      "text/plain": [
       "array([[1.71809042e-03, 2.02162872e-02, 2.96769836e-03, 1.52104564e-03,\n",
       "        4.42884427e-04, 8.37697366e-04, 1.04490838e-03, 2.57821634e-03,\n",
       "        9.84476081e-04, 9.42073484e-04, 5.54386385e-03, 7.35965025e-04,\n",
       "        1.79995233e-03, 1.14045995e-04, 6.90123939e-05, 9.51421552e-01,\n",
       "        9.53657783e-04, 3.44398169e-03, 3.25763027e-04, 2.33882850e-03]])"
      ]
     },
     "execution_count": 266,
     "metadata": {},
     "output_type": "execute_result"
    }
   ],
   "source": [
    "test = svm_ws.predict_proba(np.reshape(X_test[0], (1, -1)))\n",
    "test"
   ]
  },
  {
   "cell_type": "markdown",
   "id": "1f0f9b3d",
   "metadata": {},
   "source": [
    "#### Heatmap result predict"
   ]
  },
  {
   "cell_type": "code",
   "execution_count": 267,
   "id": "41a647f0",
   "metadata": {},
   "outputs": [
    {
     "data": {
      "image/png": "[encoded data removed]",
      "text/plain": [
       "<Figure size 1224x792 with 1 Axes>"
      ]
     },
     "metadata": {
      "needs_background": "light"
     },
     "output_type": "display_data"
    }
   ],
   "source": [
    "conf_ws = pd.DataFrame(confusion_matrix(y_test, y_pred), columns=hanacaraka, index=hanacaraka)\n",
    "\n",
    "plt.figure(figsize=(17,11))\n",
    "\n",
    "res = sns.heatmap(conf_ws, annot=True, fmt=\"g\", cmap=\"Blues\", cbar=False)\n",
    "res.set_yticklabels(res.get_ymajorticklabels(), fontsize = 14)\n",
    "res.set_xticklabels(res.get_xmajorticklabels(), fontsize = 14)\n",
    "\n",
    "plt.xlabel(\"Predicted\")\n",
    "plt.ylabel(\"Actual\")\n",
    "plt.title(\"Confusion Matrix Plot\")\n",
    "plt.show()"
   ]
  },
  {
   "cell_type": "code",
   "execution_count": 268,
   "id": "6622e3e2",
   "metadata": {
    "colab": {
     "base_uri": "https://localhost:8080/"
    },
    "executionInfo": {
     "elapsed": 16,
     "status": "ok",
     "timestamp": 1648213469787,
     "user": {
      "displayName": "Rama Tri Agung",
      "photoUrl": "https://lh3.googleusercontent.com/a-/AOh14GhO5MpcihqCafTv8Tf9MUwRyHV6tO2uPdiXma2V=s64",
      "userId": "07374601175312417068"
     },
     "user_tz": -420
    },
    "id": "6622e3e2",
    "outputId": "22122fe7-ac04-470f-9faa-f3839d1d29ac",
    "scrolled": false
   },
   "outputs": [
    {
     "name": "stdout",
     "output_type": "stream",
     "text": [
      "Classification report result:\n",
      "              precision    recall  f1-score   support\n",
      "\n",
      "          ba       0.95      0.95      0.95        21\n",
      "          ca       0.96      0.85      0.90        26\n",
      "          da       1.00      0.96      0.98        23\n",
      "         dha       1.00      1.00      1.00        28\n",
      "          ga       0.95      1.00      0.98        20\n",
      "          ha       0.77      0.89      0.83        19\n",
      "          ja       1.00      1.00      1.00        13\n",
      "          ka       1.00      0.96      0.98        28\n",
      "          la       0.91      0.80      0.85        25\n",
      "          ma       1.00      1.00      1.00        22\n",
      "          na       0.91      1.00      0.95        20\n",
      "         nga       1.00      1.00      1.00        21\n",
      "         nya       0.95      0.95      0.95        21\n",
      "          pa       0.90      1.00      0.95        18\n",
      "          ra       1.00      0.96      0.98        24\n",
      "          sa       0.86      0.96      0.91        25\n",
      "          ta       1.00      1.00      1.00        25\n",
      "         tha       1.00      1.00      1.00        22\n",
      "          wa       1.00      0.90      0.95        21\n",
      "          ya       0.95      0.95      0.95        19\n",
      "\n",
      "    accuracy                           0.95       441\n",
      "   macro avg       0.96      0.96      0.95       441\n",
      "weighted avg       0.96      0.95      0.95       441\n",
      "\n"
     ]
    }
   ],
   "source": [
    "class_rep_ws = classification_report(y_test, y_pred)\n",
    "\n",
    "print(\"Classification report result:\")\n",
    "print(class_rep_ws)"
   ]
  },
  {
   "cell_type": "markdown",
   "id": "de4810dd",
   "metadata": {},
   "source": [
    "### Result Accuracy Score for SVM with SIFT"
   ]
  },
  {
   "cell_type": "code",
   "execution_count": 269,
   "id": "fb12b508",
   "metadata": {},
   "outputs": [
    {
     "name": "stdout",
     "output_type": "stream",
     "text": [
      "Accuracy score: 0.9546485260770975\n"
     ]
    }
   ],
   "source": [
    "acc_ws = accuracy_score(y_test, y_pred)\n",
    "print(\"Accuracy score:\", acc_ws)"
   ]
  },
  {
   "cell_type": "markdown",
   "id": "c3e86b5b",
   "metadata": {},
   "source": [
    "# Note for Result SIFT With SVM"
   ]
  },
  {
   "cell_type": "markdown",
   "id": "6NbhunaQV9pq",
   "metadata": {
    "id": "6NbhunaQV9pq"
   },
   "source": [
    "### Testing Scenario\n",
    "- Img = \\[ 64, 96, 128, 164, 192, 224 \\]\n",
    "  - Img prep = Greyscale, Equalization\n",
    "- K = \\[ 1000, 700, 500, 350, 240, 180 \\]\n",
    "- C = \\[ 1, 3, 6, 10, 15\\]\n",
    "- G = \\[ 'auto', 0.001, 0.0015, 0.0025, 0.003 \\]"
   ]
  },
  {
   "cell_type": "markdown",
   "id": "6f652705",
   "metadata": {
    "id": "6f652705"
   },
   "source": [
    "### Result:\n",
    "- Img = (25,25), K = 180, SVM = 0.61\n",
    "- Img = (28,28), K = 140, SVM = 0.59\n",
    "- Img = (32,32), K = 140, SVM = 0.69\n",
    "- Img = (64,64), K = 180, SVM = 0.89\n",
    "- Img = (64,64), K = 240, SVM = .89:.90\n",
    "- Img = (96,96), K = 240, SVM = .89:.89\n",
    "- Img = (128,128), K = 140, SVM = .87:.89\n",
    "- Img = (128,128), K = 180, SVM = .88:.93\n",
    "- Img = (128,128), K = 240, SVM = .90:.95\n",
    "- Img = (128,128), K = 350, SVM = .91:.94\n",
    "- Img = (128,128), K = 500, SVM = .92:.95\n",
    "- Img = (128,128), K = 700, SVM = .92:.94\n",
    "- Img = (128,128), K = 1000, SVM = .92:.94\n",
    "- Img = (164,164), K = 240, SVM = .90:.91\n",
    "- Img = (192,192), K = 240, SVM = .90:.92\n",
    "- Img = (224,224), K = 240, SVM = .88:.90\n",
    "\n",
    "\n",
    "======================================\n",
    "\n",
    "- Img = (128,128), K = 60, KNN = 0.69, SVM = 0.82\n",
    "- Img = (128,128), K = 80, KNN = 0.71, SVM = 0.88\n",
    "- Img = (128,128), K = 100, KNN = 0.76, SVM = 0.90\n",
    "- Img = (128,128), K = 120, KNN = 0.74, SVM = 0.91\n",
    "- Img = (128,128), K = 140, KNN = 0.78, SVM = 0.92\n",
    "- Img = (128,128), K = 160, KNN = 0.76, SVM = 0.93\n",
    "- Img = (128,128), K = 180, KNN = 0.75, SVM = 0.92\n",
    "- Img = (128,128), K = 200, KNN = 0.75, SVM = 0.94 (G,T) / 0.92 (G,E) / 0.86 (G,E,T) / 0.86 (G,T,E)\n",
    "- Img = (128,128), K = 240, KNN = 0.76, SVM = 0.96 (G,T) / 0.90:0.94 (G,E)\n",
    "- Img = (128,128), K = 350, KNN = 0.75, SVM = 0.94\n",
    "- Img = (128,128), K = 500, KNN = 0.76, SVM = 0.97\n",
    "- Img = (128,128), K = 700, KNN = 0.71, SVM = 0.95\n",
    "- Img = (128,128), K = 1000, KNN = 0.63, SVM = 0.95\n"
   ]
  },
  {
   "cell_type": "markdown",
   "id": "FEwl7fHNW0i7",
   "metadata": {
    "id": "FEwl7fHNW0i7"
   },
   "source": [
    "### Conclusion\n",
    "- Best image : 128x128\n",
    "  1. 128: .90:.94\n",
    "  2. 192: .90:.92\n",
    "  3. 164: .90:.91\n",
    "  4. 64: .89:.90\n",
    "  5. 96: .89:.89\n",
    "  6. 224: .88:.90\n",
    "- Best K val : 500 \n",
    "  1. 500 : .92:.95\n",
    "  2. 240 : .90:.95\n",
    "  3. 700 : .92:.94\n",
    "  4. 1000 : .92:.94\n",
    "  5. 350 : .91:.94\n",
    "  6. 180 : .88:.93\n",
    "- Best C val : 6\n",
    "- Best G val : 0.0015"
   ]
  },
  {
   "cell_type": "markdown",
   "id": "bee227a3",
   "metadata": {
    "id": "bee227a3"
   },
   "source": [
    "# Classification Without SIFT\n",
    "\n",
    "- input: `X, y`\n",
    "- output: -"
   ]
  },
  {
   "cell_type": "markdown",
   "id": "863fce53",
   "metadata": {
    "id": "863fce53"
   },
   "source": [
    "### Image Preprocessing\n",
    "\n",
    "Data should be resized for lower time consumtion training"
   ]
  },
  {
   "cell_type": "code",
   "execution_count": 35,
   "id": "568216c7",
   "metadata": {
    "id": "568216c7"
   },
   "outputs": [],
   "source": [
    "# new_X = X\n",
    "new_X = []\n",
    "\n",
    "for i in range(X.shape[0]) :\n",
    "    new_X.append(equalizing(resizing(X[i], 28)))\n",
    "    \n",
    "new_X = np.array(new_X, dtype=np.uint8)"
   ]
  },
  {
   "cell_type": "markdown",
   "id": "5424a478",
   "metadata": {},
   "source": [
    "### Visualize Result Data"
   ]
  },
  {
   "cell_type": "code",
   "execution_count": 36,
   "id": "63c06f01",
   "metadata": {
    "colab": {
     "base_uri": "https://localhost:8080/",
     "height": 244
    },
    "executionInfo": {
     "elapsed": 974,
     "status": "ok",
     "timestamp": 1648212100155,
     "user": {
      "displayName": "Rama Tri Agung",
      "photoUrl": "https://lh3.googleusercontent.com/a-/AOh14GhO5MpcihqCafTv8Tf9MUwRyHV6tO2uPdiXma2V=s64",
      "userId": "07374601175312417068"
     },
     "user_tz": -420
    },
    "id": "dad58e22",
    "outputId": "f1c45b6a-2a6e-4021-84be-7e734c564a4a"
   },
   "outputs": [
    {
     "data": {
      "image/png": "[encoded data removed]",
      "text/plain": [
       "<Figure size 1152x288 with 8 Axes>"
      ]
     },
     "metadata": {
      "needs_background": "light"
     },
     "output_type": "display_data"
    }
   ],
   "source": [
    "np.random.seed(42)\n",
    "\n",
    "fig = plt.figure(figsize=(16, 4))\n",
    "columns = 8\n",
    "rows = 1\n",
    "for i in range(1, columns*rows + 1):\n",
    "    img = np.array(new_X[np.random.randint(0, new_X.shape[0]), :])\n",
    "    fig.add_subplot(rows, columns, i)\n",
    "    plt.imshow(img, cmap='gray', vmin=0, vmax=255)\n",
    "    plt.axis('off')\n",
    "\n",
    "plt.show()"
   ]
  },
  {
   "cell_type": "markdown",
   "id": "1bb93b08",
   "metadata": {
    "id": "1bb93b08"
   },
   "source": [
    "### Preprocessing"
   ]
  },
  {
   "cell_type": "code",
   "execution_count": 37,
   "id": "90fd017d",
   "metadata": {
    "id": "90fd017d",
    "outputId": "7a63dc19-560c-46b9-c893-6072ff52b961"
   },
   "outputs": [
    {
     "name": "stdout",
     "output_type": "stream",
     "text": [
      "Feature X data dimension: (2940, 784)\n"
     ]
    }
   ],
   "source": [
    "# reshape data\n",
    "X_feature = np.reshape(new_X, (new_X.shape[0], new_X[0].shape[0]*new_X[0].shape[1]))\n",
    "print(\"Feature X data dimension:\", X_feature.shape)"
   ]
  },
  {
   "cell_type": "code",
   "execution_count": 38,
   "id": "e04ace7a",
   "metadata": {
    "id": "e04ace7a",
    "outputId": "fc2ea163-802d-48b7-a13a-34543f0a25f1"
   },
   "outputs": [],
   "source": [
    "# normalization\n",
    "scaler = StandardScaler().fit(X_feature)\n",
    "X_scale = scaler.transform(X_feature)"
   ]
  },
  {
   "cell_type": "markdown",
   "id": "7c56371a",
   "metadata": {},
   "source": [
    "#### Save scaler"
   ]
  },
  {
   "cell_type": "code",
   "execution_count": 39,
   "id": "1ce08895",
   "metadata": {},
   "outputs": [],
   "source": [
    "# Just save normalization function for future used\n",
    "save_file_pickle(SCALER_WOS_FILE_PICKLE)"
   ]
  },
  {
   "cell_type": "code",
   "execution_count": 40,
   "id": "d696176a",
   "metadata": {
    "id": "d696176a"
   },
   "outputs": [
    {
     "name": "stdout",
     "output_type": "stream",
     "text": [
      "Size of training: 2499\n",
      "Size of testing: 441\n"
     ]
    }
   ],
   "source": [
    "# splitting data\n",
    "X_train, X_test, y_train, y_test = train_test_split(X_scale, y, test_size=0.15, random_state=42)\n",
    "\n",
    "print(\"Size of training:\", X_train.shape[0])\n",
    "print(\"Size of testing:\", X_test.shape[0])"
   ]
  },
  {
   "cell_type": "markdown",
   "id": "fe36a378",
   "metadata": {
    "id": "fe36a378"
   },
   "source": [
    "### SVM\n",
    "\n",
    "Using GridSearchCV for tuning parameter, with scenario:\n",
    "- 'C': \\[ 1, 3, 6, 10, 15 \\]\n",
    "- 'gamma': \\[ 'auto', 0.0008, 0.001, 0.0015, 0.0018 \\]\n",
    "    - 'auto' = 1 / nfeatures"
   ]
  },
  {
   "cell_type": "markdown",
   "id": "d03908ae",
   "metadata": {},
   "source": [
    "#### Load model"
   ]
  },
  {
   "cell_type": "code",
   "execution_count": 41,
   "id": "8bee594f",
   "metadata": {},
   "outputs": [],
   "source": [
    "# Just load model without re-training if you want\n",
    "svm_wos = load_file_pickle(SVM_WOS_FILE_PICKLE)"
   ]
  },
  {
   "cell_type": "code",
   "execution_count": 42,
   "id": "698b084d",
   "metadata": {
    "id": "698b084d"
   },
   "outputs": [],
   "source": [
    "svm_wos_params = {\n",
    "    'C': [1, 3, 6, 10, 15],\n",
    "    'gamma': ['auto', 0.0008, 0.001, 0.0015, 0.0018],\n",
    "}\n",
    "svm_wos = GridSearchCV(estimator=SVC(kernel='rbf', probability=True), param_grid=svm_wos_params, cv=5, verbose=3)"
   ]
  },
  {
   "cell_type": "code",
   "execution_count": 43,
   "id": "729b9961",
   "metadata": {
    "id": "729b9961",
    "scrolled": true
   },
   "outputs": [
    {
     "name": "stdout",
     "output_type": "stream",
     "text": [
      "Fitting 5 folds for each of 25 candidates, totalling 125 fits\n",
      "[CV 1/5] END ...................C=1, gamma=auto;, score=0.372 total time=   5.7s\n",
      "[CV 2/5] END ...................C=1, gamma=auto;, score=0.386 total time=   4.5s\n",
      "[CV 3/5] END ...................C=1, gamma=auto;, score=0.354 total time=   7.2s\n",
      "[CV 4/5] END ...................C=1, gamma=auto;, score=0.368 total time=   7.6s\n",
      "[CV 5/5] END ...................C=1, gamma=auto;, score=0.371 total time=   7.8s\n",
      "[CV 1/5] END .................C=1, gamma=0.0008;, score=0.354 total time=   7.0s\n",
      "[CV 2/5] END .................C=1, gamma=0.0008;, score=0.348 total time=   6.5s\n",
      "[CV 3/5] END .................C=1, gamma=0.0008;, score=0.318 total time=   6.3s\n",
      "[CV 4/5] END .................C=1, gamma=0.0008;, score=0.346 total time=   6.5s\n",
      "[CV 5/5] END .................C=1, gamma=0.0008;, score=0.349 total time=   5.5s\n",
      "[CV 1/5] END ..................C=1, gamma=0.001;, score=0.372 total time=   5.9s\n",
      "[CV 2/5] END ..................C=1, gamma=0.001;, score=0.366 total time=   6.5s\n",
      "[CV 3/5] END ..................C=1, gamma=0.001;, score=0.328 total time=   5.4s\n",
      "[CV 4/5] END ..................C=1, gamma=0.001;, score=0.352 total time=   5.4s\n",
      "[CV 5/5] END ..................C=1, gamma=0.001;, score=0.349 total time=   5.7s\n",
      "[CV 1/5] END .................C=1, gamma=0.0015;, score=0.368 total time=   7.7s\n",
      "[CV 2/5] END .................C=1, gamma=0.0015;, score=0.402 total time=   7.2s\n",
      "[CV 3/5] END .................C=1, gamma=0.0015;, score=0.362 total time=   4.0s\n",
      "[CV 4/5] END .................C=1, gamma=0.0015;, score=0.366 total time=   4.4s\n",
      "[CV 5/5] END .................C=1, gamma=0.0015;, score=0.381 total time=   7.3s\n",
      "[CV 1/5] END .................C=1, gamma=0.0018;, score=0.366 total time=   7.3s\n",
      "[CV 2/5] END .................C=1, gamma=0.0018;, score=0.398 total time=   5.7s\n",
      "[CV 3/5] END .................C=1, gamma=0.0018;, score=0.368 total time=   4.7s\n",
      "[CV 4/5] END .................C=1, gamma=0.0018;, score=0.378 total time=   5.9s\n",
      "[CV 5/5] END .................C=1, gamma=0.0018;, score=0.383 total time=   8.6s\n",
      "[CV 1/5] END ...................C=3, gamma=auto;, score=0.458 total time=   8.5s\n",
      "[CV 2/5] END ...................C=3, gamma=auto;, score=0.462 total time=   7.0s\n",
      "[CV 3/5] END ...................C=3, gamma=auto;, score=0.458 total time=   8.5s\n",
      "[CV 4/5] END ...................C=3, gamma=auto;, score=0.448 total time=   7.2s\n",
      "[CV 5/5] END ...................C=3, gamma=auto;, score=0.463 total time=   8.9s\n",
      "[CV 1/5] END .................C=3, gamma=0.0008;, score=0.452 total time=   6.5s\n",
      "[CV 2/5] END .................C=3, gamma=0.0008;, score=0.458 total time=   4.0s\n",
      "[CV 3/5] END .................C=3, gamma=0.0008;, score=0.444 total time=   3.8s\n",
      "[CV 4/5] END .................C=3, gamma=0.0008;, score=0.450 total time=   5.1s\n",
      "[CV 5/5] END .................C=3, gamma=0.0008;, score=0.445 total time=   5.4s\n",
      "[CV 1/5] END ..................C=3, gamma=0.001;, score=0.462 total time=   4.6s\n",
      "[CV 2/5] END ..................C=3, gamma=0.001;, score=0.456 total time=   4.6s\n",
      "[CV 3/5] END ..................C=3, gamma=0.001;, score=0.466 total time=   4.2s\n",
      "[CV 4/5] END ..................C=3, gamma=0.001;, score=0.454 total time=   5.6s\n",
      "[CV 5/5] END ..................C=3, gamma=0.001;, score=0.453 total time=   3.9s\n",
      "[CV 1/5] END .................C=3, gamma=0.0015;, score=0.462 total time=   3.3s\n",
      "[CV 2/5] END .................C=3, gamma=0.0015;, score=0.468 total time=   3.2s\n",
      "[CV 3/5] END .................C=3, gamma=0.0015;, score=0.452 total time=   5.2s\n",
      "[CV 4/5] END .................C=3, gamma=0.0015;, score=0.450 total time=   5.2s\n",
      "[CV 5/5] END .................C=3, gamma=0.0015;, score=0.469 total time=   5.6s\n",
      "[CV 1/5] END .................C=3, gamma=0.0018;, score=0.440 total time=   4.8s\n",
      "[CV 2/5] END .................C=3, gamma=0.0018;, score=0.464 total time=   7.4s\n",
      "[CV 3/5] END .................C=3, gamma=0.0018;, score=0.458 total time=   7.1s\n",
      "[CV 4/5] END .................C=3, gamma=0.0018;, score=0.450 total time=   5.2s\n",
      "[CV 5/5] END .................C=3, gamma=0.0018;, score=0.459 total time=   5.1s\n",
      "[CV 1/5] END ...................C=6, gamma=auto;, score=0.484 total time=   5.7s\n",
      "[CV 2/5] END ...................C=6, gamma=auto;, score=0.466 total time=   4.8s\n",
      "[CV 3/5] END ...................C=6, gamma=auto;, score=0.478 total time=   4.5s\n",
      "[CV 4/5] END ...................C=6, gamma=auto;, score=0.452 total time=   5.3s\n",
      "[CV 5/5] END ...................C=6, gamma=auto;, score=0.475 total time=   5.9s\n",
      "[CV 1/5] END .................C=6, gamma=0.0008;, score=0.464 total time=   5.2s\n",
      "[CV 2/5] END .................C=6, gamma=0.0008;, score=0.460 total time=   6.0s\n",
      "[CV 3/5] END .................C=6, gamma=0.0008;, score=0.464 total time=   5.7s\n",
      "[CV 4/5] END .................C=6, gamma=0.0008;, score=0.464 total time=   5.4s\n",
      "[CV 5/5] END .................C=6, gamma=0.0008;, score=0.481 total time=   5.7s\n",
      "[CV 1/5] END ..................C=6, gamma=0.001;, score=0.478 total time=   6.3s\n",
      "[CV 2/5] END ..................C=6, gamma=0.001;, score=0.464 total time=   5.7s\n",
      "[CV 3/5] END ..................C=6, gamma=0.001;, score=0.470 total time=   5.0s\n",
      "[CV 4/5] END ..................C=6, gamma=0.001;, score=0.462 total time=   4.8s\n",
      "[CV 5/5] END ..................C=6, gamma=0.001;, score=0.479 total time=   5.2s\n",
      "[CV 1/5] END .................C=6, gamma=0.0015;, score=0.482 total time=   4.1s\n",
      "[CV 2/5] END .................C=6, gamma=0.0015;, score=0.470 total time=   3.9s\n",
      "[CV 3/5] END .................C=6, gamma=0.0015;, score=0.468 total time=   4.1s\n",
      "[CV 4/5] END .................C=6, gamma=0.0015;, score=0.462 total time=   4.7s\n",
      "[CV 5/5] END .................C=6, gamma=0.0015;, score=0.479 total time=   4.8s\n",
      "[CV 1/5] END .................C=6, gamma=0.0018;, score=0.468 total time=   4.9s\n",
      "[CV 2/5] END .................C=6, gamma=0.0018;, score=0.452 total time=   4.7s\n",
      "[CV 3/5] END .................C=6, gamma=0.0018;, score=0.452 total time=   3.4s\n",
      "[CV 4/5] END .................C=6, gamma=0.0018;, score=0.452 total time=   4.4s\n",
      "[CV 5/5] END .................C=6, gamma=0.0018;, score=0.473 total time=   4.2s\n",
      "[CV 1/5] END ..................C=10, gamma=auto;, score=0.486 total time=   3.9s\n",
      "[CV 2/5] END ..................C=10, gamma=auto;, score=0.462 total time=   3.9s\n",
      "[CV 3/5] END ..................C=10, gamma=auto;, score=0.474 total time=   3.7s\n",
      "[CV 4/5] END ..................C=10, gamma=auto;, score=0.448 total time=   3.9s\n",
      "[CV 5/5] END ..................C=10, gamma=auto;, score=0.477 total time=   3.8s\n",
      "[CV 1/5] END ................C=10, gamma=0.0008;, score=0.478 total time=   3.4s\n",
      "[CV 2/5] END ................C=10, gamma=0.0008;, score=0.458 total time=   3.7s\n",
      "[CV 3/5] END ................C=10, gamma=0.0008;, score=0.466 total time=   3.4s\n",
      "[CV 4/5] END ................C=10, gamma=0.0008;, score=0.448 total time=   3.5s\n",
      "[CV 5/5] END ................C=10, gamma=0.0008;, score=0.475 total time=   3.5s\n",
      "[CV 1/5] END .................C=10, gamma=0.001;, score=0.488 total time=   3.5s\n",
      "[CV 2/5] END .................C=10, gamma=0.001;, score=0.468 total time=   3.3s\n",
      "[CV 3/5] END .................C=10, gamma=0.001;, score=0.468 total time=   3.7s\n",
      "[CV 4/5] END .................C=10, gamma=0.001;, score=0.452 total time=   3.7s\n",
      "[CV 5/5] END .................C=10, gamma=0.001;, score=0.483 total time=   3.4s\n",
      "[CV 1/5] END ................C=10, gamma=0.0015;, score=0.486 total time=   3.8s\n",
      "[CV 2/5] END ................C=10, gamma=0.0015;, score=0.452 total time=   4.0s\n",
      "[CV 3/5] END ................C=10, gamma=0.0015;, score=0.464 total time=   4.0s\n",
      "[CV 4/5] END ................C=10, gamma=0.0015;, score=0.464 total time=   3.6s\n",
      "[CV 5/5] END ................C=10, gamma=0.0015;, score=0.483 total time=   3.4s\n",
      "[CV 1/5] END ................C=10, gamma=0.0018;, score=0.474 total time=   3.5s\n",
      "[CV 2/5] END ................C=10, gamma=0.0018;, score=0.452 total time=   4.3s\n",
      "[CV 3/5] END ................C=10, gamma=0.0018;, score=0.458 total time=   3.7s\n",
      "[CV 4/5] END ................C=10, gamma=0.0018;, score=0.460 total time=   3.7s\n",
      "[CV 5/5] END ................C=10, gamma=0.0018;, score=0.477 total time=   4.4s\n",
      "[CV 1/5] END ..................C=15, gamma=auto;, score=0.490 total time=   3.8s\n",
      "[CV 2/5] END ..................C=15, gamma=auto;, score=0.462 total time=   3.9s\n",
      "[CV 3/5] END ..................C=15, gamma=auto;, score=0.472 total time=   4.1s\n",
      "[CV 4/5] END ..................C=15, gamma=auto;, score=0.462 total time=   3.3s\n",
      "[CV 5/5] END ..................C=15, gamma=auto;, score=0.477 total time=   3.3s\n",
      "[CV 1/5] END ................C=15, gamma=0.0008;, score=0.482 total time=   3.5s\n",
      "[CV 2/5] END ................C=15, gamma=0.0008;, score=0.448 total time=   3.5s\n",
      "[CV 3/5] END ................C=15, gamma=0.0008;, score=0.458 total time=   3.3s\n",
      "[CV 4/5] END ................C=15, gamma=0.0008;, score=0.450 total time=   3.3s\n",
      "[CV 5/5] END ................C=15, gamma=0.0008;, score=0.469 total time=   3.2s\n",
      "[CV 1/5] END .................C=15, gamma=0.001;, score=0.492 total time=   3.6s\n",
      "[CV 2/5] END .................C=15, gamma=0.001;, score=0.460 total time=   3.9s\n",
      "[CV 3/5] END .................C=15, gamma=0.001;, score=0.464 total time=   3.7s\n",
      "[CV 4/5] END .................C=15, gamma=0.001;, score=0.448 total time=   3.6s\n",
      "[CV 5/5] END .................C=15, gamma=0.001;, score=0.469 total time=   3.9s\n",
      "[CV 1/5] END ................C=15, gamma=0.0015;, score=0.494 total time=   3.9s\n",
      "[CV 2/5] END ................C=15, gamma=0.0015;, score=0.456 total time=   4.1s\n",
      "[CV 3/5] END ................C=15, gamma=0.0015;, score=0.466 total time=   4.0s\n",
      "[CV 4/5] END ................C=15, gamma=0.0015;, score=0.470 total time=   3.6s\n",
      "[CV 5/5] END ................C=15, gamma=0.0015;, score=0.487 total time=   4.1s\n",
      "[CV 1/5] END ................C=15, gamma=0.0018;, score=0.472 total time=   3.8s\n",
      "[CV 2/5] END ................C=15, gamma=0.0018;, score=0.456 total time=   4.4s\n",
      "[CV 3/5] END ................C=15, gamma=0.0018;, score=0.456 total time=   4.1s\n",
      "[CV 4/5] END ................C=15, gamma=0.0018;, score=0.458 total time=   4.2s\n",
      "[CV 5/5] END ................C=15, gamma=0.0018;, score=0.477 total time=   3.9s\n"
     ]
    },
    {
     "data": {
      "text/plain": [
       "GridSearchCV(cv=5, estimator=SVC(),\n",
       "             param_grid={'C': [1, 3, 6, 10, 15],\n",
       "                         'gamma': ['auto', 0.0008, 0.001, 0.0015, 0.0018]},\n",
       "             verbose=3)"
      ]
     },
     "execution_count": 43,
     "metadata": {},
     "output_type": "execute_result"
    }
   ],
   "source": [
    "svm_wos.fit(X_train, y_train)"
   ]
  },
  {
   "cell_type": "code",
   "execution_count": 44,
   "id": "79542ab9",
   "metadata": {
    "id": "79542ab9"
   },
   "outputs": [
    {
     "name": "stdout",
     "output_type": "stream",
     "text": [
      "Best Model: SVC(C=15, gamma=0.0015)\n",
      "Best CV Score: 0.47459478957915835\n"
     ]
    }
   ],
   "source": [
    "print(\"Best Model:\", svm_wos.best_estimator_)\n",
    "print(\"Best CV Score:\", svm_wos.best_score_)"
   ]
  },
  {
   "cell_type": "markdown",
   "id": "87c05632",
   "metadata": {},
   "source": [
    "#### All result score CV from tuning parameter SVM"
   ]
  },
  {
   "cell_type": "code",
   "execution_count": 45,
   "id": "8395f188",
   "metadata": {
    "id": "8395f188",
    "scrolled": true
   },
   "outputs": [
    {
     "data": {
      "text/html": [
       "<div>\n",
       "<style scoped>\n",
       "    .dataframe tbody tr th:only-of-type {\n",
       "        vertical-align: middle;\n",
       "    }\n",
       "\n",
       "    .dataframe tbody tr th {\n",
       "        vertical-align: top;\n",
       "    }\n",
       "\n",
       "    .dataframe thead th {\n",
       "        text-align: right;\n",
       "    }\n",
       "</style>\n",
       "<table border=\"1\" class=\"dataframe\">\n",
       "  <thead>\n",
       "    <tr style=\"text-align: right;\">\n",
       "      <th></th>\n",
       "      <th>params</th>\n",
       "      <th>rank_test_score</th>\n",
       "      <th>mean_test_score</th>\n",
       "      <th>std_test_score</th>\n",
       "    </tr>\n",
       "    <tr>\n",
       "      <th>kernel</th>\n",
       "      <th></th>\n",
       "      <th></th>\n",
       "      <th></th>\n",
       "      <th></th>\n",
       "    </tr>\n",
       "  </thead>\n",
       "  <tbody>\n",
       "    <tr>\n",
       "      <th>15_0.0015</th>\n",
       "      <td>{'C': 15, 'gamma': 0.0015}</td>\n",
       "      <td>1</td>\n",
       "      <td>0.474595</td>\n",
       "      <td>0.013932</td>\n",
       "    </tr>\n",
       "    <tr>\n",
       "      <th>15_auto</th>\n",
       "      <td>{'C': 15, 'gamma': 'auto'}</td>\n",
       "      <td>2</td>\n",
       "      <td>0.472591</td>\n",
       "      <td>0.010457</td>\n",
       "    </tr>\n",
       "    <tr>\n",
       "      <th>6_0.0015</th>\n",
       "      <td>{'C': 6, 'gamma': 0.0015}</td>\n",
       "      <td>3</td>\n",
       "      <td>0.472192</td>\n",
       "      <td>0.007324</td>\n",
       "    </tr>\n",
       "    <tr>\n",
       "      <th>10_0.001</th>\n",
       "      <td>{'C': 10, 'gamma': 0.001}</td>\n",
       "      <td>4</td>\n",
       "      <td>0.471793</td>\n",
       "      <td>0.012712</td>\n",
       "    </tr>\n",
       "    <tr>\n",
       "      <th>6_auto</th>\n",
       "      <td>{'C': 6, 'gamma': 'auto'}</td>\n",
       "      <td>5</td>\n",
       "      <td>0.470990</td>\n",
       "      <td>0.011132</td>\n",
       "    </tr>\n",
       "    <tr>\n",
       "      <th>6_0.001</th>\n",
       "      <td>{'C': 6, 'gamma': 0.001}</td>\n",
       "      <td>6</td>\n",
       "      <td>0.470592</td>\n",
       "      <td>0.006964</td>\n",
       "    </tr>\n",
       "    <tr>\n",
       "      <th>10_0.0015</th>\n",
       "      <td>{'C': 10, 'gamma': 0.0015}</td>\n",
       "      <td>7</td>\n",
       "      <td>0.469793</td>\n",
       "      <td>0.012805</td>\n",
       "    </tr>\n",
       "    <tr>\n",
       "      <th>10_auto</th>\n",
       "      <td>{'C': 10, 'gamma': 'auto'}</td>\n",
       "      <td>8</td>\n",
       "      <td>0.469391</td>\n",
       "      <td>0.013164</td>\n",
       "    </tr>\n",
       "    <tr>\n",
       "      <th>6_0.0008</th>\n",
       "      <td>{'C': 6, 'gamma': 0.0008}</td>\n",
       "      <td>9</td>\n",
       "      <td>0.466592</td>\n",
       "      <td>0.007350</td>\n",
       "    </tr>\n",
       "    <tr>\n",
       "      <th>15_0.001</th>\n",
       "      <td>{'C': 15, 'gamma': 0.001}</td>\n",
       "      <td>10</td>\n",
       "      <td>0.466588</td>\n",
       "      <td>0.014470</td>\n",
       "    </tr>\n",
       "    <tr>\n",
       "      <th>10_0.0008</th>\n",
       "      <td>{'C': 10, 'gamma': 0.0008}</td>\n",
       "      <td>11</td>\n",
       "      <td>0.464990</td>\n",
       "      <td>0.011018</td>\n",
       "    </tr>\n",
       "    <tr>\n",
       "      <th>10_0.0018</th>\n",
       "      <td>{'C': 10, 'gamma': 0.0018}</td>\n",
       "      <td>12</td>\n",
       "      <td>0.464191</td>\n",
       "      <td>0.009629</td>\n",
       "    </tr>\n",
       "    <tr>\n",
       "      <th>15_0.0018</th>\n",
       "      <td>{'C': 15, 'gamma': 0.0018}</td>\n",
       "      <td>13</td>\n",
       "      <td>0.463791</td>\n",
       "      <td>0.008895</td>\n",
       "    </tr>\n",
       "    <tr>\n",
       "      <th>15_0.0008</th>\n",
       "      <td>{'C': 15, 'gamma': 0.0008}</td>\n",
       "      <td>14</td>\n",
       "      <td>0.461388</td>\n",
       "      <td>0.012667</td>\n",
       "    </tr>\n",
       "    <tr>\n",
       "      <th>3_0.0015</th>\n",
       "      <td>{'C': 3, 'gamma': 0.0015}</td>\n",
       "      <td>15</td>\n",
       "      <td>0.460188</td>\n",
       "      <td>0.007896</td>\n",
       "    </tr>\n",
       "    <tr>\n",
       "      <th>6_0.0018</th>\n",
       "      <td>{'C': 6, 'gamma': 0.0018}</td>\n",
       "      <td>16</td>\n",
       "      <td>0.459389</td>\n",
       "      <td>0.009184</td>\n",
       "    </tr>\n",
       "    <tr>\n",
       "      <th>3_0.001</th>\n",
       "      <td>{'C': 3, 'gamma': 0.001}</td>\n",
       "      <td>17</td>\n",
       "      <td>0.458181</td>\n",
       "      <td>0.005016</td>\n",
       "    </tr>\n",
       "    <tr>\n",
       "      <th>3_auto</th>\n",
       "      <td>{'C': 3, 'gamma': 'auto'}</td>\n",
       "      <td>18</td>\n",
       "      <td>0.457785</td>\n",
       "      <td>0.005292</td>\n",
       "    </tr>\n",
       "    <tr>\n",
       "      <th>3_0.0018</th>\n",
       "      <td>{'C': 3, 'gamma': 0.0018}</td>\n",
       "      <td>19</td>\n",
       "      <td>0.454184</td>\n",
       "      <td>0.008391</td>\n",
       "    </tr>\n",
       "    <tr>\n",
       "      <th>3_0.0008</th>\n",
       "      <td>{'C': 3, 'gamma': 0.0008}</td>\n",
       "      <td>20</td>\n",
       "      <td>0.449778</td>\n",
       "      <td>0.005096</td>\n",
       "    </tr>\n",
       "    <tr>\n",
       "      <th>1_0.0018</th>\n",
       "      <td>{'C': 1, 'gamma': 0.0018}</td>\n",
       "      <td>21</td>\n",
       "      <td>0.378553</td>\n",
       "      <td>0.011534</td>\n",
       "    </tr>\n",
       "    <tr>\n",
       "      <th>1_0.0015</th>\n",
       "      <td>{'C': 1, 'gamma': 0.0015}</td>\n",
       "      <td>22</td>\n",
       "      <td>0.375752</td>\n",
       "      <td>0.014549</td>\n",
       "    </tr>\n",
       "    <tr>\n",
       "      <th>1_auto</th>\n",
       "      <td>{'C': 1, 'gamma': 'auto'}</td>\n",
       "      <td>23</td>\n",
       "      <td>0.370148</td>\n",
       "      <td>0.010202</td>\n",
       "    </tr>\n",
       "    <tr>\n",
       "      <th>1_0.001</th>\n",
       "      <td>{'C': 1, 'gamma': 0.001}</td>\n",
       "      <td>24</td>\n",
       "      <td>0.353339</td>\n",
       "      <td>0.015323</td>\n",
       "    </tr>\n",
       "    <tr>\n",
       "      <th>1_0.0008</th>\n",
       "      <td>{'C': 1, 'gamma': 0.0008}</td>\n",
       "      <td>25</td>\n",
       "      <td>0.342939</td>\n",
       "      <td>0.012747</td>\n",
       "    </tr>\n",
       "  </tbody>\n",
       "</table>\n",
       "</div>"
      ],
      "text/plain": [
       "                               params  rank_test_score  mean_test_score  \\\n",
       "kernel                                                                    \n",
       "15_0.0015  {'C': 15, 'gamma': 0.0015}                1         0.474595   \n",
       "15_auto    {'C': 15, 'gamma': 'auto'}                2         0.472591   \n",
       "6_0.0015    {'C': 6, 'gamma': 0.0015}                3         0.472192   \n",
       "10_0.001    {'C': 10, 'gamma': 0.001}                4         0.471793   \n",
       "6_auto      {'C': 6, 'gamma': 'auto'}                5         0.470990   \n",
       "6_0.001      {'C': 6, 'gamma': 0.001}                6         0.470592   \n",
       "10_0.0015  {'C': 10, 'gamma': 0.0015}                7         0.469793   \n",
       "10_auto    {'C': 10, 'gamma': 'auto'}                8         0.469391   \n",
       "6_0.0008    {'C': 6, 'gamma': 0.0008}                9         0.466592   \n",
       "15_0.001    {'C': 15, 'gamma': 0.001}               10         0.466588   \n",
       "10_0.0008  {'C': 10, 'gamma': 0.0008}               11         0.464990   \n",
       "10_0.0018  {'C': 10, 'gamma': 0.0018}               12         0.464191   \n",
       "15_0.0018  {'C': 15, 'gamma': 0.0018}               13         0.463791   \n",
       "15_0.0008  {'C': 15, 'gamma': 0.0008}               14         0.461388   \n",
       "3_0.0015    {'C': 3, 'gamma': 0.0015}               15         0.460188   \n",
       "6_0.0018    {'C': 6, 'gamma': 0.0018}               16         0.459389   \n",
       "3_0.001      {'C': 3, 'gamma': 0.001}               17         0.458181   \n",
       "3_auto      {'C': 3, 'gamma': 'auto'}               18         0.457785   \n",
       "3_0.0018    {'C': 3, 'gamma': 0.0018}               19         0.454184   \n",
       "3_0.0008    {'C': 3, 'gamma': 0.0008}               20         0.449778   \n",
       "1_0.0018    {'C': 1, 'gamma': 0.0018}               21         0.378553   \n",
       "1_0.0015    {'C': 1, 'gamma': 0.0015}               22         0.375752   \n",
       "1_auto      {'C': 1, 'gamma': 'auto'}               23         0.370148   \n",
       "1_0.001      {'C': 1, 'gamma': 0.001}               24         0.353339   \n",
       "1_0.0008    {'C': 1, 'gamma': 0.0008}               25         0.342939   \n",
       "\n",
       "           std_test_score  \n",
       "kernel                     \n",
       "15_0.0015        0.013932  \n",
       "15_auto          0.010457  \n",
       "6_0.0015         0.007324  \n",
       "10_0.001         0.012712  \n",
       "6_auto           0.011132  \n",
       "6_0.001          0.006964  \n",
       "10_0.0015        0.012805  \n",
       "10_auto          0.013164  \n",
       "6_0.0008         0.007350  \n",
       "15_0.001         0.014470  \n",
       "10_0.0008        0.011018  \n",
       "10_0.0018        0.009629  \n",
       "15_0.0018        0.008895  \n",
       "15_0.0008        0.012667  \n",
       "3_0.0015         0.007896  \n",
       "6_0.0018         0.009184  \n",
       "3_0.001          0.005016  \n",
       "3_auto           0.005292  \n",
       "3_0.0018         0.008391  \n",
       "3_0.0008         0.005096  \n",
       "1_0.0018         0.011534  \n",
       "1_0.0015         0.014549  \n",
       "1_auto           0.010202  \n",
       "1_0.001          0.015323  \n",
       "1_0.0008         0.012747  "
      ]
     },
     "execution_count": 45,
     "metadata": {},
     "output_type": "execute_result"
    }
   ],
   "source": [
    "cv_results_df = pd.DataFrame(svm_wos.cv_results_)\n",
    "cv_results_df = cv_results_df.sort_values(by=['rank_test_score'])\n",
    "cv_results_df = (\n",
    "    cv_results_df\n",
    "    .set_index(cv_results_df[\"params\"].apply(\n",
    "        lambda x: \"_\".join(str(val) for val in x.values()))\n",
    "    )\n",
    "    .rename_axis('kernel')\n",
    ")\n",
    "cv_results_df[\n",
    "    ['params', 'rank_test_score', 'mean_test_score', 'std_test_score']\n",
    "]"
   ]
  },
  {
   "cell_type": "markdown",
   "id": "4b85824c",
   "metadata": {},
   "source": [
    "#### Save model"
   ]
  },
  {
   "cell_type": "code",
   "execution_count": 46,
   "id": "d6ceb411",
   "metadata": {},
   "outputs": [],
   "source": [
    "# Just save model for future used\n",
    "save_file_pickle(SVM_WOS_FILE_PICKLE)"
   ]
  },
  {
   "cell_type": "markdown",
   "id": "355a06c4",
   "metadata": {},
   "source": [
    "### Predict Data Testing\n",
    "\n",
    "Using SVC(C=10, gamma=0.0015)"
   ]
  },
  {
   "cell_type": "code",
   "execution_count": 47,
   "id": "036f5044",
   "metadata": {
    "id": "036f5044"
   },
   "outputs": [],
   "source": [
    "y_pred = svm_wos.predict(X_test)"
   ]
  },
  {
   "cell_type": "code",
   "execution_count": null,
   "id": "054cc98c",
   "metadata": {},
   "outputs": [],
   "source": [
    "test = svm_wos.predict_proba(np.reshape(X_test[0], (1, -1)))\n",
    "test"
   ]
  },
  {
   "cell_type": "markdown",
   "id": "850bd0cd",
   "metadata": {},
   "source": [
    "#### Heatmap result predict"
   ]
  },
  {
   "cell_type": "code",
   "execution_count": 48,
   "id": "7a993651",
   "metadata": {},
   "outputs": [
    {
     "data": {
      "image/png": "[encoded data removed]",
      "text/plain": [
       "<Figure size 1224x792 with 1 Axes>"
      ]
     },
     "metadata": {
      "needs_background": "light"
     },
     "output_type": "display_data"
    }
   ],
   "source": [
    "conf_wos = pd.DataFrame(confusion_matrix(y_test, y_pred), columns=hanacaraka, index=hanacaraka)\n",
    "\n",
    "plt.figure(figsize=(17,11))\n",
    "\n",
    "res = sns.heatmap(conf_wos, annot=True, fmt=\"g\", cmap=\"Blues\", cbar=False)\n",
    "res.set_yticklabels(res.get_ymajorticklabels(), fontsize = 14)\n",
    "res.set_xticklabels(res.get_xmajorticklabels(), fontsize = 14)\n",
    "\n",
    "plt.xlabel(\"Predicted\")\n",
    "plt.ylabel(\"Actual\")\n",
    "plt.title(\"Confusion Matrix Plot\")\n",
    "plt.show()"
   ]
  },
  {
   "cell_type": "code",
   "execution_count": 49,
   "id": "56899d27",
   "metadata": {
    "id": "56899d27",
    "outputId": "6e192d60-aea8-41d1-f2fb-0d3f7724b060"
   },
   "outputs": [
    {
     "name": "stdout",
     "output_type": "stream",
     "text": [
      "Classification report result:\n",
      "              precision    recall  f1-score   support\n",
      "\n",
      "          ba       0.41      0.57      0.48        21\n",
      "          ca       0.37      0.38      0.38        26\n",
      "          da       0.45      0.39      0.42        23\n",
      "         dha       0.68      0.54      0.60        28\n",
      "          ga       0.76      0.80      0.78        20\n",
      "          ha       0.40      0.63      0.49        19\n",
      "          ja       0.50      0.46      0.48        13\n",
      "          ka       0.47      0.50      0.48        28\n",
      "          la       0.43      0.36      0.39        25\n",
      "          ma       0.62      0.45      0.53        22\n",
      "          na       0.33      0.35      0.34        20\n",
      "         nga       0.67      0.86      0.75        21\n",
      "         nya       0.51      0.86      0.64        21\n",
      "          pa       0.43      0.50      0.46        18\n",
      "          ra       0.90      0.79      0.84        24\n",
      "          sa       0.43      0.40      0.42        25\n",
      "          ta       0.47      0.28      0.35        25\n",
      "         tha       0.65      0.59      0.62        22\n",
      "          wa       0.35      0.29      0.32        21\n",
      "          ya       0.77      0.53      0.62        19\n",
      "\n",
      "    accuracy                           0.52       441\n",
      "   macro avg       0.53      0.53      0.52       441\n",
      "weighted avg       0.53      0.52      0.52       441\n",
      "\n"
     ]
    }
   ],
   "source": [
    "class_rep_wos = classification_report(y_test, y_pred)\n",
    "\n",
    "print(\"Classification report result:\")\n",
    "print(class_rep_wos)"
   ]
  },
  {
   "cell_type": "markdown",
   "id": "73fb7524",
   "metadata": {},
   "source": [
    "### Result Accuracy Score for SVM without SIFT"
   ]
  },
  {
   "cell_type": "code",
   "execution_count": 50,
   "id": "468eb23b",
   "metadata": {},
   "outputs": [
    {
     "name": "stdout",
     "output_type": "stream",
     "text": [
      "Accuracy score: 0.5215419501133787\n"
     ]
    }
   ],
   "source": [
    "acc_wos = accuracy_score(y_test, y_pred)\n",
    "print(\"Accuracy score:\", acc_wos)"
   ]
  },
  {
   "cell_type": "markdown",
   "id": "bb8002b5",
   "metadata": {},
   "source": [
    "# Note for Result SVM Without WIFT"
   ]
  },
  {
   "cell_type": "markdown",
   "id": "e4cdaef0",
   "metadata": {
    "id": "e4cdaef0"
   },
   "source": [
    "### Result:\n",
    "\n",
    "- Img = (25,25), SVM = 0.57\n",
    "- Img = (28,28), SVM = 0.51\n",
    "- Img = (32,32), SVM = 0.54\n",
    "- Img = (64,64), SVM = 0.45"
   ]
  },
  {
   "cell_type": "markdown",
   "id": "d7a81950",
   "metadata": {
    "id": "fb4ee024"
   },
   "source": [
    "# SVM With SIFT vs SVM Without SIFT Comparison"
   ]
  },
  {
   "cell_type": "code",
   "execution_count": 51,
   "id": "679ade71",
   "metadata": {},
   "outputs": [
    {
     "data": {
      "text/html": [
       "<div>\n",
       "<style scoped>\n",
       "    .dataframe tbody tr th:only-of-type {\n",
       "        vertical-align: middle;\n",
       "    }\n",
       "\n",
       "    .dataframe tbody tr th {\n",
       "        vertical-align: top;\n",
       "    }\n",
       "\n",
       "    .dataframe thead th {\n",
       "        text-align: right;\n",
       "    }\n",
       "</style>\n",
       "<table border=\"1\" class=\"dataframe\">\n",
       "  <thead>\n",
       "    <tr style=\"text-align: right;\">\n",
       "      <th></th>\n",
       "      <th>Model_SVM</th>\n",
       "      <th>Accuracy</th>\n",
       "    </tr>\n",
       "  </thead>\n",
       "  <tbody>\n",
       "    <tr>\n",
       "      <th>0</th>\n",
       "      <td>Without SIFT</td>\n",
       "      <td>0.521542</td>\n",
       "    </tr>\n",
       "    <tr>\n",
       "      <th>1</th>\n",
       "      <td>With SIFT</td>\n",
       "      <td>0.954649</td>\n",
       "    </tr>\n",
       "  </tbody>\n",
       "</table>\n",
       "</div>"
      ],
      "text/plain": [
       "      Model_SVM  Accuracy\n",
       "0  Without SIFT  0.521542\n",
       "1     With SIFT  0.954649"
      ]
     },
     "execution_count": 51,
     "metadata": {},
     "output_type": "execute_result"
    }
   ],
   "source": [
    "compare_df = pd.DataFrame({\"Model_SVM\": [\"Without SIFT\", \"With SIFT\"],\n",
    "                          \"Accuracy\": [acc_wos, acc_ws]})\n",
    "\n",
    "compare_df"
   ]
  },
  {
   "cell_type": "code",
   "execution_count": 52,
   "id": "eb357b2f",
   "metadata": {},
   "outputs": [
    {
     "data": {
      "image/png": "[encoded data removed]",
      "text/plain": [
       "<Figure size 432x360 with 1 Axes>"
      ]
     },
     "metadata": {
      "needs_background": "light"
     },
     "output_type": "display_data"
    }
   ],
   "source": [
    "fig, ax = plt.subplots(figsize=(6, 5))\n",
    "\n",
    "sns.barplot(x = 'Model_SVM',\n",
    "            y = 'Accuracy',\n",
    "            data = compare_df,\n",
    "            ax=ax,\n",
    "            color='yellow')\n",
    "\n",
    "ax.bar_label(ax.containers[-1], fmt='acc:\\n%.2f', label_type='center')\n",
    "ax.set(ylabel='Accuracy', xlabel='Model SVM', title=\"Comparation Accuracy SVM With SIFT vs Without SIFT\")\n",
    "\n",
    "plt.show()"
   ]
  },
  {
   "cell_type": "markdown",
   "id": "0a46bb40",
   "metadata": {},
   "source": [
    "# Predict From Input File"
   ]
  },
  {
   "cell_type": "code",
   "execution_count": 53,
   "id": "eeb0d616",
   "metadata": {},
   "outputs": [
    {
     "data": {
      "application/vnd.jupyter.widget-view+json": {
       "model_id": "cbefa2a79210464e83ffac97f6c310e3",
       "version_major": 2,
       "version_minor": 0
      },
      "text/plain": [
       "Button(description='File select', style=ButtonStyle())"
      ]
     },
     "metadata": {},
     "output_type": "display_data"
    }
   ],
   "source": [
    "from ipywidgets import Button\n",
    "from tkinter import Tk, filedialog\n",
    "from IPython.display import clear_output, display\n",
    "\n",
    "# Load file ==================================================================================\n",
    "def import_image(file) :\n",
    "    image = cv2.imread(file)\n",
    "    image = cv2.bitwise_not(image)\n",
    "    return image\n",
    "# ============================================================================================\n",
    "# Preprocessing Image ========================================================================\n",
    "def equalizing(img):\n",
    "    img = cv2.equalizeHist(img)\n",
    "    return img\n",
    "\n",
    "def grayscaling(image):\n",
    "    image = cv2.cvtColor(image, cv2.COLOR_RGB2GRAY)\n",
    "    return image\n",
    "\n",
    "def resizing(image, size):\n",
    "    image = cv2.resize(image, (size, size), interpolation = cv2.INTER_AREA)\n",
    "    return image\n",
    "\n",
    "def prep_image(image):\n",
    "    img = resizing(image, 128)\n",
    "    img = grayscaling(img)\n",
    "    img = equalizing(img)\n",
    "    return img\n",
    "# ============================================================================================\n",
    "# Feature Extraction =========================================================================\n",
    "def extract_sift_descriptor(image):\n",
    "    sift = cv2.SIFT_create()\n",
    "    _, descriptor = sift.detectAndCompute(image, None)\n",
    "    return descriptor\n",
    "\n",
    "def create_feature_bow(image_descriptor, bow, num_cluster):\n",
    "    features = np.array([0] * num_cluster, dtype=float)\n",
    "\n",
    "    if image_descriptor is not None:\n",
    "        distance = cdist(image_descriptor, bow)\n",
    "        argmin = np.argmin(distance, axis = 1)\n",
    "        \n",
    "        for j in argmin:\n",
    "            features[j] += 1.0\n",
    "\n",
    "    return np.array(features)\n",
    "\n",
    "def extract_feature(image):\n",
    "    img_descriptor = extract_sift_descriptor(image)\n",
    "    \n",
    "    num_cluster = 500\n",
    "    bow = load_file_pickle(BOW_FILE_PICKLE)\n",
    "    \n",
    "    img_feature = create_feature_bow(img_descriptor, bow, num_cluster)\n",
    "    return img_feature\n",
    "# ============================================================================================\n",
    "# Prediction Process =========================================================================\n",
    "def predict_image(feature):\n",
    "    scaler = load_file_pickle(SCALER_WS_FILE_PICKLE)\n",
    "    feature_scale = scaler.transform([feature])\n",
    "    \n",
    "    svm_model = load_file_pickle(SVM_WS_FILE_PICKLE)\n",
    "    result_predict = svm_model.predict(feature_scale)\n",
    "    return result_predict\n",
    "# ============================================================================================\n",
    "# Open widget laod file ======================================================================\n",
    "def select_files(b):\n",
    "    clear_output()\n",
    "    root = Tk()\n",
    "    root.withdraw() \n",
    "    root.call('wm', 'attributes', '.', '-topmost', True)\n",
    "    \n",
    "    b.files = filedialog.askopenfilename(multiple=True) \n",
    "    print(b.files[0])\n",
    "    processing_files(b.files[0])\n",
    "# ============================================================================================\n",
    "# Open widget laod file ======================================================================\n",
    "def processing_files(file):\n",
    "    img = import_image(file)\n",
    "    plt.imshow(img, cmap='gray', vmin=0, vmax=255)\n",
    "    img = prep_image(img)\n",
    "    \n",
    "    img_feature = extract_feature(img)\n",
    "    result_predict = predict_image(img_feature)\n",
    "    print(\"Result Class Prediction :\", result_predict)\n",
    "# ============================================================================================\n",
    "\n",
    "fileselect = Button(description=\"File select\")\n",
    "fileselect.on_click(select_files)\n",
    "\n",
    "display(fileselect)"
   ]
  },
  {
   "cell_type": "code",
   "execution_count": null,
   "id": "1732e305",
   "metadata": {},
   "outputs": [],
   "source": []
  }
 ],
 "metadata": {
  "colab": {
   "collapsed_sections": [
    "863fce53",
    "fe36a378",
    "e4cdaef0"
   ],
   "name": "campuran-SIFT.ipynb",
   "provenance": []
  },
  "interpreter": {
   "hash": "f926a665ec17605cd740381014cbbfd1a55a559b2003ed53df37a047c2ed5e7a"
  },
  "kernelspec": {
   "display_name": "Python 3.7.11 ('skripsi')",
   "language": "python",
   "name": "python3"
  },
  "language_info": {
   "codemirror_mode": {
    "name": "ipython",
    "version": 3
   },
   "file_extension": ".py",
   "mimetype": "text/x-python",
   "name": "python",
   "nbconvert_exporter": "python",
   "pygments_lexer": "ipython3",
   "version": "3.7.11"
  }
 },
 "nbformat": 4,
 "nbformat_minor": 5
}
