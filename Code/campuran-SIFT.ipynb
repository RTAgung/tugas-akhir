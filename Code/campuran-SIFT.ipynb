{
 "cells": [
  {
   "cell_type": "markdown",
   "id": "a4f194f9",
   "metadata": {
    "id": "a4f194f9"
   },
   "source": [
    "# Import Library"
   ]
  },
  {
   "cell_type": "code",
   "execution_count": 1,
   "id": "87c0a897",
   "metadata": {
    "executionInfo": {
     "elapsed": 2215,
     "status": "ok",
     "timestamp": 1648212064557,
     "user": {
      "displayName": "Rama Tri Agung",
      "photoUrl": "https://lh3.googleusercontent.com/a-/AOh14GhO5MpcihqCafTv8Tf9MUwRyHV6tO2uPdiXma2V=s64",
      "userId": "07374601175312417068"
     },
     "user_tz": -420
    },
    "id": "87c0a897"
   },
   "outputs": [],
   "source": [
    "# load data\n",
    "import os\n",
    "\n",
    "# computing\n",
    "import numpy as np\n",
    "import pandas as pd\n",
    "\n",
    "# visualization\n",
    "import matplotlib.pyplot as plt\n",
    "import seaborn as sns\n",
    "\n",
    "# feature extraction\n",
    "import cv2\n",
    "from scipy.spatial.distance import cdist\n",
    "from sklearn.cluster import KMeans\n",
    "\n",
    "# modelling\n",
    "from sklearn.preprocessing import StandardScaler\n",
    "from sklearn.model_selection import train_test_split\n",
    "from sklearn.svm import SVC\n",
    "from sklearn.model_selection import GridSearchCV\n",
    "\n",
    "# evalutaion\n",
    "from sklearn.metrics import classification_report, confusion_matrix, accuracy_score\n",
    "\n",
    "# load/save model\n",
    "import pickle"
   ]
  },
  {
   "cell_type": "markdown",
   "id": "3d041a7a",
   "metadata": {},
   "source": [
    "### Define common pickle method"
   ]
  },
  {
   "cell_type": "code",
   "execution_count": 2,
   "id": "72edab2e",
   "metadata": {},
   "outputs": [],
   "source": [
    "def load_file_pickle(filename):\n",
    "    file_pickle = pickle.load(open(filename, 'rb'))\n",
    "    return file_pickle\n",
    "\n",
    "def save_file_pickle(data, filename):\n",
    "    pickle.dump(data, open(filename, 'wb'))"
   ]
  },
  {
   "cell_type": "markdown",
   "id": "c18569d6",
   "metadata": {},
   "source": [
    "#### Constant variable"
   ]
  },
  {
   "cell_type": "code",
   "execution_count": 3,
   "id": "13afcbc7",
   "metadata": {},
   "outputs": [],
   "source": [
    "BOW_FILE_PICKLE = \"bow_dictionary.pkl\"\n",
    "SCALER_WS_FILE_PICKLE = \"scaler_with_sift.pkl\"\n",
    "SCALER_WOS_FILE_PICKLE = \"scaler_without_sift.pkl\"\n",
    "SVM_WS_FILE_PICKLE = \"svm_with_sift_model.pkl\"\n",
    "SVM_WOS_FILE_PICKLE = \"svm_without_sift_model.pkl\""
   ]
  },
  {
   "cell_type": "markdown",
   "id": "597f2f85",
   "metadata": {
    "id": "597f2f85"
   },
   "source": [
    "# Load Data\n",
    "\n",
    "- input: -\n",
    "- output: `raw_X, raw_y`"
   ]
  },
  {
   "cell_type": "code",
   "execution_count": 4,
   "id": "c3306d58",
   "metadata": {
    "executionInfo": {
     "elapsed": 5,
     "status": "ok",
     "timestamp": 1648212064558,
     "user": {
      "displayName": "Rama Tri Agung",
      "photoUrl": "https://lh3.googleusercontent.com/a-/AOh14GhO5MpcihqCafTv8Tf9MUwRyHV6tO2uPdiXma2V=s64",
      "userId": "07374601175312417068"
     },
     "user_tz": -420
    },
    "id": "c3306d58"
   },
   "outputs": [],
   "source": [
    "# ukurang gambar 224x224\n",
    "def import_image(file) :\n",
    "    image = cv2.imread(file)\n",
    "    image = cv2.bitwise_not(image)\n",
    "    return image\n",
    "\n",
    "def label_image(character, length) :\n",
    "    array = np.full(length, character)\n",
    "    return array\n",
    "\n",
    "def import_data(character, path) :\n",
    "    file_path = os.listdir(path)\n",
    "    images = np.array([import_image(path + '/' + file) for file in file_path])\n",
    "    label = label_image(character, len(file_path))\n",
    "    \n",
    "    return images, label"
   ]
  },
  {
   "cell_type": "code",
   "execution_count": 5,
   "id": "f0f02ffc",
   "metadata": {
    "colab": {
     "base_uri": "https://localhost:8080/"
    },
    "executionInfo": {
     "elapsed": 2631,
     "status": "ok",
     "timestamp": 1648212067185,
     "user": {
      "displayName": "Rama Tri Agung",
      "photoUrl": "https://lh3.googleusercontent.com/a-/AOh14GhO5MpcihqCafTv8Tf9MUwRyHV6tO2uPdiXma2V=s64",
      "userId": "07374601175312417068"
     },
     "user_tz": -420
    },
    "id": "f0f02ffc",
    "outputId": "d80e2c33-9158-4418-ac4d-28d95e7910ed",
    "scrolled": false
   },
   "outputs": [
    {
     "name": "stdout",
     "output_type": "stream",
     "text": [
      "Size of ba : 21\n",
      "Size of ca : 21\n",
      "Size of da : 21\n",
      "Size of dha : 21\n",
      "Size of ga : 21\n",
      "Size of ha : 21\n",
      "Size of ja : 21\n",
      "Size of ka : 21\n",
      "Size of la : 21\n",
      "Size of ma : 21\n",
      "Size of na : 21\n",
      "Size of nga : 21\n",
      "Size of nya : 21\n",
      "Size of pa : 21\n",
      "Size of ra : 21\n",
      "Size of sa : 21\n",
      "Size of ta : 21\n",
      "Size of tha : 21\n",
      "Size of wa : 21\n",
      "Size of ya : 21\n"
     ]
    }
   ],
   "source": [
    "hanacaraka = ('ba','ca','da','dha','ga','ha','ja','ka','la','ma','na','nga','nya','pa','ra','sa','ta','tha','wa','ya')\n",
    "\n",
    "raw_X = np.empty((0, 224, 224, 3), np.uint8)\n",
    "raw_y = np.empty((0))\n",
    "\n",
    "folder_path = \"../Dataset/campuran/\" # for local used\n",
    "# folder_path = \"drive/MyDrive/Skripsi/Repos/Dataset/campuran/\" # for drive used\n",
    "\n",
    "for character in hanacaraka:\n",
    "    dataset_path = folder_path + character\n",
    "\n",
    "    temp_X, temp_y = import_data(character, dataset_path)\n",
    "\n",
    "    print(\"Size of\", character, \":\", temp_X.shape[0])\n",
    "    \n",
    "    raw_X = np.append(raw_X, temp_X, axis=0)\n",
    "    raw_y = np.append(raw_y, temp_y, axis=0)\n"
   ]
  },
  {
   "cell_type": "code",
   "execution_count": 6,
   "id": "915ea983",
   "metadata": {
    "colab": {
     "base_uri": "https://localhost:8080/"
    },
    "executionInfo": {
     "elapsed": 8,
     "status": "ok",
     "timestamp": 1648212067186,
     "user": {
      "displayName": "Rama Tri Agung",
      "photoUrl": "https://lh3.googleusercontent.com/a-/AOh14GhO5MpcihqCafTv8Tf9MUwRyHV6tO2uPdiXma2V=s64",
      "userId": "07374601175312417068"
     },
     "user_tz": -420
    },
    "id": "915ea983",
    "outputId": "29a4aaba-face-4ba4-cd94-db52c3237c5c"
   },
   "outputs": [
    {
     "name": "stdout",
     "output_type": "stream",
     "text": [
      "Number of data: 420\n",
      "Image dimension: (224, 224, 3)\n"
     ]
    }
   ],
   "source": [
    "# Ukuran keseluruhan data\n",
    "print(\"Number of data:\", raw_X.shape[0])\n",
    "print(\"Image dimension:\", raw_X[0].shape)"
   ]
  },
  {
   "cell_type": "markdown",
   "id": "3eac7c8e",
   "metadata": {},
   "source": [
    "### Visualize Raw Data"
   ]
  },
  {
   "cell_type": "code",
   "execution_count": 7,
   "id": "27770ec6",
   "metadata": {},
   "outputs": [
    {
     "data": {
      "image/png": "[encoded data removed]",
      "text/plain": [
       "<Figure size 1152x288 with 8 Axes>"
      ]
     },
     "metadata": {
      "needs_background": "light"
     },
     "output_type": "display_data"
    }
   ],
   "source": [
    "np.random.seed(42)\n",
    "\n",
    "fig = plt.figure(figsize=(16, 4))\n",
    "columns = 8\n",
    "rows = 1\n",
    "for i in range(1, columns*rows + 1):\n",
    "    img = np.array(raw_X[np.random.randint(0, raw_X.shape[0]), :])\n",
    "    fig.add_subplot(rows, columns, i)\n",
    "    plt.imshow(img)\n",
    "    plt.axis('off')\n",
    "\n",
    "plt.show()"
   ]
  },
  {
   "cell_type": "markdown",
   "id": "8c0989ea",
   "metadata": {
    "id": "8c0989ea"
   },
   "source": [
    "# Augmantation & Preparation Data\n",
    "\n",
    "- input: `raw_X, raw_y`\n",
    "- output: `X, y`"
   ]
  },
  {
   "cell_type": "markdown",
   "id": "715480f5",
   "metadata": {},
   "source": [
    "List Augmented :\n",
    "1. Rotate 30 CCW\n",
    "2. Rotate 15 CCW + Zoom out\n",
    "3. Rotate 15 CW + Zoom out\n",
    "4. Rotate 30 CW\n",
    "5. Shear Left\n",
    "6. Shear Right\n",
    "7. Normal\n",
    "\n",
    "List Preprocessing :\n",
    "1. Resizing (128x128)\n",
    "2. Grayscaling\n",
    "3. Equalization"
   ]
  },
  {
   "cell_type": "markdown",
   "id": "a31b2f1b",
   "metadata": {},
   "source": [
    "### Augmented Method"
   ]
  },
  {
   "cell_type": "code",
   "execution_count": 8,
   "id": "953a1516",
   "metadata": {
    "executionInfo": {
     "elapsed": 394,
     "status": "ok",
     "timestamp": 1648212070221,
     "user": {
      "displayName": "Rama Tri Agung",
      "photoUrl": "https://lh3.googleusercontent.com/a-/AOh14GhO5MpcihqCafTv8Tf9MUwRyHV6tO2uPdiXma2V=s64",
      "userId": "07374601175312417068"
     },
     "user_tz": -420
    },
    "id": "953a1516"
   },
   "outputs": [],
   "source": [
    "# Augmented Method\n",
    "def rotate(img, degree):\n",
    "    (h, w) = img.shape[:2]\n",
    "    (cX, cY) = (w // 2, h // 2)\n",
    "    M = cv2.getRotationMatrix2D((cX, cY), degree, 1.0)\n",
    "    img_rotated = cv2.warpAffine(img, M, (w, h))\n",
    "    return img_rotated\n",
    "\n",
    "def zoom_out(img, zoom_scale):\n",
    "    img_zoom = np.zeros((img.shape[0], img.shape[1]), dtype=np.uint8)\n",
    "\n",
    "    h, w = img.shape[0]/zoom_scale, img.shape[1]/zoom_scale\n",
    "    h, w = int(h), int(w)\n",
    "    x, y = (img.shape[0]-w)//2, (img.shape[1]-h)//2\n",
    "    img_resize = cv2.resize(img, (h, w), interpolation = cv2.INTER_AREA)\n",
    "\n",
    "    img_zoom[x:w+x, y:h+y] = img_resize\n",
    "    return img_zoom\n",
    "\n",
    "def shear(img, x, y):\n",
    "    rows, cols = img.shape\n",
    "    M = np.float32([[1, x, 0],\n",
    "                    [y, 1, 0]])\n",
    "    sheared_img = cv2.warpAffine(img, M, (cols, rows))\n",
    "    return sheared_img"
   ]
  },
  {
   "cell_type": "markdown",
   "id": "fc7d84ad",
   "metadata": {},
   "source": [
    "### Image Preprocessing Method"
   ]
  },
  {
   "cell_type": "code",
   "execution_count": 9,
   "id": "bcecb3ab",
   "metadata": {},
   "outputs": [],
   "source": [
    "# Preprocessing Image\n",
    "def equalizing(img):\n",
    "    if (img.ndim == 3):\n",
    "        b, g, r = cv2.split(img)\n",
    "        red = cv2.equalizeHist(r)\n",
    "        green = cv2.equalizeHist(g)\n",
    "        blue = cv2.equalizeHist(b)\n",
    "        img = cv2.merge((blue, green, red))\n",
    "    else:\n",
    "        img = cv2.equalizeHist(img)\n",
    "    return img\n",
    "\n",
    "def grayscaling(image):\n",
    "    image = cv2.cvtColor(image, cv2.COLOR_RGB2GRAY)\n",
    "    return image\n",
    "\n",
    "def resizing(image, size):\n",
    "    image = cv2.resize(image, (size, size), interpolation = cv2.INTER_AREA)\n",
    "    return image"
   ]
  },
  {
   "cell_type": "code",
   "execution_count": 140,
   "id": "8b065983",
   "metadata": {
    "executionInfo": {
     "elapsed": 305,
     "status": "ok",
     "timestamp": 1648212071397,
     "user": {
      "displayName": "Rama Tri Agung",
      "photoUrl": "https://lh3.googleusercontent.com/a-/AOh14GhO5MpcihqCafTv8Tf9MUwRyHV6tO2uPdiXma2V=s64",
      "userId": "07374601175312417068"
     },
     "user_tz": -420
    },
    "id": "8b065983"
   },
   "outputs": [],
   "source": [
    "# Generate augmentation and preprocessing data\n",
    "size = 192\n",
    "def dataset_aug_generator_prep(ori_img, size):\n",
    "    ori_img = resizing(ori_img, size)\n",
    "    ori_img = grayscaling(ori_img)\n",
    "    \n",
    "    ori_img = zoom_out(ori_img, 1.15)\n",
    "    img_r_30_ccw = rotate(ori_img, 30)\n",
    "    img_r_30_cw = rotate(ori_img, -30)\n",
    "    img_r_15_ccw_z = rotate(zoom_out(ori_img, 1.3), 15)\n",
    "    img_r_15_cw_z = rotate(zoom_out(ori_img, 1.3), -15)\n",
    "    img_s_left = shear(ori_img, -0.15, -0.15)\n",
    "    img_s_right = shear(ori_img, 0.15, 0.15)\n",
    "    \n",
    "    result_aug = [ori_img, img_r_30_ccw, img_r_30_cw, img_r_15_ccw_z, img_r_15_cw_z, img_s_left, img_s_right]\n",
    "    for idx, item_img in enumerate(result_aug):\n",
    "        result_aug[idx] = equalizing(result_aug[idx])\n",
    "    return result_aug"
   ]
  },
  {
   "cell_type": "markdown",
   "id": "c28d56e5",
   "metadata": {},
   "source": [
    "#### test result image after generate augmentation and preprocessing"
   ]
  },
  {
   "cell_type": "code",
   "execution_count": 141,
   "id": "e77aab5c",
   "metadata": {
    "colab": {
     "base_uri": "https://localhost:8080/",
     "height": 140
    },
    "executionInfo": {
     "elapsed": 1370,
     "status": "ok",
     "timestamp": 1648212073146,
     "user": {
      "displayName": "Rama Tri Agung",
      "photoUrl": "https://lh3.googleusercontent.com/a-/AOh14GhO5MpcihqCafTv8Tf9MUwRyHV6tO2uPdiXma2V=s64",
      "userId": "07374601175312417068"
     },
     "user_tz": -420
    },
    "id": "e77aab5c",
    "outputId": "8f770d91-cf13-4abe-84d2-6f13b2515805"
   },
   "outputs": [
    {
     "data": {
      "image/png": "[encoded data removed]",
      "text/plain": [
       "<Figure size 1152x288 with 7 Axes>"
      ]
     },
     "metadata": {
      "needs_background": "light"
     },
     "output_type": "display_data"
    }
   ],
   "source": [
    "test_img_aug = dataset_aug_generator_prep(raw_X[0], size)\n",
    "\n",
    "fig = plt.figure(figsize=(16, 4))\n",
    "columns = 7\n",
    "rows = 1\n",
    "for i in range(1, columns*rows + 1):\n",
    "    img = test_img_aug[i-1]\n",
    "    fig.add_subplot(rows, columns, i)\n",
    "    plt.imshow(img, cmap='gray', vmin=0, vmax=255)\n",
    "    plt.axis('off')\n",
    "\n",
    "plt.show()"
   ]
  },
  {
   "cell_type": "markdown",
   "id": "64037862",
   "metadata": {},
   "source": [
    "## Generate Aug & Prep Image on All Raw Data"
   ]
  },
  {
   "cell_type": "code",
   "execution_count": 142,
   "id": "9727ec73",
   "metadata": {
    "executionInfo": {
     "elapsed": 25680,
     "status": "ok",
     "timestamp": 1648212099185,
     "user": {
      "displayName": "Rama Tri Agung",
      "photoUrl": "https://lh3.googleusercontent.com/a-/AOh14GhO5MpcihqCafTv8Tf9MUwRyHV6tO2uPdiXma2V=s64",
      "userId": "07374601175312417068"
     },
     "user_tz": -420
    },
    "id": "a988042b"
   },
   "outputs": [],
   "source": [
    "X = np.empty((0, size, size), np.uint8)\n",
    "y = np.empty((0))\n",
    "\n",
    "for idx, img in enumerate(raw_X):\n",
    "    img_aug = dataset_aug_generator_prep(img, size)\n",
    "    \n",
    "    for item_img in img_aug:\n",
    "        X = np.append(X, [item_img], axis=0)\n",
    "        y = np.append(y, [raw_y[idx]], axis=0)"
   ]
  },
  {
   "cell_type": "code",
   "execution_count": 143,
   "id": "dcb66785",
   "metadata": {
    "colab": {
     "base_uri": "https://localhost:8080/"
    },
    "executionInfo": {
     "elapsed": 7,
     "status": "ok",
     "timestamp": 1648212099186,
     "user": {
      "displayName": "Rama Tri Agung",
      "photoUrl": "https://lh3.googleusercontent.com/a-/AOh14GhO5MpcihqCafTv8Tf9MUwRyHV6tO2uPdiXma2V=s64",
      "userId": "07374601175312417068"
     },
     "user_tz": -420
    },
    "id": "dcb66785",
    "outputId": "cfa37274-95a8-4910-cd37-c86f5729ad31"
   },
   "outputs": [
    {
     "name": "stdout",
     "output_type": "stream",
     "text": [
      "Result X data dimension: (2940, 192, 192)\n",
      "Result y data dimension: (2940,)\n"
     ]
    }
   ],
   "source": [
    "print(\"Result X data dimension:\", X.shape)\n",
    "print(\"Result y data dimension:\", y.shape)"
   ]
  },
  {
   "cell_type": "markdown",
   "id": "be0b8d89",
   "metadata": {},
   "source": [
    "### Visualize Result Data"
   ]
  },
  {
   "cell_type": "code",
   "execution_count": 144,
   "id": "dad58e22",
   "metadata": {
    "colab": {
     "base_uri": "https://localhost:8080/",
     "height": 244
    },
    "executionInfo": {
     "elapsed": 974,
     "status": "ok",
     "timestamp": 1648212100155,
     "user": {
      "displayName": "Rama Tri Agung",
      "photoUrl": "https://lh3.googleusercontent.com/a-/AOh14GhO5MpcihqCafTv8Tf9MUwRyHV6tO2uPdiXma2V=s64",
      "userId": "07374601175312417068"
     },
     "user_tz": -420
    },
    "id": "dad58e22",
    "outputId": "f1c45b6a-2a6e-4021-84be-7e734c564a4a"
   },
   "outputs": [
    {
     "data": {
      "image/png": "[encoded data removed]",
      "text/plain": [
       "<Figure size 1152x288 with 8 Axes>"
      ]
     },
     "metadata": {
      "needs_background": "light"
     },
     "output_type": "display_data"
    }
   ],
   "source": [
    "np.random.seed(42)\n",
    "\n",
    "fig = plt.figure(figsize=(16, 4))\n",
    "columns = 8\n",
    "rows = 1\n",
    "for i in range(1, columns*rows + 1):\n",
    "    img = np.array(X[np.random.randint(0, X.shape[0]), :])\n",
    "    fig.add_subplot(rows, columns, i)\n",
    "    plt.imshow(img, cmap='gray', vmin=0, vmax=255)\n",
    "    plt.axis('off')\n",
    "\n",
    "plt.show()"
   ]
  },
  {
   "cell_type": "markdown",
   "id": "3f7f207b",
   "metadata": {
    "id": "3f7f207b"
   },
   "source": [
    "# Feature Extraction\n",
    "\n",
    "- input: `X`\n",
    "- output: `X_feature`"
   ]
  },
  {
   "cell_type": "markdown",
   "id": "6e1cb034",
   "metadata": {
    "id": "6e1cb034"
   },
   "source": [
    "### Extract SIFT Descriptors "
   ]
  },
  {
   "cell_type": "code",
   "execution_count": 145,
   "id": "29ceac16",
   "metadata": {
    "executionInfo": {
     "elapsed": 498,
     "status": "ok",
     "timestamp": 1648212100644,
     "user": {
      "displayName": "Rama Tri Agung",
      "photoUrl": "https://lh3.googleusercontent.com/a-/AOh14GhO5MpcihqCafTv8Tf9MUwRyHV6tO2uPdiXma2V=s64",
      "userId": "07374601175312417068"
     },
     "user_tz": -420
    },
    "id": "29ceac16"
   },
   "outputs": [],
   "source": [
    "def extract_sift_features(list_image):\n",
    "\n",
    "    image_descriptors = []\n",
    "    sift = cv2.SIFT_create()\n",
    "    for image in list_image:\n",
    "        _, descriptor = sift.detectAndCompute(image, None)\n",
    "        image_descriptors.append(descriptor)\n",
    "\n",
    "    return image_descriptors\n",
    "\n",
    "def split_all_descriptors(image_descriptors):\n",
    "    all_descriptors = []\n",
    "    for descriptor in image_descriptors:\n",
    "        if descriptor is not None:\n",
    "            for des in descriptor:\n",
    "                all_descriptors.append(des)\n",
    "    \n",
    "    return np.array(all_descriptors)"
   ]
  },
  {
   "cell_type": "code",
   "execution_count": 146,
   "id": "d50539d0",
   "metadata": {
    "executionInfo": {
     "elapsed": 20918,
     "status": "ok",
     "timestamp": 1648212121560,
     "user": {
      "displayName": "Rama Tri Agung",
      "photoUrl": "https://lh3.googleusercontent.com/a-/AOh14GhO5MpcihqCafTv8Tf9MUwRyHV6tO2uPdiXma2V=s64",
      "userId": "07374601175312417068"
     },
     "user_tz": -420
    },
    "id": "d50539d0"
   },
   "outputs": [],
   "source": [
    "image_descriptors = extract_sift_features(X)"
   ]
  },
  {
   "cell_type": "code",
   "execution_count": 147,
   "id": "53a20fc4",
   "metadata": {
    "colab": {
     "base_uri": "https://localhost:8080/"
    },
    "executionInfo": {
     "elapsed": 14,
     "status": "ok",
     "timestamp": 1648212121561,
     "user": {
      "displayName": "Rama Tri Agung",
      "photoUrl": "https://lh3.googleusercontent.com/a-/AOh14GhO5MpcihqCafTv8Tf9MUwRyHV6tO2uPdiXma2V=s64",
      "userId": "07374601175312417068"
     },
     "user_tz": -420
    },
    "id": "53a20fc4",
    "outputId": "62cb7002-248b-4204-c394-0fd05ab5e590",
    "scrolled": true
   },
   "outputs": [
    {
     "name": "stdout",
     "output_type": "stream",
     "text": [
      "Number of keypoint descriptor: (193416, 128)\n"
     ]
    }
   ],
   "source": [
    "all_descriptors = split_all_descriptors(image_descriptors)\n",
    "print(\"Number of keypoint descriptor:\", all_descriptors.shape)"
   ]
  },
  {
   "cell_type": "markdown",
   "id": "4b9c46d6",
   "metadata": {
    "id": "4b9c46d6"
   },
   "source": [
    "### Create BOW of Descriptor Using Cluster"
   ]
  },
  {
   "cell_type": "code",
   "execution_count": 148,
   "id": "86c97bff",
   "metadata": {
    "executionInfo": {
     "elapsed": 10,
     "status": "ok",
     "timestamp": 1648212121561,
     "user": {
      "displayName": "Rama Tri Agung",
      "photoUrl": "https://lh3.googleusercontent.com/a-/AOh14GhO5MpcihqCafTv8Tf9MUwRyHV6tO2uPdiXma2V=s64",
      "userId": "07374601175312417068"
     },
     "user_tz": -420
    },
    "id": "86c97bff"
   },
   "outputs": [],
   "source": [
    "def kmeans_bow(all_descriptors, num_cluster):\n",
    "    # if not os.path.isfile(BOW_FILE_PICKLE):\n",
    "    kmeans = KMeans(n_clusters = num_cluster, verbose=1)\n",
    "    kmeans.fit(all_descriptors)\n",
    "\n",
    "    bow_dict = kmeans.cluster_centers_\n",
    "    \n",
    "    save_file_pickle(bow_dict, BOW_FILE_PICKLE)\n",
    "    # else:\n",
    "    #     bow_dict = load_file_pickle(BOW_FILE_PICKLE)\n",
    "\n",
    "    return bow_dict"
   ]
  },
  {
   "cell_type": "code",
   "execution_count": 149,
   "id": "92cd2d55",
   "metadata": {
    "colab": {
     "base_uri": "https://localhost:8080/"
    },
    "executionInfo": {
     "elapsed": 1100418,
     "status": "ok",
     "timestamp": 1648213221969,
     "user": {
      "displayName": "Rama Tri Agung",
      "photoUrl": "https://lh3.googleusercontent.com/a-/AOh14GhO5MpcihqCafTv8Tf9MUwRyHV6tO2uPdiXma2V=s64",
      "userId": "07374601175312417068"
     },
     "user_tz": -420
    },
    "id": "92cd2d55",
    "outputId": "75c6186c-1558-4e16-e9ad-0672767c0f4b",
    "scrolled": true
   },
   "outputs": [
    {
     "name": "stdout",
     "output_type": "stream",
     "text": [
      "Initialization complete\n",
      "Iteration 0, inertia 3938835200.0\n",
      "Iteration 1, inertia 2950034688.0\n",
      "Iteration 2, inertia 2878330880.0\n",
      "Iteration 3, inertia 2847415040.0\n",
      "Iteration 4, inertia 2828594432.0\n",
      "Iteration 5, inertia 2816465920.0\n",
      "Iteration 6, inertia 2807592960.0\n",
      "Iteration 7, inertia 2800619264.0\n",
      "Iteration 8, inertia 2794700544.0\n",
      "Iteration 9, inertia 2789429248.0\n",
      "Iteration 10, inertia 2785643520.0\n",
      "Iteration 11, inertia 2783287040.0\n",
      "Iteration 12, inertia 2781385984.0\n",
      "Iteration 13, inertia 2779518208.0\n",
      "Iteration 14, inertia 2777454848.0\n",
      "Iteration 15, inertia 2775094528.0\n",
      "Iteration 16, inertia 2772649728.0\n",
      "Iteration 17, inertia 2770203392.0\n",
      "Iteration 18, inertia 2767883008.0\n",
      "Iteration 19, inertia 2766726656.0\n",
      "Iteration 20, inertia 2765827072.0\n",
      "Iteration 21, inertia 2765087488.0\n",
      "Iteration 22, inertia 2764481024.0\n",
      "Iteration 23, inertia 2763832320.0\n",
      "Iteration 24, inertia 2762981120.0\n",
      "Iteration 25, inertia 2762028800.0\n",
      "Iteration 26, inertia 2761080064.0\n",
      "Iteration 27, inertia 2760015872.0\n",
      "Iteration 28, inertia 2758861312.0\n",
      "Iteration 29, inertia 2758187776.0\n",
      "Iteration 30, inertia 2757686016.0\n",
      "Iteration 31, inertia 2757304576.0\n",
      "Iteration 32, inertia 2757047552.0\n",
      "Iteration 33, inertia 2756806400.0\n",
      "Iteration 34, inertia 2756581632.0\n",
      "Iteration 35, inertia 2756384256.0\n",
      "Iteration 36, inertia 2756189184.0\n",
      "Iteration 37, inertia 2755992576.0\n",
      "Iteration 38, inertia 2755783680.0\n",
      "Iteration 39, inertia 2755582720.0\n",
      "Iteration 40, inertia 2755433216.0\n",
      "Iteration 41, inertia 2755304704.0\n",
      "Iteration 42, inertia 2755156224.0\n",
      "Iteration 43, inertia 2754991360.0\n",
      "Iteration 44, inertia 2754821376.0\n",
      "Iteration 45, inertia 2754658304.0\n",
      "Iteration 46, inertia 2754524672.0\n",
      "Iteration 47, inertia 2754391808.0\n",
      "Iteration 48, inertia 2754282752.0\n",
      "Iteration 49, inertia 2754190592.0\n",
      "Iteration 50, inertia 2754118144.0\n",
      "Iteration 51, inertia 2754063360.0\n",
      "Iteration 52, inertia 2754011392.0\n",
      "Iteration 53, inertia 2753963776.0\n",
      "Iteration 54, inertia 2753925888.0\n",
      "Iteration 55, inertia 2753899008.0\n",
      "Iteration 56, inertia 2753875712.0\n",
      "Iteration 57, inertia 2753852928.0\n",
      "Iteration 58, inertia 2753833216.0\n",
      "Iteration 59, inertia 2753816576.0\n",
      "Iteration 60, inertia 2753795840.0\n",
      "Iteration 61, inertia 2753776384.0\n",
      "Iteration 62, inertia 2753757952.0\n",
      "Iteration 63, inertia 2753739776.0\n",
      "Iteration 64, inertia 2753723136.0\n",
      "Iteration 65, inertia 2753711872.0\n",
      "Iteration 66, inertia 2753699072.0\n",
      "Iteration 67, inertia 2753681664.0\n",
      "Iteration 68, inertia 2753669120.0\n",
      "Iteration 69, inertia 2753658368.0\n",
      "Iteration 70, inertia 2753649920.0\n",
      "Iteration 71, inertia 2753639168.0\n",
      "Iteration 72, inertia 2753630464.0\n",
      "Iteration 73, inertia 2753620992.0\n",
      "Iteration 74, inertia 2753609984.0\n",
      "Iteration 75, inertia 2753599488.0\n",
      "Iteration 76, inertia 2753586944.0\n",
      "Iteration 77, inertia 2753575424.0\n",
      "Iteration 78, inertia 2753566976.0\n",
      "Iteration 79, inertia 2753560320.0\n",
      "Iteration 80, inertia 2753552128.0\n",
      "Iteration 81, inertia 2753546496.0\n",
      "Iteration 82, inertia 2753536512.0\n",
      "Iteration 83, inertia 2753529856.0\n",
      "Iteration 84, inertia 2753521408.0\n",
      "Iteration 85, inertia 2753514240.0\n",
      "Iteration 86, inertia 2753505280.0\n",
      "Iteration 87, inertia 2753500416.0\n",
      "Iteration 88, inertia 2753491456.0\n",
      "Iteration 89, inertia 2753485568.0\n",
      "Iteration 90, inertia 2753478400.0\n",
      "Iteration 91, inertia 2753471488.0\n",
      "Iteration 92, inertia 2753464320.0\n",
      "Iteration 93, inertia 2753457664.0\n",
      "Iteration 94, inertia 2753451776.0\n",
      "Iteration 95, inertia 2753446656.0\n",
      "Iteration 96, inertia 2753443584.0\n",
      "Iteration 97, inertia 2753437440.0\n",
      "Iteration 98, inertia 2753433600.0\n",
      "Iteration 99, inertia 2753429760.0\n",
      "Iteration 100, inertia 2753426688.0\n",
      "Iteration 101, inertia 2753425408.0\n",
      "Iteration 102, inertia 2753422848.0\n",
      "Iteration 103, inertia 2753417984.0\n",
      "Iteration 104, inertia 2753417216.0\n",
      "Iteration 105, inertia 2753416192.0\n",
      "Iteration 106, inertia 2753413120.0\n",
      "Iteration 107, inertia 2753412352.0\n",
      "Iteration 108, inertia 2753411072.0\n",
      "Iteration 109, inertia 2753409792.0\n",
      "Iteration 110, inertia 2753409280.0\n",
      "Iteration 111, inertia 2753410048.0\n",
      "Iteration 112, inertia 2753406464.0\n",
      "Iteration 113, inertia 2753405184.0\n",
      "Iteration 114, inertia 2753404416.0\n",
      "Iteration 115, inertia 2753402112.0\n",
      "Iteration 116, inertia 2753401088.0\n",
      "Iteration 117, inertia 2753399808.0\n",
      "Converged at iteration 117: center shift 0.061320960521698 within tolerance 0.08778471679687501.\n",
      "Initialization complete\n",
      "Iteration 0, inertia 3896547072.0\n",
      "Iteration 1, inertia 2937490176.0\n",
      "Iteration 2, inertia 2874698752.0\n",
      "Iteration 3, inertia 2847341056.0\n",
      "Iteration 4, inertia 2829230592.0\n",
      "Iteration 5, inertia 2817353984.0\n",
      "Iteration 6, inertia 2809796864.0\n",
      "Iteration 7, inertia 2803724544.0\n",
      "Iteration 8, inertia 2799323648.0\n",
      "Iteration 9, inertia 2795968512.0\n",
      "Iteration 10, inertia 2792742400.0\n",
      "Iteration 11, inertia 2789325824.0\n",
      "Iteration 12, inertia 2786381312.0\n",
      "Iteration 13, inertia 2783718912.0\n",
      "Iteration 14, inertia 2781765888.0\n",
      "Iteration 15, inertia 2780025856.0\n",
      "Iteration 16, inertia 2778108160.0\n",
      "Iteration 17, inertia 2776051968.0\n",
      "Iteration 18, inertia 2773986304.0\n",
      "Iteration 19, inertia 2772054784.0\n",
      "Iteration 20, inertia 2770489856.0\n",
      "Iteration 21, inertia 2768955392.0\n",
      "Iteration 22, inertia 2767169280.0\n",
      "Iteration 23, inertia 2765364224.0\n",
      "Iteration 24, inertia 2763645440.0\n",
      "Iteration 25, inertia 2762007808.0\n",
      "Iteration 26, inertia 2760695808.0\n",
      "Iteration 27, inertia 2759784960.0\n",
      "Iteration 28, inertia 2759029248.0\n",
      "Iteration 29, inertia 2758275072.0\n",
      "Iteration 30, inertia 2757493504.0\n",
      "Iteration 31, inertia 2756856832.0\n",
      "Iteration 32, inertia 2756302592.0\n",
      "Iteration 33, inertia 2755727360.0\n",
      "Iteration 34, inertia 2755262208.0\n",
      "Iteration 35, inertia 2754820096.0\n",
      "Iteration 36, inertia 2754427648.0\n",
      "Iteration 37, inertia 2754069504.0\n",
      "Iteration 38, inertia 2753733888.0\n",
      "Iteration 39, inertia 2753484288.0\n",
      "Iteration 40, inertia 2753214208.0\n",
      "Iteration 41, inertia 2752950272.0\n",
      "Iteration 42, inertia 2752701440.0\n",
      "Iteration 43, inertia 2752468736.0\n",
      "Iteration 44, inertia 2752250880.0\n",
      "Iteration 45, inertia 2752054016.0\n",
      "Iteration 46, inertia 2751882752.0\n",
      "Iteration 47, inertia 2751726080.0\n",
      "Iteration 48, inertia 2751584000.0\n",
      "Iteration 49, inertia 2751464448.0\n",
      "Iteration 50, inertia 2751354112.0\n",
      "Iteration 51, inertia 2751261184.0\n",
      "Iteration 52, inertia 2751182336.0\n",
      "Iteration 53, inertia 2751121920.0\n",
      "Iteration 54, inertia 2751062528.0\n",
      "Iteration 55, inertia 2751005952.0\n",
      "Iteration 56, inertia 2750967296.0\n",
      "Iteration 57, inertia 2750935552.0\n",
      "Iteration 58, inertia 2750908160.0\n",
      "Iteration 59, inertia 2750883072.0\n",
      "Iteration 60, inertia 2750861824.0\n",
      "Iteration 61, inertia 2750847232.0\n",
      "Iteration 62, inertia 2750833152.0\n",
      "Iteration 63, inertia 2750818304.0\n",
      "Iteration 64, inertia 2750803712.0\n",
      "Iteration 65, inertia 2750791680.0\n",
      "Iteration 66, inertia 2750780160.0\n",
      "Iteration 67, inertia 2750769664.0\n",
      "Iteration 68, inertia 2750758912.0\n",
      "Iteration 69, inertia 2750748416.0\n",
      "Iteration 70, inertia 2750739712.0\n",
      "Iteration 71, inertia 2750730752.0\n",
      "Iteration 72, inertia 2750718208.0\n",
      "Iteration 73, inertia 2750707200.0\n",
      "Iteration 74, inertia 2750693632.0\n",
      "Iteration 75, inertia 2750676736.0\n",
      "Iteration 76, inertia 2750663936.0\n",
      "Iteration 77, inertia 2750654720.0\n",
      "Iteration 78, inertia 2750646784.0\n",
      "Iteration 79, inertia 2750639616.0\n",
      "Iteration 80, inertia 2750631424.0\n",
      "Iteration 81, inertia 2750619392.0\n",
      "Iteration 82, inertia 2750612992.0\n",
      "Iteration 83, inertia 2750603264.0\n",
      "Iteration 84, inertia 2750593024.0\n",
      "Iteration 85, inertia 2750578944.0\n",
      "Iteration 86, inertia 2750564608.0\n",
      "Iteration 87, inertia 2750556160.0\n",
      "Iteration 88, inertia 2750547456.0\n",
      "Iteration 89, inertia 2750539520.0\n",
      "Iteration 90, inertia 2750529024.0\n",
      "Iteration 91, inertia 2750506496.0\n",
      "Iteration 92, inertia 2750479616.0\n",
      "Iteration 93, inertia 2750452736.0\n",
      "Iteration 94, inertia 2750424576.0\n",
      "Iteration 95, inertia 2750385664.0\n",
      "Iteration 96, inertia 2750348288.0\n",
      "Iteration 97, inertia 2750316032.0\n",
      "Iteration 98, inertia 2750286592.0\n",
      "Iteration 99, inertia 2750251008.0\n",
      "Iteration 100, inertia 2750203392.0\n",
      "Iteration 101, inertia 2750155264.0\n",
      "Iteration 102, inertia 2750095360.0\n",
      "Iteration 103, inertia 2750046464.0\n",
      "Iteration 104, inertia 2750011392.0\n",
      "Iteration 105, inertia 2749981696.0\n",
      "Iteration 106, inertia 2749948928.0\n",
      "Iteration 107, inertia 2749922048.0\n",
      "Iteration 108, inertia 2749898752.0\n",
      "Iteration 109, inertia 2749874176.0\n",
      "Iteration 110, inertia 2749845248.0\n",
      "Iteration 111, inertia 2749808896.0\n",
      "Iteration 112, inertia 2749750016.0\n",
      "Iteration 113, inertia 2749686016.0\n",
      "Iteration 114, inertia 2749630720.0\n",
      "Iteration 115, inertia 2749597952.0\n",
      "Iteration 116, inertia 2749571072.0\n",
      "Iteration 117, inertia 2749548800.0\n",
      "Iteration 118, inertia 2749535744.0\n",
      "Iteration 119, inertia 2749525248.0\n",
      "Iteration 120, inertia 2749515776.0\n",
      "Iteration 121, inertia 2749509888.0\n",
      "Iteration 122, inertia 2749502464.0\n",
      "Iteration 123, inertia 2749495808.0\n",
      "Iteration 124, inertia 2749490688.0\n",
      "Iteration 125, inertia 2749487872.0\n",
      "Iteration 126, inertia 2749482752.0\n",
      "Iteration 127, inertia 2749480960.0\n",
      "Iteration 128, inertia 2749477632.0\n",
      "Iteration 129, inertia 2749471232.0\n",
      "Iteration 130, inertia 2749466112.0\n",
      "Iteration 131, inertia 2749459968.0\n",
      "Iteration 132, inertia 2749457664.0\n",
      "Iteration 133, inertia 2749454848.0\n",
      "Iteration 134, inertia 2749450752.0\n",
      "Iteration 135, inertia 2749447424.0\n",
      "Iteration 136, inertia 2749445120.0\n",
      "Iteration 137, inertia 2749442560.0\n",
      "Iteration 138, inertia 2749437952.0\n",
      "Iteration 139, inertia 2749434880.0\n",
      "Iteration 140, inertia 2749429248.0\n",
      "Iteration 141, inertia 2749426432.0\n",
      "Iteration 142, inertia 2749421568.0\n",
      "Iteration 143, inertia 2749421312.0\n",
      "Iteration 144, inertia 2749421056.0\n",
      "Iteration 145, inertia 2749419776.0\n",
      "Iteration 146, inertia 2749418752.0\n",
      "Iteration 147, inertia 2749417728.0\n",
      "Iteration 148, inertia 2749416448.0\n",
      "Iteration 149, inertia 2749415424.0\n",
      "Iteration 150, inertia 2749414400.0\n",
      "Iteration 151, inertia 2749412608.0\n",
      "Iteration 152, inertia 2749410048.0\n",
      "Iteration 153, inertia 2749405440.0\n",
      "Iteration 154, inertia 2749403392.0\n",
      "Iteration 155, inertia 2749402368.0\n",
      "Iteration 156, inertia 2749400832.0\n",
      "Iteration 157, inertia 2749399040.0\n",
      "Iteration 158, inertia 2749398016.0\n",
      "Iteration 159, inertia 2749398016.0\n",
      "Iteration 160, inertia 2749397760.0\n",
      "Iteration 161, inertia 2749395200.0\n",
      "Iteration 162, inertia 2749393920.0\n",
      "Iteration 163, inertia 2749392128.0\n",
      "Iteration 164, inertia 2749389568.0\n",
      "Iteration 165, inertia 2749388800.0\n",
      "Iteration 166, inertia 2749388288.0\n",
      "Iteration 167, inertia 2749387264.0\n",
      "Iteration 168, inertia 2749384704.0\n",
      "Iteration 169, inertia 2749382144.0\n",
      "Iteration 170, inertia 2749380864.0\n",
      "Iteration 171, inertia 2749379328.0\n",
      "Iteration 172, inertia 2749376512.0\n",
      "Iteration 173, inertia 2749374720.0\n",
      "Iteration 174, inertia 2749372928.0\n",
      "Iteration 175, inertia 2749371904.0\n",
      "Iteration 176, inertia 2749371392.0\n",
      "Iteration 177, inertia 2749370880.0\n",
      "Iteration 178, inertia 2749370624.0\n",
      "Iteration 179, inertia 2749370368.0\n",
      "Iteration 180, inertia 2749370112.0\n",
      "Converged at iteration 180: strict convergence.\n"
     ]
    }
   ],
   "source": [
    "num_cluster = 250\n",
    "bow = kmeans_bow(all_descriptors, num_cluster)"
   ]
  },
  {
   "cell_type": "markdown",
   "id": "ee67ecc6",
   "metadata": {
    "id": "ee67ecc6"
   },
   "source": [
    "### Create Features From BOW"
   ]
  },
  {
   "cell_type": "code",
   "execution_count": null,
   "id": "712e35c5",
   "metadata": {
    "executionInfo": {
     "elapsed": 11,
     "status": "ok",
     "timestamp": 1648213221969,
     "user": {
      "displayName": "Rama Tri Agung",
      "photoUrl": "https://lh3.googleusercontent.com/a-/AOh14GhO5MpcihqCafTv8Tf9MUwRyHV6tO2uPdiXma2V=s64",
      "userId": "07374601175312417068"
     },
     "user_tz": -420
    },
    "id": "712e35c5"
   },
   "outputs": [],
   "source": [
    "def create_feature_bow(image_descriptors, bow, num_cluster):\n",
    "    X_features = []\n",
    "\n",
    "    for i in range(len(image_descriptors)):\n",
    "        features = np.array([0] * num_cluster, dtype=float)\n",
    "\n",
    "        if image_descriptors[i] is not None:\n",
    "            distance = cdist(image_descriptors[i], bow)\n",
    "            argmin = np.argmin(distance, axis = 1)\n",
    "\n",
    "            for j in argmin:\n",
    "                features[j] += 1.0\n",
    "        X_features.append(features)\n",
    "\n",
    "    return np.array(X_features)"
   ]
  },
  {
   "cell_type": "code",
   "execution_count": null,
   "id": "f0aecc4b",
   "metadata": {
    "colab": {
     "base_uri": "https://localhost:8080/",
     "height": 207
    },
    "executionInfo": {
     "elapsed": 545,
     "status": "error",
     "timestamp": 1648222301412,
     "user": {
      "displayName": "Rama Tri Agung",
      "photoUrl": "https://lh3.googleusercontent.com/a-/AOh14GhO5MpcihqCafTv8Tf9MUwRyHV6tO2uPdiXma2V=s64",
      "userId": "07374601175312417068"
     },
     "user_tz": -420
    },
    "id": "f0aecc4b",
    "outputId": "53813cfb-2ae4-4c56-e177-e4adaf78f722",
    "scrolled": true
   },
   "outputs": [
    {
     "name": "stdout",
     "output_type": "stream",
     "text": [
      "Feature X data dimension: (2940, 250)\n"
     ]
    }
   ],
   "source": [
    "X_feature = create_feature_bow(image_descriptors, bow, num_cluster)\n",
    "\n",
    "print(\"Feature X data dimension:\", X_feature.shape)"
   ]
  },
  {
   "cell_type": "markdown",
   "id": "57285a41",
   "metadata": {
    "id": "57285a41"
   },
   "source": [
    "# Classification With SIFT\n",
    "\n",
    "- input: `X_feature, y`\n",
    "- output: -"
   ]
  },
  {
   "cell_type": "code",
   "execution_count": null,
   "id": "d405ef19",
   "metadata": {
    "executionInfo": {
     "elapsed": 26,
     "status": "ok",
     "timestamp": 1648213228936,
     "user": {
      "displayName": "Rama Tri Agung",
      "photoUrl": "https://lh3.googleusercontent.com/a-/AOh14GhO5MpcihqCafTv8Tf9MUwRyHV6tO2uPdiXma2V=s64",
      "userId": "07374601175312417068"
     },
     "user_tz": -420
    },
    "id": "d405ef19"
   },
   "outputs": [],
   "source": [
    "# normalization\n",
    "scaler = StandardScaler().fit(X_feature)\n",
    "X_scale = scaler.transform(X_feature)"
   ]
  },
  {
   "cell_type": "markdown",
   "id": "e4cfaa86",
   "metadata": {},
   "source": [
    "#### Save scaler"
   ]
  },
  {
   "cell_type": "code",
   "execution_count": null,
   "id": "132fcf02",
   "metadata": {},
   "outputs": [],
   "source": [
    "# Just save normalization function for future used\n",
    "save_file_pickle(scaler, SCALER_WS_FILE_PICKLE)"
   ]
  },
  {
   "cell_type": "code",
   "execution_count": null,
   "id": "d113c312",
   "metadata": {
    "colab": {
     "base_uri": "https://localhost:8080/"
    },
    "executionInfo": {
     "elapsed": 24,
     "status": "ok",
     "timestamp": 1648213228936,
     "user": {
      "displayName": "Rama Tri Agung",
      "photoUrl": "https://lh3.googleusercontent.com/a-/AOh14GhO5MpcihqCafTv8Tf9MUwRyHV6tO2uPdiXma2V=s64",
      "userId": "07374601175312417068"
     },
     "user_tz": -420
    },
    "id": "d113c312",
    "outputId": "22f4c248-9765-449e-807b-76f917198dfb"
   },
   "outputs": [
    {
     "name": "stdout",
     "output_type": "stream",
     "text": [
      "Size of training: 2499\n",
      "Size of testing: 441\n"
     ]
    }
   ],
   "source": [
    "# splitting data\n",
    "X_train, X_test, y_train, y_test = train_test_split(X_scale, y, test_size=0.15, random_state=42)\n",
    "\n",
    "print(\"Size of training:\", X_train.shape[0])\n",
    "print(\"Size of testing:\", X_test.shape[0])"
   ]
  },
  {
   "cell_type": "markdown",
   "id": "58716071",
   "metadata": {
    "id": "58716071"
   },
   "source": [
    "### SVM\n",
    "\n",
    "Using GridSearchCV for tuning parameter, with scenario:\n",
    "- 'C': \\[ 1, 3, 6, 10, 15 \\]\n",
    "- 'gamma': \\[ 'auto', 0.001, 0.0015, 0.0025, 0.003 \\]\n",
    "    - 'auto' = 1 / nfeatures"
   ]
  },
  {
   "cell_type": "markdown",
   "id": "d619d7b2",
   "metadata": {},
   "source": [
    "#### Load model"
   ]
  },
  {
   "cell_type": "code",
   "execution_count": null,
   "id": "e4a3995a",
   "metadata": {},
   "outputs": [],
   "source": [
    "# Just load model without re-training if you want\n",
    "svm_ws = load_file_pickle(SVM_WS_FILE_PICKLE)"
   ]
  },
  {
   "cell_type": "code",
   "execution_count": null,
   "id": "ba7680fc",
   "metadata": {
    "executionInfo": {
     "elapsed": 5,
     "status": "ok",
     "timestamp": 1648213230257,
     "user": {
      "displayName": "Rama Tri Agung",
      "photoUrl": "https://lh3.googleusercontent.com/a-/AOh14GhO5MpcihqCafTv8Tf9MUwRyHV6tO2uPdiXma2V=s64",
      "userId": "07374601175312417068"
     },
     "user_tz": -420
    },
    "id": "ba7680fc"
   },
   "outputs": [],
   "source": [
    "svm_ws_params = {\n",
    "    'C': [1, 3, 6, 10, 15],\n",
    "    'gamma': ['auto', 0.0024, 0.0032, 0.0048, 0.0056]\n",
    "}\n",
    "svm_ws = GridSearchCV(estimator=SVC(kernel='rbf', probability=True), param_grid=svm_ws_params, cv=5, verbose=3)"
   ]
  },
  {
   "cell_type": "code",
   "execution_count": null,
   "id": "c80d381c",
   "metadata": {
    "colab": {
     "base_uri": "https://localhost:8080/"
    },
    "executionInfo": {
     "elapsed": 239531,
     "status": "ok",
     "timestamp": 1648213469785,
     "user": {
      "displayName": "Rama Tri Agung",
      "photoUrl": "https://lh3.googleusercontent.com/a-/AOh14GhO5MpcihqCafTv8Tf9MUwRyHV6tO2uPdiXma2V=s64",
      "userId": "07374601175312417068"
     },
     "user_tz": -420
    },
    "id": "c80d381c",
    "outputId": "2e18e718-49c6-420f-c71d-d24d55e0c11e",
    "scrolled": true
   },
   "outputs": [
    {
     "name": "stdout",
     "output_type": "stream",
     "text": [
      "Fitting 5 folds for each of 25 candidates, totalling 125 fits\n",
      "[CV 1/5] END ...................C=1, gamma=auto;, score=0.894 total time=   4.0s\n",
      "[CV 2/5] END ...................C=1, gamma=auto;, score=0.906 total time=   4.1s\n",
      "[CV 3/5] END ...................C=1, gamma=auto;, score=0.900 total time=   4.1s\n",
      "[CV 4/5] END ...................C=1, gamma=auto;, score=0.880 total time=   4.1s\n",
      "[CV 5/5] END ...................C=1, gamma=auto;, score=0.896 total time=   4.1s\n",
      "[CV 1/5] END .................C=1, gamma=0.0024;, score=0.898 total time=   3.3s\n",
      "[CV 2/5] END .................C=1, gamma=0.0024;, score=0.904 total time=   3.3s\n",
      "[CV 3/5] END .................C=1, gamma=0.0024;, score=0.898 total time=   3.4s\n",
      "[CV 4/5] END .................C=1, gamma=0.0024;, score=0.890 total time=   3.4s\n",
      "[CV 5/5] END .................C=1, gamma=0.0024;, score=0.896 total time=   3.3s\n",
      "[CV 1/5] END .................C=1, gamma=0.0032;, score=0.894 total time=   3.7s\n",
      "[CV 2/5] END .................C=1, gamma=0.0032;, score=0.904 total time=   3.8s\n",
      "[CV 3/5] END .................C=1, gamma=0.0032;, score=0.898 total time=   3.8s\n",
      "[CV 4/5] END .................C=1, gamma=0.0032;, score=0.884 total time=   3.8s\n",
      "[CV 5/5] END .................C=1, gamma=0.0032;, score=0.896 total time=   3.8s\n",
      "[CV 1/5] END .................C=1, gamma=0.0048;, score=0.890 total time=   4.3s\n",
      "[CV 2/5] END .................C=1, gamma=0.0048;, score=0.896 total time=   4.3s\n",
      "[CV 3/5] END .................C=1, gamma=0.0048;, score=0.892 total time=   4.3s\n",
      "[CV 4/5] END .................C=1, gamma=0.0048;, score=0.880 total time=   4.3s\n",
      "[CV 5/5] END .................C=1, gamma=0.0048;, score=0.886 total time=   4.3s\n",
      "[CV 1/5] END .................C=1, gamma=0.0056;, score=0.870 total time=   4.4s\n",
      "[CV 2/5] END .................C=1, gamma=0.0056;, score=0.882 total time=   4.4s\n",
      "[CV 3/5] END .................C=1, gamma=0.0056;, score=0.886 total time=   4.6s\n",
      "[CV 4/5] END .................C=1, gamma=0.0056;, score=0.874 total time=   4.4s\n",
      "[CV 5/5] END .................C=1, gamma=0.0056;, score=0.882 total time=   4.5s\n",
      "[CV 1/5] END ...................C=3, gamma=auto;, score=0.896 total time=   4.1s\n",
      "[CV 2/5] END ...................C=3, gamma=auto;, score=0.906 total time=   4.0s\n",
      "[CV 3/5] END ...................C=3, gamma=auto;, score=0.902 total time=   4.1s\n",
      "[CV 4/5] END ...................C=3, gamma=auto;, score=0.902 total time=   4.1s\n",
      "[CV 5/5] END ...................C=3, gamma=auto;, score=0.912 total time=   4.0s\n",
      "[CV 1/5] END .................C=3, gamma=0.0024;, score=0.904 total time=   3.3s\n",
      "[CV 2/5] END .................C=3, gamma=0.0024;, score=0.904 total time=   3.4s\n",
      "[CV 3/5] END .................C=3, gamma=0.0024;, score=0.902 total time=   3.4s\n",
      "[CV 4/5] END .................C=3, gamma=0.0024;, score=0.906 total time=   3.4s\n",
      "[CV 5/5] END .................C=3, gamma=0.0024;, score=0.912 total time=   3.5s\n",
      "[CV 1/5] END .................C=3, gamma=0.0032;, score=0.898 total time=   3.9s\n",
      "[CV 2/5] END .................C=3, gamma=0.0032;, score=0.904 total time=   3.7s\n",
      "[CV 3/5] END .................C=3, gamma=0.0032;, score=0.906 total time=   3.7s\n",
      "[CV 4/5] END .................C=3, gamma=0.0032;, score=0.914 total time=   3.8s\n",
      "[CV 5/5] END .................C=3, gamma=0.0032;, score=0.918 total time=   3.7s\n",
      "[CV 1/5] END .................C=3, gamma=0.0048;, score=0.892 total time=   4.1s\n",
      "[CV 2/5] END .................C=3, gamma=0.0048;, score=0.898 total time=   4.2s\n",
      "[CV 3/5] END .................C=3, gamma=0.0048;, score=0.896 total time=   4.2s\n",
      "[CV 4/5] END .................C=3, gamma=0.0048;, score=0.896 total time=   4.2s\n",
      "[CV 5/5] END .................C=3, gamma=0.0048;, score=0.898 total time=   4.2s\n",
      "[CV 1/5] END .................C=3, gamma=0.0056;, score=0.886 total time=   4.3s\n",
      "[CV 2/5] END .................C=3, gamma=0.0056;, score=0.886 total time=   4.4s\n",
      "[CV 3/5] END .................C=3, gamma=0.0056;, score=0.890 total time=   4.4s\n",
      "[CV 4/5] END .................C=3, gamma=0.0056;, score=0.884 total time=   4.3s\n",
      "[CV 5/5] END .................C=3, gamma=0.0056;, score=0.892 total time=   4.3s\n",
      "[CV 1/5] END ...................C=6, gamma=auto;, score=0.892 total time=   3.9s\n",
      "[CV 2/5] END ...................C=6, gamma=auto;, score=0.908 total time=   4.0s\n",
      "[CV 3/5] END ...................C=6, gamma=auto;, score=0.900 total time=   4.0s\n",
      "[CV 4/5] END ...................C=6, gamma=auto;, score=0.900 total time=   4.0s\n",
      "[CV 5/5] END ...................C=6, gamma=auto;, score=0.908 total time=   4.0s\n",
      "[CV 1/5] END .................C=6, gamma=0.0024;, score=0.894 total time=   3.3s\n",
      "[CV 2/5] END .................C=6, gamma=0.0024;, score=0.904 total time=   3.4s\n",
      "[CV 3/5] END .................C=6, gamma=0.0024;, score=0.902 total time=   3.3s\n",
      "[CV 4/5] END .................C=6, gamma=0.0024;, score=0.904 total time=   3.4s\n",
      "[CV 5/5] END .................C=6, gamma=0.0024;, score=0.914 total time=   3.3s\n",
      "[CV 1/5] END .................C=6, gamma=0.0032;, score=0.894 total time=   3.6s\n",
      "[CV 2/5] END .................C=6, gamma=0.0032;, score=0.910 total time=   3.7s\n",
      "[CV 3/5] END .................C=6, gamma=0.0032;, score=0.902 total time=   3.7s\n",
      "[CV 4/5] END .................C=6, gamma=0.0032;, score=0.912 total time=   3.7s\n",
      "[CV 5/5] END .................C=6, gamma=0.0032;, score=0.918 total time=   3.7s\n",
      "[CV 1/5] END .................C=6, gamma=0.0048;, score=0.892 total time=   4.2s\n",
      "[CV 2/5] END .................C=6, gamma=0.0048;, score=0.902 total time=   4.1s\n",
      "[CV 3/5] END .................C=6, gamma=0.0048;, score=0.896 total time=   4.1s\n",
      "[CV 4/5] END .................C=6, gamma=0.0048;, score=0.898 total time=   4.1s\n",
      "[CV 5/5] END .................C=6, gamma=0.0048;, score=0.904 total time=   4.3s\n",
      "[CV 1/5] END .................C=6, gamma=0.0056;, score=0.886 total time=   4.4s\n",
      "[CV 2/5] END .................C=6, gamma=0.0056;, score=0.890 total time=   4.3s\n",
      "[CV 3/5] END .................C=6, gamma=0.0056;, score=0.890 total time=   4.3s\n",
      "[CV 4/5] END .................C=6, gamma=0.0056;, score=0.884 total time=   4.3s\n",
      "[CV 5/5] END .................C=6, gamma=0.0056;, score=0.890 total time=   4.4s\n",
      "[CV 1/5] END ..................C=10, gamma=auto;, score=0.892 total time=   3.9s\n",
      "[CV 2/5] END ..................C=10, gamma=auto;, score=0.908 total time=   4.0s\n",
      "[CV 3/5] END ..................C=10, gamma=auto;, score=0.900 total time=   3.9s\n",
      "[CV 4/5] END ..................C=10, gamma=auto;, score=0.900 total time=   3.9s\n",
      "[CV 5/5] END ..................C=10, gamma=auto;, score=0.904 total time=   3.9s\n",
      "[CV 1/5] END ................C=10, gamma=0.0024;, score=0.894 total time=   3.3s\n",
      "[CV 2/5] END ................C=10, gamma=0.0024;, score=0.904 total time=   3.2s\n",
      "[CV 3/5] END ................C=10, gamma=0.0024;, score=0.902 total time=   3.3s\n",
      "[CV 4/5] END ................C=10, gamma=0.0024;, score=0.906 total time=   3.3s\n",
      "[CV 5/5] END ................C=10, gamma=0.0024;, score=0.910 total time=   3.3s\n",
      "[CV 1/5] END ................C=10, gamma=0.0032;, score=0.894 total time=   3.7s\n",
      "[CV 2/5] END ................C=10, gamma=0.0032;, score=0.914 total time=   3.6s\n",
      "[CV 3/5] END ................C=10, gamma=0.0032;, score=0.904 total time=   3.7s\n",
      "[CV 4/5] END ................C=10, gamma=0.0032;, score=0.910 total time=   3.7s\n",
      "[CV 5/5] END ................C=10, gamma=0.0032;, score=0.914 total time=   3.7s\n",
      "[CV 1/5] END ................C=10, gamma=0.0048;, score=0.892 total time=   4.1s\n",
      "[CV 2/5] END ................C=10, gamma=0.0048;, score=0.902 total time=   4.1s\n",
      "[CV 3/5] END ................C=10, gamma=0.0048;, score=0.896 total time=   4.8s\n",
      "[CV 4/5] END ................C=10, gamma=0.0048;, score=0.898 total time=   4.2s\n",
      "[CV 5/5] END ................C=10, gamma=0.0048;, score=0.900 total time=   4.2s\n",
      "[CV 1/5] END ................C=10, gamma=0.0056;, score=0.886 total time=   4.7s\n",
      "[CV 2/5] END ................C=10, gamma=0.0056;, score=0.890 total time=   4.4s\n",
      "[CV 3/5] END ................C=10, gamma=0.0056;, score=0.890 total time=   4.6s\n",
      "[CV 4/5] END ................C=10, gamma=0.0056;, score=0.884 total time=   4.5s\n",
      "[CV 5/5] END ................C=10, gamma=0.0056;, score=0.890 total time=   4.4s\n",
      "[CV 1/5] END ..................C=15, gamma=auto;, score=0.892 total time=   4.4s\n",
      "[CV 2/5] END ..................C=15, gamma=auto;, score=0.908 total time=   4.4s\n",
      "[CV 3/5] END ..................C=15, gamma=auto;, score=0.900 total time=   4.7s\n",
      "[CV 4/5] END ..................C=15, gamma=auto;, score=0.900 total time=   4.3s\n",
      "[CV 5/5] END ..................C=15, gamma=auto;, score=0.904 total time=   4.4s\n",
      "[CV 1/5] END ................C=15, gamma=0.0024;, score=0.894 total time=   3.8s\n",
      "[CV 2/5] END ................C=15, gamma=0.0024;, score=0.908 total time=   3.8s\n",
      "[CV 3/5] END ................C=15, gamma=0.0024;, score=0.902 total time=   3.8s\n",
      "[CV 4/5] END ................C=15, gamma=0.0024;, score=0.906 total time=   3.7s\n",
      "[CV 5/5] END ................C=15, gamma=0.0024;, score=0.906 total time=   3.5s\n",
      "[CV 1/5] END ................C=15, gamma=0.0032;, score=0.894 total time=   3.8s\n",
      "[CV 2/5] END ................C=15, gamma=0.0032;, score=0.914 total time=   3.8s\n",
      "[CV 3/5] END ................C=15, gamma=0.0032;, score=0.904 total time=   3.9s\n",
      "[CV 4/5] END ................C=15, gamma=0.0032;, score=0.910 total time=   3.8s\n",
      "[CV 5/5] END ................C=15, gamma=0.0032;, score=0.912 total time=   4.2s\n",
      "[CV 1/5] END ................C=15, gamma=0.0048;, score=0.892 total time=   4.6s\n",
      "[CV 2/5] END ................C=15, gamma=0.0048;, score=0.902 total time=   4.9s\n",
      "[CV 3/5] END ................C=15, gamma=0.0048;, score=0.896 total time=   5.0s\n",
      "[CV 4/5] END ................C=15, gamma=0.0048;, score=0.898 total time=   4.4s\n",
      "[CV 5/5] END ................C=15, gamma=0.0048;, score=0.900 total time=   4.3s\n",
      "[CV 1/5] END ................C=15, gamma=0.0056;, score=0.886 total time=   4.4s\n",
      "[CV 2/5] END ................C=15, gamma=0.0056;, score=0.890 total time=   4.5s\n",
      "[CV 3/5] END ................C=15, gamma=0.0056;, score=0.890 total time=   4.4s\n",
      "[CV 4/5] END ................C=15, gamma=0.0056;, score=0.884 total time=   4.5s\n",
      "[CV 5/5] END ................C=15, gamma=0.0056;, score=0.890 total time=   4.5s\n"
     ]
    },
    {
     "data": {
      "text/plain": [
       "GridSearchCV(cv=5, estimator=SVC(probability=True),\n",
       "             param_grid={'C': [1, 3, 6, 10, 15],\n",
       "                         'gamma': ['auto', 0.0024, 0.0032, 0.0048, 0.0056]},\n",
       "             verbose=3)"
      ]
     },
     "execution_count": 131,
     "metadata": {},
     "output_type": "execute_result"
    }
   ],
   "source": [
    "svm_ws.fit(X_train, y_train)"
   ]
  },
  {
   "cell_type": "code",
   "execution_count": null,
   "id": "lyalc_iR_e0d",
   "metadata": {
    "colab": {
     "base_uri": "https://localhost:8080/"
    },
    "executionInfo": {
     "elapsed": 25,
     "status": "ok",
     "timestamp": 1648213469785,
     "user": {
      "displayName": "Rama Tri Agung",
      "photoUrl": "https://lh3.googleusercontent.com/a-/AOh14GhO5MpcihqCafTv8Tf9MUwRyHV6tO2uPdiXma2V=s64",
      "userId": "07374601175312417068"
     },
     "user_tz": -420
    },
    "id": "lyalc_iR_e0d",
    "outputId": "7e18bc20-fb83-4c15-b27e-5b47236af547"
   },
   "outputs": [
    {
     "name": "stdout",
     "output_type": "stream",
     "text": [
      "Best Model: SVC(C=3, gamma=0.0032, probability=True)\n",
      "Best CV Score: 0.9079671342685371\n"
     ]
    }
   ],
   "source": [
    "print(\"Best Model:\", svm_ws.best_estimator_)\n",
    "print(\"Best CV Score:\", svm_ws.best_score_)"
   ]
  },
  {
   "cell_type": "markdown",
   "id": "8d31dd96",
   "metadata": {},
   "source": [
    "#### All result score CV from tuning parameter SVM"
   ]
  },
  {
   "cell_type": "code",
   "execution_count": null,
   "id": "77F7WcPS_hod",
   "metadata": {
    "colab": {
     "base_uri": "https://localhost:8080/",
     "height": 865
    },
    "executionInfo": {
     "elapsed": 24,
     "status": "ok",
     "timestamp": 1648213469786,
     "user": {
      "displayName": "Rama Tri Agung",
      "photoUrl": "https://lh3.googleusercontent.com/a-/AOh14GhO5MpcihqCafTv8Tf9MUwRyHV6tO2uPdiXma2V=s64",
      "userId": "07374601175312417068"
     },
     "user_tz": -420
    },
    "id": "77F7WcPS_hod",
    "outputId": "fdd8f0d5-8cf5-45cd-97a1-eb17096d36bf"
   },
   "outputs": [
    {
     "data": {
      "text/html": [
       "<div>\n",
       "<style scoped>\n",
       "    .dataframe tbody tr th:only-of-type {\n",
       "        vertical-align: middle;\n",
       "    }\n",
       "\n",
       "    .dataframe tbody tr th {\n",
       "        vertical-align: top;\n",
       "    }\n",
       "\n",
       "    .dataframe thead th {\n",
       "        text-align: right;\n",
       "    }\n",
       "</style>\n",
       "<table border=\"1\" class=\"dataframe\">\n",
       "  <thead>\n",
       "    <tr style=\"text-align: right;\">\n",
       "      <th></th>\n",
       "      <th>params</th>\n",
       "      <th>rank_test_score</th>\n",
       "      <th>mean_test_score</th>\n",
       "      <th>std_test_score</th>\n",
       "    </tr>\n",
       "    <tr>\n",
       "      <th>kernel</th>\n",
       "      <th></th>\n",
       "      <th></th>\n",
       "      <th></th>\n",
       "      <th></th>\n",
       "    </tr>\n",
       "  </thead>\n",
       "  <tbody>\n",
       "    <tr>\n",
       "      <th>3_0.0032</th>\n",
       "      <td>{'C': 3, 'gamma': 0.0032}</td>\n",
       "      <td>1</td>\n",
       "      <td>0.907967</td>\n",
       "      <td>0.007110</td>\n",
       "    </tr>\n",
       "    <tr>\n",
       "      <th>6_0.0032</th>\n",
       "      <td>{'C': 6, 'gamma': 0.0032}</td>\n",
       "      <td>2</td>\n",
       "      <td>0.907167</td>\n",
       "      <td>0.008310</td>\n",
       "    </tr>\n",
       "    <tr>\n",
       "      <th>10_0.0032</th>\n",
       "      <td>{'C': 10, 'gamma': 0.0032}</td>\n",
       "      <td>3</td>\n",
       "      <td>0.907166</td>\n",
       "      <td>0.007516</td>\n",
       "    </tr>\n",
       "    <tr>\n",
       "      <th>15_0.0032</th>\n",
       "      <td>{'C': 15, 'gamma': 0.0032}</td>\n",
       "      <td>4</td>\n",
       "      <td>0.906765</td>\n",
       "      <td>0.007197</td>\n",
       "    </tr>\n",
       "    <tr>\n",
       "      <th>3_0.0024</th>\n",
       "      <td>{'C': 3, 'gamma': 0.0024}</td>\n",
       "      <td>5</td>\n",
       "      <td>0.905565</td>\n",
       "      <td>0.003375</td>\n",
       "    </tr>\n",
       "    <tr>\n",
       "      <th>6_0.0024</th>\n",
       "      <td>{'C': 6, 'gamma': 0.0024}</td>\n",
       "      <td>6</td>\n",
       "      <td>0.903566</td>\n",
       "      <td>0.006319</td>\n",
       "    </tr>\n",
       "    <tr>\n",
       "      <th>3_auto</th>\n",
       "      <td>{'C': 3, 'gamma': 'auto'}</td>\n",
       "      <td>7</td>\n",
       "      <td>0.903565</td>\n",
       "      <td>0.005220</td>\n",
       "    </tr>\n",
       "    <tr>\n",
       "      <th>10_0.0024</th>\n",
       "      <td>{'C': 10, 'gamma': 0.0024}</td>\n",
       "      <td>8</td>\n",
       "      <td>0.903164</td>\n",
       "      <td>0.005261</td>\n",
       "    </tr>\n",
       "    <tr>\n",
       "      <th>15_0.0024</th>\n",
       "      <td>{'C': 15, 'gamma': 0.0024}</td>\n",
       "      <td>9</td>\n",
       "      <td>0.903162</td>\n",
       "      <td>0.004975</td>\n",
       "    </tr>\n",
       "    <tr>\n",
       "      <th>6_auto</th>\n",
       "      <td>{'C': 6, 'gamma': 'auto'}</td>\n",
       "      <td>10</td>\n",
       "      <td>0.901563</td>\n",
       "      <td>0.005948</td>\n",
       "    </tr>\n",
       "    <tr>\n",
       "      <th>10_auto</th>\n",
       "      <td>{'C': 10, 'gamma': 'auto'}</td>\n",
       "      <td>11</td>\n",
       "      <td>0.900762</td>\n",
       "      <td>0.005284</td>\n",
       "    </tr>\n",
       "    <tr>\n",
       "      <th>15_auto</th>\n",
       "      <td>{'C': 15, 'gamma': 'auto'}</td>\n",
       "      <td>11</td>\n",
       "      <td>0.900762</td>\n",
       "      <td>0.005284</td>\n",
       "    </tr>\n",
       "    <tr>\n",
       "      <th>6_0.0048</th>\n",
       "      <td>{'C': 6, 'gamma': 0.0048}</td>\n",
       "      <td>13</td>\n",
       "      <td>0.898362</td>\n",
       "      <td>0.004221</td>\n",
       "    </tr>\n",
       "    <tr>\n",
       "      <th>10_0.0048</th>\n",
       "      <td>{'C': 10, 'gamma': 0.0048}</td>\n",
       "      <td>14</td>\n",
       "      <td>0.897560</td>\n",
       "      <td>0.003414</td>\n",
       "    </tr>\n",
       "    <tr>\n",
       "      <th>15_0.0048</th>\n",
       "      <td>{'C': 15, 'gamma': 0.0048}</td>\n",
       "      <td>14</td>\n",
       "      <td>0.897560</td>\n",
       "      <td>0.003414</td>\n",
       "    </tr>\n",
       "    <tr>\n",
       "      <th>1_0.0024</th>\n",
       "      <td>{'C': 1, 'gamma': 0.0024}</td>\n",
       "      <td>16</td>\n",
       "      <td>0.897158</td>\n",
       "      <td>0.004502</td>\n",
       "    </tr>\n",
       "    <tr>\n",
       "      <th>3_0.0048</th>\n",
       "      <td>{'C': 3, 'gamma': 0.0048}</td>\n",
       "      <td>17</td>\n",
       "      <td>0.895959</td>\n",
       "      <td>0.002155</td>\n",
       "    </tr>\n",
       "    <tr>\n",
       "      <th>1_auto</th>\n",
       "      <td>{'C': 1, 'gamma': 'auto'}</td>\n",
       "      <td>18</td>\n",
       "      <td>0.895158</td>\n",
       "      <td>0.008631</td>\n",
       "    </tr>\n",
       "    <tr>\n",
       "      <th>1_0.0032</th>\n",
       "      <td>{'C': 1, 'gamma': 0.0032}</td>\n",
       "      <td>18</td>\n",
       "      <td>0.895158</td>\n",
       "      <td>0.006519</td>\n",
       "    </tr>\n",
       "    <tr>\n",
       "      <th>1_0.0048</th>\n",
       "      <td>{'C': 1, 'gamma': 0.0048}</td>\n",
       "      <td>20</td>\n",
       "      <td>0.888754</td>\n",
       "      <td>0.005479</td>\n",
       "    </tr>\n",
       "    <tr>\n",
       "      <th>10_0.0056</th>\n",
       "      <td>{'C': 10, 'gamma': 0.0056}</td>\n",
       "      <td>21</td>\n",
       "      <td>0.887956</td>\n",
       "      <td>0.002496</td>\n",
       "    </tr>\n",
       "    <tr>\n",
       "      <th>6_0.0056</th>\n",
       "      <td>{'C': 6, 'gamma': 0.0056}</td>\n",
       "      <td>21</td>\n",
       "      <td>0.887956</td>\n",
       "      <td>0.002496</td>\n",
       "    </tr>\n",
       "    <tr>\n",
       "      <th>15_0.0056</th>\n",
       "      <td>{'C': 15, 'gamma': 0.0056}</td>\n",
       "      <td>21</td>\n",
       "      <td>0.887956</td>\n",
       "      <td>0.002496</td>\n",
       "    </tr>\n",
       "    <tr>\n",
       "      <th>3_0.0056</th>\n",
       "      <td>{'C': 3, 'gamma': 0.0056}</td>\n",
       "      <td>24</td>\n",
       "      <td>0.887557</td>\n",
       "      <td>0.002875</td>\n",
       "    </tr>\n",
       "    <tr>\n",
       "      <th>1_0.0056</th>\n",
       "      <td>{'C': 1, 'gamma': 0.0056}</td>\n",
       "      <td>25</td>\n",
       "      <td>0.878753</td>\n",
       "      <td>0.005854</td>\n",
       "    </tr>\n",
       "  </tbody>\n",
       "</table>\n",
       "</div>"
      ],
      "text/plain": [
       "                               params  rank_test_score  mean_test_score  \\\n",
       "kernel                                                                    \n",
       "3_0.0032    {'C': 3, 'gamma': 0.0032}                1         0.907967   \n",
       "6_0.0032    {'C': 6, 'gamma': 0.0032}                2         0.907167   \n",
       "10_0.0032  {'C': 10, 'gamma': 0.0032}                3         0.907166   \n",
       "15_0.0032  {'C': 15, 'gamma': 0.0032}                4         0.906765   \n",
       "3_0.0024    {'C': 3, 'gamma': 0.0024}                5         0.905565   \n",
       "6_0.0024    {'C': 6, 'gamma': 0.0024}                6         0.903566   \n",
       "3_auto      {'C': 3, 'gamma': 'auto'}                7         0.903565   \n",
       "10_0.0024  {'C': 10, 'gamma': 0.0024}                8         0.903164   \n",
       "15_0.0024  {'C': 15, 'gamma': 0.0024}                9         0.903162   \n",
       "6_auto      {'C': 6, 'gamma': 'auto'}               10         0.901563   \n",
       "10_auto    {'C': 10, 'gamma': 'auto'}               11         0.900762   \n",
       "15_auto    {'C': 15, 'gamma': 'auto'}               11         0.900762   \n",
       "6_0.0048    {'C': 6, 'gamma': 0.0048}               13         0.898362   \n",
       "10_0.0048  {'C': 10, 'gamma': 0.0048}               14         0.897560   \n",
       "15_0.0048  {'C': 15, 'gamma': 0.0048}               14         0.897560   \n",
       "1_0.0024    {'C': 1, 'gamma': 0.0024}               16         0.897158   \n",
       "3_0.0048    {'C': 3, 'gamma': 0.0048}               17         0.895959   \n",
       "1_auto      {'C': 1, 'gamma': 'auto'}               18         0.895158   \n",
       "1_0.0032    {'C': 1, 'gamma': 0.0032}               18         0.895158   \n",
       "1_0.0048    {'C': 1, 'gamma': 0.0048}               20         0.888754   \n",
       "10_0.0056  {'C': 10, 'gamma': 0.0056}               21         0.887956   \n",
       "6_0.0056    {'C': 6, 'gamma': 0.0056}               21         0.887956   \n",
       "15_0.0056  {'C': 15, 'gamma': 0.0056}               21         0.887956   \n",
       "3_0.0056    {'C': 3, 'gamma': 0.0056}               24         0.887557   \n",
       "1_0.0056    {'C': 1, 'gamma': 0.0056}               25         0.878753   \n",
       "\n",
       "           std_test_score  \n",
       "kernel                     \n",
       "3_0.0032         0.007110  \n",
       "6_0.0032         0.008310  \n",
       "10_0.0032        0.007516  \n",
       "15_0.0032        0.007197  \n",
       "3_0.0024         0.003375  \n",
       "6_0.0024         0.006319  \n",
       "3_auto           0.005220  \n",
       "10_0.0024        0.005261  \n",
       "15_0.0024        0.004975  \n",
       "6_auto           0.005948  \n",
       "10_auto          0.005284  \n",
       "15_auto          0.005284  \n",
       "6_0.0048         0.004221  \n",
       "10_0.0048        0.003414  \n",
       "15_0.0048        0.003414  \n",
       "1_0.0024         0.004502  \n",
       "3_0.0048         0.002155  \n",
       "1_auto           0.008631  \n",
       "1_0.0032         0.006519  \n",
       "1_0.0048         0.005479  \n",
       "10_0.0056        0.002496  \n",
       "6_0.0056         0.002496  \n",
       "15_0.0056        0.002496  \n",
       "3_0.0056         0.002875  \n",
       "1_0.0056         0.005854  "
      ]
     },
     "execution_count": 133,
     "metadata": {},
     "output_type": "execute_result"
    }
   ],
   "source": [
    "cv_results_df = pd.DataFrame(svm_ws.cv_results_)\n",
    "cv_results_df = cv_results_df.sort_values(by=['rank_test_score'])\n",
    "cv_results_df = (\n",
    "    cv_results_df\n",
    "    .set_index(cv_results_df[\"params\"].apply(\n",
    "        lambda x: \"_\".join(str(val) for val in x.values()))\n",
    "    )\n",
    "    .rename_axis('kernel')\n",
    ")\n",
    "cv_results_df[\n",
    "    ['params', 'rank_test_score', 'mean_test_score', 'std_test_score']\n",
    "]"
   ]
  },
  {
   "cell_type": "markdown",
   "id": "637d2a06",
   "metadata": {},
   "source": [
    "#### Save model"
   ]
  },
  {
   "cell_type": "code",
   "execution_count": null,
   "id": "79cedb44",
   "metadata": {},
   "outputs": [],
   "source": [
    "# Just save model for future used\n",
    "save_file_pickle(svm_ws, SVM_WS_FILE_PICKLE)"
   ]
  },
  {
   "cell_type": "markdown",
   "id": "a2904916",
   "metadata": {},
   "source": [
    "### Predict Data Testing\n",
    "\n",
    "Using SVC(C=6, gamma=0.0015)"
   ]
  },
  {
   "cell_type": "code",
   "execution_count": null,
   "id": "rrF-6ztW_kSb",
   "metadata": {
    "executionInfo": {
     "elapsed": 16,
     "status": "ok",
     "timestamp": 1648213469786,
     "user": {
      "displayName": "Rama Tri Agung",
      "photoUrl": "https://lh3.googleusercontent.com/a-/AOh14GhO5MpcihqCafTv8Tf9MUwRyHV6tO2uPdiXma2V=s64",
      "userId": "07374601175312417068"
     },
     "user_tz": -420
    },
    "id": "rrF-6ztW_kSb"
   },
   "outputs": [],
   "source": [
    "y_pred = svm_ws.predict(X_test)"
   ]
  },
  {
   "cell_type": "code",
   "execution_count": null,
   "id": "9f2b0992",
   "metadata": {},
   "outputs": [
    {
     "data": {
      "text/plain": [
       "array([[1.57585883e-03, 1.28086269e-02, 3.17275245e-03, 1.30938375e-03,\n",
       "        3.66513838e-04, 8.29413298e-04, 3.04291861e-03, 1.79032476e-03,\n",
       "        1.68039531e-03, 2.43111177e-03, 1.92909600e-03, 6.98281696e-04,\n",
       "        1.89693976e-03, 2.85532786e-04, 7.39234148e-05, 9.55269822e-01,\n",
       "        8.87989055e-04, 2.39212054e-03, 3.30418829e-04, 7.22857595e-03]])"
      ]
     },
     "execution_count": 136,
     "metadata": {},
     "output_type": "execute_result"
    }
   ],
   "source": [
    "test = svm_ws.predict_proba(np.reshape(X_test[0], (1, -1)))\n",
    "test"
   ]
  },
  {
   "cell_type": "markdown",
   "id": "1f0f9b3d",
   "metadata": {},
   "source": [
    "#### Heatmap result predict"
   ]
  },
  {
   "cell_type": "code",
   "execution_count": null,
   "id": "41a647f0",
   "metadata": {},
   "outputs": [
    {
     "data": {
      "image/png": "[encoded data removed]",
      "text/plain": [
       "<Figure size 1224x792 with 1 Axes>"
      ]
     },
     "metadata": {
      "needs_background": "light"
     },
     "output_type": "display_data"
    }
   ],
   "source": [
    "conf_ws = pd.DataFrame(confusion_matrix(y_test, y_pred), columns=hanacaraka, index=hanacaraka)\n",
    "\n",
    "plt.figure(figsize=(17,11))\n",
    "\n",
    "res = sns.heatmap(conf_ws, annot=True, fmt=\"g\", cmap=\"Blues\", cbar=False)\n",
    "res.set_yticklabels(res.get_ymajorticklabels(), fontsize = 14)\n",
    "res.set_xticklabels(res.get_xmajorticklabels(), fontsize = 14)\n",
    "\n",
    "plt.xlabel(\"Predicted\")\n",
    "plt.ylabel(\"Actual\")\n",
    "plt.title(\"Confusion Matrix Plot\")\n",
    "plt.show()"
   ]
  },
  {
   "cell_type": "code",
   "execution_count": null,
   "id": "6622e3e2",
   "metadata": {
    "colab": {
     "base_uri": "https://localhost:8080/"
    },
    "executionInfo": {
     "elapsed": 16,
     "status": "ok",
     "timestamp": 1648213469787,
     "user": {
      "displayName": "Rama Tri Agung",
      "photoUrl": "https://lh3.googleusercontent.com/a-/AOh14GhO5MpcihqCafTv8Tf9MUwRyHV6tO2uPdiXma2V=s64",
      "userId": "07374601175312417068"
     },
     "user_tz": -420
    },
    "id": "6622e3e2",
    "outputId": "22122fe7-ac04-470f-9faa-f3839d1d29ac",
    "scrolled": false
   },
   "outputs": [
    {
     "name": "stdout",
     "output_type": "stream",
     "text": [
      "Classification report result:\n",
      "              precision    recall  f1-score   support\n",
      "\n",
      "          ba       1.00      0.90      0.95        21\n",
      "          ca       0.81      0.96      0.88        26\n",
      "          da       0.96      0.96      0.96        23\n",
      "         dha       1.00      1.00      1.00        28\n",
      "          ga       1.00      0.95      0.97        20\n",
      "          ha       0.79      0.79      0.79        19\n",
      "          ja       1.00      0.92      0.96        13\n",
      "          ka       1.00      1.00      1.00        28\n",
      "          la       0.85      0.88      0.86        25\n",
      "          ma       1.00      1.00      1.00        22\n",
      "          na       1.00      1.00      1.00        20\n",
      "         nga       0.91      1.00      0.95        21\n",
      "         nya       0.95      1.00      0.98        21\n",
      "          pa       0.90      1.00      0.95        18\n",
      "          ra       1.00      0.92      0.96        24\n",
      "          sa       1.00      0.84      0.91        25\n",
      "          ta       0.96      0.96      0.96        25\n",
      "         tha       1.00      1.00      1.00        22\n",
      "          wa       1.00      1.00      1.00        21\n",
      "          ya       0.94      0.89      0.92        19\n",
      "\n",
      "    accuracy                           0.95       441\n",
      "   macro avg       0.95      0.95      0.95       441\n",
      "weighted avg       0.95      0.95      0.95       441\n",
      "\n"
     ]
    }
   ],
   "source": [
    "class_rep_ws = classification_report(y_test, y_pred)\n",
    "\n",
    "print(\"Classification report result:\")\n",
    "print(class_rep_ws)"
   ]
  },
  {
   "cell_type": "markdown",
   "id": "de4810dd",
   "metadata": {},
   "source": [
    "### Result Accuracy Score for SVM with SIFT"
   ]
  },
  {
   "cell_type": "code",
   "execution_count": null,
   "id": "fb12b508",
   "metadata": {},
   "outputs": [
    {
     "name": "stdout",
     "output_type": "stream",
     "text": [
      "Accuracy score: 0.9501133786848073\n"
     ]
    }
   ],
   "source": [
    "acc_ws = accuracy_score(y_test, y_pred)\n",
    "print(\"Accuracy score:\", acc_ws)"
   ]
  },
  {
   "cell_type": "markdown",
   "id": "c3e86b5b",
   "metadata": {},
   "source": [
    "# Note for Result SIFT With SVM"
   ]
  },
  {
   "cell_type": "markdown",
   "id": "6NbhunaQV9pq",
   "metadata": {
    "id": "6NbhunaQV9pq"
   },
   "source": [
    "### Testing Scenario\n",
    "- Img = \\[ 64, 96, 128, 164, 192, 224 \\]\n",
    "  - Img prep = Greyscale, Equalization\n",
    "- K = \\[ 1000, 700, 500, 350, 240, 180 \\]\n",
    "- C = \\[ 1, 3, 6, 10, 15\\]\n",
    "- G = \\[ 'auto', 0.001, 0.0015, 0.0025, 0.003 \\]"
   ]
  },
  {
   "cell_type": "markdown",
   "id": "6f652705",
   "metadata": {
    "id": "6f652705"
   },
   "source": [
    "### Result:\n",
    "- Img = (25,25), K = 180, SVM = 0.61\n",
    "- Img = (28,28), K = 140, SVM = 0.59\n",
    "- Img = (32,32), K = 140, SVM = 0.69\n",
    "- Img = (64,64), K = 180, SVM = 0.89\n",
    "- Img = (64,64), K = 240, SVM = .89:.90\n",
    "- Img = (96,96), K = 240, SVM = .89:.89\n",
    "- Img = (128,128), K = 140, SVM = .87:.89\n",
    "- Img = (128,128), K = 180, SVM = .88:.93\n",
    "- Img = (128,128), K = 240, SVM = .90:.95\n",
    "- Img = (128,128), K = 350, SVM = .91:.94\n",
    "- Img = (128,128), K = 500, SVM = .92:.95\n",
    "- Img = (128,128), K = 700, SVM = .92:.94\n",
    "- Img = (128,128), K = 1000, SVM = .92:.94\n",
    "- Img = (164,164), K = 240, SVM = .90:.91\n",
    "- Img = (192,192), K = 240, SVM = .90:.92\n",
    "- Img = (224,224), K = 240, SVM = .88:.90\n",
    "\n",
    "\n",
    "======================================\n",
    "\n",
    "- Img = (128,128), K = 60, KNN = 0.69, SVM = 0.82\n",
    "- Img = (128,128), K = 80, KNN = 0.71, SVM = 0.88\n",
    "- Img = (128,128), K = 100, KNN = 0.76, SVM = 0.90\n",
    "- Img = (128,128), K = 120, KNN = 0.74, SVM = 0.91\n",
    "- Img = (128,128), K = 140, KNN = 0.78, SVM = 0.92\n",
    "- Img = (128,128), K = 160, KNN = 0.76, SVM = 0.93\n",
    "- Img = (128,128), K = 180, KNN = 0.75, SVM = 0.92\n",
    "- Img = (128,128), K = 200, KNN = 0.75, SVM = 0.94 (G,T) / 0.92 (G,E) / 0.86 (G,E,T) / 0.86 (G,T,E)\n",
    "- Img = (128,128), K = 240, KNN = 0.76, SVM = 0.96 (G,T) / 0.90:0.94 (G,E)\n",
    "- Img = (128,128), K = 350, KNN = 0.75, SVM = 0.94\n",
    "- Img = (128,128), K = 500, KNN = 0.76, SVM = 0.97\n",
    "- Img = (128,128), K = 700, KNN = 0.71, SVM = 0.95\n",
    "- Img = (128,128), K = 1000, KNN = 0.63, SVM = 0.95\n"
   ]
  },
  {
   "cell_type": "markdown",
   "id": "FEwl7fHNW0i7",
   "metadata": {
    "id": "FEwl7fHNW0i7"
   },
   "source": [
    "### Conclusion\n",
    "- Best image : 128x128\n",
    "  1. 128: .90:.94\n",
    "  2. 192: .90:.92\n",
    "  3. 164: .90:.91\n",
    "  4. 64: .89:.90\n",
    "  5. 96: .89:.89\n",
    "  6. 224: .88:.90\n",
    "- Best K val : 500 \n",
    "  1. 500 : .92:.95\n",
    "  2. 240 : .90:.95\n",
    "  3. 700 : .92:.94\n",
    "  4. 1000 : .92:.94\n",
    "  5. 350 : .91:.94\n",
    "  6. 180 : .88:.93\n",
    "- Best C val : 6\n",
    "- Best G val : 0.0015"
   ]
  },
  {
   "cell_type": "markdown",
   "id": "bee227a3",
   "metadata": {
    "id": "bee227a3"
   },
   "source": [
    "# Classification Without SIFT\n",
    "\n",
    "- input: `X, y`\n",
    "- output: -"
   ]
  },
  {
   "cell_type": "markdown",
   "id": "863fce53",
   "metadata": {
    "id": "863fce53"
   },
   "source": [
    "### Image Preprocessing\n",
    "\n",
    "Data should be resized for lower time consumtion training"
   ]
  },
  {
   "cell_type": "code",
   "execution_count": 35,
   "id": "568216c7",
   "metadata": {
    "id": "568216c7"
   },
   "outputs": [],
   "source": [
    "# new_X = X\n",
    "new_X = []\n",
    "\n",
    "for i in range(X.shape[0]) :\n",
    "    new_X.append(equalizing(resizing(X[i], 28)))\n",
    "    \n",
    "new_X = np.array(new_X, dtype=np.uint8)"
   ]
  },
  {
   "cell_type": "markdown",
   "id": "5424a478",
   "metadata": {},
   "source": [
    "### Visualize Result Data"
   ]
  },
  {
   "cell_type": "code",
   "execution_count": 36,
   "id": "63c06f01",
   "metadata": {
    "colab": {
     "base_uri": "https://localhost:8080/",
     "height": 244
    },
    "executionInfo": {
     "elapsed": 974,
     "status": "ok",
     "timestamp": 1648212100155,
     "user": {
      "displayName": "Rama Tri Agung",
      "photoUrl": "https://lh3.googleusercontent.com/a-/AOh14GhO5MpcihqCafTv8Tf9MUwRyHV6tO2uPdiXma2V=s64",
      "userId": "07374601175312417068"
     },
     "user_tz": -420
    },
    "id": "dad58e22",
    "outputId": "f1c45b6a-2a6e-4021-84be-7e734c564a4a"
   },
   "outputs": [
    {
     "data": {
      "image/png": "[encoded data removed]",
      "text/plain": [
       "<Figure size 1152x288 with 8 Axes>"
      ]
     },
     "metadata": {
      "needs_background": "light"
     },
     "output_type": "display_data"
    }
   ],
   "source": [
    "np.random.seed(42)\n",
    "\n",
    "fig = plt.figure(figsize=(16, 4))\n",
    "columns = 8\n",
    "rows = 1\n",
    "for i in range(1, columns*rows + 1):\n",
    "    img = np.array(new_X[np.random.randint(0, new_X.shape[0]), :])\n",
    "    fig.add_subplot(rows, columns, i)\n",
    "    plt.imshow(img, cmap='gray', vmin=0, vmax=255)\n",
    "    plt.axis('off')\n",
    "\n",
    "plt.show()"
   ]
  },
  {
   "cell_type": "markdown",
   "id": "1bb93b08",
   "metadata": {
    "id": "1bb93b08"
   },
   "source": [
    "### Preprocessing"
   ]
  },
  {
   "cell_type": "code",
   "execution_count": 37,
   "id": "90fd017d",
   "metadata": {
    "id": "90fd017d",
    "outputId": "7a63dc19-560c-46b9-c893-6072ff52b961"
   },
   "outputs": [
    {
     "name": "stdout",
     "output_type": "stream",
     "text": [
      "Feature X data dimension: (2940, 784)\n"
     ]
    }
   ],
   "source": [
    "# reshape data\n",
    "X_feature = np.reshape(new_X, (new_X.shape[0], new_X[0].shape[0]*new_X[0].shape[1]))\n",
    "print(\"Feature X data dimension:\", X_feature.shape)"
   ]
  },
  {
   "cell_type": "code",
   "execution_count": 38,
   "id": "e04ace7a",
   "metadata": {
    "id": "e04ace7a",
    "outputId": "fc2ea163-802d-48b7-a13a-34543f0a25f1"
   },
   "outputs": [],
   "source": [
    "# normalization\n",
    "scaler = StandardScaler().fit(X_feature)\n",
    "X_scale = scaler.transform(X_feature)"
   ]
  },
  {
   "cell_type": "markdown",
   "id": "7c56371a",
   "metadata": {},
   "source": [
    "#### Save scaler"
   ]
  },
  {
   "cell_type": "code",
   "execution_count": 39,
   "id": "1ce08895",
   "metadata": {},
   "outputs": [],
   "source": [
    "# Just save normalization function for future used\n",
    "save_file_pickle(SCALER_WOS_FILE_PICKLE)"
   ]
  },
  {
   "cell_type": "code",
   "execution_count": 40,
   "id": "d696176a",
   "metadata": {
    "id": "d696176a"
   },
   "outputs": [
    {
     "name": "stdout",
     "output_type": "stream",
     "text": [
      "Size of training: 2499\n",
      "Size of testing: 441\n"
     ]
    }
   ],
   "source": [
    "# splitting data\n",
    "X_train, X_test, y_train, y_test = train_test_split(X_scale, y, test_size=0.15, random_state=42)\n",
    "\n",
    "print(\"Size of training:\", X_train.shape[0])\n",
    "print(\"Size of testing:\", X_test.shape[0])"
   ]
  },
  {
   "cell_type": "markdown",
   "id": "fe36a378",
   "metadata": {
    "id": "fe36a378"
   },
   "source": [
    "### SVM\n",
    "\n",
    "Using GridSearchCV for tuning parameter, with scenario:\n",
    "- 'C': \\[ 1, 3, 6, 10, 15 \\]\n",
    "- 'gamma': \\[ 'auto', 0.0008, 0.001, 0.0015, 0.0018 \\]\n",
    "    - 'auto' = 1 / nfeatures"
   ]
  },
  {
   "cell_type": "markdown",
   "id": "d03908ae",
   "metadata": {},
   "source": [
    "#### Load model"
   ]
  },
  {
   "cell_type": "code",
   "execution_count": 41,
   "id": "8bee594f",
   "metadata": {},
   "outputs": [],
   "source": [
    "# Just load model without re-training if you want\n",
    "svm_wos = load_file_pickle(SVM_WOS_FILE_PICKLE)"
   ]
  },
  {
   "cell_type": "code",
   "execution_count": 42,
   "id": "698b084d",
   "metadata": {
    "id": "698b084d"
   },
   "outputs": [],
   "source": [
    "svm_wos_params = {\n",
    "    'C': [1, 3, 6, 10, 15],\n",
    "    'gamma': ['auto', 0.0008, 0.001, 0.0015, 0.0018],\n",
    "}\n",
    "svm_wos = GridSearchCV(estimator=SVC(kernel='rbf', probability=True), param_grid=svm_wos_params, cv=5, verbose=3)"
   ]
  },
  {
   "cell_type": "code",
   "execution_count": 43,
   "id": "729b9961",
   "metadata": {
    "id": "729b9961",
    "scrolled": true
   },
   "outputs": [
    {
     "name": "stdout",
     "output_type": "stream",
     "text": [
      "Fitting 5 folds for each of 25 candidates, totalling 125 fits\n",
      "[CV 1/5] END ...................C=1, gamma=auto;, score=0.372 total time=   5.7s\n",
      "[CV 2/5] END ...................C=1, gamma=auto;, score=0.386 total time=   4.5s\n",
      "[CV 3/5] END ...................C=1, gamma=auto;, score=0.354 total time=   7.2s\n",
      "[CV 4/5] END ...................C=1, gamma=auto;, score=0.368 total time=   7.6s\n",
      "[CV 5/5] END ...................C=1, gamma=auto;, score=0.371 total time=   7.8s\n",
      "[CV 1/5] END .................C=1, gamma=0.0008;, score=0.354 total time=   7.0s\n",
      "[CV 2/5] END .................C=1, gamma=0.0008;, score=0.348 total time=   6.5s\n",
      "[CV 3/5] END .................C=1, gamma=0.0008;, score=0.318 total time=   6.3s\n",
      "[CV 4/5] END .................C=1, gamma=0.0008;, score=0.346 total time=   6.5s\n",
      "[CV 5/5] END .................C=1, gamma=0.0008;, score=0.349 total time=   5.5s\n",
      "[CV 1/5] END ..................C=1, gamma=0.001;, score=0.372 total time=   5.9s\n",
      "[CV 2/5] END ..................C=1, gamma=0.001;, score=0.366 total time=   6.5s\n",
      "[CV 3/5] END ..................C=1, gamma=0.001;, score=0.328 total time=   5.4s\n",
      "[CV 4/5] END ..................C=1, gamma=0.001;, score=0.352 total time=   5.4s\n",
      "[CV 5/5] END ..................C=1, gamma=0.001;, score=0.349 total time=   5.7s\n",
      "[CV 1/5] END .................C=1, gamma=0.0015;, score=0.368 total time=   7.7s\n",
      "[CV 2/5] END .................C=1, gamma=0.0015;, score=0.402 total time=   7.2s\n",
      "[CV 3/5] END .................C=1, gamma=0.0015;, score=0.362 total time=   4.0s\n",
      "[CV 4/5] END .................C=1, gamma=0.0015;, score=0.366 total time=   4.4s\n",
      "[CV 5/5] END .................C=1, gamma=0.0015;, score=0.381 total time=   7.3s\n",
      "[CV 1/5] END .................C=1, gamma=0.0018;, score=0.366 total time=   7.3s\n",
      "[CV 2/5] END .................C=1, gamma=0.0018;, score=0.398 total time=   5.7s\n",
      "[CV 3/5] END .................C=1, gamma=0.0018;, score=0.368 total time=   4.7s\n",
      "[CV 4/5] END .................C=1, gamma=0.0018;, score=0.378 total time=   5.9s\n",
      "[CV 5/5] END .................C=1, gamma=0.0018;, score=0.383 total time=   8.6s\n",
      "[CV 1/5] END ...................C=3, gamma=auto;, score=0.458 total time=   8.5s\n",
      "[CV 2/5] END ...................C=3, gamma=auto;, score=0.462 total time=   7.0s\n",
      "[CV 3/5] END ...................C=3, gamma=auto;, score=0.458 total time=   8.5s\n",
      "[CV 4/5] END ...................C=3, gamma=auto;, score=0.448 total time=   7.2s\n",
      "[CV 5/5] END ...................C=3, gamma=auto;, score=0.463 total time=   8.9s\n",
      "[CV 1/5] END .................C=3, gamma=0.0008;, score=0.452 total time=   6.5s\n",
      "[CV 2/5] END .................C=3, gamma=0.0008;, score=0.458 total time=   4.0s\n",
      "[CV 3/5] END .................C=3, gamma=0.0008;, score=0.444 total time=   3.8s\n",
      "[CV 4/5] END .................C=3, gamma=0.0008;, score=0.450 total time=   5.1s\n",
      "[CV 5/5] END .................C=3, gamma=0.0008;, score=0.445 total time=   5.4s\n",
      "[CV 1/5] END ..................C=3, gamma=0.001;, score=0.462 total time=   4.6s\n",
      "[CV 2/5] END ..................C=3, gamma=0.001;, score=0.456 total time=   4.6s\n",
      "[CV 3/5] END ..................C=3, gamma=0.001;, score=0.466 total time=   4.2s\n",
      "[CV 4/5] END ..................C=3, gamma=0.001;, score=0.454 total time=   5.6s\n",
      "[CV 5/5] END ..................C=3, gamma=0.001;, score=0.453 total time=   3.9s\n",
      "[CV 1/5] END .................C=3, gamma=0.0015;, score=0.462 total time=   3.3s\n",
      "[CV 2/5] END .................C=3, gamma=0.0015;, score=0.468 total time=   3.2s\n",
      "[CV 3/5] END .................C=3, gamma=0.0015;, score=0.452 total time=   5.2s\n",
      "[CV 4/5] END .................C=3, gamma=0.0015;, score=0.450 total time=   5.2s\n",
      "[CV 5/5] END .................C=3, gamma=0.0015;, score=0.469 total time=   5.6s\n",
      "[CV 1/5] END .................C=3, gamma=0.0018;, score=0.440 total time=   4.8s\n",
      "[CV 2/5] END .................C=3, gamma=0.0018;, score=0.464 total time=   7.4s\n",
      "[CV 3/5] END .................C=3, gamma=0.0018;, score=0.458 total time=   7.1s\n",
      "[CV 4/5] END .................C=3, gamma=0.0018;, score=0.450 total time=   5.2s\n",
      "[CV 5/5] END .................C=3, gamma=0.0018;, score=0.459 total time=   5.1s\n",
      "[CV 1/5] END ...................C=6, gamma=auto;, score=0.484 total time=   5.7s\n",
      "[CV 2/5] END ...................C=6, gamma=auto;, score=0.466 total time=   4.8s\n",
      "[CV 3/5] END ...................C=6, gamma=auto;, score=0.478 total time=   4.5s\n",
      "[CV 4/5] END ...................C=6, gamma=auto;, score=0.452 total time=   5.3s\n",
      "[CV 5/5] END ...................C=6, gamma=auto;, score=0.475 total time=   5.9s\n",
      "[CV 1/5] END .................C=6, gamma=0.0008;, score=0.464 total time=   5.2s\n",
      "[CV 2/5] END .................C=6, gamma=0.0008;, score=0.460 total time=   6.0s\n",
      "[CV 3/5] END .................C=6, gamma=0.0008;, score=0.464 total time=   5.7s\n",
      "[CV 4/5] END .................C=6, gamma=0.0008;, score=0.464 total time=   5.4s\n",
      "[CV 5/5] END .................C=6, gamma=0.0008;, score=0.481 total time=   5.7s\n",
      "[CV 1/5] END ..................C=6, gamma=0.001;, score=0.478 total time=   6.3s\n",
      "[CV 2/5] END ..................C=6, gamma=0.001;, score=0.464 total time=   5.7s\n",
      "[CV 3/5] END ..................C=6, gamma=0.001;, score=0.470 total time=   5.0s\n",
      "[CV 4/5] END ..................C=6, gamma=0.001;, score=0.462 total time=   4.8s\n",
      "[CV 5/5] END ..................C=6, gamma=0.001;, score=0.479 total time=   5.2s\n",
      "[CV 1/5] END .................C=6, gamma=0.0015;, score=0.482 total time=   4.1s\n",
      "[CV 2/5] END .................C=6, gamma=0.0015;, score=0.470 total time=   3.9s\n",
      "[CV 3/5] END .................C=6, gamma=0.0015;, score=0.468 total time=   4.1s\n",
      "[CV 4/5] END .................C=6, gamma=0.0015;, score=0.462 total time=   4.7s\n",
      "[CV 5/5] END .................C=6, gamma=0.0015;, score=0.479 total time=   4.8s\n",
      "[CV 1/5] END .................C=6, gamma=0.0018;, score=0.468 total time=   4.9s\n",
      "[CV 2/5] END .................C=6, gamma=0.0018;, score=0.452 total time=   4.7s\n",
      "[CV 3/5] END .................C=6, gamma=0.0018;, score=0.452 total time=   3.4s\n",
      "[CV 4/5] END .................C=6, gamma=0.0018;, score=0.452 total time=   4.4s\n",
      "[CV 5/5] END .................C=6, gamma=0.0018;, score=0.473 total time=   4.2s\n",
      "[CV 1/5] END ..................C=10, gamma=auto;, score=0.486 total time=   3.9s\n",
      "[CV 2/5] END ..................C=10, gamma=auto;, score=0.462 total time=   3.9s\n",
      "[CV 3/5] END ..................C=10, gamma=auto;, score=0.474 total time=   3.7s\n",
      "[CV 4/5] END ..................C=10, gamma=auto;, score=0.448 total time=   3.9s\n",
      "[CV 5/5] END ..................C=10, gamma=auto;, score=0.477 total time=   3.8s\n",
      "[CV 1/5] END ................C=10, gamma=0.0008;, score=0.478 total time=   3.4s\n",
      "[CV 2/5] END ................C=10, gamma=0.0008;, score=0.458 total time=   3.7s\n",
      "[CV 3/5] END ................C=10, gamma=0.0008;, score=0.466 total time=   3.4s\n",
      "[CV 4/5] END ................C=10, gamma=0.0008;, score=0.448 total time=   3.5s\n",
      "[CV 5/5] END ................C=10, gamma=0.0008;, score=0.475 total time=   3.5s\n",
      "[CV 1/5] END .................C=10, gamma=0.001;, score=0.488 total time=   3.5s\n",
      "[CV 2/5] END .................C=10, gamma=0.001;, score=0.468 total time=   3.3s\n",
      "[CV 3/5] END .................C=10, gamma=0.001;, score=0.468 total time=   3.7s\n",
      "[CV 4/5] END .................C=10, gamma=0.001;, score=0.452 total time=   3.7s\n",
      "[CV 5/5] END .................C=10, gamma=0.001;, score=0.483 total time=   3.4s\n",
      "[CV 1/5] END ................C=10, gamma=0.0015;, score=0.486 total time=   3.8s\n",
      "[CV 2/5] END ................C=10, gamma=0.0015;, score=0.452 total time=   4.0s\n",
      "[CV 3/5] END ................C=10, gamma=0.0015;, score=0.464 total time=   4.0s\n",
      "[CV 4/5] END ................C=10, gamma=0.0015;, score=0.464 total time=   3.6s\n",
      "[CV 5/5] END ................C=10, gamma=0.0015;, score=0.483 total time=   3.4s\n",
      "[CV 1/5] END ................C=10, gamma=0.0018;, score=0.474 total time=   3.5s\n",
      "[CV 2/5] END ................C=10, gamma=0.0018;, score=0.452 total time=   4.3s\n",
      "[CV 3/5] END ................C=10, gamma=0.0018;, score=0.458 total time=   3.7s\n",
      "[CV 4/5] END ................C=10, gamma=0.0018;, score=0.460 total time=   3.7s\n",
      "[CV 5/5] END ................C=10, gamma=0.0018;, score=0.477 total time=   4.4s\n",
      "[CV 1/5] END ..................C=15, gamma=auto;, score=0.490 total time=   3.8s\n",
      "[CV 2/5] END ..................C=15, gamma=auto;, score=0.462 total time=   3.9s\n",
      "[CV 3/5] END ..................C=15, gamma=auto;, score=0.472 total time=   4.1s\n",
      "[CV 4/5] END ..................C=15, gamma=auto;, score=0.462 total time=   3.3s\n",
      "[CV 5/5] END ..................C=15, gamma=auto;, score=0.477 total time=   3.3s\n",
      "[CV 1/5] END ................C=15, gamma=0.0008;, score=0.482 total time=   3.5s\n",
      "[CV 2/5] END ................C=15, gamma=0.0008;, score=0.448 total time=   3.5s\n",
      "[CV 3/5] END ................C=15, gamma=0.0008;, score=0.458 total time=   3.3s\n",
      "[CV 4/5] END ................C=15, gamma=0.0008;, score=0.450 total time=   3.3s\n",
      "[CV 5/5] END ................C=15, gamma=0.0008;, score=0.469 total time=   3.2s\n",
      "[CV 1/5] END .................C=15, gamma=0.001;, score=0.492 total time=   3.6s\n",
      "[CV 2/5] END .................C=15, gamma=0.001;, score=0.460 total time=   3.9s\n",
      "[CV 3/5] END .................C=15, gamma=0.001;, score=0.464 total time=   3.7s\n",
      "[CV 4/5] END .................C=15, gamma=0.001;, score=0.448 total time=   3.6s\n",
      "[CV 5/5] END .................C=15, gamma=0.001;, score=0.469 total time=   3.9s\n",
      "[CV 1/5] END ................C=15, gamma=0.0015;, score=0.494 total time=   3.9s\n",
      "[CV 2/5] END ................C=15, gamma=0.0015;, score=0.456 total time=   4.1s\n",
      "[CV 3/5] END ................C=15, gamma=0.0015;, score=0.466 total time=   4.0s\n",
      "[CV 4/5] END ................C=15, gamma=0.0015;, score=0.470 total time=   3.6s\n",
      "[CV 5/5] END ................C=15, gamma=0.0015;, score=0.487 total time=   4.1s\n",
      "[CV 1/5] END ................C=15, gamma=0.0018;, score=0.472 total time=   3.8s\n",
      "[CV 2/5] END ................C=15, gamma=0.0018;, score=0.456 total time=   4.4s\n",
      "[CV 3/5] END ................C=15, gamma=0.0018;, score=0.456 total time=   4.1s\n",
      "[CV 4/5] END ................C=15, gamma=0.0018;, score=0.458 total time=   4.2s\n",
      "[CV 5/5] END ................C=15, gamma=0.0018;, score=0.477 total time=   3.9s\n"
     ]
    },
    {
     "data": {
      "text/plain": [
       "GridSearchCV(cv=5, estimator=SVC(),\n",
       "             param_grid={'C': [1, 3, 6, 10, 15],\n",
       "                         'gamma': ['auto', 0.0008, 0.001, 0.0015, 0.0018]},\n",
       "             verbose=3)"
      ]
     },
     "execution_count": 43,
     "metadata": {},
     "output_type": "execute_result"
    }
   ],
   "source": [
    "svm_wos.fit(X_train, y_train)"
   ]
  },
  {
   "cell_type": "code",
   "execution_count": 44,
   "id": "79542ab9",
   "metadata": {
    "id": "79542ab9"
   },
   "outputs": [
    {
     "name": "stdout",
     "output_type": "stream",
     "text": [
      "Best Model: SVC(C=15, gamma=0.0015)\n",
      "Best CV Score: 0.47459478957915835\n"
     ]
    }
   ],
   "source": [
    "print(\"Best Model:\", svm_wos.best_estimator_)\n",
    "print(\"Best CV Score:\", svm_wos.best_score_)"
   ]
  },
  {
   "cell_type": "markdown",
   "id": "87c05632",
   "metadata": {},
   "source": [
    "#### All result score CV from tuning parameter SVM"
   ]
  },
  {
   "cell_type": "code",
   "execution_count": 45,
   "id": "8395f188",
   "metadata": {
    "id": "8395f188",
    "scrolled": true
   },
   "outputs": [
    {
     "data": {
      "text/html": [
       "<div>\n",
       "<style scoped>\n",
       "    .dataframe tbody tr th:only-of-type {\n",
       "        vertical-align: middle;\n",
       "    }\n",
       "\n",
       "    .dataframe tbody tr th {\n",
       "        vertical-align: top;\n",
       "    }\n",
       "\n",
       "    .dataframe thead th {\n",
       "        text-align: right;\n",
       "    }\n",
       "</style>\n",
       "<table border=\"1\" class=\"dataframe\">\n",
       "  <thead>\n",
       "    <tr style=\"text-align: right;\">\n",
       "      <th></th>\n",
       "      <th>params</th>\n",
       "      <th>rank_test_score</th>\n",
       "      <th>mean_test_score</th>\n",
       "      <th>std_test_score</th>\n",
       "    </tr>\n",
       "    <tr>\n",
       "      <th>kernel</th>\n",
       "      <th></th>\n",
       "      <th></th>\n",
       "      <th></th>\n",
       "      <th></th>\n",
       "    </tr>\n",
       "  </thead>\n",
       "  <tbody>\n",
       "    <tr>\n",
       "      <th>15_0.0015</th>\n",
       "      <td>{'C': 15, 'gamma': 0.0015}</td>\n",
       "      <td>1</td>\n",
       "      <td>0.474595</td>\n",
       "      <td>0.013932</td>\n",
       "    </tr>\n",
       "    <tr>\n",
       "      <th>15_auto</th>\n",
       "      <td>{'C': 15, 'gamma': 'auto'}</td>\n",
       "      <td>2</td>\n",
       "      <td>0.472591</td>\n",
       "      <td>0.010457</td>\n",
       "    </tr>\n",
       "    <tr>\n",
       "      <th>6_0.0015</th>\n",
       "      <td>{'C': 6, 'gamma': 0.0015}</td>\n",
       "      <td>3</td>\n",
       "      <td>0.472192</td>\n",
       "      <td>0.007324</td>\n",
       "    </tr>\n",
       "    <tr>\n",
       "      <th>10_0.001</th>\n",
       "      <td>{'C': 10, 'gamma': 0.001}</td>\n",
       "      <td>4</td>\n",
       "      <td>0.471793</td>\n",
       "      <td>0.012712</td>\n",
       "    </tr>\n",
       "    <tr>\n",
       "      <th>6_auto</th>\n",
       "      <td>{'C': 6, 'gamma': 'auto'}</td>\n",
       "      <td>5</td>\n",
       "      <td>0.470990</td>\n",
       "      <td>0.011132</td>\n",
       "    </tr>\n",
       "    <tr>\n",
       "      <th>6_0.001</th>\n",
       "      <td>{'C': 6, 'gamma': 0.001}</td>\n",
       "      <td>6</td>\n",
       "      <td>0.470592</td>\n",
       "      <td>0.006964</td>\n",
       "    </tr>\n",
       "    <tr>\n",
       "      <th>10_0.0015</th>\n",
       "      <td>{'C': 10, 'gamma': 0.0015}</td>\n",
       "      <td>7</td>\n",
       "      <td>0.469793</td>\n",
       "      <td>0.012805</td>\n",
       "    </tr>\n",
       "    <tr>\n",
       "      <th>10_auto</th>\n",
       "      <td>{'C': 10, 'gamma': 'auto'}</td>\n",
       "      <td>8</td>\n",
       "      <td>0.469391</td>\n",
       "      <td>0.013164</td>\n",
       "    </tr>\n",
       "    <tr>\n",
       "      <th>6_0.0008</th>\n",
       "      <td>{'C': 6, 'gamma': 0.0008}</td>\n",
       "      <td>9</td>\n",
       "      <td>0.466592</td>\n",
       "      <td>0.007350</td>\n",
       "    </tr>\n",
       "    <tr>\n",
       "      <th>15_0.001</th>\n",
       "      <td>{'C': 15, 'gamma': 0.001}</td>\n",
       "      <td>10</td>\n",
       "      <td>0.466588</td>\n",
       "      <td>0.014470</td>\n",
       "    </tr>\n",
       "    <tr>\n",
       "      <th>10_0.0008</th>\n",
       "      <td>{'C': 10, 'gamma': 0.0008}</td>\n",
       "      <td>11</td>\n",
       "      <td>0.464990</td>\n",
       "      <td>0.011018</td>\n",
       "    </tr>\n",
       "    <tr>\n",
       "      <th>10_0.0018</th>\n",
       "      <td>{'C': 10, 'gamma': 0.0018}</td>\n",
       "      <td>12</td>\n",
       "      <td>0.464191</td>\n",
       "      <td>0.009629</td>\n",
       "    </tr>\n",
       "    <tr>\n",
       "      <th>15_0.0018</th>\n",
       "      <td>{'C': 15, 'gamma': 0.0018}</td>\n",
       "      <td>13</td>\n",
       "      <td>0.463791</td>\n",
       "      <td>0.008895</td>\n",
       "    </tr>\n",
       "    <tr>\n",
       "      <th>15_0.0008</th>\n",
       "      <td>{'C': 15, 'gamma': 0.0008}</td>\n",
       "      <td>14</td>\n",
       "      <td>0.461388</td>\n",
       "      <td>0.012667</td>\n",
       "    </tr>\n",
       "    <tr>\n",
       "      <th>3_0.0015</th>\n",
       "      <td>{'C': 3, 'gamma': 0.0015}</td>\n",
       "      <td>15</td>\n",
       "      <td>0.460188</td>\n",
       "      <td>0.007896</td>\n",
       "    </tr>\n",
       "    <tr>\n",
       "      <th>6_0.0018</th>\n",
       "      <td>{'C': 6, 'gamma': 0.0018}</td>\n",
       "      <td>16</td>\n",
       "      <td>0.459389</td>\n",
       "      <td>0.009184</td>\n",
       "    </tr>\n",
       "    <tr>\n",
       "      <th>3_0.001</th>\n",
       "      <td>{'C': 3, 'gamma': 0.001}</td>\n",
       "      <td>17</td>\n",
       "      <td>0.458181</td>\n",
       "      <td>0.005016</td>\n",
       "    </tr>\n",
       "    <tr>\n",
       "      <th>3_auto</th>\n",
       "      <td>{'C': 3, 'gamma': 'auto'}</td>\n",
       "      <td>18</td>\n",
       "      <td>0.457785</td>\n",
       "      <td>0.005292</td>\n",
       "    </tr>\n",
       "    <tr>\n",
       "      <th>3_0.0018</th>\n",
       "      <td>{'C': 3, 'gamma': 0.0018}</td>\n",
       "      <td>19</td>\n",
       "      <td>0.454184</td>\n",
       "      <td>0.008391</td>\n",
       "    </tr>\n",
       "    <tr>\n",
       "      <th>3_0.0008</th>\n",
       "      <td>{'C': 3, 'gamma': 0.0008}</td>\n",
       "      <td>20</td>\n",
       "      <td>0.449778</td>\n",
       "      <td>0.005096</td>\n",
       "    </tr>\n",
       "    <tr>\n",
       "      <th>1_0.0018</th>\n",
       "      <td>{'C': 1, 'gamma': 0.0018}</td>\n",
       "      <td>21</td>\n",
       "      <td>0.378553</td>\n",
       "      <td>0.011534</td>\n",
       "    </tr>\n",
       "    <tr>\n",
       "      <th>1_0.0015</th>\n",
       "      <td>{'C': 1, 'gamma': 0.0015}</td>\n",
       "      <td>22</td>\n",
       "      <td>0.375752</td>\n",
       "      <td>0.014549</td>\n",
       "    </tr>\n",
       "    <tr>\n",
       "      <th>1_auto</th>\n",
       "      <td>{'C': 1, 'gamma': 'auto'}</td>\n",
       "      <td>23</td>\n",
       "      <td>0.370148</td>\n",
       "      <td>0.010202</td>\n",
       "    </tr>\n",
       "    <tr>\n",
       "      <th>1_0.001</th>\n",
       "      <td>{'C': 1, 'gamma': 0.001}</td>\n",
       "      <td>24</td>\n",
       "      <td>0.353339</td>\n",
       "      <td>0.015323</td>\n",
       "    </tr>\n",
       "    <tr>\n",
       "      <th>1_0.0008</th>\n",
       "      <td>{'C': 1, 'gamma': 0.0008}</td>\n",
       "      <td>25</td>\n",
       "      <td>0.342939</td>\n",
       "      <td>0.012747</td>\n",
       "    </tr>\n",
       "  </tbody>\n",
       "</table>\n",
       "</div>"
      ],
      "text/plain": [
       "                               params  rank_test_score  mean_test_score  \\\n",
       "kernel                                                                    \n",
       "15_0.0015  {'C': 15, 'gamma': 0.0015}                1         0.474595   \n",
       "15_auto    {'C': 15, 'gamma': 'auto'}                2         0.472591   \n",
       "6_0.0015    {'C': 6, 'gamma': 0.0015}                3         0.472192   \n",
       "10_0.001    {'C': 10, 'gamma': 0.001}                4         0.471793   \n",
       "6_auto      {'C': 6, 'gamma': 'auto'}                5         0.470990   \n",
       "6_0.001      {'C': 6, 'gamma': 0.001}                6         0.470592   \n",
       "10_0.0015  {'C': 10, 'gamma': 0.0015}                7         0.469793   \n",
       "10_auto    {'C': 10, 'gamma': 'auto'}                8         0.469391   \n",
       "6_0.0008    {'C': 6, 'gamma': 0.0008}                9         0.466592   \n",
       "15_0.001    {'C': 15, 'gamma': 0.001}               10         0.466588   \n",
       "10_0.0008  {'C': 10, 'gamma': 0.0008}               11         0.464990   \n",
       "10_0.0018  {'C': 10, 'gamma': 0.0018}               12         0.464191   \n",
       "15_0.0018  {'C': 15, 'gamma': 0.0018}               13         0.463791   \n",
       "15_0.0008  {'C': 15, 'gamma': 0.0008}               14         0.461388   \n",
       "3_0.0015    {'C': 3, 'gamma': 0.0015}               15         0.460188   \n",
       "6_0.0018    {'C': 6, 'gamma': 0.0018}               16         0.459389   \n",
       "3_0.001      {'C': 3, 'gamma': 0.001}               17         0.458181   \n",
       "3_auto      {'C': 3, 'gamma': 'auto'}               18         0.457785   \n",
       "3_0.0018    {'C': 3, 'gamma': 0.0018}               19         0.454184   \n",
       "3_0.0008    {'C': 3, 'gamma': 0.0008}               20         0.449778   \n",
       "1_0.0018    {'C': 1, 'gamma': 0.0018}               21         0.378553   \n",
       "1_0.0015    {'C': 1, 'gamma': 0.0015}               22         0.375752   \n",
       "1_auto      {'C': 1, 'gamma': 'auto'}               23         0.370148   \n",
       "1_0.001      {'C': 1, 'gamma': 0.001}               24         0.353339   \n",
       "1_0.0008    {'C': 1, 'gamma': 0.0008}               25         0.342939   \n",
       "\n",
       "           std_test_score  \n",
       "kernel                     \n",
       "15_0.0015        0.013932  \n",
       "15_auto          0.010457  \n",
       "6_0.0015         0.007324  \n",
       "10_0.001         0.012712  \n",
       "6_auto           0.011132  \n",
       "6_0.001          0.006964  \n",
       "10_0.0015        0.012805  \n",
       "10_auto          0.013164  \n",
       "6_0.0008         0.007350  \n",
       "15_0.001         0.014470  \n",
       "10_0.0008        0.011018  \n",
       "10_0.0018        0.009629  \n",
       "15_0.0018        0.008895  \n",
       "15_0.0008        0.012667  \n",
       "3_0.0015         0.007896  \n",
       "6_0.0018         0.009184  \n",
       "3_0.001          0.005016  \n",
       "3_auto           0.005292  \n",
       "3_0.0018         0.008391  \n",
       "3_0.0008         0.005096  \n",
       "1_0.0018         0.011534  \n",
       "1_0.0015         0.014549  \n",
       "1_auto           0.010202  \n",
       "1_0.001          0.015323  \n",
       "1_0.0008         0.012747  "
      ]
     },
     "execution_count": 45,
     "metadata": {},
     "output_type": "execute_result"
    }
   ],
   "source": [
    "cv_results_df = pd.DataFrame(svm_wos.cv_results_)\n",
    "cv_results_df = cv_results_df.sort_values(by=['rank_test_score'])\n",
    "cv_results_df = (\n",
    "    cv_results_df\n",
    "    .set_index(cv_results_df[\"params\"].apply(\n",
    "        lambda x: \"_\".join(str(val) for val in x.values()))\n",
    "    )\n",
    "    .rename_axis('kernel')\n",
    ")\n",
    "cv_results_df[\n",
    "    ['params', 'rank_test_score', 'mean_test_score', 'std_test_score']\n",
    "]"
   ]
  },
  {
   "cell_type": "markdown",
   "id": "4b85824c",
   "metadata": {},
   "source": [
    "#### Save model"
   ]
  },
  {
   "cell_type": "code",
   "execution_count": 46,
   "id": "d6ceb411",
   "metadata": {},
   "outputs": [],
   "source": [
    "# Just save model for future used\n",
    "save_file_pickle(SVM_WOS_FILE_PICKLE)"
   ]
  },
  {
   "cell_type": "markdown",
   "id": "355a06c4",
   "metadata": {},
   "source": [
    "### Predict Data Testing\n",
    "\n",
    "Using SVC(C=10, gamma=0.0015)"
   ]
  },
  {
   "cell_type": "code",
   "execution_count": 47,
   "id": "036f5044",
   "metadata": {
    "id": "036f5044"
   },
   "outputs": [],
   "source": [
    "y_pred = svm_wos.predict(X_test)"
   ]
  },
  {
   "cell_type": "code",
   "execution_count": null,
   "id": "054cc98c",
   "metadata": {},
   "outputs": [],
   "source": [
    "test = svm_wos.predict_proba(np.reshape(X_test[0], (1, -1)))\n",
    "test"
   ]
  },
  {
   "cell_type": "markdown",
   "id": "850bd0cd",
   "metadata": {},
   "source": [
    "#### Heatmap result predict"
   ]
  },
  {
   "cell_type": "code",
   "execution_count": 48,
   "id": "7a993651",
   "metadata": {},
   "outputs": [
    {
     "data": {
      "image/png": "[encoded data removed]",
      "text/plain": [
       "<Figure size 1224x792 with 1 Axes>"
      ]
     },
     "metadata": {
      "needs_background": "light"
     },
     "output_type": "display_data"
    }
   ],
   "source": [
    "conf_wos = pd.DataFrame(confusion_matrix(y_test, y_pred), columns=hanacaraka, index=hanacaraka)\n",
    "\n",
    "plt.figure(figsize=(17,11))\n",
    "\n",
    "res = sns.heatmap(conf_wos, annot=True, fmt=\"g\", cmap=\"Blues\", cbar=False)\n",
    "res.set_yticklabels(res.get_ymajorticklabels(), fontsize = 14)\n",
    "res.set_xticklabels(res.get_xmajorticklabels(), fontsize = 14)\n",
    "\n",
    "plt.xlabel(\"Predicted\")\n",
    "plt.ylabel(\"Actual\")\n",
    "plt.title(\"Confusion Matrix Plot\")\n",
    "plt.show()"
   ]
  },
  {
   "cell_type": "code",
   "execution_count": 49,
   "id": "56899d27",
   "metadata": {
    "id": "56899d27",
    "outputId": "6e192d60-aea8-41d1-f2fb-0d3f7724b060"
   },
   "outputs": [
    {
     "name": "stdout",
     "output_type": "stream",
     "text": [
      "Classification report result:\n",
      "              precision    recall  f1-score   support\n",
      "\n",
      "          ba       0.41      0.57      0.48        21\n",
      "          ca       0.37      0.38      0.38        26\n",
      "          da       0.45      0.39      0.42        23\n",
      "         dha       0.68      0.54      0.60        28\n",
      "          ga       0.76      0.80      0.78        20\n",
      "          ha       0.40      0.63      0.49        19\n",
      "          ja       0.50      0.46      0.48        13\n",
      "          ka       0.47      0.50      0.48        28\n",
      "          la       0.43      0.36      0.39        25\n",
      "          ma       0.62      0.45      0.53        22\n",
      "          na       0.33      0.35      0.34        20\n",
      "         nga       0.67      0.86      0.75        21\n",
      "         nya       0.51      0.86      0.64        21\n",
      "          pa       0.43      0.50      0.46        18\n",
      "          ra       0.90      0.79      0.84        24\n",
      "          sa       0.43      0.40      0.42        25\n",
      "          ta       0.47      0.28      0.35        25\n",
      "         tha       0.65      0.59      0.62        22\n",
      "          wa       0.35      0.29      0.32        21\n",
      "          ya       0.77      0.53      0.62        19\n",
      "\n",
      "    accuracy                           0.52       441\n",
      "   macro avg       0.53      0.53      0.52       441\n",
      "weighted avg       0.53      0.52      0.52       441\n",
      "\n"
     ]
    }
   ],
   "source": [
    "class_rep_wos = classification_report(y_test, y_pred)\n",
    "\n",
    "print(\"Classification report result:\")\n",
    "print(class_rep_wos)"
   ]
  },
  {
   "cell_type": "markdown",
   "id": "73fb7524",
   "metadata": {},
   "source": [
    "### Result Accuracy Score for SVM without SIFT"
   ]
  },
  {
   "cell_type": "code",
   "execution_count": 50,
   "id": "468eb23b",
   "metadata": {},
   "outputs": [
    {
     "name": "stdout",
     "output_type": "stream",
     "text": [
      "Accuracy score: 0.5215419501133787\n"
     ]
    }
   ],
   "source": [
    "acc_wos = accuracy_score(y_test, y_pred)\n",
    "print(\"Accuracy score:\", acc_wos)"
   ]
  },
  {
   "cell_type": "markdown",
   "id": "bb8002b5",
   "metadata": {},
   "source": [
    "# Note for Result SVM Without WIFT"
   ]
  },
  {
   "cell_type": "markdown",
   "id": "e4cdaef0",
   "metadata": {
    "id": "e4cdaef0"
   },
   "source": [
    "### Result:\n",
    "\n",
    "- Img = (25,25), SVM = 0.57\n",
    "- Img = (28,28), SVM = 0.51\n",
    "- Img = (32,32), SVM = 0.54\n",
    "- Img = (64,64), SVM = 0.45"
   ]
  },
  {
   "cell_type": "markdown",
   "id": "d7a81950",
   "metadata": {
    "id": "fb4ee024"
   },
   "source": [
    "# SVM With SIFT vs SVM Without SIFT Comparison"
   ]
  },
  {
   "cell_type": "code",
   "execution_count": 51,
   "id": "679ade71",
   "metadata": {},
   "outputs": [
    {
     "data": {
      "text/html": [
       "<div>\n",
       "<style scoped>\n",
       "    .dataframe tbody tr th:only-of-type {\n",
       "        vertical-align: middle;\n",
       "    }\n",
       "\n",
       "    .dataframe tbody tr th {\n",
       "        vertical-align: top;\n",
       "    }\n",
       "\n",
       "    .dataframe thead th {\n",
       "        text-align: right;\n",
       "    }\n",
       "</style>\n",
       "<table border=\"1\" class=\"dataframe\">\n",
       "  <thead>\n",
       "    <tr style=\"text-align: right;\">\n",
       "      <th></th>\n",
       "      <th>Model_SVM</th>\n",
       "      <th>Accuracy</th>\n",
       "    </tr>\n",
       "  </thead>\n",
       "  <tbody>\n",
       "    <tr>\n",
       "      <th>0</th>\n",
       "      <td>Without SIFT</td>\n",
       "      <td>0.521542</td>\n",
       "    </tr>\n",
       "    <tr>\n",
       "      <th>1</th>\n",
       "      <td>With SIFT</td>\n",
       "      <td>0.954649</td>\n",
       "    </tr>\n",
       "  </tbody>\n",
       "</table>\n",
       "</div>"
      ],
      "text/plain": [
       "      Model_SVM  Accuracy\n",
       "0  Without SIFT  0.521542\n",
       "1     With SIFT  0.954649"
      ]
     },
     "execution_count": 51,
     "metadata": {},
     "output_type": "execute_result"
    }
   ],
   "source": [
    "compare_df = pd.DataFrame({\"Model_SVM\": [\"Without SIFT\", \"With SIFT\"],\n",
    "                          \"Accuracy\": [acc_wos, acc_ws]})\n",
    "\n",
    "compare_df"
   ]
  },
  {
   "cell_type": "code",
   "execution_count": 52,
   "id": "eb357b2f",
   "metadata": {},
   "outputs": [
    {
     "data": {
      "image/png": "[encoded data removed]",
      "text/plain": [
       "<Figure size 432x360 with 1 Axes>"
      ]
     },
     "metadata": {
      "needs_background": "light"
     },
     "output_type": "display_data"
    }
   ],
   "source": [
    "fig, ax = plt.subplots(figsize=(6, 5))\n",
    "\n",
    "sns.barplot(x = 'Model_SVM',\n",
    "            y = 'Accuracy',\n",
    "            data = compare_df,\n",
    "            ax=ax,\n",
    "            color='yellow')\n",
    "\n",
    "ax.bar_label(ax.containers[-1], fmt='acc:\\n%.2f', label_type='center')\n",
    "ax.set(ylabel='Accuracy', xlabel='Model SVM', title=\"Comparation Accuracy SVM With SIFT vs Without SIFT\")\n",
    "\n",
    "plt.show()"
   ]
  },
  {
   "cell_type": "markdown",
   "id": "0a46bb40",
   "metadata": {},
   "source": [
    "# Predict From Input File"
   ]
  },
  {
   "cell_type": "code",
   "execution_count": 53,
   "id": "eeb0d616",
   "metadata": {},
   "outputs": [
    {
     "data": {
      "application/vnd.jupyter.widget-view+json": {
       "model_id": "cbefa2a79210464e83ffac97f6c310e3",
       "version_major": 2,
       "version_minor": 0
      },
      "text/plain": [
       "Button(description='File select', style=ButtonStyle())"
      ]
     },
     "metadata": {},
     "output_type": "display_data"
    }
   ],
   "source": [
    "from ipywidgets import Button\n",
    "from tkinter import Tk, filedialog\n",
    "from IPython.display import clear_output, display\n",
    "\n",
    "# Load file ==================================================================================\n",
    "def import_image(file) :\n",
    "    image = cv2.imread(file)\n",
    "    image = cv2.bitwise_not(image)\n",
    "    return image\n",
    "# ============================================================================================\n",
    "# Preprocessing Image ========================================================================\n",
    "def equalizing(img):\n",
    "    img = cv2.equalizeHist(img)\n",
    "    return img\n",
    "\n",
    "def grayscaling(image):\n",
    "    image = cv2.cvtColor(image, cv2.COLOR_RGB2GRAY)\n",
    "    return image\n",
    "\n",
    "def resizing(image, size):\n",
    "    image = cv2.resize(image, (size, size), interpolation = cv2.INTER_AREA)\n",
    "    return image\n",
    "\n",
    "def prep_image(image):\n",
    "    img = resizing(image, 128)\n",
    "    img = grayscaling(img)\n",
    "    img = equalizing(img)\n",
    "    return img\n",
    "# ============================================================================================\n",
    "# Feature Extraction =========================================================================\n",
    "def extract_sift_descriptor(image):\n",
    "    sift = cv2.SIFT_create()\n",
    "    _, descriptor = sift.detectAndCompute(image, None)\n",
    "    return descriptor\n",
    "\n",
    "def create_feature_bow(image_descriptor, bow, num_cluster):\n",
    "    features = np.array([0] * num_cluster, dtype=float)\n",
    "\n",
    "    if image_descriptor is not None:\n",
    "        distance = cdist(image_descriptor, bow)\n",
    "        argmin = np.argmin(distance, axis = 1)\n",
    "        \n",
    "        for j in argmin:\n",
    "            features[j] += 1.0\n",
    "\n",
    "    return np.array(features)\n",
    "\n",
    "def extract_feature(image):\n",
    "    img_descriptor = extract_sift_descriptor(image)\n",
    "    \n",
    "    num_cluster = 500\n",
    "    bow = load_file_pickle(BOW_FILE_PICKLE)\n",
    "    \n",
    "    img_feature = create_feature_bow(img_descriptor, bow, num_cluster)\n",
    "    return img_feature\n",
    "# ============================================================================================\n",
    "# Prediction Process =========================================================================\n",
    "def predict_image(feature):\n",
    "    scaler = load_file_pickle(SCALER_WS_FILE_PICKLE)\n",
    "    feature_scale = scaler.transform([feature])\n",
    "    \n",
    "    svm_model = load_file_pickle(SVM_WS_FILE_PICKLE)\n",
    "    result_predict = svm_model.predict(feature_scale)\n",
    "    return result_predict\n",
    "# ============================================================================================\n",
    "# Open widget laod file ======================================================================\n",
    "def select_files(b):\n",
    "    clear_output()\n",
    "    root = Tk()\n",
    "    root.withdraw() \n",
    "    root.call('wm', 'attributes', '.', '-topmost', True)\n",
    "    \n",
    "    b.files = filedialog.askopenfilename(multiple=True) \n",
    "    print(b.files[0])\n",
    "    processing_files(b.files[0])\n",
    "# ============================================================================================\n",
    "# Open widget laod file ======================================================================\n",
    "def processing_files(file):\n",
    "    img = import_image(file)\n",
    "    plt.imshow(img, cmap='gray', vmin=0, vmax=255)\n",
    "    img = prep_image(img)\n",
    "    \n",
    "    img_feature = extract_feature(img)\n",
    "    result_predict = predict_image(img_feature)\n",
    "    print(\"Result Class Prediction :\", result_predict)\n",
    "# ============================================================================================\n",
    "\n",
    "fileselect = Button(description=\"File select\")\n",
    "fileselect.on_click(select_files)\n",
    "\n",
    "display(fileselect)"
   ]
  },
  {
   "cell_type": "code",
   "execution_count": null,
   "id": "1732e305",
   "metadata": {},
   "outputs": [],
   "source": []
  }
 ],
 "metadata": {
  "colab": {
   "collapsed_sections": [
    "863fce53",
    "fe36a378",
    "e4cdaef0"
   ],
   "name": "campuran-SIFT.ipynb",
   "provenance": []
  },
  "interpreter": {
   "hash": "f926a665ec17605cd740381014cbbfd1a55a559b2003ed53df37a047c2ed5e7a"
  },
  "kernelspec": {
   "display_name": "Python 3.7.11 ('skripsi')",
   "language": "python",
   "name": "python3"
  },
  "language_info": {
   "codemirror_mode": {
    "name": "ipython",
    "version": 3
   },
   "file_extension": ".py",
   "mimetype": "text/x-python",
   "name": "python",
   "nbconvert_exporter": "python",
   "pygments_lexer": "ipython3",
   "version": "3.7.11"
  }
 },
 "nbformat": 4,
 "nbformat_minor": 5
}
