{
 "cells": [
  {
   "cell_type": "markdown",
   "id": "a4f194f9",
   "metadata": {
    "id": "a4f194f9"
   },
   "source": [
    "# Import Library"
   ]
  },
  {
   "cell_type": "code",
   "execution_count": 1,
   "id": "87c0a897",
   "metadata": {
    "executionInfo": {
     "elapsed": 2215,
     "status": "ok",
     "timestamp": 1648212064557,
     "user": {
      "displayName": "Rama Tri Agung",
      "photoUrl": "https://lh3.googleusercontent.com/a-/AOh14GhO5MpcihqCafTv8Tf9MUwRyHV6tO2uPdiXma2V=s64",
      "userId": "07374601175312417068"
     },
     "user_tz": -420
    },
    "id": "87c0a897"
   },
   "outputs": [],
   "source": [
    "# load data\n",
    "import os\n",
    "\n",
    "# computing\n",
    "import numpy as np\n",
    "import pandas as pd\n",
    "\n",
    "# visualization\n",
    "import matplotlib.pyplot as plt\n",
    "import seaborn as sns\n",
    "\n",
    "# feature extraction\n",
    "import cv2\n",
    "from scipy.spatial.distance import cdist\n",
    "from sklearn.cluster import KMeans\n",
    "\n",
    "# modelling\n",
    "from sklearn.preprocessing import MinMaxScaler\n",
    "from sklearn.model_selection import train_test_split\n",
    "from sklearn.svm import SVC\n",
    "from sklearn.model_selection import GridSearchCV\n",
    "\n",
    "# evalutaion\n",
    "from sklearn.metrics import classification_report, confusion_matrix, accuracy_score\n",
    "\n",
    "# load/save model\n",
    "import pickle"
   ]
  },
  {
   "cell_type": "markdown",
   "id": "3d041a7a",
   "metadata": {},
   "source": [
    "### Define common pickle method"
   ]
  },
  {
   "cell_type": "code",
   "execution_count": 2,
   "id": "72edab2e",
   "metadata": {},
   "outputs": [],
   "source": [
    "def load_file_pickle(filename):\n",
    "    file_pickle = pickle.load(open(filename, 'rb'))\n",
    "    return file_pickle\n",
    "\n",
    "def save_file_pickle(data, filename):\n",
    "    pickle.dump(data, open(filename, 'wb'))"
   ]
  },
  {
   "cell_type": "markdown",
   "id": "c18569d6",
   "metadata": {},
   "source": [
    "#### Constant variable"
   ]
  },
  {
   "cell_type": "code",
   "execution_count": 3,
   "id": "13afcbc7",
   "metadata": {},
   "outputs": [],
   "source": [
    "BOW_FILE_PICKLE = \"bow_dictionary.pkl\"\n",
    "SCALER_WS_FILE_PICKLE = \"scaler_with_sift.pkl\"\n",
    "SCALER_WOS_FILE_PICKLE = \"scaler_without_sift.pkl\"\n",
    "SVM_WS_FILE_PICKLE = \"svm_with_sift_model.pkl\"\n",
    "SVM_WOS_FILE_PICKLE = \"svm_without_sift_model.pkl\""
   ]
  },
  {
   "cell_type": "markdown",
   "id": "597f2f85",
   "metadata": {
    "id": "597f2f85"
   },
   "source": [
    "# Load Data\n",
    "\n",
    "- input: -\n",
    "- output: `raw_X, raw_y`"
   ]
  },
  {
   "cell_type": "code",
   "execution_count": 4,
   "id": "c3306d58",
   "metadata": {
    "executionInfo": {
     "elapsed": 5,
     "status": "ok",
     "timestamp": 1648212064558,
     "user": {
      "displayName": "Rama Tri Agung",
      "photoUrl": "https://lh3.googleusercontent.com/a-/AOh14GhO5MpcihqCafTv8Tf9MUwRyHV6tO2uPdiXma2V=s64",
      "userId": "07374601175312417068"
     },
     "user_tz": -420
    },
    "id": "c3306d58"
   },
   "outputs": [],
   "source": [
    "# ukurang gambar 224x224\n",
    "def import_image(file) :\n",
    "    image = cv2.imread(file)\n",
    "    image = cv2.bitwise_not(image)\n",
    "    return image\n",
    "\n",
    "def label_image(character, length) :\n",
    "    array = np.full(length, character)\n",
    "    return array\n",
    "\n",
    "def import_data(character, path) :\n",
    "    file_path = os.listdir(path)\n",
    "    images = np.array([import_image(path + '/' + file) for file in file_path])\n",
    "    label = label_image(character, len(file_path))\n",
    "    \n",
    "    return images, label"
   ]
  },
  {
   "cell_type": "code",
   "execution_count": 5,
   "id": "f0f02ffc",
   "metadata": {
    "colab": {
     "base_uri": "https://localhost:8080/"
    },
    "executionInfo": {
     "elapsed": 2631,
     "status": "ok",
     "timestamp": 1648212067185,
     "user": {
      "displayName": "Rama Tri Agung",
      "photoUrl": "https://lh3.googleusercontent.com/a-/AOh14GhO5MpcihqCafTv8Tf9MUwRyHV6tO2uPdiXma2V=s64",
      "userId": "07374601175312417068"
     },
     "user_tz": -420
    },
    "id": "f0f02ffc",
    "outputId": "d80e2c33-9158-4418-ac4d-28d95e7910ed",
    "scrolled": false
   },
   "outputs": [
    {
     "name": "stdout",
     "output_type": "stream",
     "text": [
      "Size of ba : 21\n",
      "Size of ca : 21\n",
      "Size of da : 21\n",
      "Size of dha : 21\n",
      "Size of ga : 21\n",
      "Size of ha : 21\n",
      "Size of ja : 21\n",
      "Size of ka : 21\n",
      "Size of la : 21\n",
      "Size of ma : 21\n",
      "Size of na : 21\n",
      "Size of nga : 21\n",
      "Size of nya : 21\n",
      "Size of pa : 21\n",
      "Size of ra : 21\n",
      "Size of sa : 21\n",
      "Size of ta : 21\n",
      "Size of tha : 21\n",
      "Size of wa : 21\n",
      "Size of ya : 21\n"
     ]
    }
   ],
   "source": [
    "hanacaraka = ('ba','ca','da','dha','ga','ha','ja','ka','la','ma','na','nga','nya','pa','ra','sa','ta','tha','wa','ya')\n",
    "\n",
    "raw_X = np.empty((0, 224, 224, 3), np.uint8)\n",
    "raw_y = np.empty((0))\n",
    "\n",
    "folder_path = \"../Dataset/phiard_selected/\" # for local used\n",
    "# folder_path = \"drive/MyDrive/Skripsi/Repos/Dataset/phiard_selected/\" # for drive used\n",
    "\n",
    "for character in hanacaraka:\n",
    "    dataset_path = folder_path + character\n",
    "\n",
    "    temp_X, temp_y = import_data(character, dataset_path)\n",
    "\n",
    "    print(\"Size of\", character, \":\", temp_X.shape[0])\n",
    "    \n",
    "    raw_X = np.append(raw_X, temp_X, axis=0)\n",
    "    raw_y = np.append(raw_y, temp_y, axis=0)\n"
   ]
  },
  {
   "cell_type": "code",
   "execution_count": 6,
   "id": "915ea983",
   "metadata": {
    "colab": {
     "base_uri": "https://localhost:8080/"
    },
    "executionInfo": {
     "elapsed": 8,
     "status": "ok",
     "timestamp": 1648212067186,
     "user": {
      "displayName": "Rama Tri Agung",
      "photoUrl": "https://lh3.googleusercontent.com/a-/AOh14GhO5MpcihqCafTv8Tf9MUwRyHV6tO2uPdiXma2V=s64",
      "userId": "07374601175312417068"
     },
     "user_tz": -420
    },
    "id": "915ea983",
    "outputId": "29a4aaba-face-4ba4-cd94-db52c3237c5c"
   },
   "outputs": [
    {
     "name": "stdout",
     "output_type": "stream",
     "text": [
      "Number of data: 420\n",
      "Image dimension: (224, 224, 3)\n"
     ]
    }
   ],
   "source": [
    "# Ukuran keseluruhan data\n",
    "print(\"Number of data:\", raw_X.shape[0])\n",
    "print(\"Image dimension:\", raw_X[0].shape)"
   ]
  },
  {
   "cell_type": "markdown",
   "id": "3eac7c8e",
   "metadata": {},
   "source": [
    "### Visualize Raw Data"
   ]
  },
  {
   "cell_type": "code",
   "execution_count": 7,
   "id": "27770ec6",
   "metadata": {},
   "outputs": [
    {
     "data": {
      "image/png": "[encoded data removed]",
      "text/plain": [
       "<Figure size 1152x288 with 8 Axes>"
      ]
     },
     "metadata": {
      "needs_background": "light"
     },
     "output_type": "display_data"
    }
   ],
   "source": [
    "np.random.seed(42)\n",
    "\n",
    "fig = plt.figure(figsize=(16, 4))\n",
    "columns = 8\n",
    "rows = 1\n",
    "for i in range(1, columns*rows + 1):\n",
    "    img = np.array(raw_X[np.random.randint(0, raw_X.shape[0]), :])\n",
    "    fig.add_subplot(rows, columns, i)\n",
    "    plt.imshow(img)\n",
    "    plt.axis('off')\n",
    "\n",
    "plt.show()"
   ]
  },
  {
   "cell_type": "code",
   "execution_count": 8,
   "id": "3113d3d6",
   "metadata": {},
   "outputs": [
    {
     "data": {
      "image/png": "[encoded data removed]",
      "text/plain": [
       "<Figure size 720x864 with 20 Axes>"
      ]
     },
     "metadata": {
      "needs_background": "light"
     },
     "output_type": "display_data"
    }
   ],
   "source": [
    "fig = plt.figure(figsize=(10, 12))\n",
    "columns = 4\n",
    "rows = 5\n",
    "for i in range(1, columns*rows + 1):\n",
    "    img = np.array(raw_X[i*20, :])\n",
    "    fig.add_subplot(rows, columns, i)\n",
    "    plt.imshow(img)\n",
    "    plt.axis('off')\n",
    "\n",
    "plt.show()"
   ]
  },
  {
   "cell_type": "markdown",
   "id": "8c0989ea",
   "metadata": {
    "id": "8c0989ea"
   },
   "source": [
    "# Augmantation & Preparation Data\n",
    "\n",
    "- input: `raw_X, raw_y`\n",
    "- output: `X, y`"
   ]
  },
  {
   "cell_type": "markdown",
   "id": "715480f5",
   "metadata": {},
   "source": [
    "List Augmented :\n",
    "1. Rotate 30 CCW\n",
    "2. Rotate 15 CCW + Zoom out\n",
    "3. Rotate 15 CW + Zoom out\n",
    "4. Rotate 30 CW\n",
    "5. Shear Left\n",
    "6. Shear Right\n",
    "7. Normal\n",
    "\n",
    "List Preprocessing :\n",
    "1. Resizing (192x192)\n",
    "2. Grayscaling\n",
    "3. Equalization"
   ]
  },
  {
   "cell_type": "markdown",
   "id": "a31b2f1b",
   "metadata": {},
   "source": [
    "### Augmented Method"
   ]
  },
  {
   "cell_type": "code",
   "execution_count": 9,
   "id": "953a1516",
   "metadata": {
    "executionInfo": {
     "elapsed": 394,
     "status": "ok",
     "timestamp": 1648212070221,
     "user": {
      "displayName": "Rama Tri Agung",
      "photoUrl": "https://lh3.googleusercontent.com/a-/AOh14GhO5MpcihqCafTv8Tf9MUwRyHV6tO2uPdiXma2V=s64",
      "userId": "07374601175312417068"
     },
     "user_tz": -420
    },
    "id": "953a1516"
   },
   "outputs": [],
   "source": [
    "# Augmented Method\n",
    "def rotate(img, degree):\n",
    "    (h, w) = img.shape[:2]\n",
    "    (cX, cY) = (w // 2, h // 2)\n",
    "    M = cv2.getRotationMatrix2D((cX, cY), degree, 1.0)\n",
    "    img_rotated = cv2.warpAffine(img, M, (w, h))\n",
    "    return img_rotated\n",
    "\n",
    "def zoom_out(img, zoom_scale):\n",
    "    img_zoom = np.zeros((img.shape[0], img.shape[1]), dtype=np.uint8)\n",
    "\n",
    "    h, w = img.shape[0]/zoom_scale, img.shape[1]/zoom_scale\n",
    "    h, w = int(h), int(w)\n",
    "    x, y = (img.shape[0]-w)//2, (img.shape[1]-h)//2\n",
    "    img_resize = cv2.resize(img, (h, w), interpolation = cv2.INTER_AREA)\n",
    "\n",
    "    img_zoom[x:w+x, y:h+y] = img_resize\n",
    "    return img_zoom\n",
    "\n",
    "def shear(img, x, y):\n",
    "    rows, cols = img.shape\n",
    "    M = np.float32([[1, x, 0],\n",
    "                    [y, 1, 0]])\n",
    "    sheared_img = cv2.warpAffine(img, M, (cols, rows))\n",
    "    return sheared_img"
   ]
  },
  {
   "cell_type": "markdown",
   "id": "fc7d84ad",
   "metadata": {},
   "source": [
    "### Image Preprocessing Method"
   ]
  },
  {
   "cell_type": "code",
   "execution_count": 10,
   "id": "bcecb3ab",
   "metadata": {},
   "outputs": [],
   "source": [
    "# Preprocessing Image\n",
    "def equalizing(img):\n",
    "    if (img.ndim == 3):\n",
    "        b, g, r = cv2.split(img)\n",
    "        red = cv2.equalizeHist(r)\n",
    "        green = cv2.equalizeHist(g)\n",
    "        blue = cv2.equalizeHist(b)\n",
    "        img = cv2.merge((blue, green, red))\n",
    "    else:\n",
    "        img = cv2.equalizeHist(img)\n",
    "    return img\n",
    "\n",
    "def grayscaling(image):\n",
    "    image = cv2.cvtColor(image, cv2.COLOR_RGB2GRAY)\n",
    "    return image\n",
    "\n",
    "def resizing(image, size):\n",
    "    image = cv2.resize(image, (size, size), interpolation = cv2.INTER_AREA)\n",
    "    return image"
   ]
  },
  {
   "cell_type": "code",
   "execution_count": 11,
   "id": "8b065983",
   "metadata": {
    "executionInfo": {
     "elapsed": 305,
     "status": "ok",
     "timestamp": 1648212071397,
     "user": {
      "displayName": "Rama Tri Agung",
      "photoUrl": "https://lh3.googleusercontent.com/a-/AOh14GhO5MpcihqCafTv8Tf9MUwRyHV6tO2uPdiXma2V=s64",
      "userId": "07374601175312417068"
     },
     "user_tz": -420
    },
    "id": "8b065983"
   },
   "outputs": [],
   "source": [
    "# Generate augmentation and preprocessing data\n",
    "size = 192\n",
    "def dataset_aug_generator_prep(ori_img, size):\n",
    "    ori_img = resizing(ori_img, size)\n",
    "    ori_img = grayscaling(ori_img)\n",
    "    \n",
    "    ori_img = zoom_out(ori_img, 1.15)\n",
    "    img_r_30_ccw = rotate(ori_img, 30)\n",
    "    img_r_30_cw = rotate(ori_img, -30)\n",
    "    img_r_15_ccw_z = rotate(zoom_out(ori_img, 1.3), 15)\n",
    "    img_r_15_cw_z = rotate(zoom_out(ori_img, 1.3), -15)\n",
    "    img_s_left = shear(ori_img, -0.15, -0.15)\n",
    "    img_s_right = shear(ori_img, 0.15, 0.15)\n",
    "    \n",
    "    result_aug = [ori_img, img_r_30_ccw, img_r_30_cw, img_r_15_ccw_z, img_r_15_cw_z, img_s_left, img_s_right]\n",
    "    for idx, item_img in enumerate(result_aug):\n",
    "        result_aug[idx] = equalizing(result_aug[idx])\n",
    "    return result_aug"
   ]
  },
  {
   "cell_type": "markdown",
   "id": "c28d56e5",
   "metadata": {},
   "source": [
    "#### test result image after generate augmentation and preprocessing"
   ]
  },
  {
   "cell_type": "code",
   "execution_count": 12,
   "id": "e77aab5c",
   "metadata": {
    "colab": {
     "base_uri": "https://localhost:8080/",
     "height": 140
    },
    "executionInfo": {
     "elapsed": 1370,
     "status": "ok",
     "timestamp": 1648212073146,
     "user": {
      "displayName": "Rama Tri Agung",
      "photoUrl": "https://lh3.googleusercontent.com/a-/AOh14GhO5MpcihqCafTv8Tf9MUwRyHV6tO2uPdiXma2V=s64",
      "userId": "07374601175312417068"
     },
     "user_tz": -420
    },
    "id": "e77aab5c",
    "outputId": "8f770d91-cf13-4abe-84d2-6f13b2515805"
   },
   "outputs": [
    {
     "data": {
      "image/png": "[encoded data removed]",
      "text/plain": [
       "<Figure size 1152x288 with 7 Axes>"
      ]
     },
     "metadata": {
      "needs_background": "light"
     },
     "output_type": "display_data"
    }
   ],
   "source": [
    "test_img_aug = dataset_aug_generator_prep(raw_X[0], size)\n",
    "\n",
    "fig = plt.figure(figsize=(16, 4))\n",
    "columns = 7\n",
    "rows = 1\n",
    "for i in range(1, columns*rows + 1):\n",
    "    img = test_img_aug[i-1]\n",
    "    fig.add_subplot(rows, columns, i)\n",
    "    plt.imshow(img, cmap='gray', vmin=0, vmax=255)\n",
    "    plt.axis('off')\n",
    "\n",
    "plt.show()"
   ]
  },
  {
   "cell_type": "markdown",
   "id": "64037862",
   "metadata": {},
   "source": [
    "## Generate Aug & Prep Image on All Raw Data"
   ]
  },
  {
   "cell_type": "code",
   "execution_count": 13,
   "id": "9727ec73",
   "metadata": {
    "executionInfo": {
     "elapsed": 25680,
     "status": "ok",
     "timestamp": 1648212099185,
     "user": {
      "displayName": "Rama Tri Agung",
      "photoUrl": "https://lh3.googleusercontent.com/a-/AOh14GhO5MpcihqCafTv8Tf9MUwRyHV6tO2uPdiXma2V=s64",
      "userId": "07374601175312417068"
     },
     "user_tz": -420
    },
    "id": "a988042b"
   },
   "outputs": [],
   "source": [
    "X = np.empty((0, size, size), np.uint8)\n",
    "y = np.empty((0))\n",
    "\n",
    "for idx, img in enumerate(raw_X):\n",
    "    img_aug = dataset_aug_generator_prep(img, size)\n",
    "    \n",
    "    for item_img in img_aug:\n",
    "        X = np.append(X, [item_img], axis=0)\n",
    "        y = np.append(y, [raw_y[idx]], axis=0)"
   ]
  },
  {
   "cell_type": "code",
   "execution_count": 14,
   "id": "dcb66785",
   "metadata": {
    "colab": {
     "base_uri": "https://localhost:8080/"
    },
    "executionInfo": {
     "elapsed": 7,
     "status": "ok",
     "timestamp": 1648212099186,
     "user": {
      "displayName": "Rama Tri Agung",
      "photoUrl": "https://lh3.googleusercontent.com/a-/AOh14GhO5MpcihqCafTv8Tf9MUwRyHV6tO2uPdiXma2V=s64",
      "userId": "07374601175312417068"
     },
     "user_tz": -420
    },
    "id": "dcb66785",
    "outputId": "cfa37274-95a8-4910-cd37-c86f5729ad31"
   },
   "outputs": [
    {
     "name": "stdout",
     "output_type": "stream",
     "text": [
      "Result X data dimension: (2940, 192, 192)\n",
      "Result y data dimension: (2940,)\n"
     ]
    }
   ],
   "source": [
    "print(\"Result X data dimension:\", X.shape)\n",
    "print(\"Result y data dimension:\", y.shape)"
   ]
  },
  {
   "cell_type": "markdown",
   "id": "be0b8d89",
   "metadata": {},
   "source": [
    "### Visualize Result Data"
   ]
  },
  {
   "cell_type": "code",
   "execution_count": 15,
   "id": "dad58e22",
   "metadata": {
    "colab": {
     "base_uri": "https://localhost:8080/",
     "height": 244
    },
    "executionInfo": {
     "elapsed": 974,
     "status": "ok",
     "timestamp": 1648212100155,
     "user": {
      "displayName": "Rama Tri Agung",
      "photoUrl": "https://lh3.googleusercontent.com/a-/AOh14GhO5MpcihqCafTv8Tf9MUwRyHV6tO2uPdiXma2V=s64",
      "userId": "07374601175312417068"
     },
     "user_tz": -420
    },
    "id": "dad58e22",
    "outputId": "f1c45b6a-2a6e-4021-84be-7e734c564a4a"
   },
   "outputs": [
    {
     "data": {
      "image/png": "[encoded data removed]",
      "text/plain": [
       "<Figure size 1152x288 with 8 Axes>"
      ]
     },
     "metadata": {
      "needs_background": "light"
     },
     "output_type": "display_data"
    }
   ],
   "source": [
    "np.random.seed(42)\n",
    "\n",
    "fig = plt.figure(figsize=(16, 4))\n",
    "columns = 8\n",
    "rows = 1\n",
    "for i in range(1, columns*rows + 1):\n",
    "    img = np.array(X[np.random.randint(0, X.shape[0]), :])\n",
    "    fig.add_subplot(rows, columns, i)\n",
    "    plt.imshow(img, cmap='gray', vmin=0, vmax=255)\n",
    "    plt.axis('off')\n",
    "\n",
    "plt.show()"
   ]
  },
  {
   "cell_type": "markdown",
   "id": "3f7f207b",
   "metadata": {
    "id": "3f7f207b"
   },
   "source": [
    "# Feature Extraction\n",
    "\n",
    "- input: `X`\n",
    "- output: `X_feature`"
   ]
  },
  {
   "cell_type": "markdown",
   "id": "6e1cb034",
   "metadata": {
    "id": "6e1cb034"
   },
   "source": [
    "### Extract SIFT Descriptors "
   ]
  },
  {
   "cell_type": "code",
   "execution_count": 16,
   "id": "29ceac16",
   "metadata": {
    "executionInfo": {
     "elapsed": 498,
     "status": "ok",
     "timestamp": 1648212100644,
     "user": {
      "displayName": "Rama Tri Agung",
      "photoUrl": "https://lh3.googleusercontent.com/a-/AOh14GhO5MpcihqCafTv8Tf9MUwRyHV6tO2uPdiXma2V=s64",
      "userId": "07374601175312417068"
     },
     "user_tz": -420
    },
    "id": "29ceac16"
   },
   "outputs": [],
   "source": [
    "def extract_sift_features(list_image):\n",
    "    image_descriptors = []\n",
    "    sift = cv2.SIFT_create()\n",
    "    for image in list_image:\n",
    "        _, descriptor = sift.detectAndCompute(image, None)\n",
    "        image_descriptors.append(descriptor)\n",
    "\n",
    "    return image_descriptors\n",
    "\n",
    "def combine_all_descriptors(image_descriptors):\n",
    "    all_descriptors = []\n",
    "    for descriptor in image_descriptors:\n",
    "        if descriptor is not None:\n",
    "            for des in descriptor:\n",
    "                all_descriptors.append(des)\n",
    "    \n",
    "    return np.array(all_descriptors)"
   ]
  },
  {
   "cell_type": "code",
   "execution_count": 17,
   "id": "d50539d0",
   "metadata": {
    "executionInfo": {
     "elapsed": 20918,
     "status": "ok",
     "timestamp": 1648212121560,
     "user": {
      "displayName": "Rama Tri Agung",
      "photoUrl": "https://lh3.googleusercontent.com/a-/AOh14GhO5MpcihqCafTv8Tf9MUwRyHV6tO2uPdiXma2V=s64",
      "userId": "07374601175312417068"
     },
     "user_tz": -420
    },
    "id": "d50539d0"
   },
   "outputs": [],
   "source": [
    "image_descriptors = extract_sift_features(X)"
   ]
  },
  {
   "cell_type": "code",
   "execution_count": 18,
   "id": "53a20fc4",
   "metadata": {
    "colab": {
     "base_uri": "https://localhost:8080/"
    },
    "executionInfo": {
     "elapsed": 14,
     "status": "ok",
     "timestamp": 1648212121561,
     "user": {
      "displayName": "Rama Tri Agung",
      "photoUrl": "https://lh3.googleusercontent.com/a-/AOh14GhO5MpcihqCafTv8Tf9MUwRyHV6tO2uPdiXma2V=s64",
      "userId": "07374601175312417068"
     },
     "user_tz": -420
    },
    "id": "53a20fc4",
    "outputId": "62cb7002-248b-4204-c394-0fd05ab5e590",
    "scrolled": true
   },
   "outputs": [
    {
     "name": "stdout",
     "output_type": "stream",
     "text": [
      "Number of keypoint descriptor: (193416, 128)\n"
     ]
    }
   ],
   "source": [
    "all_descriptors = combine_all_descriptors(image_descriptors)\n",
    "print(\"Number of keypoint descriptor:\", all_descriptors.shape)"
   ]
  },
  {
   "cell_type": "markdown",
   "id": "4b9c46d6",
   "metadata": {
    "id": "4b9c46d6"
   },
   "source": [
    "### Create BOW of Descriptor Using Cluster"
   ]
  },
  {
   "cell_type": "code",
   "execution_count": 19,
   "id": "86c97bff",
   "metadata": {
    "executionInfo": {
     "elapsed": 10,
     "status": "ok",
     "timestamp": 1648212121561,
     "user": {
      "displayName": "Rama Tri Agung",
      "photoUrl": "https://lh3.googleusercontent.com/a-/AOh14GhO5MpcihqCafTv8Tf9MUwRyHV6tO2uPdiXma2V=s64",
      "userId": "07374601175312417068"
     },
     "user_tz": -420
    },
    "id": "86c97bff"
   },
   "outputs": [],
   "source": [
    "def kmeans_bow(all_descriptors, num_cluster):\n",
    "    if not os.path.isfile(BOW_FILE_PICKLE):\n",
    "        kmeans = KMeans(n_clusters = num_cluster, verbose=1, random_state=42)\n",
    "        kmeans.fit(all_descriptors)\n",
    "\n",
    "        bow_dict = kmeans.cluster_centers_\n",
    "                \n",
    "        save_file_pickle(bow_dict, BOW_FILE_PICKLE)\n",
    "    else:\n",
    "        bow_dict = load_file_pickle(BOW_FILE_PICKLE)\n",
    "\n",
    "    return bow_dict"
   ]
  },
  {
   "cell_type": "code",
   "execution_count": 20,
   "id": "92cd2d55",
   "metadata": {
    "colab": {
     "base_uri": "https://localhost:8080/"
    },
    "executionInfo": {
     "elapsed": 1100418,
     "status": "ok",
     "timestamp": 1648213221969,
     "user": {
      "displayName": "Rama Tri Agung",
      "photoUrl": "https://lh3.googleusercontent.com/a-/AOh14GhO5MpcihqCafTv8Tf9MUwRyHV6tO2uPdiXma2V=s64",
      "userId": "07374601175312417068"
     },
     "user_tz": -420
    },
    "id": "92cd2d55",
    "outputId": "75c6186c-1558-4e16-e9ad-0672767c0f4b",
    "scrolled": true
   },
   "outputs": [
    {
     "name": "stdout",
     "output_type": "stream",
     "text": [
      "Initialization complete\n",
      "Iteration 0, inertia 2612717824.0\n",
      "Iteration 1, inertia 1984042368.0\n",
      "Iteration 2, inertia 1936021504.0\n",
      "Iteration 3, inertia 1917251328.0\n",
      "Iteration 4, inertia 1907810432.0\n",
      "Iteration 5, inertia 1901339136.0\n",
      "Iteration 6, inertia 1896333696.0\n",
      "Iteration 7, inertia 1892184960.0\n",
      "Iteration 8, inertia 1888764800.0\n",
      "Iteration 9, inertia 1885718272.0\n",
      "Iteration 10, inertia 1883119232.0\n",
      "Iteration 11, inertia 1881253632.0\n",
      "Iteration 12, inertia 1879766528.0\n",
      "Iteration 13, inertia 1878506112.0\n",
      "Iteration 14, inertia 1877414528.0\n",
      "Iteration 15, inertia 1876530944.0\n",
      "Iteration 16, inertia 1875799808.0\n",
      "Iteration 17, inertia 1875080832.0\n",
      "Iteration 18, inertia 1874306432.0\n",
      "Iteration 19, inertia 1873579904.0\n",
      "Iteration 20, inertia 1873070336.0\n",
      "Iteration 21, inertia 1872632064.0\n",
      "Iteration 22, inertia 1872301696.0\n",
      "Iteration 23, inertia 1872010880.0\n",
      "Iteration 24, inertia 1871723904.0\n",
      "Iteration 25, inertia 1871430784.0\n",
      "Iteration 26, inertia 1871092864.0\n",
      "Iteration 27, inertia 1870849024.0\n",
      "Iteration 28, inertia 1870630144.0\n",
      "Iteration 29, inertia 1870403840.0\n",
      "Iteration 30, inertia 1870206464.0\n",
      "Iteration 31, inertia 1870006528.0\n",
      "Iteration 32, inertia 1869803392.0\n",
      "Iteration 33, inertia 1869607168.0\n",
      "Iteration 34, inertia 1869415680.0\n",
      "Iteration 35, inertia 1869221120.0\n",
      "Iteration 36, inertia 1869072384.0\n",
      "Iteration 37, inertia 1868943616.0\n",
      "Iteration 38, inertia 1868820992.0\n",
      "Iteration 39, inertia 1868720256.0\n",
      "Iteration 40, inertia 1868645248.0\n",
      "Iteration 41, inertia 1868589184.0\n",
      "Iteration 42, inertia 1868547200.0\n",
      "Iteration 43, inertia 1868518016.0\n",
      "Iteration 44, inertia 1868500992.0\n",
      "Iteration 45, inertia 1868483072.0\n",
      "Iteration 46, inertia 1868465152.0\n",
      "Iteration 47, inertia 1868443904.0\n",
      "Iteration 48, inertia 1868423680.0\n",
      "Iteration 49, inertia 1868399744.0\n",
      "Iteration 50, inertia 1868375424.0\n",
      "Iteration 51, inertia 1868348160.0\n",
      "Iteration 52, inertia 1868315648.0\n",
      "Iteration 53, inertia 1868275456.0\n",
      "Iteration 54, inertia 1868235136.0\n",
      "Iteration 55, inertia 1868205824.0\n",
      "Iteration 56, inertia 1868178176.0\n",
      "Iteration 57, inertia 1868151680.0\n",
      "Iteration 58, inertia 1868130304.0\n",
      "Iteration 59, inertia 1868111744.0\n",
      "Iteration 60, inertia 1868094976.0\n",
      "Iteration 61, inertia 1868081280.0\n",
      "Iteration 62, inertia 1868066816.0\n",
      "Iteration 63, inertia 1868052352.0\n",
      "Iteration 64, inertia 1868040320.0\n",
      "Iteration 65, inertia 1868028288.0\n",
      "Iteration 66, inertia 1868020992.0\n",
      "Iteration 67, inertia 1868012928.0\n",
      "Iteration 68, inertia 1868006400.0\n",
      "Iteration 69, inertia 1867996928.0\n",
      "Iteration 70, inertia 1867988608.0\n",
      "Iteration 71, inertia 1867984384.0\n",
      "Iteration 72, inertia 1867976448.0\n",
      "Iteration 73, inertia 1867964416.0\n",
      "Iteration 74, inertia 1867948544.0\n",
      "Iteration 75, inertia 1867941120.0\n",
      "Iteration 76, inertia 1867934848.0\n",
      "Iteration 77, inertia 1867920256.0\n",
      "Iteration 78, inertia 1867904512.0\n",
      "Iteration 79, inertia 1867883264.0\n",
      "Iteration 80, inertia 1867864064.0\n",
      "Iteration 81, inertia 1867847808.0\n",
      "Iteration 82, inertia 1867825792.0\n",
      "Iteration 83, inertia 1867814016.0\n",
      "Iteration 84, inertia 1867800448.0\n",
      "Iteration 85, inertia 1867785856.0\n",
      "Iteration 86, inertia 1867753856.0\n",
      "Iteration 87, inertia 1867696128.0\n",
      "Iteration 88, inertia 1867673216.0\n",
      "Iteration 89, inertia 1867657472.0\n",
      "Iteration 90, inertia 1867653248.0\n",
      "Iteration 91, inertia 1867650816.0\n",
      "Iteration 92, inertia 1867650816.0\n",
      "Iteration 93, inertia 1867650432.0\n",
      "Iteration 94, inertia 1867649792.0\n",
      "Converged at iteration 94: center shift 0.08500147610902786 within tolerance 0.08778471679687501.\n",
      "Initialization complete\n",
      "Iteration 0, inertia 2621043456.0\n",
      "Iteration 1, inertia 1993101568.0\n",
      "Iteration 2, inertia 1945239168.0\n",
      "Iteration 3, inertia 1925677440.0\n",
      "Iteration 4, inertia 1913279360.0\n",
      "Iteration 5, inertia 1904662528.0\n",
      "Iteration 6, inertia 1898179200.0\n",
      "Iteration 7, inertia 1893296768.0\n",
      "Iteration 8, inertia 1889802368.0\n",
      "Iteration 9, inertia 1887138688.0\n",
      "Iteration 10, inertia 1884979200.0\n",
      "Iteration 11, inertia 1883072896.0\n",
      "Iteration 12, inertia 1881529600.0\n",
      "Iteration 13, inertia 1880341632.0\n",
      "Iteration 14, inertia 1879314688.0\n",
      "Iteration 15, inertia 1878405504.0\n",
      "Iteration 16, inertia 1877519360.0\n",
      "Iteration 17, inertia 1876771456.0\n",
      "Iteration 18, inertia 1876107904.0\n",
      "Iteration 19, inertia 1875563392.0\n",
      "Iteration 20, inertia 1875033984.0\n",
      "Iteration 21, inertia 1874449152.0\n",
      "Iteration 22, inertia 1874073856.0\n",
      "Iteration 23, inertia 1873752960.0\n",
      "Iteration 24, inertia 1873536384.0\n",
      "Iteration 25, inertia 1873344896.0\n",
      "Iteration 26, inertia 1873168768.0\n",
      "Iteration 27, inertia 1872986624.0\n",
      "Iteration 28, inertia 1872808576.0\n",
      "Iteration 29, inertia 1872646912.0\n",
      "Iteration 30, inertia 1872496640.0\n",
      "Iteration 31, inertia 1872328192.0\n",
      "Iteration 32, inertia 1872205952.0\n",
      "Iteration 33, inertia 1872107008.0\n",
      "Iteration 34, inertia 1872008576.0\n",
      "Iteration 35, inertia 1871934848.0\n",
      "Iteration 36, inertia 1871878784.0\n",
      "Iteration 37, inertia 1871837952.0\n",
      "Iteration 38, inertia 1871794816.0\n",
      "Iteration 39, inertia 1871756672.0\n",
      "Iteration 40, inertia 1871726720.0\n",
      "Iteration 41, inertia 1871690880.0\n",
      "Iteration 42, inertia 1871653376.0\n",
      "Iteration 43, inertia 1871603968.0\n",
      "Iteration 44, inertia 1871554816.0\n",
      "Iteration 45, inertia 1871503616.0\n",
      "Iteration 46, inertia 1871451776.0\n",
      "Iteration 47, inertia 1871389184.0\n",
      "Iteration 48, inertia 1871344128.0\n",
      "Iteration 49, inertia 1871288576.0\n",
      "Iteration 50, inertia 1871211904.0\n",
      "Iteration 51, inertia 1871160832.0\n",
      "Iteration 52, inertia 1871124608.0\n",
      "Iteration 53, inertia 1871081984.0\n",
      "Iteration 54, inertia 1871032832.0\n",
      "Iteration 55, inertia 1870993024.0\n",
      "Iteration 56, inertia 1870950016.0\n",
      "Iteration 57, inertia 1870893440.0\n",
      "Iteration 58, inertia 1870823552.0\n",
      "Iteration 59, inertia 1870769152.0\n",
      "Iteration 60, inertia 1870716672.0\n",
      "Iteration 61, inertia 1870683264.0\n",
      "Iteration 62, inertia 1870657152.0\n",
      "Iteration 63, inertia 1870630528.0\n",
      "Iteration 64, inertia 1870606720.0\n",
      "Iteration 65, inertia 1870593280.0\n",
      "Iteration 66, inertia 1870585344.0\n",
      "Iteration 67, inertia 1870576768.0\n",
      "Iteration 68, inertia 1870568320.0\n",
      "Iteration 69, inertia 1870558720.0\n",
      "Iteration 70, inertia 1870549376.0\n",
      "Iteration 71, inertia 1870540160.0\n",
      "Iteration 72, inertia 1870534144.0\n",
      "Iteration 73, inertia 1870525440.0\n",
      "Iteration 74, inertia 1870515968.0\n",
      "Iteration 75, inertia 1870507008.0\n",
      "Iteration 76, inertia 1870502144.0\n",
      "Iteration 77, inertia 1870496896.0\n",
      "Iteration 78, inertia 1870491904.0\n",
      "Iteration 79, inertia 1870488960.0\n",
      "Iteration 80, inertia 1870484352.0\n",
      "Iteration 81, inertia 1870477824.0\n",
      "Iteration 82, inertia 1870470784.0\n",
      "Iteration 83, inertia 1870461440.0\n",
      "Iteration 84, inertia 1870452864.0\n",
      "Iteration 85, inertia 1870444800.0\n",
      "Iteration 86, inertia 1870437376.0\n",
      "Iteration 87, inertia 1870430976.0\n",
      "Iteration 88, inertia 1870421248.0\n",
      "Iteration 89, inertia 1870412032.0\n",
      "Iteration 90, inertia 1870402560.0\n",
      "Iteration 91, inertia 1870391552.0\n",
      "Iteration 92, inertia 1870379776.0\n",
      "Iteration 93, inertia 1870366976.0\n",
      "Iteration 94, inertia 1870355968.0\n",
      "Iteration 95, inertia 1870343552.0\n",
      "Iteration 96, inertia 1870331648.0\n",
      "Iteration 97, inertia 1870319104.0\n",
      "Iteration 98, inertia 1870308224.0\n",
      "Iteration 99, inertia 1870295808.0\n",
      "Iteration 100, inertia 1870286592.0\n",
      "Iteration 101, inertia 1870276736.0\n",
      "Iteration 102, inertia 1870265984.0\n",
      "Iteration 103, inertia 1870254080.0\n",
      "Iteration 104, inertia 1870242176.0\n",
      "Iteration 105, inertia 1870232064.0\n",
      "Iteration 106, inertia 1870221056.0\n",
      "Iteration 107, inertia 1870208512.0\n",
      "Iteration 108, inertia 1870193280.0\n",
      "Iteration 109, inertia 1870175872.0\n",
      "Iteration 110, inertia 1870160640.0\n",
      "Iteration 111, inertia 1870150784.0\n",
      "Iteration 112, inertia 1870142080.0\n",
      "Iteration 113, inertia 1870132736.0\n",
      "Iteration 114, inertia 1870123648.0\n",
      "Iteration 115, inertia 1870107904.0\n",
      "Iteration 116, inertia 1870091136.0\n",
      "Iteration 117, inertia 1870070272.0\n",
      "Iteration 118, inertia 1870052352.0\n",
      "Iteration 119, inertia 1870032768.0\n",
      "Iteration 120, inertia 1870015744.0\n",
      "Iteration 121, inertia 1869990016.0\n",
      "Iteration 122, inertia 1869965184.0\n",
      "Iteration 123, inertia 1869944704.0\n",
      "Iteration 124, inertia 1869925760.0\n",
      "Iteration 125, inertia 1869908480.0\n",
      "Iteration 126, inertia 1869888768.0\n",
      "Iteration 127, inertia 1869868672.0\n",
      "Iteration 128, inertia 1869843840.0\n",
      "Iteration 129, inertia 1869816064.0\n",
      "Iteration 130, inertia 1869792768.0\n",
      "Iteration 131, inertia 1869766784.0\n",
      "Iteration 132, inertia 1869742080.0\n",
      "Iteration 133, inertia 1869717888.0\n",
      "Iteration 134, inertia 1869689344.0\n",
      "Iteration 135, inertia 1869665152.0\n",
      "Iteration 136, inertia 1869642752.0\n",
      "Iteration 137, inertia 1869619200.0\n",
      "Iteration 138, inertia 1869602176.0\n",
      "Iteration 139, inertia 1869584512.0\n",
      "Iteration 140, inertia 1869569280.0\n",
      "Iteration 141, inertia 1869555456.0\n",
      "Iteration 142, inertia 1869540992.0\n",
      "Iteration 143, inertia 1869529216.0\n",
      "Iteration 144, inertia 1869521024.0\n",
      "Iteration 145, inertia 1869510272.0\n",
      "Iteration 146, inertia 1869495936.0\n",
      "Iteration 147, inertia 1869481600.0\n",
      "Iteration 148, inertia 1869469440.0\n",
      "Iteration 149, inertia 1869452800.0\n",
      "Iteration 150, inertia 1869434240.0\n",
      "Iteration 151, inertia 1869406848.0\n",
      "Iteration 152, inertia 1869380096.0\n",
      "Iteration 153, inertia 1869359872.0\n",
      "Iteration 154, inertia 1869347968.0\n",
      "Iteration 155, inertia 1869333376.0\n",
      "Iteration 156, inertia 1869322752.0\n",
      "Iteration 157, inertia 1869315072.0\n",
      "Iteration 158, inertia 1869303424.0\n",
      "Iteration 159, inertia 1869291264.0\n",
      "Iteration 160, inertia 1869281024.0\n",
      "Iteration 161, inertia 1869271168.0\n",
      "Iteration 162, inertia 1869263104.0\n",
      "Iteration 163, inertia 1869257344.0\n",
      "Iteration 164, inertia 1869251200.0\n",
      "Iteration 165, inertia 1869244032.0\n",
      "Iteration 166, inertia 1869238656.0\n",
      "Iteration 167, inertia 1869236224.0\n",
      "Iteration 168, inertia 1869233408.0\n",
      "Iteration 169, inertia 1869230464.0\n",
      "Iteration 170, inertia 1869225216.0\n",
      "Iteration 171, inertia 1869222912.0\n",
      "Iteration 172, inertia 1869222272.0\n",
      "Iteration 173, inertia 1869222144.0\n",
      "Iteration 174, inertia 1869221504.0\n",
      "Iteration 175, inertia 1869220608.0\n",
      "Iteration 176, inertia 1869220096.0\n",
      "Iteration 177, inertia 1869219456.0\n",
      "Iteration 178, inertia 1869218304.0\n",
      "Iteration 179, inertia 1869217536.0\n",
      "Iteration 180, inertia 1869216512.0\n",
      "Iteration 181, inertia 1869215872.0\n",
      "Iteration 182, inertia 1869216000.0\n",
      "Iteration 183, inertia 1869215360.0\n",
      "Iteration 184, inertia 1869214976.0\n",
      "Iteration 185, inertia 1869214720.0\n",
      "Iteration 186, inertia 1869214848.0\n",
      "Converged at iteration 186: center shift 0.06464911252260208 within tolerance 0.08778471679687501.\n",
      "Initialization complete\n",
      "Iteration 0, inertia 2606394112.0\n",
      "Iteration 1, inertia 1981947904.0\n",
      "Iteration 2, inertia 1934855424.0\n",
      "Iteration 3, inertia 1917016960.0\n",
      "Iteration 4, inertia 1906975488.0\n",
      "Iteration 5, inertia 1900327808.0\n",
      "Iteration 6, inertia 1895516928.0\n",
      "Iteration 7, inertia 1891971456.0\n",
      "Iteration 8, inertia 1889155328.0\n",
      "Iteration 9, inertia 1886738560.0\n",
      "Iteration 10, inertia 1884365440.0\n",
      "Iteration 11, inertia 1882817792.0\n",
      "Iteration 12, inertia 1881685632.0\n",
      "Iteration 13, inertia 1880706688.0\n",
      "Iteration 14, inertia 1879979392.0\n",
      "Iteration 15, inertia 1879432832.0\n",
      "Iteration 16, inertia 1878985344.0\n",
      "Iteration 17, inertia 1878519680.0\n",
      "Iteration 18, inertia 1878001024.0\n",
      "Iteration 19, inertia 1877513344.0\n",
      "Iteration 20, inertia 1877052416.0\n",
      "Iteration 21, inertia 1876639616.0\n",
      "Iteration 22, inertia 1876370048.0\n",
      "Iteration 23, inertia 1876169088.0\n",
      "Iteration 24, inertia 1875998208.0\n",
      "Iteration 25, inertia 1875831296.0\n",
      "Iteration 26, inertia 1875686656.0\n",
      "Iteration 27, inertia 1875562752.0\n",
      "Iteration 28, inertia 1875443200.0\n",
      "Iteration 29, inertia 1875360640.0\n",
      "Iteration 30, inertia 1875283072.0\n",
      "Iteration 31, inertia 1875210880.0\n",
      "Iteration 32, inertia 1875137536.0\n",
      "Iteration 33, inertia 1875087488.0\n",
      "Iteration 34, inertia 1875040384.0\n",
      "Iteration 35, inertia 1874998272.0\n",
      "Iteration 36, inertia 1874962944.0\n",
      "Iteration 37, inertia 1874931712.0\n",
      "Iteration 38, inertia 1874885120.0\n",
      "Iteration 39, inertia 1874830976.0\n",
      "Iteration 40, inertia 1874780032.0\n",
      "Iteration 41, inertia 1874740480.0\n",
      "Iteration 42, inertia 1874718976.0\n",
      "Iteration 43, inertia 1874705408.0\n",
      "Iteration 44, inertia 1874694784.0\n",
      "Iteration 45, inertia 1874688000.0\n",
      "Iteration 46, inertia 1874678400.0\n",
      "Iteration 47, inertia 1874671360.0\n",
      "Iteration 48, inertia 1874662912.0\n",
      "Iteration 49, inertia 1874656128.0\n",
      "Iteration 50, inertia 1874643584.0\n",
      "Iteration 51, inertia 1874633472.0\n",
      "Iteration 52, inertia 1874622208.0\n",
      "Iteration 53, inertia 1874609792.0\n",
      "Iteration 54, inertia 1874592896.0\n",
      "Iteration 55, inertia 1874573696.0\n",
      "Iteration 56, inertia 1874555136.0\n",
      "Iteration 57, inertia 1874535296.0\n",
      "Iteration 58, inertia 1874509440.0\n",
      "Iteration 59, inertia 1874475136.0\n",
      "Iteration 60, inertia 1874444288.0\n",
      "Iteration 61, inertia 1874409088.0\n",
      "Iteration 62, inertia 1874379136.0\n",
      "Iteration 63, inertia 1874345856.0\n",
      "Iteration 64, inertia 1874318080.0\n",
      "Iteration 65, inertia 1874297600.0\n",
      "Iteration 66, inertia 1874276992.0\n",
      "Iteration 67, inertia 1874258688.0\n",
      "Iteration 68, inertia 1874237952.0\n",
      "Iteration 69, inertia 1874212608.0\n",
      "Iteration 70, inertia 1874188544.0\n",
      "Iteration 71, inertia 1874156544.0\n",
      "Iteration 72, inertia 1874110976.0\n",
      "Iteration 73, inertia 1874059776.0\n",
      "Iteration 74, inertia 1874015104.0\n",
      "Iteration 75, inertia 1873958400.0\n",
      "Iteration 76, inertia 1873896192.0\n",
      "Iteration 77, inertia 1873832576.0\n",
      "Iteration 78, inertia 1873763328.0\n",
      "Iteration 79, inertia 1873678080.0\n",
      "Iteration 80, inertia 1873606400.0\n",
      "Iteration 81, inertia 1873562880.0\n",
      "Iteration 82, inertia 1873531904.0\n",
      "Iteration 83, inertia 1873514368.0\n",
      "Iteration 84, inertia 1873496448.0\n",
      "Iteration 85, inertia 1873479168.0\n",
      "Iteration 86, inertia 1873463168.0\n",
      "Iteration 87, inertia 1873449856.0\n",
      "Iteration 88, inertia 1873437312.0\n",
      "Iteration 89, inertia 1873427456.0\n",
      "Iteration 90, inertia 1873408768.0\n",
      "Iteration 91, inertia 1873386240.0\n",
      "Iteration 92, inertia 1873364352.0\n",
      "Iteration 93, inertia 1873347712.0\n",
      "Iteration 94, inertia 1873334784.0\n",
      "Iteration 95, inertia 1873313664.0\n",
      "Iteration 96, inertia 1873298176.0\n",
      "Iteration 97, inertia 1873286016.0\n",
      "Iteration 98, inertia 1873275520.0\n",
      "Iteration 99, inertia 1873265792.0\n",
      "Iteration 100, inertia 1873249536.0\n",
      "Iteration 101, inertia 1873237248.0\n",
      "Iteration 102, inertia 1873232768.0\n",
      "Iteration 103, inertia 1873228160.0\n",
      "Iteration 104, inertia 1873224960.0\n",
      "Iteration 105, inertia 1873223040.0\n",
      "Iteration 106, inertia 1873221760.0\n",
      "Iteration 107, inertia 1873219968.0\n",
      "Iteration 108, inertia 1873216768.0\n",
      "Iteration 109, inertia 1873214464.0\n",
      "Iteration 110, inertia 1873211904.0\n",
      "Iteration 111, inertia 1873210112.0\n",
      "Iteration 112, inertia 1873208576.0\n",
      "Iteration 113, inertia 1873205248.0\n",
      "Iteration 114, inertia 1873201536.0\n",
      "Iteration 115, inertia 1873197696.0\n",
      "Iteration 116, inertia 1873195520.0\n",
      "Iteration 117, inertia 1873193600.0\n",
      "Iteration 118, inertia 1873189248.0\n",
      "Iteration 119, inertia 1873187072.0\n",
      "Iteration 120, inertia 1873181952.0\n",
      "Iteration 121, inertia 1873177216.0\n",
      "Iteration 122, inertia 1873172480.0\n",
      "Iteration 123, inertia 1873169280.0\n",
      "Iteration 124, inertia 1873167616.0\n",
      "Iteration 125, inertia 1873165568.0\n",
      "Iteration 126, inertia 1873164416.0\n",
      "Iteration 127, inertia 1873162624.0\n",
      "Iteration 128, inertia 1873161472.0\n",
      "Iteration 129, inertia 1873160192.0\n",
      "Iteration 130, inertia 1873159808.0\n",
      "Iteration 131, inertia 1873158528.0\n",
      "Iteration 132, inertia 1873156736.0\n",
      "Iteration 133, inertia 1873154048.0\n",
      "Iteration 134, inertia 1873152000.0\n",
      "Iteration 135, inertia 1873150976.0\n",
      "Iteration 136, inertia 1873147648.0\n",
      "Iteration 137, inertia 1873147776.0\n",
      "Iteration 138, inertia 1873147520.0\n",
      "Iteration 139, inertia 1873147008.0\n",
      "Iteration 140, inertia 1873146496.0\n",
      "Iteration 141, inertia 1873146752.0\n",
      "Iteration 142, inertia 1873145984.0\n",
      "Iteration 143, inertia 1873145600.0\n",
      "Iteration 144, inertia 1873145600.0\n",
      "Converged at iteration 144: center shift 0.07029588520526886 within tolerance 0.08778471679687501.\n",
      "Initialization complete\n",
      "Iteration 0, inertia 2614433792.0\n",
      "Iteration 1, inertia 1982149120.0\n",
      "Iteration 2, inertia 1935964800.0\n",
      "Iteration 3, inertia 1918238848.0\n",
      "Iteration 4, inertia 1908231040.0\n",
      "Iteration 5, inertia 1901147904.0\n",
      "Iteration 6, inertia 1896426240.0\n",
      "Iteration 7, inertia 1892808960.0\n",
      "Iteration 8, inertia 1889816448.0\n",
      "Iteration 9, inertia 1887443200.0\n",
      "Iteration 10, inertia 1885211008.0\n",
      "Iteration 11, inertia 1883289600.0\n",
      "Iteration 12, inertia 1881444736.0\n",
      "Iteration 13, inertia 1879976576.0\n",
      "Iteration 14, inertia 1878735360.0\n",
      "Iteration 15, inertia 1877455616.0\n",
      "Iteration 16, inertia 1876135168.0\n",
      "Iteration 17, inertia 1875101312.0\n",
      "Iteration 18, inertia 1874163840.0\n",
      "Iteration 19, inertia 1873438720.0\n",
      "Iteration 20, inertia 1872696448.0\n",
      "Iteration 21, inertia 1871932544.0\n",
      "Iteration 22, inertia 1871410688.0\n",
      "Iteration 23, inertia 1871029632.0\n",
      "Iteration 24, inertia 1870710784.0\n",
      "Iteration 25, inertia 1870355328.0\n",
      "Iteration 26, inertia 1869968000.0\n",
      "Iteration 27, inertia 1869628032.0\n",
      "Iteration 28, inertia 1869347968.0\n",
      "Iteration 29, inertia 1869054848.0\n",
      "Iteration 30, inertia 1868818944.0\n",
      "Iteration 31, inertia 1868604544.0\n",
      "Iteration 32, inertia 1868402048.0\n",
      "Iteration 33, inertia 1868227456.0\n",
      "Iteration 34, inertia 1868043520.0\n",
      "Iteration 35, inertia 1867817344.0\n",
      "Iteration 36, inertia 1867591296.0\n",
      "Iteration 37, inertia 1867459456.0\n",
      "Iteration 38, inertia 1867387392.0\n",
      "Iteration 39, inertia 1867324672.0\n",
      "Iteration 40, inertia 1867267328.0\n",
      "Iteration 41, inertia 1867208192.0\n",
      "Iteration 42, inertia 1867149184.0\n",
      "Iteration 43, inertia 1867097344.0\n",
      "Iteration 44, inertia 1867046144.0\n",
      "Iteration 45, inertia 1866997888.0\n",
      "Iteration 46, inertia 1866942848.0\n",
      "Iteration 47, inertia 1866889984.0\n",
      "Iteration 48, inertia 1866850432.0\n",
      "Iteration 49, inertia 1866818432.0\n",
      "Iteration 50, inertia 1866787456.0\n",
      "Iteration 51, inertia 1866763648.0\n",
      "Iteration 52, inertia 1866744960.0\n",
      "Iteration 53, inertia 1866729984.0\n",
      "Iteration 54, inertia 1866715008.0\n",
      "Iteration 55, inertia 1866701824.0\n",
      "Iteration 56, inertia 1866688768.0\n",
      "Iteration 57, inertia 1866678528.0\n",
      "Iteration 58, inertia 1866670464.0\n",
      "Iteration 59, inertia 1866663808.0\n",
      "Iteration 60, inertia 1866652288.0\n",
      "Iteration 61, inertia 1866638592.0\n",
      "Iteration 62, inertia 1866627200.0\n",
      "Iteration 63, inertia 1866616448.0\n",
      "Iteration 64, inertia 1866603008.0\n",
      "Iteration 65, inertia 1866589952.0\n",
      "Iteration 66, inertia 1866575488.0\n",
      "Iteration 67, inertia 1866568704.0\n",
      "Iteration 68, inertia 1866565760.0\n",
      "Iteration 69, inertia 1866562688.0\n",
      "Iteration 70, inertia 1866557824.0\n",
      "Iteration 71, inertia 1866553216.0\n",
      "Iteration 72, inertia 1866549504.0\n",
      "Iteration 73, inertia 1866544384.0\n",
      "Iteration 74, inertia 1866539392.0\n",
      "Iteration 75, inertia 1866533248.0\n",
      "Iteration 76, inertia 1866528128.0\n",
      "Iteration 77, inertia 1866523136.0\n",
      "Iteration 78, inertia 1866518400.0\n",
      "Iteration 79, inertia 1866515456.0\n",
      "Iteration 80, inertia 1866512128.0\n",
      "Iteration 81, inertia 1866508544.0\n",
      "Iteration 82, inertia 1866504064.0\n",
      "Iteration 83, inertia 1866500736.0\n",
      "Iteration 84, inertia 1866498048.0\n",
      "Iteration 85, inertia 1866493568.0\n",
      "Iteration 86, inertia 1866488448.0\n",
      "Iteration 87, inertia 1866485376.0\n",
      "Iteration 88, inertia 1866482304.0\n",
      "Iteration 89, inertia 1866480256.0\n",
      "Iteration 90, inertia 1866479104.0\n",
      "Iteration 91, inertia 1866476928.0\n",
      "Iteration 92, inertia 1866474880.0\n",
      "Iteration 93, inertia 1866471680.0\n",
      "Iteration 94, inertia 1866469760.0\n",
      "Iteration 95, inertia 1866464512.0\n",
      "Iteration 96, inertia 1866460800.0\n",
      "Iteration 97, inertia 1866456448.0\n",
      "Iteration 98, inertia 1866451072.0\n",
      "Iteration 99, inertia 1866444928.0\n",
      "Iteration 100, inertia 1866440064.0\n",
      "Iteration 101, inertia 1866434816.0\n",
      "Iteration 102, inertia 1866428416.0\n",
      "Iteration 103, inertia 1866423552.0\n",
      "Iteration 104, inertia 1866417664.0\n",
      "Iteration 105, inertia 1866413568.0\n",
      "Iteration 106, inertia 1866410240.0\n",
      "Iteration 107, inertia 1866407168.0\n",
      "Iteration 108, inertia 1866403712.0\n",
      "Iteration 109, inertia 1866397824.0\n",
      "Iteration 110, inertia 1866394240.0\n",
      "Iteration 111, inertia 1866389504.0\n",
      "Iteration 112, inertia 1866386048.0\n",
      "Iteration 113, inertia 1866381696.0\n",
      "Iteration 114, inertia 1866378240.0\n",
      "Iteration 115, inertia 1866372608.0\n",
      "Iteration 116, inertia 1866367104.0\n",
      "Iteration 117, inertia 1866362240.0\n",
      "Iteration 118, inertia 1866359296.0\n",
      "Iteration 119, inertia 1866356096.0\n",
      "Iteration 120, inertia 1866353024.0\n",
      "Iteration 121, inertia 1866348800.0\n",
      "Iteration 122, inertia 1866346368.0\n",
      "Iteration 123, inertia 1866343808.0\n",
      "Iteration 124, inertia 1866341248.0\n",
      "Iteration 125, inertia 1866339072.0\n",
      "Iteration 126, inertia 1866336768.0\n",
      "Iteration 127, inertia 1866334464.0\n",
      "Iteration 128, inertia 1866331648.0\n",
      "Iteration 129, inertia 1866327040.0\n",
      "Iteration 130, inertia 1866324736.0\n",
      "Iteration 131, inertia 1866321152.0\n",
      "Iteration 132, inertia 1866318976.0\n",
      "Iteration 133, inertia 1866316416.0\n",
      "Iteration 134, inertia 1866314112.0\n",
      "Iteration 135, inertia 1866310016.0\n",
      "Iteration 136, inertia 1866307584.0\n",
      "Iteration 137, inertia 1866304384.0\n",
      "Iteration 138, inertia 1866300416.0\n",
      "Iteration 139, inertia 1866297600.0\n",
      "Iteration 140, inertia 1866294400.0\n",
      "Iteration 141, inertia 1866292864.0\n",
      "Iteration 142, inertia 1866290176.0\n",
      "Iteration 143, inertia 1866288128.0\n",
      "Iteration 144, inertia 1866286720.0\n",
      "Iteration 145, inertia 1866285952.0\n",
      "Iteration 146, inertia 1866284416.0\n",
      "Iteration 147, inertia 1866284416.0\n",
      "Iteration 148, inertia 1866283264.0\n",
      "Iteration 149, inertia 1866282496.0\n",
      "Iteration 150, inertia 1866281856.0\n",
      "Iteration 151, inertia 1866280960.0\n",
      "Iteration 152, inertia 1866281344.0\n",
      "Iteration 153, inertia 1866279808.0\n",
      "Iteration 154, inertia 1866279296.0\n",
      "Iteration 155, inertia 1866279040.0\n",
      "Converged at iteration 155: center shift 0.07212316244840622 within tolerance 0.08778471679687501.\n",
      "Initialization complete\n",
      "Iteration 0, inertia 2599836672.0\n",
      "Iteration 1, inertia 1985090176.0\n",
      "Iteration 2, inertia 1940706304.0\n",
      "Iteration 3, inertia 1922162560.0\n",
      "Iteration 4, inertia 1910777472.0\n",
      "Iteration 5, inertia 1903332608.0\n",
      "Iteration 6, inertia 1898329600.0\n",
      "Iteration 7, inertia 1895036160.0\n",
      "Iteration 8, inertia 1892294784.0\n",
      "Iteration 9, inertia 1889868928.0\n",
      "Iteration 10, inertia 1887664128.0\n",
      "Iteration 11, inertia 1885882112.0\n",
      "Iteration 12, inertia 1884335232.0\n",
      "Iteration 13, inertia 1882858880.0\n",
      "Iteration 14, inertia 1881445632.0\n",
      "Iteration 15, inertia 1880229632.0\n",
      "Iteration 16, inertia 1879075712.0\n",
      "Iteration 17, inertia 1878148608.0\n",
      "Iteration 18, inertia 1877368832.0\n",
      "Iteration 19, inertia 1876700800.0\n",
      "Iteration 20, inertia 1876047104.0\n",
      "Iteration 21, inertia 1875543680.0\n",
      "Iteration 22, inertia 1875093248.0\n",
      "Iteration 23, inertia 1874712064.0\n",
      "Iteration 24, inertia 1874323456.0\n",
      "Iteration 25, inertia 1874046848.0\n",
      "Iteration 26, inertia 1873816192.0\n",
      "Iteration 27, inertia 1873637632.0\n",
      "Iteration 28, inertia 1873468160.0\n",
      "Iteration 29, inertia 1873293696.0\n",
      "Iteration 30, inertia 1873198720.0\n",
      "Iteration 31, inertia 1873125632.0\n",
      "Iteration 32, inertia 1873060608.0\n",
      "Iteration 33, inertia 1872995584.0\n",
      "Iteration 34, inertia 1872924032.0\n",
      "Iteration 35, inertia 1872839552.0\n",
      "Iteration 36, inertia 1872758784.0\n",
      "Iteration 37, inertia 1872685312.0\n",
      "Iteration 38, inertia 1872627072.0\n",
      "Iteration 39, inertia 1872578816.0\n",
      "Iteration 40, inertia 1872539008.0\n",
      "Iteration 41, inertia 1872495104.0\n",
      "Iteration 42, inertia 1872455296.0\n",
      "Iteration 43, inertia 1872415872.0\n",
      "Iteration 44, inertia 1872372096.0\n",
      "Iteration 45, inertia 1872331648.0\n",
      "Iteration 46, inertia 1872304512.0\n",
      "Iteration 47, inertia 1872271872.0\n",
      "Iteration 48, inertia 1872235520.0\n",
      "Iteration 49, inertia 1872200704.0\n",
      "Iteration 50, inertia 1872164352.0\n",
      "Iteration 51, inertia 1872147584.0\n",
      "Iteration 52, inertia 1872130176.0\n",
      "Iteration 53, inertia 1872111744.0\n",
      "Iteration 54, inertia 1872094720.0\n",
      "Iteration 55, inertia 1872078336.0\n",
      "Iteration 56, inertia 1872064640.0\n",
      "Iteration 57, inertia 1872043520.0\n",
      "Iteration 58, inertia 1872023808.0\n",
      "Iteration 59, inertia 1871997312.0\n",
      "Iteration 60, inertia 1871971968.0\n",
      "Iteration 61, inertia 1871950720.0\n",
      "Iteration 62, inertia 1871932416.0\n",
      "Iteration 63, inertia 1871923328.0\n",
      "Iteration 64, inertia 1871914240.0\n",
      "Iteration 65, inertia 1871906944.0\n",
      "Iteration 66, inertia 1871903104.0\n",
      "Iteration 67, inertia 1871898112.0\n",
      "Iteration 68, inertia 1871894144.0\n",
      "Iteration 69, inertia 1871891712.0\n",
      "Iteration 70, inertia 1871888640.0\n",
      "Iteration 71, inertia 1871886080.0\n",
      "Iteration 72, inertia 1871884416.0\n",
      "Iteration 73, inertia 1871881856.0\n",
      "Iteration 74, inertia 1871879808.0\n",
      "Iteration 75, inertia 1871877248.0\n",
      "Iteration 76, inertia 1871876352.0\n",
      "Iteration 77, inertia 1871875840.0\n",
      "Iteration 78, inertia 1871873024.0\n",
      "Iteration 79, inertia 1871870720.0\n",
      "Iteration 80, inertia 1871869312.0\n",
      "Iteration 81, inertia 1871866624.0\n",
      "Iteration 82, inertia 1871865600.0\n",
      "Iteration 83, inertia 1871864320.0\n",
      "Iteration 84, inertia 1871863552.0\n",
      "Iteration 85, inertia 1871862016.0\n",
      "Iteration 86, inertia 1871860352.0\n",
      "Iteration 87, inertia 1871858688.0\n",
      "Iteration 88, inertia 1871858304.0\n",
      "Iteration 89, inertia 1871857152.0\n",
      "Iteration 90, inertia 1871856128.0\n",
      "Iteration 91, inertia 1871854592.0\n",
      "Iteration 92, inertia 1871853184.0\n",
      "Iteration 93, inertia 1871853056.0\n",
      "Iteration 94, inertia 1871852416.0\n",
      "Iteration 95, inertia 1871851648.0\n",
      "Iteration 96, inertia 1871850624.0\n",
      "Iteration 97, inertia 1871850112.0\n",
      "Iteration 98, inertia 1871849472.0\n",
      "Iteration 99, inertia 1871849472.0\n",
      "Iteration 100, inertia 1871848704.0\n",
      "Iteration 101, inertia 1871848704.0\n",
      "Iteration 102, inertia 1871848064.0\n",
      "Iteration 103, inertia 1871848064.0\n",
      "Iteration 104, inertia 1871847424.0\n",
      "Iteration 105, inertia 1871847296.0\n",
      "Iteration 106, inertia 1871846272.0\n",
      "Iteration 107, inertia 1871845376.0\n",
      "Iteration 108, inertia 1871844992.0\n",
      "Iteration 109, inertia 1871843968.0\n",
      "Iteration 110, inertia 1871842560.0\n",
      "Iteration 111, inertia 1871840512.0\n",
      "Iteration 112, inertia 1871839744.0\n",
      "Iteration 113, inertia 1871838080.0\n",
      "Iteration 114, inertia 1871836544.0\n",
      "Iteration 115, inertia 1871836160.0\n",
      "Iteration 116, inertia 1871836416.0\n",
      "Iteration 117, inertia 1871834624.0\n",
      "Iteration 118, inertia 1871834368.0\n",
      "Iteration 119, inertia 1871833856.0\n",
      "Iteration 120, inertia 1871833600.0\n",
      "Iteration 121, inertia 1871833472.0\n",
      "Iteration 122, inertia 1871833216.0\n",
      "Iteration 123, inertia 1871832576.0\n",
      "Converged at iteration 123: center shift 0.08584260940551758 within tolerance 0.08778471679687501.\n",
      "Initialization complete\n",
      "Iteration 0, inertia 2615031296.0\n",
      "Iteration 1, inertia 1981922304.0\n",
      "Iteration 2, inertia 1936424448.0\n",
      "Iteration 3, inertia 1918405504.0\n",
      "Iteration 4, inertia 1907673344.0\n",
      "Iteration 5, inertia 1900688000.0\n",
      "Iteration 6, inertia 1895661568.0\n",
      "Iteration 7, inertia 1891704576.0\n",
      "Iteration 8, inertia 1888549632.0\n",
      "Iteration 9, inertia 1885978368.0\n",
      "Iteration 10, inertia 1883970560.0\n",
      "Iteration 11, inertia 1882273280.0\n",
      "Iteration 12, inertia 1880789504.0\n",
      "Iteration 13, inertia 1879542528.0\n",
      "Iteration 14, inertia 1878394752.0\n",
      "Iteration 15, inertia 1877367168.0\n",
      "Iteration 16, inertia 1876489856.0\n",
      "Iteration 17, inertia 1875733888.0\n",
      "Iteration 18, inertia 1874977280.0\n",
      "Iteration 19, inertia 1873932416.0\n",
      "Iteration 20, inertia 1872725504.0\n",
      "Iteration 21, inertia 1872057344.0\n",
      "Iteration 22, inertia 1871491840.0\n",
      "Iteration 23, inertia 1870957056.0\n",
      "Iteration 24, inertia 1870532480.0\n",
      "Iteration 25, inertia 1870205440.0\n",
      "Iteration 26, inertia 1869955968.0\n",
      "Iteration 27, inertia 1869748864.0\n",
      "Iteration 28, inertia 1869532416.0\n",
      "Iteration 29, inertia 1869344768.0\n",
      "Iteration 30, inertia 1869195008.0\n",
      "Iteration 31, inertia 1869083392.0\n",
      "Iteration 32, inertia 1868999680.0\n",
      "Iteration 33, inertia 1868894976.0\n",
      "Iteration 34, inertia 1868793984.0\n",
      "Iteration 35, inertia 1868697088.0\n",
      "Iteration 36, inertia 1868612736.0\n",
      "Iteration 37, inertia 1868538624.0\n",
      "Iteration 38, inertia 1868480512.0\n",
      "Iteration 39, inertia 1868423680.0\n",
      "Iteration 40, inertia 1868362240.0\n",
      "Iteration 41, inertia 1868317696.0\n",
      "Iteration 42, inertia 1868281728.0\n",
      "Iteration 43, inertia 1868248704.0\n",
      "Iteration 44, inertia 1868211072.0\n",
      "Iteration 45, inertia 1868181888.0\n",
      "Iteration 46, inertia 1868156672.0\n",
      "Iteration 47, inertia 1868135296.0\n",
      "Iteration 48, inertia 1868121600.0\n",
      "Iteration 49, inertia 1868111232.0\n",
      "Iteration 50, inertia 1868098048.0\n",
      "Iteration 51, inertia 1868085504.0\n",
      "Iteration 52, inertia 1868070144.0\n",
      "Iteration 53, inertia 1868059136.0\n",
      "Iteration 54, inertia 1868048384.0\n",
      "Iteration 55, inertia 1868032512.0\n",
      "Iteration 56, inertia 1868025600.0\n",
      "Iteration 57, inertia 1868020224.0\n",
      "Iteration 58, inertia 1868017152.0\n",
      "Iteration 59, inertia 1868013952.0\n",
      "Iteration 60, inertia 1868010752.0\n",
      "Iteration 61, inertia 1868007936.0\n",
      "Iteration 62, inertia 1868004608.0\n",
      "Iteration 63, inertia 1867998720.0\n",
      "Iteration 64, inertia 1867993984.0\n",
      "Iteration 65, inertia 1867990912.0\n",
      "Iteration 66, inertia 1867986048.0\n",
      "Iteration 67, inertia 1867981952.0\n",
      "Iteration 68, inertia 1867979008.0\n",
      "Iteration 69, inertia 1867974144.0\n",
      "Iteration 70, inertia 1867970816.0\n",
      "Iteration 71, inertia 1867967232.0\n",
      "Iteration 72, inertia 1867964416.0\n",
      "Iteration 73, inertia 1867962752.0\n",
      "Iteration 74, inertia 1867961856.0\n",
      "Iteration 75, inertia 1867959424.0\n",
      "Iteration 76, inertia 1867957632.0\n",
      "Iteration 77, inertia 1867957376.0\n",
      "Iteration 78, inertia 1867956096.0\n",
      "Iteration 79, inertia 1867953408.0\n",
      "Iteration 80, inertia 1867952768.0\n",
      "Iteration 81, inertia 1867952384.0\n",
      "Iteration 82, inertia 1867950848.0\n",
      "Iteration 83, inertia 1867950976.0\n",
      "Iteration 84, inertia 1867949056.0\n",
      "Iteration 85, inertia 1867949568.0\n",
      "Iteration 86, inertia 1867948288.0\n",
      "Iteration 87, inertia 1867948160.0\n",
      "Iteration 88, inertia 1867946624.0\n",
      "Iteration 89, inertia 1867946880.0\n",
      "Iteration 90, inertia 1867945728.0\n",
      "Iteration 91, inertia 1867947136.0\n",
      "Iteration 92, inertia 1867946368.0\n",
      "Iteration 93, inertia 1867945472.0\n",
      "Converged at iteration 93: center shift 0.08541327714920044 within tolerance 0.08778471679687501.\n",
      "Initialization complete\n",
      "Iteration 0, inertia 2610844160.0\n",
      "Iteration 1, inertia 1992487424.0\n",
      "Iteration 2, inertia 1945141760.0\n",
      "Iteration 3, inertia 1925202816.0\n",
      "Iteration 4, inertia 1913058176.0\n",
      "Iteration 5, inertia 1904635520.0\n",
      "Iteration 6, inertia 1899226752.0\n",
      "Iteration 7, inertia 1895289088.0\n",
      "Iteration 8, inertia 1892059008.0\n",
      "Iteration 9, inertia 1889610880.0\n",
      "Iteration 10, inertia 1887644800.0\n",
      "Iteration 11, inertia 1885868672.0\n",
      "Iteration 12, inertia 1884183808.0\n",
      "Iteration 13, inertia 1882773376.0\n",
      "Iteration 14, inertia 1881592192.0\n",
      "Iteration 15, inertia 1880553216.0\n",
      "Iteration 16, inertia 1879731328.0\n",
      "Iteration 17, inertia 1878904448.0\n",
      "Iteration 18, inertia 1878121472.0\n",
      "Iteration 19, inertia 1877429632.0\n",
      "Iteration 20, inertia 1876796672.0\n",
      "Iteration 21, inertia 1876166784.0\n",
      "Iteration 22, inertia 1875618048.0\n",
      "Iteration 23, inertia 1875085568.0\n",
      "Iteration 24, inertia 1874579584.0\n",
      "Iteration 25, inertia 1874102528.0\n",
      "Iteration 26, inertia 1873581696.0\n",
      "Iteration 27, inertia 1873023232.0\n",
      "Iteration 28, inertia 1872481152.0\n",
      "Iteration 29, inertia 1872102400.0\n",
      "Iteration 30, inertia 1871740160.0\n",
      "Iteration 31, inertia 1871387136.0\n",
      "Iteration 32, inertia 1871073024.0\n",
      "Iteration 33, inertia 1870807168.0\n",
      "Iteration 34, inertia 1870598016.0\n",
      "Iteration 35, inertia 1870383360.0\n",
      "Iteration 36, inertia 1870183168.0\n",
      "Iteration 37, inertia 1870023296.0\n",
      "Iteration 38, inertia 1869887232.0\n",
      "Iteration 39, inertia 1869764608.0\n",
      "Iteration 40, inertia 1869653504.0\n",
      "Iteration 41, inertia 1869559552.0\n",
      "Iteration 42, inertia 1869476096.0\n",
      "Iteration 43, inertia 1869393152.0\n",
      "Iteration 44, inertia 1869324416.0\n",
      "Iteration 45, inertia 1869257216.0\n",
      "Iteration 46, inertia 1869197696.0\n",
      "Iteration 47, inertia 1869156352.0\n",
      "Iteration 48, inertia 1869117696.0\n",
      "Iteration 49, inertia 1869078400.0\n",
      "Iteration 50, inertia 1869041536.0\n",
      "Iteration 51, inertia 1869010304.0\n",
      "Iteration 52, inertia 1868978176.0\n",
      "Iteration 53, inertia 1868948992.0\n",
      "Iteration 54, inertia 1868923392.0\n",
      "Iteration 55, inertia 1868897664.0\n",
      "Iteration 56, inertia 1868878720.0\n",
      "Iteration 57, inertia 1868855552.0\n",
      "Iteration 58, inertia 1868837632.0\n",
      "Iteration 59, inertia 1868824576.0\n",
      "Iteration 60, inertia 1868813696.0\n",
      "Iteration 61, inertia 1868804608.0\n",
      "Iteration 62, inertia 1868794624.0\n",
      "Iteration 63, inertia 1868782976.0\n",
      "Iteration 64, inertia 1868771072.0\n",
      "Iteration 65, inertia 1868763648.0\n",
      "Iteration 66, inertia 1868758144.0\n",
      "Iteration 67, inertia 1868749952.0\n",
      "Iteration 68, inertia 1868744064.0\n",
      "Iteration 69, inertia 1868738816.0\n",
      "Iteration 70, inertia 1868733696.0\n",
      "Iteration 71, inertia 1868728960.0\n",
      "Iteration 72, inertia 1868723200.0\n",
      "Iteration 73, inertia 1868718720.0\n",
      "Iteration 74, inertia 1868715008.0\n",
      "Iteration 75, inertia 1868711680.0\n",
      "Iteration 76, inertia 1868707840.0\n",
      "Iteration 77, inertia 1868703488.0\n",
      "Iteration 78, inertia 1868698368.0\n",
      "Iteration 79, inertia 1868695424.0\n",
      "Iteration 80, inertia 1868692096.0\n",
      "Iteration 81, inertia 1868689152.0\n",
      "Iteration 82, inertia 1868687104.0\n",
      "Iteration 83, inertia 1868684800.0\n",
      "Iteration 84, inertia 1868682112.0\n",
      "Iteration 85, inertia 1868678912.0\n",
      "Iteration 86, inertia 1868677376.0\n",
      "Iteration 87, inertia 1868675328.0\n",
      "Iteration 88, inertia 1868672896.0\n",
      "Iteration 89, inertia 1868669312.0\n",
      "Iteration 90, inertia 1868668160.0\n",
      "Iteration 91, inertia 1868665088.0\n",
      "Iteration 92, inertia 1868662272.0\n",
      "Iteration 93, inertia 1868660480.0\n",
      "Iteration 94, inertia 1868657280.0\n",
      "Iteration 95, inertia 1868654080.0\n",
      "Iteration 96, inertia 1868652032.0\n",
      "Iteration 97, inertia 1868648576.0\n",
      "Iteration 98, inertia 1868644224.0\n",
      "Iteration 99, inertia 1868639360.0\n",
      "Iteration 100, inertia 1868633984.0\n",
      "Iteration 101, inertia 1868627840.0\n",
      "Iteration 102, inertia 1868623232.0\n",
      "Iteration 103, inertia 1868618880.0\n",
      "Iteration 104, inertia 1868615680.0\n",
      "Iteration 105, inertia 1868613120.0\n",
      "Iteration 106, inertia 1868610432.0\n",
      "Iteration 107, inertia 1868608000.0\n",
      "Iteration 108, inertia 1868603904.0\n",
      "Iteration 109, inertia 1868599680.0\n",
      "Iteration 110, inertia 1868596736.0\n",
      "Iteration 111, inertia 1868591872.0\n",
      "Iteration 112, inertia 1868588288.0\n",
      "Iteration 113, inertia 1868583552.0\n",
      "Iteration 114, inertia 1868579584.0\n",
      "Iteration 115, inertia 1868573696.0\n",
      "Iteration 116, inertia 1868570368.0\n",
      "Iteration 117, inertia 1868566784.0\n",
      "Iteration 118, inertia 1868561792.0\n",
      "Iteration 119, inertia 1868558464.0\n",
      "Iteration 120, inertia 1868553984.0\n",
      "Iteration 121, inertia 1868550912.0\n",
      "Iteration 122, inertia 1868545920.0\n",
      "Iteration 123, inertia 1868541056.0\n",
      "Iteration 124, inertia 1868536832.0\n",
      "Iteration 125, inertia 1868534656.0\n",
      "Iteration 126, inertia 1868531968.0\n",
      "Iteration 127, inertia 1868528384.0\n",
      "Iteration 128, inertia 1868525184.0\n",
      "Iteration 129, inertia 1868523008.0\n",
      "Iteration 130, inertia 1868522368.0\n",
      "Iteration 131, inertia 1868519168.0\n",
      "Iteration 132, inertia 1868517248.0\n",
      "Iteration 133, inertia 1868514560.0\n",
      "Iteration 134, inertia 1868513664.0\n",
      "Iteration 135, inertia 1868510336.0\n",
      "Iteration 136, inertia 1868508800.0\n",
      "Iteration 137, inertia 1868508160.0\n",
      "Iteration 138, inertia 1868507264.0\n",
      "Iteration 139, inertia 1868504960.0\n",
      "Iteration 140, inertia 1868504320.0\n",
      "Iteration 141, inertia 1868502912.0\n",
      "Iteration 142, inertia 1868502912.0\n",
      "Iteration 143, inertia 1868502656.0\n",
      "Iteration 144, inertia 1868502272.0\n",
      "Iteration 145, inertia 1868502528.0\n",
      "Iteration 146, inertia 1868500736.0\n",
      "Iteration 147, inertia 1868501888.0\n",
      "Iteration 148, inertia 1868501376.0\n",
      "Iteration 149, inertia 1868502016.0\n",
      "Iteration 150, inertia 1868500864.0\n",
      "Converged at iteration 150: center shift 0.04176013171672821 within tolerance 0.08778471679687501.\n",
      "Initialization complete\n",
      "Iteration 0, inertia 2622507008.0\n",
      "Iteration 1, inertia 1986396032.0\n",
      "Iteration 2, inertia 1937571968.0\n",
      "Iteration 3, inertia 1918195456.0\n",
      "Iteration 4, inertia 1907343744.0\n",
      "Iteration 5, inertia 1900414848.0\n",
      "Iteration 6, inertia 1894870272.0\n",
      "Iteration 7, inertia 1890234240.0\n",
      "Iteration 8, inertia 1887002880.0\n",
      "Iteration 9, inertia 1884555008.0\n",
      "Iteration 10, inertia 1882511488.0\n",
      "Iteration 11, inertia 1881043584.0\n",
      "Iteration 12, inertia 1879783552.0\n",
      "Iteration 13, inertia 1878690432.0\n",
      "Iteration 14, inertia 1877636352.0\n",
      "Iteration 15, inertia 1876671872.0\n",
      "Iteration 16, inertia 1875864960.0\n",
      "Iteration 17, inertia 1875232000.0\n",
      "Iteration 18, inertia 1874651008.0\n",
      "Iteration 19, inertia 1874211328.0\n",
      "Iteration 20, inertia 1873847424.0\n",
      "Iteration 21, inertia 1873523456.0\n",
      "Iteration 22, inertia 1873264768.0\n",
      "Iteration 23, inertia 1872998656.0\n",
      "Iteration 24, inertia 1872766080.0\n",
      "Iteration 25, inertia 1872544384.0\n",
      "Iteration 26, inertia 1872387456.0\n",
      "Iteration 27, inertia 1872264448.0\n",
      "Iteration 28, inertia 1872153984.0\n",
      "Iteration 29, inertia 1872044928.0\n",
      "Iteration 30, inertia 1871940480.0\n",
      "Iteration 31, inertia 1871845120.0\n",
      "Iteration 32, inertia 1871748992.0\n",
      "Iteration 33, inertia 1871659008.0\n",
      "Iteration 34, inertia 1871574656.0\n",
      "Iteration 35, inertia 1871483904.0\n",
      "Iteration 36, inertia 1871399296.0\n",
      "Iteration 37, inertia 1871324672.0\n",
      "Iteration 38, inertia 1871260032.0\n",
      "Iteration 39, inertia 1871187968.0\n",
      "Iteration 40, inertia 1871126272.0\n",
      "Iteration 41, inertia 1871076480.0\n",
      "Iteration 42, inertia 1871036928.0\n",
      "Iteration 43, inertia 1870993152.0\n",
      "Iteration 44, inertia 1870933888.0\n",
      "Iteration 45, inertia 1870872576.0\n",
      "Iteration 46, inertia 1870815616.0\n",
      "Iteration 47, inertia 1870752128.0\n",
      "Iteration 48, inertia 1870693632.0\n",
      "Iteration 49, inertia 1870642304.0\n",
      "Iteration 50, inertia 1870598912.0\n",
      "Iteration 51, inertia 1870561536.0\n",
      "Iteration 52, inertia 1870518016.0\n",
      "Iteration 53, inertia 1870480640.0\n",
      "Iteration 54, inertia 1870448896.0\n",
      "Iteration 55, inertia 1870418816.0\n",
      "Iteration 56, inertia 1870398464.0\n",
      "Iteration 57, inertia 1870377472.0\n",
      "Iteration 58, inertia 1870358912.0\n",
      "Iteration 59, inertia 1870339072.0\n",
      "Iteration 60, inertia 1870321280.0\n",
      "Iteration 61, inertia 1870307584.0\n",
      "Iteration 62, inertia 1870291328.0\n",
      "Iteration 63, inertia 1870272896.0\n",
      "Iteration 64, inertia 1870248960.0\n",
      "Iteration 65, inertia 1870230272.0\n",
      "Iteration 66, inertia 1870215552.0\n",
      "Iteration 67, inertia 1870196736.0\n",
      "Iteration 68, inertia 1870181760.0\n",
      "Iteration 69, inertia 1870167424.0\n",
      "Iteration 70, inertia 1870155520.0\n",
      "Iteration 71, inertia 1870145024.0\n",
      "Iteration 72, inertia 1870131712.0\n",
      "Iteration 73, inertia 1870115968.0\n",
      "Iteration 74, inertia 1870086784.0\n",
      "Iteration 75, inertia 1870054272.0\n",
      "Iteration 76, inertia 1870014464.0\n",
      "Iteration 77, inertia 1869983104.0\n",
      "Iteration 78, inertia 1869963904.0\n",
      "Iteration 79, inertia 1869953536.0\n",
      "Iteration 80, inertia 1869939200.0\n",
      "Iteration 81, inertia 1869922816.0\n",
      "Iteration 82, inertia 1869903104.0\n",
      "Iteration 83, inertia 1869886208.0\n",
      "Iteration 84, inertia 1869868672.0\n",
      "Iteration 85, inertia 1869856640.0\n",
      "Iteration 86, inertia 1869847936.0\n",
      "Iteration 87, inertia 1869840640.0\n",
      "Iteration 88, inertia 1869832192.0\n",
      "Iteration 89, inertia 1869825280.0\n",
      "Iteration 90, inertia 1869819648.0\n",
      "Iteration 91, inertia 1869817088.0\n",
      "Iteration 92, inertia 1869815936.0\n",
      "Iteration 93, inertia 1869812608.0\n",
      "Iteration 94, inertia 1869809792.0\n",
      "Iteration 95, inertia 1869808896.0\n",
      "Iteration 96, inertia 1869807104.0\n",
      "Iteration 97, inertia 1869806080.0\n",
      "Iteration 98, inertia 1869803776.0\n",
      "Iteration 99, inertia 1869803008.0\n",
      "Iteration 100, inertia 1869800320.0\n",
      "Iteration 101, inertia 1869799424.0\n",
      "Iteration 102, inertia 1869797888.0\n",
      "Iteration 103, inertia 1869796608.0\n",
      "Iteration 104, inertia 1869796608.0\n",
      "Iteration 105, inertia 1869795968.0\n",
      "Iteration 106, inertia 1869794432.0\n",
      "Iteration 107, inertia 1869792512.0\n",
      "Iteration 108, inertia 1869791488.0\n",
      "Iteration 109, inertia 1869791744.0\n",
      "Iteration 110, inertia 1869789312.0\n",
      "Iteration 111, inertia 1869787776.0\n",
      "Iteration 112, inertia 1869784960.0\n",
      "Iteration 113, inertia 1869783936.0\n",
      "Iteration 114, inertia 1869783168.0\n",
      "Iteration 115, inertia 1869782784.0\n",
      "Iteration 116, inertia 1869780736.0\n",
      "Iteration 117, inertia 1869778432.0\n",
      "Iteration 118, inertia 1869779200.0\n",
      "Iteration 119, inertia 1869777792.0\n",
      "Iteration 120, inertia 1869776768.0\n",
      "Iteration 121, inertia 1869776512.0\n",
      "Iteration 122, inertia 1869774720.0\n",
      "Iteration 123, inertia 1869773568.0\n",
      "Iteration 124, inertia 1869772416.0\n",
      "Iteration 125, inertia 1869771392.0\n",
      "Iteration 126, inertia 1869771008.0\n",
      "Iteration 127, inertia 1869771008.0\n",
      "Iteration 128, inertia 1869769856.0\n",
      "Iteration 129, inertia 1869768448.0\n",
      "Iteration 130, inertia 1869768704.0\n",
      "Iteration 131, inertia 1869767552.0\n",
      "Iteration 132, inertia 1869766784.0\n",
      "Iteration 133, inertia 1869766784.0\n",
      "Iteration 134, inertia 1869764992.0\n",
      "Iteration 135, inertia 1869764480.0\n",
      "Iteration 136, inertia 1869764736.0\n",
      "Iteration 137, inertia 1869764480.0\n",
      "Iteration 138, inertia 1869763328.0\n",
      "Iteration 139, inertia 1869763072.0\n",
      "Iteration 140, inertia 1869762688.0\n",
      "Iteration 141, inertia 1869762176.0\n",
      "Converged at iteration 141: center shift 0.07756052911281586 within tolerance 0.08778471679687501.\n",
      "Initialization complete\n",
      "Iteration 0, inertia 2610280192.0\n",
      "Iteration 1, inertia 1995208064.0\n",
      "Iteration 2, inertia 1947139200.0\n",
      "Iteration 3, inertia 1927426816.0\n",
      "Iteration 4, inertia 1915884928.0\n",
      "Iteration 5, inertia 1907994240.0\n",
      "Iteration 6, inertia 1901905408.0\n",
      "Iteration 7, inertia 1897143296.0\n",
      "Iteration 8, inertia 1893672704.0\n",
      "Iteration 9, inertia 1891011072.0\n",
      "Iteration 10, inertia 1888803072.0\n",
      "Iteration 11, inertia 1886700928.0\n",
      "Iteration 12, inertia 1884626688.0\n",
      "Iteration 13, inertia 1882865408.0\n",
      "Iteration 14, inertia 1881381888.0\n",
      "Iteration 15, inertia 1880223360.0\n",
      "Iteration 16, inertia 1879276288.0\n",
      "Iteration 17, inertia 1878438656.0\n",
      "Iteration 18, inertia 1877822720.0\n",
      "Iteration 19, inertia 1877282304.0\n",
      "Iteration 20, inertia 1876849920.0\n",
      "Iteration 21, inertia 1876473088.0\n",
      "Iteration 22, inertia 1876164480.0\n",
      "Iteration 23, inertia 1875904000.0\n",
      "Iteration 24, inertia 1875688320.0\n",
      "Iteration 25, inertia 1875507456.0\n",
      "Iteration 26, inertia 1875315072.0\n",
      "Iteration 27, inertia 1875124608.0\n",
      "Iteration 28, inertia 1874976640.0\n",
      "Iteration 29, inertia 1874860416.0\n",
      "Iteration 30, inertia 1874757120.0\n",
      "Iteration 31, inertia 1874651648.0\n",
      "Iteration 32, inertia 1874558208.0\n",
      "Iteration 33, inertia 1874478848.0\n",
      "Iteration 34, inertia 1874401024.0\n",
      "Iteration 35, inertia 1874333184.0\n",
      "Iteration 36, inertia 1874275584.0\n",
      "Iteration 37, inertia 1874220416.0\n",
      "Iteration 38, inertia 1874161920.0\n",
      "Iteration 39, inertia 1874112768.0\n",
      "Iteration 40, inertia 1874061568.0\n",
      "Iteration 41, inertia 1874020480.0\n",
      "Iteration 42, inertia 1873988352.0\n",
      "Iteration 43, inertia 1873957120.0\n",
      "Iteration 44, inertia 1873936256.0\n",
      "Iteration 45, inertia 1873914496.0\n",
      "Iteration 46, inertia 1873893888.0\n",
      "Iteration 47, inertia 1873872512.0\n",
      "Iteration 48, inertia 1873853440.0\n",
      "Iteration 49, inertia 1873833984.0\n",
      "Iteration 50, inertia 1873815936.0\n",
      "Iteration 51, inertia 1873803136.0\n",
      "Iteration 52, inertia 1873795072.0\n",
      "Iteration 53, inertia 1873786368.0\n",
      "Iteration 54, inertia 1873780608.0\n",
      "Iteration 55, inertia 1873776000.0\n",
      "Iteration 56, inertia 1873771264.0\n",
      "Iteration 57, inertia 1873766784.0\n",
      "Iteration 58, inertia 1873761280.0\n",
      "Iteration 59, inertia 1873756800.0\n",
      "Iteration 60, inertia 1873751296.0\n",
      "Iteration 61, inertia 1873745536.0\n",
      "Iteration 62, inertia 1873738368.0\n",
      "Iteration 63, inertia 1873734912.0\n",
      "Iteration 64, inertia 1873728512.0\n",
      "Iteration 65, inertia 1873723648.0\n",
      "Iteration 66, inertia 1873714688.0\n",
      "Iteration 67, inertia 1873709568.0\n",
      "Iteration 68, inertia 1873700224.0\n",
      "Iteration 69, inertia 1873692928.0\n",
      "Iteration 70, inertia 1873688960.0\n",
      "Iteration 71, inertia 1873686144.0\n",
      "Iteration 72, inertia 1873682944.0\n",
      "Iteration 73, inertia 1873678336.0\n",
      "Iteration 74, inertia 1873671296.0\n",
      "Iteration 75, inertia 1873666560.0\n",
      "Iteration 76, inertia 1873660544.0\n",
      "Iteration 77, inertia 1873654912.0\n",
      "Iteration 78, inertia 1873648128.0\n",
      "Iteration 79, inertia 1873643392.0\n",
      "Iteration 80, inertia 1873637248.0\n",
      "Iteration 81, inertia 1873633152.0\n",
      "Iteration 82, inertia 1873629568.0\n",
      "Iteration 83, inertia 1873626880.0\n",
      "Iteration 84, inertia 1873624960.0\n",
      "Iteration 85, inertia 1873623552.0\n",
      "Iteration 86, inertia 1873622016.0\n",
      "Iteration 87, inertia 1873620096.0\n",
      "Iteration 88, inertia 1873617408.0\n",
      "Iteration 89, inertia 1873616640.0\n",
      "Iteration 90, inertia 1873615616.0\n",
      "Iteration 91, inertia 1873612928.0\n",
      "Iteration 92, inertia 1873612032.0\n",
      "Iteration 93, inertia 1873611136.0\n",
      "Iteration 94, inertia 1873609472.0\n",
      "Iteration 95, inertia 1873607168.0\n",
      "Iteration 96, inertia 1873606656.0\n",
      "Iteration 97, inertia 1873605376.0\n",
      "Iteration 98, inertia 1873603072.0\n",
      "Iteration 99, inertia 1873602688.0\n",
      "Iteration 100, inertia 1873601152.0\n",
      "Iteration 101, inertia 1873600512.0\n",
      "Iteration 102, inertia 1873598720.0\n",
      "Iteration 103, inertia 1873597568.0\n",
      "Iteration 104, inertia 1873594624.0\n",
      "Iteration 105, inertia 1873589888.0\n",
      "Iteration 106, inertia 1873587712.0\n",
      "Iteration 107, inertia 1873584256.0\n",
      "Iteration 108, inertia 1873582080.0\n",
      "Iteration 109, inertia 1873578368.0\n",
      "Iteration 110, inertia 1873574528.0\n",
      "Iteration 111, inertia 1873571712.0\n",
      "Iteration 112, inertia 1873570432.0\n",
      "Iteration 113, inertia 1873569280.0\n",
      "Iteration 114, inertia 1873566976.0\n",
      "Iteration 115, inertia 1873566208.0\n",
      "Iteration 116, inertia 1873565440.0\n",
      "Iteration 117, inertia 1873563904.0\n",
      "Iteration 118, inertia 1873564416.0\n",
      "Iteration 119, inertia 1873563904.0\n",
      "Iteration 120, inertia 1873562112.0\n",
      "Iteration 121, inertia 1873561088.0\n",
      "Iteration 122, inertia 1873560704.0\n",
      "Iteration 123, inertia 1873559936.0\n",
      "Iteration 124, inertia 1873559680.0\n",
      "Iteration 125, inertia 1873559808.0\n",
      "Iteration 126, inertia 1873557632.0\n",
      "Iteration 127, inertia 1873554560.0\n",
      "Iteration 128, inertia 1873550848.0\n",
      "Iteration 129, inertia 1873547392.0\n",
      "Iteration 130, inertia 1873546112.0\n",
      "Iteration 131, inertia 1873546240.0\n",
      "Iteration 132, inertia 1873545728.0\n",
      "Iteration 133, inertia 1873545088.0\n",
      "Iteration 134, inertia 1873545472.0\n",
      "Converged at iteration 134: center shift 0.025458570569753647 within tolerance 0.08778471679687501.\n",
      "Initialization complete\n",
      "Iteration 0, inertia 2604485120.0\n",
      "Iteration 1, inertia 1984627200.0\n",
      "Iteration 2, inertia 1938954880.0\n",
      "Iteration 3, inertia 1920466048.0\n",
      "Iteration 4, inertia 1910146816.0\n",
      "Iteration 5, inertia 1903324672.0\n",
      "Iteration 6, inertia 1898360960.0\n",
      "Iteration 7, inertia 1894718208.0\n",
      "Iteration 8, inertia 1891767808.0\n",
      "Iteration 9, inertia 1889365760.0\n",
      "Iteration 10, inertia 1887348352.0\n",
      "Iteration 11, inertia 1885589760.0\n",
      "Iteration 12, inertia 1884043648.0\n",
      "Iteration 13, inertia 1882665728.0\n",
      "Iteration 14, inertia 1881448192.0\n",
      "Iteration 15, inertia 1880330240.0\n",
      "Iteration 16, inertia 1879168768.0\n",
      "Iteration 17, inertia 1878031872.0\n",
      "Iteration 18, inertia 1876947072.0\n",
      "Iteration 19, inertia 1876134016.0\n",
      "Iteration 20, inertia 1875594112.0\n",
      "Iteration 21, inertia 1875173376.0\n",
      "Iteration 22, inertia 1874810240.0\n",
      "Iteration 23, inertia 1874512128.0\n",
      "Iteration 24, inertia 1874237696.0\n",
      "Iteration 25, inertia 1873969152.0\n",
      "Iteration 26, inertia 1873719808.0\n",
      "Iteration 27, inertia 1873495552.0\n",
      "Iteration 28, inertia 1873303296.0\n",
      "Iteration 29, inertia 1873146240.0\n",
      "Iteration 30, inertia 1873003776.0\n",
      "Iteration 31, inertia 1872872704.0\n",
      "Iteration 32, inertia 1872752384.0\n",
      "Iteration 33, inertia 1872626688.0\n",
      "Iteration 34, inertia 1872491264.0\n",
      "Iteration 35, inertia 1872351488.0\n",
      "Iteration 36, inertia 1872205696.0\n",
      "Iteration 37, inertia 1872035968.0\n",
      "Iteration 38, inertia 1871889408.0\n",
      "Iteration 39, inertia 1871753472.0\n",
      "Iteration 40, inertia 1871604480.0\n",
      "Iteration 41, inertia 1871442560.0\n",
      "Iteration 42, inertia 1871280384.0\n",
      "Iteration 43, inertia 1871112832.0\n",
      "Iteration 44, inertia 1870966528.0\n",
      "Iteration 45, inertia 1870830080.0\n",
      "Iteration 46, inertia 1870739584.0\n",
      "Iteration 47, inertia 1870649856.0\n",
      "Iteration 48, inertia 1870569088.0\n",
      "Iteration 49, inertia 1870473344.0\n",
      "Iteration 50, inertia 1870387072.0\n",
      "Iteration 51, inertia 1870309888.0\n",
      "Iteration 52, inertia 1870262016.0\n",
      "Iteration 53, inertia 1870224128.0\n",
      "Iteration 54, inertia 1870174080.0\n",
      "Iteration 55, inertia 1870119424.0\n",
      "Iteration 56, inertia 1870066560.0\n",
      "Iteration 57, inertia 1870032384.0\n",
      "Iteration 58, inertia 1870000256.0\n",
      "Iteration 59, inertia 1869965312.0\n",
      "Iteration 60, inertia 1869945088.0\n",
      "Iteration 61, inertia 1869931520.0\n",
      "Iteration 62, inertia 1869919104.0\n",
      "Iteration 63, inertia 1869910144.0\n",
      "Iteration 64, inertia 1869896576.0\n",
      "Iteration 65, inertia 1869886720.0\n",
      "Iteration 66, inertia 1869875584.0\n",
      "Iteration 67, inertia 1869867520.0\n",
      "Iteration 68, inertia 1869861632.0\n",
      "Iteration 69, inertia 1869854848.0\n",
      "Iteration 70, inertia 1869848960.0\n",
      "Iteration 71, inertia 1869842304.0\n",
      "Iteration 72, inertia 1869834752.0\n",
      "Iteration 73, inertia 1869829248.0\n",
      "Iteration 74, inertia 1869822464.0\n",
      "Iteration 75, inertia 1869813760.0\n",
      "Iteration 76, inertia 1869801728.0\n",
      "Iteration 77, inertia 1869792512.0\n",
      "Iteration 78, inertia 1869783040.0\n",
      "Iteration 79, inertia 1869776000.0\n",
      "Iteration 80, inertia 1869768320.0\n",
      "Iteration 81, inertia 1869761792.0\n",
      "Iteration 82, inertia 1869756416.0\n",
      "Iteration 83, inertia 1869752704.0\n",
      "Iteration 84, inertia 1869748224.0\n",
      "Iteration 85, inertia 1869743744.0\n",
      "Iteration 86, inertia 1869739776.0\n",
      "Iteration 87, inertia 1869735936.0\n",
      "Iteration 88, inertia 1869731968.0\n",
      "Iteration 89, inertia 1869729408.0\n",
      "Iteration 90, inertia 1869725440.0\n",
      "Iteration 91, inertia 1869722368.0\n",
      "Iteration 92, inertia 1869718656.0\n",
      "Iteration 93, inertia 1869714944.0\n",
      "Iteration 94, inertia 1869711872.0\n",
      "Iteration 95, inertia 1869704832.0\n",
      "Iteration 96, inertia 1869694208.0\n",
      "Iteration 97, inertia 1869688960.0\n",
      "Iteration 98, inertia 1869686016.0\n",
      "Iteration 99, inertia 1869684736.0\n",
      "Iteration 100, inertia 1869683584.0\n",
      "Iteration 101, inertia 1869681280.0\n",
      "Iteration 102, inertia 1869681280.0\n",
      "Iteration 103, inertia 1869680128.0\n",
      "Iteration 104, inertia 1869679232.0\n",
      "Iteration 105, inertia 1869677696.0\n",
      "Iteration 106, inertia 1869676160.0\n",
      "Iteration 107, inertia 1869673984.0\n",
      "Iteration 108, inertia 1869672192.0\n",
      "Iteration 109, inertia 1869670656.0\n",
      "Iteration 110, inertia 1869669888.0\n",
      "Iteration 111, inertia 1869669120.0\n",
      "Iteration 112, inertia 1869669248.0\n",
      "Iteration 113, inertia 1869668480.0\n",
      "Iteration 114, inertia 1869667968.0\n",
      "Iteration 115, inertia 1869666944.0\n",
      "Iteration 116, inertia 1869666560.0\n",
      "Iteration 117, inertia 1869665792.0\n",
      "Iteration 118, inertia 1869664768.0\n",
      "Iteration 119, inertia 1869664000.0\n",
      "Iteration 120, inertia 1869662720.0\n",
      "Iteration 121, inertia 1869662080.0\n",
      "Iteration 122, inertia 1869661952.0\n",
      "Iteration 123, inertia 1869660160.0\n",
      "Iteration 124, inertia 1869658368.0\n",
      "Iteration 125, inertia 1869658368.0\n",
      "Iteration 126, inertia 1869657600.0\n",
      "Iteration 127, inertia 1869657856.0\n",
      "Iteration 128, inertia 1869656704.0\n",
      "Iteration 129, inertia 1869655552.0\n",
      "Iteration 130, inertia 1869654272.0\n",
      "Iteration 131, inertia 1869653632.0\n",
      "Iteration 132, inertia 1869653376.0\n",
      "Converged at iteration 132: center shift 0.08694182336330414 within tolerance 0.08778471679687501.\n"
     ]
    }
   ],
   "source": [
    "num_cluster = 750\n",
    "bow = kmeans_bow(all_descriptors, num_cluster)"
   ]
  },
  {
   "cell_type": "markdown",
   "id": "ee67ecc6",
   "metadata": {
    "id": "ee67ecc6"
   },
   "source": [
    "### Create Features From BOW"
   ]
  },
  {
   "cell_type": "code",
   "execution_count": 21,
   "id": "712e35c5",
   "metadata": {
    "executionInfo": {
     "elapsed": 11,
     "status": "ok",
     "timestamp": 1648213221969,
     "user": {
      "displayName": "Rama Tri Agung",
      "photoUrl": "https://lh3.googleusercontent.com/a-/AOh14GhO5MpcihqCafTv8Tf9MUwRyHV6tO2uPdiXma2V=s64",
      "userId": "07374601175312417068"
     },
     "user_tz": -420
    },
    "id": "712e35c5"
   },
   "outputs": [],
   "source": [
    "def create_feature_bow(image_descriptors, bow, num_cluster):\n",
    "    X_features = []\n",
    "\n",
    "    for i in range(len(image_descriptors)):\n",
    "        features = np.array([0] * num_cluster, dtype=float)\n",
    "\n",
    "        if image_descriptors[i] is not None:\n",
    "            distance = cdist(image_descriptors[i], bow)\n",
    "            argmin = np.argmin(distance, axis = 1)\n",
    "\n",
    "            for j in argmin:\n",
    "                features[j] += 1.0\n",
    "        X_features.append(features)\n",
    "\n",
    "    return np.array(X_features)"
   ]
  },
  {
   "cell_type": "code",
   "execution_count": 22,
   "id": "f0aecc4b",
   "metadata": {
    "colab": {
     "base_uri": "https://localhost:8080/",
     "height": 207
    },
    "executionInfo": {
     "elapsed": 545,
     "status": "error",
     "timestamp": 1648222301412,
     "user": {
      "displayName": "Rama Tri Agung",
      "photoUrl": "https://lh3.googleusercontent.com/a-/AOh14GhO5MpcihqCafTv8Tf9MUwRyHV6tO2uPdiXma2V=s64",
      "userId": "07374601175312417068"
     },
     "user_tz": -420
    },
    "id": "f0aecc4b",
    "outputId": "53813cfb-2ae4-4c56-e177-e4adaf78f722",
    "scrolled": true
   },
   "outputs": [
    {
     "name": "stdout",
     "output_type": "stream",
     "text": [
      "Feature X data dimension: (2940, 750)\n"
     ]
    }
   ],
   "source": [
    "X_feature = create_feature_bow(image_descriptors, bow, num_cluster)\n",
    "\n",
    "print(\"Feature X data dimension:\", X_feature.shape)"
   ]
  },
  {
   "cell_type": "markdown",
   "id": "57285a41",
   "metadata": {
    "id": "57285a41"
   },
   "source": [
    "# Classification With SIFT\n",
    "\n",
    "- input: `X_feature, y`\n",
    "- output: -"
   ]
  },
  {
   "cell_type": "code",
   "execution_count": 23,
   "id": "d405ef19",
   "metadata": {
    "executionInfo": {
     "elapsed": 26,
     "status": "ok",
     "timestamp": 1648213228936,
     "user": {
      "displayName": "Rama Tri Agung",
      "photoUrl": "https://lh3.googleusercontent.com/a-/AOh14GhO5MpcihqCafTv8Tf9MUwRyHV6tO2uPdiXma2V=s64",
      "userId": "07374601175312417068"
     },
     "user_tz": -420
    },
    "id": "d405ef19"
   },
   "outputs": [],
   "source": [
    "# normalization\n",
    "scaler = MinMaxScaler().fit(X_feature)\n",
    "X_scale = scaler.transform(X_feature)"
   ]
  },
  {
   "cell_type": "markdown",
   "id": "e4cfaa86",
   "metadata": {},
   "source": [
    "#### Save scaler"
   ]
  },
  {
   "cell_type": "code",
   "execution_count": 24,
   "id": "132fcf02",
   "metadata": {},
   "outputs": [],
   "source": [
    "# Just save normalization function for future used\n",
    "save_file_pickle(scaler, SCALER_WS_FILE_PICKLE)"
   ]
  },
  {
   "cell_type": "code",
   "execution_count": 25,
   "id": "d113c312",
   "metadata": {
    "colab": {
     "base_uri": "https://localhost:8080/"
    },
    "executionInfo": {
     "elapsed": 24,
     "status": "ok",
     "timestamp": 1648213228936,
     "user": {
      "displayName": "Rama Tri Agung",
      "photoUrl": "https://lh3.googleusercontent.com/a-/AOh14GhO5MpcihqCafTv8Tf9MUwRyHV6tO2uPdiXma2V=s64",
      "userId": "07374601175312417068"
     },
     "user_tz": -420
    },
    "id": "d113c312",
    "outputId": "22f4c248-9765-449e-807b-76f917198dfb"
   },
   "outputs": [
    {
     "name": "stdout",
     "output_type": "stream",
     "text": [
      "Size of training: 2499\n",
      "Size of testing: 441\n"
     ]
    }
   ],
   "source": [
    "# splitting data\n",
    "X_train, X_test, y_train, y_test = train_test_split(X_scale, y, test_size=0.15, random_state=42)\n",
    "\n",
    "print(\"Size of training:\", X_train.shape[0])\n",
    "print(\"Size of testing:\", X_test.shape[0])"
   ]
  },
  {
   "cell_type": "markdown",
   "id": "58716071",
   "metadata": {
    "id": "58716071"
   },
   "source": [
    "### SVM\n",
    "\n",
    "Using GridSearchCV for tuning parameter, with scenario:\n",
    "- 'C': \\[ 1, 3, 6, 10, 15 \\]\n",
    "- 'gamma': \\[ 'scale', 0.001, 0.0015, 0.0025, 0.003 \\]\n",
    "    - 'scale' = 1 / nfeatures * x.var()"
   ]
  },
  {
   "cell_type": "markdown",
   "id": "d619d7b2",
   "metadata": {},
   "source": [
    "#### Load model"
   ]
  },
  {
   "cell_type": "code",
   "execution_count": 26,
   "id": "e4a3995a",
   "metadata": {},
   "outputs": [],
   "source": [
    "# Just load model without re-training if you want\n",
    "svm_ws = load_file_pickle(SVM_WS_FILE_PICKLE)"
   ]
  },
  {
   "cell_type": "code",
   "execution_count": 27,
   "id": "44f0b59e",
   "metadata": {},
   "outputs": [
    {
     "name": "stdout",
     "output_type": "stream",
     "text": [
      "0.10655\n",
      "0.00213\n",
      "[0.10229, 0.10442, 0.10655, 0.10868, 0.11081]\n"
     ]
    }
   ],
   "source": [
    "# create parameter tuning\n",
    "_var = X_train.var()\n",
    "_scale = round(1 / (num_cluster * X_train.var()), 5)\n",
    "_dist = round(_scale * 2 / 100, 5)\n",
    "_scale_1 = round(_scale - (2 * _dist), 5)\n",
    "_scale_2 = round(_scale - _dist, 5)\n",
    "_scale_3 = round(_scale + _dist, 5)\n",
    "_scale_4 = round(_scale + (2 * _dist), 5)\n",
    "\n",
    "_gamma = [_scale_1, _scale_2, _scale, _scale_3, _scale_4]\n",
    "_c = [1, 3, 6, 10, 15]\n",
    "\n",
    "print(_scale)\n",
    "print(_dist)\n",
    "print(_gamma)"
   ]
  },
  {
   "cell_type": "code",
   "execution_count": 28,
   "id": "ba7680fc",
   "metadata": {
    "executionInfo": {
     "elapsed": 5,
     "status": "ok",
     "timestamp": 1648213230257,
     "user": {
      "displayName": "Rama Tri Agung",
      "photoUrl": "https://lh3.googleusercontent.com/a-/AOh14GhO5MpcihqCafTv8Tf9MUwRyHV6tO2uPdiXma2V=s64",
      "userId": "07374601175312417068"
     },
     "user_tz": -420
    },
    "id": "ba7680fc"
   },
   "outputs": [],
   "source": [
    "svm_ws_params = {\n",
    "    'C': _c,\n",
    "    'gamma': _gamma\n",
    "}\n",
    "svm_ws = GridSearchCV(estimator=SVC(kernel='rbf', probability=True), param_grid=svm_ws_params, cv=5, verbose=3)"
   ]
  },
  {
   "cell_type": "code",
   "execution_count": 29,
   "id": "c80d381c",
   "metadata": {
    "colab": {
     "base_uri": "https://localhost:8080/"
    },
    "executionInfo": {
     "elapsed": 239531,
     "status": "ok",
     "timestamp": 1648213469785,
     "user": {
      "displayName": "Rama Tri Agung",
      "photoUrl": "https://lh3.googleusercontent.com/a-/AOh14GhO5MpcihqCafTv8Tf9MUwRyHV6tO2uPdiXma2V=s64",
      "userId": "07374601175312417068"
     },
     "user_tz": -420
    },
    "id": "c80d381c",
    "outputId": "2e18e718-49c6-420f-c71d-d24d55e0c11e",
    "scrolled": true
   },
   "outputs": [
    {
     "name": "stdout",
     "output_type": "stream",
     "text": [
      "Fitting 5 folds for each of 25 candidates, totalling 125 fits\n",
      "[CV 1/5] END ................C=1, gamma=0.10229;, score=0.906 total time=   7.3s\n",
      "[CV 2/5] END ................C=1, gamma=0.10229;, score=0.884 total time=   7.5s\n",
      "[CV 3/5] END ................C=1, gamma=0.10229;, score=0.932 total time=   8.4s\n",
      "[CV 4/5] END ................C=1, gamma=0.10229;, score=0.896 total time=   7.7s\n",
      "[CV 5/5] END ................C=1, gamma=0.10229;, score=0.920 total time=   7.9s\n",
      "[CV 1/5] END ................C=1, gamma=0.10442;, score=0.906 total time=   7.7s\n",
      "[CV 2/5] END ................C=1, gamma=0.10442;, score=0.884 total time=   7.6s\n",
      "[CV 3/5] END ................C=1, gamma=0.10442;, score=0.932 total time=   7.5s\n",
      "[CV 4/5] END ................C=1, gamma=0.10442;, score=0.898 total time=   7.4s\n",
      "[CV 5/5] END ................C=1, gamma=0.10442;, score=0.920 total time=   7.5s\n",
      "[CV 1/5] END ................C=1, gamma=0.10655;, score=0.906 total time=   7.4s\n",
      "[CV 2/5] END ................C=1, gamma=0.10655;, score=0.884 total time=   7.4s\n",
      "[CV 3/5] END ................C=1, gamma=0.10655;, score=0.932 total time=   7.4s\n",
      "[CV 4/5] END ................C=1, gamma=0.10655;, score=0.898 total time=   7.3s\n",
      "[CV 5/5] END ................C=1, gamma=0.10655;, score=0.918 total time=   7.3s\n",
      "[CV 1/5] END ................C=1, gamma=0.10868;, score=0.906 total time=   7.3s\n",
      "[CV 2/5] END ................C=1, gamma=0.10868;, score=0.884 total time=   7.4s\n",
      "[CV 3/5] END ................C=1, gamma=0.10868;, score=0.932 total time=   7.3s\n",
      "[CV 4/5] END ................C=1, gamma=0.10868;, score=0.900 total time=   7.4s\n",
      "[CV 5/5] END ................C=1, gamma=0.10868;, score=0.916 total time=   7.4s\n",
      "[CV 1/5] END ................C=1, gamma=0.11081;, score=0.904 total time=   7.2s\n",
      "[CV 2/5] END ................C=1, gamma=0.11081;, score=0.882 total time=   7.2s\n",
      "[CV 3/5] END ................C=1, gamma=0.11081;, score=0.932 total time=   7.1s\n",
      "[CV 4/5] END ................C=1, gamma=0.11081;, score=0.900 total time=   7.3s\n",
      "[CV 5/5] END ................C=1, gamma=0.11081;, score=0.916 total time=   7.4s\n",
      "[CV 1/5] END ................C=3, gamma=0.10229;, score=0.914 total time=   7.5s\n",
      "[CV 2/5] END ................C=3, gamma=0.10229;, score=0.898 total time=   7.7s\n",
      "[CV 3/5] END ................C=3, gamma=0.10229;, score=0.928 total time=   8.1s\n",
      "[CV 4/5] END ................C=3, gamma=0.10229;, score=0.920 total time=   8.8s\n",
      "[CV 5/5] END ................C=3, gamma=0.10229;, score=0.936 total time=   8.8s\n",
      "[CV 1/5] END ................C=3, gamma=0.10442;, score=0.914 total time=   7.7s\n",
      "[CV 2/5] END ................C=3, gamma=0.10442;, score=0.898 total time=   7.4s\n",
      "[CV 3/5] END ................C=3, gamma=0.10442;, score=0.928 total time=   7.6s\n",
      "[CV 4/5] END ................C=3, gamma=0.10442;, score=0.922 total time=   7.7s\n",
      "[CV 5/5] END ................C=3, gamma=0.10442;, score=0.936 total time=   7.4s\n",
      "[CV 1/5] END ................C=3, gamma=0.10655;, score=0.914 total time=   7.5s\n",
      "[CV 2/5] END ................C=3, gamma=0.10655;, score=0.898 total time=   7.4s\n",
      "[CV 3/5] END ................C=3, gamma=0.10655;, score=0.926 total time=   7.4s\n",
      "[CV 4/5] END ................C=3, gamma=0.10655;, score=0.922 total time=   7.9s\n",
      "[CV 5/5] END ................C=3, gamma=0.10655;, score=0.936 total time=   9.0s\n",
      "[CV 1/5] END ................C=3, gamma=0.10868;, score=0.912 total time=   7.8s\n",
      "[CV 2/5] END ................C=3, gamma=0.10868;, score=0.898 total time=   7.6s\n",
      "[CV 3/5] END ................C=3, gamma=0.10868;, score=0.926 total time=   7.9s\n",
      "[CV 4/5] END ................C=3, gamma=0.10868;, score=0.922 total time=   7.5s\n",
      "[CV 5/5] END ................C=3, gamma=0.10868;, score=0.934 total time=   7.6s\n",
      "[CV 1/5] END ................C=3, gamma=0.11081;, score=0.910 total time=   7.5s\n",
      "[CV 2/5] END ................C=3, gamma=0.11081;, score=0.894 total time=   7.4s\n",
      "[CV 3/5] END ................C=3, gamma=0.11081;, score=0.926 total time=   7.9s\n",
      "[CV 4/5] END ................C=3, gamma=0.11081;, score=0.922 total time=   8.5s\n",
      "[CV 5/5] END ................C=3, gamma=0.11081;, score=0.932 total time=   7.4s\n",
      "[CV 1/5] END ................C=6, gamma=0.10229;, score=0.916 total time=   7.4s\n",
      "[CV 2/5] END ................C=6, gamma=0.10229;, score=0.902 total time=   7.4s\n",
      "[CV 3/5] END ................C=6, gamma=0.10229;, score=0.934 total time=   7.3s\n",
      "[CV 4/5] END ................C=6, gamma=0.10229;, score=0.920 total time=   7.4s\n",
      "[CV 5/5] END ................C=6, gamma=0.10229;, score=0.936 total time=   7.3s\n",
      "[CV 1/5] END ................C=6, gamma=0.10442;, score=0.916 total time=   7.3s\n",
      "[CV 2/5] END ................C=6, gamma=0.10442;, score=0.902 total time=   7.3s\n",
      "[CV 3/5] END ................C=6, gamma=0.10442;, score=0.934 total time=   7.3s\n",
      "[CV 4/5] END ................C=6, gamma=0.10442;, score=0.922 total time=   7.4s\n",
      "[CV 5/5] END ................C=6, gamma=0.10442;, score=0.936 total time=   7.3s\n",
      "[CV 1/5] END ................C=6, gamma=0.10655;, score=0.914 total time=   7.3s\n",
      "[CV 2/5] END ................C=6, gamma=0.10655;, score=0.902 total time=   7.3s\n",
      "[CV 3/5] END ................C=6, gamma=0.10655;, score=0.932 total time=   7.3s\n",
      "[CV 4/5] END ................C=6, gamma=0.10655;, score=0.922 total time=   7.3s\n",
      "[CV 5/5] END ................C=6, gamma=0.10655;, score=0.936 total time=   7.5s\n",
      "[CV 1/5] END ................C=6, gamma=0.10868;, score=0.914 total time=   7.8s\n",
      "[CV 2/5] END ................C=6, gamma=0.10868;, score=0.902 total time=   7.7s\n",
      "[CV 3/5] END ................C=6, gamma=0.10868;, score=0.932 total time=   7.5s\n",
      "[CV 4/5] END ................C=6, gamma=0.10868;, score=0.922 total time=   7.4s\n",
      "[CV 5/5] END ................C=6, gamma=0.10868;, score=0.932 total time=   7.4s\n",
      "[CV 1/5] END ................C=6, gamma=0.11081;, score=0.912 total time=   7.6s\n",
      "[CV 2/5] END ................C=6, gamma=0.11081;, score=0.900 total time=   7.7s\n",
      "[CV 3/5] END ................C=6, gamma=0.11081;, score=0.932 total time=   8.8s\n",
      "[CV 4/5] END ................C=6, gamma=0.11081;, score=0.922 total time=   7.7s\n",
      "[CV 5/5] END ................C=6, gamma=0.11081;, score=0.932 total time=   7.7s\n",
      "[CV 1/5] END ...............C=10, gamma=0.10229;, score=0.916 total time=   7.5s\n",
      "[CV 2/5] END ...............C=10, gamma=0.10229;, score=0.904 total time=   7.8s\n",
      "[CV 3/5] END ...............C=10, gamma=0.10229;, score=0.934 total time=   7.6s\n",
      "[CV 4/5] END ...............C=10, gamma=0.10229;, score=0.920 total time=   7.5s\n",
      "[CV 5/5] END ...............C=10, gamma=0.10229;, score=0.936 total time=   7.5s\n",
      "[CV 1/5] END ...............C=10, gamma=0.10442;, score=0.916 total time=   7.4s\n",
      "[CV 2/5] END ...............C=10, gamma=0.10442;, score=0.904 total time=   7.4s\n",
      "[CV 3/5] END ...............C=10, gamma=0.10442;, score=0.934 total time=   7.4s\n",
      "[CV 4/5] END ...............C=10, gamma=0.10442;, score=0.922 total time=   7.4s\n",
      "[CV 5/5] END ...............C=10, gamma=0.10442;, score=0.936 total time=   7.4s\n",
      "[CV 1/5] END ...............C=10, gamma=0.10655;, score=0.914 total time=   7.4s\n",
      "[CV 2/5] END ...............C=10, gamma=0.10655;, score=0.904 total time=   7.3s\n",
      "[CV 3/5] END ...............C=10, gamma=0.10655;, score=0.932 total time=   7.4s\n",
      "[CV 4/5] END ...............C=10, gamma=0.10655;, score=0.922 total time=   7.3s\n",
      "[CV 5/5] END ...............C=10, gamma=0.10655;, score=0.936 total time=   7.3s\n",
      "[CV 1/5] END ...............C=10, gamma=0.10868;, score=0.914 total time=   7.3s\n",
      "[CV 2/5] END ...............C=10, gamma=0.10868;, score=0.904 total time=   7.2s\n",
      "[CV 3/5] END ...............C=10, gamma=0.10868;, score=0.932 total time=   7.3s\n",
      "[CV 4/5] END ...............C=10, gamma=0.10868;, score=0.922 total time=   7.3s\n",
      "[CV 5/5] END ...............C=10, gamma=0.10868;, score=0.932 total time=   7.2s\n",
      "[CV 1/5] END ...............C=10, gamma=0.11081;, score=0.912 total time=   7.3s\n",
      "[CV 2/5] END ...............C=10, gamma=0.11081;, score=0.902 total time=   7.5s\n",
      "[CV 3/5] END ...............C=10, gamma=0.11081;, score=0.932 total time=   7.5s\n",
      "[CV 4/5] END ...............C=10, gamma=0.11081;, score=0.922 total time=   7.9s\n",
      "[CV 5/5] END ...............C=10, gamma=0.11081;, score=0.932 total time=   7.6s\n",
      "[CV 1/5] END ...............C=15, gamma=0.10229;, score=0.916 total time=   7.3s\n",
      "[CV 2/5] END ...............C=15, gamma=0.10229;, score=0.904 total time=   7.3s\n",
      "[CV 3/5] END ...............C=15, gamma=0.10229;, score=0.934 total time=   7.6s\n",
      "[CV 4/5] END ...............C=15, gamma=0.10229;, score=0.920 total time=   8.2s\n",
      "[CV 5/5] END ...............C=15, gamma=0.10229;, score=0.936 total time=   7.9s\n",
      "[CV 1/5] END ...............C=15, gamma=0.10442;, score=0.916 total time=   7.7s\n",
      "[CV 2/5] END ...............C=15, gamma=0.10442;, score=0.904 total time=   8.2s\n",
      "[CV 3/5] END ...............C=15, gamma=0.10442;, score=0.934 total time=   7.5s\n",
      "[CV 4/5] END ...............C=15, gamma=0.10442;, score=0.922 total time=   7.6s\n",
      "[CV 5/5] END ...............C=15, gamma=0.10442;, score=0.936 total time=   7.7s\n",
      "[CV 1/5] END ...............C=15, gamma=0.10655;, score=0.914 total time=   7.5s\n",
      "[CV 2/5] END ...............C=15, gamma=0.10655;, score=0.904 total time=   8.0s\n",
      "[CV 3/5] END ...............C=15, gamma=0.10655;, score=0.932 total time=   7.6s\n",
      "[CV 4/5] END ...............C=15, gamma=0.10655;, score=0.922 total time=   7.4s\n",
      "[CV 5/5] END ...............C=15, gamma=0.10655;, score=0.936 total time=   7.4s\n",
      "[CV 1/5] END ...............C=15, gamma=0.10868;, score=0.914 total time=   7.9s\n",
      "[CV 2/5] END ...............C=15, gamma=0.10868;, score=0.904 total time=   8.7s\n",
      "[CV 3/5] END ...............C=15, gamma=0.10868;, score=0.932 total time=   8.3s\n",
      "[CV 4/5] END ...............C=15, gamma=0.10868;, score=0.922 total time=   8.3s\n",
      "[CV 5/5] END ...............C=15, gamma=0.10868;, score=0.932 total time=  10.5s\n",
      "[CV 1/5] END ...............C=15, gamma=0.11081;, score=0.912 total time=  16.0s\n",
      "[CV 2/5] END ...............C=15, gamma=0.11081;, score=0.902 total time=   7.7s\n",
      "[CV 3/5] END ...............C=15, gamma=0.11081;, score=0.932 total time=   8.0s\n",
      "[CV 4/5] END ...............C=15, gamma=0.11081;, score=0.922 total time=   7.9s\n",
      "[CV 5/5] END ...............C=15, gamma=0.11081;, score=0.932 total time=   7.8s\n"
     ]
    },
    {
     "data": {
      "text/plain": [
       "GridSearchCV(cv=5, estimator=SVC(probability=True),\n",
       "             param_grid={'C': [1, 3, 6, 10, 15],\n",
       "                         'gamma': [0.10229, 0.10442, 0.10655, 0.10868,\n",
       "                                   0.11081]},\n",
       "             verbose=3)"
      ]
     },
     "execution_count": 29,
     "metadata": {},
     "output_type": "execute_result"
    }
   ],
   "source": [
    "svm_ws.fit(X_train, y_train)"
   ]
  },
  {
   "cell_type": "code",
   "execution_count": 30,
   "id": "lyalc_iR_e0d",
   "metadata": {
    "colab": {
     "base_uri": "https://localhost:8080/"
    },
    "executionInfo": {
     "elapsed": 25,
     "status": "ok",
     "timestamp": 1648213469785,
     "user": {
      "displayName": "Rama Tri Agung",
      "photoUrl": "https://lh3.googleusercontent.com/a-/AOh14GhO5MpcihqCafTv8Tf9MUwRyHV6tO2uPdiXma2V=s64",
      "userId": "07374601175312417068"
     },
     "user_tz": -420
    },
    "id": "lyalc_iR_e0d",
    "outputId": "7e18bc20-fb83-4c15-b27e-5b47236af547"
   },
   "outputs": [
    {
     "name": "stdout",
     "output_type": "stream",
     "text": [
      "Best Model: SVC(C=10, gamma=0.10442, probability=True)\n",
      "Best CV Score: 0.9223743486973948\n"
     ]
    }
   ],
   "source": [
    "print(\"Best Model:\", svm_ws.best_estimator_)\n",
    "print(\"Best CV Score:\", svm_ws.best_score_)"
   ]
  },
  {
   "cell_type": "markdown",
   "id": "8d31dd96",
   "metadata": {},
   "source": [
    "#### All result score CV from tuning parameter SVM"
   ]
  },
  {
   "cell_type": "code",
   "execution_count": 31,
   "id": "77F7WcPS_hod",
   "metadata": {
    "colab": {
     "base_uri": "https://localhost:8080/",
     "height": 865
    },
    "executionInfo": {
     "elapsed": 24,
     "status": "ok",
     "timestamp": 1648213469786,
     "user": {
      "displayName": "Rama Tri Agung",
      "photoUrl": "https://lh3.googleusercontent.com/a-/AOh14GhO5MpcihqCafTv8Tf9MUwRyHV6tO2uPdiXma2V=s64",
      "userId": "07374601175312417068"
     },
     "user_tz": -420
    },
    "id": "77F7WcPS_hod",
    "outputId": "fdd8f0d5-8cf5-45cd-97a1-eb17096d36bf"
   },
   "outputs": [
    {
     "data": {
      "text/html": [
       "<div>\n",
       "<style scoped>\n",
       "    .dataframe tbody tr th:only-of-type {\n",
       "        vertical-align: middle;\n",
       "    }\n",
       "\n",
       "    .dataframe tbody tr th {\n",
       "        vertical-align: top;\n",
       "    }\n",
       "\n",
       "    .dataframe thead th {\n",
       "        text-align: right;\n",
       "    }\n",
       "</style>\n",
       "<table border=\"1\" class=\"dataframe\">\n",
       "  <thead>\n",
       "    <tr style=\"text-align: right;\">\n",
       "      <th></th>\n",
       "      <th>params</th>\n",
       "      <th>rank_test_score</th>\n",
       "      <th>mean_test_score</th>\n",
       "      <th>std_test_score</th>\n",
       "    </tr>\n",
       "    <tr>\n",
       "      <th>kernel</th>\n",
       "      <th></th>\n",
       "      <th></th>\n",
       "      <th></th>\n",
       "      <th></th>\n",
       "    </tr>\n",
       "  </thead>\n",
       "  <tbody>\n",
       "    <tr>\n",
       "      <th>15_0.10442</th>\n",
       "      <td>{'C': 15, 'gamma': 0.10442}</td>\n",
       "      <td>1</td>\n",
       "      <td>0.922374</td>\n",
       "      <td>0.011796</td>\n",
       "    </tr>\n",
       "    <tr>\n",
       "      <th>10_0.10442</th>\n",
       "      <td>{'C': 10, 'gamma': 0.10442}</td>\n",
       "      <td>1</td>\n",
       "      <td>0.922374</td>\n",
       "      <td>0.011796</td>\n",
       "    </tr>\n",
       "    <tr>\n",
       "      <th>15_0.10229</th>\n",
       "      <td>{'C': 15, 'gamma': 0.10229}</td>\n",
       "      <td>3</td>\n",
       "      <td>0.921974</td>\n",
       "      <td>0.011836</td>\n",
       "    </tr>\n",
       "    <tr>\n",
       "      <th>10_0.10229</th>\n",
       "      <td>{'C': 10, 'gamma': 0.10229}</td>\n",
       "      <td>3</td>\n",
       "      <td>0.921974</td>\n",
       "      <td>0.011836</td>\n",
       "    </tr>\n",
       "    <tr>\n",
       "      <th>6_0.10442</th>\n",
       "      <td>{'C': 6, 'gamma': 0.10442}</td>\n",
       "      <td>3</td>\n",
       "      <td>0.921974</td>\n",
       "      <td>0.012429</td>\n",
       "    </tr>\n",
       "    <tr>\n",
       "      <th>15_0.10655</th>\n",
       "      <td>{'C': 15, 'gamma': 0.10655}</td>\n",
       "      <td>6</td>\n",
       "      <td>0.921574</td>\n",
       "      <td>0.011658</td>\n",
       "    </tr>\n",
       "    <tr>\n",
       "      <th>10_0.10655</th>\n",
       "      <td>{'C': 10, 'gamma': 0.10655}</td>\n",
       "      <td>6</td>\n",
       "      <td>0.921574</td>\n",
       "      <td>0.011658</td>\n",
       "    </tr>\n",
       "    <tr>\n",
       "      <th>6_0.10229</th>\n",
       "      <td>{'C': 6, 'gamma': 0.10229}</td>\n",
       "      <td>6</td>\n",
       "      <td>0.921574</td>\n",
       "      <td>0.012454</td>\n",
       "    </tr>\n",
       "    <tr>\n",
       "      <th>6_0.10655</th>\n",
       "      <td>{'C': 6, 'gamma': 0.10655}</td>\n",
       "      <td>9</td>\n",
       "      <td>0.921174</td>\n",
       "      <td>0.012272</td>\n",
       "    </tr>\n",
       "    <tr>\n",
       "      <th>10_0.10868</th>\n",
       "      <td>{'C': 10, 'gamma': 0.10868}</td>\n",
       "      <td>10</td>\n",
       "      <td>0.920773</td>\n",
       "      <td>0.010750</td>\n",
       "    </tr>\n",
       "    <tr>\n",
       "      <th>15_0.10868</th>\n",
       "      <td>{'C': 15, 'gamma': 0.10868}</td>\n",
       "      <td>10</td>\n",
       "      <td>0.920773</td>\n",
       "      <td>0.010750</td>\n",
       "    </tr>\n",
       "    <tr>\n",
       "      <th>6_0.10868</th>\n",
       "      <td>{'C': 6, 'gamma': 0.10868}</td>\n",
       "      <td>12</td>\n",
       "      <td>0.920373</td>\n",
       "      <td>0.011385</td>\n",
       "    </tr>\n",
       "    <tr>\n",
       "      <th>10_0.11081</th>\n",
       "      <td>{'C': 10, 'gamma': 0.11081}</td>\n",
       "      <td>13</td>\n",
       "      <td>0.919973</td>\n",
       "      <td>0.011634</td>\n",
       "    </tr>\n",
       "    <tr>\n",
       "      <th>15_0.11081</th>\n",
       "      <td>{'C': 15, 'gamma': 0.11081}</td>\n",
       "      <td>13</td>\n",
       "      <td>0.919973</td>\n",
       "      <td>0.011634</td>\n",
       "    </tr>\n",
       "    <tr>\n",
       "      <th>3_0.10442</th>\n",
       "      <td>{'C': 3, 'gamma': 0.10442}</td>\n",
       "      <td>15</td>\n",
       "      <td>0.919574</td>\n",
       "      <td>0.012954</td>\n",
       "    </tr>\n",
       "    <tr>\n",
       "      <th>6_0.11081</th>\n",
       "      <td>{'C': 6, 'gamma': 0.11081}</td>\n",
       "      <td>16</td>\n",
       "      <td>0.919573</td>\n",
       "      <td>0.012262</td>\n",
       "    </tr>\n",
       "    <tr>\n",
       "      <th>3_0.10655</th>\n",
       "      <td>{'C': 3, 'gamma': 0.10655}</td>\n",
       "      <td>17</td>\n",
       "      <td>0.919174</td>\n",
       "      <td>0.012716</td>\n",
       "    </tr>\n",
       "    <tr>\n",
       "      <th>3_0.10229</th>\n",
       "      <td>{'C': 3, 'gamma': 0.10229}</td>\n",
       "      <td>17</td>\n",
       "      <td>0.919174</td>\n",
       "      <td>0.012904</td>\n",
       "    </tr>\n",
       "    <tr>\n",
       "      <th>3_0.10868</th>\n",
       "      <td>{'C': 3, 'gamma': 0.10868}</td>\n",
       "      <td>19</td>\n",
       "      <td>0.918374</td>\n",
       "      <td>0.012386</td>\n",
       "    </tr>\n",
       "    <tr>\n",
       "      <th>3_0.11081</th>\n",
       "      <td>{'C': 3, 'gamma': 0.11081}</td>\n",
       "      <td>20</td>\n",
       "      <td>0.916773</td>\n",
       "      <td>0.013451</td>\n",
       "    </tr>\n",
       "    <tr>\n",
       "      <th>1_0.10442</th>\n",
       "      <td>{'C': 1, 'gamma': 0.10442}</td>\n",
       "      <td>21</td>\n",
       "      <td>0.907968</td>\n",
       "      <td>0.016710</td>\n",
       "    </tr>\n",
       "    <tr>\n",
       "      <th>1_0.10229</th>\n",
       "      <td>{'C': 1, 'gamma': 0.10229}</td>\n",
       "      <td>22</td>\n",
       "      <td>0.907568</td>\n",
       "      <td>0.016966</td>\n",
       "    </tr>\n",
       "    <tr>\n",
       "      <th>1_0.10655</th>\n",
       "      <td>{'C': 1, 'gamma': 0.10655}</td>\n",
       "      <td>23</td>\n",
       "      <td>0.907567</td>\n",
       "      <td>0.016443</td>\n",
       "    </tr>\n",
       "    <tr>\n",
       "      <th>1_0.10868</th>\n",
       "      <td>{'C': 1, 'gamma': 0.10868}</td>\n",
       "      <td>24</td>\n",
       "      <td>0.907566</td>\n",
       "      <td>0.016002</td>\n",
       "    </tr>\n",
       "    <tr>\n",
       "      <th>1_0.11081</th>\n",
       "      <td>{'C': 1, 'gamma': 0.11081}</td>\n",
       "      <td>25</td>\n",
       "      <td>0.906766</td>\n",
       "      <td>0.016648</td>\n",
       "    </tr>\n",
       "  </tbody>\n",
       "</table>\n",
       "</div>"
      ],
      "text/plain": [
       "                                 params  rank_test_score  mean_test_score  \\\n",
       "kernel                                                                      \n",
       "15_0.10442  {'C': 15, 'gamma': 0.10442}                1         0.922374   \n",
       "10_0.10442  {'C': 10, 'gamma': 0.10442}                1         0.922374   \n",
       "15_0.10229  {'C': 15, 'gamma': 0.10229}                3         0.921974   \n",
       "10_0.10229  {'C': 10, 'gamma': 0.10229}                3         0.921974   \n",
       "6_0.10442    {'C': 6, 'gamma': 0.10442}                3         0.921974   \n",
       "15_0.10655  {'C': 15, 'gamma': 0.10655}                6         0.921574   \n",
       "10_0.10655  {'C': 10, 'gamma': 0.10655}                6         0.921574   \n",
       "6_0.10229    {'C': 6, 'gamma': 0.10229}                6         0.921574   \n",
       "6_0.10655    {'C': 6, 'gamma': 0.10655}                9         0.921174   \n",
       "10_0.10868  {'C': 10, 'gamma': 0.10868}               10         0.920773   \n",
       "15_0.10868  {'C': 15, 'gamma': 0.10868}               10         0.920773   \n",
       "6_0.10868    {'C': 6, 'gamma': 0.10868}               12         0.920373   \n",
       "10_0.11081  {'C': 10, 'gamma': 0.11081}               13         0.919973   \n",
       "15_0.11081  {'C': 15, 'gamma': 0.11081}               13         0.919973   \n",
       "3_0.10442    {'C': 3, 'gamma': 0.10442}               15         0.919574   \n",
       "6_0.11081    {'C': 6, 'gamma': 0.11081}               16         0.919573   \n",
       "3_0.10655    {'C': 3, 'gamma': 0.10655}               17         0.919174   \n",
       "3_0.10229    {'C': 3, 'gamma': 0.10229}               17         0.919174   \n",
       "3_0.10868    {'C': 3, 'gamma': 0.10868}               19         0.918374   \n",
       "3_0.11081    {'C': 3, 'gamma': 0.11081}               20         0.916773   \n",
       "1_0.10442    {'C': 1, 'gamma': 0.10442}               21         0.907968   \n",
       "1_0.10229    {'C': 1, 'gamma': 0.10229}               22         0.907568   \n",
       "1_0.10655    {'C': 1, 'gamma': 0.10655}               23         0.907567   \n",
       "1_0.10868    {'C': 1, 'gamma': 0.10868}               24         0.907566   \n",
       "1_0.11081    {'C': 1, 'gamma': 0.11081}               25         0.906766   \n",
       "\n",
       "            std_test_score  \n",
       "kernel                      \n",
       "15_0.10442        0.011796  \n",
       "10_0.10442        0.011796  \n",
       "15_0.10229        0.011836  \n",
       "10_0.10229        0.011836  \n",
       "6_0.10442         0.012429  \n",
       "15_0.10655        0.011658  \n",
       "10_0.10655        0.011658  \n",
       "6_0.10229         0.012454  \n",
       "6_0.10655         0.012272  \n",
       "10_0.10868        0.010750  \n",
       "15_0.10868        0.010750  \n",
       "6_0.10868         0.011385  \n",
       "10_0.11081        0.011634  \n",
       "15_0.11081        0.011634  \n",
       "3_0.10442         0.012954  \n",
       "6_0.11081         0.012262  \n",
       "3_0.10655         0.012716  \n",
       "3_0.10229         0.012904  \n",
       "3_0.10868         0.012386  \n",
       "3_0.11081         0.013451  \n",
       "1_0.10442         0.016710  \n",
       "1_0.10229         0.016966  \n",
       "1_0.10655         0.016443  \n",
       "1_0.10868         0.016002  \n",
       "1_0.11081         0.016648  "
      ]
     },
     "execution_count": 31,
     "metadata": {},
     "output_type": "execute_result"
    }
   ],
   "source": [
    "cv_results_df = pd.DataFrame(svm_ws.cv_results_)\n",
    "cv_results_df = cv_results_df.sort_values(by=['rank_test_score'])\n",
    "cv_results_df = (\n",
    "    cv_results_df\n",
    "    .set_index(cv_results_df[\"params\"].apply(\n",
    "        lambda x: \"_\".join(str(val) for val in x.values()))\n",
    "    )\n",
    "    .rename_axis('kernel')\n",
    ")\n",
    "cv_results_df[\n",
    "    ['params', 'rank_test_score', 'mean_test_score', 'std_test_score']\n",
    "]"
   ]
  },
  {
   "cell_type": "markdown",
   "id": "637d2a06",
   "metadata": {},
   "source": [
    "#### Save model"
   ]
  },
  {
   "cell_type": "code",
   "execution_count": 32,
   "id": "79cedb44",
   "metadata": {},
   "outputs": [],
   "source": [
    "# Just save model for future used\n",
    "save_file_pickle(svm_ws, SVM_WS_FILE_PICKLE)"
   ]
  },
  {
   "cell_type": "markdown",
   "id": "a2904916",
   "metadata": {},
   "source": [
    "### Predict Data Testing\n",
    "\n",
    "Using SVC(C=3, gamma=0.0009)"
   ]
  },
  {
   "cell_type": "code",
   "execution_count": 33,
   "id": "rrF-6ztW_kSb",
   "metadata": {
    "executionInfo": {
     "elapsed": 16,
     "status": "ok",
     "timestamp": 1648213469786,
     "user": {
      "displayName": "Rama Tri Agung",
      "photoUrl": "https://lh3.googleusercontent.com/a-/AOh14GhO5MpcihqCafTv8Tf9MUwRyHV6tO2uPdiXma2V=s64",
      "userId": "07374601175312417068"
     },
     "user_tz": -420
    },
    "id": "rrF-6ztW_kSb"
   },
   "outputs": [],
   "source": [
    "y_pred = svm_ws.predict(X_test)"
   ]
  },
  {
   "cell_type": "code",
   "execution_count": 34,
   "id": "9f2b0992",
   "metadata": {},
   "outputs": [
    {
     "data": {
      "text/plain": [
       "array([[3.47686371e-03, 1.41562165e-01, 4.67978457e-03, 2.66435686e-03,\n",
       "        4.02169297e-04, 1.37191357e-03, 1.36067260e-03, 4.68336070e-03,\n",
       "        2.98957925e-03, 1.12266748e-03, 8.36143463e-03, 1.48413285e-03,\n",
       "        5.57142099e-03, 2.29233000e-04, 7.89746146e-05, 8.02350187e-01,\n",
       "        1.66682882e-03, 7.68948948e-03, 4.79186628e-04, 7.77557867e-03]])"
      ]
     },
     "execution_count": 34,
     "metadata": {},
     "output_type": "execute_result"
    }
   ],
   "source": [
    "test = svm_ws.predict_proba(np.reshape(X_test[0], (1, -1)))\n",
    "test"
   ]
  },
  {
   "cell_type": "code",
   "execution_count": 35,
   "id": "cc2a8394",
   "metadata": {},
   "outputs": [
    {
     "data": {
      "text/plain": [
       "'sa'"
      ]
     },
     "execution_count": 35,
     "metadata": {},
     "output_type": "execute_result"
    }
   ],
   "source": [
    "test_label = hanacaraka[test.argmax()]\n",
    "test_label\n"
   ]
  },
  {
   "cell_type": "code",
   "execution_count": 36,
   "id": "9ec69e17",
   "metadata": {},
   "outputs": [
    {
     "data": {
      "text/plain": [
       "80.24"
      ]
     },
     "execution_count": 36,
     "metadata": {},
     "output_type": "execute_result"
    }
   ],
   "source": [
    "test_acc = round(test.max() * 100, 2)\n",
    "test_acc"
   ]
  },
  {
   "cell_type": "markdown",
   "id": "1f0f9b3d",
   "metadata": {},
   "source": [
    "#### Heatmap result predict"
   ]
  },
  {
   "cell_type": "code",
   "execution_count": 37,
   "id": "41a647f0",
   "metadata": {},
   "outputs": [
    {
     "data": {
      "image/png": "[encoded data removed]",
      "text/plain": [
       "<Figure size 1224x792 with 1 Axes>"
      ]
     },
     "metadata": {
      "needs_background": "light"
     },
     "output_type": "display_data"
    }
   ],
   "source": [
    "conf_ws = pd.DataFrame(confusion_matrix(y_test, y_pred), columns=hanacaraka, index=hanacaraka)\n",
    "\n",
    "plt.figure(figsize=(17,11))\n",
    "\n",
    "res = sns.heatmap(conf_ws, annot=True, fmt=\"g\", cmap=\"Blues\", cbar=False)\n",
    "res.set_yticklabels(res.get_ymajorticklabels(), fontsize = 14)\n",
    "res.set_xticklabels(res.get_xmajorticklabels(), fontsize = 14)\n",
    "\n",
    "plt.xlabel(\"Predicted\")\n",
    "plt.ylabel(\"Actual\")\n",
    "plt.title(\"Confusion Matrix Plot\")\n",
    "plt.show()"
   ]
  },
  {
   "cell_type": "code",
   "execution_count": 38,
   "id": "6622e3e2",
   "metadata": {
    "colab": {
     "base_uri": "https://localhost:8080/"
    },
    "executionInfo": {
     "elapsed": 16,
     "status": "ok",
     "timestamp": 1648213469787,
     "user": {
      "displayName": "Rama Tri Agung",
      "photoUrl": "https://lh3.googleusercontent.com/a-/AOh14GhO5MpcihqCafTv8Tf9MUwRyHV6tO2uPdiXma2V=s64",
      "userId": "07374601175312417068"
     },
     "user_tz": -420
    },
    "id": "6622e3e2",
    "outputId": "22122fe7-ac04-470f-9faa-f3839d1d29ac",
    "scrolled": false
   },
   "outputs": [
    {
     "name": "stdout",
     "output_type": "stream",
     "text": [
      "Classification report result:\n",
      "              precision    recall  f1-score   support\n",
      "\n",
      "          ba       0.86      0.90      0.88        21\n",
      "          ca       1.00      0.88      0.94        26\n",
      "          da       0.95      0.91      0.93        23\n",
      "         dha       1.00      1.00      1.00        28\n",
      "          ga       0.95      1.00      0.98        20\n",
      "          ha       0.85      0.89      0.87        19\n",
      "          ja       1.00      1.00      1.00        13\n",
      "          ka       0.97      1.00      0.98        28\n",
      "          la       0.85      0.92      0.88        25\n",
      "          ma       1.00      1.00      1.00        22\n",
      "          na       0.95      0.95      0.95        20\n",
      "         nga       1.00      0.95      0.98        21\n",
      "         nya       0.91      0.95      0.93        21\n",
      "          pa       0.86      1.00      0.92        18\n",
      "          ra       1.00      0.96      0.98        24\n",
      "          sa       0.89      0.96      0.92        25\n",
      "          ta       1.00      0.92      0.96        25\n",
      "         tha       1.00      0.95      0.98        22\n",
      "          wa       1.00      0.86      0.92        21\n",
      "          ya       0.95      0.95      0.95        19\n",
      "\n",
      "    accuracy                           0.95       441\n",
      "   macro avg       0.95      0.95      0.95       441\n",
      "weighted avg       0.95      0.95      0.95       441\n",
      "\n"
     ]
    }
   ],
   "source": [
    "class_rep_ws = classification_report(y_test, y_pred)\n",
    "\n",
    "print(\"Classification report result:\")\n",
    "print(class_rep_ws)"
   ]
  },
  {
   "cell_type": "markdown",
   "id": "de4810dd",
   "metadata": {},
   "source": [
    "### Result Accuracy Score for SVM with SIFT"
   ]
  },
  {
   "cell_type": "code",
   "execution_count": 39,
   "id": "fb12b508",
   "metadata": {},
   "outputs": [
    {
     "name": "stdout",
     "output_type": "stream",
     "text": [
      "Accuracy score: 0.9478458049886621\n"
     ]
    }
   ],
   "source": [
    "acc_ws = accuracy_score(y_test, y_pred)\n",
    "print(\"Accuracy score:\", acc_ws)"
   ]
  },
  {
   "cell_type": "markdown",
   "id": "c3e86b5b",
   "metadata": {},
   "source": [
    "# Note for Result SIFT With SVM"
   ]
  },
  {
   "cell_type": "markdown",
   "id": "6NbhunaQV9pq",
   "metadata": {
    "id": "6NbhunaQV9pq"
   },
   "source": [
    "### Testing Scenario\n",
    "- Img = \\[ 64, 96, 128, 164, 192, 224 \\]\n",
    "  - Img prep = Greyscale, Equalization\n",
    "- K = \\[ 1000, 700, 500, 350, 240, 180 \\]\n",
    "- C = \\[ 1, 3, 6, 10, 15\\]\n",
    "- G = \\[ 'auto', 0.001, 0.0015, 0.0025, 0.003 \\]"
   ]
  },
  {
   "cell_type": "markdown",
   "id": "6f652705",
   "metadata": {
    "id": "6f652705"
   },
   "source": [
    "### Result:\n",
    "- Img = (25,25), K = 180, SVM = 0.61\n",
    "- Img = (28,28), K = 140, SVM = 0.59\n",
    "- Img = (32,32), K = 140, SVM = 0.69\n",
    "- Img = (64,64), K = 180, SVM = 0.89\n",
    "- Img = (64,64), K = 240, SVM = .89:.90\n",
    "- Img = (96,96), K = 240, SVM = .89:.89\n",
    "- Img = (128,128), K = 140, SVM = .87:.89\n",
    "- Img = (128,128), K = 180, SVM = .88:.93\n",
    "- Img = (128,128), K = 240, SVM = .90:.95\n",
    "- Img = (128,128), K = 350, SVM = .91:.94\n",
    "- Img = (128,128), K = 500, SVM = .92:.95\n",
    "- Img = (128,128), K = 700, SVM = .92:.94\n",
    "- Img = (128,128), K = 1000, SVM = .92:.94\n",
    "- Img = (164,164), K = 240, SVM = .90:.91\n",
    "- Img = (192,192), K = 240, SVM = .90:.92\n",
    "- Img = (224,224), K = 240, SVM = .88:.90\n",
    "\n",
    "\n",
    "======================================\n",
    "\n",
    "- Img = (128,128), K = 60, KNN = 0.69, SVM = 0.82\n",
    "- Img = (128,128), K = 80, KNN = 0.71, SVM = 0.88\n",
    "- Img = (128,128), K = 100, KNN = 0.76, SVM = 0.90\n",
    "- Img = (128,128), K = 120, KNN = 0.74, SVM = 0.91\n",
    "- Img = (128,128), K = 140, KNN = 0.78, SVM = 0.92\n",
    "- Img = (128,128), K = 160, KNN = 0.76, SVM = 0.93\n",
    "- Img = (128,128), K = 180, KNN = 0.75, SVM = 0.92\n",
    "- Img = (128,128), K = 200, KNN = 0.75, SVM = 0.94 (G,T) / 0.92 (G,E) / 0.86 (G,E,T) / 0.86 (G,T,E)\n",
    "- Img = (128,128), K = 240, KNN = 0.76, SVM = 0.96 (G,T) / 0.90:0.94 (G,E)\n",
    "- Img = (128,128), K = 350, KNN = 0.75, SVM = 0.94\n",
    "- Img = (128,128), K = 500, KNN = 0.76, SVM = 0.97\n",
    "- Img = (128,128), K = 700, KNN = 0.71, SVM = 0.95\n",
    "- Img = (128,128), K = 1000, KNN = 0.63, SVM = 0.95\n"
   ]
  },
  {
   "cell_type": "markdown",
   "id": "FEwl7fHNW0i7",
   "metadata": {
    "id": "FEwl7fHNW0i7"
   },
   "source": [
    "### Conclusion\n",
    "- Best image : 128x128\n",
    "  1. 128: .90:.94\n",
    "  2. 192: .90:.92\n",
    "  3. 164: .90:.91\n",
    "  4. 64: .89:.90\n",
    "  5. 96: .89:.89\n",
    "  6. 224: .88:.90\n",
    "- Best K val : 500 \n",
    "  1. 500 : .92:.95\n",
    "  2. 240 : .90:.95\n",
    "  3. 700 : .92:.94\n",
    "  4. 1000 : .92:.94\n",
    "  5. 350 : .91:.94\n",
    "  6. 180 : .88:.93\n",
    "- Best C val : 6\n",
    "- Best G val : 0.0015"
   ]
  },
  {
   "cell_type": "markdown",
   "id": "bee227a3",
   "metadata": {
    "id": "bee227a3"
   },
   "source": [
    "# Classification Without SIFT\n",
    "\n",
    "- input: `X, y`\n",
    "- output: -"
   ]
  },
  {
   "cell_type": "markdown",
   "id": "863fce53",
   "metadata": {
    "id": "863fce53"
   },
   "source": [
    "### Image Preprocessing\n",
    "\n",
    "Data should be resized for lower time consumtion training"
   ]
  },
  {
   "cell_type": "code",
   "execution_count": 43,
   "id": "568216c7",
   "metadata": {
    "id": "568216c7"
   },
   "outputs": [],
   "source": [
    "# new_X = X\n",
    "new_X = []\n",
    "\n",
    "for i in range(X.shape[0]) :\n",
    "    new_X.append(equalizing(resizing(X[i], 32)))\n",
    "    \n",
    "new_X = np.array(new_X, dtype=np.uint8)"
   ]
  },
  {
   "cell_type": "markdown",
   "id": "5424a478",
   "metadata": {},
   "source": [
    "### Visualize Result Data"
   ]
  },
  {
   "cell_type": "code",
   "execution_count": 44,
   "id": "63c06f01",
   "metadata": {
    "colab": {
     "base_uri": "https://localhost:8080/",
     "height": 244
    },
    "executionInfo": {
     "elapsed": 974,
     "status": "ok",
     "timestamp": 1648212100155,
     "user": {
      "displayName": "Rama Tri Agung",
      "photoUrl": "https://lh3.googleusercontent.com/a-/AOh14GhO5MpcihqCafTv8Tf9MUwRyHV6tO2uPdiXma2V=s64",
      "userId": "07374601175312417068"
     },
     "user_tz": -420
    },
    "id": "dad58e22",
    "outputId": "f1c45b6a-2a6e-4021-84be-7e734c564a4a"
   },
   "outputs": [
    {
     "data": {
      "image/png": "[encoded data removed]",
      "text/plain": [
       "<Figure size 1152x288 with 8 Axes>"
      ]
     },
     "metadata": {
      "needs_background": "light"
     },
     "output_type": "display_data"
    }
   ],
   "source": [
    "np.random.seed(42)\n",
    "\n",
    "fig = plt.figure(figsize=(16, 4))\n",
    "columns = 8\n",
    "rows = 1\n",
    "for i in range(1, columns*rows + 1):\n",
    "    img = np.array(new_X[np.random.randint(0, new_X.shape[0]), :])\n",
    "    fig.add_subplot(rows, columns, i)\n",
    "    plt.imshow(img, cmap='gray', vmin=0, vmax=255)\n",
    "    plt.axis('off')\n",
    "\n",
    "plt.show()"
   ]
  },
  {
   "cell_type": "markdown",
   "id": "1bb93b08",
   "metadata": {
    "id": "1bb93b08"
   },
   "source": [
    "### Preprocessing"
   ]
  },
  {
   "cell_type": "code",
   "execution_count": 45,
   "id": "90fd017d",
   "metadata": {
    "id": "90fd017d",
    "outputId": "7a63dc19-560c-46b9-c893-6072ff52b961"
   },
   "outputs": [
    {
     "name": "stdout",
     "output_type": "stream",
     "text": [
      "Feature X data dimension: (2940, 1024)\n"
     ]
    }
   ],
   "source": [
    "# reshape data\n",
    "X_feature = np.reshape(new_X, (new_X.shape[0], new_X[0].shape[0]*new_X[0].shape[1]))\n",
    "print(\"Feature X data dimension:\", X_feature.shape)"
   ]
  },
  {
   "cell_type": "code",
   "execution_count": 46,
   "id": "e04ace7a",
   "metadata": {
    "id": "e04ace7a",
    "outputId": "fc2ea163-802d-48b7-a13a-34543f0a25f1"
   },
   "outputs": [],
   "source": [
    "# normalization\n",
    "scaler = MinMaxScaler().fit(X_feature)\n",
    "X_scale = scaler.transform(X_feature)"
   ]
  },
  {
   "cell_type": "markdown",
   "id": "7c56371a",
   "metadata": {},
   "source": [
    "#### Save scaler"
   ]
  },
  {
   "cell_type": "code",
   "execution_count": 47,
   "id": "1ce08895",
   "metadata": {},
   "outputs": [],
   "source": [
    "# Just save normalization function for future used\n",
    "save_file_pickle(scaler, SCALER_WOS_FILE_PICKLE)"
   ]
  },
  {
   "cell_type": "code",
   "execution_count": 48,
   "id": "d696176a",
   "metadata": {
    "id": "d696176a"
   },
   "outputs": [
    {
     "name": "stdout",
     "output_type": "stream",
     "text": [
      "Size of training: 2499\n",
      "Size of testing: 441\n"
     ]
    }
   ],
   "source": [
    "# splitting data\n",
    "X_train, X_test, y_train, y_test = train_test_split(X_scale, y, test_size=0.15, random_state=42)\n",
    "\n",
    "print(\"Size of training:\", X_train.shape[0])\n",
    "print(\"Size of testing:\", X_test.shape[0])"
   ]
  },
  {
   "cell_type": "markdown",
   "id": "fe36a378",
   "metadata": {
    "id": "fe36a378"
   },
   "source": [
    "### SVM\n",
    "\n",
    "Using GridSearchCV for tuning parameter, with scenario:\n",
    "- 'C': \\[ 1, 3, 6, 10, 15 \\]\n",
    "- 'gamma': \\[ 'scale', 0.0008, 0.001, 0.0015, 0.0018 \\]\n",
    "    - 'scale' = 1 / nfeatures * x.var()"
   ]
  },
  {
   "cell_type": "markdown",
   "id": "d03908ae",
   "metadata": {},
   "source": [
    "#### Load model"
   ]
  },
  {
   "cell_type": "code",
   "execution_count": 49,
   "id": "8bee594f",
   "metadata": {},
   "outputs": [],
   "source": [
    "# Just load model without re-training if you want\n",
    "svm_wos = load_file_pickle(SVM_WOS_FILE_PICKLE)"
   ]
  },
  {
   "cell_type": "code",
   "execution_count": 50,
   "id": "e0b43a54",
   "metadata": {},
   "outputs": [
    {
     "name": "stdout",
     "output_type": "stream",
     "text": [
      "0.02359\n",
      "0.00047\n",
      "[0.02265, 0.02312, 0.02359, 0.02406, 0.02453]\n"
     ]
    }
   ],
   "source": [
    "# create parameter tuning\n",
    "_var = X_train.var()\n",
    "_scale = round(1 / (1024 * X_train.var()), 5)\n",
    "_dist = round(_scale * 2 / 100, 5)\n",
    "_scale_1 = round(_scale - (2 * _dist), 5)\n",
    "_scale_2 = round(_scale - _dist, 5)\n",
    "_scale_3 = round(_scale + _dist, 5)\n",
    "_scale_4 = round(_scale + (2 * _dist), 5)\n",
    "\n",
    "_gamma = [_scale_1, _scale_2, _scale, _scale_3, _scale_4]\n",
    "_c = [1, 3, 6, 10, 15]\n",
    "\n",
    "print(_scale)\n",
    "print(_dist)\n",
    "print(_gamma)"
   ]
  },
  {
   "cell_type": "code",
   "execution_count": 51,
   "id": "698b084d",
   "metadata": {
    "id": "698b084d"
   },
   "outputs": [],
   "source": [
    "svm_wos_params = {\n",
    "    'C': [1, 3, 6, 10, 15],\n",
    "    'gamma': _gamma,\n",
    "}\n",
    "svm_wos = GridSearchCV(estimator=SVC(kernel='rbf', probability=True), param_grid=svm_wos_params, cv=5, verbose=3)"
   ]
  },
  {
   "cell_type": "code",
   "execution_count": 52,
   "id": "729b9961",
   "metadata": {
    "id": "729b9961",
    "scrolled": true
   },
   "outputs": [
    {
     "name": "stdout",
     "output_type": "stream",
     "text": [
      "Fitting 5 folds for each of 25 candidates, totalling 125 fits\n",
      "[CV 1/5] END ................C=1, gamma=0.02265;, score=0.444 total time=  12.0s\n",
      "[CV 2/5] END ................C=1, gamma=0.02265;, score=0.456 total time=  12.4s\n",
      "[CV 3/5] END ................C=1, gamma=0.02265;, score=0.428 total time=  11.4s\n",
      "[CV 4/5] END ................C=1, gamma=0.02265;, score=0.448 total time=  13.2s\n",
      "[CV 5/5] END ................C=1, gamma=0.02265;, score=0.453 total time=  11.7s\n",
      "[CV 1/5] END ................C=1, gamma=0.02312;, score=0.446 total time=  13.0s\n",
      "[CV 2/5] END ................C=1, gamma=0.02312;, score=0.460 total time=  12.1s\n",
      "[CV 3/5] END ................C=1, gamma=0.02312;, score=0.430 total time=  12.5s\n",
      "[CV 4/5] END ................C=1, gamma=0.02312;, score=0.448 total time=  14.3s\n",
      "[CV 5/5] END ................C=1, gamma=0.02312;, score=0.455 total time=  14.2s\n",
      "[CV 1/5] END ................C=1, gamma=0.02359;, score=0.448 total time=  11.8s\n",
      "[CV 2/5] END ................C=1, gamma=0.02359;, score=0.456 total time=  12.0s\n",
      "[CV 3/5] END ................C=1, gamma=0.02359;, score=0.434 total time=  11.5s\n",
      "[CV 4/5] END ................C=1, gamma=0.02359;, score=0.446 total time=  11.5s\n",
      "[CV 5/5] END ................C=1, gamma=0.02359;, score=0.453 total time=  11.7s\n",
      "[CV 1/5] END ................C=1, gamma=0.02406;, score=0.448 total time=  11.9s\n",
      "[CV 2/5] END ................C=1, gamma=0.02406;, score=0.456 total time=  11.7s\n",
      "[CV 3/5] END ................C=1, gamma=0.02406;, score=0.436 total time=  11.7s\n",
      "[CV 4/5] END ................C=1, gamma=0.02406;, score=0.448 total time=  11.6s\n",
      "[CV 5/5] END ................C=1, gamma=0.02406;, score=0.451 total time=  12.0s\n",
      "[CV 1/5] END ................C=1, gamma=0.02453;, score=0.450 total time=  13.4s\n",
      "[CV 2/5] END ................C=1, gamma=0.02453;, score=0.460 total time=  14.8s\n",
      "[CV 3/5] END ................C=1, gamma=0.02453;, score=0.442 total time=  13.5s\n",
      "[CV 4/5] END ................C=1, gamma=0.02453;, score=0.446 total time=  15.8s\n",
      "[CV 5/5] END ................C=1, gamma=0.02453;, score=0.451 total time=  19.4s\n",
      "[CV 1/5] END ................C=3, gamma=0.02265;, score=0.528 total time=  20.4s\n",
      "[CV 2/5] END ................C=3, gamma=0.02265;, score=0.510 total time=  17.9s\n",
      "[CV 3/5] END ................C=3, gamma=0.02265;, score=0.494 total time=  19.5s\n",
      "[CV 4/5] END ................C=3, gamma=0.02265;, score=0.508 total time=  21.5s\n",
      "[CV 5/5] END ................C=3, gamma=0.02265;, score=0.517 total time=  20.5s\n",
      "[CV 1/5] END ................C=3, gamma=0.02312;, score=0.528 total time=  20.9s\n",
      "[CV 2/5] END ................C=3, gamma=0.02312;, score=0.512 total time=  21.5s\n",
      "[CV 3/5] END ................C=3, gamma=0.02312;, score=0.494 total time=  21.4s\n",
      "[CV 4/5] END ................C=3, gamma=0.02312;, score=0.508 total time=  19.7s\n",
      "[CV 5/5] END ................C=3, gamma=0.02312;, score=0.517 total time=  23.6s\n",
      "[CV 1/5] END ................C=3, gamma=0.02359;, score=0.524 total time=  21.8s\n",
      "[CV 2/5] END ................C=3, gamma=0.02359;, score=0.508 total time=  21.7s\n",
      "[CV 3/5] END ................C=3, gamma=0.02359;, score=0.492 total time=  20.3s\n",
      "[CV 4/5] END ................C=3, gamma=0.02359;, score=0.510 total time=  19.4s\n",
      "[CV 5/5] END ................C=3, gamma=0.02359;, score=0.517 total time=  23.3s\n",
      "[CV 1/5] END ................C=3, gamma=0.02406;, score=0.522 total time=  22.7s\n",
      "[CV 2/5] END ................C=3, gamma=0.02406;, score=0.502 total time=  21.7s\n",
      "[CV 3/5] END ................C=3, gamma=0.02406;, score=0.496 total time=  21.5s\n",
      "[CV 4/5] END ................C=3, gamma=0.02406;, score=0.512 total time=  24.3s\n",
      "[CV 5/5] END ................C=3, gamma=0.02406;, score=0.521 total time=  22.9s\n",
      "[CV 1/5] END ................C=3, gamma=0.02453;, score=0.522 total time=  20.9s\n",
      "[CV 2/5] END ................C=3, gamma=0.02453;, score=0.502 total time=  23.6s\n",
      "[CV 3/5] END ................C=3, gamma=0.02453;, score=0.494 total time=  20.8s\n",
      "[CV 4/5] END ................C=3, gamma=0.02453;, score=0.510 total time=  18.7s\n",
      "[CV 5/5] END ................C=3, gamma=0.02453;, score=0.517 total time=  13.6s\n",
      "[CV 1/5] END ................C=6, gamma=0.02265;, score=0.526 total time=  14.9s\n",
      "[CV 2/5] END ................C=6, gamma=0.02265;, score=0.498 total time=  15.7s\n",
      "[CV 3/5] END ................C=6, gamma=0.02265;, score=0.492 total time=  15.0s\n",
      "[CV 4/5] END ................C=6, gamma=0.02265;, score=0.512 total time=  13.9s\n",
      "[CV 5/5] END ................C=6, gamma=0.02265;, score=0.519 total time=  13.5s\n",
      "[CV 1/5] END ................C=6, gamma=0.02312;, score=0.524 total time=  17.7s\n",
      "[CV 2/5] END ................C=6, gamma=0.02312;, score=0.498 total time=  15.5s\n",
      "[CV 3/5] END ................C=6, gamma=0.02312;, score=0.490 total time=  15.7s\n",
      "[CV 4/5] END ................C=6, gamma=0.02312;, score=0.518 total time=  17.2s\n",
      "[CV 5/5] END ................C=6, gamma=0.02312;, score=0.517 total time=  19.6s\n",
      "[CV 1/5] END ................C=6, gamma=0.02359;, score=0.524 total time=  20.0s\n",
      "[CV 2/5] END ................C=6, gamma=0.02359;, score=0.492 total time=  20.3s\n",
      "[CV 3/5] END ................C=6, gamma=0.02359;, score=0.490 total time=  21.1s\n",
      "[CV 4/5] END ................C=6, gamma=0.02359;, score=0.514 total time=  19.5s\n",
      "[CV 5/5] END ................C=6, gamma=0.02359;, score=0.515 total time=  21.1s\n",
      "[CV 1/5] END ................C=6, gamma=0.02406;, score=0.524 total time=  20.7s\n",
      "[CV 2/5] END ................C=6, gamma=0.02406;, score=0.494 total time=  22.1s\n",
      "[CV 3/5] END ................C=6, gamma=0.02406;, score=0.486 total time=  22.3s\n",
      "[CV 4/5] END ................C=6, gamma=0.02406;, score=0.516 total time=  20.1s\n",
      "[CV 5/5] END ................C=6, gamma=0.02406;, score=0.517 total time=  21.5s\n",
      "[CV 1/5] END ................C=6, gamma=0.02453;, score=0.526 total time=  22.4s\n",
      "[CV 2/5] END ................C=6, gamma=0.02453;, score=0.496 total time=  20.8s\n",
      "[CV 3/5] END ................C=6, gamma=0.02453;, score=0.486 total time=  22.1s\n",
      "[CV 4/5] END ................C=6, gamma=0.02453;, score=0.516 total time=  22.1s\n",
      "[CV 5/5] END ................C=6, gamma=0.02453;, score=0.511 total time=  20.1s\n",
      "[CV 1/5] END ...............C=10, gamma=0.02265;, score=0.528 total time=  20.8s\n",
      "[CV 2/5] END ...............C=10, gamma=0.02265;, score=0.500 total time=  23.4s\n",
      "[CV 3/5] END ...............C=10, gamma=0.02265;, score=0.490 total time=  22.5s\n",
      "[CV 4/5] END ...............C=10, gamma=0.02265;, score=0.510 total time=  20.4s\n",
      "[CV 5/5] END ...............C=10, gamma=0.02265;, score=0.519 total time=  19.8s\n",
      "[CV 1/5] END ...............C=10, gamma=0.02312;, score=0.524 total time=  20.4s\n",
      "[CV 2/5] END ...............C=10, gamma=0.02312;, score=0.496 total time=  24.1s\n",
      "[CV 3/5] END ...............C=10, gamma=0.02312;, score=0.492 total time=  23.0s\n",
      "[CV 4/5] END ...............C=10, gamma=0.02312;, score=0.516 total time=  21.7s\n",
      "[CV 5/5] END ...............C=10, gamma=0.02312;, score=0.517 total time=  20.8s\n",
      "[CV 1/5] END ...............C=10, gamma=0.02359;, score=0.524 total time=  21.7s\n",
      "[CV 2/5] END ...............C=10, gamma=0.02359;, score=0.494 total time=  23.5s\n",
      "[CV 3/5] END ...............C=10, gamma=0.02359;, score=0.492 total time=  20.5s\n",
      "[CV 4/5] END ...............C=10, gamma=0.02359;, score=0.512 total time=  20.5s\n",
      "[CV 5/5] END ...............C=10, gamma=0.02359;, score=0.515 total time=  21.2s\n",
      "[CV 1/5] END ...............C=10, gamma=0.02406;, score=0.524 total time=  21.4s\n",
      "[CV 2/5] END ...............C=10, gamma=0.02406;, score=0.496 total time=  19.6s\n",
      "[CV 3/5] END ...............C=10, gamma=0.02406;, score=0.488 total time=  15.3s\n",
      "[CV 4/5] END ...............C=10, gamma=0.02406;, score=0.514 total time=  13.7s\n",
      "[CV 5/5] END ...............C=10, gamma=0.02406;, score=0.515 total time=  13.9s\n",
      "[CV 1/5] END ...............C=10, gamma=0.02453;, score=0.526 total time=  13.2s\n",
      "[CV 2/5] END ...............C=10, gamma=0.02453;, score=0.496 total time=  13.7s\n",
      "[CV 3/5] END ...............C=10, gamma=0.02453;, score=0.486 total time=  18.8s\n",
      "[CV 4/5] END ...............C=10, gamma=0.02453;, score=0.514 total time=  17.4s\n",
      "[CV 5/5] END ...............C=10, gamma=0.02453;, score=0.511 total time=  16.8s\n",
      "[CV 1/5] END ...............C=15, gamma=0.02265;, score=0.528 total time=  15.8s\n",
      "[CV 2/5] END ...............C=15, gamma=0.02265;, score=0.500 total time=  16.5s\n",
      "[CV 3/5] END ...............C=15, gamma=0.02265;, score=0.490 total time=  17.8s\n",
      "[CV 4/5] END ...............C=15, gamma=0.02265;, score=0.510 total time=  18.3s\n",
      "[CV 5/5] END ...............C=15, gamma=0.02265;, score=0.519 total time=  18.8s\n",
      "[CV 1/5] END ...............C=15, gamma=0.02312;, score=0.524 total time=  17.7s\n",
      "[CV 2/5] END ...............C=15, gamma=0.02312;, score=0.496 total time=  16.4s\n",
      "[CV 3/5] END ...............C=15, gamma=0.02312;, score=0.492 total time=  17.8s\n",
      "[CV 4/5] END ...............C=15, gamma=0.02312;, score=0.516 total time=  18.3s\n",
      "[CV 5/5] END ...............C=15, gamma=0.02312;, score=0.517 total time=  15.8s\n",
      "[CV 1/5] END ...............C=15, gamma=0.02359;, score=0.524 total time=  16.0s\n",
      "[CV 2/5] END ...............C=15, gamma=0.02359;, score=0.494 total time=  15.8s\n",
      "[CV 3/5] END ...............C=15, gamma=0.02359;, score=0.492 total time=  15.9s\n",
      "[CV 4/5] END ...............C=15, gamma=0.02359;, score=0.512 total time=  16.8s\n",
      "[CV 5/5] END ...............C=15, gamma=0.02359;, score=0.515 total time=  17.6s\n",
      "[CV 1/5] END ...............C=15, gamma=0.02406;, score=0.524 total time=  16.6s\n",
      "[CV 2/5] END ...............C=15, gamma=0.02406;, score=0.496 total time=  15.8s\n",
      "[CV 3/5] END ...............C=15, gamma=0.02406;, score=0.488 total time=  16.5s\n",
      "[CV 4/5] END ...............C=15, gamma=0.02406;, score=0.514 total time=  16.2s\n",
      "[CV 5/5] END ...............C=15, gamma=0.02406;, score=0.515 total time=  16.3s\n",
      "[CV 1/5] END ...............C=15, gamma=0.02453;, score=0.526 total time=  17.6s\n",
      "[CV 2/5] END ...............C=15, gamma=0.02453;, score=0.496 total time=  16.6s\n",
      "[CV 3/5] END ...............C=15, gamma=0.02453;, score=0.486 total time=  18.6s\n",
      "[CV 4/5] END ...............C=15, gamma=0.02453;, score=0.514 total time=  18.6s\n",
      "[CV 5/5] END ...............C=15, gamma=0.02453;, score=0.511 total time=  17.8s\n"
     ]
    },
    {
     "data": {
      "text/plain": [
       "GridSearchCV(cv=5, estimator=SVC(probability=True),\n",
       "             param_grid={'C': [1, 3, 6, 10, 15],\n",
       "                         'gamma': [0.02265, 0.02312, 0.02359, 0.02406,\n",
       "                                   0.02453]},\n",
       "             verbose=3)"
      ]
     },
     "execution_count": 52,
     "metadata": {},
     "output_type": "execute_result"
    }
   ],
   "source": [
    "svm_wos.fit(X_train, y_train)"
   ]
  },
  {
   "cell_type": "code",
   "execution_count": 53,
   "id": "79542ab9",
   "metadata": {
    "id": "79542ab9"
   },
   "outputs": [
    {
     "name": "stdout",
     "output_type": "stream",
     "text": [
      "Best Model: SVC(C=3, gamma=0.02312, probability=True)\n",
      "Best CV Score: 0.5118068136272544\n"
     ]
    }
   ],
   "source": [
    "print(\"Best Model:\", svm_wos.best_estimator_)\n",
    "print(\"Best CV Score:\", svm_wos.best_score_)"
   ]
  },
  {
   "cell_type": "markdown",
   "id": "87c05632",
   "metadata": {},
   "source": [
    "#### All result score CV from tuning parameter SVM"
   ]
  },
  {
   "cell_type": "code",
   "execution_count": 54,
   "id": "8395f188",
   "metadata": {
    "id": "8395f188",
    "scrolled": true
   },
   "outputs": [
    {
     "data": {
      "text/html": [
       "<div>\n",
       "<style scoped>\n",
       "    .dataframe tbody tr th:only-of-type {\n",
       "        vertical-align: middle;\n",
       "    }\n",
       "\n",
       "    .dataframe tbody tr th {\n",
       "        vertical-align: top;\n",
       "    }\n",
       "\n",
       "    .dataframe thead th {\n",
       "        text-align: right;\n",
       "    }\n",
       "</style>\n",
       "<table border=\"1\" class=\"dataframe\">\n",
       "  <thead>\n",
       "    <tr style=\"text-align: right;\">\n",
       "      <th></th>\n",
       "      <th>params</th>\n",
       "      <th>rank_test_score</th>\n",
       "      <th>mean_test_score</th>\n",
       "      <th>std_test_score</th>\n",
       "    </tr>\n",
       "    <tr>\n",
       "      <th>kernel</th>\n",
       "      <th></th>\n",
       "      <th></th>\n",
       "      <th></th>\n",
       "      <th></th>\n",
       "    </tr>\n",
       "  </thead>\n",
       "  <tbody>\n",
       "    <tr>\n",
       "      <th>3_0.02312</th>\n",
       "      <td>{'C': 3, 'gamma': 0.02312}</td>\n",
       "      <td>1</td>\n",
       "      <td>0.511807</td>\n",
       "      <td>0.011146</td>\n",
       "    </tr>\n",
       "    <tr>\n",
       "      <th>3_0.02265</th>\n",
       "      <td>{'C': 3, 'gamma': 0.02265}</td>\n",
       "      <td>2</td>\n",
       "      <td>0.511407</td>\n",
       "      <td>0.011168</td>\n",
       "    </tr>\n",
       "    <tr>\n",
       "      <th>3_0.02406</th>\n",
       "      <td>{'C': 3, 'gamma': 0.02406}</td>\n",
       "      <td>3</td>\n",
       "      <td>0.510608</td>\n",
       "      <td>0.010277</td>\n",
       "    </tr>\n",
       "    <tr>\n",
       "      <th>3_0.02359</th>\n",
       "      <td>{'C': 3, 'gamma': 0.02359}</td>\n",
       "      <td>4</td>\n",
       "      <td>0.510207</td>\n",
       "      <td>0.010708</td>\n",
       "    </tr>\n",
       "    <tr>\n",
       "      <th>15_0.02265</th>\n",
       "      <td>{'C': 15, 'gamma': 0.02265}</td>\n",
       "      <td>5</td>\n",
       "      <td>0.509408</td>\n",
       "      <td>0.013446</td>\n",
       "    </tr>\n",
       "    <tr>\n",
       "      <th>10_0.02265</th>\n",
       "      <td>{'C': 10, 'gamma': 0.02265}</td>\n",
       "      <td>5</td>\n",
       "      <td>0.509408</td>\n",
       "      <td>0.013446</td>\n",
       "    </tr>\n",
       "    <tr>\n",
       "      <th>6_0.02265</th>\n",
       "      <td>{'C': 6, 'gamma': 0.02265}</td>\n",
       "      <td>5</td>\n",
       "      <td>0.509408</td>\n",
       "      <td>0.012712</td>\n",
       "    </tr>\n",
       "    <tr>\n",
       "      <th>6_0.02312</th>\n",
       "      <td>{'C': 6, 'gamma': 0.02312}</td>\n",
       "      <td>8</td>\n",
       "      <td>0.509407</td>\n",
       "      <td>0.013052</td>\n",
       "    </tr>\n",
       "    <tr>\n",
       "      <th>3_0.02453</th>\n",
       "      <td>{'C': 3, 'gamma': 0.02453}</td>\n",
       "      <td>9</td>\n",
       "      <td>0.509007</td>\n",
       "      <td>0.010085</td>\n",
       "    </tr>\n",
       "    <tr>\n",
       "      <th>10_0.02312</th>\n",
       "      <td>{'C': 10, 'gamma': 0.02312}</td>\n",
       "      <td>9</td>\n",
       "      <td>0.509007</td>\n",
       "      <td>0.012622</td>\n",
       "    </tr>\n",
       "    <tr>\n",
       "      <th>15_0.02312</th>\n",
       "      <td>{'C': 15, 'gamma': 0.02312}</td>\n",
       "      <td>9</td>\n",
       "      <td>0.509007</td>\n",
       "      <td>0.012622</td>\n",
       "    </tr>\n",
       "    <tr>\n",
       "      <th>6_0.02406</th>\n",
       "      <td>{'C': 6, 'gamma': 0.02406}</td>\n",
       "      <td>12</td>\n",
       "      <td>0.507407</td>\n",
       "      <td>0.014696</td>\n",
       "    </tr>\n",
       "    <tr>\n",
       "      <th>10_0.02406</th>\n",
       "      <td>{'C': 10, 'gamma': 0.02406}</td>\n",
       "      <td>13</td>\n",
       "      <td>0.507406</td>\n",
       "      <td>0.013294</td>\n",
       "    </tr>\n",
       "    <tr>\n",
       "      <th>10_0.02359</th>\n",
       "      <td>{'C': 10, 'gamma': 0.02359}</td>\n",
       "      <td>13</td>\n",
       "      <td>0.507406</td>\n",
       "      <td>0.012423</td>\n",
       "    </tr>\n",
       "    <tr>\n",
       "      <th>15_0.02359</th>\n",
       "      <td>{'C': 15, 'gamma': 0.02359}</td>\n",
       "      <td>13</td>\n",
       "      <td>0.507406</td>\n",
       "      <td>0.012423</td>\n",
       "    </tr>\n",
       "    <tr>\n",
       "      <th>15_0.02406</th>\n",
       "      <td>{'C': 15, 'gamma': 0.02406}</td>\n",
       "      <td>13</td>\n",
       "      <td>0.507406</td>\n",
       "      <td>0.013294</td>\n",
       "    </tr>\n",
       "    <tr>\n",
       "      <th>6_0.02359</th>\n",
       "      <td>{'C': 6, 'gamma': 0.02359}</td>\n",
       "      <td>17</td>\n",
       "      <td>0.507006</td>\n",
       "      <td>0.013539</td>\n",
       "    </tr>\n",
       "    <tr>\n",
       "      <th>6_0.02453</th>\n",
       "      <td>{'C': 6, 'gamma': 0.02453}</td>\n",
       "      <td>18</td>\n",
       "      <td>0.507004</td>\n",
       "      <td>0.014284</td>\n",
       "    </tr>\n",
       "    <tr>\n",
       "      <th>10_0.02453</th>\n",
       "      <td>{'C': 10, 'gamma': 0.02453}</td>\n",
       "      <td>19</td>\n",
       "      <td>0.506604</td>\n",
       "      <td>0.014053</td>\n",
       "    </tr>\n",
       "    <tr>\n",
       "      <th>15_0.02453</th>\n",
       "      <td>{'C': 15, 'gamma': 0.02453}</td>\n",
       "      <td>19</td>\n",
       "      <td>0.506604</td>\n",
       "      <td>0.014053</td>\n",
       "    </tr>\n",
       "    <tr>\n",
       "      <th>1_0.02453</th>\n",
       "      <td>{'C': 1, 'gamma': 0.02453}</td>\n",
       "      <td>21</td>\n",
       "      <td>0.449780</td>\n",
       "      <td>0.006010</td>\n",
       "    </tr>\n",
       "    <tr>\n",
       "      <th>1_0.02312</th>\n",
       "      <td>{'C': 1, 'gamma': 0.02312}</td>\n",
       "      <td>22</td>\n",
       "      <td>0.447782</td>\n",
       "      <td>0.010193</td>\n",
       "    </tr>\n",
       "    <tr>\n",
       "      <th>1_0.02406</th>\n",
       "      <td>{'C': 1, 'gamma': 0.02406}</td>\n",
       "      <td>23</td>\n",
       "      <td>0.447780</td>\n",
       "      <td>0.006575</td>\n",
       "    </tr>\n",
       "    <tr>\n",
       "      <th>1_0.02359</th>\n",
       "      <td>{'C': 1, 'gamma': 0.02359}</td>\n",
       "      <td>24</td>\n",
       "      <td>0.447381</td>\n",
       "      <td>0.007565</td>\n",
       "    </tr>\n",
       "    <tr>\n",
       "      <th>1_0.02265</th>\n",
       "      <td>{'C': 1, 'gamma': 0.02265}</td>\n",
       "      <td>25</td>\n",
       "      <td>0.445781</td>\n",
       "      <td>0.009792</td>\n",
       "    </tr>\n",
       "  </tbody>\n",
       "</table>\n",
       "</div>"
      ],
      "text/plain": [
       "                                 params  rank_test_score  mean_test_score  \\\n",
       "kernel                                                                      \n",
       "3_0.02312    {'C': 3, 'gamma': 0.02312}                1         0.511807   \n",
       "3_0.02265    {'C': 3, 'gamma': 0.02265}                2         0.511407   \n",
       "3_0.02406    {'C': 3, 'gamma': 0.02406}                3         0.510608   \n",
       "3_0.02359    {'C': 3, 'gamma': 0.02359}                4         0.510207   \n",
       "15_0.02265  {'C': 15, 'gamma': 0.02265}                5         0.509408   \n",
       "10_0.02265  {'C': 10, 'gamma': 0.02265}                5         0.509408   \n",
       "6_0.02265    {'C': 6, 'gamma': 0.02265}                5         0.509408   \n",
       "6_0.02312    {'C': 6, 'gamma': 0.02312}                8         0.509407   \n",
       "3_0.02453    {'C': 3, 'gamma': 0.02453}                9         0.509007   \n",
       "10_0.02312  {'C': 10, 'gamma': 0.02312}                9         0.509007   \n",
       "15_0.02312  {'C': 15, 'gamma': 0.02312}                9         0.509007   \n",
       "6_0.02406    {'C': 6, 'gamma': 0.02406}               12         0.507407   \n",
       "10_0.02406  {'C': 10, 'gamma': 0.02406}               13         0.507406   \n",
       "10_0.02359  {'C': 10, 'gamma': 0.02359}               13         0.507406   \n",
       "15_0.02359  {'C': 15, 'gamma': 0.02359}               13         0.507406   \n",
       "15_0.02406  {'C': 15, 'gamma': 0.02406}               13         0.507406   \n",
       "6_0.02359    {'C': 6, 'gamma': 0.02359}               17         0.507006   \n",
       "6_0.02453    {'C': 6, 'gamma': 0.02453}               18         0.507004   \n",
       "10_0.02453  {'C': 10, 'gamma': 0.02453}               19         0.506604   \n",
       "15_0.02453  {'C': 15, 'gamma': 0.02453}               19         0.506604   \n",
       "1_0.02453    {'C': 1, 'gamma': 0.02453}               21         0.449780   \n",
       "1_0.02312    {'C': 1, 'gamma': 0.02312}               22         0.447782   \n",
       "1_0.02406    {'C': 1, 'gamma': 0.02406}               23         0.447780   \n",
       "1_0.02359    {'C': 1, 'gamma': 0.02359}               24         0.447381   \n",
       "1_0.02265    {'C': 1, 'gamma': 0.02265}               25         0.445781   \n",
       "\n",
       "            std_test_score  \n",
       "kernel                      \n",
       "3_0.02312         0.011146  \n",
       "3_0.02265         0.011168  \n",
       "3_0.02406         0.010277  \n",
       "3_0.02359         0.010708  \n",
       "15_0.02265        0.013446  \n",
       "10_0.02265        0.013446  \n",
       "6_0.02265         0.012712  \n",
       "6_0.02312         0.013052  \n",
       "3_0.02453         0.010085  \n",
       "10_0.02312        0.012622  \n",
       "15_0.02312        0.012622  \n",
       "6_0.02406         0.014696  \n",
       "10_0.02406        0.013294  \n",
       "10_0.02359        0.012423  \n",
       "15_0.02359        0.012423  \n",
       "15_0.02406        0.013294  \n",
       "6_0.02359         0.013539  \n",
       "6_0.02453         0.014284  \n",
       "10_0.02453        0.014053  \n",
       "15_0.02453        0.014053  \n",
       "1_0.02453         0.006010  \n",
       "1_0.02312         0.010193  \n",
       "1_0.02406         0.006575  \n",
       "1_0.02359         0.007565  \n",
       "1_0.02265         0.009792  "
      ]
     },
     "execution_count": 54,
     "metadata": {},
     "output_type": "execute_result"
    }
   ],
   "source": [
    "cv_results_df = pd.DataFrame(svm_wos.cv_results_)\n",
    "cv_results_df = cv_results_df.sort_values(by=['rank_test_score'])\n",
    "cv_results_df = (\n",
    "    cv_results_df\n",
    "    .set_index(cv_results_df[\"params\"].apply(\n",
    "        lambda x: \"_\".join(str(val) for val in x.values()))\n",
    "    )\n",
    "    .rename_axis('kernel')\n",
    ")\n",
    "cv_results_df[\n",
    "    ['params', 'rank_test_score', 'mean_test_score', 'std_test_score']\n",
    "]"
   ]
  },
  {
   "cell_type": "markdown",
   "id": "4b85824c",
   "metadata": {},
   "source": [
    "#### Save model"
   ]
  },
  {
   "cell_type": "code",
   "execution_count": 55,
   "id": "d6ceb411",
   "metadata": {},
   "outputs": [],
   "source": [
    "# Just save model for future used\n",
    "save_file_pickle(svm_wos, SVM_WOS_FILE_PICKLE)"
   ]
  },
  {
   "cell_type": "markdown",
   "id": "355a06c4",
   "metadata": {},
   "source": [
    "### Predict Data Testing\n",
    "\n",
    "Using SVC(C=10, gamma=0.0015)"
   ]
  },
  {
   "cell_type": "code",
   "execution_count": 56,
   "id": "036f5044",
   "metadata": {
    "id": "036f5044"
   },
   "outputs": [],
   "source": [
    "y_pred = svm_wos.predict(X_test)"
   ]
  },
  {
   "cell_type": "code",
   "execution_count": 57,
   "id": "054cc98c",
   "metadata": {},
   "outputs": [
    {
     "data": {
      "text/plain": [
       "array([[0.03178712, 0.24242271, 0.02646864, 0.30551946, 0.0008932 ,\n",
       "        0.00683675, 0.00753379, 0.00324017, 0.00762022, 0.00623546,\n",
       "        0.00316281, 0.03569908, 0.00588309, 0.02015753, 0.00067511,\n",
       "        0.04414954, 0.01196238, 0.14282186, 0.09368172, 0.00324936]])"
      ]
     },
     "execution_count": 57,
     "metadata": {},
     "output_type": "execute_result"
    }
   ],
   "source": [
    "test = svm_wos.predict_proba(np.reshape(X_test[0], (1, -1)))\n",
    "test"
   ]
  },
  {
   "cell_type": "markdown",
   "id": "850bd0cd",
   "metadata": {},
   "source": [
    "#### Heatmap result predict"
   ]
  },
  {
   "cell_type": "code",
   "execution_count": 58,
   "id": "7a993651",
   "metadata": {},
   "outputs": [
    {
     "data": {
      "image/png": "[encoded data removed]",
      "text/plain": [
       "<Figure size 1224x792 with 1 Axes>"
      ]
     },
     "metadata": {
      "needs_background": "light"
     },
     "output_type": "display_data"
    }
   ],
   "source": [
    "conf_wos = pd.DataFrame(confusion_matrix(y_test, y_pred), columns=hanacaraka, index=hanacaraka)\n",
    "\n",
    "plt.figure(figsize=(17,11))\n",
    "\n",
    "res = sns.heatmap(conf_wos, annot=True, fmt=\"g\", cmap=\"Blues\", cbar=False)\n",
    "res.set_yticklabels(res.get_ymajorticklabels(), fontsize = 14)\n",
    "res.set_xticklabels(res.get_xmajorticklabels(), fontsize = 14)\n",
    "\n",
    "plt.xlabel(\"Predicted\")\n",
    "plt.ylabel(\"Actual\")\n",
    "plt.title(\"Confusion Matrix Plot\")\n",
    "plt.show()"
   ]
  },
  {
   "cell_type": "code",
   "execution_count": 59,
   "id": "56899d27",
   "metadata": {
    "id": "56899d27",
    "outputId": "6e192d60-aea8-41d1-f2fb-0d3f7724b060"
   },
   "outputs": [
    {
     "name": "stdout",
     "output_type": "stream",
     "text": [
      "Classification report result:\n",
      "              precision    recall  f1-score   support\n",
      "\n",
      "          ba       0.54      0.67      0.60        21\n",
      "          ca       0.42      0.54      0.47        26\n",
      "          da       0.44      0.48      0.46        23\n",
      "         dha       0.67      0.50      0.57        28\n",
      "          ga       0.62      0.75      0.68        20\n",
      "          ha       0.44      0.63      0.52        19\n",
      "          ja       0.41      0.54      0.47        13\n",
      "          ka       0.58      0.50      0.54        28\n",
      "          la       0.38      0.32      0.35        25\n",
      "          ma       0.61      0.64      0.62        22\n",
      "          na       0.35      0.40      0.37        20\n",
      "         nga       0.63      0.81      0.71        21\n",
      "         nya       0.78      0.86      0.82        21\n",
      "          pa       0.32      0.39      0.35        18\n",
      "          ra       0.90      0.75      0.82        24\n",
      "          sa       0.75      0.36      0.49        25\n",
      "          ta       0.50      0.36      0.42        25\n",
      "         tha       0.61      0.64      0.62        22\n",
      "          wa       0.38      0.29      0.32        21\n",
      "          ya       0.75      0.63      0.69        19\n",
      "\n",
      "    accuracy                           0.55       441\n",
      "   macro avg       0.55      0.55      0.54       441\n",
      "weighted avg       0.56      0.55      0.54       441\n",
      "\n"
     ]
    }
   ],
   "source": [
    "class_rep_wos = classification_report(y_test, y_pred)\n",
    "\n",
    "print(\"Classification report result:\")\n",
    "print(class_rep_wos)"
   ]
  },
  {
   "cell_type": "markdown",
   "id": "73fb7524",
   "metadata": {},
   "source": [
    "### Result Accuracy Score for SVM without SIFT"
   ]
  },
  {
   "cell_type": "code",
   "execution_count": 60,
   "id": "468eb23b",
   "metadata": {},
   "outputs": [
    {
     "name": "stdout",
     "output_type": "stream",
     "text": [
      "Accuracy score: 0.546485260770975\n"
     ]
    }
   ],
   "source": [
    "acc_wos = accuracy_score(y_test, y_pred)\n",
    "print(\"Accuracy score:\", acc_wos)"
   ]
  },
  {
   "cell_type": "markdown",
   "id": "bb8002b5",
   "metadata": {},
   "source": [
    "# Note for Result SVM Without WIFT"
   ]
  },
  {
   "cell_type": "markdown",
   "id": "e4cdaef0",
   "metadata": {
    "id": "e4cdaef0"
   },
   "source": [
    "### Result:\n",
    "\n",
    "- Img = (25,25), SVM = 0.57\n",
    "- Img = (28,28), SVM = 0.51\n",
    "- Img = (32,32), SVM = 0.54\n",
    "- Img = (64,64), SVM = 0.45"
   ]
  },
  {
   "cell_type": "markdown",
   "id": "d7a81950",
   "metadata": {
    "id": "fb4ee024"
   },
   "source": [
    "# SVM With SIFT vs SVM Without SIFT Comparison"
   ]
  },
  {
   "cell_type": "code",
   "execution_count": 182,
   "id": "679ade71",
   "metadata": {},
   "outputs": [
    {
     "data": {
      "text/html": [
       "<div>\n",
       "<style scoped>\n",
       "    .dataframe tbody tr th:only-of-type {\n",
       "        vertical-align: middle;\n",
       "    }\n",
       "\n",
       "    .dataframe tbody tr th {\n",
       "        vertical-align: top;\n",
       "    }\n",
       "\n",
       "    .dataframe thead th {\n",
       "        text-align: right;\n",
       "    }\n",
       "</style>\n",
       "<table border=\"1\" class=\"dataframe\">\n",
       "  <thead>\n",
       "    <tr style=\"text-align: right;\">\n",
       "      <th></th>\n",
       "      <th>Model_SVM</th>\n",
       "      <th>Accuracy</th>\n",
       "    </tr>\n",
       "  </thead>\n",
       "  <tbody>\n",
       "    <tr>\n",
       "      <th>0</th>\n",
       "      <td>Without SIFT</td>\n",
       "      <td>0.546485</td>\n",
       "    </tr>\n",
       "    <tr>\n",
       "      <th>1</th>\n",
       "      <td>With SIFT</td>\n",
       "      <td>0.947846</td>\n",
       "    </tr>\n",
       "  </tbody>\n",
       "</table>\n",
       "</div>"
      ],
      "text/plain": [
       "      Model_SVM  Accuracy\n",
       "0  Without SIFT  0.546485\n",
       "1     With SIFT  0.947846"
      ]
     },
     "execution_count": 182,
     "metadata": {},
     "output_type": "execute_result"
    }
   ],
   "source": [
    "compare_df = pd.DataFrame({\"Model_SVM\": [\"Without SIFT\", \"With SIFT\"],\n",
    "                          \"Accuracy\": [acc_wos, acc_ws]})\n",
    "\n",
    "compare_df"
   ]
  },
  {
   "cell_type": "code",
   "execution_count": 183,
   "id": "eb357b2f",
   "metadata": {},
   "outputs": [
    {
     "data": {
      "image/png": "[encoded data removed]",
      "text/plain": [
       "<Figure size 432x360 with 1 Axes>"
      ]
     },
     "metadata": {
      "needs_background": "light"
     },
     "output_type": "display_data"
    }
   ],
   "source": [
    "fig, ax = plt.subplots(figsize=(6, 5))\n",
    "\n",
    "sns.barplot(x = 'Model_SVM',\n",
    "            y = 'Accuracy',\n",
    "            data = compare_df,\n",
    "            ax=ax,\n",
    "            color='yellow')\n",
    "\n",
    "ax.bar_label(ax.containers[-1], fmt='acc:\\n%.2f', label_type='center')\n",
    "ax.set(ylabel='Accuracy', xlabel='Model SVM', title=\"Comparation Accuracy SVM With SIFT vs Without SIFT\")\n",
    "\n",
    "plt.show()"
   ]
  },
  {
   "cell_type": "markdown",
   "id": "0a46bb40",
   "metadata": {},
   "source": [
    "# Predict From Input File"
   ]
  },
  {
   "cell_type": "code",
   "execution_count": null,
   "id": "eeb0d616",
   "metadata": {},
   "outputs": [
    {
     "data": {
      "application/vnd.jupyter.widget-view+json": {
       "model_id": "cbefa2a79210464e83ffac97f6c310e3",
       "version_major": 2,
       "version_minor": 0
      },
      "text/plain": [
       "Button(description='File select', style=ButtonStyle())"
      ]
     },
     "metadata": {},
     "output_type": "display_data"
    }
   ],
   "source": [
    "from ipywidgets import Button\n",
    "from tkinter import Tk, filedialog\n",
    "from IPython.display import clear_output, display\n",
    "\n",
    "# Load file ==================================================================================\n",
    "def import_image(file) :\n",
    "    image = cv2.imread(file)\n",
    "    image = cv2.bitwise_not(image)\n",
    "    return image\n",
    "# ============================================================================================\n",
    "# Preprocessing Image ========================================================================\n",
    "def equalizing(img):\n",
    "    img = cv2.equalizeHist(img)\n",
    "    return img\n",
    "\n",
    "def grayscaling(image):\n",
    "    image = cv2.cvtColor(image, cv2.COLOR_RGB2GRAY)\n",
    "    return image\n",
    "\n",
    "def resizing(image, size):\n",
    "    image = cv2.resize(image, (size, size), interpolation = cv2.INTER_AREA)\n",
    "    return image\n",
    "\n",
    "def prep_image(image):\n",
    "    img = resizing(image, 128)\n",
    "    img = grayscaling(img)\n",
    "    img = equalizing(img)\n",
    "    return img\n",
    "# ============================================================================================\n",
    "# Feature Extraction =========================================================================\n",
    "def extract_sift_descriptor(image):\n",
    "    sift = cv2.SIFT_create()\n",
    "    _, descriptor = sift.detectAndCompute(image, None)\n",
    "    return descriptor\n",
    "\n",
    "def create_feature_bow(image_descriptor, bow, num_cluster):\n",
    "    features = np.array([0] * num_cluster, dtype=float)\n",
    "\n",
    "    if image_descriptor is not None:\n",
    "        distance = cdist(image_descriptor, bow)\n",
    "        argmin = np.argmin(distance, axis = 1)\n",
    "        \n",
    "        for j in argmin:\n",
    "            features[j] += 1.0\n",
    "\n",
    "    return np.array(features)\n",
    "\n",
    "def extract_feature(image):\n",
    "    img_descriptor = extract_sift_descriptor(image)\n",
    "    \n",
    "    num_cluster = 500\n",
    "    bow = load_file_pickle(BOW_FILE_PICKLE)\n",
    "    \n",
    "    img_feature = create_feature_bow(img_descriptor, bow, num_cluster)\n",
    "    return img_feature\n",
    "# ============================================================================================\n",
    "# Prediction Process =========================================================================\n",
    "def predict_image(feature):\n",
    "    scaler = load_file_pickle(SCALER_WS_FILE_PICKLE)\n",
    "    feature_scale = scaler.transform([feature])\n",
    "    \n",
    "    svm_model = load_file_pickle(SVM_WS_FILE_PICKLE)\n",
    "    result_predict = svm_model.predict(feature_scale)\n",
    "    return result_predict\n",
    "# ============================================================================================\n",
    "# Open widget laod file ======================================================================\n",
    "def select_files(b):\n",
    "    clear_output()\n",
    "    root = Tk()\n",
    "    root.withdraw() \n",
    "    root.call('wm', 'attributes', '.', '-topmost', True)\n",
    "    \n",
    "    b.files = filedialog.askopenfilename(multiple=True) \n",
    "    print(b.files[0])\n",
    "    processing_files(b.files[0])\n",
    "# ============================================================================================\n",
    "# Open widget laod file ======================================================================\n",
    "def processing_files(file):\n",
    "    img = import_image(file)\n",
    "    plt.imshow(img, cmap='gray', vmin=0, vmax=255)\n",
    "    img = prep_image(img)\n",
    "    \n",
    "    img_feature = extract_feature(img)\n",
    "    result_predict = predict_image(img_feature)\n",
    "    print(\"Result Class Prediction :\", result_predict)\n",
    "# ============================================================================================\n",
    "\n",
    "fileselect = Button(description=\"File select\")\n",
    "fileselect.on_click(select_files)\n",
    "\n",
    "display(fileselect)"
   ]
  },
  {
   "cell_type": "markdown",
   "id": "58895100",
   "metadata": {},
   "source": [
    "# Test"
   ]
  },
  {
   "cell_type": "markdown",
   "id": "89abe1df",
   "metadata": {},
   "source": [
    "# Load Data"
   ]
  },
  {
   "cell_type": "code",
   "execution_count": 253,
   "id": "16678c67",
   "metadata": {},
   "outputs": [],
   "source": [
    "# ukurang gambar 224x224\n",
    "def import_image(file) :\n",
    "    image = cv2.imread(file)\n",
    "    image = cv2.bitwise_not(image)\n",
    "    return image\n",
    "\n",
    "def import_data(path) :\n",
    "    file_path = os.listdir(path)\n",
    "    images = np.array([import_image(path + '/' + file) for file in file_path])\n",
    "    \n",
    "    return images"
   ]
  },
  {
   "cell_type": "code",
   "execution_count": 254,
   "id": "8af65bd9",
   "metadata": {},
   "outputs": [],
   "source": [
    "hanacaraka = ('ba','ca','da','dha','ga','ha','ja','ka','la','ma','na','nga','nya','pa','ra','sa','ta','tha','wa','ya')\n",
    "folder_path = \"../Dataset/augmented_test_src/\"\n",
    "\n",
    "for char in hanacaraka:\n",
    "    os.mkdir(os.path.join(folder_path, char))"
   ]
  },
  {
   "cell_type": "code",
   "execution_count": 255,
   "id": "d01aa667",
   "metadata": {},
   "outputs": [
    {
     "data": {
      "text/plain": [
       "array(['ba', 'ca', 'da', 'dha', 'ga', 'ha', 'ja', 'ka', 'la', 'ma', 'na',\n",
       "       'nga', 'nya', 'pa', 'ra', 'sa', 'ta', 'tha', 'wa', 'ya'],\n",
       "      dtype='<U32')"
      ]
     },
     "execution_count": 255,
     "metadata": {},
     "output_type": "execute_result"
    }
   ],
   "source": [
    "hanacaraka = ('ba','ca','da','dha','ga','ha','ja','ka','la','ma','na','nga','nya','pa','ra','sa','ta','tha','wa','ya')\n",
    "\n",
    "raw_X = np.empty((0, 224, 224, 3), np.uint8)\n",
    "raw_y = np.empty((0))\n",
    "\n",
    "folder_path = \"../Dataset/augmented_test_src/#plan_2\" # for local used\n",
    "# folder_path = \"drive/MyDrive/Skripsi/Repos/Dataset/augmented_test/\" # for drive used\n",
    "\n",
    "temp_X = import_data(folder_path)\n",
    "temp_y = list(hanacaraka)\n",
    "\n",
    "raw_X = np.append(raw_X, temp_X, axis=0)\n",
    "raw_y = np.append(raw_y, temp_y, axis=0)\n",
    "\n",
    "raw_y"
   ]
  },
  {
   "cell_type": "code",
   "execution_count": 256,
   "id": "9516f53e",
   "metadata": {},
   "outputs": [
    {
     "name": "stdout",
     "output_type": "stream",
     "text": [
      "Number of data: 20\n",
      "Image dimension: (224, 224, 3)\n"
     ]
    }
   ],
   "source": [
    "# Ukuran keseluruhan data\n",
    "print(\"Number of data:\", raw_X.shape[0])\n",
    "print(\"Image dimension:\", raw_X[0].shape)"
   ]
  },
  {
   "cell_type": "markdown",
   "id": "d2c8f676",
   "metadata": {},
   "source": [
    "# Visualize Raw Data"
   ]
  },
  {
   "cell_type": "code",
   "execution_count": 257,
   "id": "e1dfff2d",
   "metadata": {},
   "outputs": [
    {
     "data": {
      "image/png": "[encoded data removed]",
      "text/plain": [
       "<Figure size 1152x288 with 8 Axes>"
      ]
     },
     "metadata": {
      "needs_background": "light"
     },
     "output_type": "display_data"
    }
   ],
   "source": [
    "np.random.seed(42)\n",
    "\n",
    "fig = plt.figure(figsize=(16, 4))\n",
    "columns = 8\n",
    "rows = 1\n",
    "for i in range(1, columns*rows + 1):\n",
    "    img = np.array(raw_X[np.random.randint(0, raw_X.shape[0]), :])\n",
    "    fig.add_subplot(rows, columns, i)\n",
    "    plt.imshow(img)\n",
    "    plt.axis('off')\n",
    "\n",
    "plt.show()"
   ]
  },
  {
   "cell_type": "markdown",
   "id": "52943b52",
   "metadata": {},
   "source": [
    "# Augmented Method"
   ]
  },
  {
   "cell_type": "code",
   "execution_count": 258,
   "id": "847d0175",
   "metadata": {},
   "outputs": [],
   "source": [
    "# Augmented Method\n",
    "def rotate(img, degree):\n",
    "    (h, w) = img.shape[:2]\n",
    "    (cX, cY) = (w // 2, h // 2)\n",
    "    M = cv2.getRotationMatrix2D((cX, cY), degree, 1.0)\n",
    "    img_rotated = cv2.warpAffine(img, M, (w, h))\n",
    "    return img_rotated\n",
    "\n",
    "def zoom_out(img, zoom_scale):\n",
    "    img_zoom = np.zeros((img.shape[0], img.shape[1]), dtype=np.uint8)\n",
    "\n",
    "    h, w = img.shape[0]/zoom_scale, img.shape[1]/zoom_scale\n",
    "    h, w = int(h), int(w)\n",
    "    x, y = (img.shape[0]-w)//2, (img.shape[1]-h)//2\n",
    "    img_resize = cv2.resize(img, (h, w), interpolation = cv2.INTER_AREA)\n",
    "\n",
    "    img_zoom[x:w+x, y:h+y] = img_resize\n",
    "    return img_zoom\n",
    "\n",
    "def shear(img, x, y):\n",
    "    rows, cols = img.shape\n",
    "    M = np.float32([[1, x, 0],\n",
    "                    [y, 1, 0]])\n",
    "    sheared_img = cv2.warpAffine(img, M, (cols, rows))\n",
    "    return sheared_img\n",
    "\n",
    "def distortion(img, vertical = True, dist_scale = 1):\n",
    "    img_dist = np.zeros((img.shape[0], img.shape[1]), dtype=np.uint8)\n",
    "    h, w = img.shape\n",
    "\n",
    "    if vertical == 1:\n",
    "        h = int(img.shape[0]/dist_scale)\n",
    "    elif vertical == 0:\n",
    "        w = int(img.shape[1]/dist_scale)\n",
    "    \n",
    "    x, y = (img.shape[0]-w)//2, (img.shape[1]-h)//2\n",
    "    img_resize = cv2.resize(img, (h, w), interpolation = cv2.INTER_AREA)\n",
    "\n",
    "    img_dist[x:w+x, y:h+y] = img_resize\n",
    "    return img_dist"
   ]
  },
  {
   "cell_type": "markdown",
   "id": "d0ecdb85",
   "metadata": {},
   "source": [
    "# Image Preprocessing Method"
   ]
  },
  {
   "cell_type": "code",
   "execution_count": 259,
   "id": "724986c1",
   "metadata": {},
   "outputs": [],
   "source": [
    "# Preprocessing Image\n",
    "def equalizing(img):\n",
    "    if (img.ndim == 3):\n",
    "        b, g, r = cv2.split(img)\n",
    "        red = cv2.equalizeHist(r)\n",
    "        green = cv2.equalizeHist(g)\n",
    "        blue = cv2.equalizeHist(b)\n",
    "        img = cv2.merge((blue, green, red))\n",
    "    else:\n",
    "        img = cv2.equalizeHist(img)\n",
    "    return img\n",
    "\n",
    "def grayscaling(image):\n",
    "    image = cv2.cvtColor(image, cv2.COLOR_RGB2GRAY)\n",
    "    return image\n",
    "\n",
    "def resizing(image, size):\n",
    "    image = cv2.resize(image, (size, size), interpolation = cv2.INTER_AREA)\n",
    "    return image"
   ]
  },
  {
   "cell_type": "markdown",
   "id": "97f02495",
   "metadata": {},
   "source": [
    "# Generate augmentation and preprocessing data"
   ]
  },
  {
   "cell_type": "code",
   "execution_count": 260,
   "id": "533f906f",
   "metadata": {},
   "outputs": [],
   "source": [
    "size = 192\n",
    "def dataset_aug_generator_prep(ori_img, size):\n",
    "    ori_img = resizing(ori_img, size)\n",
    "    ori_img = grayscaling(ori_img)\n",
    "    \n",
    "    ori_img = zoom_out(ori_img, 1.15)\n",
    "    img_z = zoom_out(ori_img, 1.6)\n",
    "    img_r_90_cw = rotate(ori_img, -90)\n",
    "    img_r_90_ccw = rotate(ori_img, 90)\n",
    "    img_r_45_cw_z = rotate(zoom_out(ori_img, 1.3), -45)\n",
    "    img_r_45_ccw_z = rotate(zoom_out(ori_img, 1.3), 45)\n",
    "    img_s_top_right = shear(ori_img, -0.18, -0.18)\n",
    "    img_s_bot_left = shear(ori_img, 0.18, 0.18)\n",
    "    img_d_v = distortion(ori_img, True, 1.5)\n",
    "    img_d_h = distortion(ori_img, False, 1.5)\n",
    "    \n",
    "    result_aug = [ori_img, img_z, img_r_90_cw, img_r_90_ccw, img_r_45_cw_z, img_r_45_ccw_z, img_s_top_right, img_s_bot_left, img_d_v, img_d_h]\n",
    "    for idx, item_img in enumerate(result_aug):\n",
    "        result_aug[idx] = equalizing(result_aug[idx])\n",
    "    return result_aug"
   ]
  },
  {
   "cell_type": "markdown",
   "id": "2bd39b48",
   "metadata": {},
   "source": [
    "# test result image after generate augmentation and preprocessing"
   ]
  },
  {
   "cell_type": "code",
   "execution_count": 261,
   "id": "0c46fd89",
   "metadata": {},
   "outputs": [
    {
     "data": {
      "image/png": "[encoded data removed]",
      "text/plain": [
       "<Figure size 1440x576 with 10 Axes>"
      ]
     },
     "metadata": {
      "needs_background": "light"
     },
     "output_type": "display_data"
    }
   ],
   "source": [
    "test_img_aug = dataset_aug_generator_prep(raw_X[0], size)\n",
    "\n",
    "fig = plt.figure(figsize=(20, 8))\n",
    "columns = 5\n",
    "rows = 2\n",
    "for i in range(1, columns*rows + 1):\n",
    "    img = test_img_aug[i-1]\n",
    "    fig.add_subplot(rows, columns, i)\n",
    "    plt.imshow(img, cmap='gray', vmin=0, vmax=255)\n",
    "    plt.axis('off')\n",
    "\n",
    "plt.show()"
   ]
  },
  {
   "cell_type": "markdown",
   "id": "66b97d90",
   "metadata": {},
   "source": [
    "#  Generate Aug & Prep Image on All Raw Data"
   ]
  },
  {
   "cell_type": "code",
   "execution_count": 262,
   "id": "6903cbde",
   "metadata": {},
   "outputs": [
    {
     "name": "stdout",
     "output_type": "stream",
     "text": [
      "Result X data dimension: (200, 192, 192)\n",
      "Result y data dimension: (200,)\n"
     ]
    }
   ],
   "source": [
    "X = np.empty((0, size, size), np.uint8)\n",
    "y = np.empty((0))\n",
    "\n",
    "for idx, img in enumerate(raw_X):\n",
    "    img_aug = dataset_aug_generator_prep(img, size)\n",
    "    \n",
    "    for item_img in img_aug:\n",
    "        X = np.append(X, [item_img], axis=0)\n",
    "        y = np.append(y, [raw_y[idx]], axis=0)\n",
    "print(\"Result X data dimension:\", X.shape)\n",
    "print(\"Result y data dimension:\", y.shape)"
   ]
  },
  {
   "cell_type": "markdown",
   "id": "fda6657b",
   "metadata": {},
   "source": [
    "# Visualize Result Data"
   ]
  },
  {
   "cell_type": "code",
   "execution_count": 263,
   "id": "b22e307a",
   "metadata": {},
   "outputs": [
    {
     "data": {
      "image/png": "[encoded data removed]",
      "text/plain": [
       "<Figure size 1152x288 with 8 Axes>"
      ]
     },
     "metadata": {
      "needs_background": "light"
     },
     "output_type": "display_data"
    }
   ],
   "source": [
    "np.random.seed(42)\n",
    "\n",
    "fig = plt.figure(figsize=(16, 4))\n",
    "columns = 8\n",
    "rows = 1\n",
    "for i in range(1, columns*rows + 1):\n",
    "    img = np.array(X[np.random.randint(0, X.shape[0]), :])\n",
    "    fig.add_subplot(rows, columns, i)\n",
    "    plt.imshow(img, cmap='gray', vmin=0, vmax=255)\n",
    "    plt.axis('off')\n",
    "\n",
    "plt.show()"
   ]
  },
  {
   "cell_type": "markdown",
   "id": "e2f486d6",
   "metadata": {},
   "source": [
    "# Save New Data"
   ]
  },
  {
   "cell_type": "code",
   "execution_count": 264,
   "id": "3067277e",
   "metadata": {},
   "outputs": [],
   "source": [
    "hanacaraka = ('ba','ca','da','dha','ga','ha','ja','ka','la','ma','na','nga','nya','pa','ra','sa','ta','tha','wa','ya')\n",
    "folder_path = \"../Dataset/augmented_test/\"\n",
    "\n",
    "for i in range(len(y)):\n",
    "    save_path = os.path.join(folder_path, y[i])\n",
    "    save_file = os.path.join(save_path, \"{}_{}.png\".format(y[i], i))\n",
    "\n",
    "    cv2.imwrite(save_file, X[i])"
   ]
  },
  {
   "cell_type": "markdown",
   "id": "7ea97407",
   "metadata": {},
   "source": [
    "# Predict SVM"
   ]
  },
  {
   "cell_type": "code",
   "execution_count": 265,
   "id": "0920a512",
   "metadata": {},
   "outputs": [],
   "source": [
    "# ukurang gambar 224x224\n",
    "def import_image(file) :\n",
    "    image = cv2.imread(file)\n",
    "    image = cv2.cvtColor(image, cv2.COLOR_BGR2GRAY)\n",
    "    return image\n",
    "\n",
    "def label_image(character, length) :\n",
    "    array = np.full(length, character)\n",
    "    return array\n",
    "\n",
    "def import_data(character, path) :\n",
    "    file_path = os.listdir(path)\n",
    "    images = np.array([import_image(path + '/' + file) for file in file_path])\n",
    "    label = label_image(character, len(file_path))\n",
    "    \n",
    "    return images, label"
   ]
  },
  {
   "cell_type": "code",
   "execution_count": 266,
   "id": "da78e6d8",
   "metadata": {},
   "outputs": [
    {
     "name": "stdout",
     "output_type": "stream",
     "text": [
      "Size of ba : 10\n",
      "Size of ca : 10\n",
      "Size of da : 10\n",
      "Size of dha : 10\n",
      "Size of ga : 10\n",
      "Size of ha : 10\n",
      "Size of ja : 10\n",
      "Size of ka : 10\n",
      "Size of la : 10\n",
      "Size of ma : 10\n",
      "Size of na : 10\n",
      "Size of nga : 10\n",
      "Size of nya : 10\n",
      "Size of pa : 10\n",
      "Size of ra : 10\n",
      "Size of sa : 10\n",
      "Size of ta : 10\n",
      "Size of tha : 10\n",
      "Size of wa : 10\n",
      "Size of ya : 10\n"
     ]
    }
   ],
   "source": [
    "hanacaraka = ('ba','ca','da','dha','ga','ha','ja','ka','la','ma','na','nga','nya','pa','ra','sa','ta','tha','wa','ya')\n",
    "\n",
    "data_X = np.empty((0, 192, 192), np.uint8)\n",
    "data_y = np.empty((0))\n",
    "\n",
    "folder_path = \"../Dataset/augmented_test/\" # for local used\n",
    "# folder_path = \"drive/MyDrive/Skripsi/Repos/Dataset/augmented_test/\" # for drive used\n",
    "\n",
    "for character in hanacaraka:\n",
    "    dataset_path = folder_path + character\n",
    "\n",
    "    temp_X, temp_y = import_data(character, dataset_path)\n",
    "\n",
    "    print(\"Size of\", character, \":\", temp_X.shape[0])\n",
    "    \n",
    "    data_X = np.append(data_X, temp_X, axis=0)\n",
    "    data_y = np.append(data_y, temp_y, axis=0)\n",
    "\n"
   ]
  },
  {
   "cell_type": "code",
   "execution_count": 267,
   "id": "eff9bce3",
   "metadata": {},
   "outputs": [
    {
     "data": {
      "image/png": "[encoded data removed]",
      "text/plain": [
       "<Figure size 1152x288 with 8 Axes>"
      ]
     },
     "metadata": {
      "needs_background": "light"
     },
     "output_type": "display_data"
    }
   ],
   "source": [
    "np.random.seed(42)\n",
    "\n",
    "fig = plt.figure(figsize=(16, 4))\n",
    "columns = 8\n",
    "rows = 1\n",
    "for i in range(1, columns*rows + 1):\n",
    "    img = np.array(data_X[np.random.randint(0, data_X.shape[0]), :])\n",
    "    fig.add_subplot(rows, columns, i)\n",
    "    plt.imshow(img, cmap='gray')\n",
    "    plt.axis('off')\n",
    "\n",
    "plt.show()"
   ]
  },
  {
   "cell_type": "code",
   "execution_count": 268,
   "id": "517d9b23",
   "metadata": {},
   "outputs": [
    {
     "data": {
      "text/plain": [
       "(200, 192, 192)"
      ]
     },
     "execution_count": 268,
     "metadata": {},
     "output_type": "execute_result"
    }
   ],
   "source": [
    "data_X.shape"
   ]
  },
  {
   "cell_type": "markdown",
   "id": "e39e8148",
   "metadata": {},
   "source": [
    "# Extract Feature"
   ]
  },
  {
   "cell_type": "code",
   "execution_count": 269,
   "id": "79a2c3c3",
   "metadata": {},
   "outputs": [],
   "source": [
    "def extract_sift_features(list_image):\n",
    "    image_descriptors = []\n",
    "    sift = cv2.SIFT_create()\n",
    "    for image in list_image:\n",
    "        _, descriptor = sift.detectAndCompute(image, None)\n",
    "        image_descriptors.append(descriptor)\n",
    "\n",
    "    return image_descriptors\n",
    "\n",
    "def create_feature_bow(image_descriptors, bow, num_cluster):\n",
    "    X_features = []\n",
    "\n",
    "    for i in range(len(image_descriptors)):\n",
    "        features = np.array([0] * num_cluster, dtype=float)\n",
    "\n",
    "        if image_descriptors[i] is not None:\n",
    "            distance = cdist(image_descriptors[i], bow)\n",
    "            argmin = np.argmin(distance, axis = 1)\n",
    "\n",
    "            for j in argmin:\n",
    "                features[j] += 1.0\n",
    "        X_features.append(features)\n",
    "\n",
    "    return np.array(X_features)\n"
   ]
  },
  {
   "cell_type": "code",
   "execution_count": 270,
   "id": "ef7d30ae",
   "metadata": {},
   "outputs": [],
   "source": [
    "image_descriptors = extract_sift_features(data_X)\n",
    "num_cluster = 750\n",
    "bow = load_file_pickle(BOW_FILE_PICKLE)\n",
    "X_feature = create_feature_bow(image_descriptors, bow, num_cluster)"
   ]
  },
  {
   "cell_type": "markdown",
   "id": "18d7a70d",
   "metadata": {},
   "source": [
    "# Predict"
   ]
  },
  {
   "cell_type": "code",
   "execution_count": 271,
   "id": "e03257a7",
   "metadata": {},
   "outputs": [],
   "source": [
    "scaler = load_file_pickle(SCALER_WS_FILE_PICKLE)\n",
    "X_scale = scaler.transform(X_feature)\n",
    "\n",
    "svm_model = load_file_pickle(SVM_WS_FILE_PICKLE)\n",
    "y_pred = svm_model.predict(X_scale)"
   ]
  },
  {
   "cell_type": "code",
   "execution_count": 272,
   "id": "939a5f50",
   "metadata": {},
   "outputs": [
    {
     "data": {
      "image/png": "[encoded data removed]",
      "text/plain": [
       "<Figure size 1224x792 with 1 Axes>"
      ]
     },
     "metadata": {
      "needs_background": "light"
     },
     "output_type": "display_data"
    }
   ],
   "source": [
    "conf_ws = pd.DataFrame(confusion_matrix(data_y, y_pred), columns=hanacaraka, index=hanacaraka)\n",
    "\n",
    "plt.figure(figsize=(17,11))\n",
    "\n",
    "res = sns.heatmap(conf_ws, annot=True, fmt=\"g\", cmap=\"Blues\", cbar=False)\n",
    "res.set_yticklabels(res.get_ymajorticklabels(), fontsize = 14)\n",
    "res.set_xticklabels(res.get_xmajorticklabels(), fontsize = 14)\n",
    "\n",
    "plt.xlabel(\"Predicted\")\n",
    "plt.ylabel(\"Actual\")\n",
    "plt.title(\"Confusion Matrix Plot\")\n",
    "plt.show()"
   ]
  },
  {
   "cell_type": "code",
   "execution_count": 273,
   "id": "ff1accb6",
   "metadata": {},
   "outputs": [
    {
     "name": "stdout",
     "output_type": "stream",
     "text": [
      "Classification report result:\n",
      "              precision    recall  f1-score   support\n",
      "\n",
      "          ba       0.90      0.90      0.90        10\n",
      "          ca       1.00      0.90      0.95        10\n",
      "          da       0.91      1.00      0.95        10\n",
      "         dha       0.90      0.90      0.90        10\n",
      "          ga       0.91      1.00      0.95        10\n",
      "          ha       0.75      0.90      0.82        10\n",
      "          ja       1.00      0.90      0.95        10\n",
      "          ka       1.00      1.00      1.00        10\n",
      "          la       0.88      0.70      0.78        10\n",
      "          ma       0.91      1.00      0.95        10\n",
      "          na       1.00      0.90      0.95        10\n",
      "         nga       1.00      1.00      1.00        10\n",
      "         nya       0.90      0.90      0.90        10\n",
      "          pa       0.90      0.90      0.90        10\n",
      "          ra       1.00      1.00      1.00        10\n",
      "          sa       0.91      1.00      0.95        10\n",
      "          ta       1.00      1.00      1.00        10\n",
      "         tha       1.00      1.00      1.00        10\n",
      "          wa       0.90      0.90      0.90        10\n",
      "          ya       1.00      0.90      0.95        10\n",
      "\n",
      "    accuracy                           0.94       200\n",
      "   macro avg       0.94      0.93      0.93       200\n",
      "weighted avg       0.94      0.94      0.93       200\n",
      "\n"
     ]
    }
   ],
   "source": [
    "class_rep_ws = classification_report(data_y, y_pred)\n",
    "\n",
    "print(\"Classification report result:\")\n",
    "print(class_rep_ws)"
   ]
  },
  {
   "cell_type": "code",
   "execution_count": 274,
   "id": "2b56dbb0",
   "metadata": {},
   "outputs": [
    {
     "name": "stdout",
     "output_type": "stream",
     "text": [
      "Accuracy score: 0.935\n"
     ]
    }
   ],
   "source": [
    "### Result Accuracy Score for SVM with SIFT\n",
    "acc_ws = accuracy_score(data_y, y_pred)\n",
    "print(\"Accuracy score:\", acc_ws)"
   ]
  },
  {
   "cell_type": "markdown",
   "id": "ad5e8e55",
   "metadata": {},
   "source": [
    "# Result"
   ]
  },
  {
   "cell_type": "code",
   "execution_count": 275,
   "id": "8a2781b5",
   "metadata": {},
   "outputs": [
    {
     "data": {
      "text/plain": [
       "[array(['ba', 'ba', 'ba', 'ba', 'ba', 'ba', 'ba', 'ba', 'ba', 'ha'],\n",
       "       dtype='<U32'),\n",
       " array(['ca', 'ca', 'ca', 'ca', 'ca', 'ca', 'ca', 'ca', 'ca', 'sa'],\n",
       "       dtype='<U32'),\n",
       " array(['da', 'da', 'da', 'da', 'da', 'da', 'da', 'da', 'da', 'da'],\n",
       "       dtype='<U32'),\n",
       " array(['dha', 'dha', 'dha', 'dha', 'dha', 'dha', 'dha', 'dha', 'dha',\n",
       "        'ma'], dtype='<U32'),\n",
       " array(['ga', 'ga', 'ga', 'ga', 'ga', 'ga', 'ga', 'ga', 'ga', 'ga'],\n",
       "       dtype='<U32'),\n",
       " array(['ha', 'ha', 'ha', 'ha', 'ha', 'ha', 'ha', 'la', 'ha', 'ha'],\n",
       "       dtype='<U32'),\n",
       " array(['ja', 'ja', 'ja', 'ja', 'ja', 'ja', 'pa', 'ja', 'ja', 'ja'],\n",
       "       dtype='<U32'),\n",
       " array(['ka', 'ka', 'ka', 'ka', 'ka', 'ka', 'ka', 'ka', 'ka', 'ka'],\n",
       "       dtype='<U32'),\n",
       " array(['la', 'la', 'la', 'la', 'la', 'la', 'ha', 'la', 'ga', 'ha'],\n",
       "       dtype='<U32'),\n",
       " array(['ma', 'ma', 'ma', 'ma', 'ma', 'ma', 'ma', 'ma', 'ma', 'ma'],\n",
       "       dtype='<U32'),\n",
       " array(['na', 'na', 'na', 'na', 'na', 'na', 'na', 'na', 'da', 'na'],\n",
       "       dtype='<U32'),\n",
       " array(['nga', 'nga', 'nga', 'nga', 'nga', 'nga', 'nga', 'nga', 'nga',\n",
       "        'nga'], dtype='<U32'),\n",
       " array(['nya', 'nya', 'nya', 'nya', 'nya', 'nya', 'nya', 'nya', 'ba',\n",
       "        'nya'], dtype='<U32'),\n",
       " array(['pa', 'pa', 'pa', 'pa', 'pa', 'pa', 'pa', 'pa', 'pa', 'wa'],\n",
       "       dtype='<U32'),\n",
       " array(['ra', 'ra', 'ra', 'ra', 'ra', 'ra', 'ra', 'ra', 'ra', 'ra'],\n",
       "       dtype='<U32'),\n",
       " array(['sa', 'sa', 'sa', 'sa', 'sa', 'sa', 'sa', 'sa', 'sa', 'sa'],\n",
       "       dtype='<U32'),\n",
       " array(['ta', 'ta', 'ta', 'ta', 'ta', 'ta', 'ta', 'ta', 'ta', 'ta'],\n",
       "       dtype='<U32'),\n",
       " array(['tha', 'tha', 'tha', 'tha', 'tha', 'tha', 'tha', 'tha', 'tha',\n",
       "        'tha'], dtype='<U32'),\n",
       " array(['wa', 'wa', 'wa', 'wa', 'wa', 'wa', 'dha', 'wa', 'wa', 'wa'],\n",
       "       dtype='<U32'),\n",
       " array(['ya', 'ya', 'ya', 'ya', 'ya', 'ya', 'ya', 'ya', 'ya', 'nya'],\n",
       "       dtype='<U32')]"
      ]
     },
     "execution_count": 275,
     "metadata": {},
     "output_type": "execute_result"
    }
   ],
   "source": [
    "arr_pred = []\n",
    "for i in range(len(hanacaraka)):\n",
    "    arr = 10*i\n",
    "    arr_pred.append(y_pred[arr:arr+10])\n",
    "\n",
    "arr_pred"
   ]
  },
  {
   "cell_type": "code",
   "execution_count": 276,
   "id": "54748b74",
   "metadata": {},
   "outputs": [
    {
     "data": {
      "text/html": [
       "<div>\n",
       "<style scoped>\n",
       "    .dataframe tbody tr th:only-of-type {\n",
       "        vertical-align: middle;\n",
       "    }\n",
       "\n",
       "    .dataframe tbody tr th {\n",
       "        vertical-align: top;\n",
       "    }\n",
       "\n",
       "    .dataframe thead th {\n",
       "        text-align: right;\n",
       "    }\n",
       "</style>\n",
       "<table border=\"1\" class=\"dataframe\">\n",
       "  <thead>\n",
       "    <tr style=\"text-align: right;\">\n",
       "      <th></th>\n",
       "      <th>normal</th>\n",
       "      <th>zoom</th>\n",
       "      <th>rotate_90_cw</th>\n",
       "      <th>rotate_90_ccw</th>\n",
       "      <th>rotate_45_cw_zoom</th>\n",
       "      <th>rotate_45_ccw_zoom</th>\n",
       "      <th>shear_top_left</th>\n",
       "      <th>shear_bot_right</th>\n",
       "      <th>dist_horizontal</th>\n",
       "      <th>dist_vertical</th>\n",
       "    </tr>\n",
       "  </thead>\n",
       "  <tbody>\n",
       "    <tr>\n",
       "      <th>ba</th>\n",
       "      <td>ba</td>\n",
       "      <td>ba</td>\n",
       "      <td>ba</td>\n",
       "      <td>ba</td>\n",
       "      <td>ba</td>\n",
       "      <td>ba</td>\n",
       "      <td>ba</td>\n",
       "      <td>ba</td>\n",
       "      <td>ba</td>\n",
       "      <td>ha</td>\n",
       "    </tr>\n",
       "    <tr>\n",
       "      <th>ca</th>\n",
       "      <td>ca</td>\n",
       "      <td>ca</td>\n",
       "      <td>ca</td>\n",
       "      <td>ca</td>\n",
       "      <td>ca</td>\n",
       "      <td>ca</td>\n",
       "      <td>ca</td>\n",
       "      <td>ca</td>\n",
       "      <td>ca</td>\n",
       "      <td>sa</td>\n",
       "    </tr>\n",
       "    <tr>\n",
       "      <th>da</th>\n",
       "      <td>da</td>\n",
       "      <td>da</td>\n",
       "      <td>da</td>\n",
       "      <td>da</td>\n",
       "      <td>da</td>\n",
       "      <td>da</td>\n",
       "      <td>da</td>\n",
       "      <td>da</td>\n",
       "      <td>da</td>\n",
       "      <td>da</td>\n",
       "    </tr>\n",
       "    <tr>\n",
       "      <th>dha</th>\n",
       "      <td>dha</td>\n",
       "      <td>dha</td>\n",
       "      <td>dha</td>\n",
       "      <td>dha</td>\n",
       "      <td>dha</td>\n",
       "      <td>dha</td>\n",
       "      <td>dha</td>\n",
       "      <td>dha</td>\n",
       "      <td>dha</td>\n",
       "      <td>ma</td>\n",
       "    </tr>\n",
       "    <tr>\n",
       "      <th>ga</th>\n",
       "      <td>ga</td>\n",
       "      <td>ga</td>\n",
       "      <td>ga</td>\n",
       "      <td>ga</td>\n",
       "      <td>ga</td>\n",
       "      <td>ga</td>\n",
       "      <td>ga</td>\n",
       "      <td>ga</td>\n",
       "      <td>ga</td>\n",
       "      <td>ga</td>\n",
       "    </tr>\n",
       "    <tr>\n",
       "      <th>ha</th>\n",
       "      <td>ha</td>\n",
       "      <td>ha</td>\n",
       "      <td>ha</td>\n",
       "      <td>ha</td>\n",
       "      <td>ha</td>\n",
       "      <td>ha</td>\n",
       "      <td>ha</td>\n",
       "      <td>la</td>\n",
       "      <td>ha</td>\n",
       "      <td>ha</td>\n",
       "    </tr>\n",
       "    <tr>\n",
       "      <th>ja</th>\n",
       "      <td>ja</td>\n",
       "      <td>ja</td>\n",
       "      <td>ja</td>\n",
       "      <td>ja</td>\n",
       "      <td>ja</td>\n",
       "      <td>ja</td>\n",
       "      <td>pa</td>\n",
       "      <td>ja</td>\n",
       "      <td>ja</td>\n",
       "      <td>ja</td>\n",
       "    </tr>\n",
       "    <tr>\n",
       "      <th>ka</th>\n",
       "      <td>ka</td>\n",
       "      <td>ka</td>\n",
       "      <td>ka</td>\n",
       "      <td>ka</td>\n",
       "      <td>ka</td>\n",
       "      <td>ka</td>\n",
       "      <td>ka</td>\n",
       "      <td>ka</td>\n",
       "      <td>ka</td>\n",
       "      <td>ka</td>\n",
       "    </tr>\n",
       "    <tr>\n",
       "      <th>la</th>\n",
       "      <td>la</td>\n",
       "      <td>la</td>\n",
       "      <td>la</td>\n",
       "      <td>la</td>\n",
       "      <td>la</td>\n",
       "      <td>la</td>\n",
       "      <td>ha</td>\n",
       "      <td>la</td>\n",
       "      <td>ga</td>\n",
       "      <td>ha</td>\n",
       "    </tr>\n",
       "    <tr>\n",
       "      <th>ma</th>\n",
       "      <td>ma</td>\n",
       "      <td>ma</td>\n",
       "      <td>ma</td>\n",
       "      <td>ma</td>\n",
       "      <td>ma</td>\n",
       "      <td>ma</td>\n",
       "      <td>ma</td>\n",
       "      <td>ma</td>\n",
       "      <td>ma</td>\n",
       "      <td>ma</td>\n",
       "    </tr>\n",
       "    <tr>\n",
       "      <th>na</th>\n",
       "      <td>na</td>\n",
       "      <td>na</td>\n",
       "      <td>na</td>\n",
       "      <td>na</td>\n",
       "      <td>na</td>\n",
       "      <td>na</td>\n",
       "      <td>na</td>\n",
       "      <td>na</td>\n",
       "      <td>da</td>\n",
       "      <td>na</td>\n",
       "    </tr>\n",
       "    <tr>\n",
       "      <th>nga</th>\n",
       "      <td>nga</td>\n",
       "      <td>nga</td>\n",
       "      <td>nga</td>\n",
       "      <td>nga</td>\n",
       "      <td>nga</td>\n",
       "      <td>nga</td>\n",
       "      <td>nga</td>\n",
       "      <td>nga</td>\n",
       "      <td>nga</td>\n",
       "      <td>nga</td>\n",
       "    </tr>\n",
       "    <tr>\n",
       "      <th>nya</th>\n",
       "      <td>nya</td>\n",
       "      <td>nya</td>\n",
       "      <td>nya</td>\n",
       "      <td>nya</td>\n",
       "      <td>nya</td>\n",
       "      <td>nya</td>\n",
       "      <td>nya</td>\n",
       "      <td>nya</td>\n",
       "      <td>ba</td>\n",
       "      <td>nya</td>\n",
       "    </tr>\n",
       "    <tr>\n",
       "      <th>pa</th>\n",
       "      <td>pa</td>\n",
       "      <td>pa</td>\n",
       "      <td>pa</td>\n",
       "      <td>pa</td>\n",
       "      <td>pa</td>\n",
       "      <td>pa</td>\n",
       "      <td>pa</td>\n",
       "      <td>pa</td>\n",
       "      <td>pa</td>\n",
       "      <td>wa</td>\n",
       "    </tr>\n",
       "    <tr>\n",
       "      <th>ra</th>\n",
       "      <td>ra</td>\n",
       "      <td>ra</td>\n",
       "      <td>ra</td>\n",
       "      <td>ra</td>\n",
       "      <td>ra</td>\n",
       "      <td>ra</td>\n",
       "      <td>ra</td>\n",
       "      <td>ra</td>\n",
       "      <td>ra</td>\n",
       "      <td>ra</td>\n",
       "    </tr>\n",
       "    <tr>\n",
       "      <th>sa</th>\n",
       "      <td>sa</td>\n",
       "      <td>sa</td>\n",
       "      <td>sa</td>\n",
       "      <td>sa</td>\n",
       "      <td>sa</td>\n",
       "      <td>sa</td>\n",
       "      <td>sa</td>\n",
       "      <td>sa</td>\n",
       "      <td>sa</td>\n",
       "      <td>sa</td>\n",
       "    </tr>\n",
       "    <tr>\n",
       "      <th>ta</th>\n",
       "      <td>ta</td>\n",
       "      <td>ta</td>\n",
       "      <td>ta</td>\n",
       "      <td>ta</td>\n",
       "      <td>ta</td>\n",
       "      <td>ta</td>\n",
       "      <td>ta</td>\n",
       "      <td>ta</td>\n",
       "      <td>ta</td>\n",
       "      <td>ta</td>\n",
       "    </tr>\n",
       "    <tr>\n",
       "      <th>tha</th>\n",
       "      <td>tha</td>\n",
       "      <td>tha</td>\n",
       "      <td>tha</td>\n",
       "      <td>tha</td>\n",
       "      <td>tha</td>\n",
       "      <td>tha</td>\n",
       "      <td>tha</td>\n",
       "      <td>tha</td>\n",
       "      <td>tha</td>\n",
       "      <td>tha</td>\n",
       "    </tr>\n",
       "    <tr>\n",
       "      <th>wa</th>\n",
       "      <td>wa</td>\n",
       "      <td>wa</td>\n",
       "      <td>wa</td>\n",
       "      <td>wa</td>\n",
       "      <td>wa</td>\n",
       "      <td>wa</td>\n",
       "      <td>dha</td>\n",
       "      <td>wa</td>\n",
       "      <td>wa</td>\n",
       "      <td>wa</td>\n",
       "    </tr>\n",
       "    <tr>\n",
       "      <th>ya</th>\n",
       "      <td>ya</td>\n",
       "      <td>ya</td>\n",
       "      <td>ya</td>\n",
       "      <td>ya</td>\n",
       "      <td>ya</td>\n",
       "      <td>ya</td>\n",
       "      <td>ya</td>\n",
       "      <td>ya</td>\n",
       "      <td>ya</td>\n",
       "      <td>nya</td>\n",
       "    </tr>\n",
       "  </tbody>\n",
       "</table>\n",
       "</div>"
      ],
      "text/plain": [
       "    normal zoom rotate_90_cw rotate_90_ccw rotate_45_cw_zoom  \\\n",
       "ba      ba   ba           ba            ba                ba   \n",
       "ca      ca   ca           ca            ca                ca   \n",
       "da      da   da           da            da                da   \n",
       "dha    dha  dha          dha           dha               dha   \n",
       "ga      ga   ga           ga            ga                ga   \n",
       "ha      ha   ha           ha            ha                ha   \n",
       "ja      ja   ja           ja            ja                ja   \n",
       "ka      ka   ka           ka            ka                ka   \n",
       "la      la   la           la            la                la   \n",
       "ma      ma   ma           ma            ma                ma   \n",
       "na      na   na           na            na                na   \n",
       "nga    nga  nga          nga           nga               nga   \n",
       "nya    nya  nya          nya           nya               nya   \n",
       "pa      pa   pa           pa            pa                pa   \n",
       "ra      ra   ra           ra            ra                ra   \n",
       "sa      sa   sa           sa            sa                sa   \n",
       "ta      ta   ta           ta            ta                ta   \n",
       "tha    tha  tha          tha           tha               tha   \n",
       "wa      wa   wa           wa            wa                wa   \n",
       "ya      ya   ya           ya            ya                ya   \n",
       "\n",
       "    rotate_45_ccw_zoom shear_top_left shear_bot_right dist_horizontal  \\\n",
       "ba                  ba             ba              ba              ba   \n",
       "ca                  ca             ca              ca              ca   \n",
       "da                  da             da              da              da   \n",
       "dha                dha            dha             dha             dha   \n",
       "ga                  ga             ga              ga              ga   \n",
       "ha                  ha             ha              la              ha   \n",
       "ja                  ja             pa              ja              ja   \n",
       "ka                  ka             ka              ka              ka   \n",
       "la                  la             ha              la              ga   \n",
       "ma                  ma             ma              ma              ma   \n",
       "na                  na             na              na              da   \n",
       "nga                nga            nga             nga             nga   \n",
       "nya                nya            nya             nya              ba   \n",
       "pa                  pa             pa              pa              pa   \n",
       "ra                  ra             ra              ra              ra   \n",
       "sa                  sa             sa              sa              sa   \n",
       "ta                  ta             ta              ta              ta   \n",
       "tha                tha            tha             tha             tha   \n",
       "wa                  wa            dha              wa              wa   \n",
       "ya                  ya             ya              ya              ya   \n",
       "\n",
       "    dist_vertical  \n",
       "ba             ha  \n",
       "ca             sa  \n",
       "da             da  \n",
       "dha            ma  \n",
       "ga             ga  \n",
       "ha             ha  \n",
       "ja             ja  \n",
       "ka             ka  \n",
       "la             ha  \n",
       "ma             ma  \n",
       "na             na  \n",
       "nga           nga  \n",
       "nya           nya  \n",
       "pa             wa  \n",
       "ra             ra  \n",
       "sa             sa  \n",
       "ta             ta  \n",
       "tha           tha  \n",
       "wa             wa  \n",
       "ya            nya  "
      ]
     },
     "execution_count": 276,
     "metadata": {},
     "output_type": "execute_result"
    }
   ],
   "source": [
    "columns = [\"normal\", \"zoom\", \"rotate_90_cw\", \"rotate_90_ccw\", \"rotate_45_cw_zoom\", \"rotate_45_ccw_zoom\", \"shear_top_left\", \"shear_bot_right\", \"dist_horizontal\", \"dist_vertical\"]\n",
    "df_pred = pd.DataFrame(arr_pred, columns=columns, index=hanacaraka)\n",
    "df_pred"
   ]
  }
 ],
 "metadata": {
  "colab": {
   "collapsed_sections": [
    "863fce53",
    "fe36a378",
    "e4cdaef0"
   ],
   "name": "campuran-SIFT.ipynb",
   "provenance": []
  },
  "interpreter": {
   "hash": "f926a665ec17605cd740381014cbbfd1a55a559b2003ed53df37a047c2ed5e7a"
  },
  "kernelspec": {
   "display_name": "Python 3.7.11 ('skripsi')",
   "language": "python",
   "name": "python3"
  },
  "language_info": {
   "codemirror_mode": {
    "name": "ipython",
    "version": 3
   },
   "file_extension": ".py",
   "mimetype": "text/x-python",
   "name": "python",
   "nbconvert_exporter": "python",
   "pygments_lexer": "ipython3",
   "version": "3.7.11 (default, Jul 27 2021, 09:42:29) [MSC v.1916 64 bit (AMD64)]"
  }
 },
 "nbformat": 4,
 "nbformat_minor": 5
}
