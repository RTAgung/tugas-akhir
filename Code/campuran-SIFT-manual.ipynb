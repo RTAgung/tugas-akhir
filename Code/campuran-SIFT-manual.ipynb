{
 "cells": [
  {
   "cell_type": "markdown",
   "id": "a4f194f9",
   "metadata": {
    "id": "a4f194f9"
   },
   "source": [
    "# Import Library"
   ]
  },
  {
   "cell_type": "code",
   "execution_count": 1,
   "id": "87c0a897",
   "metadata": {
    "executionInfo": {
     "elapsed": 2215,
     "status": "ok",
     "timestamp": 1648212064557,
     "user": {
      "displayName": "Rama Tri Agung",
      "photoUrl": "https://lh3.googleusercontent.com/a-/AOh14GhO5MpcihqCafTv8Tf9MUwRyHV6tO2uPdiXma2V=s64",
      "userId": "07374601175312417068"
     },
     "user_tz": -420
    },
    "id": "87c0a897"
   },
   "outputs": [],
   "source": [
    "# load data\n",
    "import os\n",
    "\n",
    "# computing\n",
    "import numpy as np\n",
    "import pandas as pd\n",
    "\n",
    "# visualization\n",
    "import matplotlib.pyplot as plt\n",
    "import seaborn as sns\n",
    "\n",
    "# feature extraction\n",
    "import cv2\n",
    "from scipy.spatial.distance import cdist\n",
    "from sklearn.cluster import KMeans\n",
    "\n",
    "# modelling\n",
    "from sklearn.preprocessing import StandardScaler\n",
    "from sklearn.model_selection import train_test_split\n",
    "from sklearn.svm import SVC\n",
    "from sklearn.model_selection import GridSearchCV\n",
    "\n",
    "# evalutaion\n",
    "from sklearn.metrics import classification_report, confusion_matrix, accuracy_score\n",
    "\n",
    "# load/save model\n",
    "import pickle"
   ]
  },
  {
   "cell_type": "markdown",
   "id": "3d041a7a",
   "metadata": {},
   "source": [
    "### Define common pickle method"
   ]
  },
  {
   "cell_type": "code",
   "execution_count": 4,
   "id": "72edab2e",
   "metadata": {},
   "outputs": [],
   "source": [
    "def load_file_pickle(filename):\n",
    "    file_pickle = pickle.load(open(filename, 'rb'))\n",
    "    return file_pickle\n",
    "\n",
    "def save_file_pickle(variable, filename):\n",
    "    pickle.dump(variable, open(filename, 'wb'))"
   ]
  },
  {
   "cell_type": "markdown",
   "id": "c18569d6",
   "metadata": {},
   "source": [
    "#### Constant variable"
   ]
  },
  {
   "cell_type": "code",
   "execution_count": 5,
   "id": "13afcbc7",
   "metadata": {},
   "outputs": [],
   "source": [
    "BOW_FILE_PICKLE = \"bow_dictionary.pkl\"\n",
    "SCALER_WS_FILE_PICKLE = \"scaler_with_sift.pkl\"\n",
    "SCALER_WOS_FILE_PICKLE = \"scaler_without_sift.pkl\"\n",
    "SVM_WS_FILE_PICKLE = \"svm_with_sift_model.pkl\"\n",
    "SVM_WOS_FILE_PICKLE = \"svm_without_sift_model.pkl\""
   ]
  },
  {
   "cell_type": "markdown",
   "id": "597f2f85",
   "metadata": {
    "id": "597f2f85"
   },
   "source": [
    "# Load Data\n",
    "\n",
    "- input: -\n",
    "- output: `raw_X, raw_y`"
   ]
  },
  {
   "cell_type": "code",
   "execution_count": 6,
   "id": "c3306d58",
   "metadata": {
    "executionInfo": {
     "elapsed": 5,
     "status": "ok",
     "timestamp": 1648212064558,
     "user": {
      "displayName": "Rama Tri Agung",
      "photoUrl": "https://lh3.googleusercontent.com/a-/AOh14GhO5MpcihqCafTv8Tf9MUwRyHV6tO2uPdiXma2V=s64",
      "userId": "07374601175312417068"
     },
     "user_tz": -420
    },
    "id": "c3306d58"
   },
   "outputs": [],
   "source": [
    "# ukurang gambar 224x224\n",
    "def import_image(file) :\n",
    "    image = cv2.imread(file)\n",
    "    image = cv2.bitwise_not(image)\n",
    "    return image\n",
    "\n",
    "def label_image(character, length) :\n",
    "    array = np.full(length, character)\n",
    "    return array\n",
    "\n",
    "def import_data(character, path) :\n",
    "    file_path = os.listdir(path)\n",
    "    images = np.array([import_image(path + '/' + file) for file in file_path])\n",
    "    label = label_image(character, len(file_path))\n",
    "    \n",
    "    return images, label"
   ]
  },
  {
   "cell_type": "code",
   "execution_count": 7,
   "id": "f0f02ffc",
   "metadata": {
    "colab": {
     "base_uri": "https://localhost:8080/"
    },
    "executionInfo": {
     "elapsed": 2631,
     "status": "ok",
     "timestamp": 1648212067185,
     "user": {
      "displayName": "Rama Tri Agung",
      "photoUrl": "https://lh3.googleusercontent.com/a-/AOh14GhO5MpcihqCafTv8Tf9MUwRyHV6tO2uPdiXma2V=s64",
      "userId": "07374601175312417068"
     },
     "user_tz": -420
    },
    "id": "f0f02ffc",
    "outputId": "d80e2c33-9158-4418-ac4d-28d95e7910ed",
    "scrolled": false
   },
   "outputs": [
    {
     "name": "stdout",
     "output_type": "stream",
     "text": [
      "Size of ba : 21\n",
      "Size of ca : 21\n",
      "Size of da : 21\n",
      "Size of dha : 21\n",
      "Size of ga : 21\n",
      "Size of ha : 21\n",
      "Size of ja : 21\n",
      "Size of ka : 21\n",
      "Size of la : 21\n",
      "Size of ma : 21\n",
      "Size of na : 21\n",
      "Size of nga : 21\n",
      "Size of nya : 21\n",
      "Size of pa : 21\n",
      "Size of ra : 21\n",
      "Size of sa : 21\n",
      "Size of ta : 21\n",
      "Size of tha : 21\n",
      "Size of wa : 21\n",
      "Size of ya : 21\n"
     ]
    }
   ],
   "source": [
    "hanacaraka = ('ba','ca','da','dha','ga','ha','ja','ka','la','ma','na','nga','nya','pa','ra','sa','ta','tha','wa','ya')\n",
    "\n",
    "raw_X = np.empty((0, 224, 224, 3), np.uint8)\n",
    "raw_y = np.empty((0))\n",
    "\n",
    "folder_path = \"../Dataset/campuran/\" # for local used\n",
    "# folder_path = \"drive/MyDrive/Skripsi/Repos/Dataset/campuran/\" # for drive used\n",
    "\n",
    "for character in hanacaraka:\n",
    "    dataset_path = folder_path + character\n",
    "\n",
    "    temp_X, temp_y = import_data(character, dataset_path)\n",
    "\n",
    "    print(\"Size of\", character, \":\", temp_X.shape[0])\n",
    "    \n",
    "    raw_X = np.append(raw_X, temp_X, axis=0)\n",
    "    raw_y = np.append(raw_y, temp_y, axis=0)\n"
   ]
  },
  {
   "cell_type": "code",
   "execution_count": 8,
   "id": "915ea983",
   "metadata": {
    "colab": {
     "base_uri": "https://localhost:8080/"
    },
    "executionInfo": {
     "elapsed": 8,
     "status": "ok",
     "timestamp": 1648212067186,
     "user": {
      "displayName": "Rama Tri Agung",
      "photoUrl": "https://lh3.googleusercontent.com/a-/AOh14GhO5MpcihqCafTv8Tf9MUwRyHV6tO2uPdiXma2V=s64",
      "userId": "07374601175312417068"
     },
     "user_tz": -420
    },
    "id": "915ea983",
    "outputId": "29a4aaba-face-4ba4-cd94-db52c3237c5c"
   },
   "outputs": [
    {
     "name": "stdout",
     "output_type": "stream",
     "text": [
      "Number of data: 420\n",
      "Image dimension: (224, 224, 3)\n"
     ]
    }
   ],
   "source": [
    "# Ukuran keseluruhan data\n",
    "print(\"Number of data:\", raw_X.shape[0])\n",
    "print(\"Image dimension:\", raw_X[0].shape)"
   ]
  },
  {
   "cell_type": "markdown",
   "id": "3eac7c8e",
   "metadata": {},
   "source": [
    "### Visualize Raw Data"
   ]
  },
  {
   "cell_type": "code",
   "execution_count": 9,
   "id": "27770ec6",
   "metadata": {},
   "outputs": [
    {
     "data": {
      "image/png": "[encoded data removed]",
      "text/plain": [
       "<Figure size 1152x288 with 8 Axes>"
      ]
     },
     "metadata": {
      "needs_background": "light"
     },
     "output_type": "display_data"
    }
   ],
   "source": [
    "np.random.seed(42)\n",
    "\n",
    "fig = plt.figure(figsize=(16, 4))\n",
    "columns = 8\n",
    "rows = 1\n",
    "for i in range(1, columns*rows + 1):\n",
    "    img = np.array(raw_X[np.random.randint(0, raw_X.shape[0]), :])\n",
    "    fig.add_subplot(rows, columns, i)\n",
    "    plt.imshow(img)\n",
    "    plt.axis('off')\n",
    "\n",
    "plt.show()"
   ]
  },
  {
   "cell_type": "markdown",
   "id": "8c0989ea",
   "metadata": {
    "id": "8c0989ea"
   },
   "source": [
    "# Augmantation & Preparation Data\n",
    "\n",
    "- input: `raw_X, raw_y`\n",
    "- output: `X, y`"
   ]
  },
  {
   "cell_type": "markdown",
   "id": "715480f5",
   "metadata": {},
   "source": [
    "List Augmented :\n",
    "1. Rotate 30 CCW\n",
    "2. Rotate 15 CCW + Zoom out\n",
    "3. Rotate 15 CW + Zoom out\n",
    "4. Rotate 30 CW\n",
    "5. Shear Left\n",
    "6. Shear Right\n",
    "7. Normal\n",
    "\n",
    "List Preprocessing :\n",
    "1. Resizing (128x128)\n",
    "2. Grayscaling\n",
    "3. Equalization"
   ]
  },
  {
   "cell_type": "markdown",
   "id": "a31b2f1b",
   "metadata": {},
   "source": [
    "### Augmented Method"
   ]
  },
  {
   "cell_type": "code",
   "execution_count": 10,
   "id": "953a1516",
   "metadata": {
    "executionInfo": {
     "elapsed": 394,
     "status": "ok",
     "timestamp": 1648212070221,
     "user": {
      "displayName": "Rama Tri Agung",
      "photoUrl": "https://lh3.googleusercontent.com/a-/AOh14GhO5MpcihqCafTv8Tf9MUwRyHV6tO2uPdiXma2V=s64",
      "userId": "07374601175312417068"
     },
     "user_tz": -420
    },
    "id": "953a1516"
   },
   "outputs": [],
   "source": [
    "# Augmented Method\n",
    "def rotate(img, degree):\n",
    "    (h, w) = img.shape[:2]\n",
    "    (cX, cY) = (w // 2, h // 2)\n",
    "    M = cv2.getRotationMatrix2D((cX, cY), degree, 1.0)\n",
    "    img_rotated = cv2.warpAffine(img, M, (w, h))\n",
    "    return img_rotated\n",
    "\n",
    "def zoom_out(img, zoom_scale):\n",
    "    img_zoom = np.zeros((img.shape[0], img.shape[1]), dtype=np.uint8)\n",
    "\n",
    "    h, w = img.shape[0]/zoom_scale, img.shape[1]/zoom_scale\n",
    "    h, w = int(h), int(w)\n",
    "    x, y = (img.shape[0]-w)//2, (img.shape[1]-h)//2\n",
    "    img_resize = cv2.resize(img, (h, w), interpolation = cv2.INTER_AREA)\n",
    "\n",
    "    img_zoom[x:w+x, y:h+y] = img_resize\n",
    "    return img_zoom\n",
    "\n",
    "def shear(img, x, y):\n",
    "    rows, cols = img.shape\n",
    "    M = np.float32([[1, x, 0],\n",
    "                    [y, 1, 0]])\n",
    "    sheared_img = cv2.warpAffine(img, M, (cols, rows))\n",
    "    return sheared_img"
   ]
  },
  {
   "cell_type": "markdown",
   "id": "fc7d84ad",
   "metadata": {},
   "source": [
    "### Image Preprocessing Method"
   ]
  },
  {
   "cell_type": "code",
   "execution_count": 11,
   "id": "bcecb3ab",
   "metadata": {},
   "outputs": [],
   "source": [
    "# Preprocessing Image\n",
    "def equalizing(img):\n",
    "    if (img.ndim == 3):\n",
    "        b, g, r = cv2.split(img)\n",
    "        red = cv2.equalizeHist(r)\n",
    "        green = cv2.equalizeHist(g)\n",
    "        blue = cv2.equalizeHist(b)\n",
    "        img = cv2.merge((blue, green, red))\n",
    "    else:\n",
    "        img = cv2.equalizeHist(img)\n",
    "    return img\n",
    "\n",
    "def grayscaling(image):\n",
    "    image = cv2.cvtColor(image, cv2.COLOR_RGB2GRAY)\n",
    "    return image\n",
    "\n",
    "def resizing(image, size):\n",
    "    image = cv2.resize(image, (size, size), interpolation = cv2.INTER_AREA)\n",
    "    return image"
   ]
  },
  {
   "cell_type": "code",
   "execution_count": 12,
   "id": "8b065983",
   "metadata": {
    "executionInfo": {
     "elapsed": 305,
     "status": "ok",
     "timestamp": 1648212071397,
     "user": {
      "displayName": "Rama Tri Agung",
      "photoUrl": "https://lh3.googleusercontent.com/a-/AOh14GhO5MpcihqCafTv8Tf9MUwRyHV6tO2uPdiXma2V=s64",
      "userId": "07374601175312417068"
     },
     "user_tz": -420
    },
    "id": "8b065983"
   },
   "outputs": [],
   "source": [
    "# Generate augmentation and preprocessing data\n",
    "def dataset_aug_generator_prep(ori_img):\n",
    "    ori_img = resizing(ori_img, 192)\n",
    "    ori_img = grayscaling(ori_img)\n",
    "    \n",
    "    ori_img = zoom_out(ori_img, 1.15)\n",
    "    img_r_30_ccw = rotate(ori_img, 30)\n",
    "    img_r_30_cw = rotate(ori_img, -30)\n",
    "    img_r_15_ccw_z = rotate(zoom_out(ori_img, 1.3), 15)\n",
    "    img_r_15_cw_z = rotate(zoom_out(ori_img, 1.3), -15)\n",
    "    img_s_left = shear(ori_img, -0.15, -0.15)\n",
    "    img_s_right = shear(ori_img, 0.15, 0.15)\n",
    "    \n",
    "    result_aug = [ori_img, img_r_30_ccw, img_r_30_cw, img_r_15_ccw_z, img_r_15_cw_z, img_s_left, img_s_right]\n",
    "    for idx, item_img in enumerate(result_aug):\n",
    "        result_aug[idx] = equalizing(result_aug[idx])\n",
    "    return result_aug"
   ]
  },
  {
   "cell_type": "markdown",
   "id": "c28d56e5",
   "metadata": {},
   "source": [
    "#### test result image after generate augmentation and preprocessing"
   ]
  },
  {
   "cell_type": "code",
   "execution_count": 13,
   "id": "e77aab5c",
   "metadata": {
    "colab": {
     "base_uri": "https://localhost:8080/",
     "height": 140
    },
    "executionInfo": {
     "elapsed": 1370,
     "status": "ok",
     "timestamp": 1648212073146,
     "user": {
      "displayName": "Rama Tri Agung",
      "photoUrl": "https://lh3.googleusercontent.com/a-/AOh14GhO5MpcihqCafTv8Tf9MUwRyHV6tO2uPdiXma2V=s64",
      "userId": "07374601175312417068"
     },
     "user_tz": -420
    },
    "id": "e77aab5c",
    "outputId": "8f770d91-cf13-4abe-84d2-6f13b2515805"
   },
   "outputs": [
    {
     "data": {
      "image/png": "[encoded data removed]",
      "text/plain": [
       "<Figure size 1152x288 with 7 Axes>"
      ]
     },
     "metadata": {
      "needs_background": "light"
     },
     "output_type": "display_data"
    }
   ],
   "source": [
    "test_img_aug = dataset_aug_generator_prep(raw_X[0])\n",
    "\n",
    "fig = plt.figure(figsize=(16, 4))\n",
    "columns = 7\n",
    "rows = 1\n",
    "for i in range(1, columns*rows + 1):\n",
    "    img = test_img_aug[i-1]\n",
    "    fig.add_subplot(rows, columns, i)\n",
    "    plt.imshow(img, cmap='gray', vmin=0, vmax=255)\n",
    "    plt.axis('off')\n",
    "\n",
    "plt.show()"
   ]
  },
  {
   "cell_type": "markdown",
   "id": "64037862",
   "metadata": {},
   "source": [
    "## Generate Aug & Prep Image on All Raw Data"
   ]
  },
  {
   "cell_type": "code",
   "execution_count": 16,
   "id": "9727ec73",
   "metadata": {
    "executionInfo": {
     "elapsed": 25680,
     "status": "ok",
     "timestamp": 1648212099185,
     "user": {
      "displayName": "Rama Tri Agung",
      "photoUrl": "https://lh3.googleusercontent.com/a-/AOh14GhO5MpcihqCafTv8Tf9MUwRyHV6tO2uPdiXma2V=s64",
      "userId": "07374601175312417068"
     },
     "user_tz": -420
    },
    "id": "a988042b"
   },
   "outputs": [],
   "source": [
    "X = np.empty((0, 192, 192), np.uint8)\n",
    "y = np.empty((0))\n",
    "\n",
    "for idx, img in enumerate(raw_X):\n",
    "    img_aug = dataset_aug_generator_prep(img)\n",
    "    \n",
    "    for item_img in img_aug:\n",
    "        X = np.append(X, [item_img], axis=0)\n",
    "        y = np.append(y, [raw_y[idx]], axis=0)"
   ]
  },
  {
   "cell_type": "code",
   "execution_count": 17,
   "id": "dcb66785",
   "metadata": {
    "colab": {
     "base_uri": "https://localhost:8080/"
    },
    "executionInfo": {
     "elapsed": 7,
     "status": "ok",
     "timestamp": 1648212099186,
     "user": {
      "displayName": "Rama Tri Agung",
      "photoUrl": "https://lh3.googleusercontent.com/a-/AOh14GhO5MpcihqCafTv8Tf9MUwRyHV6tO2uPdiXma2V=s64",
      "userId": "07374601175312417068"
     },
     "user_tz": -420
    },
    "id": "dcb66785",
    "outputId": "cfa37274-95a8-4910-cd37-c86f5729ad31"
   },
   "outputs": [
    {
     "name": "stdout",
     "output_type": "stream",
     "text": [
      "Result X data dimension: (2940, 192, 192)\n",
      "Result y data dimension: (2940,)\n"
     ]
    }
   ],
   "source": [
    "print(\"Result X data dimension:\", X.shape)\n",
    "print(\"Result y data dimension:\", y.shape)"
   ]
  },
  {
   "cell_type": "markdown",
   "id": "be0b8d89",
   "metadata": {},
   "source": [
    "### Visualize Result Data"
   ]
  },
  {
   "cell_type": "code",
   "execution_count": 18,
   "id": "dad58e22",
   "metadata": {
    "colab": {
     "base_uri": "https://localhost:8080/",
     "height": 244
    },
    "executionInfo": {
     "elapsed": 974,
     "status": "ok",
     "timestamp": 1648212100155,
     "user": {
      "displayName": "Rama Tri Agung",
      "photoUrl": "https://lh3.googleusercontent.com/a-/AOh14GhO5MpcihqCafTv8Tf9MUwRyHV6tO2uPdiXma2V=s64",
      "userId": "07374601175312417068"
     },
     "user_tz": -420
    },
    "id": "dad58e22",
    "outputId": "f1c45b6a-2a6e-4021-84be-7e734c564a4a"
   },
   "outputs": [
    {
     "data": {
      "image/png": "[encoded data removed]",
      "text/plain": [
       "<Figure size 1152x288 with 8 Axes>"
      ]
     },
     "metadata": {
      "needs_background": "light"
     },
     "output_type": "display_data"
    }
   ],
   "source": [
    "np.random.seed(42)\n",
    "\n",
    "fig = plt.figure(figsize=(16, 4))\n",
    "columns = 8\n",
    "rows = 1\n",
    "for i in range(1, columns*rows + 1):\n",
    "    img = np.array(X[np.random.randint(0, X.shape[0]), :])\n",
    "    fig.add_subplot(rows, columns, i)\n",
    "    plt.imshow(img, cmap='gray', vmin=0, vmax=255)\n",
    "    plt.axis('off')\n",
    "\n",
    "plt.show()"
   ]
  },
  {
   "cell_type": "markdown",
   "id": "3f7f207b",
   "metadata": {
    "id": "3f7f207b"
   },
   "source": [
    "# Feature Extraction\n",
    "\n",
    "- input: `X`\n",
    "- output: `X_feature`"
   ]
  },
  {
   "cell_type": "markdown",
   "id": "6e1cb034",
   "metadata": {
    "id": "6e1cb034"
   },
   "source": [
    "### Extract SIFT Descriptors "
   ]
  },
  {
   "cell_type": "code",
   "execution_count": 19,
   "id": "29ceac16",
   "metadata": {
    "executionInfo": {
     "elapsed": 498,
     "status": "ok",
     "timestamp": 1648212100644,
     "user": {
      "displayName": "Rama Tri Agung",
      "photoUrl": "https://lh3.googleusercontent.com/a-/AOh14GhO5MpcihqCafTv8Tf9MUwRyHV6tO2uPdiXma2V=s64",
      "userId": "07374601175312417068"
     },
     "user_tz": -420
    },
    "id": "29ceac16"
   },
   "outputs": [],
   "source": [
    "def extract_sift_features(list_image):\n",
    "\n",
    "    image_descriptors = []\n",
    "    sift = cv2.SIFT_create()\n",
    "    for image in list_image:\n",
    "        _, descriptor = sift.detectAndCompute(image, None)\n",
    "        image_descriptors.append(descriptor)\n",
    "\n",
    "    return image_descriptors\n",
    "\n",
    "def split_all_descriptors(image_descriptors):\n",
    "    all_descriptors = []\n",
    "    for descriptor in image_descriptors:\n",
    "        if descriptor is not None:\n",
    "            for des in descriptor:\n",
    "                all_descriptors.append(des)\n",
    "    \n",
    "    return np.array(all_descriptors)"
   ]
  },
  {
   "cell_type": "code",
   "execution_count": 20,
   "id": "d50539d0",
   "metadata": {
    "executionInfo": {
     "elapsed": 20918,
     "status": "ok",
     "timestamp": 1648212121560,
     "user": {
      "displayName": "Rama Tri Agung",
      "photoUrl": "https://lh3.googleusercontent.com/a-/AOh14GhO5MpcihqCafTv8Tf9MUwRyHV6tO2uPdiXma2V=s64",
      "userId": "07374601175312417068"
     },
     "user_tz": -420
    },
    "id": "d50539d0"
   },
   "outputs": [],
   "source": [
    "image_descriptors = extract_sift_features(X)"
   ]
  },
  {
   "cell_type": "code",
   "execution_count": 21,
   "id": "53a20fc4",
   "metadata": {
    "colab": {
     "base_uri": "https://localhost:8080/"
    },
    "executionInfo": {
     "elapsed": 14,
     "status": "ok",
     "timestamp": 1648212121561,
     "user": {
      "displayName": "Rama Tri Agung",
      "photoUrl": "https://lh3.googleusercontent.com/a-/AOh14GhO5MpcihqCafTv8Tf9MUwRyHV6tO2uPdiXma2V=s64",
      "userId": "07374601175312417068"
     },
     "user_tz": -420
    },
    "id": "53a20fc4",
    "outputId": "62cb7002-248b-4204-c394-0fd05ab5e590",
    "scrolled": true
   },
   "outputs": [
    {
     "name": "stdout",
     "output_type": "stream",
     "text": [
      "Number of keypoint descriptor: (193416, 128)\n"
     ]
    }
   ],
   "source": [
    "all_descriptors = split_all_descriptors(image_descriptors)\n",
    "print(\"Number of keypoint descriptor:\", all_descriptors.shape)"
   ]
  },
  {
   "cell_type": "markdown",
   "id": "4b9c46d6",
   "metadata": {
    "id": "4b9c46d6"
   },
   "source": [
    "### Create BOW of Descriptor Using Cluster"
   ]
  },
  {
   "cell_type": "code",
   "execution_count": 22,
   "id": "86c97bff",
   "metadata": {
    "executionInfo": {
     "elapsed": 10,
     "status": "ok",
     "timestamp": 1648212121561,
     "user": {
      "displayName": "Rama Tri Agung",
      "photoUrl": "https://lh3.googleusercontent.com/a-/AOh14GhO5MpcihqCafTv8Tf9MUwRyHV6tO2uPdiXma2V=s64",
      "userId": "07374601175312417068"
     },
     "user_tz": -420
    },
    "id": "86c97bff"
   },
   "outputs": [],
   "source": [
    "def kmeans_bow(all_descriptors, num_cluster):\n",
    "    if not os.path.isfile(BOW_FILE_PICKLE):\n",
    "        kmeans = KMeans(n_clusters = num_cluster, verbose=1)\n",
    "        kmeans.fit(all_descriptors)\n",
    "\n",
    "        bow_dict = kmeans.cluster_centers_\n",
    "        \n",
    "        save_file_pickle(BOW_FILE_PICKLE)\n",
    "    else:\n",
    "        bow_dict = load_file_pickle(BOW_FILE_PICKLE)\n",
    "\n",
    "    return bow_dict"
   ]
  },
  {
   "cell_type": "code",
   "execution_count": 19,
   "id": "92cd2d55",
   "metadata": {
    "colab": {
     "base_uri": "https://localhost:8080/"
    },
    "executionInfo": {
     "elapsed": 1100418,
     "status": "ok",
     "timestamp": 1648213221969,
     "user": {
      "displayName": "Rama Tri Agung",
      "photoUrl": "https://lh3.googleusercontent.com/a-/AOh14GhO5MpcihqCafTv8Tf9MUwRyHV6tO2uPdiXma2V=s64",
      "userId": "07374601175312417068"
     },
     "user_tz": -420
    },
    "id": "92cd2d55",
    "outputId": "75c6186c-1558-4e16-e9ad-0672767c0f4b",
    "scrolled": true
   },
   "outputs": [],
   "source": [
    "num_cluster = 750\n",
    "bow = kmeans_bow(all_descriptors, num_cluster)"
   ]
  },
  {
   "cell_type": "markdown",
   "id": "ee67ecc6",
   "metadata": {
    "id": "ee67ecc6"
   },
   "source": [
    "### Create Features From BOW"
   ]
  },
  {
   "cell_type": "code",
   "execution_count": 20,
   "id": "712e35c5",
   "metadata": {
    "executionInfo": {
     "elapsed": 11,
     "status": "ok",
     "timestamp": 1648213221969,
     "user": {
      "displayName": "Rama Tri Agung",
      "photoUrl": "https://lh3.googleusercontent.com/a-/AOh14GhO5MpcihqCafTv8Tf9MUwRyHV6tO2uPdiXma2V=s64",
      "userId": "07374601175312417068"
     },
     "user_tz": -420
    },
    "id": "712e35c5"
   },
   "outputs": [],
   "source": [
    "def create_feature_bow(image_descriptors, bow, num_cluster):\n",
    "    X_features = []\n",
    "\n",
    "    for i in range(len(image_descriptors)):\n",
    "        features = np.array([0] * num_cluster, dtype=float)\n",
    "\n",
    "        if image_descriptors[i] is not None:\n",
    "            distance = cdist(image_descriptors[i], bow)\n",
    "            argmin = np.argmin(distance, axis = 1)\n",
    "\n",
    "            for j in argmin:\n",
    "                features[j] += 1.0\n",
    "        X_features.append(features)\n",
    "\n",
    "    return np.array(X_features)"
   ]
  },
  {
   "cell_type": "code",
   "execution_count": 21,
   "id": "f0aecc4b",
   "metadata": {
    "colab": {
     "base_uri": "https://localhost:8080/",
     "height": 207
    },
    "executionInfo": {
     "elapsed": 545,
     "status": "error",
     "timestamp": 1648222301412,
     "user": {
      "displayName": "Rama Tri Agung",
      "photoUrl": "https://lh3.googleusercontent.com/a-/AOh14GhO5MpcihqCafTv8Tf9MUwRyHV6tO2uPdiXma2V=s64",
      "userId": "07374601175312417068"
     },
     "user_tz": -420
    },
    "id": "f0aecc4b",
    "outputId": "53813cfb-2ae4-4c56-e177-e4adaf78f722",
    "scrolled": true
   },
   "outputs": [
    {
     "name": "stdout",
     "output_type": "stream",
     "text": [
      "Feature X data dimension: (2940, 500)\n"
     ]
    }
   ],
   "source": [
    "X_feature = create_feature_bow(image_descriptors, bow, num_cluster)\n",
    "\n",
    "print(\"Feature X data dimension:\", X_feature.shape)"
   ]
  },
  {
   "cell_type": "markdown",
   "id": "57285a41",
   "metadata": {
    "id": "57285a41"
   },
   "source": [
    "# Classification With SIFT\n",
    "\n",
    "- input: `X_feature, y`\n",
    "- output: -"
   ]
  },
  {
   "cell_type": "code",
   "execution_count": 22,
   "id": "d405ef19",
   "metadata": {
    "executionInfo": {
     "elapsed": 26,
     "status": "ok",
     "timestamp": 1648213228936,
     "user": {
      "displayName": "Rama Tri Agung",
      "photoUrl": "https://lh3.googleusercontent.com/a-/AOh14GhO5MpcihqCafTv8Tf9MUwRyHV6tO2uPdiXma2V=s64",
      "userId": "07374601175312417068"
     },
     "user_tz": -420
    },
    "id": "d405ef19"
   },
   "outputs": [],
   "source": [
    "# normalization\n",
    "scaler = StandardScaler().fit(X_feature)\n",
    "X_scale = scaler.transform(X_feature)"
   ]
  },
  {
   "cell_type": "markdown",
   "id": "e4cfaa86",
   "metadata": {},
   "source": [
    "#### Save scaler"
   ]
  },
  {
   "cell_type": "code",
   "execution_count": 23,
   "id": "132fcf02",
   "metadata": {},
   "outputs": [],
   "source": [
    "# Just save normalization function for future used\n",
    "save_file_pickle(SCALER_WS_FILE_PICKLE)"
   ]
  },
  {
   "cell_type": "code",
   "execution_count": 25,
   "id": "d113c312",
   "metadata": {
    "colab": {
     "base_uri": "https://localhost:8080/"
    },
    "executionInfo": {
     "elapsed": 24,
     "status": "ok",
     "timestamp": 1648213228936,
     "user": {
      "displayName": "Rama Tri Agung",
      "photoUrl": "https://lh3.googleusercontent.com/a-/AOh14GhO5MpcihqCafTv8Tf9MUwRyHV6tO2uPdiXma2V=s64",
      "userId": "07374601175312417068"
     },
     "user_tz": -420
    },
    "id": "d113c312",
    "outputId": "22f4c248-9765-449e-807b-76f917198dfb"
   },
   "outputs": [
    {
     "ename": "NameError",
     "evalue": "name 'X_scale' is not defined",
     "output_type": "error",
     "traceback": [
      "\u001b[1;31m---------------------------------------------------------------------------\u001b[0m",
      "\u001b[1;31mNameError\u001b[0m                                 Traceback (most recent call last)",
      "\u001b[1;32m~\\AppData\\Local\\Temp/ipykernel_8948/221081003.py\u001b[0m in \u001b[0;36m<module>\u001b[1;34m\u001b[0m\n\u001b[0;32m      1\u001b[0m \u001b[1;31m# splitting data\u001b[0m\u001b[1;33m\u001b[0m\u001b[1;33m\u001b[0m\u001b[1;33m\u001b[0m\u001b[0m\n\u001b[1;32m----> 2\u001b[1;33m \u001b[0mX_train\u001b[0m\u001b[1;33m,\u001b[0m \u001b[0mX_test\u001b[0m\u001b[1;33m,\u001b[0m \u001b[0my_train\u001b[0m\u001b[1;33m,\u001b[0m \u001b[0my_test\u001b[0m \u001b[1;33m=\u001b[0m \u001b[0mtrain_test_split\u001b[0m\u001b[1;33m(\u001b[0m\u001b[0mX_scale\u001b[0m\u001b[1;33m,\u001b[0m \u001b[0my\u001b[0m\u001b[1;33m,\u001b[0m \u001b[0mtest_size\u001b[0m\u001b[1;33m=\u001b[0m\u001b[1;36m0.15\u001b[0m\u001b[1;33m,\u001b[0m \u001b[0mrandom_state\u001b[0m\u001b[1;33m=\u001b[0m\u001b[1;36m42\u001b[0m\u001b[1;33m)\u001b[0m\u001b[1;33m\u001b[0m\u001b[1;33m\u001b[0m\u001b[0m\n\u001b[0m\u001b[0;32m      3\u001b[0m \u001b[1;33m\u001b[0m\u001b[0m\n\u001b[0;32m      4\u001b[0m \u001b[0mprint\u001b[0m\u001b[1;33m(\u001b[0m\u001b[1;34m\"Size of training:\"\u001b[0m\u001b[1;33m,\u001b[0m \u001b[0mX_train\u001b[0m\u001b[1;33m.\u001b[0m\u001b[0mshape\u001b[0m\u001b[1;33m[\u001b[0m\u001b[1;36m0\u001b[0m\u001b[1;33m]\u001b[0m\u001b[1;33m)\u001b[0m\u001b[1;33m\u001b[0m\u001b[1;33m\u001b[0m\u001b[0m\n\u001b[0;32m      5\u001b[0m \u001b[0mprint\u001b[0m\u001b[1;33m(\u001b[0m\u001b[1;34m\"Size of testing:\"\u001b[0m\u001b[1;33m,\u001b[0m \u001b[0mX_test\u001b[0m\u001b[1;33m.\u001b[0m\u001b[0mshape\u001b[0m\u001b[1;33m[\u001b[0m\u001b[1;36m0\u001b[0m\u001b[1;33m]\u001b[0m\u001b[1;33m)\u001b[0m\u001b[1;33m\u001b[0m\u001b[1;33m\u001b[0m\u001b[0m\n",
      "\u001b[1;31mNameError\u001b[0m: name 'X_scale' is not defined"
     ]
    }
   ],
   "source": [
    "# splitting data\n",
    "X_train, X_test, y_train, y_test = train_test_split(X_scale, y, test_size=0.15, random_state=42)\n",
    "\n",
    "print(\"Size of training:\", X_train.shape[0])\n",
    "print(\"Size of testing:\", X_test.shape[0])"
   ]
  },
  {
   "cell_type": "markdown",
   "id": "2364961d",
   "metadata": {},
   "source": [
    "# Test Manual SVM"
   ]
  },
  {
   "cell_type": "code",
   "execution_count": 23,
   "id": "32947fec",
   "metadata": {},
   "outputs": [],
   "source": [
    "import math"
   ]
  },
  {
   "cell_type": "code",
   "execution_count": 24,
   "id": "66210353",
   "metadata": {},
   "outputs": [
    {
     "ename": "NameError",
     "evalue": "name 'y_train' is not defined",
     "output_type": "error",
     "traceback": [
      "\u001b[1;31m---------------------------------------------------------------------------\u001b[0m",
      "\u001b[1;31mNameError\u001b[0m                                 Traceback (most recent call last)",
      "\u001b[1;32m~\\AppData\\Local\\Temp/ipykernel_8948/267671666.py\u001b[0m in \u001b[0;36m<module>\u001b[1;34m\u001b[0m\n\u001b[1;32m----> 1\u001b[1;33m \u001b[0mprint\u001b[0m\u001b[1;33m(\u001b[0m\u001b[0my_train\u001b[0m\u001b[1;33m[\u001b[0m\u001b[1;33m:\u001b[0m\u001b[1;36m300\u001b[0m\u001b[1;33m]\u001b[0m\u001b[1;33m)\u001b[0m\u001b[1;33m\u001b[0m\u001b[1;33m\u001b[0m\u001b[0m\n\u001b[0m",
      "\u001b[1;31mNameError\u001b[0m: name 'y_train' is not defined"
     ]
    }
   ],
   "source": [
    "print(y_train[:300])"
   ]
  },
  {
   "cell_type": "code",
   "execution_count": 27,
   "id": "f11f280b",
   "metadata": {},
   "outputs": [
    {
     "data": {
      "text/plain": [
       "[11, 15, 64, 65, 70, 170, 196, 209, 246, 254, 280]"
      ]
     },
     "execution_count": 27,
     "metadata": {},
     "output_type": "execute_result"
    }
   ],
   "source": [
    "ans = [i for i in range(len(y_train[:300])) if y_train[:300][i] == 'ka']\n",
    "ans"
   ]
  },
  {
   "cell_type": "code",
   "execution_count": 58,
   "id": "0d064e2c",
   "metadata": {},
   "outputs": [
    {
     "name": "stdout",
     "output_type": "stream",
     "text": [
      "0.108783880330162\n",
      "0.11565447488165465\n",
      "0.11820971503023836\n",
      "0.15669976085377407\n",
      "0.10337984337631666\n",
      "0.0774873358642158\n",
      "0.08486828779773667\n",
      "0.1819795076274031\n",
      "0.15041301693884762\n",
      "0.19248433509114743\n",
      "0.1414701006412527\n",
      "0.2001079156304603\n",
      "0.11682660617529124\n",
      "0.2557360203812365\n",
      "0.1357854150337872\n",
      "0.07990470938794356\n",
      "0.06397048393310327\n",
      "0.1627788951418826\n",
      "0.1476692499043197\n",
      "0.11206395959436206\n",
      "0.045964398285393566\n",
      "0.2986632386024186\n",
      "0.15080431694263957\n",
      "0.18618494947890032\n",
      "0.11969137979763503\n",
      "0.08950987279362355\n",
      "0.05868865524844969\n",
      "0.1937675453316746\n",
      "0.13926575144361034\n",
      "0.05947653827086657\n",
      "0.21497737831747576\n",
      "0.20151093971488812\n",
      "0.0883534429052609\n",
      "0.10977368806023731\n",
      "0.08907867227803574\n",
      "0.09108454353170693\n",
      "0.2514856849510367\n",
      "0.07182178188334064\n",
      "0.24335910447879158\n",
      "0.08506017854618947\n",
      "0.15731085217633936\n",
      "0.2182371085091971\n",
      "0.23040599541796564\n",
      "0.09541647637480927\n",
      "0.1391057465920841\n",
      "0.20423546816568608\n",
      "0.18250344554547945\n",
      "0.22350148124800884\n",
      "0.1723985911853921\n",
      "0.14244390014362499\n",
      "0.13766783682339673\n",
      "0.10741212876912867\n",
      "0.10492275392522246\n",
      "0.07766950043256325\n",
      "0.052869874924190034\n",
      "0.1444572182487492\n",
      "0.1278659631049647\n",
      "0.13112913335562437\n",
      "0.1723924682696119\n",
      "0.1665185369592914\n",
      "0.10881035544019746\n",
      "0.1427212741488463\n",
      "0.0497819419568968\n",
      "0.055284180414008816\n",
      "0.08619443865100106\n",
      "0.10656487565110478\n",
      "0.11306134676932551\n",
      "0.12962806601340449\n",
      "0.12893036221650586\n",
      "0.11103118629155496\n",
      "0.06855067400862518\n",
      "0.09666803764896464\n",
      "0.21233137238383237\n",
      "0.16954576025704776\n",
      "0.09606053629929662\n",
      "0.05514378559413675\n",
      "0.07459637578924261\n",
      "0.11799540243839422\n",
      "0.23681625756328725\n",
      "0.21506944846643652\n",
      "0.07285767362790654\n",
      "0.2287291447758858\n",
      "0.17933987907045418\n",
      "0.12643565818219035\n",
      "0.11759835464719735\n",
      "0.15523858825334186\n",
      "0.1345742816355797\n",
      "0.04202637322918578\n",
      "0.13826075862324702\n",
      "0.19185380828702067\n",
      "0.09470692412994909\n",
      "0.055187679691880986\n",
      "0.24057565110254286\n",
      "0.21204381108834625\n",
      "0.1293746426443305\n",
      "0.0609961585672739\n",
      "0.10852813460784412\n",
      "0.0825932326813081\n",
      "0.19087594969262434\n",
      "0.23782638099357886\n",
      "0.128900801493011\n",
      "0.09290526221524652\n",
      "0.22902450312066341\n",
      "0.241347636670109\n",
      "0.1092537574554303\n",
      "0.14792277367416995\n",
      "0.18926195613985974\n",
      "0.10745541380360203\n",
      "0.14273560573767846\n",
      "0.15310551856515658\n",
      "0.10426798674807469\n",
      "0.16705995904175333\n",
      "0.1064681073176747\n",
      "0.2267182124216277\n",
      "0.1321809277157106\n",
      "0.17817079890978638\n",
      "0.16434224841325687\n",
      "0.20031220165411104\n",
      "0.13000735775711234\n",
      "0.1171421504491575\n",
      "0.0996464386897862\n",
      "0.13957520909653867\n",
      "0.25050002087267903\n",
      "0.12491968141917913\n",
      "0.13228412550635518\n",
      "0.21145492872879756\n",
      "0.13945154924182368\n",
      "0.22517570425507852\n",
      "0.256779324887736\n",
      "0.0661301719542111\n",
      "0.07988397191912885\n",
      "0.13355008108879948\n",
      "0.1104956901743473\n",
      "0.09480028126438268\n",
      "0.16290512201101537\n",
      "0.12108608877826038\n",
      "0.13710940806433478\n",
      "0.18845517579053658\n",
      "0.10333695282724001\n",
      "0.19104667768695424\n",
      "0.09809143065843255\n",
      "0.1275000136202284\n",
      "0.14979168628053893\n",
      "0.11253914200036645\n",
      "0.13901678312287408\n",
      "0.11134239648546554\n",
      "0.2143622509478809\n",
      "0.16430693979545022\n",
      "0.07994187343244477\n",
      "0.22371353680410258\n",
      "0.13902943287116848\n",
      "0.1884374779116402\n",
      "0.1512869967337442\n",
      "0.21472938960547697\n",
      "0.18604982155193264\n",
      "0.15843846308630782\n",
      "0.14163129028930302\n",
      "0.06799504778739983\n",
      "0.11807898316703967\n",
      "0.07282315860690836\n",
      "0.11813139514107668\n",
      "0.10311941692961563\n",
      "0.16424504605839077\n",
      "0.17554943303787843\n",
      "0.19010028419847286\n",
      "0.09384419333668192\n",
      "0.09881349727886028\n",
      "0.12880618314511233\n",
      "0.20815748115797744\n",
      "0.13584888670937842\n",
      "0.16258979109561555\n",
      "0.12189687424382066\n",
      "0.1647792630454543\n",
      "0.14115686696035026\n",
      "0.2541847416411731\n",
      "0.16641844726159086\n",
      "0.20711142525239631\n",
      "0.13946371465428592\n",
      "0.10587114173203016\n",
      "0.15887499796848914\n",
      "0.2553132914192773\n",
      "0.09904318870151724\n",
      "0.2371746420188638\n",
      "0.07980405016552694\n",
      "0.050208325282631056\n",
      "0.09353020421150615\n",
      "0.11875124602595136\n",
      "0.19106265836968878\n",
      "0.13174515822883343\n",
      "0.11023729497898314\n",
      "0.18642168163315406\n",
      "0.08291346184682988\n",
      "0.1850321365852515\n",
      "0.13131776363694128\n",
      "0.14132784670984017\n",
      "0.19643725785807742\n",
      "0.12589874029222906\n",
      "0.16594173656339573\n",
      "0.0855375666495884\n",
      "0.06946520511703783\n",
      "0.14101517052532198\n",
      "0.12216616944095547\n",
      "0.1700622277186503\n",
      "0.10743230169242592\n",
      "0.1242374816328132\n",
      "0.05021325256031829\n",
      "0.10258535915413756\n",
      "0.2078230821642296\n",
      "0.10565255492428523\n",
      "0.1082853514349779\n",
      "0.10908110095192654\n",
      "0.12397261689692095\n",
      "0.15744648206091869\n",
      "0.0807556051627885\n",
      "0.0644092803962283\n",
      "0.07257649389201005\n",
      "0.24261959621140977\n",
      "0.15166072200833736\n",
      "0.06211788072065837\n",
      "0.13594519422447768\n",
      "0.14791301582810049\n",
      "0.07784931552636717\n",
      "0.1135486735288265\n",
      "0.16664372335574087\n",
      "0.11157523582693434\n",
      "0.17066069689161206\n",
      "0.08964152373039934\n",
      "0.2186099305653811\n",
      "0.09620993432647251\n",
      "0.2797402560720252\n",
      "0.11852358498438928\n",
      "0.09087846165080396\n",
      "0.20381984626817284\n",
      "0.21713454920775635\n",
      "0.07025115878660376\n",
      "0.15009692877702902\n",
      "0.12210845604907253\n",
      "0.16138904314532793\n",
      "0.1149202043269935\n",
      "0.21461271662307582\n",
      "0.12582168904039698\n",
      "0.14902928154868567\n",
      "0.13398357071399766\n",
      "0.1891803001006154\n",
      "0.1894802584531438\n",
      "0.0983777225340129\n",
      "0.04840377977547184\n",
      "0.06165854084982762\n",
      "0.04623091145993887\n",
      "0.08533622656672137\n",
      "0.11004598759550098\n",
      "0.15939729325188265\n",
      "0.10786123476085295\n",
      "0.10365522928427423\n",
      "0.18927676392203363\n",
      "0.13240946011488702\n",
      "0.11854394015874703\n",
      "0.18479886483263674\n",
      "0.11220352615435827\n",
      "0.1895670111784818\n",
      "0.22012658593223827\n",
      "0.128718209315532\n",
      "0.05044603885538258\n",
      "0.12740423494829953\n",
      "0.12375987754633426\n",
      "0.07824808560747191\n",
      "0.1553763967567154\n",
      "0.16101881791318054\n",
      "0.2336493720985818\n",
      "0.08510720163747858\n",
      "0.2166944993290376\n",
      "0.2187317904153861\n",
      "0.08760956596803793\n",
      "0.08592701100375966\n",
      "0.20127776005537873\n",
      "0.2577925170890156\n",
      "0.0915164151320127\n",
      "0.13642543042229946\n",
      "0.08800881592753708\n",
      "0.15089150406683308\n",
      "0.03641921010513865\n",
      "0.08752558793384865\n",
      "0.15211305377610113\n",
      "0.2515483852934975\n",
      "0.08670737677782958\n",
      "0.16459932218149456\n",
      "0.12138064207083643\n",
      "0.17264346858567156\n",
      "0.1622290775064795\n",
      "0.1831943125214486\n",
      "0.20932211183910118\n",
      "0.18099044422480523\n",
      "0.25307306260048223\n",
      "0.07591140039512764\n",
      "0.08316470411640317\n",
      "0.18878858970978726\n",
      "0.03641921010513865 284\n"
     ]
    }
   ],
   "source": [
    "max_v = 0\n",
    "max_i = 0\n",
    "min_i = 0\n",
    "min_v = 1\n",
    "b = 0.3307088631348539\n",
    "\n",
    "for i in range(300):\n",
    "    if i != 2 and i != 27 and i != 119 and i!= 201:\n",
    "        ans2 = rbf(sigma, X_train[2], X_train[i])\n",
    "        print(ans2)\n",
    "        if ans2 > max_v:\n",
    "            max_i = i\n",
    "            max_v = ans2\n",
    "        \n",
    "        if ans2 < min_v:\n",
    "            min_i = i\n",
    "            min_v = ans2\n",
    "        \n",
    "\n",
    "print(min_v, min_i)"
   ]
  },
  {
   "cell_type": "code",
   "execution_count": 55,
   "id": "73c47c6f",
   "metadata": {},
   "outputs": [
    {
     "data": {
      "text/plain": [
       "0.030321300263455597"
      ]
     },
     "execution_count": 55,
     "metadata": {},
     "output_type": "execute_result"
    }
   ],
   "source": [
    "rbf(sigma, X_train[2], X_train[201])"
   ]
  },
  {
   "cell_type": "code",
   "execution_count": null,
   "id": "28ce6cbf",
   "metadata": {},
   "outputs": [
    {
     "data": {
      "text/plain": [
       "298"
      ]
     },
     "execution_count": 153,
     "metadata": {},
     "output_type": "execute_result"
    }
   ],
   "source": [
    "idx_i"
   ]
  },
  {
   "cell_type": "code",
   "execution_count": null,
   "id": "ac8587b4",
   "metadata": {},
   "outputs": [
    {
     "data": {
      "text/plain": [
       "283"
      ]
     },
     "execution_count": 154,
     "metadata": {},
     "output_type": "execute_result"
    }
   ],
   "source": [
    "idx_j"
   ]
  },
  {
   "cell_type": "code",
   "execution_count": null,
   "id": "57296a64",
   "metadata": {},
   "outputs": [
    {
     "data": {
      "text/plain": [
       "0.05142079064547177"
      ]
     },
     "execution_count": 147,
     "metadata": {},
     "output_type": "execute_result"
    }
   ],
   "source": [
    "rbf(sigma, X_train[298], X_train[283])"
   ]
  },
  {
   "cell_type": "code",
   "execution_count": 54,
   "id": "796d2fa7",
   "metadata": {},
   "outputs": [
    {
     "data": {
      "text/plain": [
       "'ma'"
      ]
     },
     "execution_count": 54,
     "metadata": {},
     "output_type": "execute_result"
    }
   ],
   "source": [
    "y_train[201]"
   ]
  },
  {
   "cell_type": "code",
   "execution_count": 60,
   "id": "ef727d4e",
   "metadata": {},
   "outputs": [
    {
     "data": {
      "text/plain": [
       "array(['ba', 'ba', 'nya', 'ma', 'ma'], dtype='<U3')"
      ]
     },
     "execution_count": 60,
     "metadata": {},
     "output_type": "execute_result"
    }
   ],
   "source": [
    "test_X = np.array([\n",
    "    X_train[2],\n",
    "    X_train[27],\n",
    "    X_train[119],\n",
    "    X_train[201],\n",
    "    X_train[284]\n",
    "])\n",
    "\n",
    "test_y = np.array([\n",
    "    y_train[2],\n",
    "    y_train[27],\n",
    "    y_train[119],\n",
    "    y_train[201],\n",
    "    y_train[284]\n",
    "])\n",
    "\n",
    "test_y"
   ]
  },
  {
   "cell_type": "code",
   "execution_count": 61,
   "id": "a6d4acf8",
   "metadata": {},
   "outputs": [
    {
     "data": {
      "text/plain": [
       "array([ 1,  1, -1, -1, -1])"
      ]
     },
     "execution_count": 61,
     "metadata": {},
     "output_type": "execute_result"
    }
   ],
   "source": [
    "test_y = np.array([1, 1, -1, -1, -1])\n",
    "test_y"
   ]
  },
  {
   "cell_type": "code",
   "execution_count": 80,
   "id": "567f53c8",
   "metadata": {},
   "outputs": [],
   "source": [
    "# semua fungsi manual\n",
    "\n",
    "sigma = 15.81\n",
    "def rbf(sigma, x1, x2):\n",
    "    gamma = 1/(2*(sigma**2))\n",
    "    length = sum((x1 - x2) ** 2)\n",
    "    print(length)\n",
    "    result = math.exp(-gamma * length)\n",
    "    return result\n",
    "\n",
    "\n",
    "def calc_sigma(gamma):\n",
    "    result = math.sqrt(1/(2*gamma))\n",
    "    return result\n",
    "\n",
    "lambdaa = 0.5\n",
    "def hessian(y1, y2, k, lambdaa):\n",
    "    result = y1*y2*(k+(lambdaa**2))\n",
    "    return result\n",
    "\n",
    "def error(data, alfa):\n",
    "    result = sum(data * alfa)\n",
    "    return result\n",
    "\n",
    "gamma = 0.001\n",
    "var_C = 1\n",
    "def delta_alfa(gamma, var_C, alfa, error):\n",
    "    calc_max = max([gamma*(1-error), alfa])\n",
    "    calc_min = min([calc_max, var_C-alfa])\n",
    "    result = calc_min\n",
    "    return result\n",
    "\n",
    "def new_alfa(old_alfa, delta_alfa):\n",
    "    result = old_alfa + delta_alfa\n",
    "    return result"
   ]
  },
  {
   "cell_type": "code",
   "execution_count": 63,
   "id": "7c34e0b8",
   "metadata": {},
   "outputs": [
    {
     "data": {
      "text/plain": [
       "15.811388300841896"
      ]
     },
     "execution_count": 63,
     "metadata": {},
     "output_type": "execute_result"
    }
   ],
   "source": [
    "calc_sigma(0.002)"
   ]
  },
  {
   "cell_type": "code",
   "execution_count": 64,
   "id": "99ebceb8",
   "metadata": {},
   "outputs": [
    {
     "data": {
      "text/plain": [
       "0.002"
      ]
     },
     "execution_count": 64,
     "metadata": {},
     "output_type": "execute_result"
    }
   ],
   "source": [
    "# calc gamma\n",
    "1/(2 * (15.811388300841896 ** 2))"
   ]
  },
  {
   "cell_type": "code",
   "execution_count": 65,
   "id": "26c74022",
   "metadata": {},
   "outputs": [
    {
     "data": {
      "text/plain": [
       "array([[1.        , 0.33070886, 0.02627371, 0.0303213 , 0.03641921],\n",
       "       [0.33070886, 1.        , 0.02452981, 0.03978491, 0.04552518],\n",
       "       [0.02627371, 0.02452981, 1.        , 0.00481004, 0.00508454],\n",
       "       [0.0303213 , 0.03978491, 0.00481004, 1.        , 0.0541797 ],\n",
       "       [0.03641921, 0.04552518, 0.00508454, 0.0541797 , 1.        ]])"
      ]
     },
     "execution_count": 65,
     "metadata": {},
     "output_type": "execute_result"
    }
   ],
   "source": [
    "Matrix_RBF = np.zeros((5,5))\n",
    "\n",
    "for i in range(5):\n",
    "    for j in range(5):\n",
    "        Matrix_RBF[i][j] = rbf(sigma, test_X[i], test_X[j])\n",
    "\n",
    "Matrix_RBF"
   ]
  },
  {
   "cell_type": "code",
   "execution_count": 66,
   "id": "2ae8258f",
   "metadata": {},
   "outputs": [
    {
     "data": {
      "text/plain": [
       "array([[ 1.25      ,  0.58070886, -0.27627371, -0.2803213 , -0.28641921],\n",
       "       [ 0.58070886,  1.25      , -0.27452981, -0.28978491, -0.29552518],\n",
       "       [-0.27627371, -0.27452981,  1.25      ,  0.25481004,  0.25508454],\n",
       "       [-0.2803213 , -0.28978491,  0.25481004,  1.25      ,  0.3041797 ],\n",
       "       [-0.28641921, -0.29552518,  0.25508454,  0.3041797 ,  1.25      ]])"
      ]
     },
     "execution_count": 66,
     "metadata": {},
     "output_type": "execute_result"
    }
   ],
   "source": [
    "Hessian = np.zeros((5,5))\n",
    "\n",
    "for i in range(5):\n",
    "    for j in range(5):\n",
    "        Hessian[i][j] = hessian(test_y[i], test_y[j], Matrix_RBF[i][j], lambdaa)\n",
    "\n",
    "Hessian"
   ]
  },
  {
   "cell_type": "code",
   "execution_count": 67,
   "id": "04018ac5",
   "metadata": {},
   "outputs": [
    {
     "data": {
      "text/plain": [
       "array([0., 0., 0., 0., 0.])"
      ]
     },
     "execution_count": 67,
     "metadata": {},
     "output_type": "execute_result"
    }
   ],
   "source": [
    "# alfa = np.array([0.01, 0.01, 0.01, 0.01, 0.01])\n",
    "alfa = np.zeros(5)\n",
    "alfa"
   ]
  },
  {
   "cell_type": "code",
   "execution_count": 68,
   "id": "86e7fdd8",
   "metadata": {},
   "outputs": [
    {
     "data": {
      "text/plain": [
       "array([0., 0., 0., 0., 0.])"
      ]
     },
     "execution_count": 68,
     "metadata": {},
     "output_type": "execute_result"
    }
   ],
   "source": [
    "Error = np.zeros(5)\n",
    "\n",
    "for i in range(5):\n",
    "    Error[i] = error(Hessian[i], alfa[i])\n",
    "\n",
    "Error"
   ]
  },
  {
   "cell_type": "code",
   "execution_count": 69,
   "id": "3b9e5c58",
   "metadata": {},
   "outputs": [
    {
     "data": {
      "text/plain": [
       "array([0.001, 0.001, 0.001, 0.001, 0.001])"
      ]
     },
     "execution_count": 69,
     "metadata": {},
     "output_type": "execute_result"
    }
   ],
   "source": [
    "Delta_alfa = np.zeros(5)\n",
    "\n",
    "for i in range(5):\n",
    "    Delta_alfa[i] = delta_alfa(gamma, var_C, alfa[i], Error[i])\n",
    "\n",
    "Delta_alfa"
   ]
  },
  {
   "cell_type": "code",
   "execution_count": 70,
   "id": "19540628",
   "metadata": {},
   "outputs": [
    {
     "data": {
      "text/plain": [
       "array([0.001, 0.001, 0.001, 0.001, 0.001])"
      ]
     },
     "execution_count": 70,
     "metadata": {},
     "output_type": "execute_result"
    }
   ],
   "source": [
    "for i in range(5):\n",
    "    alfa[i] = new_alfa(alfa[i], Delta_alfa[i])\n",
    "\n",
    "alfa"
   ]
  },
  {
   "cell_type": "code",
   "execution_count": 71,
   "id": "5ed6e06a",
   "metadata": {},
   "outputs": [
    {
     "name": "stdout",
     "output_type": "stream",
     "text": [
      "[0.002 0.002 0.002 0.002 0.002]\n",
      "[0.004 0.004 0.004 0.004 0.004]\n",
      "[0.008 0.008 0.008 0.008 0.008]\n",
      "[0.016 0.016 0.016 0.016 0.016]\n",
      "[0.032 0.032 0.032 0.032 0.032]\n",
      "[0.064 0.064 0.064 0.064 0.064]\n",
      "[0.128 0.128 0.128 0.128 0.128]\n",
      "[0.256 0.256 0.256 0.256 0.256]\n",
      "[0.512 0.512 0.512 0.512 0.512]\n",
      "[1. 1. 1. 1. 1.]\n"
     ]
    }
   ],
   "source": [
    "iterasi = 10\n",
    "\n",
    "for x in range(iterasi):\n",
    "    Error = np.zeros(5)\n",
    "    for i in range(5):\n",
    "        Error[i] = error(Hessian[i], alfa[i])\n",
    "\n",
    "    Delta_alfa = np.zeros(5)\n",
    "    for i in range(5):\n",
    "        Delta_alfa[i] = delta_alfa(gamma, var_C, alfa[i], Error[i])\n",
    "\n",
    "    for i in range(5):\n",
    "        alfa[i] = new_alfa(alfa[i], Delta_alfa[i])\n",
    "\n",
    "    print(alfa)"
   ]
  },
  {
   "cell_type": "code",
   "execution_count": 78,
   "id": "bf10240c",
   "metadata": {},
   "outputs": [
    {
     "data": {
      "text/plain": [
       "2.379095948417858"
      ]
     },
     "execution_count": 78,
     "metadata": {},
     "output_type": "execute_result"
    }
   ],
   "source": [
    "RBF_pos = 0.0\n",
    "\n",
    "for i in Hessian[3]:\n",
    "    RBF_pos = RBF_pos + abs(i)\n",
    "\n",
    "RBF_pos"
   ]
  },
  {
   "cell_type": "code",
   "execution_count": 79,
   "id": "da20ce03",
   "metadata": {},
   "outputs": [
    {
     "data": {
      "text/plain": [
       "0.14731357"
      ]
     },
     "execution_count": 79,
     "metadata": {},
     "output_type": "execute_result"
    }
   ],
   "source": [
    "0.29462714 / 2"
   ]
  },
  {
   "cell_type": "code",
   "execution_count": 81,
   "id": "4a8510c2",
   "metadata": {},
   "outputs": [
    {
     "name": "stdout",
     "output_type": "stream",
     "text": [
      "785.3961240863327\n",
      "723.0861655487162\n",
      "1933.3561237306415\n",
      "1739.8237468096504\n",
      "1642.567455458484\n"
     ]
    },
    {
     "data": {
      "text/plain": [
       "array([0.20782308, 0.23541007, 0.02091285, 0.03079944, 0.03741394])"
      ]
     },
     "execution_count": 81,
     "metadata": {},
     "output_type": "execute_result"
    }
   ],
   "source": [
    "RBF_testing = np.zeros(5)\n",
    "\n",
    "for i in range(5):\n",
    "    RBF_testing[i] = rbf(sigma, X_train[211], test_X[i])\n",
    "\n",
    "RBF_testing"
   ]
  },
  {
   "cell_type": "code",
   "execution_count": 82,
   "id": "0378151b",
   "metadata": {},
   "outputs": [
    {
     "data": {
      "text/plain": [
       "0.20679335"
      ]
     },
     "execution_count": 82,
     "metadata": {},
     "output_type": "execute_result"
    }
   ],
   "source": [
    "(1*1*0.20782308)+(1*1*0.23541007)+(1*-1*0.02091285)+(1*-1*0.03079944)+(1*-1*0.03741394)+(-0.14731357)"
   ]
  },
  {
   "cell_type": "markdown",
   "id": "58716071",
   "metadata": {
    "id": "58716071"
   },
   "source": [
    "### SVM\n",
    "\n",
    "Using GridSearchCV for tuning parameter, with scenario:\n",
    "- 'C': \\[ 1, 3, 6, 10, 15 \\]\n",
    "- 'gamma': \\[ 'auto', 0.001, 0.0015, 0.0025, 0.003 \\]\n",
    "    - 'auto' = 1 / nfeatures"
   ]
  },
  {
   "cell_type": "markdown",
   "id": "d619d7b2",
   "metadata": {},
   "source": [
    "#### Load model"
   ]
  },
  {
   "cell_type": "code",
   "execution_count": 51,
   "id": "e4a3995a",
   "metadata": {},
   "outputs": [],
   "source": [
    "# Just load model without re-training if you want\n",
    "svm_ws = load_file_pickle(SVM_WS_FILE_PICKLE)"
   ]
  },
  {
   "cell_type": "code",
   "execution_count": 53,
   "id": "ba7680fc",
   "metadata": {
    "executionInfo": {
     "elapsed": 5,
     "status": "ok",
     "timestamp": 1648213230257,
     "user": {
      "displayName": "Rama Tri Agung",
      "photoUrl": "https://lh3.googleusercontent.com/a-/AOh14GhO5MpcihqCafTv8Tf9MUwRyHV6tO2uPdiXma2V=s64",
      "userId": "07374601175312417068"
     },
     "user_tz": -420
    },
    "id": "ba7680fc"
   },
   "outputs": [],
   "source": [
    "svm_ws_params = {\n",
    "    'C': [1, 3, 6, 10, 15],\n",
    "    'gamma': ['auto', 0.001, 0.0015, 0.0025, 0.003]\n",
    "}\n",
    "svm_ws = GridSearchCV(estimator=SVC(kernel='rbf', probability=True), param_grid=svm_ws_params, cv=5, verbose=3)"
   ]
  },
  {
   "cell_type": "code",
   "execution_count": 54,
   "id": "c80d381c",
   "metadata": {
    "colab": {
     "base_uri": "https://localhost:8080/"
    },
    "executionInfo": {
     "elapsed": 239531,
     "status": "ok",
     "timestamp": 1648213469785,
     "user": {
      "displayName": "Rama Tri Agung",
      "photoUrl": "https://lh3.googleusercontent.com/a-/AOh14GhO5MpcihqCafTv8Tf9MUwRyHV6tO2uPdiXma2V=s64",
      "userId": "07374601175312417068"
     },
     "user_tz": -420
    },
    "id": "c80d381c",
    "outputId": "2e18e718-49c6-420f-c71d-d24d55e0c11e",
    "scrolled": true
   },
   "outputs": [
    {
     "name": "stdout",
     "output_type": "stream",
     "text": [
      "Fitting 5 folds for each of 25 candidates, totalling 125 fits\n",
      "[CV 1/5] END ...................C=1, gamma=auto;, score=0.920 total time=   5.4s\n",
      "[CV 2/5] END ...................C=1, gamma=auto;, score=0.906 total time=   5.5s\n",
      "[CV 3/5] END ...................C=1, gamma=auto;, score=0.930 total time=   5.6s\n",
      "[CV 4/5] END ...................C=1, gamma=auto;, score=0.922 total time=   5.5s\n",
      "[CV 5/5] END ...................C=1, gamma=auto;, score=0.920 total time=   5.4s\n",
      "[CV 1/5] END ..................C=1, gamma=0.001;, score=0.910 total time=   4.8s\n",
      "[CV 2/5] END ..................C=1, gamma=0.001;, score=0.904 total time=   4.8s\n",
      "[CV 3/5] END ..................C=1, gamma=0.001;, score=0.920 total time=   4.8s\n",
      "[CV 4/5] END ..................C=1, gamma=0.001;, score=0.916 total time=   4.7s\n",
      "[CV 5/5] END ..................C=1, gamma=0.001;, score=0.910 total time=   4.8s\n",
      "[CV 1/5] END .................C=1, gamma=0.0015;, score=0.918 total time=   5.2s\n",
      "[CV 2/5] END .................C=1, gamma=0.0015;, score=0.908 total time=   5.3s\n",
      "[CV 3/5] END .................C=1, gamma=0.0015;, score=0.932 total time=   5.3s\n",
      "[CV 4/5] END .................C=1, gamma=0.0015;, score=0.920 total time=   5.1s\n",
      "[CV 5/5] END .................C=1, gamma=0.0015;, score=0.918 total time=   5.4s\n",
      "[CV 1/5] END .................C=1, gamma=0.0025;, score=0.912 total time=   6.0s\n",
      "[CV 2/5] END .................C=1, gamma=0.0025;, score=0.898 total time=   6.0s\n",
      "[CV 3/5] END .................C=1, gamma=0.0025;, score=0.930 total time=   5.9s\n",
      "[CV 4/5] END .................C=1, gamma=0.0025;, score=0.914 total time=   6.0s\n",
      "[CV 5/5] END .................C=1, gamma=0.0025;, score=0.910 total time=   5.9s\n",
      "[CV 1/5] END ..................C=1, gamma=0.003;, score=0.888 total time=   6.0s\n",
      "[CV 2/5] END ..................C=1, gamma=0.003;, score=0.882 total time=   6.0s\n",
      "[CV 3/5] END ..................C=1, gamma=0.003;, score=0.914 total time=   6.4s\n",
      "[CV 4/5] END ..................C=1, gamma=0.003;, score=0.904 total time=   6.3s\n",
      "[CV 5/5] END ..................C=1, gamma=0.003;, score=0.888 total time=   6.4s\n",
      "[CV 1/5] END ...................C=3, gamma=auto;, score=0.926 total time=   5.9s\n",
      "[CV 2/5] END ...................C=3, gamma=auto;, score=0.922 total time=   5.9s\n",
      "[CV 3/5] END ...................C=3, gamma=auto;, score=0.936 total time=   6.0s\n",
      "[CV 4/5] END ...................C=3, gamma=auto;, score=0.946 total time=   6.0s\n",
      "[CV 5/5] END ...................C=3, gamma=auto;, score=0.922 total time=   6.0s\n",
      "[CV 1/5] END ..................C=3, gamma=0.001;, score=0.930 total time=   5.2s\n",
      "[CV 2/5] END ..................C=3, gamma=0.001;, score=0.912 total time=   5.2s\n",
      "[CV 3/5] END ..................C=3, gamma=0.001;, score=0.926 total time=   5.2s\n",
      "[CV 4/5] END ..................C=3, gamma=0.001;, score=0.940 total time=   5.1s\n",
      "[CV 5/5] END ..................C=3, gamma=0.001;, score=0.930 total time=   5.3s\n",
      "[CV 1/5] END .................C=3, gamma=0.0015;, score=0.928 total time=   5.6s\n",
      "[CV 2/5] END .................C=3, gamma=0.0015;, score=0.920 total time=   5.6s\n",
      "[CV 3/5] END .................C=3, gamma=0.0015;, score=0.940 total time=   5.6s\n",
      "[CV 4/5] END .................C=3, gamma=0.0015;, score=0.950 total time=   5.6s\n",
      "[CV 5/5] END .................C=3, gamma=0.0015;, score=0.920 total time=   5.6s\n",
      "[CV 1/5] END .................C=3, gamma=0.0025;, score=0.918 total time=   6.1s\n",
      "[CV 2/5] END .................C=3, gamma=0.0025;, score=0.902 total time=   6.2s\n",
      "[CV 3/5] END .................C=3, gamma=0.0025;, score=0.918 total time=   6.3s\n",
      "[CV 4/5] END .................C=3, gamma=0.0025;, score=0.936 total time=   6.1s\n",
      "[CV 5/5] END .................C=3, gamma=0.0025;, score=0.918 total time=   6.3s\n",
      "[CV 1/5] END ..................C=3, gamma=0.003;, score=0.892 total time=   6.2s\n",
      "[CV 2/5] END ..................C=3, gamma=0.003;, score=0.886 total time=   6.2s\n",
      "[CV 3/5] END ..................C=3, gamma=0.003;, score=0.906 total time=   6.3s\n",
      "[CV 4/5] END ..................C=3, gamma=0.003;, score=0.922 total time=   6.5s\n",
      "[CV 5/5] END ..................C=3, gamma=0.003;, score=0.896 total time=   6.6s\n",
      "[CV 1/5] END ...................C=6, gamma=auto;, score=0.928 total time=   6.5s\n",
      "[CV 2/5] END ...................C=6, gamma=auto;, score=0.926 total time=   6.9s\n",
      "[CV 3/5] END ...................C=6, gamma=auto;, score=0.934 total time=   7.0s\n",
      "[CV 4/5] END ...................C=6, gamma=auto;, score=0.950 total time=   6.8s\n",
      "[CV 5/5] END ...................C=6, gamma=auto;, score=0.922 total time=   6.5s\n",
      "[CV 1/5] END ..................C=6, gamma=0.001;, score=0.930 total time=   5.4s\n",
      "[CV 2/5] END ..................C=6, gamma=0.001;, score=0.922 total time=   5.1s\n",
      "[CV 3/5] END ..................C=6, gamma=0.001;, score=0.930 total time=   5.1s\n",
      "[CV 4/5] END ..................C=6, gamma=0.001;, score=0.946 total time=   5.0s\n",
      "[CV 5/5] END ..................C=6, gamma=0.001;, score=0.932 total time=   5.1s\n",
      "[CV 1/5] END .................C=6, gamma=0.0015;, score=0.924 total time=   5.4s\n",
      "[CV 2/5] END .................C=6, gamma=0.0015;, score=0.928 total time=   5.5s\n",
      "[CV 3/5] END .................C=6, gamma=0.0015;, score=0.938 total time=   5.4s\n",
      "[CV 4/5] END .................C=6, gamma=0.0015;, score=0.950 total time=   5.3s\n",
      "[CV 5/5] END .................C=6, gamma=0.0015;, score=0.924 total time=   5.3s\n",
      "[CV 1/5] END .................C=6, gamma=0.0025;, score=0.918 total time=   5.8s\n",
      "[CV 2/5] END .................C=6, gamma=0.0025;, score=0.904 total time=   5.9s\n",
      "[CV 3/5] END .................C=6, gamma=0.0025;, score=0.918 total time=   5.9s\n",
      "[CV 4/5] END .................C=6, gamma=0.0025;, score=0.938 total time=   6.0s\n",
      "[CV 5/5] END .................C=6, gamma=0.0025;, score=0.914 total time=   5.9s\n",
      "[CV 1/5] END ..................C=6, gamma=0.003;, score=0.892 total time=   6.1s\n",
      "[CV 2/5] END ..................C=6, gamma=0.003;, score=0.886 total time=   6.1s\n",
      "[CV 3/5] END ..................C=6, gamma=0.003;, score=0.906 total time=   6.1s\n",
      "[CV 4/5] END ..................C=6, gamma=0.003;, score=0.922 total time=   6.1s\n",
      "[CV 5/5] END ..................C=6, gamma=0.003;, score=0.896 total time=   6.1s\n",
      "[CV 1/5] END ..................C=10, gamma=auto;, score=0.928 total time=   5.8s\n",
      "[CV 2/5] END ..................C=10, gamma=auto;, score=0.926 total time=   5.9s\n",
      "[CV 3/5] END ..................C=10, gamma=auto;, score=0.934 total time=   5.9s\n",
      "[CV 4/5] END ..................C=10, gamma=auto;, score=0.950 total time=   5.7s\n",
      "[CV 5/5] END ..................C=10, gamma=auto;, score=0.922 total time=   5.9s\n",
      "[CV 1/5] END .................C=10, gamma=0.001;, score=0.928 total time=   5.3s\n",
      "[CV 2/5] END .................C=10, gamma=0.001;, score=0.920 total time=   5.5s\n",
      "[CV 3/5] END .................C=10, gamma=0.001;, score=0.926 total time=   5.3s\n",
      "[CV 4/5] END .................C=10, gamma=0.001;, score=0.944 total time=   5.2s\n",
      "[CV 5/5] END .................C=10, gamma=0.001;, score=0.932 total time=   5.4s\n",
      "[CV 1/5] END ................C=10, gamma=0.0015;, score=0.924 total time=   5.5s\n",
      "[CV 2/5] END ................C=10, gamma=0.0015;, score=0.928 total time=   5.8s\n",
      "[CV 3/5] END ................C=10, gamma=0.0015;, score=0.938 total time=   5.6s\n",
      "[CV 4/5] END ................C=10, gamma=0.0015;, score=0.950 total time=   5.5s\n",
      "[CV 5/5] END ................C=10, gamma=0.0015;, score=0.924 total time=   5.7s\n",
      "[CV 1/5] END ................C=10, gamma=0.0025;, score=0.918 total time=   6.1s\n",
      "[CV 2/5] END ................C=10, gamma=0.0025;, score=0.904 total time=   6.1s\n",
      "[CV 3/5] END ................C=10, gamma=0.0025;, score=0.918 total time=   6.0s\n",
      "[CV 4/5] END ................C=10, gamma=0.0025;, score=0.938 total time=   6.2s\n",
      "[CV 5/5] END ................C=10, gamma=0.0025;, score=0.914 total time=   6.2s\n",
      "[CV 1/5] END .................C=10, gamma=0.003;, score=0.892 total time=   6.3s\n",
      "[CV 2/5] END .................C=10, gamma=0.003;, score=0.886 total time=   6.4s\n",
      "[CV 3/5] END .................C=10, gamma=0.003;, score=0.906 total time=   6.4s\n",
      "[CV 4/5] END .................C=10, gamma=0.003;, score=0.922 total time=   6.5s\n",
      "[CV 5/5] END .................C=10, gamma=0.003;, score=0.896 total time=   6.5s\n",
      "[CV 1/5] END ..................C=15, gamma=auto;, score=0.928 total time=   5.9s\n",
      "[CV 2/5] END ..................C=15, gamma=auto;, score=0.926 total time=   6.9s\n",
      "[CV 3/5] END ..................C=15, gamma=auto;, score=0.934 total time=   6.4s\n",
      "[CV 4/5] END ..................C=15, gamma=auto;, score=0.950 total time=   6.5s\n",
      "[CV 5/5] END ..................C=15, gamma=auto;, score=0.922 total time=   6.2s\n",
      "[CV 1/5] END .................C=15, gamma=0.001;, score=0.928 total time=   5.2s\n",
      "[CV 2/5] END .................C=15, gamma=0.001;, score=0.920 total time=   5.4s\n",
      "[CV 3/5] END .................C=15, gamma=0.001;, score=0.926 total time=   5.3s\n",
      "[CV 4/5] END .................C=15, gamma=0.001;, score=0.944 total time=   5.7s\n",
      "[CV 5/5] END .................C=15, gamma=0.001;, score=0.932 total time=   5.9s\n",
      "[CV 1/5] END ................C=15, gamma=0.0015;, score=0.924 total time=   6.1s\n",
      "[CV 2/5] END ................C=15, gamma=0.0015;, score=0.928 total time=   5.8s\n",
      "[CV 3/5] END ................C=15, gamma=0.0015;, score=0.938 total time=   6.0s\n",
      "[CV 4/5] END ................C=15, gamma=0.0015;, score=0.950 total time=   6.0s\n",
      "[CV 5/5] END ................C=15, gamma=0.0015;, score=0.924 total time=   7.9s\n",
      "[CV 1/5] END ................C=15, gamma=0.0025;, score=0.918 total time=   6.7s\n",
      "[CV 2/5] END ................C=15, gamma=0.0025;, score=0.904 total time=   6.7s\n",
      "[CV 3/5] END ................C=15, gamma=0.0025;, score=0.918 total time=   6.6s\n",
      "[CV 4/5] END ................C=15, gamma=0.0025;, score=0.938 total time=   6.5s\n",
      "[CV 5/5] END ................C=15, gamma=0.0025;, score=0.914 total time=   6.4s\n",
      "[CV 1/5] END .................C=15, gamma=0.003;, score=0.892 total time=   6.5s\n",
      "[CV 2/5] END .................C=15, gamma=0.003;, score=0.886 total time=   6.6s\n",
      "[CV 3/5] END .................C=15, gamma=0.003;, score=0.906 total time=   6.8s\n",
      "[CV 4/5] END .................C=15, gamma=0.003;, score=0.922 total time=   7.3s\n",
      "[CV 5/5] END .................C=15, gamma=0.003;, score=0.896 total time=   6.9s\n"
     ]
    },
    {
     "data": {
      "text/plain": [
       "GridSearchCV(cv=5, estimator=SVC(probability=True),\n",
       "             param_grid={'C': [1, 3, 6, 10, 15],\n",
       "                         'gamma': ['auto', 0.001, 0.0015, 0.0025, 0.003]},\n",
       "             verbose=3)"
      ]
     },
     "execution_count": 54,
     "metadata": {},
     "output_type": "execute_result"
    }
   ],
   "source": [
    "svm_ws.fit(X_train, y_train)"
   ]
  },
  {
   "cell_type": "code",
   "execution_count": 55,
   "id": "lyalc_iR_e0d",
   "metadata": {
    "colab": {
     "base_uri": "https://localhost:8080/"
    },
    "executionInfo": {
     "elapsed": 25,
     "status": "ok",
     "timestamp": 1648213469785,
     "user": {
      "displayName": "Rama Tri Agung",
      "photoUrl": "https://lh3.googleusercontent.com/a-/AOh14GhO5MpcihqCafTv8Tf9MUwRyHV6tO2uPdiXma2V=s64",
      "userId": "07374601175312417068"
     },
     "user_tz": -420
    },
    "id": "lyalc_iR_e0d",
    "outputId": "7e18bc20-fb83-4c15-b27e-5b47236af547"
   },
   "outputs": [
    {
     "name": "stdout",
     "output_type": "stream",
     "text": [
      "Best Model: SVC(C=6, gamma=0.0015, probability=True)\n",
      "Best CV Score: 0.9327695390781564\n"
     ]
    }
   ],
   "source": [
    "print(\"Best Model:\", svm_ws.best_estimator_)\n",
    "print(\"Best CV Score:\", svm_ws.best_score_)"
   ]
  },
  {
   "cell_type": "markdown",
   "id": "8d31dd96",
   "metadata": {},
   "source": [
    "#### All result score CV from tuning parameter SVM"
   ]
  },
  {
   "cell_type": "code",
   "execution_count": 56,
   "id": "77F7WcPS_hod",
   "metadata": {
    "colab": {
     "base_uri": "https://localhost:8080/",
     "height": 865
    },
    "executionInfo": {
     "elapsed": 24,
     "status": "ok",
     "timestamp": 1648213469786,
     "user": {
      "displayName": "Rama Tri Agung",
      "photoUrl": "https://lh3.googleusercontent.com/a-/AOh14GhO5MpcihqCafTv8Tf9MUwRyHV6tO2uPdiXma2V=s64",
      "userId": "07374601175312417068"
     },
     "user_tz": -420
    },
    "id": "77F7WcPS_hod",
    "outputId": "fdd8f0d5-8cf5-45cd-97a1-eb17096d36bf"
   },
   "outputs": [
    {
     "data": {
      "text/html": [
       "<div>\n",
       "<style scoped>\n",
       "    .dataframe tbody tr th:only-of-type {\n",
       "        vertical-align: middle;\n",
       "    }\n",
       "\n",
       "    .dataframe tbody tr th {\n",
       "        vertical-align: top;\n",
       "    }\n",
       "\n",
       "    .dataframe thead th {\n",
       "        text-align: right;\n",
       "    }\n",
       "</style>\n",
       "<table border=\"1\" class=\"dataframe\">\n",
       "  <thead>\n",
       "    <tr style=\"text-align: right;\">\n",
       "      <th></th>\n",
       "      <th>params</th>\n",
       "      <th>rank_test_score</th>\n",
       "      <th>mean_test_score</th>\n",
       "      <th>std_test_score</th>\n",
       "    </tr>\n",
       "    <tr>\n",
       "      <th>kernel</th>\n",
       "      <th></th>\n",
       "      <th></th>\n",
       "      <th></th>\n",
       "      <th></th>\n",
       "    </tr>\n",
       "  </thead>\n",
       "  <tbody>\n",
       "    <tr>\n",
       "      <th>6_0.0015</th>\n",
       "      <td>{'C': 6, 'gamma': 0.0015}</td>\n",
       "      <td>1</td>\n",
       "      <td>0.932770</td>\n",
       "      <td>0.010035</td>\n",
       "    </tr>\n",
       "    <tr>\n",
       "      <th>15_0.0015</th>\n",
       "      <td>{'C': 15, 'gamma': 0.0015}</td>\n",
       "      <td>1</td>\n",
       "      <td>0.932770</td>\n",
       "      <td>0.010035</td>\n",
       "    </tr>\n",
       "    <tr>\n",
       "      <th>10_0.0015</th>\n",
       "      <td>{'C': 10, 'gamma': 0.0015}</td>\n",
       "      <td>1</td>\n",
       "      <td>0.932770</td>\n",
       "      <td>0.010035</td>\n",
       "    </tr>\n",
       "    <tr>\n",
       "      <th>6_0.001</th>\n",
       "      <td>{'C': 6, 'gamma': 0.001}</td>\n",
       "      <td>4</td>\n",
       "      <td>0.931973</td>\n",
       "      <td>0.007798</td>\n",
       "    </tr>\n",
       "    <tr>\n",
       "      <th>15_auto</th>\n",
       "      <td>{'C': 15, 'gamma': 'auto'}</td>\n",
       "      <td>5</td>\n",
       "      <td>0.931969</td>\n",
       "      <td>0.009830</td>\n",
       "    </tr>\n",
       "    <tr>\n",
       "      <th>10_auto</th>\n",
       "      <td>{'C': 10, 'gamma': 'auto'}</td>\n",
       "      <td>5</td>\n",
       "      <td>0.931969</td>\n",
       "      <td>0.009830</td>\n",
       "    </tr>\n",
       "    <tr>\n",
       "      <th>6_auto</th>\n",
       "      <td>{'C': 6, 'gamma': 'auto'}</td>\n",
       "      <td>5</td>\n",
       "      <td>0.931969</td>\n",
       "      <td>0.009830</td>\n",
       "    </tr>\n",
       "    <tr>\n",
       "      <th>3_0.0015</th>\n",
       "      <td>{'C': 3, 'gamma': 0.0015}</td>\n",
       "      <td>8</td>\n",
       "      <td>0.931568</td>\n",
       "      <td>0.011789</td>\n",
       "    </tr>\n",
       "    <tr>\n",
       "      <th>3_auto</th>\n",
       "      <td>{'C': 3, 'gamma': 'auto'}</td>\n",
       "      <td>9</td>\n",
       "      <td>0.930369</td>\n",
       "      <td>0.009358</td>\n",
       "    </tr>\n",
       "    <tr>\n",
       "      <th>15_0.001</th>\n",
       "      <td>{'C': 15, 'gamma': 0.001}</td>\n",
       "      <td>10</td>\n",
       "      <td>0.929973</td>\n",
       "      <td>0.007993</td>\n",
       "    </tr>\n",
       "    <tr>\n",
       "      <th>10_0.001</th>\n",
       "      <td>{'C': 10, 'gamma': 0.001}</td>\n",
       "      <td>10</td>\n",
       "      <td>0.929973</td>\n",
       "      <td>0.007993</td>\n",
       "    </tr>\n",
       "    <tr>\n",
       "      <th>3_0.001</th>\n",
       "      <td>{'C': 3, 'gamma': 0.001}</td>\n",
       "      <td>12</td>\n",
       "      <td>0.927572</td>\n",
       "      <td>0.009061</td>\n",
       "    </tr>\n",
       "    <tr>\n",
       "      <th>1_auto</th>\n",
       "      <td>{'C': 1, 'gamma': 'auto'}</td>\n",
       "      <td>13</td>\n",
       "      <td>0.919568</td>\n",
       "      <td>0.007734</td>\n",
       "    </tr>\n",
       "    <tr>\n",
       "      <th>1_0.0015</th>\n",
       "      <td>{'C': 1, 'gamma': 0.0015}</td>\n",
       "      <td>14</td>\n",
       "      <td>0.919167</td>\n",
       "      <td>0.007658</td>\n",
       "    </tr>\n",
       "    <tr>\n",
       "      <th>3_0.0025</th>\n",
       "      <td>{'C': 3, 'gamma': 0.0025}</td>\n",
       "      <td>15</td>\n",
       "      <td>0.918367</td>\n",
       "      <td>0.010764</td>\n",
       "    </tr>\n",
       "    <tr>\n",
       "      <th>6_0.0025</th>\n",
       "      <td>{'C': 6, 'gamma': 0.0025}</td>\n",
       "      <td>16</td>\n",
       "      <td>0.918366</td>\n",
       "      <td>0.011070</td>\n",
       "    </tr>\n",
       "    <tr>\n",
       "      <th>10_0.0025</th>\n",
       "      <td>{'C': 10, 'gamma': 0.0025}</td>\n",
       "      <td>16</td>\n",
       "      <td>0.918366</td>\n",
       "      <td>0.011070</td>\n",
       "    </tr>\n",
       "    <tr>\n",
       "      <th>15_0.0025</th>\n",
       "      <td>{'C': 15, 'gamma': 0.0025}</td>\n",
       "      <td>16</td>\n",
       "      <td>0.918366</td>\n",
       "      <td>0.011070</td>\n",
       "    </tr>\n",
       "    <tr>\n",
       "      <th>1_0.0025</th>\n",
       "      <td>{'C': 1, 'gamma': 0.0025}</td>\n",
       "      <td>19</td>\n",
       "      <td>0.912764</td>\n",
       "      <td>0.010255</td>\n",
       "    </tr>\n",
       "    <tr>\n",
       "      <th>1_0.001</th>\n",
       "      <td>{'C': 1, 'gamma': 0.001}</td>\n",
       "      <td>20</td>\n",
       "      <td>0.911964</td>\n",
       "      <td>0.005527</td>\n",
       "    </tr>\n",
       "    <tr>\n",
       "      <th>6_0.003</th>\n",
       "      <td>{'C': 6, 'gamma': 0.003}</td>\n",
       "      <td>21</td>\n",
       "      <td>0.900358</td>\n",
       "      <td>0.012626</td>\n",
       "    </tr>\n",
       "    <tr>\n",
       "      <th>3_0.003</th>\n",
       "      <td>{'C': 3, 'gamma': 0.003}</td>\n",
       "      <td>21</td>\n",
       "      <td>0.900358</td>\n",
       "      <td>0.012626</td>\n",
       "    </tr>\n",
       "    <tr>\n",
       "      <th>10_0.003</th>\n",
       "      <td>{'C': 10, 'gamma': 0.003}</td>\n",
       "      <td>21</td>\n",
       "      <td>0.900358</td>\n",
       "      <td>0.012626</td>\n",
       "    </tr>\n",
       "    <tr>\n",
       "      <th>15_0.003</th>\n",
       "      <td>{'C': 15, 'gamma': 0.003}</td>\n",
       "      <td>21</td>\n",
       "      <td>0.900358</td>\n",
       "      <td>0.012626</td>\n",
       "    </tr>\n",
       "    <tr>\n",
       "      <th>1_0.003</th>\n",
       "      <td>{'C': 1, 'gamma': 0.003}</td>\n",
       "      <td>25</td>\n",
       "      <td>0.895155</td>\n",
       "      <td>0.011934</td>\n",
       "    </tr>\n",
       "  </tbody>\n",
       "</table>\n",
       "</div>"
      ],
      "text/plain": [
       "                               params  rank_test_score  mean_test_score  \\\n",
       "kernel                                                                    \n",
       "6_0.0015    {'C': 6, 'gamma': 0.0015}                1         0.932770   \n",
       "15_0.0015  {'C': 15, 'gamma': 0.0015}                1         0.932770   \n",
       "10_0.0015  {'C': 10, 'gamma': 0.0015}                1         0.932770   \n",
       "6_0.001      {'C': 6, 'gamma': 0.001}                4         0.931973   \n",
       "15_auto    {'C': 15, 'gamma': 'auto'}                5         0.931969   \n",
       "10_auto    {'C': 10, 'gamma': 'auto'}                5         0.931969   \n",
       "6_auto      {'C': 6, 'gamma': 'auto'}                5         0.931969   \n",
       "3_0.0015    {'C': 3, 'gamma': 0.0015}                8         0.931568   \n",
       "3_auto      {'C': 3, 'gamma': 'auto'}                9         0.930369   \n",
       "15_0.001    {'C': 15, 'gamma': 0.001}               10         0.929973   \n",
       "10_0.001    {'C': 10, 'gamma': 0.001}               10         0.929973   \n",
       "3_0.001      {'C': 3, 'gamma': 0.001}               12         0.927572   \n",
       "1_auto      {'C': 1, 'gamma': 'auto'}               13         0.919568   \n",
       "1_0.0015    {'C': 1, 'gamma': 0.0015}               14         0.919167   \n",
       "3_0.0025    {'C': 3, 'gamma': 0.0025}               15         0.918367   \n",
       "6_0.0025    {'C': 6, 'gamma': 0.0025}               16         0.918366   \n",
       "10_0.0025  {'C': 10, 'gamma': 0.0025}               16         0.918366   \n",
       "15_0.0025  {'C': 15, 'gamma': 0.0025}               16         0.918366   \n",
       "1_0.0025    {'C': 1, 'gamma': 0.0025}               19         0.912764   \n",
       "1_0.001      {'C': 1, 'gamma': 0.001}               20         0.911964   \n",
       "6_0.003      {'C': 6, 'gamma': 0.003}               21         0.900358   \n",
       "3_0.003      {'C': 3, 'gamma': 0.003}               21         0.900358   \n",
       "10_0.003    {'C': 10, 'gamma': 0.003}               21         0.900358   \n",
       "15_0.003    {'C': 15, 'gamma': 0.003}               21         0.900358   \n",
       "1_0.003      {'C': 1, 'gamma': 0.003}               25         0.895155   \n",
       "\n",
       "           std_test_score  \n",
       "kernel                     \n",
       "6_0.0015         0.010035  \n",
       "15_0.0015        0.010035  \n",
       "10_0.0015        0.010035  \n",
       "6_0.001          0.007798  \n",
       "15_auto          0.009830  \n",
       "10_auto          0.009830  \n",
       "6_auto           0.009830  \n",
       "3_0.0015         0.011789  \n",
       "3_auto           0.009358  \n",
       "15_0.001         0.007993  \n",
       "10_0.001         0.007993  \n",
       "3_0.001          0.009061  \n",
       "1_auto           0.007734  \n",
       "1_0.0015         0.007658  \n",
       "3_0.0025         0.010764  \n",
       "6_0.0025         0.011070  \n",
       "10_0.0025        0.011070  \n",
       "15_0.0025        0.011070  \n",
       "1_0.0025         0.010255  \n",
       "1_0.001          0.005527  \n",
       "6_0.003          0.012626  \n",
       "3_0.003          0.012626  \n",
       "10_0.003         0.012626  \n",
       "15_0.003         0.012626  \n",
       "1_0.003          0.011934  "
      ]
     },
     "execution_count": 56,
     "metadata": {},
     "output_type": "execute_result"
    }
   ],
   "source": [
    "cv_results_df = pd.DataFrame(svm_ws.cv_results_)\n",
    "cv_results_df = cv_results_df.sort_values(by=['rank_test_score'])\n",
    "cv_results_df = (\n",
    "    cv_results_df\n",
    "    .set_index(cv_results_df[\"params\"].apply(\n",
    "        lambda x: \"_\".join(str(val) for val in x.values()))\n",
    "    )\n",
    "    .rename_axis('kernel')\n",
    ")\n",
    "cv_results_df[\n",
    "    ['params', 'rank_test_score', 'mean_test_score', 'std_test_score']\n",
    "]"
   ]
  },
  {
   "cell_type": "markdown",
   "id": "637d2a06",
   "metadata": {},
   "source": [
    "#### Save model"
   ]
  },
  {
   "cell_type": "code",
   "execution_count": 57,
   "id": "79cedb44",
   "metadata": {},
   "outputs": [],
   "source": [
    "# Just save model for future used\n",
    "save_file_pickle(SVM_WS_FILE_PICKLE)"
   ]
  },
  {
   "cell_type": "markdown",
   "id": "a2904916",
   "metadata": {},
   "source": [
    "### Predict Data Testing\n",
    "\n",
    "Using SVC(C=6, gamma=0.0015)"
   ]
  },
  {
   "cell_type": "code",
   "execution_count": 59,
   "id": "rrF-6ztW_kSb",
   "metadata": {
    "executionInfo": {
     "elapsed": 16,
     "status": "ok",
     "timestamp": 1648213469786,
     "user": {
      "displayName": "Rama Tri Agung",
      "photoUrl": "https://lh3.googleusercontent.com/a-/AOh14GhO5MpcihqCafTv8Tf9MUwRyHV6tO2uPdiXma2V=s64",
      "userId": "07374601175312417068"
     },
     "user_tz": -420
    },
    "id": "rrF-6ztW_kSb"
   },
   "outputs": [],
   "source": [
    "y_pred = svm_ws.predict(X_test)"
   ]
  },
  {
   "cell_type": "code",
   "execution_count": 60,
   "id": "9f2b0992",
   "metadata": {},
   "outputs": [
    {
     "data": {
      "text/plain": [
       "array([[1.60624451e-02, 1.09708268e-01, 1.75411787e-02, 9.61103724e-03,\n",
       "        2.00615100e-03, 2.71737351e-03, 8.67709895e-03, 2.71169659e-02,\n",
       "        4.09041240e-03, 4.51808458e-03, 1.78659505e-02, 2.97333553e-03,\n",
       "        3.17240207e-02, 8.10235378e-04, 4.33904868e-04, 7.04596738e-01,\n",
       "        1.17439273e-02, 1.86947116e-02, 2.75397117e-03, 6.35418954e-03]])"
      ]
     },
     "execution_count": 60,
     "metadata": {},
     "output_type": "execute_result"
    }
   ],
   "source": [
    "test = svm_ws.predict_proba(np.reshape(X_test[0], (1, -1)))\n",
    "test"
   ]
  },
  {
   "cell_type": "markdown",
   "id": "1f0f9b3d",
   "metadata": {},
   "source": [
    "#### Heatmap result predict"
   ]
  },
  {
   "cell_type": "code",
   "execution_count": 61,
   "id": "41a647f0",
   "metadata": {},
   "outputs": [
    {
     "data": {
      "image/png": "[encoded data removed]",
      "text/plain": [
       "<Figure size 1224x792 with 1 Axes>"
      ]
     },
     "metadata": {
      "needs_background": "light"
     },
     "output_type": "display_data"
    }
   ],
   "source": [
    "conf_ws = pd.DataFrame(confusion_matrix(y_test, y_pred), columns=hanacaraka, index=hanacaraka)\n",
    "\n",
    "plt.figure(figsize=(17,11))\n",
    "\n",
    "res = sns.heatmap(conf_ws, annot=True, fmt=\"g\", cmap=\"Blues\", cbar=False)\n",
    "res.set_yticklabels(res.get_ymajorticklabels(), fontsize = 14)\n",
    "res.set_xticklabels(res.get_xmajorticklabels(), fontsize = 14)\n",
    "\n",
    "plt.xlabel(\"Predicted\")\n",
    "plt.ylabel(\"Actual\")\n",
    "plt.title(\"Confusion Matrix Plot\")\n",
    "plt.show()"
   ]
  },
  {
   "cell_type": "code",
   "execution_count": 62,
   "id": "6622e3e2",
   "metadata": {
    "colab": {
     "base_uri": "https://localhost:8080/"
    },
    "executionInfo": {
     "elapsed": 16,
     "status": "ok",
     "timestamp": 1648213469787,
     "user": {
      "displayName": "Rama Tri Agung",
      "photoUrl": "https://lh3.googleusercontent.com/a-/AOh14GhO5MpcihqCafTv8Tf9MUwRyHV6tO2uPdiXma2V=s64",
      "userId": "07374601175312417068"
     },
     "user_tz": -420
    },
    "id": "6622e3e2",
    "outputId": "22122fe7-ac04-470f-9faa-f3839d1d29ac",
    "scrolled": false
   },
   "outputs": [
    {
     "name": "stdout",
     "output_type": "stream",
     "text": [
      "Classification report result:\n",
      "              precision    recall  f1-score   support\n",
      "\n",
      "          ba       0.95      0.95      0.95        21\n",
      "          ca       0.92      0.92      0.92        26\n",
      "          da       0.92      1.00      0.96        23\n",
      "         dha       1.00      1.00      1.00        28\n",
      "          ga       1.00      1.00      1.00        20\n",
      "          ha       0.76      0.84      0.80        19\n",
      "          ja       1.00      1.00      1.00        13\n",
      "          ka       1.00      0.93      0.96        28\n",
      "          la       0.92      0.88      0.90        25\n",
      "          ma       1.00      1.00      1.00        22\n",
      "          na       0.90      0.90      0.90        20\n",
      "         nga       0.95      1.00      0.98        21\n",
      "         nya       1.00      0.95      0.98        21\n",
      "          pa       1.00      1.00      1.00        18\n",
      "          ra       0.96      0.96      0.96        24\n",
      "          sa       0.92      0.92      0.92        25\n",
      "          ta       0.96      0.92      0.94        25\n",
      "         tha       1.00      0.95      0.98        22\n",
      "          wa       0.95      1.00      0.98        21\n",
      "          ya       1.00      1.00      1.00        19\n",
      "\n",
      "    accuracy                           0.95       441\n",
      "   macro avg       0.96      0.96      0.96       441\n",
      "weighted avg       0.96      0.95      0.95       441\n",
      "\n"
     ]
    }
   ],
   "source": [
    "class_rep_ws = classification_report(y_test, y_pred)\n",
    "\n",
    "print(\"Classification report result:\")\n",
    "print(class_rep_ws)"
   ]
  },
  {
   "cell_type": "markdown",
   "id": "de4810dd",
   "metadata": {},
   "source": [
    "### Result Accuracy Score for SVM with SIFT"
   ]
  },
  {
   "cell_type": "code",
   "execution_count": 63,
   "id": "fb12b508",
   "metadata": {},
   "outputs": [
    {
     "name": "stdout",
     "output_type": "stream",
     "text": [
      "Accuracy score: 0.9546485260770975\n"
     ]
    }
   ],
   "source": [
    "acc_ws = accuracy_score(y_test, y_pred)\n",
    "print(\"Accuracy score:\", acc_ws)"
   ]
  },
  {
   "cell_type": "markdown",
   "id": "c3e86b5b",
   "metadata": {},
   "source": [
    "# Note for Result SIFT With SVM"
   ]
  },
  {
   "cell_type": "markdown",
   "id": "6NbhunaQV9pq",
   "metadata": {
    "id": "6NbhunaQV9pq"
   },
   "source": [
    "### Testing Scenario\n",
    "- Img = \\[ 64, 96, 128, 164, 192, 224 \\]\n",
    "  - Img prep = Greyscale, Equalization\n",
    "- K = \\[ 1000, 700, 500, 350, 240, 180 \\]\n",
    "- C = \\[ 1, 3, 6, 10, 15\\]\n",
    "- G = \\[ 'auto', 0.001, 0.0015, 0.0025, 0.003 \\]"
   ]
  },
  {
   "cell_type": "markdown",
   "id": "6f652705",
   "metadata": {
    "id": "6f652705"
   },
   "source": [
    "### Result:\n",
    "- Img = (25,25), K = 180, SVM = 0.61\n",
    "- Img = (28,28), K = 140, SVM = 0.59\n",
    "- Img = (32,32), K = 140, SVM = 0.69\n",
    "- Img = (64,64), K = 180, SVM = 0.89\n",
    "- Img = (64,64), K = 240, SVM = .89:.90\n",
    "- Img = (96,96), K = 240, SVM = .89:.89\n",
    "- Img = (128,128), K = 140, SVM = .87:.89\n",
    "- Img = (128,128), K = 180, SVM = .88:.93\n",
    "- Img = (128,128), K = 240, SVM = .90:.95\n",
    "- Img = (128,128), K = 350, SVM = .91:.94\n",
    "- Img = (128,128), K = 500, SVM = .92:.95\n",
    "- Img = (128,128), K = 700, SVM = .92:.94\n",
    "- Img = (128,128), K = 1000, SVM = .92:.94\n",
    "- Img = (164,164), K = 240, SVM = .90:.91\n",
    "- Img = (192,192), K = 240, SVM = .90:.92\n",
    "- Img = (224,224), K = 240, SVM = .88:.90\n",
    "\n",
    "\n",
    "======================================\n",
    "\n",
    "- Img = (128,128), K = 60, KNN = 0.69, SVM = 0.82\n",
    "- Img = (128,128), K = 80, KNN = 0.71, SVM = 0.88\n",
    "- Img = (128,128), K = 100, KNN = 0.76, SVM = 0.90\n",
    "- Img = (128,128), K = 120, KNN = 0.74, SVM = 0.91\n",
    "- Img = (128,128), K = 140, KNN = 0.78, SVM = 0.92\n",
    "- Img = (128,128), K = 160, KNN = 0.76, SVM = 0.93\n",
    "- Img = (128,128), K = 180, KNN = 0.75, SVM = 0.92\n",
    "- Img = (128,128), K = 200, KNN = 0.75, SVM = 0.94 (G,T) / 0.92 (G,E) / 0.86 (G,E,T) / 0.86 (G,T,E)\n",
    "- Img = (128,128), K = 240, KNN = 0.76, SVM = 0.96 (G,T) / 0.90:0.94 (G,E)\n",
    "- Img = (128,128), K = 350, KNN = 0.75, SVM = 0.94\n",
    "- Img = (128,128), K = 500, KNN = 0.76, SVM = 0.97\n",
    "- Img = (128,128), K = 700, KNN = 0.71, SVM = 0.95\n",
    "- Img = (128,128), K = 1000, KNN = 0.63, SVM = 0.95\n"
   ]
  },
  {
   "cell_type": "markdown",
   "id": "FEwl7fHNW0i7",
   "metadata": {
    "id": "FEwl7fHNW0i7"
   },
   "source": [
    "### Conclusion\n",
    "- Best image : 128x128\n",
    "  1. 128: .90:.94\n",
    "  2. 192: .90:.92\n",
    "  3. 164: .90:.91\n",
    "  4. 64: .89:.90\n",
    "  5. 96: .89:.89\n",
    "  6. 224: .88:.90\n",
    "- Best K val : 500 \n",
    "  1. 500 : .92:.95\n",
    "  2. 240 : .90:.95\n",
    "  3. 700 : .92:.94\n",
    "  4. 1000 : .92:.94\n",
    "  5. 350 : .91:.94\n",
    "  6. 180 : .88:.93\n",
    "- Best C val : 6\n",
    "- Best G val : 0.0015"
   ]
  },
  {
   "cell_type": "markdown",
   "id": "bee227a3",
   "metadata": {
    "id": "bee227a3"
   },
   "source": [
    "# Classification Without SIFT\n",
    "\n",
    "- input: `X, y`\n",
    "- output: -"
   ]
  },
  {
   "cell_type": "markdown",
   "id": "863fce53",
   "metadata": {
    "id": "863fce53"
   },
   "source": [
    "### Image Preprocessing\n",
    "\n",
    "Data should be resized for lower time consumtion training"
   ]
  },
  {
   "cell_type": "code",
   "execution_count": 35,
   "id": "568216c7",
   "metadata": {
    "id": "568216c7"
   },
   "outputs": [],
   "source": [
    "# new_X = X\n",
    "new_X = []\n",
    "\n",
    "for i in range(X.shape[0]) :\n",
    "    new_X.append(equalizing(resizing(X[i], 28)))\n",
    "    \n",
    "new_X = np.array(new_X, dtype=np.uint8)"
   ]
  },
  {
   "cell_type": "markdown",
   "id": "5424a478",
   "metadata": {},
   "source": [
    "### Visualize Result Data"
   ]
  },
  {
   "cell_type": "code",
   "execution_count": 36,
   "id": "63c06f01",
   "metadata": {
    "colab": {
     "base_uri": "https://localhost:8080/",
     "height": 244
    },
    "executionInfo": {
     "elapsed": 974,
     "status": "ok",
     "timestamp": 1648212100155,
     "user": {
      "displayName": "Rama Tri Agung",
      "photoUrl": "https://lh3.googleusercontent.com/a-/AOh14GhO5MpcihqCafTv8Tf9MUwRyHV6tO2uPdiXma2V=s64",
      "userId": "07374601175312417068"
     },
     "user_tz": -420
    },
    "id": "dad58e22",
    "outputId": "f1c45b6a-2a6e-4021-84be-7e734c564a4a"
   },
   "outputs": [
    {
     "data": {
      "image/png": "[encoded data removed]",
      "text/plain": [
       "<Figure size 1152x288 with 8 Axes>"
      ]
     },
     "metadata": {
      "needs_background": "light"
     },
     "output_type": "display_data"
    }
   ],
   "source": [
    "np.random.seed(42)\n",
    "\n",
    "fig = plt.figure(figsize=(16, 4))\n",
    "columns = 8\n",
    "rows = 1\n",
    "for i in range(1, columns*rows + 1):\n",
    "    img = np.array(new_X[np.random.randint(0, new_X.shape[0]), :])\n",
    "    fig.add_subplot(rows, columns, i)\n",
    "    plt.imshow(img, cmap='gray', vmin=0, vmax=255)\n",
    "    plt.axis('off')\n",
    "\n",
    "plt.show()"
   ]
  },
  {
   "cell_type": "markdown",
   "id": "1bb93b08",
   "metadata": {
    "id": "1bb93b08"
   },
   "source": [
    "### Preprocessing"
   ]
  },
  {
   "cell_type": "code",
   "execution_count": 37,
   "id": "90fd017d",
   "metadata": {
    "id": "90fd017d",
    "outputId": "7a63dc19-560c-46b9-c893-6072ff52b961"
   },
   "outputs": [
    {
     "name": "stdout",
     "output_type": "stream",
     "text": [
      "Feature X data dimension: (2940, 784)\n"
     ]
    }
   ],
   "source": [
    "# reshape data\n",
    "X_feature = np.reshape(new_X, (new_X.shape[0], new_X[0].shape[0]*new_X[0].shape[1]))\n",
    "print(\"Feature X data dimension:\", X_feature.shape)"
   ]
  },
  {
   "cell_type": "code",
   "execution_count": 38,
   "id": "e04ace7a",
   "metadata": {
    "id": "e04ace7a",
    "outputId": "fc2ea163-802d-48b7-a13a-34543f0a25f1"
   },
   "outputs": [],
   "source": [
    "# normalization\n",
    "scaler = StandardScaler().fit(X_feature)\n",
    "X_scale = scaler.transform(X_feature)"
   ]
  },
  {
   "cell_type": "markdown",
   "id": "7c56371a",
   "metadata": {},
   "source": [
    "#### Save scaler"
   ]
  },
  {
   "cell_type": "code",
   "execution_count": 39,
   "id": "1ce08895",
   "metadata": {},
   "outputs": [],
   "source": [
    "# Just save normalization function for future used\n",
    "save_file_pickle(SCALER_WOS_FILE_PICKLE)"
   ]
  },
  {
   "cell_type": "code",
   "execution_count": 40,
   "id": "d696176a",
   "metadata": {
    "id": "d696176a"
   },
   "outputs": [
    {
     "name": "stdout",
     "output_type": "stream",
     "text": [
      "Size of training: 2499\n",
      "Size of testing: 441\n"
     ]
    }
   ],
   "source": [
    "# splitting data\n",
    "X_train, X_test, y_train, y_test = train_test_split(X_scale, y, test_size=0.15, random_state=42)\n",
    "\n",
    "print(\"Size of training:\", X_train.shape[0])\n",
    "print(\"Size of testing:\", X_test.shape[0])"
   ]
  },
  {
   "cell_type": "markdown",
   "id": "fe36a378",
   "metadata": {
    "id": "fe36a378"
   },
   "source": [
    "### SVM\n",
    "\n",
    "Using GridSearchCV for tuning parameter, with scenario:\n",
    "- 'C': \\[ 1, 3, 6, 10, 15 \\]\n",
    "- 'gamma': \\[ 'auto', 0.0008, 0.001, 0.0015, 0.0018 \\]\n",
    "    - 'auto' = 1 / nfeatures"
   ]
  },
  {
   "cell_type": "markdown",
   "id": "d03908ae",
   "metadata": {},
   "source": [
    "#### Load model"
   ]
  },
  {
   "cell_type": "code",
   "execution_count": 41,
   "id": "8bee594f",
   "metadata": {},
   "outputs": [],
   "source": [
    "# Just load model without re-training if you want\n",
    "svm_wos = load_file_pickle(SVM_WOS_FILE_PICKLE)"
   ]
  },
  {
   "cell_type": "code",
   "execution_count": 42,
   "id": "698b084d",
   "metadata": {
    "id": "698b084d"
   },
   "outputs": [],
   "source": [
    "svm_wos_params = {\n",
    "    'C': [1, 3, 6, 10, 15],\n",
    "    'gamma': ['auto', 0.0008, 0.001, 0.0015, 0.0018],\n",
    "}\n",
    "svm_wos = GridSearchCV(estimator=SVC(kernel='rbf', probability=True), param_grid=svm_wos_params, cv=5, verbose=3)"
   ]
  },
  {
   "cell_type": "code",
   "execution_count": 43,
   "id": "729b9961",
   "metadata": {
    "id": "729b9961",
    "scrolled": true
   },
   "outputs": [
    {
     "name": "stdout",
     "output_type": "stream",
     "text": [
      "Fitting 5 folds for each of 25 candidates, totalling 125 fits\n",
      "[CV 1/5] END ...................C=1, gamma=auto;, score=0.372 total time=   5.7s\n",
      "[CV 2/5] END ...................C=1, gamma=auto;, score=0.386 total time=   4.5s\n",
      "[CV 3/5] END ...................C=1, gamma=auto;, score=0.354 total time=   7.2s\n",
      "[CV 4/5] END ...................C=1, gamma=auto;, score=0.368 total time=   7.6s\n",
      "[CV 5/5] END ...................C=1, gamma=auto;, score=0.371 total time=   7.8s\n",
      "[CV 1/5] END .................C=1, gamma=0.0008;, score=0.354 total time=   7.0s\n",
      "[CV 2/5] END .................C=1, gamma=0.0008;, score=0.348 total time=   6.5s\n",
      "[CV 3/5] END .................C=1, gamma=0.0008;, score=0.318 total time=   6.3s\n",
      "[CV 4/5] END .................C=1, gamma=0.0008;, score=0.346 total time=   6.5s\n",
      "[CV 5/5] END .................C=1, gamma=0.0008;, score=0.349 total time=   5.5s\n",
      "[CV 1/5] END ..................C=1, gamma=0.001;, score=0.372 total time=   5.9s\n",
      "[CV 2/5] END ..................C=1, gamma=0.001;, score=0.366 total time=   6.5s\n",
      "[CV 3/5] END ..................C=1, gamma=0.001;, score=0.328 total time=   5.4s\n",
      "[CV 4/5] END ..................C=1, gamma=0.001;, score=0.352 total time=   5.4s\n",
      "[CV 5/5] END ..................C=1, gamma=0.001;, score=0.349 total time=   5.7s\n",
      "[CV 1/5] END .................C=1, gamma=0.0015;, score=0.368 total time=   7.7s\n",
      "[CV 2/5] END .................C=1, gamma=0.0015;, score=0.402 total time=   7.2s\n",
      "[CV 3/5] END .................C=1, gamma=0.0015;, score=0.362 total time=   4.0s\n",
      "[CV 4/5] END .................C=1, gamma=0.0015;, score=0.366 total time=   4.4s\n",
      "[CV 5/5] END .................C=1, gamma=0.0015;, score=0.381 total time=   7.3s\n",
      "[CV 1/5] END .................C=1, gamma=0.0018;, score=0.366 total time=   7.3s\n",
      "[CV 2/5] END .................C=1, gamma=0.0018;, score=0.398 total time=   5.7s\n",
      "[CV 3/5] END .................C=1, gamma=0.0018;, score=0.368 total time=   4.7s\n",
      "[CV 4/5] END .................C=1, gamma=0.0018;, score=0.378 total time=   5.9s\n",
      "[CV 5/5] END .................C=1, gamma=0.0018;, score=0.383 total time=   8.6s\n",
      "[CV 1/5] END ...................C=3, gamma=auto;, score=0.458 total time=   8.5s\n",
      "[CV 2/5] END ...................C=3, gamma=auto;, score=0.462 total time=   7.0s\n",
      "[CV 3/5] END ...................C=3, gamma=auto;, score=0.458 total time=   8.5s\n",
      "[CV 4/5] END ...................C=3, gamma=auto;, score=0.448 total time=   7.2s\n",
      "[CV 5/5] END ...................C=3, gamma=auto;, score=0.463 total time=   8.9s\n",
      "[CV 1/5] END .................C=3, gamma=0.0008;, score=0.452 total time=   6.5s\n",
      "[CV 2/5] END .................C=3, gamma=0.0008;, score=0.458 total time=   4.0s\n",
      "[CV 3/5] END .................C=3, gamma=0.0008;, score=0.444 total time=   3.8s\n",
      "[CV 4/5] END .................C=3, gamma=0.0008;, score=0.450 total time=   5.1s\n",
      "[CV 5/5] END .................C=3, gamma=0.0008;, score=0.445 total time=   5.4s\n",
      "[CV 1/5] END ..................C=3, gamma=0.001;, score=0.462 total time=   4.6s\n",
      "[CV 2/5] END ..................C=3, gamma=0.001;, score=0.456 total time=   4.6s\n",
      "[CV 3/5] END ..................C=3, gamma=0.001;, score=0.466 total time=   4.2s\n",
      "[CV 4/5] END ..................C=3, gamma=0.001;, score=0.454 total time=   5.6s\n",
      "[CV 5/5] END ..................C=3, gamma=0.001;, score=0.453 total time=   3.9s\n",
      "[CV 1/5] END .................C=3, gamma=0.0015;, score=0.462 total time=   3.3s\n",
      "[CV 2/5] END .................C=3, gamma=0.0015;, score=0.468 total time=   3.2s\n",
      "[CV 3/5] END .................C=3, gamma=0.0015;, score=0.452 total time=   5.2s\n",
      "[CV 4/5] END .................C=3, gamma=0.0015;, score=0.450 total time=   5.2s\n",
      "[CV 5/5] END .................C=3, gamma=0.0015;, score=0.469 total time=   5.6s\n",
      "[CV 1/5] END .................C=3, gamma=0.0018;, score=0.440 total time=   4.8s\n",
      "[CV 2/5] END .................C=3, gamma=0.0018;, score=0.464 total time=   7.4s\n",
      "[CV 3/5] END .................C=3, gamma=0.0018;, score=0.458 total time=   7.1s\n",
      "[CV 4/5] END .................C=3, gamma=0.0018;, score=0.450 total time=   5.2s\n",
      "[CV 5/5] END .................C=3, gamma=0.0018;, score=0.459 total time=   5.1s\n",
      "[CV 1/5] END ...................C=6, gamma=auto;, score=0.484 total time=   5.7s\n",
      "[CV 2/5] END ...................C=6, gamma=auto;, score=0.466 total time=   4.8s\n",
      "[CV 3/5] END ...................C=6, gamma=auto;, score=0.478 total time=   4.5s\n",
      "[CV 4/5] END ...................C=6, gamma=auto;, score=0.452 total time=   5.3s\n",
      "[CV 5/5] END ...................C=6, gamma=auto;, score=0.475 total time=   5.9s\n",
      "[CV 1/5] END .................C=6, gamma=0.0008;, score=0.464 total time=   5.2s\n",
      "[CV 2/5] END .................C=6, gamma=0.0008;, score=0.460 total time=   6.0s\n",
      "[CV 3/5] END .................C=6, gamma=0.0008;, score=0.464 total time=   5.7s\n",
      "[CV 4/5] END .................C=6, gamma=0.0008;, score=0.464 total time=   5.4s\n",
      "[CV 5/5] END .................C=6, gamma=0.0008;, score=0.481 total time=   5.7s\n",
      "[CV 1/5] END ..................C=6, gamma=0.001;, score=0.478 total time=   6.3s\n",
      "[CV 2/5] END ..................C=6, gamma=0.001;, score=0.464 total time=   5.7s\n",
      "[CV 3/5] END ..................C=6, gamma=0.001;, score=0.470 total time=   5.0s\n",
      "[CV 4/5] END ..................C=6, gamma=0.001;, score=0.462 total time=   4.8s\n",
      "[CV 5/5] END ..................C=6, gamma=0.001;, score=0.479 total time=   5.2s\n",
      "[CV 1/5] END .................C=6, gamma=0.0015;, score=0.482 total time=   4.1s\n",
      "[CV 2/5] END .................C=6, gamma=0.0015;, score=0.470 total time=   3.9s\n",
      "[CV 3/5] END .................C=6, gamma=0.0015;, score=0.468 total time=   4.1s\n",
      "[CV 4/5] END .................C=6, gamma=0.0015;, score=0.462 total time=   4.7s\n",
      "[CV 5/5] END .................C=6, gamma=0.0015;, score=0.479 total time=   4.8s\n",
      "[CV 1/5] END .................C=6, gamma=0.0018;, score=0.468 total time=   4.9s\n",
      "[CV 2/5] END .................C=6, gamma=0.0018;, score=0.452 total time=   4.7s\n",
      "[CV 3/5] END .................C=6, gamma=0.0018;, score=0.452 total time=   3.4s\n",
      "[CV 4/5] END .................C=6, gamma=0.0018;, score=0.452 total time=   4.4s\n",
      "[CV 5/5] END .................C=6, gamma=0.0018;, score=0.473 total time=   4.2s\n",
      "[CV 1/5] END ..................C=10, gamma=auto;, score=0.486 total time=   3.9s\n",
      "[CV 2/5] END ..................C=10, gamma=auto;, score=0.462 total time=   3.9s\n",
      "[CV 3/5] END ..................C=10, gamma=auto;, score=0.474 total time=   3.7s\n",
      "[CV 4/5] END ..................C=10, gamma=auto;, score=0.448 total time=   3.9s\n",
      "[CV 5/5] END ..................C=10, gamma=auto;, score=0.477 total time=   3.8s\n",
      "[CV 1/5] END ................C=10, gamma=0.0008;, score=0.478 total time=   3.4s\n",
      "[CV 2/5] END ................C=10, gamma=0.0008;, score=0.458 total time=   3.7s\n",
      "[CV 3/5] END ................C=10, gamma=0.0008;, score=0.466 total time=   3.4s\n",
      "[CV 4/5] END ................C=10, gamma=0.0008;, score=0.448 total time=   3.5s\n",
      "[CV 5/5] END ................C=10, gamma=0.0008;, score=0.475 total time=   3.5s\n",
      "[CV 1/5] END .................C=10, gamma=0.001;, score=0.488 total time=   3.5s\n",
      "[CV 2/5] END .................C=10, gamma=0.001;, score=0.468 total time=   3.3s\n",
      "[CV 3/5] END .................C=10, gamma=0.001;, score=0.468 total time=   3.7s\n",
      "[CV 4/5] END .................C=10, gamma=0.001;, score=0.452 total time=   3.7s\n",
      "[CV 5/5] END .................C=10, gamma=0.001;, score=0.483 total time=   3.4s\n",
      "[CV 1/5] END ................C=10, gamma=0.0015;, score=0.486 total time=   3.8s\n",
      "[CV 2/5] END ................C=10, gamma=0.0015;, score=0.452 total time=   4.0s\n",
      "[CV 3/5] END ................C=10, gamma=0.0015;, score=0.464 total time=   4.0s\n",
      "[CV 4/5] END ................C=10, gamma=0.0015;, score=0.464 total time=   3.6s\n",
      "[CV 5/5] END ................C=10, gamma=0.0015;, score=0.483 total time=   3.4s\n",
      "[CV 1/5] END ................C=10, gamma=0.0018;, score=0.474 total time=   3.5s\n",
      "[CV 2/5] END ................C=10, gamma=0.0018;, score=0.452 total time=   4.3s\n",
      "[CV 3/5] END ................C=10, gamma=0.0018;, score=0.458 total time=   3.7s\n",
      "[CV 4/5] END ................C=10, gamma=0.0018;, score=0.460 total time=   3.7s\n",
      "[CV 5/5] END ................C=10, gamma=0.0018;, score=0.477 total time=   4.4s\n",
      "[CV 1/5] END ..................C=15, gamma=auto;, score=0.490 total time=   3.8s\n",
      "[CV 2/5] END ..................C=15, gamma=auto;, score=0.462 total time=   3.9s\n",
      "[CV 3/5] END ..................C=15, gamma=auto;, score=0.472 total time=   4.1s\n",
      "[CV 4/5] END ..................C=15, gamma=auto;, score=0.462 total time=   3.3s\n",
      "[CV 5/5] END ..................C=15, gamma=auto;, score=0.477 total time=   3.3s\n",
      "[CV 1/5] END ................C=15, gamma=0.0008;, score=0.482 total time=   3.5s\n",
      "[CV 2/5] END ................C=15, gamma=0.0008;, score=0.448 total time=   3.5s\n",
      "[CV 3/5] END ................C=15, gamma=0.0008;, score=0.458 total time=   3.3s\n",
      "[CV 4/5] END ................C=15, gamma=0.0008;, score=0.450 total time=   3.3s\n",
      "[CV 5/5] END ................C=15, gamma=0.0008;, score=0.469 total time=   3.2s\n",
      "[CV 1/5] END .................C=15, gamma=0.001;, score=0.492 total time=   3.6s\n",
      "[CV 2/5] END .................C=15, gamma=0.001;, score=0.460 total time=   3.9s\n",
      "[CV 3/5] END .................C=15, gamma=0.001;, score=0.464 total time=   3.7s\n",
      "[CV 4/5] END .................C=15, gamma=0.001;, score=0.448 total time=   3.6s\n",
      "[CV 5/5] END .................C=15, gamma=0.001;, score=0.469 total time=   3.9s\n",
      "[CV 1/5] END ................C=15, gamma=0.0015;, score=0.494 total time=   3.9s\n",
      "[CV 2/5] END ................C=15, gamma=0.0015;, score=0.456 total time=   4.1s\n",
      "[CV 3/5] END ................C=15, gamma=0.0015;, score=0.466 total time=   4.0s\n",
      "[CV 4/5] END ................C=15, gamma=0.0015;, score=0.470 total time=   3.6s\n",
      "[CV 5/5] END ................C=15, gamma=0.0015;, score=0.487 total time=   4.1s\n",
      "[CV 1/5] END ................C=15, gamma=0.0018;, score=0.472 total time=   3.8s\n",
      "[CV 2/5] END ................C=15, gamma=0.0018;, score=0.456 total time=   4.4s\n",
      "[CV 3/5] END ................C=15, gamma=0.0018;, score=0.456 total time=   4.1s\n",
      "[CV 4/5] END ................C=15, gamma=0.0018;, score=0.458 total time=   4.2s\n",
      "[CV 5/5] END ................C=15, gamma=0.0018;, score=0.477 total time=   3.9s\n"
     ]
    },
    {
     "data": {
      "text/plain": [
       "GridSearchCV(cv=5, estimator=SVC(),\n",
       "             param_grid={'C': [1, 3, 6, 10, 15],\n",
       "                         'gamma': ['auto', 0.0008, 0.001, 0.0015, 0.0018]},\n",
       "             verbose=3)"
      ]
     },
     "execution_count": 43,
     "metadata": {},
     "output_type": "execute_result"
    }
   ],
   "source": [
    "svm_wos.fit(X_train, y_train)"
   ]
  },
  {
   "cell_type": "code",
   "execution_count": 44,
   "id": "79542ab9",
   "metadata": {
    "id": "79542ab9"
   },
   "outputs": [
    {
     "name": "stdout",
     "output_type": "stream",
     "text": [
      "Best Model: SVC(C=15, gamma=0.0015)\n",
      "Best CV Score: 0.47459478957915835\n"
     ]
    }
   ],
   "source": [
    "print(\"Best Model:\", svm_wos.best_estimator_)\n",
    "print(\"Best CV Score:\", svm_wos.best_score_)"
   ]
  },
  {
   "cell_type": "markdown",
   "id": "87c05632",
   "metadata": {},
   "source": [
    "#### All result score CV from tuning parameter SVM"
   ]
  },
  {
   "cell_type": "code",
   "execution_count": 45,
   "id": "8395f188",
   "metadata": {
    "id": "8395f188",
    "scrolled": true
   },
   "outputs": [
    {
     "data": {
      "text/html": [
       "<div>\n",
       "<style scoped>\n",
       "    .dataframe tbody tr th:only-of-type {\n",
       "        vertical-align: middle;\n",
       "    }\n",
       "\n",
       "    .dataframe tbody tr th {\n",
       "        vertical-align: top;\n",
       "    }\n",
       "\n",
       "    .dataframe thead th {\n",
       "        text-align: right;\n",
       "    }\n",
       "</style>\n",
       "<table border=\"1\" class=\"dataframe\">\n",
       "  <thead>\n",
       "    <tr style=\"text-align: right;\">\n",
       "      <th></th>\n",
       "      <th>params</th>\n",
       "      <th>rank_test_score</th>\n",
       "      <th>mean_test_score</th>\n",
       "      <th>std_test_score</th>\n",
       "    </tr>\n",
       "    <tr>\n",
       "      <th>kernel</th>\n",
       "      <th></th>\n",
       "      <th></th>\n",
       "      <th></th>\n",
       "      <th></th>\n",
       "    </tr>\n",
       "  </thead>\n",
       "  <tbody>\n",
       "    <tr>\n",
       "      <th>15_0.0015</th>\n",
       "      <td>{'C': 15, 'gamma': 0.0015}</td>\n",
       "      <td>1</td>\n",
       "      <td>0.474595</td>\n",
       "      <td>0.013932</td>\n",
       "    </tr>\n",
       "    <tr>\n",
       "      <th>15_auto</th>\n",
       "      <td>{'C': 15, 'gamma': 'auto'}</td>\n",
       "      <td>2</td>\n",
       "      <td>0.472591</td>\n",
       "      <td>0.010457</td>\n",
       "    </tr>\n",
       "    <tr>\n",
       "      <th>6_0.0015</th>\n",
       "      <td>{'C': 6, 'gamma': 0.0015}</td>\n",
       "      <td>3</td>\n",
       "      <td>0.472192</td>\n",
       "      <td>0.007324</td>\n",
       "    </tr>\n",
       "    <tr>\n",
       "      <th>10_0.001</th>\n",
       "      <td>{'C': 10, 'gamma': 0.001}</td>\n",
       "      <td>4</td>\n",
       "      <td>0.471793</td>\n",
       "      <td>0.012712</td>\n",
       "    </tr>\n",
       "    <tr>\n",
       "      <th>6_auto</th>\n",
       "      <td>{'C': 6, 'gamma': 'auto'}</td>\n",
       "      <td>5</td>\n",
       "      <td>0.470990</td>\n",
       "      <td>0.011132</td>\n",
       "    </tr>\n",
       "    <tr>\n",
       "      <th>6_0.001</th>\n",
       "      <td>{'C': 6, 'gamma': 0.001}</td>\n",
       "      <td>6</td>\n",
       "      <td>0.470592</td>\n",
       "      <td>0.006964</td>\n",
       "    </tr>\n",
       "    <tr>\n",
       "      <th>10_0.0015</th>\n",
       "      <td>{'C': 10, 'gamma': 0.0015}</td>\n",
       "      <td>7</td>\n",
       "      <td>0.469793</td>\n",
       "      <td>0.012805</td>\n",
       "    </tr>\n",
       "    <tr>\n",
       "      <th>10_auto</th>\n",
       "      <td>{'C': 10, 'gamma': 'auto'}</td>\n",
       "      <td>8</td>\n",
       "      <td>0.469391</td>\n",
       "      <td>0.013164</td>\n",
       "    </tr>\n",
       "    <tr>\n",
       "      <th>6_0.0008</th>\n",
       "      <td>{'C': 6, 'gamma': 0.0008}</td>\n",
       "      <td>9</td>\n",
       "      <td>0.466592</td>\n",
       "      <td>0.007350</td>\n",
       "    </tr>\n",
       "    <tr>\n",
       "      <th>15_0.001</th>\n",
       "      <td>{'C': 15, 'gamma': 0.001}</td>\n",
       "      <td>10</td>\n",
       "      <td>0.466588</td>\n",
       "      <td>0.014470</td>\n",
       "    </tr>\n",
       "    <tr>\n",
       "      <th>10_0.0008</th>\n",
       "      <td>{'C': 10, 'gamma': 0.0008}</td>\n",
       "      <td>11</td>\n",
       "      <td>0.464990</td>\n",
       "      <td>0.011018</td>\n",
       "    </tr>\n",
       "    <tr>\n",
       "      <th>10_0.0018</th>\n",
       "      <td>{'C': 10, 'gamma': 0.0018}</td>\n",
       "      <td>12</td>\n",
       "      <td>0.464191</td>\n",
       "      <td>0.009629</td>\n",
       "    </tr>\n",
       "    <tr>\n",
       "      <th>15_0.0018</th>\n",
       "      <td>{'C': 15, 'gamma': 0.0018}</td>\n",
       "      <td>13</td>\n",
       "      <td>0.463791</td>\n",
       "      <td>0.008895</td>\n",
       "    </tr>\n",
       "    <tr>\n",
       "      <th>15_0.0008</th>\n",
       "      <td>{'C': 15, 'gamma': 0.0008}</td>\n",
       "      <td>14</td>\n",
       "      <td>0.461388</td>\n",
       "      <td>0.012667</td>\n",
       "    </tr>\n",
       "    <tr>\n",
       "      <th>3_0.0015</th>\n",
       "      <td>{'C': 3, 'gamma': 0.0015}</td>\n",
       "      <td>15</td>\n",
       "      <td>0.460188</td>\n",
       "      <td>0.007896</td>\n",
       "    </tr>\n",
       "    <tr>\n",
       "      <th>6_0.0018</th>\n",
       "      <td>{'C': 6, 'gamma': 0.0018}</td>\n",
       "      <td>16</td>\n",
       "      <td>0.459389</td>\n",
       "      <td>0.009184</td>\n",
       "    </tr>\n",
       "    <tr>\n",
       "      <th>3_0.001</th>\n",
       "      <td>{'C': 3, 'gamma': 0.001}</td>\n",
       "      <td>17</td>\n",
       "      <td>0.458181</td>\n",
       "      <td>0.005016</td>\n",
       "    </tr>\n",
       "    <tr>\n",
       "      <th>3_auto</th>\n",
       "      <td>{'C': 3, 'gamma': 'auto'}</td>\n",
       "      <td>18</td>\n",
       "      <td>0.457785</td>\n",
       "      <td>0.005292</td>\n",
       "    </tr>\n",
       "    <tr>\n",
       "      <th>3_0.0018</th>\n",
       "      <td>{'C': 3, 'gamma': 0.0018}</td>\n",
       "      <td>19</td>\n",
       "      <td>0.454184</td>\n",
       "      <td>0.008391</td>\n",
       "    </tr>\n",
       "    <tr>\n",
       "      <th>3_0.0008</th>\n",
       "      <td>{'C': 3, 'gamma': 0.0008}</td>\n",
       "      <td>20</td>\n",
       "      <td>0.449778</td>\n",
       "      <td>0.005096</td>\n",
       "    </tr>\n",
       "    <tr>\n",
       "      <th>1_0.0018</th>\n",
       "      <td>{'C': 1, 'gamma': 0.0018}</td>\n",
       "      <td>21</td>\n",
       "      <td>0.378553</td>\n",
       "      <td>0.011534</td>\n",
       "    </tr>\n",
       "    <tr>\n",
       "      <th>1_0.0015</th>\n",
       "      <td>{'C': 1, 'gamma': 0.0015}</td>\n",
       "      <td>22</td>\n",
       "      <td>0.375752</td>\n",
       "      <td>0.014549</td>\n",
       "    </tr>\n",
       "    <tr>\n",
       "      <th>1_auto</th>\n",
       "      <td>{'C': 1, 'gamma': 'auto'}</td>\n",
       "      <td>23</td>\n",
       "      <td>0.370148</td>\n",
       "      <td>0.010202</td>\n",
       "    </tr>\n",
       "    <tr>\n",
       "      <th>1_0.001</th>\n",
       "      <td>{'C': 1, 'gamma': 0.001}</td>\n",
       "      <td>24</td>\n",
       "      <td>0.353339</td>\n",
       "      <td>0.015323</td>\n",
       "    </tr>\n",
       "    <tr>\n",
       "      <th>1_0.0008</th>\n",
       "      <td>{'C': 1, 'gamma': 0.0008}</td>\n",
       "      <td>25</td>\n",
       "      <td>0.342939</td>\n",
       "      <td>0.012747</td>\n",
       "    </tr>\n",
       "  </tbody>\n",
       "</table>\n",
       "</div>"
      ],
      "text/plain": [
       "                               params  rank_test_score  mean_test_score  \\\n",
       "kernel                                                                    \n",
       "15_0.0015  {'C': 15, 'gamma': 0.0015}                1         0.474595   \n",
       "15_auto    {'C': 15, 'gamma': 'auto'}                2         0.472591   \n",
       "6_0.0015    {'C': 6, 'gamma': 0.0015}                3         0.472192   \n",
       "10_0.001    {'C': 10, 'gamma': 0.001}                4         0.471793   \n",
       "6_auto      {'C': 6, 'gamma': 'auto'}                5         0.470990   \n",
       "6_0.001      {'C': 6, 'gamma': 0.001}                6         0.470592   \n",
       "10_0.0015  {'C': 10, 'gamma': 0.0015}                7         0.469793   \n",
       "10_auto    {'C': 10, 'gamma': 'auto'}                8         0.469391   \n",
       "6_0.0008    {'C': 6, 'gamma': 0.0008}                9         0.466592   \n",
       "15_0.001    {'C': 15, 'gamma': 0.001}               10         0.466588   \n",
       "10_0.0008  {'C': 10, 'gamma': 0.0008}               11         0.464990   \n",
       "10_0.0018  {'C': 10, 'gamma': 0.0018}               12         0.464191   \n",
       "15_0.0018  {'C': 15, 'gamma': 0.0018}               13         0.463791   \n",
       "15_0.0008  {'C': 15, 'gamma': 0.0008}               14         0.461388   \n",
       "3_0.0015    {'C': 3, 'gamma': 0.0015}               15         0.460188   \n",
       "6_0.0018    {'C': 6, 'gamma': 0.0018}               16         0.459389   \n",
       "3_0.001      {'C': 3, 'gamma': 0.001}               17         0.458181   \n",
       "3_auto      {'C': 3, 'gamma': 'auto'}               18         0.457785   \n",
       "3_0.0018    {'C': 3, 'gamma': 0.0018}               19         0.454184   \n",
       "3_0.0008    {'C': 3, 'gamma': 0.0008}               20         0.449778   \n",
       "1_0.0018    {'C': 1, 'gamma': 0.0018}               21         0.378553   \n",
       "1_0.0015    {'C': 1, 'gamma': 0.0015}               22         0.375752   \n",
       "1_auto      {'C': 1, 'gamma': 'auto'}               23         0.370148   \n",
       "1_0.001      {'C': 1, 'gamma': 0.001}               24         0.353339   \n",
       "1_0.0008    {'C': 1, 'gamma': 0.0008}               25         0.342939   \n",
       "\n",
       "           std_test_score  \n",
       "kernel                     \n",
       "15_0.0015        0.013932  \n",
       "15_auto          0.010457  \n",
       "6_0.0015         0.007324  \n",
       "10_0.001         0.012712  \n",
       "6_auto           0.011132  \n",
       "6_0.001          0.006964  \n",
       "10_0.0015        0.012805  \n",
       "10_auto          0.013164  \n",
       "6_0.0008         0.007350  \n",
       "15_0.001         0.014470  \n",
       "10_0.0008        0.011018  \n",
       "10_0.0018        0.009629  \n",
       "15_0.0018        0.008895  \n",
       "15_0.0008        0.012667  \n",
       "3_0.0015         0.007896  \n",
       "6_0.0018         0.009184  \n",
       "3_0.001          0.005016  \n",
       "3_auto           0.005292  \n",
       "3_0.0018         0.008391  \n",
       "3_0.0008         0.005096  \n",
       "1_0.0018         0.011534  \n",
       "1_0.0015         0.014549  \n",
       "1_auto           0.010202  \n",
       "1_0.001          0.015323  \n",
       "1_0.0008         0.012747  "
      ]
     },
     "execution_count": 45,
     "metadata": {},
     "output_type": "execute_result"
    }
   ],
   "source": [
    "cv_results_df = pd.DataFrame(svm_wos.cv_results_)\n",
    "cv_results_df = cv_results_df.sort_values(by=['rank_test_score'])\n",
    "cv_results_df = (\n",
    "    cv_results_df\n",
    "    .set_index(cv_results_df[\"params\"].apply(\n",
    "        lambda x: \"_\".join(str(val) for val in x.values()))\n",
    "    )\n",
    "    .rename_axis('kernel')\n",
    ")\n",
    "cv_results_df[\n",
    "    ['params', 'rank_test_score', 'mean_test_score', 'std_test_score']\n",
    "]"
   ]
  },
  {
   "cell_type": "markdown",
   "id": "4b85824c",
   "metadata": {},
   "source": [
    "#### Save model"
   ]
  },
  {
   "cell_type": "code",
   "execution_count": 46,
   "id": "d6ceb411",
   "metadata": {},
   "outputs": [],
   "source": [
    "# Just save model for future used\n",
    "save_file_pickle(SVM_WOS_FILE_PICKLE)"
   ]
  },
  {
   "cell_type": "markdown",
   "id": "355a06c4",
   "metadata": {},
   "source": [
    "### Predict Data Testing\n",
    "\n",
    "Using SVC(C=10, gamma=0.0015)"
   ]
  },
  {
   "cell_type": "code",
   "execution_count": 47,
   "id": "036f5044",
   "metadata": {
    "id": "036f5044"
   },
   "outputs": [],
   "source": [
    "y_pred = svm_wos.predict(X_test)"
   ]
  },
  {
   "cell_type": "code",
   "execution_count": null,
   "id": "054cc98c",
   "metadata": {},
   "outputs": [],
   "source": [
    "test = svm_wos.predict_proba(np.reshape(X_test[0], (1, -1)))\n",
    "test"
   ]
  },
  {
   "cell_type": "markdown",
   "id": "850bd0cd",
   "metadata": {},
   "source": [
    "#### Heatmap result predict"
   ]
  },
  {
   "cell_type": "code",
   "execution_count": 48,
   "id": "7a993651",
   "metadata": {},
   "outputs": [
    {
     "data": {
      "image/png": "[encoded data removed]",
      "text/plain": [
       "<Figure size 1224x792 with 1 Axes>"
      ]
     },
     "metadata": {
      "needs_background": "light"
     },
     "output_type": "display_data"
    }
   ],
   "source": [
    "conf_wos = pd.DataFrame(confusion_matrix(y_test, y_pred), columns=hanacaraka, index=hanacaraka)\n",
    "\n",
    "plt.figure(figsize=(17,11))\n",
    "\n",
    "res = sns.heatmap(conf_wos, annot=True, fmt=\"g\", cmap=\"Blues\", cbar=False)\n",
    "res.set_yticklabels(res.get_ymajorticklabels(), fontsize = 14)\n",
    "res.set_xticklabels(res.get_xmajorticklabels(), fontsize = 14)\n",
    "\n",
    "plt.xlabel(\"Predicted\")\n",
    "plt.ylabel(\"Actual\")\n",
    "plt.title(\"Confusion Matrix Plot\")\n",
    "plt.show()"
   ]
  },
  {
   "cell_type": "code",
   "execution_count": 49,
   "id": "56899d27",
   "metadata": {
    "id": "56899d27",
    "outputId": "6e192d60-aea8-41d1-f2fb-0d3f7724b060"
   },
   "outputs": [
    {
     "name": "stdout",
     "output_type": "stream",
     "text": [
      "Classification report result:\n",
      "              precision    recall  f1-score   support\n",
      "\n",
      "          ba       0.41      0.57      0.48        21\n",
      "          ca       0.37      0.38      0.38        26\n",
      "          da       0.45      0.39      0.42        23\n",
      "         dha       0.68      0.54      0.60        28\n",
      "          ga       0.76      0.80      0.78        20\n",
      "          ha       0.40      0.63      0.49        19\n",
      "          ja       0.50      0.46      0.48        13\n",
      "          ka       0.47      0.50      0.48        28\n",
      "          la       0.43      0.36      0.39        25\n",
      "          ma       0.62      0.45      0.53        22\n",
      "          na       0.33      0.35      0.34        20\n",
      "         nga       0.67      0.86      0.75        21\n",
      "         nya       0.51      0.86      0.64        21\n",
      "          pa       0.43      0.50      0.46        18\n",
      "          ra       0.90      0.79      0.84        24\n",
      "          sa       0.43      0.40      0.42        25\n",
      "          ta       0.47      0.28      0.35        25\n",
      "         tha       0.65      0.59      0.62        22\n",
      "          wa       0.35      0.29      0.32        21\n",
      "          ya       0.77      0.53      0.62        19\n",
      "\n",
      "    accuracy                           0.52       441\n",
      "   macro avg       0.53      0.53      0.52       441\n",
      "weighted avg       0.53      0.52      0.52       441\n",
      "\n"
     ]
    }
   ],
   "source": [
    "class_rep_wos = classification_report(y_test, y_pred)\n",
    "\n",
    "print(\"Classification report result:\")\n",
    "print(class_rep_wos)"
   ]
  },
  {
   "cell_type": "markdown",
   "id": "73fb7524",
   "metadata": {},
   "source": [
    "### Result Accuracy Score for SVM without SIFT"
   ]
  },
  {
   "cell_type": "code",
   "execution_count": 50,
   "id": "468eb23b",
   "metadata": {},
   "outputs": [
    {
     "name": "stdout",
     "output_type": "stream",
     "text": [
      "Accuracy score: 0.5215419501133787\n"
     ]
    }
   ],
   "source": [
    "acc_wos = accuracy_score(y_test, y_pred)\n",
    "print(\"Accuracy score:\", acc_wos)"
   ]
  },
  {
   "cell_type": "markdown",
   "id": "bb8002b5",
   "metadata": {},
   "source": [
    "# Note for Result SVM Without WIFT"
   ]
  },
  {
   "cell_type": "markdown",
   "id": "e4cdaef0",
   "metadata": {
    "id": "e4cdaef0"
   },
   "source": [
    "### Result:\n",
    "\n",
    "- Img = (25,25), SVM = 0.57\n",
    "- Img = (28,28), SVM = 0.51\n",
    "- Img = (32,32), SVM = 0.54\n",
    "- Img = (64,64), SVM = 0.45"
   ]
  },
  {
   "cell_type": "markdown",
   "id": "d7a81950",
   "metadata": {
    "id": "fb4ee024"
   },
   "source": [
    "# SVM With SIFT vs SVM Without SIFT Comparison"
   ]
  },
  {
   "cell_type": "code",
   "execution_count": 51,
   "id": "679ade71",
   "metadata": {},
   "outputs": [
    {
     "data": {
      "text/html": [
       "<div>\n",
       "<style scoped>\n",
       "    .dataframe tbody tr th:only-of-type {\n",
       "        vertical-align: middle;\n",
       "    }\n",
       "\n",
       "    .dataframe tbody tr th {\n",
       "        vertical-align: top;\n",
       "    }\n",
       "\n",
       "    .dataframe thead th {\n",
       "        text-align: right;\n",
       "    }\n",
       "</style>\n",
       "<table border=\"1\" class=\"dataframe\">\n",
       "  <thead>\n",
       "    <tr style=\"text-align: right;\">\n",
       "      <th></th>\n",
       "      <th>Model_SVM</th>\n",
       "      <th>Accuracy</th>\n",
       "    </tr>\n",
       "  </thead>\n",
       "  <tbody>\n",
       "    <tr>\n",
       "      <th>0</th>\n",
       "      <td>Without SIFT</td>\n",
       "      <td>0.521542</td>\n",
       "    </tr>\n",
       "    <tr>\n",
       "      <th>1</th>\n",
       "      <td>With SIFT</td>\n",
       "      <td>0.954649</td>\n",
       "    </tr>\n",
       "  </tbody>\n",
       "</table>\n",
       "</div>"
      ],
      "text/plain": [
       "      Model_SVM  Accuracy\n",
       "0  Without SIFT  0.521542\n",
       "1     With SIFT  0.954649"
      ]
     },
     "execution_count": 51,
     "metadata": {},
     "output_type": "execute_result"
    }
   ],
   "source": [
    "compare_df = pd.DataFrame({\"Model_SVM\": [\"Without SIFT\", \"With SIFT\"],\n",
    "                          \"Accuracy\": [acc_wos, acc_ws]})\n",
    "\n",
    "compare_df"
   ]
  },
  {
   "cell_type": "code",
   "execution_count": 52,
   "id": "eb357b2f",
   "metadata": {},
   "outputs": [
    {
     "data": {
      "image/png": "[encoded data removed]",
      "text/plain": [
       "<Figure size 432x360 with 1 Axes>"
      ]
     },
     "metadata": {
      "needs_background": "light"
     },
     "output_type": "display_data"
    }
   ],
   "source": [
    "fig, ax = plt.subplots(figsize=(6, 5))\n",
    "\n",
    "sns.barplot(x = 'Model_SVM',\n",
    "            y = 'Accuracy',\n",
    "            data = compare_df,\n",
    "            ax=ax,\n",
    "            color='yellow')\n",
    "\n",
    "ax.bar_label(ax.containers[-1], fmt='acc:\\n%.2f', label_type='center')\n",
    "ax.set(ylabel='Accuracy', xlabel='Model SVM', title=\"Comparation Accuracy SVM With SIFT vs Without SIFT\")\n",
    "\n",
    "plt.show()"
   ]
  },
  {
   "cell_type": "markdown",
   "id": "0a46bb40",
   "metadata": {},
   "source": [
    "# Predict From Input File"
   ]
  },
  {
   "cell_type": "code",
   "execution_count": 53,
   "id": "eeb0d616",
   "metadata": {},
   "outputs": [
    {
     "data": {
      "application/vnd.jupyter.widget-view+json": {
       "model_id": "cbefa2a79210464e83ffac97f6c310e3",
       "version_major": 2,
       "version_minor": 0
      },
      "text/plain": [
       "Button(description='File select', style=ButtonStyle())"
      ]
     },
     "metadata": {},
     "output_type": "display_data"
    }
   ],
   "source": [
    "from ipywidgets import Button\n",
    "from tkinter import Tk, filedialog\n",
    "from IPython.display import clear_output, display\n",
    "\n",
    "# Load file ==================================================================================\n",
    "def import_image(file) :\n",
    "    image = cv2.imread(file)\n",
    "    image = cv2.bitwise_not(image)\n",
    "    return image\n",
    "# ============================================================================================\n",
    "# Preprocessing Image ========================================================================\n",
    "def equalizing(img):\n",
    "    img = cv2.equalizeHist(img)\n",
    "    return img\n",
    "\n",
    "def grayscaling(image):\n",
    "    image = cv2.cvtColor(image, cv2.COLOR_RGB2GRAY)\n",
    "    return image\n",
    "\n",
    "def resizing(image, size):\n",
    "    image = cv2.resize(image, (size, size), interpolation = cv2.INTER_AREA)\n",
    "    return image\n",
    "\n",
    "def prep_image(image):\n",
    "    img = resizing(image, 128)\n",
    "    img = grayscaling(img)\n",
    "    img = equalizing(img)\n",
    "    return img\n",
    "# ============================================================================================\n",
    "# Feature Extraction =========================================================================\n",
    "def extract_sift_descriptor(image):\n",
    "    sift = cv2.SIFT_create()\n",
    "    _, descriptor = sift.detectAndCompute(image, None)\n",
    "    return descriptor\n",
    "\n",
    "def create_feature_bow(image_descriptor, bow, num_cluster):\n",
    "    features = np.array([0] * num_cluster, dtype=float)\n",
    "\n",
    "    if image_descriptor is not None:\n",
    "        distance = cdist(image_descriptor, bow)\n",
    "        argmin = np.argmin(distance, axis = 1)\n",
    "        \n",
    "        for j in argmin:\n",
    "            features[j] += 1.0\n",
    "\n",
    "    return np.array(features)\n",
    "\n",
    "def extract_feature(image):\n",
    "    img_descriptor = extract_sift_descriptor(image)\n",
    "    \n",
    "    num_cluster = 500\n",
    "    bow = load_file_pickle(BOW_FILE_PICKLE)\n",
    "    \n",
    "    img_feature = create_feature_bow(img_descriptor, bow, num_cluster)\n",
    "    return img_feature\n",
    "# ============================================================================================\n",
    "# Prediction Process =========================================================================\n",
    "def predict_image(feature):\n",
    "    scaler = load_file_pickle(SCALER_WS_FILE_PICKLE)\n",
    "    feature_scale = scaler.transform([feature])\n",
    "    \n",
    "    svm_model = load_file_pickle(SVM_WS_FILE_PICKLE)\n",
    "    result_predict = svm_model.predict(feature_scale)\n",
    "    return result_predict\n",
    "# ============================================================================================\n",
    "# Open widget laod file ======================================================================\n",
    "def select_files(b):\n",
    "    clear_output()\n",
    "    root = Tk()\n",
    "    root.withdraw() \n",
    "    root.call('wm', 'attributes', '.', '-topmost', True)\n",
    "    \n",
    "    b.files = filedialog.askopenfilename(multiple=True) \n",
    "    print(b.files[0])\n",
    "    processing_files(b.files[0])\n",
    "# ============================================================================================\n",
    "# Open widget laod file ======================================================================\n",
    "def processing_files(file):\n",
    "    img = import_image(file)\n",
    "    plt.imshow(img, cmap='gray', vmin=0, vmax=255)\n",
    "    img = prep_image(img)\n",
    "    \n",
    "    img_feature = extract_feature(img)\n",
    "    result_predict = predict_image(img_feature)\n",
    "    print(\"Result Class Prediction :\", result_predict)\n",
    "# ============================================================================================\n",
    "\n",
    "fileselect = Button(description=\"File select\")\n",
    "fileselect.on_click(select_files)\n",
    "\n",
    "display(fileselect)"
   ]
  },
  {
   "cell_type": "code",
   "execution_count": null,
   "id": "1732e305",
   "metadata": {},
   "outputs": [],
   "source": []
  }
 ],
 "metadata": {
  "colab": {
   "collapsed_sections": [
    "863fce53",
    "fe36a378",
    "e4cdaef0"
   ],
   "name": "campuran-SIFT.ipynb",
   "provenance": []
  },
  "interpreter": {
   "hash": "f926a665ec17605cd740381014cbbfd1a55a559b2003ed53df37a047c2ed5e7a"
  },
  "kernelspec": {
   "display_name": "Python 3.7.11 ('skripsi')",
   "language": "python",
   "name": "python3"
  },
  "language_info": {
   "codemirror_mode": {
    "name": "ipython",
    "version": 3
   },
   "file_extension": ".py",
   "mimetype": "text/x-python",
   "name": "python",
   "nbconvert_exporter": "python",
   "pygments_lexer": "ipython3",
   "version": "3.7.11"
  }
 },
 "nbformat": 4,
 "nbformat_minor": 5
}
